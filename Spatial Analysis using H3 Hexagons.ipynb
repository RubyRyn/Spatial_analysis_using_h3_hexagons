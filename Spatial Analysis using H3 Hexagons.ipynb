{
 "cells": [
  {
   "cell_type": "markdown",
   "metadata": {
    "id": "wzheyhiROyqC"
   },
   "source": [
    "### Imports"
   ]
  },
  {
   "cell_type": "code",
   "execution_count": 1,
   "metadata": {
    "colab": {
     "base_uri": "https://localhost:8080/"
    },
    "executionInfo": {
     "elapsed": 135963,
     "status": "ok",
     "timestamp": 1734336645922,
     "user": {
      "displayName": "Nila Ko",
      "userId": "09641442724310039362"
     },
     "user_tz": 480
    },
    "id": "D8RgarjVOyqD",
    "outputId": "7c33474e-3cb0-482d-85d7-3975eaa22e20"
   },
   "outputs": [],
   "source": [
    "import pandas as pd\n",
    "import numpy as np\n",
    "import matplotlib\n",
    "import plotly.graph_objects as go\n",
    "# !pip install h3==3.7.3\n",
    "import h3\n",
    "import folium\n",
    "import json\n",
    "# !pip install geojson\n",
    "import geojson\n",
    "from folium.plugins import HeatMapWithTime\n",
    "import datetime\n",
    "\n",
    "\n",
    "# from google.colab import drive\n",
    "# drive.mount('/content/drive/')"
   ]
  },
  {
   "cell_type": "markdown",
   "metadata": {
    "id": "MgTdELTjOyqE"
   },
   "source": [
    "### Reading datasets"
   ]
  },
  {
   "cell_type": "code",
   "execution_count": 2,
   "metadata": {
    "colab": {
     "base_uri": "https://localhost:8080/"
    },
    "executionInfo": {
     "elapsed": 1767,
     "status": "ok",
     "timestamp": 1734336647597,
     "user": {
      "displayName": "Nila Ko",
      "userId": "09641442724310039362"
     },
     "user_tz": 480
    },
    "id": "tDyIZ1p2OyqE",
    "outputId": "f40a119f-0fd4-40a3-c367-94c8aaa0dea8"
   },
   "outputs": [
    {
     "name": "stdout",
     "output_type": "stream",
     "text": [
      "The shape of offer dataset is:  (334363, 2)\n",
      "The shape of order dataset is:  (10716, 8)\n"
     ]
    }
   ],
   "source": [
    "d_offer = pd.read_csv(\"datasets/data_offers.csv\")\n",
    "d_order = pd.read_csv(\"datasets/data_orders.csv\")\n",
    "\n",
    "# print the shape of offer dataset\n",
    "print(\"The shape of offer dataset is: \", d_offer.shape)\n",
    "\n",
    "# print the shape of order dataset\n",
    "print(\"The shape of order dataset is: \", d_order.shape)\n"
   ]
  },
  {
   "cell_type": "code",
   "execution_count": 3,
   "metadata": {
    "colab": {
     "base_uri": "https://localhost:8080/",
     "height": 206
    },
    "executionInfo": {
     "elapsed": 810,
     "status": "ok",
     "timestamp": 1734336648402,
     "user": {
      "displayName": "Nila Ko",
      "userId": "09641442724310039362"
     },
     "user_tz": 480
    },
    "id": "dQW2OpOX9_RO",
    "outputId": "98d24ba3-c14f-4264-e914-fcb6a910471e"
   },
   "outputs": [
    {
     "data": {
      "text/html": [
       "<div>\n",
       "<style scoped>\n",
       "    .dataframe tbody tr th:only-of-type {\n",
       "        vertical-align: middle;\n",
       "    }\n",
       "\n",
       "    .dataframe tbody tr th {\n",
       "        vertical-align: top;\n",
       "    }\n",
       "\n",
       "    .dataframe thead th {\n",
       "        text-align: right;\n",
       "    }\n",
       "</style>\n",
       "<table border=\"1\" class=\"dataframe\">\n",
       "  <thead>\n",
       "    <tr style=\"text-align: right;\">\n",
       "      <th></th>\n",
       "      <th>order_datetime</th>\n",
       "      <th>origin_longitude</th>\n",
       "      <th>origin_latitude</th>\n",
       "      <th>m_order_eta</th>\n",
       "      <th>order_gk</th>\n",
       "      <th>order_status_key</th>\n",
       "      <th>is_driver_assigned_key</th>\n",
       "      <th>cancellations_time_in_seconds</th>\n",
       "    </tr>\n",
       "  </thead>\n",
       "  <tbody>\n",
       "    <tr>\n",
       "      <th>0</th>\n",
       "      <td>18:08:07</td>\n",
       "      <td>-0.978916</td>\n",
       "      <td>51.456173</td>\n",
       "      <td>60.0</td>\n",
       "      <td>3000583041974</td>\n",
       "      <td>4</td>\n",
       "      <td>1</td>\n",
       "      <td>198.0</td>\n",
       "    </tr>\n",
       "    <tr>\n",
       "      <th>1</th>\n",
       "      <td>20:57:32</td>\n",
       "      <td>-0.950385</td>\n",
       "      <td>51.456843</td>\n",
       "      <td>NaN</td>\n",
       "      <td>3000583116437</td>\n",
       "      <td>4</td>\n",
       "      <td>0</td>\n",
       "      <td>128.0</td>\n",
       "    </tr>\n",
       "    <tr>\n",
       "      <th>2</th>\n",
       "      <td>12:07:50</td>\n",
       "      <td>-0.969520</td>\n",
       "      <td>51.455544</td>\n",
       "      <td>477.0</td>\n",
       "      <td>3000582891479</td>\n",
       "      <td>4</td>\n",
       "      <td>1</td>\n",
       "      <td>46.0</td>\n",
       "    </tr>\n",
       "    <tr>\n",
       "      <th>3</th>\n",
       "      <td>13:50:20</td>\n",
       "      <td>-1.054671</td>\n",
       "      <td>51.460544</td>\n",
       "      <td>658.0</td>\n",
       "      <td>3000582941169</td>\n",
       "      <td>4</td>\n",
       "      <td>1</td>\n",
       "      <td>62.0</td>\n",
       "    </tr>\n",
       "    <tr>\n",
       "      <th>4</th>\n",
       "      <td>21:24:45</td>\n",
       "      <td>-0.967605</td>\n",
       "      <td>51.458236</td>\n",
       "      <td>NaN</td>\n",
       "      <td>3000583140877</td>\n",
       "      <td>9</td>\n",
       "      <td>0</td>\n",
       "      <td>NaN</td>\n",
       "    </tr>\n",
       "  </tbody>\n",
       "</table>\n",
       "</div>"
      ],
      "text/plain": [
       "  order_datetime  origin_longitude  origin_latitude  m_order_eta  \\\n",
       "0       18:08:07         -0.978916        51.456173         60.0   \n",
       "1       20:57:32         -0.950385        51.456843          NaN   \n",
       "2       12:07:50         -0.969520        51.455544        477.0   \n",
       "3       13:50:20         -1.054671        51.460544        658.0   \n",
       "4       21:24:45         -0.967605        51.458236          NaN   \n",
       "\n",
       "        order_gk  order_status_key  is_driver_assigned_key  \\\n",
       "0  3000583041974                 4                       1   \n",
       "1  3000583116437                 4                       0   \n",
       "2  3000582891479                 4                       1   \n",
       "3  3000582941169                 4                       1   \n",
       "4  3000583140877                 9                       0   \n",
       "\n",
       "   cancellations_time_in_seconds  \n",
       "0                          198.0  \n",
       "1                          128.0  \n",
       "2                           46.0  \n",
       "3                           62.0  \n",
       "4                            NaN  "
      ]
     },
     "execution_count": 3,
     "metadata": {},
     "output_type": "execute_result"
    }
   ],
   "source": [
    "d_order.head()"
   ]
  },
  {
   "cell_type": "code",
   "execution_count": 4,
   "metadata": {
    "colab": {
     "base_uri": "https://localhost:8080/",
     "height": 206
    },
    "executionInfo": {
     "elapsed": 19,
     "status": "ok",
     "timestamp": 1734336648403,
     "user": {
      "displayName": "Nila Ko",
      "userId": "09641442724310039362"
     },
     "user_tz": 480
    },
    "id": "uOJw0tmkOyqF",
    "outputId": "974f8d28-9ec4-45fc-d962-f6e86ab3fe3f"
   },
   "outputs": [
    {
     "data": {
      "text/html": [
       "<div>\n",
       "<style scoped>\n",
       "    .dataframe tbody tr th:only-of-type {\n",
       "        vertical-align: middle;\n",
       "    }\n",
       "\n",
       "    .dataframe tbody tr th {\n",
       "        vertical-align: top;\n",
       "    }\n",
       "\n",
       "    .dataframe thead th {\n",
       "        text-align: right;\n",
       "    }\n",
       "</style>\n",
       "<table border=\"1\" class=\"dataframe\">\n",
       "  <thead>\n",
       "    <tr style=\"text-align: right;\">\n",
       "      <th></th>\n",
       "      <th>order_gk</th>\n",
       "      <th>offer_id</th>\n",
       "    </tr>\n",
       "  </thead>\n",
       "  <tbody>\n",
       "    <tr>\n",
       "      <th>244971</th>\n",
       "      <td>3000627481054</td>\n",
       "      <td>300052086404</td>\n",
       "    </tr>\n",
       "    <tr>\n",
       "      <th>236783</th>\n",
       "      <td>3000631282042</td>\n",
       "      <td>300052342376</td>\n",
       "    </tr>\n",
       "    <tr>\n",
       "      <th>22714</th>\n",
       "      <td>3000624367715</td>\n",
       "      <td>300051909011</td>\n",
       "    </tr>\n",
       "    <tr>\n",
       "      <th>306983</th>\n",
       "      <td>3000557436646</td>\n",
       "      <td>300050769980</td>\n",
       "    </tr>\n",
       "    <tr>\n",
       "      <th>170256</th>\n",
       "      <td>3000588131807</td>\n",
       "      <td>300051201442</td>\n",
       "    </tr>\n",
       "  </tbody>\n",
       "</table>\n",
       "</div>"
      ],
      "text/plain": [
       "             order_gk      offer_id\n",
       "244971  3000627481054  300052086404\n",
       "236783  3000631282042  300052342376\n",
       "22714   3000624367715  300051909011\n",
       "306983  3000557436646  300050769980\n",
       "170256  3000588131807  300051201442"
      ]
     },
     "metadata": {},
     "output_type": "display_data"
    }
   ],
   "source": [
    "display(d_offer.sample(5, random_state=42))"
   ]
  },
  {
   "cell_type": "code",
   "execution_count": 5,
   "metadata": {
    "colab": {
     "base_uri": "https://localhost:8080/",
     "height": 206
    },
    "executionInfo": {
     "elapsed": 17,
     "status": "ok",
     "timestamp": 1734336648404,
     "user": {
      "displayName": "Nila Ko",
      "userId": "09641442724310039362"
     },
     "user_tz": 480
    },
    "id": "dJeBqQsCOyqF",
    "outputId": "79df23a0-9dee-4dfe-d963-aef7cd114d9f"
   },
   "outputs": [
    {
     "data": {
      "text/html": [
       "<div>\n",
       "<style scoped>\n",
       "    .dataframe tbody tr th:only-of-type {\n",
       "        vertical-align: middle;\n",
       "    }\n",
       "\n",
       "    .dataframe tbody tr th {\n",
       "        vertical-align: top;\n",
       "    }\n",
       "\n",
       "    .dataframe thead th {\n",
       "        text-align: right;\n",
       "    }\n",
       "</style>\n",
       "<table border=\"1\" class=\"dataframe\">\n",
       "  <thead>\n",
       "    <tr style=\"text-align: right;\">\n",
       "      <th></th>\n",
       "      <th>order_datetime</th>\n",
       "      <th>origin_longitude</th>\n",
       "      <th>origin_latitude</th>\n",
       "      <th>m_order_eta</th>\n",
       "      <th>order_gk</th>\n",
       "      <th>order_status_key</th>\n",
       "      <th>is_driver_assigned_key</th>\n",
       "      <th>cancellations_time_in_seconds</th>\n",
       "    </tr>\n",
       "  </thead>\n",
       "  <tbody>\n",
       "    <tr>\n",
       "      <th>10309</th>\n",
       "      <td>00:29:14</td>\n",
       "      <td>-0.966062</td>\n",
       "      <td>51.454821</td>\n",
       "      <td>NaN</td>\n",
       "      <td>3000555146103</td>\n",
       "      <td>4</td>\n",
       "      <td>0</td>\n",
       "      <td>44.0</td>\n",
       "    </tr>\n",
       "    <tr>\n",
       "      <th>6705</th>\n",
       "      <td>01:28:45</td>\n",
       "      <td>-0.970472</td>\n",
       "      <td>51.456725</td>\n",
       "      <td>NaN</td>\n",
       "      <td>3000595870644</td>\n",
       "      <td>4</td>\n",
       "      <td>0</td>\n",
       "      <td>121.0</td>\n",
       "    </tr>\n",
       "    <tr>\n",
       "      <th>304</th>\n",
       "      <td>08:22:36</td>\n",
       "      <td>-0.916708</td>\n",
       "      <td>51.439852</td>\n",
       "      <td>NaN</td>\n",
       "      <td>3000627783633</td>\n",
       "      <td>9</td>\n",
       "      <td>0</td>\n",
       "      <td>NaN</td>\n",
       "    </tr>\n",
       "    <tr>\n",
       "      <th>9143</th>\n",
       "      <td>07:32:27</td>\n",
       "      <td>-0.955580</td>\n",
       "      <td>51.453493</td>\n",
       "      <td>1078.0</td>\n",
       "      <td>3000622140805</td>\n",
       "      <td>4</td>\n",
       "      <td>1</td>\n",
       "      <td>1017.0</td>\n",
       "    </tr>\n",
       "    <tr>\n",
       "      <th>10593</th>\n",
       "      <td>04:39:55</td>\n",
       "      <td>-0.946358</td>\n",
       "      <td>51.439779</td>\n",
       "      <td>NaN</td>\n",
       "      <td>3000554645524</td>\n",
       "      <td>4</td>\n",
       "      <td>0</td>\n",
       "      <td>121.0</td>\n",
       "    </tr>\n",
       "  </tbody>\n",
       "</table>\n",
       "</div>"
      ],
      "text/plain": [
       "      order_datetime  origin_longitude  origin_latitude  m_order_eta  \\\n",
       "10309       00:29:14         -0.966062        51.454821          NaN   \n",
       "6705        01:28:45         -0.970472        51.456725          NaN   \n",
       "304         08:22:36         -0.916708        51.439852          NaN   \n",
       "9143        07:32:27         -0.955580        51.453493       1078.0   \n",
       "10593       04:39:55         -0.946358        51.439779          NaN   \n",
       "\n",
       "            order_gk  order_status_key  is_driver_assigned_key  \\\n",
       "10309  3000555146103                 4                       0   \n",
       "6705   3000595870644                 4                       0   \n",
       "304    3000627783633                 9                       0   \n",
       "9143   3000622140805                 4                       1   \n",
       "10593  3000554645524                 4                       0   \n",
       "\n",
       "       cancellations_time_in_seconds  \n",
       "10309                           44.0  \n",
       "6705                           121.0  \n",
       "304                              NaN  \n",
       "9143                          1017.0  \n",
       "10593                          121.0  "
      ]
     },
     "metadata": {},
     "output_type": "display_data"
    }
   ],
   "source": [
    "display(d_order.sample(5,random_state=42))"
   ]
  },
  {
   "cell_type": "code",
   "execution_count": 6,
   "metadata": {
    "colab": {
     "base_uri": "https://localhost:8080/"
    },
    "executionInfo": {
     "elapsed": 817,
     "status": "ok",
     "timestamp": 1734336649207,
     "user": {
      "displayName": "Nila Ko",
      "userId": "09641442724310039362"
     },
     "user_tz": 480
    },
    "id": "zkFAk4WPOyqF",
    "outputId": "35782947-823b-44d8-9965-b80b295ca87a"
   },
   "outputs": [
    {
     "name": "stderr",
     "output_type": "stream",
     "text": [
      "C:\\Users\\Lenovo\\AppData\\Local\\Temp\\ipykernel_8284\\568184729.py:2: UserWarning: Could not infer format, so each element will be parsed individually, falling back to `dateutil`. To ensure parsing is consistent and as-expected, please specify a format.\n",
      "  d_order.order_datetime = pd.to_datetime(d_order.order_datetime)\n"
     ]
    }
   ],
   "source": [
    "# change order_datetime into datetime format\n",
    "d_order.order_datetime = pd.to_datetime(d_order.order_datetime)"
   ]
  },
  {
   "cell_type": "code",
   "execution_count": 7,
   "metadata": {
    "colab": {
     "base_uri": "https://localhost:8080/",
     "height": 242
    },
    "executionInfo": {
     "elapsed": 17,
     "status": "ok",
     "timestamp": 1734336649209,
     "user": {
      "displayName": "Nila Ko",
      "userId": "09641442724310039362"
     },
     "user_tz": 480
    },
    "id": "LBeKNg-cOyqF",
    "outputId": "45733b6a-e1fa-499c-ccf6-a395a4f02182"
   },
   "outputs": [
    {
     "name": "stdout",
     "output_type": "stream",
     "text": [
      "Shape of dataset : 10716\n",
      "Number of unique orders : 10716\n"
     ]
    },
    {
     "data": {
      "text/html": [
       "<div>\n",
       "<style scoped>\n",
       "    .dataframe tbody tr th:only-of-type {\n",
       "        vertical-align: middle;\n",
       "    }\n",
       "\n",
       "    .dataframe tbody tr th {\n",
       "        vertical-align: top;\n",
       "    }\n",
       "\n",
       "    .dataframe thead th {\n",
       "        text-align: right;\n",
       "    }\n",
       "</style>\n",
       "<table border=\"1\" class=\"dataframe\">\n",
       "  <thead>\n",
       "    <tr style=\"text-align: right;\">\n",
       "      <th></th>\n",
       "      <th>order_datetime</th>\n",
       "      <th>origin_longitude</th>\n",
       "      <th>origin_latitude</th>\n",
       "      <th>m_order_eta</th>\n",
       "      <th>order_gk</th>\n",
       "      <th>order_status_key</th>\n",
       "      <th>is_driver_assigned_key</th>\n",
       "      <th>time_b4_cancellation</th>\n",
       "    </tr>\n",
       "  </thead>\n",
       "  <tbody>\n",
       "    <tr>\n",
       "      <th>0</th>\n",
       "      <td>2025-01-31 18:08:07</td>\n",
       "      <td>-0.978916</td>\n",
       "      <td>51.456173</td>\n",
       "      <td>60.0</td>\n",
       "      <td>3000583041974</td>\n",
       "      <td>4</td>\n",
       "      <td>1</td>\n",
       "      <td>198.0</td>\n",
       "    </tr>\n",
       "    <tr>\n",
       "      <th>1</th>\n",
       "      <td>2025-01-31 20:57:32</td>\n",
       "      <td>-0.950385</td>\n",
       "      <td>51.456843</td>\n",
       "      <td>NaN</td>\n",
       "      <td>3000583116437</td>\n",
       "      <td>4</td>\n",
       "      <td>0</td>\n",
       "      <td>128.0</td>\n",
       "    </tr>\n",
       "    <tr>\n",
       "      <th>2</th>\n",
       "      <td>2025-01-31 12:07:50</td>\n",
       "      <td>-0.969520</td>\n",
       "      <td>51.455544</td>\n",
       "      <td>477.0</td>\n",
       "      <td>3000582891479</td>\n",
       "      <td>4</td>\n",
       "      <td>1</td>\n",
       "      <td>46.0</td>\n",
       "    </tr>\n",
       "    <tr>\n",
       "      <th>3</th>\n",
       "      <td>2025-01-31 13:50:20</td>\n",
       "      <td>-1.054671</td>\n",
       "      <td>51.460544</td>\n",
       "      <td>658.0</td>\n",
       "      <td>3000582941169</td>\n",
       "      <td>4</td>\n",
       "      <td>1</td>\n",
       "      <td>62.0</td>\n",
       "    </tr>\n",
       "    <tr>\n",
       "      <th>4</th>\n",
       "      <td>2025-01-31 21:24:45</td>\n",
       "      <td>-0.967605</td>\n",
       "      <td>51.458236</td>\n",
       "      <td>NaN</td>\n",
       "      <td>3000583140877</td>\n",
       "      <td>9</td>\n",
       "      <td>0</td>\n",
       "      <td>NaN</td>\n",
       "    </tr>\n",
       "  </tbody>\n",
       "</table>\n",
       "</div>"
      ],
      "text/plain": [
       "       order_datetime  origin_longitude  origin_latitude  m_order_eta  \\\n",
       "0 2025-01-31 18:08:07         -0.978916        51.456173         60.0   \n",
       "1 2025-01-31 20:57:32         -0.950385        51.456843          NaN   \n",
       "2 2025-01-31 12:07:50         -0.969520        51.455544        477.0   \n",
       "3 2025-01-31 13:50:20         -1.054671        51.460544        658.0   \n",
       "4 2025-01-31 21:24:45         -0.967605        51.458236          NaN   \n",
       "\n",
       "        order_gk  order_status_key  is_driver_assigned_key  \\\n",
       "0  3000583041974                 4                       1   \n",
       "1  3000583116437                 4                       0   \n",
       "2  3000582891479                 4                       1   \n",
       "3  3000582941169                 4                       1   \n",
       "4  3000583140877                 9                       0   \n",
       "\n",
       "   time_b4_cancellation  \n",
       "0                 198.0  \n",
       "1                 128.0  \n",
       "2                  46.0  \n",
       "3                  62.0  \n",
       "4                   NaN  "
      ]
     },
     "metadata": {},
     "output_type": "display_data"
    }
   ],
   "source": [
    "print(f\"Shape of dataset : {d_order.shape[0]}\")\n",
    "\n",
    "print(f\"Number of unique orders : {d_order['order_gk'].nunique()}\")\n",
    "\n",
    "# rename m_order_eta as t_b4_order_arrival, cancellations_time_in_seconds as time_b4_cancellation\n",
    "d_order.rename(columns={'cancellations_time_in_seconds':'time_b4_cancellation'}, inplace=True)\n",
    "\n",
    "display(d_order.head())"
   ]
  },
  {
   "cell_type": "markdown",
   "metadata": {
    "id": "Re-DNW0qOyqG"
   },
   "source": [
    "#### Data Integrity Checking and Cleaning"
   ]
  },
  {
   "cell_type": "code",
   "execution_count": 8,
   "metadata": {
    "colab": {
     "base_uri": "https://localhost:8080/"
    },
    "executionInfo": {
     "elapsed": 152,
     "status": "ok",
     "timestamp": 1734336649349,
     "user": {
      "displayName": "Nila Ko",
      "userId": "09641442724310039362"
     },
     "user_tz": 480
    },
    "id": "btVbYeUlOyqG",
    "outputId": "7c1944c1-5d7c-4ea5-bb00-cd18645008c9"
   },
   "outputs": [
    {
     "name": "stdout",
     "output_type": "stream",
     "text": [
      "<class 'pandas.core.frame.DataFrame'>\n",
      "RangeIndex: 10716 entries, 0 to 10715\n",
      "Data columns (total 8 columns):\n",
      " #   Column                  Non-Null Count  Dtype         \n",
      "---  ------                  --------------  -----         \n",
      " 0   order_datetime          10716 non-null  datetime64[ns]\n",
      " 1   origin_longitude        10716 non-null  float64       \n",
      " 2   origin_latitude         10716 non-null  float64       \n",
      " 3   m_order_eta             2814 non-null   float64       \n",
      " 4   order_gk                10716 non-null  int64         \n",
      " 5   order_status_key        10716 non-null  int64         \n",
      " 6   is_driver_assigned_key  10716 non-null  int64         \n",
      " 7   time_b4_cancellation    7307 non-null   float64       \n",
      "dtypes: datetime64[ns](1), float64(4), int64(3)\n",
      "memory usage: 669.9 KB\n",
      "None\n"
     ]
    }
   ],
   "source": [
    "print(d_order.info())"
   ]
  },
  {
   "cell_type": "code",
   "execution_count": 9,
   "metadata": {
    "colab": {
     "base_uri": "https://localhost:8080/"
    },
    "executionInfo": {
     "elapsed": 20,
     "status": "ok",
     "timestamp": 1734336649349,
     "user": {
      "displayName": "Nila Ko",
      "userId": "09641442724310039362"
     },
     "user_tz": 480
    },
    "id": "B6acytuPOyqG",
    "outputId": "f914c92c-5dfa-47c8-8739-90f0f9548f23"
   },
   "outputs": [
    {
     "name": "stdout",
     "output_type": "stream",
     "text": [
      "<class 'pandas.core.frame.DataFrame'>\n",
      "RangeIndex: 334363 entries, 0 to 334362\n",
      "Data columns (total 2 columns):\n",
      " #   Column    Non-Null Count   Dtype\n",
      "---  ------    --------------   -----\n",
      " 0   order_gk  334363 non-null  int64\n",
      " 1   offer_id  334363 non-null  int64\n",
      "dtypes: int64(2)\n",
      "memory usage: 5.1 MB\n",
      "None\n"
     ]
    }
   ],
   "source": [
    "print(d_offer.info())"
   ]
  },
  {
   "cell_type": "code",
   "execution_count": 10,
   "metadata": {
    "colab": {
     "base_uri": "https://localhost:8080/"
    },
    "executionInfo": {
     "elapsed": 14,
     "status": "ok",
     "timestamp": 1734336649350,
     "user": {
      "displayName": "Nila Ko",
      "userId": "09641442724310039362"
     },
     "user_tz": 480
    },
    "id": "QzZb2dUkOyqG",
    "outputId": "a973ab36-9ce1-466f-8115-9efb70ec3319"
   },
   "outputs": [
    {
     "name": "stdout",
     "output_type": "stream",
     "text": [
      "order_datetime            0.000000\n",
      "origin_longitude          0.000000\n",
      "origin_latitude           0.000000\n",
      "m_order_eta               0.737402\n",
      "order_gk                  0.000000\n",
      "order_status_key          0.000000\n",
      "is_driver_assigned_key    0.000000\n",
      "time_b4_cancellation      0.318122\n",
      "dtype: float64\n"
     ]
    }
   ],
   "source": [
    "print(d_order.isnull().sum()/d_order.shape[0])"
   ]
  },
  {
   "cell_type": "code",
   "execution_count": 11,
   "metadata": {
    "colab": {
     "base_uri": "https://localhost:8080/"
    },
    "executionInfo": {
     "elapsed": 140,
     "status": "ok",
     "timestamp": 1734336649482,
     "user": {
      "displayName": "Nila Ko",
      "userId": "09641442724310039362"
     },
     "user_tz": 480
    },
    "id": "NaN2wVYwOyqG",
    "outputId": "c74e515d-7be4-436d-9ee5-75f160bd5bda"
   },
   "outputs": [
    {
     "name": "stdout",
     "output_type": "stream",
     "text": [
      "order_gk    0.0\n",
      "offer_id    0.0\n",
      "dtype: float64\n"
     ]
    }
   ],
   "source": [
    "print(d_offer.isnull().sum()/d_offer.shape[0])"
   ]
  },
  {
   "cell_type": "markdown",
   "metadata": {
    "id": "Gncs7iaoOyqG"
   },
   "source": [
    "Order dataset contains some null value."
   ]
  },
  {
   "cell_type": "code",
   "execution_count": 12,
   "metadata": {
    "colab": {
     "base_uri": "https://localhost:8080/",
     "height": 0
    },
    "executionInfo": {
     "elapsed": 8,
     "status": "ok",
     "timestamp": 1734336649482,
     "user": {
      "displayName": "Nila Ko",
      "userId": "09641442724310039362"
     },
     "user_tz": 480
    },
    "id": "qlxmBIbvOyqG",
    "outputId": "6f277696-5daa-48b3-9ba0-3e5080cab89a"
   },
   "outputs": [
    {
     "data": {
      "text/html": [
       "<div>\n",
       "<style scoped>\n",
       "    .dataframe tbody tr th:only-of-type {\n",
       "        vertical-align: middle;\n",
       "    }\n",
       "\n",
       "    .dataframe tbody tr th {\n",
       "        vertical-align: top;\n",
       "    }\n",
       "\n",
       "    .dataframe thead th {\n",
       "        text-align: right;\n",
       "    }\n",
       "</style>\n",
       "<table border=\"1\" class=\"dataframe\">\n",
       "  <thead>\n",
       "    <tr style=\"text-align: right;\">\n",
       "      <th></th>\n",
       "      <th>order_datetime</th>\n",
       "      <th>origin_longitude</th>\n",
       "      <th>origin_latitude</th>\n",
       "      <th>m_order_eta</th>\n",
       "      <th>order_gk</th>\n",
       "      <th>order_status_key</th>\n",
       "      <th>is_driver_assigned_key</th>\n",
       "      <th>time_b4_cancellation</th>\n",
       "    </tr>\n",
       "  </thead>\n",
       "  <tbody>\n",
       "    <tr>\n",
       "      <th>1</th>\n",
       "      <td>2025-01-31 20:57:32</td>\n",
       "      <td>-0.950385</td>\n",
       "      <td>51.456843</td>\n",
       "      <td>NaN</td>\n",
       "      <td>3000583116437</td>\n",
       "      <td>4</td>\n",
       "      <td>0</td>\n",
       "      <td>128.0</td>\n",
       "    </tr>\n",
       "    <tr>\n",
       "      <th>4</th>\n",
       "      <td>2025-01-31 21:24:45</td>\n",
       "      <td>-0.967605</td>\n",
       "      <td>51.458236</td>\n",
       "      <td>NaN</td>\n",
       "      <td>3000583140877</td>\n",
       "      <td>9</td>\n",
       "      <td>0</td>\n",
       "      <td>NaN</td>\n",
       "    </tr>\n",
       "    <tr>\n",
       "      <th>5</th>\n",
       "      <td>2025-01-31 21:21:23</td>\n",
       "      <td>-0.947011</td>\n",
       "      <td>51.456380</td>\n",
       "      <td>NaN</td>\n",
       "      <td>3000583117054</td>\n",
       "      <td>9</td>\n",
       "      <td>0</td>\n",
       "      <td>NaN</td>\n",
       "    </tr>\n",
       "    <tr>\n",
       "      <th>6</th>\n",
       "      <td>2025-01-31 07:58:15</td>\n",
       "      <td>-0.955637</td>\n",
       "      <td>51.470372</td>\n",
       "      <td>NaN</td>\n",
       "      <td>3000582791789</td>\n",
       "      <td>9</td>\n",
       "      <td>0</td>\n",
       "      <td>NaN</td>\n",
       "    </tr>\n",
       "    <tr>\n",
       "      <th>7</th>\n",
       "      <td>2025-01-31 07:53:46</td>\n",
       "      <td>-0.978230</td>\n",
       "      <td>51.454575</td>\n",
       "      <td>NaN</td>\n",
       "      <td>3000582791562</td>\n",
       "      <td>9</td>\n",
       "      <td>0</td>\n",
       "      <td>NaN</td>\n",
       "    </tr>\n",
       "  </tbody>\n",
       "</table>\n",
       "</div>"
      ],
      "text/plain": [
       "       order_datetime  origin_longitude  origin_latitude  m_order_eta  \\\n",
       "1 2025-01-31 20:57:32         -0.950385        51.456843          NaN   \n",
       "4 2025-01-31 21:24:45         -0.967605        51.458236          NaN   \n",
       "5 2025-01-31 21:21:23         -0.947011        51.456380          NaN   \n",
       "6 2025-01-31 07:58:15         -0.955637        51.470372          NaN   \n",
       "7 2025-01-31 07:53:46         -0.978230        51.454575          NaN   \n",
       "\n",
       "        order_gk  order_status_key  is_driver_assigned_key  \\\n",
       "1  3000583116437                 4                       0   \n",
       "4  3000583140877                 9                       0   \n",
       "5  3000583117054                 9                       0   \n",
       "6  3000582791789                 9                       0   \n",
       "7  3000582791562                 9                       0   \n",
       "\n",
       "   time_b4_cancellation  \n",
       "1                 128.0  \n",
       "4                   NaN  \n",
       "5                   NaN  \n",
       "6                   NaN  \n",
       "7                   NaN  "
      ]
     },
     "execution_count": 12,
     "metadata": {},
     "output_type": "execute_result"
    }
   ],
   "source": [
    "d_order[d_order.m_order_eta.isnull() | d_order.time_b4_cancellation.isnull()].head()"
   ]
  },
  {
   "cell_type": "code",
   "execution_count": 13,
   "metadata": {
    "colab": {
     "base_uri": "https://localhost:8080/"
    },
    "executionInfo": {
     "elapsed": 15,
     "status": "ok",
     "timestamp": 1734336649652,
     "user": {
      "displayName": "Nila Ko",
      "userId": "09641442724310039362"
     },
     "user_tz": 480
    },
    "id": "VEaoMT02OyqH",
    "outputId": "ce6581bb-7ab4-4d80-ca68-697347607ace"
   },
   "outputs": [
    {
     "name": "stdout",
     "output_type": "stream",
     "text": [
      "6    order_gk\n",
      "dtype: object\n"
     ]
    }
   ],
   "source": [
    "# common columns in both datasets\n",
    "all_columns = pd.Series(list(d_offer)+list(d_order))\n",
    "print(all_columns[all_columns.duplicated()])"
   ]
  },
  {
   "cell_type": "markdown",
   "metadata": {
    "id": "UGHnjqrMOyqH"
   },
   "source": [
    "### Offers and Orders"
   ]
  },
  {
   "cell_type": "code",
   "execution_count": 14,
   "metadata": {
    "colab": {
     "base_uri": "https://localhost:8080/"
    },
    "executionInfo": {
     "elapsed": 154,
     "status": "ok",
     "timestamp": 1734336649798,
     "user": {
      "displayName": "Nila Ko",
      "userId": "09641442724310039362"
     },
     "user_tz": 480
    },
    "id": "s4dRo-k7OyqH",
    "outputId": "d01371b8-c049-4a3c-d529-3a6b7f8ed24a"
   },
   "outputs": [
    {
     "name": "stdout",
     "output_type": "stream",
     "text": [
      "The shape of order dataset is:  (10716, 8)\n",
      "The shape of offer dataset is:  (334363, 2)\n",
      "The shape of merged dataset is:  (31268, 10)\n"
     ]
    }
   ],
   "source": [
    "print(\"The shape of order dataset is: \", d_order.shape)\n",
    "print(\"The shape of offer dataset is: \", d_offer.shape)\n",
    "df = pd.merge(d_order, d_offer, on='order_gk', how='inner', indicator=True)\n",
    "print(\"The shape of merged dataset is: \", df.shape)"
   ]
  },
  {
   "cell_type": "code",
   "execution_count": 15,
   "metadata": {
    "executionInfo": {
     "elapsed": 5,
     "status": "ok",
     "timestamp": 1734336649798,
     "user": {
      "displayName": "Nila Ko",
      "userId": "09641442724310039362"
     },
     "user_tz": 480
    },
    "id": "DeS2S6ymOyqH"
   },
   "outputs": [],
   "source": [
    "df['order_status_key'] = np.where(df['order_status_key']==4,'Cancelled_by_client','Rejected_by_system')"
   ]
  },
  {
   "cell_type": "code",
   "execution_count": 16,
   "metadata": {
    "executionInfo": {
     "elapsed": 153,
     "status": "ok",
     "timestamp": 1734336649947,
     "user": {
      "displayName": "Nila Ko",
      "userId": "09641442724310039362"
     },
     "user_tz": 480
    },
    "id": "YKvKquZyOyqH"
   },
   "outputs": [],
   "source": [
    "cols = {'order_datetime':'order_time',\n",
    "        'origin_longitude':'longitude',\n",
    "        'origin_latitude':'latitude',\n",
    "         'm_order_eta':'ETA',\n",
    "         'order_gk':'order_id',\n",
    "         'order_status_key':'order_status',\n",
    "         'is_driver_assigned_key':'is_driver_assigned',\n",
    "        'cancellations_time_in_seconds':'cancellation_time'}\n",
    "\n",
    "df.rename(columns=cols,inplace=True)"
   ]
  },
  {
   "cell_type": "code",
   "execution_count": 17,
   "metadata": {
    "colab": {
     "base_uri": "https://localhost:8080/",
     "height": 0
    },
    "executionInfo": {
     "elapsed": 15,
     "status": "ok",
     "timestamp": 1734336649949,
     "user": {
      "displayName": "Nila Ko",
      "userId": "09641442724310039362"
     },
     "user_tz": 480
    },
    "id": "HKzD95vROyqH",
    "outputId": "b192265c-aad7-46de-f551-8c9258df899b"
   },
   "outputs": [
    {
     "data": {
      "text/html": [
       "<div>\n",
       "<style scoped>\n",
       "    .dataframe tbody tr th:only-of-type {\n",
       "        vertical-align: middle;\n",
       "    }\n",
       "\n",
       "    .dataframe tbody tr th {\n",
       "        vertical-align: top;\n",
       "    }\n",
       "\n",
       "    .dataframe thead th {\n",
       "        text-align: right;\n",
       "    }\n",
       "</style>\n",
       "<table border=\"1\" class=\"dataframe\">\n",
       "  <thead>\n",
       "    <tr style=\"text-align: right;\">\n",
       "      <th></th>\n",
       "      <th>order_time</th>\n",
       "      <th>longitude</th>\n",
       "      <th>latitude</th>\n",
       "      <th>ETA</th>\n",
       "      <th>order_id</th>\n",
       "      <th>order_status</th>\n",
       "      <th>is_driver_assigned</th>\n",
       "      <th>time_b4_cancellation</th>\n",
       "      <th>offer_id</th>\n",
       "      <th>_merge</th>\n",
       "    </tr>\n",
       "  </thead>\n",
       "  <tbody>\n",
       "    <tr>\n",
       "      <th>30194</th>\n",
       "      <td>2025-01-31 21:15:35</td>\n",
       "      <td>-0.969588</td>\n",
       "      <td>51.455780</td>\n",
       "      <td>299.0</td>\n",
       "      <td>3000555697076</td>\n",
       "      <td>Cancelled_by_client</td>\n",
       "      <td>1</td>\n",
       "      <td>223.0</td>\n",
       "      <td>300050725946</td>\n",
       "      <td>both</td>\n",
       "    </tr>\n",
       "    <tr>\n",
       "      <th>14748</th>\n",
       "      <td>2025-01-31 10:13:35</td>\n",
       "      <td>-0.955958</td>\n",
       "      <td>51.430362</td>\n",
       "      <td>NaN</td>\n",
       "      <td>3000626091676</td>\n",
       "      <td>Cancelled_by_client</td>\n",
       "      <td>0</td>\n",
       "      <td>91.0</td>\n",
       "      <td>300052014519</td>\n",
       "      <td>both</td>\n",
       "    </tr>\n",
       "    <tr>\n",
       "      <th>29083</th>\n",
       "      <td>2025-01-31 09:16:38</td>\n",
       "      <td>-1.033560</td>\n",
       "      <td>51.441967</td>\n",
       "      <td>NaN</td>\n",
       "      <td>3000594099225</td>\n",
       "      <td>Cancelled_by_client</td>\n",
       "      <td>0</td>\n",
       "      <td>68.0</td>\n",
       "      <td>300051458740</td>\n",
       "      <td>both</td>\n",
       "    </tr>\n",
       "    <tr>\n",
       "      <th>16926</th>\n",
       "      <td>2025-01-31 02:08:09</td>\n",
       "      <td>-0.967676</td>\n",
       "      <td>51.444489</td>\n",
       "      <td>NaN</td>\n",
       "      <td>3000626980467</td>\n",
       "      <td>Cancelled_by_client</td>\n",
       "      <td>0</td>\n",
       "      <td>125.0</td>\n",
       "      <td>300052031394</td>\n",
       "      <td>both</td>\n",
       "    </tr>\n",
       "    <tr>\n",
       "      <th>21530</th>\n",
       "      <td>2025-01-31 21:44:21</td>\n",
       "      <td>-0.972683</td>\n",
       "      <td>51.456762</td>\n",
       "      <td>NaN</td>\n",
       "      <td>3000554421440</td>\n",
       "      <td>Cancelled_by_client</td>\n",
       "      <td>0</td>\n",
       "      <td>11.0</td>\n",
       "      <td>300050671163</td>\n",
       "      <td>both</td>\n",
       "    </tr>\n",
       "  </tbody>\n",
       "</table>\n",
       "</div>"
      ],
      "text/plain": [
       "               order_time  longitude   latitude    ETA       order_id  \\\n",
       "30194 2025-01-31 21:15:35  -0.969588  51.455780  299.0  3000555697076   \n",
       "14748 2025-01-31 10:13:35  -0.955958  51.430362    NaN  3000626091676   \n",
       "29083 2025-01-31 09:16:38  -1.033560  51.441967    NaN  3000594099225   \n",
       "16926 2025-01-31 02:08:09  -0.967676  51.444489    NaN  3000626980467   \n",
       "21530 2025-01-31 21:44:21  -0.972683  51.456762    NaN  3000554421440   \n",
       "\n",
       "              order_status  is_driver_assigned  time_b4_cancellation  \\\n",
       "30194  Cancelled_by_client                   1                 223.0   \n",
       "14748  Cancelled_by_client                   0                  91.0   \n",
       "29083  Cancelled_by_client                   0                  68.0   \n",
       "16926  Cancelled_by_client                   0                 125.0   \n",
       "21530  Cancelled_by_client                   0                  11.0   \n",
       "\n",
       "           offer_id _merge  \n",
       "30194  300050725946   both  \n",
       "14748  300052014519   both  \n",
       "29083  300051458740   both  \n",
       "16926  300052031394   both  \n",
       "21530  300050671163   both  "
      ]
     },
     "metadata": {},
     "output_type": "display_data"
    }
   ],
   "source": [
    "display(df.sample(5, random_state=42))"
   ]
  },
  {
   "cell_type": "code",
   "execution_count": 18,
   "metadata": {
    "colab": {
     "base_uri": "https://localhost:8080/"
    },
    "executionInfo": {
     "elapsed": 65,
     "status": "ok",
     "timestamp": 1734336650145,
     "user": {
      "displayName": "Nila Ko",
      "userId": "09641442724310039362"
     },
     "user_tz": 480
    },
    "id": "JdciWYqfOyqH",
    "outputId": "006fd55c-6c09-4a6e-bdcb-dca3ef63e2da"
   },
   "outputs": [
    {
     "name": "stdout",
     "output_type": "stream",
     "text": [
      "Number of cancelled orders after driver is assigned .... 8364\n",
      "Number of cancelled orders before driver is assigned .... 22904\n"
     ]
    }
   ],
   "source": [
    "print(f\"Number of cancelled orders after driver is assigned ....\", \\\n",
    "      df[(df['is_driver_assigned'] ==1)].shape[0])\n",
    "\n",
    "print(f\"Number of cancelled orders before driver is assigned ....\", \\\n",
    "      df[(df['is_driver_assigned'] == 0)].shape[0])\n"
   ]
  },
  {
   "cell_type": "code",
   "execution_count": 19,
   "metadata": {
    "colab": {
     "base_uri": "https://localhost:8080/"
    },
    "executionInfo": {
     "elapsed": 144,
     "status": "ok",
     "timestamp": 1734336650229,
     "user": {
      "displayName": "Nila Ko",
      "userId": "09641442724310039362"
     },
     "user_tz": 480
    },
    "id": "4ItHhjMSOyqH",
    "outputId": "18a51c76-ce83-4df4-cdf3-5287905b1479"
   },
   "outputs": [
    {
     "name": "stdout",
     "output_type": "stream",
     "text": [
      "Number of orders cancelled by Customer :  21795\n",
      "Number of orders cancelledby System :  9473\n"
     ]
    }
   ],
   "source": [
    "print(f\"Number of orders cancelled by Customer : \",\\\n",
    "      df[(df['order_status'] == 'Cancelled_by_client')].shape[0])\n",
    "\n",
    "print(f\"Number of orders cancelledby System : \",\\\n",
    "      df[(df['order_status'] == 'Rejected_by_system')].shape[0])"
   ]
  },
  {
   "cell_type": "code",
   "execution_count": 20,
   "metadata": {
    "colab": {
     "base_uri": "https://localhost:8080/"
    },
    "executionInfo": {
     "elapsed": 13,
     "status": "ok",
     "timestamp": 1734336650229,
     "user": {
      "displayName": "Nila Ko",
      "userId": "09641442724310039362"
     },
     "user_tz": 480
    },
    "id": "iOUiqxVJOyqH",
    "outputId": "3d09a59c-26fd-4e05-db4c-fed99f077581"
   },
   "outputs": [
    {
     "name": "stdout",
     "output_type": "stream",
     "text": [
      "Minimum time taken to cancel by a customer : 3.0  seconds\n",
      "Maximum time taken to cancel by a customer : 4303.0  seconds\n",
      "Minimum time taken to cancel by System : nan  seconds\n",
      "Maximum time taken to cancel by System : nan  seconds\n"
     ]
    }
   ],
   "source": [
    "print(\"Minimum time taken to cancel by a customer :\" ,\\\n",
    "      df[(df['order_status'] == 'Cancelled_by_client')]['time_b4_cancellation'].min() , \" seconds\")\n",
    "print(\"Maximum time taken to cancel by a customer :\" ,\\\n",
    "      df[(df['order_status'] == 'Cancelled_by_client')]['time_b4_cancellation'].max() , \" seconds\")\n",
    "\n",
    "print(\"Minimum time taken to cancel by System :\" ,\\\n",
    "      df[(df['order_status'] == 'Rejected_by_system')]['time_b4_cancellation'].min(), \" seconds\")\n",
    "print(\"Maximum time taken to cancel by System :\" ,\\\n",
    "      df[(df['order_status'] == 'Rejected_by_system')]['time_b4_cancellation'].max(), \" seconds\")\n"
   ]
  },
  {
   "cell_type": "code",
   "execution_count": 21,
   "metadata": {
    "colab": {
     "base_uri": "https://localhost:8080/"
    },
    "executionInfo": {
     "elapsed": 8,
     "status": "ok",
     "timestamp": 1734336650229,
     "user": {
      "displayName": "Nila Ko",
      "userId": "09641442724310039362"
     },
     "user_tz": 480
    },
    "id": "ZBxfEF7UOyqH",
    "outputId": "e25a9e67-94a7-4f42-db51-db9611c70b5a"
   },
   "outputs": [
    {
     "name": "stdout",
     "output_type": "stream",
     "text": [
      "Average time taken to cancel by a customer : 163.86180316586373  seconds\n",
      "Minimum time taken to cancel by a system : nan  seconds\n"
     ]
    }
   ],
   "source": [
    "print(\"Average time taken to cancel by a customer :\" ,\\\n",
    "      df[(df['order_status'] == 'Cancelled_by_client')]['time_b4_cancellation'].mean() , \" seconds\")\n",
    "print(\"Minimum time taken to cancel by a system :\" ,\\\n",
    "      df[(df['order_status'] == 'Rejected_by_system')]['time_b4_cancellation'].mean() , \" seconds\")"
   ]
  },
  {
   "cell_type": "code",
   "execution_count": 22,
   "metadata": {
    "colab": {
     "base_uri": "https://localhost:8080/",
     "height": 0
    },
    "executionInfo": {
     "elapsed": 174,
     "status": "ok",
     "timestamp": 1734336650396,
     "user": {
      "displayName": "Nila Ko",
      "userId": "09641442724310039362"
     },
     "user_tz": 480
    },
    "id": "HolvI-YpOyqH",
    "outputId": "dc0b82e6-9715-4e6f-9039-6cca70141602"
   },
   "outputs": [
    {
     "data": {
      "text/html": [
       "<div>\n",
       "<style scoped>\n",
       "    .dataframe tbody tr th:only-of-type {\n",
       "        vertical-align: middle;\n",
       "    }\n",
       "\n",
       "    .dataframe tbody tr th {\n",
       "        vertical-align: top;\n",
       "    }\n",
       "\n",
       "    .dataframe thead th {\n",
       "        text-align: right;\n",
       "    }\n",
       "</style>\n",
       "<table border=\"1\" class=\"dataframe\">\n",
       "  <thead>\n",
       "    <tr style=\"text-align: right;\">\n",
       "      <th></th>\n",
       "      <th>order_time</th>\n",
       "      <th>longitude</th>\n",
       "      <th>latitude</th>\n",
       "      <th>ETA</th>\n",
       "      <th>order_id</th>\n",
       "      <th>order_status</th>\n",
       "      <th>is_driver_assigned</th>\n",
       "      <th>time_b4_cancellation</th>\n",
       "      <th>offer_id</th>\n",
       "      <th>_merge</th>\n",
       "    </tr>\n",
       "  </thead>\n",
       "  <tbody>\n",
       "    <tr>\n",
       "      <th>30194</th>\n",
       "      <td>2025-01-31 21:15:35</td>\n",
       "      <td>-0.969588</td>\n",
       "      <td>51.455780</td>\n",
       "      <td>299.0</td>\n",
       "      <td>3000555697076</td>\n",
       "      <td>Cancelled_by_client</td>\n",
       "      <td>1</td>\n",
       "      <td>223.0</td>\n",
       "      <td>300050725946</td>\n",
       "      <td>both</td>\n",
       "    </tr>\n",
       "    <tr>\n",
       "      <th>14748</th>\n",
       "      <td>2025-01-31 10:13:35</td>\n",
       "      <td>-0.955958</td>\n",
       "      <td>51.430362</td>\n",
       "      <td>NaN</td>\n",
       "      <td>3000626091676</td>\n",
       "      <td>Cancelled_by_client</td>\n",
       "      <td>0</td>\n",
       "      <td>91.0</td>\n",
       "      <td>300052014519</td>\n",
       "      <td>both</td>\n",
       "    </tr>\n",
       "    <tr>\n",
       "      <th>29083</th>\n",
       "      <td>2025-01-31 09:16:38</td>\n",
       "      <td>-1.033560</td>\n",
       "      <td>51.441967</td>\n",
       "      <td>NaN</td>\n",
       "      <td>3000594099225</td>\n",
       "      <td>Cancelled_by_client</td>\n",
       "      <td>0</td>\n",
       "      <td>68.0</td>\n",
       "      <td>300051458740</td>\n",
       "      <td>both</td>\n",
       "    </tr>\n",
       "    <tr>\n",
       "      <th>16926</th>\n",
       "      <td>2025-01-31 02:08:09</td>\n",
       "      <td>-0.967676</td>\n",
       "      <td>51.444489</td>\n",
       "      <td>NaN</td>\n",
       "      <td>3000626980467</td>\n",
       "      <td>Cancelled_by_client</td>\n",
       "      <td>0</td>\n",
       "      <td>125.0</td>\n",
       "      <td>300052031394</td>\n",
       "      <td>both</td>\n",
       "    </tr>\n",
       "    <tr>\n",
       "      <th>21530</th>\n",
       "      <td>2025-01-31 21:44:21</td>\n",
       "      <td>-0.972683</td>\n",
       "      <td>51.456762</td>\n",
       "      <td>NaN</td>\n",
       "      <td>3000554421440</td>\n",
       "      <td>Cancelled_by_client</td>\n",
       "      <td>0</td>\n",
       "      <td>11.0</td>\n",
       "      <td>300050671163</td>\n",
       "      <td>both</td>\n",
       "    </tr>\n",
       "  </tbody>\n",
       "</table>\n",
       "</div>"
      ],
      "text/plain": [
       "               order_time  longitude   latitude    ETA       order_id  \\\n",
       "30194 2025-01-31 21:15:35  -0.969588  51.455780  299.0  3000555697076   \n",
       "14748 2025-01-31 10:13:35  -0.955958  51.430362    NaN  3000626091676   \n",
       "29083 2025-01-31 09:16:38  -1.033560  51.441967    NaN  3000594099225   \n",
       "16926 2025-01-31 02:08:09  -0.967676  51.444489    NaN  3000626980467   \n",
       "21530 2025-01-31 21:44:21  -0.972683  51.456762    NaN  3000554421440   \n",
       "\n",
       "              order_status  is_driver_assigned  time_b4_cancellation  \\\n",
       "30194  Cancelled_by_client                   1                 223.0   \n",
       "14748  Cancelled_by_client                   0                  91.0   \n",
       "29083  Cancelled_by_client                   0                  68.0   \n",
       "16926  Cancelled_by_client                   0                 125.0   \n",
       "21530  Cancelled_by_client                   0                  11.0   \n",
       "\n",
       "           offer_id _merge  \n",
       "30194  300050725946   both  \n",
       "14748  300052014519   both  \n",
       "29083  300051458740   both  \n",
       "16926  300052031394   both  \n",
       "21530  300050671163   both  "
      ]
     },
     "execution_count": 22,
     "metadata": {},
     "output_type": "execute_result"
    }
   ],
   "source": [
    "df.sample( 5, random_state=42)"
   ]
  },
  {
   "cell_type": "markdown",
   "metadata": {
    "id": "esZufUnTOyqH"
   },
   "source": [
    "### Question-1"
   ]
  },
  {
   "cell_type": "markdown",
   "metadata": {
    "id": "absmNlv7HQyK"
   },
   "source": [
    "Build up distribution of orders according to reasons for failure: cancellations before and after driver assignment, and reasons for order rejection. Analyse the resulting plot. Which category has the highest number of orders?"
   ]
  },
  {
   "cell_type": "code",
   "execution_count": 23,
   "metadata": {
    "colab": {
     "base_uri": "https://localhost:8080/"
    },
    "executionInfo": {
     "elapsed": 318,
     "status": "ok",
     "timestamp": 1734336650703,
     "user": {
      "displayName": "Nila Ko",
      "userId": "09641442724310039362"
     },
     "user_tz": 480
    },
    "id": "5DsI6uQQOyqH",
    "outputId": "0042b4a6-9e5b-4247-d06b-579f4c46d9f7"
   },
   "outputs": [
    {
     "name": "stdout",
     "output_type": "stream",
     "text": [
      "The shape of dataset is:  (31268, 10)\n",
      "The shape of orders_failure is:  (4, 5)\n"
     ]
    }
   ],
   "source": [
    "print(\"The shape of dataset is: \", df.shape)\n",
    "orders_failure = df.groupby(['is_driver_assigned', 'order_status']).agg(\n",
    "    order_count=('order_id', 'count'),\n",
    "    mean_time_b4_cancellation=('time_b4_cancellation', 'mean'),\n",
    "    max_time_b4_cancellation=('time_b4_cancellation', 'max')\n",
    ").reset_index()\n",
    "print(\"The shape of orders_failure is: \", orders_failure.shape)"
   ]
  },
  {
   "cell_type": "code",
   "execution_count": 24,
   "metadata": {
    "colab": {
     "base_uri": "https://localhost:8080/"
    },
    "executionInfo": {
     "elapsed": 9,
     "status": "ok",
     "timestamp": 1734336650703,
     "user": {
      "displayName": "Nila Ko",
      "userId": "09641442724310039362"
     },
     "user_tz": 480
    },
    "id": "jGoKjZo3OyqH",
    "outputId": "f1e1ef52-676e-44f7-aab7-c7e2b1c8dea1"
   },
   "outputs": [
    {
     "data": {
      "text/plain": [
       "14816"
      ]
     },
     "execution_count": 24,
     "metadata": {},
     "output_type": "execute_result"
    }
   ],
   "source": [
    "df[df.time_b4_cancellation < df.time_b4_cancellation.mean()].shape[0]"
   ]
  },
  {
   "cell_type": "code",
   "execution_count": 25,
   "metadata": {
    "colab": {
     "base_uri": "https://localhost:8080/"
    },
    "executionInfo": {
     "elapsed": 7,
     "status": "ok",
     "timestamp": 1734336650704,
     "user": {
      "displayName": "Nila Ko",
      "userId": "09641442724310039362"
     },
     "user_tz": 480
    },
    "id": "RGeaVspBOyqH",
    "outputId": "1120907f-d5f9-4573-d128-2cf11f670d8a"
   },
   "outputs": [
    {
     "data": {
      "text/plain": [
       "2267"
      ]
     },
     "execution_count": 25,
     "metadata": {},
     "output_type": "execute_result"
    }
   ],
   "source": [
    "df[(df.is_driver_assigned == 0) & (df.time_b4_cancellation < 121.771972) &\n",
    "   (df.order_status == 'Cancelled_by_client')]['order_id'].nunique()"
   ]
  },
  {
   "cell_type": "code",
   "execution_count": 26,
   "metadata": {
    "colab": {
     "base_uri": "https://localhost:8080/",
     "height": 0
    },
    "executionInfo": {
     "elapsed": 326,
     "status": "ok",
     "timestamp": 1734336651025,
     "user": {
      "displayName": "Nila Ko",
      "userId": "09641442724310039362"
     },
     "user_tz": 480
    },
    "id": "5_1cMCuwOyqH",
    "outputId": "8ea0caa1-0287-4dac-93c8-0df2404582e1"
   },
   "outputs": [
    {
     "data": {
      "text/html": [
       "<div>\n",
       "<style scoped>\n",
       "    .dataframe tbody tr th:only-of-type {\n",
       "        vertical-align: middle;\n",
       "    }\n",
       "\n",
       "    .dataframe tbody tr th {\n",
       "        vertical-align: top;\n",
       "    }\n",
       "\n",
       "    .dataframe thead th {\n",
       "        text-align: right;\n",
       "    }\n",
       "</style>\n",
       "<table border=\"1\" class=\"dataframe\">\n",
       "  <thead>\n",
       "    <tr style=\"text-align: right;\">\n",
       "      <th></th>\n",
       "      <th>order_time</th>\n",
       "      <th>longitude</th>\n",
       "      <th>latitude</th>\n",
       "      <th>ETA</th>\n",
       "      <th>order_id</th>\n",
       "      <th>order_status</th>\n",
       "      <th>is_driver_assigned</th>\n",
       "      <th>time_b4_cancellation</th>\n",
       "      <th>offer_id</th>\n",
       "      <th>_merge</th>\n",
       "    </tr>\n",
       "  </thead>\n",
       "  <tbody>\n",
       "    <tr>\n",
       "      <th>1</th>\n",
       "      <td>2025-01-31 20:57:32</td>\n",
       "      <td>-0.950385</td>\n",
       "      <td>51.456843</td>\n",
       "      <td>NaN</td>\n",
       "      <td>3000583116437</td>\n",
       "      <td>Cancelled_by_client</td>\n",
       "      <td>0</td>\n",
       "      <td>128.0</td>\n",
       "      <td>300050986179</td>\n",
       "      <td>both</td>\n",
       "    </tr>\n",
       "    <tr>\n",
       "      <th>2</th>\n",
       "      <td>2025-01-31 20:57:32</td>\n",
       "      <td>-0.950385</td>\n",
       "      <td>51.456843</td>\n",
       "      <td>NaN</td>\n",
       "      <td>3000583116437</td>\n",
       "      <td>Cancelled_by_client</td>\n",
       "      <td>0</td>\n",
       "      <td>128.0</td>\n",
       "      <td>300050986174</td>\n",
       "      <td>both</td>\n",
       "    </tr>\n",
       "    <tr>\n",
       "      <th>3</th>\n",
       "      <td>2025-01-31 20:57:32</td>\n",
       "      <td>-0.950385</td>\n",
       "      <td>51.456843</td>\n",
       "      <td>NaN</td>\n",
       "      <td>3000583116437</td>\n",
       "      <td>Cancelled_by_client</td>\n",
       "      <td>0</td>\n",
       "      <td>128.0</td>\n",
       "      <td>300050986180</td>\n",
       "      <td>both</td>\n",
       "    </tr>\n",
       "    <tr>\n",
       "      <th>33</th>\n",
       "      <td>2025-01-31 06:33:52</td>\n",
       "      <td>-0.976216</td>\n",
       "      <td>51.433202</td>\n",
       "      <td>NaN</td>\n",
       "      <td>3000582765616</td>\n",
       "      <td>Cancelled_by_client</td>\n",
       "      <td>0</td>\n",
       "      <td>78.0</td>\n",
       "      <td>300050966073</td>\n",
       "      <td>both</td>\n",
       "    </tr>\n",
       "    <tr>\n",
       "      <th>42</th>\n",
       "      <td>2025-01-31 20:59:35</td>\n",
       "      <td>-0.972735</td>\n",
       "      <td>51.452489</td>\n",
       "      <td>NaN</td>\n",
       "      <td>3000583116472</td>\n",
       "      <td>Cancelled_by_client</td>\n",
       "      <td>0</td>\n",
       "      <td>45.0</td>\n",
       "      <td>300050986222</td>\n",
       "      <td>both</td>\n",
       "    </tr>\n",
       "  </tbody>\n",
       "</table>\n",
       "</div>"
      ],
      "text/plain": [
       "            order_time  longitude   latitude  ETA       order_id  \\\n",
       "1  2025-01-31 20:57:32  -0.950385  51.456843  NaN  3000583116437   \n",
       "2  2025-01-31 20:57:32  -0.950385  51.456843  NaN  3000583116437   \n",
       "3  2025-01-31 20:57:32  -0.950385  51.456843  NaN  3000583116437   \n",
       "33 2025-01-31 06:33:52  -0.976216  51.433202  NaN  3000582765616   \n",
       "42 2025-01-31 20:59:35  -0.972735  51.452489  NaN  3000583116472   \n",
       "\n",
       "           order_status  is_driver_assigned  time_b4_cancellation  \\\n",
       "1   Cancelled_by_client                   0                 128.0   \n",
       "2   Cancelled_by_client                   0                 128.0   \n",
       "3   Cancelled_by_client                   0                 128.0   \n",
       "33  Cancelled_by_client                   0                  78.0   \n",
       "42  Cancelled_by_client                   0                  45.0   \n",
       "\n",
       "        offer_id _merge  \n",
       "1   300050986179   both  \n",
       "2   300050986174   both  \n",
       "3   300050986180   both  \n",
       "33  300050966073   both  \n",
       "42  300050986222   both  "
      ]
     },
     "execution_count": 26,
     "metadata": {},
     "output_type": "execute_result"
    }
   ],
   "source": [
    "df[(df.is_driver_assigned == 0) & (df.time_b4_cancellation < df.time_b4_cancellation.mean()) &\n",
    "   (df.order_status == 'Cancelled_by_client')].head()"
   ]
  },
  {
   "cell_type": "code",
   "execution_count": 27,
   "metadata": {
    "colab": {
     "base_uri": "https://localhost:8080/"
    },
    "executionInfo": {
     "elapsed": 8,
     "status": "ok",
     "timestamp": 1734336651027,
     "user": {
      "displayName": "Nila Ko",
      "userId": "09641442724310039362"
     },
     "user_tz": 480
    },
    "id": "Bf-qheoYOyqH",
    "outputId": "47558562-be1e-4fb2-cb44-895d9c2fb645"
   },
   "outputs": [
    {
     "data": {
      "text/plain": [
       "693"
      ]
     },
     "execution_count": 27,
     "metadata": {},
     "output_type": "execute_result"
    }
   ],
   "source": [
    "df[(df.is_driver_assigned == 0) & (df.time_b4_cancellation >= df.time_b4_cancellation.mean()) &\n",
    "   (df.order_status == 'Cancelled_by_client')]['order_id'].nunique()"
   ]
  },
  {
   "cell_type": "code",
   "execution_count": 28,
   "metadata": {
    "colab": {
     "base_uri": "https://localhost:8080/"
    },
    "executionInfo": {
     "elapsed": 13,
     "status": "ok",
     "timestamp": 1734336651218,
     "user": {
      "displayName": "Nila Ko",
      "userId": "09641442724310039362"
     },
     "user_tz": 480
    },
    "id": "7uePX8JjOyqH",
    "outputId": "26f8cb28-4caf-4223-bb4d-01cad0bcd3b8"
   },
   "outputs": [
    {
     "data": {
      "text/plain": [
       "2338"
      ]
     },
     "execution_count": 28,
     "metadata": {},
     "output_type": "execute_result"
    }
   ],
   "source": [
    "df[(df.is_driver_assigned == 1) & (df.order_status == 'Cancelled_by_client')]['order_id'].nunique()"
   ]
  },
  {
   "cell_type": "code",
   "execution_count": 29,
   "metadata": {
    "colab": {
     "base_uri": "https://localhost:8080/",
     "height": 0
    },
    "executionInfo": {
     "elapsed": 11,
     "status": "ok",
     "timestamp": 1734336651219,
     "user": {
      "displayName": "Nila Ko",
      "userId": "09641442724310039362"
     },
     "user_tz": 480
    },
    "id": "TXjtg135OyqH",
    "outputId": "2da158b2-d61b-47c7-c706-358af7513caf"
   },
   "outputs": [
    {
     "data": {
      "text/html": [
       "<div>\n",
       "<style scoped>\n",
       "    .dataframe tbody tr th:only-of-type {\n",
       "        vertical-align: middle;\n",
       "    }\n",
       "\n",
       "    .dataframe tbody tr th {\n",
       "        vertical-align: top;\n",
       "    }\n",
       "\n",
       "    .dataframe thead th {\n",
       "        text-align: right;\n",
       "    }\n",
       "</style>\n",
       "<table border=\"1\" class=\"dataframe\">\n",
       "  <thead>\n",
       "    <tr style=\"text-align: right;\">\n",
       "      <th></th>\n",
       "      <th>is_driver_assigned</th>\n",
       "      <th>order_status</th>\n",
       "      <th>order_count</th>\n",
       "      <th>mean_time_b4_cancellation</th>\n",
       "      <th>max_time_b4_cancellation</th>\n",
       "    </tr>\n",
       "  </thead>\n",
       "  <tbody>\n",
       "    <tr>\n",
       "      <th>0</th>\n",
       "      <td>0</td>\n",
       "      <td>Cancelled_by_client</td>\n",
       "      <td>13435</td>\n",
       "      <td>120.313956</td>\n",
       "      <td>1179.0</td>\n",
       "    </tr>\n",
       "    <tr>\n",
       "      <th>1</th>\n",
       "      <td>0</td>\n",
       "      <td>Rejected_by_system</td>\n",
       "      <td>9469</td>\n",
       "      <td>NaN</td>\n",
       "      <td>NaN</td>\n",
       "    </tr>\n",
       "    <tr>\n",
       "      <th>2</th>\n",
       "      <td>1</td>\n",
       "      <td>Cancelled_by_client</td>\n",
       "      <td>8360</td>\n",
       "      <td>233.845694</td>\n",
       "      <td>4303.0</td>\n",
       "    </tr>\n",
       "    <tr>\n",
       "      <th>3</th>\n",
       "      <td>1</td>\n",
       "      <td>Rejected_by_system</td>\n",
       "      <td>4</td>\n",
       "      <td>NaN</td>\n",
       "      <td>NaN</td>\n",
       "    </tr>\n",
       "  </tbody>\n",
       "</table>\n",
       "</div>"
      ],
      "text/plain": [
       "   is_driver_assigned         order_status  order_count  \\\n",
       "0                   0  Cancelled_by_client        13435   \n",
       "1                   0   Rejected_by_system         9469   \n",
       "2                   1  Cancelled_by_client         8360   \n",
       "3                   1   Rejected_by_system            4   \n",
       "\n",
       "   mean_time_b4_cancellation  max_time_b4_cancellation  \n",
       "0                 120.313956                    1179.0  \n",
       "1                        NaN                       NaN  \n",
       "2                 233.845694                    4303.0  \n",
       "3                        NaN                       NaN  "
      ]
     },
     "execution_count": 29,
     "metadata": {},
     "output_type": "execute_result"
    }
   ],
   "source": [
    "orders_failure.head()"
   ]
  },
  {
   "cell_type": "code",
   "execution_count": 30,
   "metadata": {
    "colab": {
     "base_uri": "https://localhost:8080/",
     "height": 0
    },
    "executionInfo": {
     "elapsed": 2784,
     "status": "ok",
     "timestamp": 1734336653995,
     "user": {
      "displayName": "Nila Ko",
      "userId": "09641442724310039362"
     },
     "user_tz": 480
    },
    "id": "6c9qd5JyOyqH",
    "outputId": "e6e9ffb9-bdee-486b-a12f-9107ab572b93"
   },
   "outputs": [
    {
     "data": {
      "application/vnd.plotly.v1+json": {
       "config": {
        "plotlyServerURL": "https://plot.ly"
       },
       "data": [
        {
         "name": "Cancelled_by_client",
         "text": [
          13435,
          8360
         ],
         "textposition": "auto",
         "type": "bar",
         "x": [
          0,
          1
         ],
         "y": [
          13435,
          8360
         ]
        },
        {
         "name": "Rejected_by_system",
         "text": [
          9469,
          4
         ],
         "textposition": "auto",
         "type": "bar",
         "x": [
          0,
          1
         ],
         "y": [
          9469,
          4
         ]
        },
        {
         "line": {
          "color": "royalblue",
          "width": 2
         },
         "marker": {
          "size": 8,
          "symbol": "circle"
         },
         "mode": "lines+markers+text",
         "name": "Mean Time Before Cancellation (Client)",
         "text": [
          120.31,
          233.85
         ],
         "textposition": "top center",
         "type": "scatter",
         "x": [
          0,
          1
         ],
         "y": [
          120.31395608485299,
          233.8456937799043
         ],
         "yaxis": "y2"
        }
       ],
       "layout": {
        "bargap": 0.7,
        "bargroupgap": 0.05,
        "barmode": "group",
        "height": 500,
        "legend": {
         "orientation": "h",
         "x": 0.5,
         "xanchor": "center",
         "y": 1.1
        },
        "template": {
         "data": {
          "bar": [
           {
            "error_x": {
             "color": "#2a3f5f"
            },
            "error_y": {
             "color": "#2a3f5f"
            },
            "marker": {
             "line": {
              "color": "#E5ECF6",
              "width": 0.5
             },
             "pattern": {
              "fillmode": "overlay",
              "size": 10,
              "solidity": 0.2
             }
            },
            "type": "bar"
           }
          ],
          "barpolar": [
           {
            "marker": {
             "line": {
              "color": "#E5ECF6",
              "width": 0.5
             },
             "pattern": {
              "fillmode": "overlay",
              "size": 10,
              "solidity": 0.2
             }
            },
            "type": "barpolar"
           }
          ],
          "carpet": [
           {
            "aaxis": {
             "endlinecolor": "#2a3f5f",
             "gridcolor": "white",
             "linecolor": "white",
             "minorgridcolor": "white",
             "startlinecolor": "#2a3f5f"
            },
            "baxis": {
             "endlinecolor": "#2a3f5f",
             "gridcolor": "white",
             "linecolor": "white",
             "minorgridcolor": "white",
             "startlinecolor": "#2a3f5f"
            },
            "type": "carpet"
           }
          ],
          "choropleth": [
           {
            "colorbar": {
             "outlinewidth": 0,
             "ticks": ""
            },
            "type": "choropleth"
           }
          ],
          "contour": [
           {
            "colorbar": {
             "outlinewidth": 0,
             "ticks": ""
            },
            "colorscale": [
             [
              0,
              "#0d0887"
             ],
             [
              0.1111111111111111,
              "#46039f"
             ],
             [
              0.2222222222222222,
              "#7201a8"
             ],
             [
              0.3333333333333333,
              "#9c179e"
             ],
             [
              0.4444444444444444,
              "#bd3786"
             ],
             [
              0.5555555555555556,
              "#d8576b"
             ],
             [
              0.6666666666666666,
              "#ed7953"
             ],
             [
              0.7777777777777778,
              "#fb9f3a"
             ],
             [
              0.8888888888888888,
              "#fdca26"
             ],
             [
              1,
              "#f0f921"
             ]
            ],
            "type": "contour"
           }
          ],
          "contourcarpet": [
           {
            "colorbar": {
             "outlinewidth": 0,
             "ticks": ""
            },
            "type": "contourcarpet"
           }
          ],
          "heatmap": [
           {
            "colorbar": {
             "outlinewidth": 0,
             "ticks": ""
            },
            "colorscale": [
             [
              0,
              "#0d0887"
             ],
             [
              0.1111111111111111,
              "#46039f"
             ],
             [
              0.2222222222222222,
              "#7201a8"
             ],
             [
              0.3333333333333333,
              "#9c179e"
             ],
             [
              0.4444444444444444,
              "#bd3786"
             ],
             [
              0.5555555555555556,
              "#d8576b"
             ],
             [
              0.6666666666666666,
              "#ed7953"
             ],
             [
              0.7777777777777778,
              "#fb9f3a"
             ],
             [
              0.8888888888888888,
              "#fdca26"
             ],
             [
              1,
              "#f0f921"
             ]
            ],
            "type": "heatmap"
           }
          ],
          "heatmapgl": [
           {
            "colorbar": {
             "outlinewidth": 0,
             "ticks": ""
            },
            "colorscale": [
             [
              0,
              "#0d0887"
             ],
             [
              0.1111111111111111,
              "#46039f"
             ],
             [
              0.2222222222222222,
              "#7201a8"
             ],
             [
              0.3333333333333333,
              "#9c179e"
             ],
             [
              0.4444444444444444,
              "#bd3786"
             ],
             [
              0.5555555555555556,
              "#d8576b"
             ],
             [
              0.6666666666666666,
              "#ed7953"
             ],
             [
              0.7777777777777778,
              "#fb9f3a"
             ],
             [
              0.8888888888888888,
              "#fdca26"
             ],
             [
              1,
              "#f0f921"
             ]
            ],
            "type": "heatmapgl"
           }
          ],
          "histogram": [
           {
            "marker": {
             "pattern": {
              "fillmode": "overlay",
              "size": 10,
              "solidity": 0.2
             }
            },
            "type": "histogram"
           }
          ],
          "histogram2d": [
           {
            "colorbar": {
             "outlinewidth": 0,
             "ticks": ""
            },
            "colorscale": [
             [
              0,
              "#0d0887"
             ],
             [
              0.1111111111111111,
              "#46039f"
             ],
             [
              0.2222222222222222,
              "#7201a8"
             ],
             [
              0.3333333333333333,
              "#9c179e"
             ],
             [
              0.4444444444444444,
              "#bd3786"
             ],
             [
              0.5555555555555556,
              "#d8576b"
             ],
             [
              0.6666666666666666,
              "#ed7953"
             ],
             [
              0.7777777777777778,
              "#fb9f3a"
             ],
             [
              0.8888888888888888,
              "#fdca26"
             ],
             [
              1,
              "#f0f921"
             ]
            ],
            "type": "histogram2d"
           }
          ],
          "histogram2dcontour": [
           {
            "colorbar": {
             "outlinewidth": 0,
             "ticks": ""
            },
            "colorscale": [
             [
              0,
              "#0d0887"
             ],
             [
              0.1111111111111111,
              "#46039f"
             ],
             [
              0.2222222222222222,
              "#7201a8"
             ],
             [
              0.3333333333333333,
              "#9c179e"
             ],
             [
              0.4444444444444444,
              "#bd3786"
             ],
             [
              0.5555555555555556,
              "#d8576b"
             ],
             [
              0.6666666666666666,
              "#ed7953"
             ],
             [
              0.7777777777777778,
              "#fb9f3a"
             ],
             [
              0.8888888888888888,
              "#fdca26"
             ],
             [
              1,
              "#f0f921"
             ]
            ],
            "type": "histogram2dcontour"
           }
          ],
          "mesh3d": [
           {
            "colorbar": {
             "outlinewidth": 0,
             "ticks": ""
            },
            "type": "mesh3d"
           }
          ],
          "parcoords": [
           {
            "line": {
             "colorbar": {
              "outlinewidth": 0,
              "ticks": ""
             }
            },
            "type": "parcoords"
           }
          ],
          "pie": [
           {
            "automargin": true,
            "type": "pie"
           }
          ],
          "scatter": [
           {
            "fillpattern": {
             "fillmode": "overlay",
             "size": 10,
             "solidity": 0.2
            },
            "type": "scatter"
           }
          ],
          "scatter3d": [
           {
            "line": {
             "colorbar": {
              "outlinewidth": 0,
              "ticks": ""
             }
            },
            "marker": {
             "colorbar": {
              "outlinewidth": 0,
              "ticks": ""
             }
            },
            "type": "scatter3d"
           }
          ],
          "scattercarpet": [
           {
            "marker": {
             "colorbar": {
              "outlinewidth": 0,
              "ticks": ""
             }
            },
            "type": "scattercarpet"
           }
          ],
          "scattergeo": [
           {
            "marker": {
             "colorbar": {
              "outlinewidth": 0,
              "ticks": ""
             }
            },
            "type": "scattergeo"
           }
          ],
          "scattergl": [
           {
            "marker": {
             "colorbar": {
              "outlinewidth": 0,
              "ticks": ""
             }
            },
            "type": "scattergl"
           }
          ],
          "scattermapbox": [
           {
            "marker": {
             "colorbar": {
              "outlinewidth": 0,
              "ticks": ""
             }
            },
            "type": "scattermapbox"
           }
          ],
          "scatterpolar": [
           {
            "marker": {
             "colorbar": {
              "outlinewidth": 0,
              "ticks": ""
             }
            },
            "type": "scatterpolar"
           }
          ],
          "scatterpolargl": [
           {
            "marker": {
             "colorbar": {
              "outlinewidth": 0,
              "ticks": ""
             }
            },
            "type": "scatterpolargl"
           }
          ],
          "scatterternary": [
           {
            "marker": {
             "colorbar": {
              "outlinewidth": 0,
              "ticks": ""
             }
            },
            "type": "scatterternary"
           }
          ],
          "surface": [
           {
            "colorbar": {
             "outlinewidth": 0,
             "ticks": ""
            },
            "colorscale": [
             [
              0,
              "#0d0887"
             ],
             [
              0.1111111111111111,
              "#46039f"
             ],
             [
              0.2222222222222222,
              "#7201a8"
             ],
             [
              0.3333333333333333,
              "#9c179e"
             ],
             [
              0.4444444444444444,
              "#bd3786"
             ],
             [
              0.5555555555555556,
              "#d8576b"
             ],
             [
              0.6666666666666666,
              "#ed7953"
             ],
             [
              0.7777777777777778,
              "#fb9f3a"
             ],
             [
              0.8888888888888888,
              "#fdca26"
             ],
             [
              1,
              "#f0f921"
             ]
            ],
            "type": "surface"
           }
          ],
          "table": [
           {
            "cells": {
             "fill": {
              "color": "#EBF0F8"
             },
             "line": {
              "color": "white"
             }
            },
            "header": {
             "fill": {
              "color": "#C8D4E3"
             },
             "line": {
              "color": "white"
             }
            },
            "type": "table"
           }
          ]
         },
         "layout": {
          "annotationdefaults": {
           "arrowcolor": "#2a3f5f",
           "arrowhead": 0,
           "arrowwidth": 1
          },
          "autotypenumbers": "strict",
          "coloraxis": {
           "colorbar": {
            "outlinewidth": 0,
            "ticks": ""
           }
          },
          "colorscale": {
           "diverging": [
            [
             0,
             "#8e0152"
            ],
            [
             0.1,
             "#c51b7d"
            ],
            [
             0.2,
             "#de77ae"
            ],
            [
             0.3,
             "#f1b6da"
            ],
            [
             0.4,
             "#fde0ef"
            ],
            [
             0.5,
             "#f7f7f7"
            ],
            [
             0.6,
             "#e6f5d0"
            ],
            [
             0.7,
             "#b8e186"
            ],
            [
             0.8,
             "#7fbc41"
            ],
            [
             0.9,
             "#4d9221"
            ],
            [
             1,
             "#276419"
            ]
           ],
           "sequential": [
            [
             0,
             "#0d0887"
            ],
            [
             0.1111111111111111,
             "#46039f"
            ],
            [
             0.2222222222222222,
             "#7201a8"
            ],
            [
             0.3333333333333333,
             "#9c179e"
            ],
            [
             0.4444444444444444,
             "#bd3786"
            ],
            [
             0.5555555555555556,
             "#d8576b"
            ],
            [
             0.6666666666666666,
             "#ed7953"
            ],
            [
             0.7777777777777778,
             "#fb9f3a"
            ],
            [
             0.8888888888888888,
             "#fdca26"
            ],
            [
             1,
             "#f0f921"
            ]
           ],
           "sequentialminus": [
            [
             0,
             "#0d0887"
            ],
            [
             0.1111111111111111,
             "#46039f"
            ],
            [
             0.2222222222222222,
             "#7201a8"
            ],
            [
             0.3333333333333333,
             "#9c179e"
            ],
            [
             0.4444444444444444,
             "#bd3786"
            ],
            [
             0.5555555555555556,
             "#d8576b"
            ],
            [
             0.6666666666666666,
             "#ed7953"
            ],
            [
             0.7777777777777778,
             "#fb9f3a"
            ],
            [
             0.8888888888888888,
             "#fdca26"
            ],
            [
             1,
             "#f0f921"
            ]
           ]
          },
          "colorway": [
           "#636efa",
           "#EF553B",
           "#00cc96",
           "#ab63fa",
           "#FFA15A",
           "#19d3f3",
           "#FF6692",
           "#B6E880",
           "#FF97FF",
           "#FECB52"
          ],
          "font": {
           "color": "#2a3f5f"
          },
          "geo": {
           "bgcolor": "white",
           "lakecolor": "white",
           "landcolor": "#E5ECF6",
           "showlakes": true,
           "showland": true,
           "subunitcolor": "white"
          },
          "hoverlabel": {
           "align": "left"
          },
          "hovermode": "closest",
          "mapbox": {
           "style": "light"
          },
          "paper_bgcolor": "white",
          "plot_bgcolor": "#E5ECF6",
          "polar": {
           "angularaxis": {
            "gridcolor": "white",
            "linecolor": "white",
            "ticks": ""
           },
           "bgcolor": "#E5ECF6",
           "radialaxis": {
            "gridcolor": "white",
            "linecolor": "white",
            "ticks": ""
           }
          },
          "scene": {
           "xaxis": {
            "backgroundcolor": "#E5ECF6",
            "gridcolor": "white",
            "gridwidth": 2,
            "linecolor": "white",
            "showbackground": true,
            "ticks": "",
            "zerolinecolor": "white"
           },
           "yaxis": {
            "backgroundcolor": "#E5ECF6",
            "gridcolor": "white",
            "gridwidth": 2,
            "linecolor": "white",
            "showbackground": true,
            "ticks": "",
            "zerolinecolor": "white"
           },
           "zaxis": {
            "backgroundcolor": "#E5ECF6",
            "gridcolor": "white",
            "gridwidth": 2,
            "linecolor": "white",
            "showbackground": true,
            "ticks": "",
            "zerolinecolor": "white"
           }
          },
          "shapedefaults": {
           "line": {
            "color": "#2a3f5f"
           }
          },
          "ternary": {
           "aaxis": {
            "gridcolor": "white",
            "linecolor": "white",
            "ticks": ""
           },
           "baxis": {
            "gridcolor": "white",
            "linecolor": "white",
            "ticks": ""
           },
           "bgcolor": "#E5ECF6",
           "caxis": {
            "gridcolor": "white",
            "linecolor": "white",
            "ticks": ""
           }
          },
          "title": {
           "x": 0.05
          },
          "xaxis": {
           "automargin": true,
           "gridcolor": "white",
           "linecolor": "white",
           "ticks": "",
           "title": {
            "standoff": 15
           },
           "zerolinecolor": "white",
           "zerolinewidth": 2
          },
          "yaxis": {
           "automargin": true,
           "gridcolor": "white",
           "linecolor": "white",
           "ticks": "",
           "title": {
            "standoff": 15
           },
           "zerolinecolor": "white",
           "zerolinewidth": 2
          }
         }
        },
        "title": {
         "text": "Order Failures by Assignment and Status with Mean Time Before Cancellation"
        },
        "width": 900,
        "xaxis": {
         "title": {
          "text": "Driver Assigned (0 = No, 1 = Yes)"
         }
        },
        "yaxis": {
         "title": {
          "text": "Order Count"
         }
        },
        "yaxis2": {
         "overlaying": "y",
         "side": "right",
         "title": {
          "text": "Mean Time Before Cancellation (in seconds)"
         }
        }
       }
      }
     },
     "metadata": {},
     "output_type": "display_data"
    }
   ],
   "source": [
    "import plotly.graph_objects as go\n",
    "orders_failure_fig = go.Figure()\n",
    "\n",
    "# Add bars for \"Cancelled_by_client\" with is_driver_assigned distinction\n",
    "orders_failure_fig.add_trace(go.Bar(\n",
    "    name='Cancelled_by_client',\n",
    "    x=orders_failure[orders_failure['order_status'] == 'Cancelled_by_client']['is_driver_assigned'],\n",
    "    y=orders_failure[orders_failure['order_status'] == 'Cancelled_by_client']['order_count'],\n",
    "    text=orders_failure[orders_failure['order_status'] == 'Cancelled_by_client']['order_count'],\n",
    "    textposition='auto'\n",
    "))\n",
    "\n",
    "# Add bars for \"Rejected_by_system\" with is_driver_assigned distinction\n",
    "orders_failure_fig.add_trace(go.Bar(\n",
    "    name='Rejected_by_system',\n",
    "    x=orders_failure[orders_failure['order_status'] == 'Rejected_by_system']['is_driver_assigned'],\n",
    "    y=orders_failure[orders_failure['order_status'] == 'Rejected_by_system']['order_count'],\n",
    "    text=orders_failure[orders_failure['order_status'] == 'Rejected_by_system']['order_count'],\n",
    "    textposition='auto'\n",
    "))\n",
    "\n",
    "# Add line for \"mean_time_b4_cancellation\" for \"Cancelled_by_client\" with data labels\n",
    "orders_failure_fig.add_trace(go.Scatter(\n",
    "    name='Mean Time Before Cancellation (Client)',\n",
    "    x=orders_failure[orders_failure['order_status'] == 'Cancelled_by_client']['is_driver_assigned'],\n",
    "    y=orders_failure[orders_failure['order_status'] == 'Cancelled_by_client']['mean_time_b4_cancellation'],\n",
    "    mode='lines+markers+text',  # Add 'text' to display data labels\n",
    "    line=dict(color='royalblue', width=2),\n",
    "    marker=dict(size=8, symbol='circle'),\n",
    "    text=orders_failure[orders_failure['order_status'] == 'Cancelled_by_client']['mean_time_b4_cancellation'].round(2) ,  # Show mean times as data labels\n",
    "    textposition='top center',  # Positioning the text above the points\n",
    "    yaxis='y2'  # Secondary y-axis for the line chart\n",
    "))\n",
    "\n",
    "# Update layout with secondary y-axis\n",
    "orders_failure_fig.update_layout(\n",
    "    barmode='group',\n",
    "    xaxis_title='Driver Assigned (0 = No, 1 = Yes)',\n",
    "    yaxis_title='Order Count',\n",
    "    yaxis2=dict(\n",
    "        title='Mean Time Before Cancellation (in seconds)',\n",
    "        overlaying='y',\n",
    "        side='right'\n",
    "    ),\n",
    "    title='Order Failures by Assignment and Status with Mean Time Before Cancellation',\n",
    "    legend=dict(orientation=\"h\", y=1.1, x=0.5, xanchor=\"center\"),\n",
    "    bargap = 0.7,\n",
    "    bargroupgap = 0.05,\n",
    "    width=900,  # Set the width of the chart\n",
    "    height=500\n",
    ")\n",
    "\n",
    "orders_failure_fig.show()\n"
   ]
  },
  {
   "cell_type": "code",
   "execution_count": 31,
   "metadata": {
    "colab": {
     "base_uri": "https://localhost:8080/",
     "height": 0
    },
    "executionInfo": {
     "elapsed": 19,
     "status": "ok",
     "timestamp": 1734336653996,
     "user": {
      "displayName": "Nila Ko",
      "userId": "09641442724310039362"
     },
     "user_tz": 480
    },
    "id": "vgs1OHczOyqI",
    "outputId": "37f48857-f424-419f-c98c-e489a8f0d519"
   },
   "outputs": [
    {
     "data": {
      "application/vnd.plotly.v1+json": {
       "config": {
        "plotlyServerURL": "https://plot.ly"
       },
       "data": [
        {
         "name": "Cancelled_by_client",
         "text": [
          13435,
          8360
         ],
         "textposition": "auto",
         "type": "bar",
         "x": [
          0,
          1
         ],
         "y": [
          13435,
          8360
         ]
        },
        {
         "name": "Rejected_by_system",
         "text": [
          9469,
          4
         ],
         "textposition": "auto",
         "type": "bar",
         "x": [
          0,
          1
         ],
         "y": [
          9469,
          4
         ]
        },
        {
         "line": {
          "color": "royalblue",
          "width": 2
         },
         "marker": {
          "size": 8,
          "symbol": "circle"
         },
         "mode": "lines+markers+text",
         "name": "Avg Time Before Cancellation (Client)",
         "text": [
          120.31,
          233.85
         ],
         "textposition": "top center",
         "type": "scatter",
         "x": [
          0,
          1
         ],
         "y": [
          120.31395608485299,
          233.8456937799043
         ],
         "yaxis": "y2"
        }
       ],
       "layout": {
        "barmode": "group",
        "height": 500,
        "legend": {
         "orientation": "h",
         "x": 0.5,
         "xanchor": "center",
         "y": 1.1
        },
        "template": {
         "data": {
          "bar": [
           {
            "error_x": {
             "color": "#2a3f5f"
            },
            "error_y": {
             "color": "#2a3f5f"
            },
            "marker": {
             "line": {
              "color": "#E5ECF6",
              "width": 0.5
             },
             "pattern": {
              "fillmode": "overlay",
              "size": 10,
              "solidity": 0.2
             }
            },
            "type": "bar"
           }
          ],
          "barpolar": [
           {
            "marker": {
             "line": {
              "color": "#E5ECF6",
              "width": 0.5
             },
             "pattern": {
              "fillmode": "overlay",
              "size": 10,
              "solidity": 0.2
             }
            },
            "type": "barpolar"
           }
          ],
          "carpet": [
           {
            "aaxis": {
             "endlinecolor": "#2a3f5f",
             "gridcolor": "white",
             "linecolor": "white",
             "minorgridcolor": "white",
             "startlinecolor": "#2a3f5f"
            },
            "baxis": {
             "endlinecolor": "#2a3f5f",
             "gridcolor": "white",
             "linecolor": "white",
             "minorgridcolor": "white",
             "startlinecolor": "#2a3f5f"
            },
            "type": "carpet"
           }
          ],
          "choropleth": [
           {
            "colorbar": {
             "outlinewidth": 0,
             "ticks": ""
            },
            "type": "choropleth"
           }
          ],
          "contour": [
           {
            "colorbar": {
             "outlinewidth": 0,
             "ticks": ""
            },
            "colorscale": [
             [
              0,
              "#0d0887"
             ],
             [
              0.1111111111111111,
              "#46039f"
             ],
             [
              0.2222222222222222,
              "#7201a8"
             ],
             [
              0.3333333333333333,
              "#9c179e"
             ],
             [
              0.4444444444444444,
              "#bd3786"
             ],
             [
              0.5555555555555556,
              "#d8576b"
             ],
             [
              0.6666666666666666,
              "#ed7953"
             ],
             [
              0.7777777777777778,
              "#fb9f3a"
             ],
             [
              0.8888888888888888,
              "#fdca26"
             ],
             [
              1,
              "#f0f921"
             ]
            ],
            "type": "contour"
           }
          ],
          "contourcarpet": [
           {
            "colorbar": {
             "outlinewidth": 0,
             "ticks": ""
            },
            "type": "contourcarpet"
           }
          ],
          "heatmap": [
           {
            "colorbar": {
             "outlinewidth": 0,
             "ticks": ""
            },
            "colorscale": [
             [
              0,
              "#0d0887"
             ],
             [
              0.1111111111111111,
              "#46039f"
             ],
             [
              0.2222222222222222,
              "#7201a8"
             ],
             [
              0.3333333333333333,
              "#9c179e"
             ],
             [
              0.4444444444444444,
              "#bd3786"
             ],
             [
              0.5555555555555556,
              "#d8576b"
             ],
             [
              0.6666666666666666,
              "#ed7953"
             ],
             [
              0.7777777777777778,
              "#fb9f3a"
             ],
             [
              0.8888888888888888,
              "#fdca26"
             ],
             [
              1,
              "#f0f921"
             ]
            ],
            "type": "heatmap"
           }
          ],
          "heatmapgl": [
           {
            "colorbar": {
             "outlinewidth": 0,
             "ticks": ""
            },
            "colorscale": [
             [
              0,
              "#0d0887"
             ],
             [
              0.1111111111111111,
              "#46039f"
             ],
             [
              0.2222222222222222,
              "#7201a8"
             ],
             [
              0.3333333333333333,
              "#9c179e"
             ],
             [
              0.4444444444444444,
              "#bd3786"
             ],
             [
              0.5555555555555556,
              "#d8576b"
             ],
             [
              0.6666666666666666,
              "#ed7953"
             ],
             [
              0.7777777777777778,
              "#fb9f3a"
             ],
             [
              0.8888888888888888,
              "#fdca26"
             ],
             [
              1,
              "#f0f921"
             ]
            ],
            "type": "heatmapgl"
           }
          ],
          "histogram": [
           {
            "marker": {
             "pattern": {
              "fillmode": "overlay",
              "size": 10,
              "solidity": 0.2
             }
            },
            "type": "histogram"
           }
          ],
          "histogram2d": [
           {
            "colorbar": {
             "outlinewidth": 0,
             "ticks": ""
            },
            "colorscale": [
             [
              0,
              "#0d0887"
             ],
             [
              0.1111111111111111,
              "#46039f"
             ],
             [
              0.2222222222222222,
              "#7201a8"
             ],
             [
              0.3333333333333333,
              "#9c179e"
             ],
             [
              0.4444444444444444,
              "#bd3786"
             ],
             [
              0.5555555555555556,
              "#d8576b"
             ],
             [
              0.6666666666666666,
              "#ed7953"
             ],
             [
              0.7777777777777778,
              "#fb9f3a"
             ],
             [
              0.8888888888888888,
              "#fdca26"
             ],
             [
              1,
              "#f0f921"
             ]
            ],
            "type": "histogram2d"
           }
          ],
          "histogram2dcontour": [
           {
            "colorbar": {
             "outlinewidth": 0,
             "ticks": ""
            },
            "colorscale": [
             [
              0,
              "#0d0887"
             ],
             [
              0.1111111111111111,
              "#46039f"
             ],
             [
              0.2222222222222222,
              "#7201a8"
             ],
             [
              0.3333333333333333,
              "#9c179e"
             ],
             [
              0.4444444444444444,
              "#bd3786"
             ],
             [
              0.5555555555555556,
              "#d8576b"
             ],
             [
              0.6666666666666666,
              "#ed7953"
             ],
             [
              0.7777777777777778,
              "#fb9f3a"
             ],
             [
              0.8888888888888888,
              "#fdca26"
             ],
             [
              1,
              "#f0f921"
             ]
            ],
            "type": "histogram2dcontour"
           }
          ],
          "mesh3d": [
           {
            "colorbar": {
             "outlinewidth": 0,
             "ticks": ""
            },
            "type": "mesh3d"
           }
          ],
          "parcoords": [
           {
            "line": {
             "colorbar": {
              "outlinewidth": 0,
              "ticks": ""
             }
            },
            "type": "parcoords"
           }
          ],
          "pie": [
           {
            "automargin": true,
            "type": "pie"
           }
          ],
          "scatter": [
           {
            "fillpattern": {
             "fillmode": "overlay",
             "size": 10,
             "solidity": 0.2
            },
            "type": "scatter"
           }
          ],
          "scatter3d": [
           {
            "line": {
             "colorbar": {
              "outlinewidth": 0,
              "ticks": ""
             }
            },
            "marker": {
             "colorbar": {
              "outlinewidth": 0,
              "ticks": ""
             }
            },
            "type": "scatter3d"
           }
          ],
          "scattercarpet": [
           {
            "marker": {
             "colorbar": {
              "outlinewidth": 0,
              "ticks": ""
             }
            },
            "type": "scattercarpet"
           }
          ],
          "scattergeo": [
           {
            "marker": {
             "colorbar": {
              "outlinewidth": 0,
              "ticks": ""
             }
            },
            "type": "scattergeo"
           }
          ],
          "scattergl": [
           {
            "marker": {
             "colorbar": {
              "outlinewidth": 0,
              "ticks": ""
             }
            },
            "type": "scattergl"
           }
          ],
          "scattermapbox": [
           {
            "marker": {
             "colorbar": {
              "outlinewidth": 0,
              "ticks": ""
             }
            },
            "type": "scattermapbox"
           }
          ],
          "scatterpolar": [
           {
            "marker": {
             "colorbar": {
              "outlinewidth": 0,
              "ticks": ""
             }
            },
            "type": "scatterpolar"
           }
          ],
          "scatterpolargl": [
           {
            "marker": {
             "colorbar": {
              "outlinewidth": 0,
              "ticks": ""
             }
            },
            "type": "scatterpolargl"
           }
          ],
          "scatterternary": [
           {
            "marker": {
             "colorbar": {
              "outlinewidth": 0,
              "ticks": ""
             }
            },
            "type": "scatterternary"
           }
          ],
          "surface": [
           {
            "colorbar": {
             "outlinewidth": 0,
             "ticks": ""
            },
            "colorscale": [
             [
              0,
              "#0d0887"
             ],
             [
              0.1111111111111111,
              "#46039f"
             ],
             [
              0.2222222222222222,
              "#7201a8"
             ],
             [
              0.3333333333333333,
              "#9c179e"
             ],
             [
              0.4444444444444444,
              "#bd3786"
             ],
             [
              0.5555555555555556,
              "#d8576b"
             ],
             [
              0.6666666666666666,
              "#ed7953"
             ],
             [
              0.7777777777777778,
              "#fb9f3a"
             ],
             [
              0.8888888888888888,
              "#fdca26"
             ],
             [
              1,
              "#f0f921"
             ]
            ],
            "type": "surface"
           }
          ],
          "table": [
           {
            "cells": {
             "fill": {
              "color": "#EBF0F8"
             },
             "line": {
              "color": "white"
             }
            },
            "header": {
             "fill": {
              "color": "#C8D4E3"
             },
             "line": {
              "color": "white"
             }
            },
            "type": "table"
           }
          ]
         },
         "layout": {
          "annotationdefaults": {
           "arrowcolor": "#2a3f5f",
           "arrowhead": 0,
           "arrowwidth": 1
          },
          "autotypenumbers": "strict",
          "coloraxis": {
           "colorbar": {
            "outlinewidth": 0,
            "ticks": ""
           }
          },
          "colorscale": {
           "diverging": [
            [
             0,
             "#8e0152"
            ],
            [
             0.1,
             "#c51b7d"
            ],
            [
             0.2,
             "#de77ae"
            ],
            [
             0.3,
             "#f1b6da"
            ],
            [
             0.4,
             "#fde0ef"
            ],
            [
             0.5,
             "#f7f7f7"
            ],
            [
             0.6,
             "#e6f5d0"
            ],
            [
             0.7,
             "#b8e186"
            ],
            [
             0.8,
             "#7fbc41"
            ],
            [
             0.9,
             "#4d9221"
            ],
            [
             1,
             "#276419"
            ]
           ],
           "sequential": [
            [
             0,
             "#0d0887"
            ],
            [
             0.1111111111111111,
             "#46039f"
            ],
            [
             0.2222222222222222,
             "#7201a8"
            ],
            [
             0.3333333333333333,
             "#9c179e"
            ],
            [
             0.4444444444444444,
             "#bd3786"
            ],
            [
             0.5555555555555556,
             "#d8576b"
            ],
            [
             0.6666666666666666,
             "#ed7953"
            ],
            [
             0.7777777777777778,
             "#fb9f3a"
            ],
            [
             0.8888888888888888,
             "#fdca26"
            ],
            [
             1,
             "#f0f921"
            ]
           ],
           "sequentialminus": [
            [
             0,
             "#0d0887"
            ],
            [
             0.1111111111111111,
             "#46039f"
            ],
            [
             0.2222222222222222,
             "#7201a8"
            ],
            [
             0.3333333333333333,
             "#9c179e"
            ],
            [
             0.4444444444444444,
             "#bd3786"
            ],
            [
             0.5555555555555556,
             "#d8576b"
            ],
            [
             0.6666666666666666,
             "#ed7953"
            ],
            [
             0.7777777777777778,
             "#fb9f3a"
            ],
            [
             0.8888888888888888,
             "#fdca26"
            ],
            [
             1,
             "#f0f921"
            ]
           ]
          },
          "colorway": [
           "#636efa",
           "#EF553B",
           "#00cc96",
           "#ab63fa",
           "#FFA15A",
           "#19d3f3",
           "#FF6692",
           "#B6E880",
           "#FF97FF",
           "#FECB52"
          ],
          "font": {
           "color": "#2a3f5f"
          },
          "geo": {
           "bgcolor": "white",
           "lakecolor": "white",
           "landcolor": "#E5ECF6",
           "showlakes": true,
           "showland": true,
           "subunitcolor": "white"
          },
          "hoverlabel": {
           "align": "left"
          },
          "hovermode": "closest",
          "mapbox": {
           "style": "light"
          },
          "paper_bgcolor": "white",
          "plot_bgcolor": "#E5ECF6",
          "polar": {
           "angularaxis": {
            "gridcolor": "white",
            "linecolor": "white",
            "ticks": ""
           },
           "bgcolor": "#E5ECF6",
           "radialaxis": {
            "gridcolor": "white",
            "linecolor": "white",
            "ticks": ""
           }
          },
          "scene": {
           "xaxis": {
            "backgroundcolor": "#E5ECF6",
            "gridcolor": "white",
            "gridwidth": 2,
            "linecolor": "white",
            "showbackground": true,
            "ticks": "",
            "zerolinecolor": "white"
           },
           "yaxis": {
            "backgroundcolor": "#E5ECF6",
            "gridcolor": "white",
            "gridwidth": 2,
            "linecolor": "white",
            "showbackground": true,
            "ticks": "",
            "zerolinecolor": "white"
           },
           "zaxis": {
            "backgroundcolor": "#E5ECF6",
            "gridcolor": "white",
            "gridwidth": 2,
            "linecolor": "white",
            "showbackground": true,
            "ticks": "",
            "zerolinecolor": "white"
           }
          },
          "shapedefaults": {
           "line": {
            "color": "#2a3f5f"
           }
          },
          "ternary": {
           "aaxis": {
            "gridcolor": "white",
            "linecolor": "white",
            "ticks": ""
           },
           "baxis": {
            "gridcolor": "white",
            "linecolor": "white",
            "ticks": ""
           },
           "bgcolor": "#E5ECF6",
           "caxis": {
            "gridcolor": "white",
            "linecolor": "white",
            "ticks": ""
           }
          },
          "title": {
           "x": 0.05
          },
          "xaxis": {
           "automargin": true,
           "gridcolor": "white",
           "linecolor": "white",
           "ticks": "",
           "title": {
            "standoff": 15
           },
           "zerolinecolor": "white",
           "zerolinewidth": 2
          },
          "yaxis": {
           "automargin": true,
           "gridcolor": "white",
           "linecolor": "white",
           "ticks": "",
           "title": {
            "standoff": 15
           },
           "zerolinecolor": "white",
           "zerolinewidth": 2
          }
         }
        },
        "title": {
         "text": "Order Failures by Assignment and Status with Mean Time Before Cancellation",
         "x": 0.5
        },
        "width": 800,
        "xaxis": {
         "title": {
          "text": "Driver Assigned (0 = No, 1 = Yes)"
         }
        },
        "yaxis": {
         "title": {
          "text": "Order Count"
         }
        },
        "yaxis2": {
         "overlaying": "y",
         "side": "right",
         "title": {
          "text": "Avg Time Before Cancellation in seconds"
         }
        }
       }
      }
     },
     "metadata": {},
     "output_type": "display_data"
    }
   ],
   "source": [
    "import plotly.graph_objects as go\n",
    "\n",
    "orders_failure_fig = go.Figure()\n",
    "\n",
    "# Dynamically add bars for each unique order_status\n",
    "for status in orders_failure['order_status'].unique():\n",
    "    orders_failure_fig.add_trace(go.Bar(\n",
    "        name=status,\n",
    "        x=orders_failure[orders_failure['order_status'] == status]['is_driver_assigned'],\n",
    "        y=orders_failure[orders_failure['order_status'] == status]['order_count'],\n",
    "        text=orders_failure[orders_failure['order_status'] == status]['order_count'],\n",
    "        textposition='auto'\n",
    "    ))\n",
    "\n",
    "# Add line for \"mean_time_b4_cancellation\" for \"Cancelled_by_client\" with rounded data labels\n",
    "orders_failure_fig.add_trace(go.Scatter(\n",
    "    name='Avg Time Before Cancellation (Client)',\n",
    "    x=orders_failure[orders_failure['order_status'] == 'Cancelled_by_client']['is_driver_assigned'],\n",
    "    y=orders_failure[orders_failure['order_status'] == 'Cancelled_by_client']['mean_time_b4_cancellation'],\n",
    "    mode='lines+markers+text',\n",
    "    line=dict(color='royalblue', width=2),\n",
    "    marker=dict(size=8, symbol='circle'),\n",
    "    text= orders_failure[orders_failure['order_status'] == 'Cancelled_by_client']['mean_time_b4_cancellation'].round(2) ,\n",
    "    textposition='top center',\n",
    "    yaxis='y2'\n",
    "))\n",
    "\n",
    "# Update layout with secondary y-axis and adjust chart size\n",
    "orders_failure_fig.update_layout(\n",
    "    barmode='group',\n",
    "    xaxis_title='Driver Assigned (0 = No, 1 = Yes)',\n",
    "    yaxis_title='Order Count',\n",
    "    yaxis2=dict(\n",
    "        title='Avg Time Before Cancellation in seconds',\n",
    "        overlaying='y',\n",
    "        side='right'\n",
    "    ),\n",
    "    title='Order Failures by Assignment and Status with Mean Time Before Cancellation',\n",
    "    title_x = 0.5,  # Center the chart title\n",
    "    width=800,  # Set the width of the chart\n",
    "    height=500,  # Set the height of the chart\n",
    "    legend=dict(orientation=\"h\", y=1.1, x=0.5, xanchor=\"center\")\n",
    ")\n",
    "\n",
    "orders_failure_fig.show()\n"
   ]
  },
  {
   "cell_type": "markdown",
   "metadata": {
    "id": "ze2qQgYIOyqI"
   },
   "source": [
    "It is observed that a high number of clients cancelled their order before a driver was assigned, implying that probably customers had waited too long to be assigned a driver and decided on other alternative transport means. There are `$$$$` order cancelled by the client, and `$$$$` rejected by the system. `$$$$` orders were cancelled by Clients before Driver was assigned while `$$$$` orders were rejected by system.After The Driver was assigned,`$$$$` orders were cancelled by the Client."
   ]
  },
  {
   "cell_type": "markdown",
   "metadata": {
    "id": "oD4c76ikOyqI"
   },
   "source": [
    "### Question-2"
   ]
  },
  {
   "cell_type": "markdown",
   "metadata": {
    "id": "m3UowiXYOyqI"
   },
   "source": [
    "Plot the distribution of failed orders by hours. Is there a trend that certain hours have an abnormally high proportion of one category or another? What hours are the biggest fails? How can this be explained?"
   ]
  },
  {
   "cell_type": "code",
   "execution_count": 32,
   "metadata": {
    "executionInfo": {
     "elapsed": 186,
     "status": "ok",
     "timestamp": 1734336654168,
     "user": {
      "displayName": "Nila Ko",
      "userId": "09641442724310039362"
     },
     "user_tz": 480
    },
    "id": "TSQM7xadOyqL"
   },
   "outputs": [],
   "source": [
    "# Extract hour fro datetime column\n",
    "df['order_hour'] = df.order_time.dt.hour"
   ]
  },
  {
   "cell_type": "code",
   "execution_count": 33,
   "metadata": {
    "colab": {
     "base_uri": "https://localhost:8080/",
     "height": 0
    },
    "executionInfo": {
     "elapsed": 9,
     "status": "ok",
     "timestamp": 1734336654169,
     "user": {
      "displayName": "Nila Ko",
      "userId": "09641442724310039362"
     },
     "user_tz": 480
    },
    "id": "qxmYEzKYOyqL",
    "outputId": "6c4b74fe-30a1-4b96-8512-5992a5bdd060"
   },
   "outputs": [
    {
     "data": {
      "text/html": [
       "<div>\n",
       "<style scoped>\n",
       "    .dataframe tbody tr th:only-of-type {\n",
       "        vertical-align: middle;\n",
       "    }\n",
       "\n",
       "    .dataframe tbody tr th {\n",
       "        vertical-align: top;\n",
       "    }\n",
       "\n",
       "    .dataframe thead th {\n",
       "        text-align: right;\n",
       "    }\n",
       "</style>\n",
       "<table border=\"1\" class=\"dataframe\">\n",
       "  <thead>\n",
       "    <tr style=\"text-align: right;\">\n",
       "      <th></th>\n",
       "      <th>order_hour</th>\n",
       "      <th>order_id</th>\n",
       "      <th>is_driver_assigned</th>\n",
       "      <th>order_status</th>\n",
       "    </tr>\n",
       "  </thead>\n",
       "  <tbody>\n",
       "    <tr>\n",
       "      <th>0</th>\n",
       "      <td>18</td>\n",
       "      <td>3000583041974</td>\n",
       "      <td>1</td>\n",
       "      <td>Cancelled_by_client</td>\n",
       "    </tr>\n",
       "    <tr>\n",
       "      <th>1</th>\n",
       "      <td>20</td>\n",
       "      <td>3000583116437</td>\n",
       "      <td>0</td>\n",
       "      <td>Cancelled_by_client</td>\n",
       "    </tr>\n",
       "    <tr>\n",
       "      <th>2</th>\n",
       "      <td>20</td>\n",
       "      <td>3000583116437</td>\n",
       "      <td>0</td>\n",
       "      <td>Cancelled_by_client</td>\n",
       "    </tr>\n",
       "    <tr>\n",
       "      <th>3</th>\n",
       "      <td>20</td>\n",
       "      <td>3000583116437</td>\n",
       "      <td>0</td>\n",
       "      <td>Cancelled_by_client</td>\n",
       "    </tr>\n",
       "    <tr>\n",
       "      <th>4</th>\n",
       "      <td>12</td>\n",
       "      <td>3000582891479</td>\n",
       "      <td>1</td>\n",
       "      <td>Cancelled_by_client</td>\n",
       "    </tr>\n",
       "  </tbody>\n",
       "</table>\n",
       "</div>"
      ],
      "text/plain": [
       "   order_hour       order_id  is_driver_assigned         order_status\n",
       "0          18  3000583041974                   1  Cancelled_by_client\n",
       "1          20  3000583116437                   0  Cancelled_by_client\n",
       "2          20  3000583116437                   0  Cancelled_by_client\n",
       "3          20  3000583116437                   0  Cancelled_by_client\n",
       "4          12  3000582891479                   1  Cancelled_by_client"
      ]
     },
     "execution_count": 33,
     "metadata": {},
     "output_type": "execute_result"
    }
   ],
   "source": [
    "df[['order_hour','order_id','is_driver_assigned','order_status']].head()"
   ]
  },
  {
   "cell_type": "code",
   "execution_count": 34,
   "metadata": {
    "colab": {
     "base_uri": "https://localhost:8080/",
     "height": 0
    },
    "executionInfo": {
     "elapsed": 320,
     "status": "ok",
     "timestamp": 1734336654482,
     "user": {
      "displayName": "Nila Ko",
      "userId": "09641442724310039362"
     },
     "user_tz": 480
    },
    "id": "PFEnaR5SOyqL",
    "outputId": "45c5295b-fe70-4499-f5c4-aca3ebd1ec99"
   },
   "outputs": [
    {
     "data": {
      "application/vnd.plotly.v1+json": {
       "config": {
        "plotlyServerURL": "https://plot.ly"
       },
       "data": [
        {
         "line": {
          "dash": "dot",
          "width": 2
         },
         "mode": "lines+markers",
         "name": "Cancelled_by_client",
         "type": "scatter",
         "x": [
          0,
          1,
          2,
          3,
          4,
          5,
          6,
          7,
          8,
          9,
          10,
          11,
          12,
          13,
          14,
          15,
          16,
          17,
          18,
          19,
          20,
          21,
          22,
          23
         ],
         "y": [
          1283,
          931,
          826,
          760,
          182,
          78,
          283,
          1040,
          2527,
          964,
          350,
          445,
          606,
          778,
          608,
          1109,
          720,
          1221,
          822,
          549,
          1010,
          1746,
          1369,
          1588
         ]
        },
        {
         "line": {
          "dash": "dot",
          "width": 2
         },
         "mode": "lines+markers",
         "name": "Rejected_by_system",
         "type": "scatter",
         "x": [
          0,
          1,
          2,
          3,
          4,
          5,
          6,
          7,
          8,
          9,
          10,
          11,
          12,
          13,
          14,
          15,
          16,
          17,
          18,
          19,
          20,
          21,
          22,
          23
         ],
         "y": [
          710,
          374,
          649,
          658,
          45,
          33,
          109,
          526,
          1338,
          294,
          37,
          65,
          91,
          294,
          125,
          335,
          112,
          319,
          314,
          95,
          371,
          1036,
          660,
          883
         ]
        }
       ],
       "layout": {
        "height": 600,
        "template": {
         "data": {
          "bar": [
           {
            "error_x": {
             "color": "#2a3f5f"
            },
            "error_y": {
             "color": "#2a3f5f"
            },
            "marker": {
             "line": {
              "color": "#E5ECF6",
              "width": 0.5
             },
             "pattern": {
              "fillmode": "overlay",
              "size": 10,
              "solidity": 0.2
             }
            },
            "type": "bar"
           }
          ],
          "barpolar": [
           {
            "marker": {
             "line": {
              "color": "#E5ECF6",
              "width": 0.5
             },
             "pattern": {
              "fillmode": "overlay",
              "size": 10,
              "solidity": 0.2
             }
            },
            "type": "barpolar"
           }
          ],
          "carpet": [
           {
            "aaxis": {
             "endlinecolor": "#2a3f5f",
             "gridcolor": "white",
             "linecolor": "white",
             "minorgridcolor": "white",
             "startlinecolor": "#2a3f5f"
            },
            "baxis": {
             "endlinecolor": "#2a3f5f",
             "gridcolor": "white",
             "linecolor": "white",
             "minorgridcolor": "white",
             "startlinecolor": "#2a3f5f"
            },
            "type": "carpet"
           }
          ],
          "choropleth": [
           {
            "colorbar": {
             "outlinewidth": 0,
             "ticks": ""
            },
            "type": "choropleth"
           }
          ],
          "contour": [
           {
            "colorbar": {
             "outlinewidth": 0,
             "ticks": ""
            },
            "colorscale": [
             [
              0,
              "#0d0887"
             ],
             [
              0.1111111111111111,
              "#46039f"
             ],
             [
              0.2222222222222222,
              "#7201a8"
             ],
             [
              0.3333333333333333,
              "#9c179e"
             ],
             [
              0.4444444444444444,
              "#bd3786"
             ],
             [
              0.5555555555555556,
              "#d8576b"
             ],
             [
              0.6666666666666666,
              "#ed7953"
             ],
             [
              0.7777777777777778,
              "#fb9f3a"
             ],
             [
              0.8888888888888888,
              "#fdca26"
             ],
             [
              1,
              "#f0f921"
             ]
            ],
            "type": "contour"
           }
          ],
          "contourcarpet": [
           {
            "colorbar": {
             "outlinewidth": 0,
             "ticks": ""
            },
            "type": "contourcarpet"
           }
          ],
          "heatmap": [
           {
            "colorbar": {
             "outlinewidth": 0,
             "ticks": ""
            },
            "colorscale": [
             [
              0,
              "#0d0887"
             ],
             [
              0.1111111111111111,
              "#46039f"
             ],
             [
              0.2222222222222222,
              "#7201a8"
             ],
             [
              0.3333333333333333,
              "#9c179e"
             ],
             [
              0.4444444444444444,
              "#bd3786"
             ],
             [
              0.5555555555555556,
              "#d8576b"
             ],
             [
              0.6666666666666666,
              "#ed7953"
             ],
             [
              0.7777777777777778,
              "#fb9f3a"
             ],
             [
              0.8888888888888888,
              "#fdca26"
             ],
             [
              1,
              "#f0f921"
             ]
            ],
            "type": "heatmap"
           }
          ],
          "heatmapgl": [
           {
            "colorbar": {
             "outlinewidth": 0,
             "ticks": ""
            },
            "colorscale": [
             [
              0,
              "#0d0887"
             ],
             [
              0.1111111111111111,
              "#46039f"
             ],
             [
              0.2222222222222222,
              "#7201a8"
             ],
             [
              0.3333333333333333,
              "#9c179e"
             ],
             [
              0.4444444444444444,
              "#bd3786"
             ],
             [
              0.5555555555555556,
              "#d8576b"
             ],
             [
              0.6666666666666666,
              "#ed7953"
             ],
             [
              0.7777777777777778,
              "#fb9f3a"
             ],
             [
              0.8888888888888888,
              "#fdca26"
             ],
             [
              1,
              "#f0f921"
             ]
            ],
            "type": "heatmapgl"
           }
          ],
          "histogram": [
           {
            "marker": {
             "pattern": {
              "fillmode": "overlay",
              "size": 10,
              "solidity": 0.2
             }
            },
            "type": "histogram"
           }
          ],
          "histogram2d": [
           {
            "colorbar": {
             "outlinewidth": 0,
             "ticks": ""
            },
            "colorscale": [
             [
              0,
              "#0d0887"
             ],
             [
              0.1111111111111111,
              "#46039f"
             ],
             [
              0.2222222222222222,
              "#7201a8"
             ],
             [
              0.3333333333333333,
              "#9c179e"
             ],
             [
              0.4444444444444444,
              "#bd3786"
             ],
             [
              0.5555555555555556,
              "#d8576b"
             ],
             [
              0.6666666666666666,
              "#ed7953"
             ],
             [
              0.7777777777777778,
              "#fb9f3a"
             ],
             [
              0.8888888888888888,
              "#fdca26"
             ],
             [
              1,
              "#f0f921"
             ]
            ],
            "type": "histogram2d"
           }
          ],
          "histogram2dcontour": [
           {
            "colorbar": {
             "outlinewidth": 0,
             "ticks": ""
            },
            "colorscale": [
             [
              0,
              "#0d0887"
             ],
             [
              0.1111111111111111,
              "#46039f"
             ],
             [
              0.2222222222222222,
              "#7201a8"
             ],
             [
              0.3333333333333333,
              "#9c179e"
             ],
             [
              0.4444444444444444,
              "#bd3786"
             ],
             [
              0.5555555555555556,
              "#d8576b"
             ],
             [
              0.6666666666666666,
              "#ed7953"
             ],
             [
              0.7777777777777778,
              "#fb9f3a"
             ],
             [
              0.8888888888888888,
              "#fdca26"
             ],
             [
              1,
              "#f0f921"
             ]
            ],
            "type": "histogram2dcontour"
           }
          ],
          "mesh3d": [
           {
            "colorbar": {
             "outlinewidth": 0,
             "ticks": ""
            },
            "type": "mesh3d"
           }
          ],
          "parcoords": [
           {
            "line": {
             "colorbar": {
              "outlinewidth": 0,
              "ticks": ""
             }
            },
            "type": "parcoords"
           }
          ],
          "pie": [
           {
            "automargin": true,
            "type": "pie"
           }
          ],
          "scatter": [
           {
            "fillpattern": {
             "fillmode": "overlay",
             "size": 10,
             "solidity": 0.2
            },
            "type": "scatter"
           }
          ],
          "scatter3d": [
           {
            "line": {
             "colorbar": {
              "outlinewidth": 0,
              "ticks": ""
             }
            },
            "marker": {
             "colorbar": {
              "outlinewidth": 0,
              "ticks": ""
             }
            },
            "type": "scatter3d"
           }
          ],
          "scattercarpet": [
           {
            "marker": {
             "colorbar": {
              "outlinewidth": 0,
              "ticks": ""
             }
            },
            "type": "scattercarpet"
           }
          ],
          "scattergeo": [
           {
            "marker": {
             "colorbar": {
              "outlinewidth": 0,
              "ticks": ""
             }
            },
            "type": "scattergeo"
           }
          ],
          "scattergl": [
           {
            "marker": {
             "colorbar": {
              "outlinewidth": 0,
              "ticks": ""
             }
            },
            "type": "scattergl"
           }
          ],
          "scattermapbox": [
           {
            "marker": {
             "colorbar": {
              "outlinewidth": 0,
              "ticks": ""
             }
            },
            "type": "scattermapbox"
           }
          ],
          "scatterpolar": [
           {
            "marker": {
             "colorbar": {
              "outlinewidth": 0,
              "ticks": ""
             }
            },
            "type": "scatterpolar"
           }
          ],
          "scatterpolargl": [
           {
            "marker": {
             "colorbar": {
              "outlinewidth": 0,
              "ticks": ""
             }
            },
            "type": "scatterpolargl"
           }
          ],
          "scatterternary": [
           {
            "marker": {
             "colorbar": {
              "outlinewidth": 0,
              "ticks": ""
             }
            },
            "type": "scatterternary"
           }
          ],
          "surface": [
           {
            "colorbar": {
             "outlinewidth": 0,
             "ticks": ""
            },
            "colorscale": [
             [
              0,
              "#0d0887"
             ],
             [
              0.1111111111111111,
              "#46039f"
             ],
             [
              0.2222222222222222,
              "#7201a8"
             ],
             [
              0.3333333333333333,
              "#9c179e"
             ],
             [
              0.4444444444444444,
              "#bd3786"
             ],
             [
              0.5555555555555556,
              "#d8576b"
             ],
             [
              0.6666666666666666,
              "#ed7953"
             ],
             [
              0.7777777777777778,
              "#fb9f3a"
             ],
             [
              0.8888888888888888,
              "#fdca26"
             ],
             [
              1,
              "#f0f921"
             ]
            ],
            "type": "surface"
           }
          ],
          "table": [
           {
            "cells": {
             "fill": {
              "color": "#EBF0F8"
             },
             "line": {
              "color": "white"
             }
            },
            "header": {
             "fill": {
              "color": "#C8D4E3"
             },
             "line": {
              "color": "white"
             }
            },
            "type": "table"
           }
          ]
         },
         "layout": {
          "annotationdefaults": {
           "arrowcolor": "#2a3f5f",
           "arrowhead": 0,
           "arrowwidth": 1
          },
          "autotypenumbers": "strict",
          "coloraxis": {
           "colorbar": {
            "outlinewidth": 0,
            "ticks": ""
           }
          },
          "colorscale": {
           "diverging": [
            [
             0,
             "#8e0152"
            ],
            [
             0.1,
             "#c51b7d"
            ],
            [
             0.2,
             "#de77ae"
            ],
            [
             0.3,
             "#f1b6da"
            ],
            [
             0.4,
             "#fde0ef"
            ],
            [
             0.5,
             "#f7f7f7"
            ],
            [
             0.6,
             "#e6f5d0"
            ],
            [
             0.7,
             "#b8e186"
            ],
            [
             0.8,
             "#7fbc41"
            ],
            [
             0.9,
             "#4d9221"
            ],
            [
             1,
             "#276419"
            ]
           ],
           "sequential": [
            [
             0,
             "#0d0887"
            ],
            [
             0.1111111111111111,
             "#46039f"
            ],
            [
             0.2222222222222222,
             "#7201a8"
            ],
            [
             0.3333333333333333,
             "#9c179e"
            ],
            [
             0.4444444444444444,
             "#bd3786"
            ],
            [
             0.5555555555555556,
             "#d8576b"
            ],
            [
             0.6666666666666666,
             "#ed7953"
            ],
            [
             0.7777777777777778,
             "#fb9f3a"
            ],
            [
             0.8888888888888888,
             "#fdca26"
            ],
            [
             1,
             "#f0f921"
            ]
           ],
           "sequentialminus": [
            [
             0,
             "#0d0887"
            ],
            [
             0.1111111111111111,
             "#46039f"
            ],
            [
             0.2222222222222222,
             "#7201a8"
            ],
            [
             0.3333333333333333,
             "#9c179e"
            ],
            [
             0.4444444444444444,
             "#bd3786"
            ],
            [
             0.5555555555555556,
             "#d8576b"
            ],
            [
             0.6666666666666666,
             "#ed7953"
            ],
            [
             0.7777777777777778,
             "#fb9f3a"
            ],
            [
             0.8888888888888888,
             "#fdca26"
            ],
            [
             1,
             "#f0f921"
            ]
           ]
          },
          "colorway": [
           "#636efa",
           "#EF553B",
           "#00cc96",
           "#ab63fa",
           "#FFA15A",
           "#19d3f3",
           "#FF6692",
           "#B6E880",
           "#FF97FF",
           "#FECB52"
          ],
          "font": {
           "color": "#2a3f5f"
          },
          "geo": {
           "bgcolor": "white",
           "lakecolor": "white",
           "landcolor": "#E5ECF6",
           "showlakes": true,
           "showland": true,
           "subunitcolor": "white"
          },
          "hoverlabel": {
           "align": "left"
          },
          "hovermode": "closest",
          "mapbox": {
           "style": "light"
          },
          "paper_bgcolor": "white",
          "plot_bgcolor": "#E5ECF6",
          "polar": {
           "angularaxis": {
            "gridcolor": "white",
            "linecolor": "white",
            "ticks": ""
           },
           "bgcolor": "#E5ECF6",
           "radialaxis": {
            "gridcolor": "white",
            "linecolor": "white",
            "ticks": ""
           }
          },
          "scene": {
           "xaxis": {
            "backgroundcolor": "#E5ECF6",
            "gridcolor": "white",
            "gridwidth": 2,
            "linecolor": "white",
            "showbackground": true,
            "ticks": "",
            "zerolinecolor": "white"
           },
           "yaxis": {
            "backgroundcolor": "#E5ECF6",
            "gridcolor": "white",
            "gridwidth": 2,
            "linecolor": "white",
            "showbackground": true,
            "ticks": "",
            "zerolinecolor": "white"
           },
           "zaxis": {
            "backgroundcolor": "#E5ECF6",
            "gridcolor": "white",
            "gridwidth": 2,
            "linecolor": "white",
            "showbackground": true,
            "ticks": "",
            "zerolinecolor": "white"
           }
          },
          "shapedefaults": {
           "line": {
            "color": "#2a3f5f"
           }
          },
          "ternary": {
           "aaxis": {
            "gridcolor": "white",
            "linecolor": "white",
            "ticks": ""
           },
           "baxis": {
            "gridcolor": "white",
            "linecolor": "white",
            "ticks": ""
           },
           "bgcolor": "#E5ECF6",
           "caxis": {
            "gridcolor": "white",
            "linecolor": "white",
            "ticks": ""
           }
          },
          "title": {
           "x": 0.05
          },
          "xaxis": {
           "automargin": true,
           "gridcolor": "white",
           "linecolor": "white",
           "ticks": "",
           "title": {
            "standoff": 15
           },
           "zerolinecolor": "white",
           "zerolinewidth": 2
          },
          "yaxis": {
           "automargin": true,
           "gridcolor": "white",
           "linecolor": "white",
           "ticks": "",
           "title": {
            "standoff": 15
           },
           "zerolinecolor": "white",
           "zerolinewidth": 2
          }
         }
        },
        "title": {
         "text": "Count of Orders by Hour (Cancelled vs Rejected)",
         "x": 0.5
        },
        "width": 800,
        "xaxis": {
         "ticktext": [
          "0:00",
          "1:00",
          "2:00",
          "3:00",
          "4:00",
          "5:00",
          "6:00",
          "7:00",
          "8:00",
          "9:00",
          "10:00",
          "11:00",
          "12:00",
          "13:00",
          "14:00",
          "15:00",
          "16:00",
          "17:00",
          "18:00",
          "19:00",
          "20:00",
          "21:00",
          "22:00",
          "23:00"
         ],
         "tickvals": [
          0,
          1,
          2,
          3,
          4,
          5,
          6,
          7,
          8,
          9,
          10,
          11,
          12,
          13,
          14,
          15,
          16,
          17,
          18,
          19,
          20,
          21,
          22,
          23
         ],
         "title": {
          "text": "Order Hour"
         }
        },
        "yaxis": {
         "title": {
          "text": "Order Count"
         }
        }
       }
      }
     },
     "metadata": {},
     "output_type": "display_data"
    }
   ],
   "source": [
    "# Filter the DataFrame for 'Cancelled_by_client' and 'Rejected_by_system'\n",
    "cancelled_df = df[df.order_status == 'Cancelled_by_client'].groupby('order_hour')['order_id'].count().reset_index()\n",
    "rejected_df = df[df.order_status == 'Rejected_by_system'].groupby('order_hour')['order_id'].count().reset_index()\n",
    "\n",
    "# Create the line chart\n",
    "failed_orders_fig = go.Figure()\n",
    "\n",
    "for status in ['Cancelled_by_client', 'Rejected_by_system']:\n",
    "    failed_orders_fig.add_trace(go.Scatter(\n",
    "        x=df[df.order_status == status].groupby('order_hour')['order_id'].count().index,\n",
    "        y=df[df.order_status == status].groupby('order_hour')['order_id'].count(),\n",
    "        mode='lines+markers',\n",
    "        name=status,\n",
    "        line = dict(width=2,dash='dot')\n",
    "\n",
    "    ))\n",
    "\n",
    "\n",
    "# Update layout\n",
    "failed_orders_fig.update_layout(\n",
    "    title='Count of Orders by Hour (Cancelled vs Rejected)',\n",
    "    title_x=0.5,\n",
    "    xaxis_title='Order Hour',\n",
    "    yaxis_title='Order Count',\n",
    "    width=800,\n",
    "    height=600,\n",
    ")\n",
    "\n",
    "# Update x-axis to show every hour\n",
    "failed_orders_fig.update_xaxes(\n",
    "    tickvals=np.arange(0, 24, 1),  # Set the x-axis values to show every hour\n",
    "    ticktext=[f\"{hour}:00\" for hour in np.arange(0, 24, 1)]  # Format the x-axis values as \"hour:00\"\n",
    ")\n",
    "\n",
    "# Show the figure\n",
    "failed_orders_fig.show()\n"
   ]
  },
  {
   "cell_type": "markdown",
   "metadata": {
    "id": "lXBPSs4aOyqL"
   },
   "source": [
    "From the bar chart above , it is seen that the highest number of order fails occurred at `8:00`,followed by `21:00` and `23:00`\n",
    "\n",
    "Failed orders are further investigated by hour by category, to obtain deeper insights into the cancellations by category."
   ]
  },
  {
   "cell_type": "markdown",
   "metadata": {
    "id": "k-JrHMOKOyqL"
   },
   "source": [
    "### Question-3"
   ]
  },
  {
   "cell_type": "markdown",
   "metadata": {
    "id": "4nkQBlYHOyqL"
   },
   "source": [
    "Ploting the average time to cancellation with and without driver, by the hour to see it there are any outliers within the data and then proceed to remove them and draw further conclusion from the data"
   ]
  },
  {
   "cell_type": "code",
   "execution_count": 35,
   "metadata": {
    "colab": {
     "base_uri": "https://localhost:8080/",
     "height": 0
    },
    "executionInfo": {
     "elapsed": 16,
     "status": "ok",
     "timestamp": 1734336654483,
     "user": {
      "displayName": "Nila Ko",
      "userId": "09641442724310039362"
     },
     "user_tz": 480
    },
    "id": "aJ2fBTUdOyqL",
    "outputId": "b54d734c-4bd3-4bf5-f2cd-c4c0d9af035c"
   },
   "outputs": [
    {
     "data": {
      "text/html": [
       "<div>\n",
       "<style scoped>\n",
       "    .dataframe tbody tr th:only-of-type {\n",
       "        vertical-align: middle;\n",
       "    }\n",
       "\n",
       "    .dataframe tbody tr th {\n",
       "        vertical-align: top;\n",
       "    }\n",
       "\n",
       "    .dataframe thead th {\n",
       "        text-align: right;\n",
       "    }\n",
       "</style>\n",
       "<table border=\"1\" class=\"dataframe\">\n",
       "  <thead>\n",
       "    <tr style=\"text-align: right;\">\n",
       "      <th></th>\n",
       "      <th>order_hour</th>\n",
       "      <th>is_driver_assigned</th>\n",
       "      <th>time_b4_cancellation</th>\n",
       "    </tr>\n",
       "  </thead>\n",
       "  <tbody>\n",
       "    <tr>\n",
       "      <th>0</th>\n",
       "      <td>0</td>\n",
       "      <td>0</td>\n",
       "      <td>115.126437</td>\n",
       "    </tr>\n",
       "    <tr>\n",
       "      <th>1</th>\n",
       "      <td>0</td>\n",
       "      <td>1</td>\n",
       "      <td>276.082822</td>\n",
       "    </tr>\n",
       "    <tr>\n",
       "      <th>2</th>\n",
       "      <td>1</td>\n",
       "      <td>0</td>\n",
       "      <td>100.593997</td>\n",
       "    </tr>\n",
       "    <tr>\n",
       "      <th>3</th>\n",
       "      <td>1</td>\n",
       "      <td>1</td>\n",
       "      <td>296.312081</td>\n",
       "    </tr>\n",
       "    <tr>\n",
       "      <th>4</th>\n",
       "      <td>2</td>\n",
       "      <td>0</td>\n",
       "      <td>121.305461</td>\n",
       "    </tr>\n",
       "  </tbody>\n",
       "</table>\n",
       "</div>"
      ],
      "text/plain": [
       "   order_hour  is_driver_assigned  time_b4_cancellation\n",
       "0           0                   0            115.126437\n",
       "1           0                   1            276.082822\n",
       "2           1                   0            100.593997\n",
       "3           1                   1            296.312081\n",
       "4           2                   0            121.305461"
      ]
     },
     "metadata": {},
     "output_type": "display_data"
    }
   ],
   "source": [
    "cancellation_time = df.groupby(['order_hour','is_driver_assigned'])\\\n",
    "                                    ['time_b4_cancellation'].mean().reset_index()\n",
    "\n",
    "display(cancellation_time.head())"
   ]
  },
  {
   "cell_type": "code",
   "execution_count": 36,
   "metadata": {
    "colab": {
     "base_uri": "https://localhost:8080/",
     "height": 0
    },
    "executionInfo": {
     "elapsed": 216,
     "status": "ok",
     "timestamp": 1734336654685,
     "user": {
      "displayName": "Nila Ko",
      "userId": "09641442724310039362"
     },
     "user_tz": 480
    },
    "id": "cKgnx0PGOyqL",
    "outputId": "ebe41934-e4aa-4ac8-8f54-b2f685ebbda5"
   },
   "outputs": [
    {
     "data": {
      "application/vnd.plotly.v1+json": {
       "config": {
        "plotlyServerURL": "https://plot.ly"
       },
       "data": [
        {
         "line": {
          "dash": "dot",
          "width": 2
         },
         "marker": {
          "size": 8
         },
         "mode": "lines+markers",
         "name": "Driver Assigned: 0",
         "type": "scatter",
         "x": [
          0,
          1,
          2,
          3,
          4,
          5,
          6,
          7,
          8,
          9,
          10,
          11,
          12,
          13,
          14,
          15,
          16,
          17,
          18,
          19,
          20,
          21,
          22,
          23
         ],
         "y": [
          115.1264367816092,
          100.59399684044234,
          121.30546075085324,
          129.18230088495577,
          100.73333333333333,
          102.83870967741936,
          202.9526627218935,
          141.17782026768643,
          132.62543192812717,
          138.01489361702127,
          93.79508196721312,
          93.09032258064516,
          128.22429906542055,
          103.57798165137615,
          112.7524115755627,
          140.9704918032787,
          123.18110236220473,
          106.8425925925926,
          85.84563758389261,
          103.23140495867769,
          117.51807228915662,
          130.82828993666433,
          103.66247379454927,
          117.29458041958041
         ]
        },
        {
         "line": {
          "dash": "dot",
          "width": 2
         },
         "marker": {
          "size": 8
         },
         "mode": "lines+markers",
         "name": "Driver Assigned: 1",
         "type": "scatter",
         "x": [
          0,
          1,
          2,
          3,
          4,
          5,
          6,
          7,
          8,
          9,
          10,
          11,
          12,
          13,
          14,
          15,
          16,
          17,
          18,
          19,
          20,
          21,
          22,
          23
         ],
         "y": [
          276.0828220858896,
          296.31208053691273,
          301.46666666666664,
          368.6820512820513,
          245.25,
          156.61702127659575,
          225.50877192982455,
          177.6402321083172,
          172.8962962962963,
          230.82186234817814,
          206.44736842105263,
          276.7931034482759,
          243,
          248.30116959064327,
          241.36700336700338,
          188.3807615230461,
          217.12684365781712,
          280.78279569892476,
          270.27733333333333,
          151.03908794788273,
          214.51734104046244,
          224.44307692307692,
          230.72048192771084,
          320.18918918918916
         ]
        }
       ],
       "layout": {
        "height": 600,
        "template": {
         "data": {
          "bar": [
           {
            "error_x": {
             "color": "#2a3f5f"
            },
            "error_y": {
             "color": "#2a3f5f"
            },
            "marker": {
             "line": {
              "color": "#E5ECF6",
              "width": 0.5
             },
             "pattern": {
              "fillmode": "overlay",
              "size": 10,
              "solidity": 0.2
             }
            },
            "type": "bar"
           }
          ],
          "barpolar": [
           {
            "marker": {
             "line": {
              "color": "#E5ECF6",
              "width": 0.5
             },
             "pattern": {
              "fillmode": "overlay",
              "size": 10,
              "solidity": 0.2
             }
            },
            "type": "barpolar"
           }
          ],
          "carpet": [
           {
            "aaxis": {
             "endlinecolor": "#2a3f5f",
             "gridcolor": "white",
             "linecolor": "white",
             "minorgridcolor": "white",
             "startlinecolor": "#2a3f5f"
            },
            "baxis": {
             "endlinecolor": "#2a3f5f",
             "gridcolor": "white",
             "linecolor": "white",
             "minorgridcolor": "white",
             "startlinecolor": "#2a3f5f"
            },
            "type": "carpet"
           }
          ],
          "choropleth": [
           {
            "colorbar": {
             "outlinewidth": 0,
             "ticks": ""
            },
            "type": "choropleth"
           }
          ],
          "contour": [
           {
            "colorbar": {
             "outlinewidth": 0,
             "ticks": ""
            },
            "colorscale": [
             [
              0,
              "#0d0887"
             ],
             [
              0.1111111111111111,
              "#46039f"
             ],
             [
              0.2222222222222222,
              "#7201a8"
             ],
             [
              0.3333333333333333,
              "#9c179e"
             ],
             [
              0.4444444444444444,
              "#bd3786"
             ],
             [
              0.5555555555555556,
              "#d8576b"
             ],
             [
              0.6666666666666666,
              "#ed7953"
             ],
             [
              0.7777777777777778,
              "#fb9f3a"
             ],
             [
              0.8888888888888888,
              "#fdca26"
             ],
             [
              1,
              "#f0f921"
             ]
            ],
            "type": "contour"
           }
          ],
          "contourcarpet": [
           {
            "colorbar": {
             "outlinewidth": 0,
             "ticks": ""
            },
            "type": "contourcarpet"
           }
          ],
          "heatmap": [
           {
            "colorbar": {
             "outlinewidth": 0,
             "ticks": ""
            },
            "colorscale": [
             [
              0,
              "#0d0887"
             ],
             [
              0.1111111111111111,
              "#46039f"
             ],
             [
              0.2222222222222222,
              "#7201a8"
             ],
             [
              0.3333333333333333,
              "#9c179e"
             ],
             [
              0.4444444444444444,
              "#bd3786"
             ],
             [
              0.5555555555555556,
              "#d8576b"
             ],
             [
              0.6666666666666666,
              "#ed7953"
             ],
             [
              0.7777777777777778,
              "#fb9f3a"
             ],
             [
              0.8888888888888888,
              "#fdca26"
             ],
             [
              1,
              "#f0f921"
             ]
            ],
            "type": "heatmap"
           }
          ],
          "heatmapgl": [
           {
            "colorbar": {
             "outlinewidth": 0,
             "ticks": ""
            },
            "colorscale": [
             [
              0,
              "#0d0887"
             ],
             [
              0.1111111111111111,
              "#46039f"
             ],
             [
              0.2222222222222222,
              "#7201a8"
             ],
             [
              0.3333333333333333,
              "#9c179e"
             ],
             [
              0.4444444444444444,
              "#bd3786"
             ],
             [
              0.5555555555555556,
              "#d8576b"
             ],
             [
              0.6666666666666666,
              "#ed7953"
             ],
             [
              0.7777777777777778,
              "#fb9f3a"
             ],
             [
              0.8888888888888888,
              "#fdca26"
             ],
             [
              1,
              "#f0f921"
             ]
            ],
            "type": "heatmapgl"
           }
          ],
          "histogram": [
           {
            "marker": {
             "pattern": {
              "fillmode": "overlay",
              "size": 10,
              "solidity": 0.2
             }
            },
            "type": "histogram"
           }
          ],
          "histogram2d": [
           {
            "colorbar": {
             "outlinewidth": 0,
             "ticks": ""
            },
            "colorscale": [
             [
              0,
              "#0d0887"
             ],
             [
              0.1111111111111111,
              "#46039f"
             ],
             [
              0.2222222222222222,
              "#7201a8"
             ],
             [
              0.3333333333333333,
              "#9c179e"
             ],
             [
              0.4444444444444444,
              "#bd3786"
             ],
             [
              0.5555555555555556,
              "#d8576b"
             ],
             [
              0.6666666666666666,
              "#ed7953"
             ],
             [
              0.7777777777777778,
              "#fb9f3a"
             ],
             [
              0.8888888888888888,
              "#fdca26"
             ],
             [
              1,
              "#f0f921"
             ]
            ],
            "type": "histogram2d"
           }
          ],
          "histogram2dcontour": [
           {
            "colorbar": {
             "outlinewidth": 0,
             "ticks": ""
            },
            "colorscale": [
             [
              0,
              "#0d0887"
             ],
             [
              0.1111111111111111,
              "#46039f"
             ],
             [
              0.2222222222222222,
              "#7201a8"
             ],
             [
              0.3333333333333333,
              "#9c179e"
             ],
             [
              0.4444444444444444,
              "#bd3786"
             ],
             [
              0.5555555555555556,
              "#d8576b"
             ],
             [
              0.6666666666666666,
              "#ed7953"
             ],
             [
              0.7777777777777778,
              "#fb9f3a"
             ],
             [
              0.8888888888888888,
              "#fdca26"
             ],
             [
              1,
              "#f0f921"
             ]
            ],
            "type": "histogram2dcontour"
           }
          ],
          "mesh3d": [
           {
            "colorbar": {
             "outlinewidth": 0,
             "ticks": ""
            },
            "type": "mesh3d"
           }
          ],
          "parcoords": [
           {
            "line": {
             "colorbar": {
              "outlinewidth": 0,
              "ticks": ""
             }
            },
            "type": "parcoords"
           }
          ],
          "pie": [
           {
            "automargin": true,
            "type": "pie"
           }
          ],
          "scatter": [
           {
            "fillpattern": {
             "fillmode": "overlay",
             "size": 10,
             "solidity": 0.2
            },
            "type": "scatter"
           }
          ],
          "scatter3d": [
           {
            "line": {
             "colorbar": {
              "outlinewidth": 0,
              "ticks": ""
             }
            },
            "marker": {
             "colorbar": {
              "outlinewidth": 0,
              "ticks": ""
             }
            },
            "type": "scatter3d"
           }
          ],
          "scattercarpet": [
           {
            "marker": {
             "colorbar": {
              "outlinewidth": 0,
              "ticks": ""
             }
            },
            "type": "scattercarpet"
           }
          ],
          "scattergeo": [
           {
            "marker": {
             "colorbar": {
              "outlinewidth": 0,
              "ticks": ""
             }
            },
            "type": "scattergeo"
           }
          ],
          "scattergl": [
           {
            "marker": {
             "colorbar": {
              "outlinewidth": 0,
              "ticks": ""
             }
            },
            "type": "scattergl"
           }
          ],
          "scattermapbox": [
           {
            "marker": {
             "colorbar": {
              "outlinewidth": 0,
              "ticks": ""
             }
            },
            "type": "scattermapbox"
           }
          ],
          "scatterpolar": [
           {
            "marker": {
             "colorbar": {
              "outlinewidth": 0,
              "ticks": ""
             }
            },
            "type": "scatterpolar"
           }
          ],
          "scatterpolargl": [
           {
            "marker": {
             "colorbar": {
              "outlinewidth": 0,
              "ticks": ""
             }
            },
            "type": "scatterpolargl"
           }
          ],
          "scatterternary": [
           {
            "marker": {
             "colorbar": {
              "outlinewidth": 0,
              "ticks": ""
             }
            },
            "type": "scatterternary"
           }
          ],
          "surface": [
           {
            "colorbar": {
             "outlinewidth": 0,
             "ticks": ""
            },
            "colorscale": [
             [
              0,
              "#0d0887"
             ],
             [
              0.1111111111111111,
              "#46039f"
             ],
             [
              0.2222222222222222,
              "#7201a8"
             ],
             [
              0.3333333333333333,
              "#9c179e"
             ],
             [
              0.4444444444444444,
              "#bd3786"
             ],
             [
              0.5555555555555556,
              "#d8576b"
             ],
             [
              0.6666666666666666,
              "#ed7953"
             ],
             [
              0.7777777777777778,
              "#fb9f3a"
             ],
             [
              0.8888888888888888,
              "#fdca26"
             ],
             [
              1,
              "#f0f921"
             ]
            ],
            "type": "surface"
           }
          ],
          "table": [
           {
            "cells": {
             "fill": {
              "color": "#EBF0F8"
             },
             "line": {
              "color": "white"
             }
            },
            "header": {
             "fill": {
              "color": "#C8D4E3"
             },
             "line": {
              "color": "white"
             }
            },
            "type": "table"
           }
          ]
         },
         "layout": {
          "annotationdefaults": {
           "arrowcolor": "#2a3f5f",
           "arrowhead": 0,
           "arrowwidth": 1
          },
          "autotypenumbers": "strict",
          "coloraxis": {
           "colorbar": {
            "outlinewidth": 0,
            "ticks": ""
           }
          },
          "colorscale": {
           "diverging": [
            [
             0,
             "#8e0152"
            ],
            [
             0.1,
             "#c51b7d"
            ],
            [
             0.2,
             "#de77ae"
            ],
            [
             0.3,
             "#f1b6da"
            ],
            [
             0.4,
             "#fde0ef"
            ],
            [
             0.5,
             "#f7f7f7"
            ],
            [
             0.6,
             "#e6f5d0"
            ],
            [
             0.7,
             "#b8e186"
            ],
            [
             0.8,
             "#7fbc41"
            ],
            [
             0.9,
             "#4d9221"
            ],
            [
             1,
             "#276419"
            ]
           ],
           "sequential": [
            [
             0,
             "#0d0887"
            ],
            [
             0.1111111111111111,
             "#46039f"
            ],
            [
             0.2222222222222222,
             "#7201a8"
            ],
            [
             0.3333333333333333,
             "#9c179e"
            ],
            [
             0.4444444444444444,
             "#bd3786"
            ],
            [
             0.5555555555555556,
             "#d8576b"
            ],
            [
             0.6666666666666666,
             "#ed7953"
            ],
            [
             0.7777777777777778,
             "#fb9f3a"
            ],
            [
             0.8888888888888888,
             "#fdca26"
            ],
            [
             1,
             "#f0f921"
            ]
           ],
           "sequentialminus": [
            [
             0,
             "#0d0887"
            ],
            [
             0.1111111111111111,
             "#46039f"
            ],
            [
             0.2222222222222222,
             "#7201a8"
            ],
            [
             0.3333333333333333,
             "#9c179e"
            ],
            [
             0.4444444444444444,
             "#bd3786"
            ],
            [
             0.5555555555555556,
             "#d8576b"
            ],
            [
             0.6666666666666666,
             "#ed7953"
            ],
            [
             0.7777777777777778,
             "#fb9f3a"
            ],
            [
             0.8888888888888888,
             "#fdca26"
            ],
            [
             1,
             "#f0f921"
            ]
           ]
          },
          "colorway": [
           "#636efa",
           "#EF553B",
           "#00cc96",
           "#ab63fa",
           "#FFA15A",
           "#19d3f3",
           "#FF6692",
           "#B6E880",
           "#FF97FF",
           "#FECB52"
          ],
          "font": {
           "color": "#2a3f5f"
          },
          "geo": {
           "bgcolor": "white",
           "lakecolor": "white",
           "landcolor": "#E5ECF6",
           "showlakes": true,
           "showland": true,
           "subunitcolor": "white"
          },
          "hoverlabel": {
           "align": "left"
          },
          "hovermode": "closest",
          "mapbox": {
           "style": "light"
          },
          "paper_bgcolor": "white",
          "plot_bgcolor": "#E5ECF6",
          "polar": {
           "angularaxis": {
            "gridcolor": "white",
            "linecolor": "white",
            "ticks": ""
           },
           "bgcolor": "#E5ECF6",
           "radialaxis": {
            "gridcolor": "white",
            "linecolor": "white",
            "ticks": ""
           }
          },
          "scene": {
           "xaxis": {
            "backgroundcolor": "#E5ECF6",
            "gridcolor": "white",
            "gridwidth": 2,
            "linecolor": "white",
            "showbackground": true,
            "ticks": "",
            "zerolinecolor": "white"
           },
           "yaxis": {
            "backgroundcolor": "#E5ECF6",
            "gridcolor": "white",
            "gridwidth": 2,
            "linecolor": "white",
            "showbackground": true,
            "ticks": "",
            "zerolinecolor": "white"
           },
           "zaxis": {
            "backgroundcolor": "#E5ECF6",
            "gridcolor": "white",
            "gridwidth": 2,
            "linecolor": "white",
            "showbackground": true,
            "ticks": "",
            "zerolinecolor": "white"
           }
          },
          "shapedefaults": {
           "line": {
            "color": "#2a3f5f"
           }
          },
          "ternary": {
           "aaxis": {
            "gridcolor": "white",
            "linecolor": "white",
            "ticks": ""
           },
           "baxis": {
            "gridcolor": "white",
            "linecolor": "white",
            "ticks": ""
           },
           "bgcolor": "#E5ECF6",
           "caxis": {
            "gridcolor": "white",
            "linecolor": "white",
            "ticks": ""
           }
          },
          "title": {
           "x": 0.05
          },
          "xaxis": {
           "automargin": true,
           "gridcolor": "white",
           "linecolor": "white",
           "ticks": "",
           "title": {
            "standoff": 15
           },
           "zerolinecolor": "white",
           "zerolinewidth": 2
          },
          "yaxis": {
           "automargin": true,
           "gridcolor": "white",
           "linecolor": "white",
           "ticks": "",
           "title": {
            "standoff": 15
           },
           "zerolinecolor": "white",
           "zerolinewidth": 2
          }
         }
        },
        "title": {
         "text": "Average Cancellation Time by Hour and Driver Assignment",
         "x": 0.5
        },
        "width": 800,
        "xaxis": {
         "ticktext": [
          "0:00",
          "1:00",
          "2:00",
          "3:00",
          "4:00",
          "5:00",
          "6:00",
          "7:00",
          "8:00",
          "9:00",
          "10:00",
          "11:00",
          "12:00",
          "13:00",
          "14:00",
          "15:00",
          "16:00",
          "17:00",
          "18:00",
          "19:00",
          "20:00",
          "21:00",
          "22:00",
          "23:00"
         ],
         "tickvals": [
          0,
          1,
          2,
          3,
          4,
          5,
          6,
          7,
          8,
          9,
          10,
          11,
          12,
          13,
          14,
          15,
          16,
          17,
          18,
          19,
          20,
          21,
          22,
          23
         ],
         "title": {
          "text": "Order Hour"
         }
        },
        "yaxis": {
         "title": {
          "text": "Time in Seconds"
         }
        }
       }
      }
     },
     "metadata": {},
     "output_type": "display_data"
    }
   ],
   "source": [
    "cancallation_time_fig = go.Figure()\n",
    "\n",
    "for status in cancellation_time['is_driver_assigned'].unique():\n",
    "    cancallation_time_fig.add_trace(go.Scatter(\n",
    "        x=cancellation_time[cancellation_time['is_driver_assigned'] == status]['order_hour'],\n",
    "        y=cancellation_time[cancellation_time['is_driver_assigned'] == status]['time_b4_cancellation'],\n",
    "        mode='lines+markers',\n",
    "        name=f'Driver Assigned: {status}',\n",
    "        marker=dict(size=8),\n",
    "        line=dict(width=2 , dash='dot')\n",
    "    ))\n",
    "\n",
    "# Update layout\n",
    "cancallation_time_fig.update_layout(\n",
    "    title='Average Cancellation Time by Hour and Driver Assignment',\n",
    "    title_x=0.5,\n",
    "    xaxis_title='Order Hour',\n",
    "    yaxis_title='Time in Seconds',\n",
    "    width=800,\n",
    "    height=600,\n",
    ")\n",
    "\n",
    "# Update x-axis to show every hour\n",
    "cancallation_time_fig.update_xaxes(\n",
    "    tickvals=np.arange(0, 24, 1),  # Set the x-axis values to show every hour\n",
    "    ticktext=[f\"{hour}:00\" for hour in np.arange(0, 24, 1)]  # Format the x-axis values as \"hour:00\"\n",
    ")\n",
    "\n",
    "# Show the figure\n",
    "cancallation_time_fig.show()\n"
   ]
  },
  {
   "cell_type": "markdown",
   "metadata": {
    "id": "8DbpfVvGOyqL"
   },
   "source": [
    "### Question-4"
   ]
  },
  {
   "cell_type": "markdown",
   "metadata": {
    "id": "PbxDirNyOyqM"
   },
   "source": [
    "Plot the distribution of average ETA by hours and explain any trend established."
   ]
  },
  {
   "cell_type": "code",
   "execution_count": 37,
   "metadata": {
    "colab": {
     "base_uri": "https://localhost:8080/",
     "height": 0
    },
    "executionInfo": {
     "elapsed": 55,
     "status": "ok",
     "timestamp": 1734336654685,
     "user": {
      "displayName": "Nila Ko",
      "userId": "09641442724310039362"
     },
     "user_tz": 480
    },
    "id": "RpV4n3vOOyqM",
    "outputId": "2e1c8d2d-4e22-4103-a391-3962193fb645"
   },
   "outputs": [
    {
     "data": {
      "text/html": [
       "<div>\n",
       "<style scoped>\n",
       "    .dataframe tbody tr th:only-of-type {\n",
       "        vertical-align: middle;\n",
       "    }\n",
       "\n",
       "    .dataframe tbody tr th {\n",
       "        vertical-align: top;\n",
       "    }\n",
       "\n",
       "    .dataframe thead th {\n",
       "        text-align: right;\n",
       "    }\n",
       "</style>\n",
       "<table border=\"1\" class=\"dataframe\">\n",
       "  <thead>\n",
       "    <tr style=\"text-align: right;\">\n",
       "      <th></th>\n",
       "      <th>ETA</th>\n",
       "      <th>order_hour</th>\n",
       "    </tr>\n",
       "  </thead>\n",
       "  <tbody>\n",
       "    <tr>\n",
       "      <th>ETA</th>\n",
       "      <td>1.00000</td>\n",
       "      <td>-0.11881</td>\n",
       "    </tr>\n",
       "    <tr>\n",
       "      <th>order_hour</th>\n",
       "      <td>-0.11881</td>\n",
       "      <td>1.00000</td>\n",
       "    </tr>\n",
       "  </tbody>\n",
       "</table>\n",
       "</div>"
      ],
      "text/plain": [
       "                ETA  order_hour\n",
       "ETA         1.00000    -0.11881\n",
       "order_hour -0.11881     1.00000"
      ]
     },
     "execution_count": 37,
     "metadata": {},
     "output_type": "execute_result"
    }
   ],
   "source": [
    "df[['ETA','order_hour']].corr()"
   ]
  },
  {
   "cell_type": "markdown",
   "metadata": {
    "id": "2BjV0ZBrOyqM"
   },
   "source": [
    "Interpretation:\n",
    "   - A value of -0.11881 indicates a weak negative correlation. This means that as `order_hour` increases (i.e., later in the day), there is a very slight tendency for the `ETA` to decrease, but the relationship is weak.\n",
    "   - A correlation close to 0 (like in this case) suggests that the relationship between these two variables is not strong, meaning there isn't much linear dependence between `order_hour` and `ETA`."
   ]
  },
  {
   "cell_type": "code",
   "execution_count": 38,
   "metadata": {
    "colab": {
     "base_uri": "https://localhost:8080/",
     "height": 0
    },
    "executionInfo": {
     "elapsed": 9,
     "status": "ok",
     "timestamp": 1734336654770,
     "user": {
      "displayName": "Nila Ko",
      "userId": "09641442724310039362"
     },
     "user_tz": 480
    },
    "id": "V4O0jig5OyqM",
    "outputId": "649fa321-f615-4005-fe6c-c2b832069adb"
   },
   "outputs": [
    {
     "data": {
      "application/vnd.plotly.v1+json": {
       "config": {
        "plotlyServerURL": "https://plot.ly"
       },
       "data": [
        {
         "line": {
          "dash": "dot",
          "width": 2
         },
         "marker": {
          "size": 8
         },
         "mode": "lines+markers",
         "type": "scatter",
         "x": [
          0,
          1,
          2,
          3,
          4,
          5,
          6,
          7,
          8,
          9,
          10,
          11,
          12,
          13,
          14,
          15,
          16,
          17,
          18,
          19,
          20,
          21,
          22,
          23
         ],
         "y": [
          375.43333333333334,
          355.32214765100673,
          389.5541666666667,
          381.4923076923077,
          266.1195652173913,
          476.78723404255317,
          489.4561403508772,
          642.7466150870406,
          671.0861111111111,
          556.085020242915,
          424.969298245614,
          405.8379310344828,
          504.69122807017544,
          445.2280701754386,
          406.3838383838384,
          518.2184368737475,
          456.9587020648967,
          548.6731182795698,
          421.7253333333333,
          396.8501628664495,
          299.6271676300578,
          365.6307692307692,
          365.8963855421687,
          386.0788288288288
         ]
        }
       ],
       "layout": {
        "height": 600,
        "template": {
         "data": {
          "bar": [
           {
            "error_x": {
             "color": "#2a3f5f"
            },
            "error_y": {
             "color": "#2a3f5f"
            },
            "marker": {
             "line": {
              "color": "#E5ECF6",
              "width": 0.5
             },
             "pattern": {
              "fillmode": "overlay",
              "size": 10,
              "solidity": 0.2
             }
            },
            "type": "bar"
           }
          ],
          "barpolar": [
           {
            "marker": {
             "line": {
              "color": "#E5ECF6",
              "width": 0.5
             },
             "pattern": {
              "fillmode": "overlay",
              "size": 10,
              "solidity": 0.2
             }
            },
            "type": "barpolar"
           }
          ],
          "carpet": [
           {
            "aaxis": {
             "endlinecolor": "#2a3f5f",
             "gridcolor": "white",
             "linecolor": "white",
             "minorgridcolor": "white",
             "startlinecolor": "#2a3f5f"
            },
            "baxis": {
             "endlinecolor": "#2a3f5f",
             "gridcolor": "white",
             "linecolor": "white",
             "minorgridcolor": "white",
             "startlinecolor": "#2a3f5f"
            },
            "type": "carpet"
           }
          ],
          "choropleth": [
           {
            "colorbar": {
             "outlinewidth": 0,
             "ticks": ""
            },
            "type": "choropleth"
           }
          ],
          "contour": [
           {
            "colorbar": {
             "outlinewidth": 0,
             "ticks": ""
            },
            "colorscale": [
             [
              0,
              "#0d0887"
             ],
             [
              0.1111111111111111,
              "#46039f"
             ],
             [
              0.2222222222222222,
              "#7201a8"
             ],
             [
              0.3333333333333333,
              "#9c179e"
             ],
             [
              0.4444444444444444,
              "#bd3786"
             ],
             [
              0.5555555555555556,
              "#d8576b"
             ],
             [
              0.6666666666666666,
              "#ed7953"
             ],
             [
              0.7777777777777778,
              "#fb9f3a"
             ],
             [
              0.8888888888888888,
              "#fdca26"
             ],
             [
              1,
              "#f0f921"
             ]
            ],
            "type": "contour"
           }
          ],
          "contourcarpet": [
           {
            "colorbar": {
             "outlinewidth": 0,
             "ticks": ""
            },
            "type": "contourcarpet"
           }
          ],
          "heatmap": [
           {
            "colorbar": {
             "outlinewidth": 0,
             "ticks": ""
            },
            "colorscale": [
             [
              0,
              "#0d0887"
             ],
             [
              0.1111111111111111,
              "#46039f"
             ],
             [
              0.2222222222222222,
              "#7201a8"
             ],
             [
              0.3333333333333333,
              "#9c179e"
             ],
             [
              0.4444444444444444,
              "#bd3786"
             ],
             [
              0.5555555555555556,
              "#d8576b"
             ],
             [
              0.6666666666666666,
              "#ed7953"
             ],
             [
              0.7777777777777778,
              "#fb9f3a"
             ],
             [
              0.8888888888888888,
              "#fdca26"
             ],
             [
              1,
              "#f0f921"
             ]
            ],
            "type": "heatmap"
           }
          ],
          "heatmapgl": [
           {
            "colorbar": {
             "outlinewidth": 0,
             "ticks": ""
            },
            "colorscale": [
             [
              0,
              "#0d0887"
             ],
             [
              0.1111111111111111,
              "#46039f"
             ],
             [
              0.2222222222222222,
              "#7201a8"
             ],
             [
              0.3333333333333333,
              "#9c179e"
             ],
             [
              0.4444444444444444,
              "#bd3786"
             ],
             [
              0.5555555555555556,
              "#d8576b"
             ],
             [
              0.6666666666666666,
              "#ed7953"
             ],
             [
              0.7777777777777778,
              "#fb9f3a"
             ],
             [
              0.8888888888888888,
              "#fdca26"
             ],
             [
              1,
              "#f0f921"
             ]
            ],
            "type": "heatmapgl"
           }
          ],
          "histogram": [
           {
            "marker": {
             "pattern": {
              "fillmode": "overlay",
              "size": 10,
              "solidity": 0.2
             }
            },
            "type": "histogram"
           }
          ],
          "histogram2d": [
           {
            "colorbar": {
             "outlinewidth": 0,
             "ticks": ""
            },
            "colorscale": [
             [
              0,
              "#0d0887"
             ],
             [
              0.1111111111111111,
              "#46039f"
             ],
             [
              0.2222222222222222,
              "#7201a8"
             ],
             [
              0.3333333333333333,
              "#9c179e"
             ],
             [
              0.4444444444444444,
              "#bd3786"
             ],
             [
              0.5555555555555556,
              "#d8576b"
             ],
             [
              0.6666666666666666,
              "#ed7953"
             ],
             [
              0.7777777777777778,
              "#fb9f3a"
             ],
             [
              0.8888888888888888,
              "#fdca26"
             ],
             [
              1,
              "#f0f921"
             ]
            ],
            "type": "histogram2d"
           }
          ],
          "histogram2dcontour": [
           {
            "colorbar": {
             "outlinewidth": 0,
             "ticks": ""
            },
            "colorscale": [
             [
              0,
              "#0d0887"
             ],
             [
              0.1111111111111111,
              "#46039f"
             ],
             [
              0.2222222222222222,
              "#7201a8"
             ],
             [
              0.3333333333333333,
              "#9c179e"
             ],
             [
              0.4444444444444444,
              "#bd3786"
             ],
             [
              0.5555555555555556,
              "#d8576b"
             ],
             [
              0.6666666666666666,
              "#ed7953"
             ],
             [
              0.7777777777777778,
              "#fb9f3a"
             ],
             [
              0.8888888888888888,
              "#fdca26"
             ],
             [
              1,
              "#f0f921"
             ]
            ],
            "type": "histogram2dcontour"
           }
          ],
          "mesh3d": [
           {
            "colorbar": {
             "outlinewidth": 0,
             "ticks": ""
            },
            "type": "mesh3d"
           }
          ],
          "parcoords": [
           {
            "line": {
             "colorbar": {
              "outlinewidth": 0,
              "ticks": ""
             }
            },
            "type": "parcoords"
           }
          ],
          "pie": [
           {
            "automargin": true,
            "type": "pie"
           }
          ],
          "scatter": [
           {
            "fillpattern": {
             "fillmode": "overlay",
             "size": 10,
             "solidity": 0.2
            },
            "type": "scatter"
           }
          ],
          "scatter3d": [
           {
            "line": {
             "colorbar": {
              "outlinewidth": 0,
              "ticks": ""
             }
            },
            "marker": {
             "colorbar": {
              "outlinewidth": 0,
              "ticks": ""
             }
            },
            "type": "scatter3d"
           }
          ],
          "scattercarpet": [
           {
            "marker": {
             "colorbar": {
              "outlinewidth": 0,
              "ticks": ""
             }
            },
            "type": "scattercarpet"
           }
          ],
          "scattergeo": [
           {
            "marker": {
             "colorbar": {
              "outlinewidth": 0,
              "ticks": ""
             }
            },
            "type": "scattergeo"
           }
          ],
          "scattergl": [
           {
            "marker": {
             "colorbar": {
              "outlinewidth": 0,
              "ticks": ""
             }
            },
            "type": "scattergl"
           }
          ],
          "scattermapbox": [
           {
            "marker": {
             "colorbar": {
              "outlinewidth": 0,
              "ticks": ""
             }
            },
            "type": "scattermapbox"
           }
          ],
          "scatterpolar": [
           {
            "marker": {
             "colorbar": {
              "outlinewidth": 0,
              "ticks": ""
             }
            },
            "type": "scatterpolar"
           }
          ],
          "scatterpolargl": [
           {
            "marker": {
             "colorbar": {
              "outlinewidth": 0,
              "ticks": ""
             }
            },
            "type": "scatterpolargl"
           }
          ],
          "scatterternary": [
           {
            "marker": {
             "colorbar": {
              "outlinewidth": 0,
              "ticks": ""
             }
            },
            "type": "scatterternary"
           }
          ],
          "surface": [
           {
            "colorbar": {
             "outlinewidth": 0,
             "ticks": ""
            },
            "colorscale": [
             [
              0,
              "#0d0887"
             ],
             [
              0.1111111111111111,
              "#46039f"
             ],
             [
              0.2222222222222222,
              "#7201a8"
             ],
             [
              0.3333333333333333,
              "#9c179e"
             ],
             [
              0.4444444444444444,
              "#bd3786"
             ],
             [
              0.5555555555555556,
              "#d8576b"
             ],
             [
              0.6666666666666666,
              "#ed7953"
             ],
             [
              0.7777777777777778,
              "#fb9f3a"
             ],
             [
              0.8888888888888888,
              "#fdca26"
             ],
             [
              1,
              "#f0f921"
             ]
            ],
            "type": "surface"
           }
          ],
          "table": [
           {
            "cells": {
             "fill": {
              "color": "#EBF0F8"
             },
             "line": {
              "color": "white"
             }
            },
            "header": {
             "fill": {
              "color": "#C8D4E3"
             },
             "line": {
              "color": "white"
             }
            },
            "type": "table"
           }
          ]
         },
         "layout": {
          "annotationdefaults": {
           "arrowcolor": "#2a3f5f",
           "arrowhead": 0,
           "arrowwidth": 1
          },
          "autotypenumbers": "strict",
          "coloraxis": {
           "colorbar": {
            "outlinewidth": 0,
            "ticks": ""
           }
          },
          "colorscale": {
           "diverging": [
            [
             0,
             "#8e0152"
            ],
            [
             0.1,
             "#c51b7d"
            ],
            [
             0.2,
             "#de77ae"
            ],
            [
             0.3,
             "#f1b6da"
            ],
            [
             0.4,
             "#fde0ef"
            ],
            [
             0.5,
             "#f7f7f7"
            ],
            [
             0.6,
             "#e6f5d0"
            ],
            [
             0.7,
             "#b8e186"
            ],
            [
             0.8,
             "#7fbc41"
            ],
            [
             0.9,
             "#4d9221"
            ],
            [
             1,
             "#276419"
            ]
           ],
           "sequential": [
            [
             0,
             "#0d0887"
            ],
            [
             0.1111111111111111,
             "#46039f"
            ],
            [
             0.2222222222222222,
             "#7201a8"
            ],
            [
             0.3333333333333333,
             "#9c179e"
            ],
            [
             0.4444444444444444,
             "#bd3786"
            ],
            [
             0.5555555555555556,
             "#d8576b"
            ],
            [
             0.6666666666666666,
             "#ed7953"
            ],
            [
             0.7777777777777778,
             "#fb9f3a"
            ],
            [
             0.8888888888888888,
             "#fdca26"
            ],
            [
             1,
             "#f0f921"
            ]
           ],
           "sequentialminus": [
            [
             0,
             "#0d0887"
            ],
            [
             0.1111111111111111,
             "#46039f"
            ],
            [
             0.2222222222222222,
             "#7201a8"
            ],
            [
             0.3333333333333333,
             "#9c179e"
            ],
            [
             0.4444444444444444,
             "#bd3786"
            ],
            [
             0.5555555555555556,
             "#d8576b"
            ],
            [
             0.6666666666666666,
             "#ed7953"
            ],
            [
             0.7777777777777778,
             "#fb9f3a"
            ],
            [
             0.8888888888888888,
             "#fdca26"
            ],
            [
             1,
             "#f0f921"
            ]
           ]
          },
          "colorway": [
           "#636efa",
           "#EF553B",
           "#00cc96",
           "#ab63fa",
           "#FFA15A",
           "#19d3f3",
           "#FF6692",
           "#B6E880",
           "#FF97FF",
           "#FECB52"
          ],
          "font": {
           "color": "#2a3f5f"
          },
          "geo": {
           "bgcolor": "white",
           "lakecolor": "white",
           "landcolor": "#E5ECF6",
           "showlakes": true,
           "showland": true,
           "subunitcolor": "white"
          },
          "hoverlabel": {
           "align": "left"
          },
          "hovermode": "closest",
          "mapbox": {
           "style": "light"
          },
          "paper_bgcolor": "white",
          "plot_bgcolor": "#E5ECF6",
          "polar": {
           "angularaxis": {
            "gridcolor": "white",
            "linecolor": "white",
            "ticks": ""
           },
           "bgcolor": "#E5ECF6",
           "radialaxis": {
            "gridcolor": "white",
            "linecolor": "white",
            "ticks": ""
           }
          },
          "scene": {
           "xaxis": {
            "backgroundcolor": "#E5ECF6",
            "gridcolor": "white",
            "gridwidth": 2,
            "linecolor": "white",
            "showbackground": true,
            "ticks": "",
            "zerolinecolor": "white"
           },
           "yaxis": {
            "backgroundcolor": "#E5ECF6",
            "gridcolor": "white",
            "gridwidth": 2,
            "linecolor": "white",
            "showbackground": true,
            "ticks": "",
            "zerolinecolor": "white"
           },
           "zaxis": {
            "backgroundcolor": "#E5ECF6",
            "gridcolor": "white",
            "gridwidth": 2,
            "linecolor": "white",
            "showbackground": true,
            "ticks": "",
            "zerolinecolor": "white"
           }
          },
          "shapedefaults": {
           "line": {
            "color": "#2a3f5f"
           }
          },
          "ternary": {
           "aaxis": {
            "gridcolor": "white",
            "linecolor": "white",
            "ticks": ""
           },
           "baxis": {
            "gridcolor": "white",
            "linecolor": "white",
            "ticks": ""
           },
           "bgcolor": "#E5ECF6",
           "caxis": {
            "gridcolor": "white",
            "linecolor": "white",
            "ticks": ""
           }
          },
          "title": {
           "x": 0.05
          },
          "xaxis": {
           "automargin": true,
           "gridcolor": "white",
           "linecolor": "white",
           "ticks": "",
           "title": {
            "standoff": 15
           },
           "zerolinecolor": "white",
           "zerolinewidth": 2
          },
          "yaxis": {
           "automargin": true,
           "gridcolor": "white",
           "linecolor": "white",
           "ticks": "",
           "title": {
            "standoff": 15
           },
           "zerolinecolor": "white",
           "zerolinewidth": 2
          }
         }
        },
        "title": {
         "text": "Average ETA by Hour",
         "x": 0.5
        },
        "width": 800,
        "xaxis": {
         "ticktext": [
          "0:00",
          "1:00",
          "2:00",
          "3:00",
          "4:00",
          "5:00",
          "6:00",
          "7:00",
          "8:00",
          "9:00",
          "10:00",
          "11:00",
          "12:00",
          "13:00",
          "14:00",
          "15:00",
          "16:00",
          "17:00",
          "18:00",
          "19:00",
          "20:00",
          "21:00",
          "22:00",
          "23:00"
         ],
         "tickvals": [
          0,
          1,
          2,
          3,
          4,
          5,
          6,
          7,
          8,
          9,
          10,
          11,
          12,
          13,
          14,
          15,
          16,
          17,
          18,
          19,
          20,
          21,
          22,
          23
         ],
         "title": {
          "text": "Order Hour"
         }
        },
        "yaxis": {
         "title": {
          "text": "ETA in Seconds"
         }
        }
       }
      }
     },
     "metadata": {},
     "output_type": "display_data"
    }
   ],
   "source": [
    "average_eta = df.groupby('order_hour')['ETA'].mean().reset_index()\n",
    "\n",
    "average_eta_fig = go.Figure()\n",
    "\n",
    "average_eta_fig.add_trace(go.Scatter\n",
    "                            (x=average_eta['order_hour'],\n",
    "                             y=average_eta['ETA'],\n",
    "                             mode='lines+markers',\n",
    "                             marker=dict(size=8),\n",
    "                             line=dict(width=2, dash='dot')\n",
    "                            ))\n",
    "\n",
    "average_eta_fig.update_layout(title='Average ETA by Hour',\n",
    "                              title_x=0.5,\n",
    "                              xaxis_title='Order Hour',\n",
    "                              yaxis_title='ETA in Seconds',\n",
    "                              width=800,\n",
    "                              height=600)\n",
    "\n",
    "average_eta_fig.update_xaxes(\n",
    "    tickvals=np.arange(0, 24, 1),  # Set the x-axis values to show every hour\n",
    "    ticktext=[f\"{hour}:00\" for hour in np.arange(0, 24, 1)]  # Format the x-axis values as \"hour:00\"\n",
    ")\n",
    "\n",
    "average_eta_fig.show()\n"
   ]
  },
  {
   "cell_type": "markdown",
   "metadata": {
    "id": "mEcJ9drPOyqM"
   },
   "source": [
    "The bar charts very closely matches the count of total failed orders per hour, indicating that the number of failed orders increases as the average waiting time of the client increases."
   ]
  },
  {
   "cell_type": "markdown",
   "metadata": {
    "id": "m3E2syuTOyqM"
   },
   "source": [
    "### Question-5"
   ]
  },
  {
   "cell_type": "code",
   "execution_count": 39,
   "metadata": {
    "executionInfo": {
     "elapsed": 8,
     "status": "ok",
     "timestamp": 1734336654771,
     "user": {
      "displayName": "Nila Ko",
      "userId": "09641442724310039362"
     },
     "user_tz": 480
    },
    "id": "eP5vviweOyqM"
   },
   "outputs": [],
   "source": [
    "# Define a color scale based on the number of failed orders\n",
    "def get_color(within_80_percent,fail_count):\n",
    "    if within_80_percent == True:\n",
    "        return 'Red'\n",
    "    elif fail_count >= (order_count_by_hex['failed_order_count'].mean())/2:\n",
    "        return 'purple'\n",
    "    else:\n",
    "        return 'Orange'\n"
   ]
  },
  {
   "cell_type": "code",
   "execution_count": 40,
   "metadata": {
    "colab": {
     "base_uri": "https://localhost:8080/",
     "height": 206
    },
    "executionInfo": {
     "elapsed": 2482,
     "status": "ok",
     "timestamp": 1734336657246,
     "user": {
      "displayName": "Nila Ko",
      "userId": "09641442724310039362"
     },
     "user_tz": 480
    },
    "id": "aiP7x-6KOyqM",
    "outputId": "9d02d213-46e3-4732-96e0-f32301da6acd"
   },
   "outputs": [
    {
     "data": {
      "text/html": [
       "<div>\n",
       "<style scoped>\n",
       "    .dataframe tbody tr th:only-of-type {\n",
       "        vertical-align: middle;\n",
       "    }\n",
       "\n",
       "    .dataframe tbody tr th {\n",
       "        vertical-align: top;\n",
       "    }\n",
       "\n",
       "    .dataframe thead th {\n",
       "        text-align: right;\n",
       "    }\n",
       "</style>\n",
       "<table border=\"1\" class=\"dataframe\">\n",
       "  <thead>\n",
       "    <tr style=\"text-align: right;\">\n",
       "      <th></th>\n",
       "      <th>order_id</th>\n",
       "      <th>longitude</th>\n",
       "      <th>latitude</th>\n",
       "      <th>order_status</th>\n",
       "      <th>is_driver_assigned</th>\n",
       "      <th>hex_id</th>\n",
       "    </tr>\n",
       "  </thead>\n",
       "  <tbody>\n",
       "    <tr>\n",
       "      <th>0</th>\n",
       "      <td>3000583041974</td>\n",
       "      <td>-0.978916</td>\n",
       "      <td>51.456173</td>\n",
       "      <td>Cancelled_by_client</td>\n",
       "      <td>1</td>\n",
       "      <td>88195d2b03fffff</td>\n",
       "    </tr>\n",
       "    <tr>\n",
       "      <th>1</th>\n",
       "      <td>3000583116437</td>\n",
       "      <td>-0.950385</td>\n",
       "      <td>51.456843</td>\n",
       "      <td>Cancelled_by_client</td>\n",
       "      <td>0</td>\n",
       "      <td>88195d2b19fffff</td>\n",
       "    </tr>\n",
       "    <tr>\n",
       "      <th>2</th>\n",
       "      <td>3000583116437</td>\n",
       "      <td>-0.950385</td>\n",
       "      <td>51.456843</td>\n",
       "      <td>Cancelled_by_client</td>\n",
       "      <td>0</td>\n",
       "      <td>88195d2b19fffff</td>\n",
       "    </tr>\n",
       "    <tr>\n",
       "      <th>3</th>\n",
       "      <td>3000583116437</td>\n",
       "      <td>-0.950385</td>\n",
       "      <td>51.456843</td>\n",
       "      <td>Cancelled_by_client</td>\n",
       "      <td>0</td>\n",
       "      <td>88195d2b19fffff</td>\n",
       "    </tr>\n",
       "    <tr>\n",
       "      <th>4</th>\n",
       "      <td>3000582891479</td>\n",
       "      <td>-0.969520</td>\n",
       "      <td>51.455544</td>\n",
       "      <td>Cancelled_by_client</td>\n",
       "      <td>1</td>\n",
       "      <td>88195d2b1dfffff</td>\n",
       "    </tr>\n",
       "  </tbody>\n",
       "</table>\n",
       "</div>"
      ],
      "text/plain": [
       "        order_id  longitude   latitude         order_status  \\\n",
       "0  3000583041974  -0.978916  51.456173  Cancelled_by_client   \n",
       "1  3000583116437  -0.950385  51.456843  Cancelled_by_client   \n",
       "2  3000583116437  -0.950385  51.456843  Cancelled_by_client   \n",
       "3  3000583116437  -0.950385  51.456843  Cancelled_by_client   \n",
       "4  3000582891479  -0.969520  51.455544  Cancelled_by_client   \n",
       "\n",
       "   is_driver_assigned           hex_id  \n",
       "0                   1  88195d2b03fffff  \n",
       "1                   0  88195d2b19fffff  \n",
       "2                   0  88195d2b19fffff  \n",
       "3                   0  88195d2b19fffff  \n",
       "4                   1  88195d2b1dfffff  "
      ]
     },
     "metadata": {},
     "output_type": "display_data"
    }
   ],
   "source": [
    "# Map each order to an h3 hexagon of resolution 8\n",
    "df['hex_id'] = df.apply(lambda x: h3.geo_to_h3(x.latitude, x.longitude, 8), axis=1)\n",
    "\n",
    "display(df[['order_id','longitude','latitude','order_status','is_driver_assigned','hex_id']].head())"
   ]
  },
  {
   "cell_type": "code",
   "execution_count": 41,
   "metadata": {
    "colab": {
     "base_uri": "https://localhost:8080/",
     "height": 206
    },
    "executionInfo": {
     "elapsed": 12,
     "status": "ok",
     "timestamp": 1734336657246,
     "user": {
      "displayName": "Nila Ko",
      "userId": "09641442724310039362"
     },
     "user_tz": 480
    },
    "id": "kNH1HjnsR-DF",
    "outputId": "89be5746-c6bb-4862-9d26-7addd8896977"
   },
   "outputs": [
    {
     "data": {
      "text/html": [
       "<div>\n",
       "<style scoped>\n",
       "    .dataframe tbody tr th:only-of-type {\n",
       "        vertical-align: middle;\n",
       "    }\n",
       "\n",
       "    .dataframe tbody tr th {\n",
       "        vertical-align: top;\n",
       "    }\n",
       "\n",
       "    .dataframe thead th {\n",
       "        text-align: right;\n",
       "    }\n",
       "</style>\n",
       "<table border=\"1\" class=\"dataframe\">\n",
       "  <thead>\n",
       "    <tr style=\"text-align: right;\">\n",
       "      <th></th>\n",
       "      <th>hex_id</th>\n",
       "      <th>failed_order_count</th>\n",
       "    </tr>\n",
       "  </thead>\n",
       "  <tbody>\n",
       "    <tr>\n",
       "      <th>0</th>\n",
       "      <td>88195d2b1dfffff</td>\n",
       "      <td>4488</td>\n",
       "    </tr>\n",
       "    <tr>\n",
       "      <th>1</th>\n",
       "      <td>88195d2b1bfffff</td>\n",
       "      <td>2603</td>\n",
       "    </tr>\n",
       "    <tr>\n",
       "      <th>2</th>\n",
       "      <td>88195d2b15fffff</td>\n",
       "      <td>2461</td>\n",
       "    </tr>\n",
       "    <tr>\n",
       "      <th>3</th>\n",
       "      <td>88195d2b11fffff</td>\n",
       "      <td>2191</td>\n",
       "    </tr>\n",
       "    <tr>\n",
       "      <th>4</th>\n",
       "      <td>88195d2b19fffff</td>\n",
       "      <td>1960</td>\n",
       "    </tr>\n",
       "  </tbody>\n",
       "</table>\n",
       "</div>"
      ],
      "text/plain": [
       "            hex_id  failed_order_count\n",
       "0  88195d2b1dfffff                4488\n",
       "1  88195d2b1bfffff                2603\n",
       "2  88195d2b15fffff                2461\n",
       "3  88195d2b11fffff                2191\n",
       "4  88195d2b19fffff                1960"
      ]
     },
     "metadata": {},
     "output_type": "display_data"
    }
   ],
   "source": [
    "# Count the number of orders in each hexagon\n",
    "order_count_by_hex = df['hex_id'].value_counts().reset_index()\n",
    "order_count_by_hex.columns = ['hex_id', 'failed_order_count']\n",
    "display(order_count_by_hex.head())"
   ]
  },
  {
   "cell_type": "code",
   "execution_count": 42,
   "metadata": {
    "colab": {
     "base_uri": "https://localhost:8080/",
     "height": 206
    },
    "executionInfo": {
     "elapsed": 230,
     "status": "ok",
     "timestamp": 1734336657466,
     "user": {
      "displayName": "Nila Ko",
      "userId": "09641442724310039362"
     },
     "user_tz": 480
    },
    "id": "gR9ecmnpSCMk",
    "outputId": "daac0ce0-83eb-4ce8-e532-f793e38a46d8"
   },
   "outputs": [
    {
     "data": {
      "text/html": [
       "<div>\n",
       "<style scoped>\n",
       "    .dataframe tbody tr th:only-of-type {\n",
       "        vertical-align: middle;\n",
       "    }\n",
       "\n",
       "    .dataframe tbody tr th {\n",
       "        vertical-align: top;\n",
       "    }\n",
       "\n",
       "    .dataframe thead th {\n",
       "        text-align: right;\n",
       "    }\n",
       "</style>\n",
       "<table border=\"1\" class=\"dataframe\">\n",
       "  <thead>\n",
       "    <tr style=\"text-align: right;\">\n",
       "      <th></th>\n",
       "      <th>hex_id</th>\n",
       "      <th>failed_order_count</th>\n",
       "    </tr>\n",
       "  </thead>\n",
       "  <tbody>\n",
       "    <tr>\n",
       "      <th>0</th>\n",
       "      <td>88195d2b1dfffff</td>\n",
       "      <td>4488</td>\n",
       "    </tr>\n",
       "    <tr>\n",
       "      <th>1</th>\n",
       "      <td>88195d2b1bfffff</td>\n",
       "      <td>2603</td>\n",
       "    </tr>\n",
       "    <tr>\n",
       "      <th>2</th>\n",
       "      <td>88195d2b15fffff</td>\n",
       "      <td>2461</td>\n",
       "    </tr>\n",
       "    <tr>\n",
       "      <th>3</th>\n",
       "      <td>88195d2b11fffff</td>\n",
       "      <td>2191</td>\n",
       "    </tr>\n",
       "    <tr>\n",
       "      <th>4</th>\n",
       "      <td>88195d2b19fffff</td>\n",
       "      <td>1960</td>\n",
       "    </tr>\n",
       "  </tbody>\n",
       "</table>\n",
       "</div>"
      ],
      "text/plain": [
       "            hex_id  failed_order_count\n",
       "0  88195d2b1dfffff                4488\n",
       "1  88195d2b1bfffff                2603\n",
       "2  88195d2b15fffff                2461\n",
       "3  88195d2b11fffff                2191\n",
       "4  88195d2b19fffff                1960"
      ]
     },
     "metadata": {},
     "output_type": "display_data"
    }
   ],
   "source": [
    "order_count_by_hex = order_count_by_hex.sort_values(by='failed_order_count', ascending=False)\n",
    "\n",
    "display(order_count_by_hex.head())"
   ]
  },
  {
   "cell_type": "code",
   "execution_count": 43,
   "metadata": {
    "colab": {
     "base_uri": "https://localhost:8080/"
    },
    "executionInfo": {
     "elapsed": 230,
     "status": "ok",
     "timestamp": 1734336657468,
     "user": {
      "displayName": "Nila Ko",
      "userId": "09641442724310039362"
     },
     "user_tz": 480
    },
    "id": "Hdd-K3V3SyxV",
    "outputId": "480f1df0-8286-4a28-9f87-d8a480b5c45c"
   },
   "outputs": [
    {
     "data": {
      "text/plain": [
       "224.9496402877698"
      ]
     },
     "execution_count": 43,
     "metadata": {},
     "output_type": "execute_result"
    }
   ],
   "source": [
    "order_count_by_hex['failed_order_count'].mean()"
   ]
  },
  {
   "cell_type": "code",
   "execution_count": 44,
   "metadata": {
    "colab": {
     "base_uri": "https://localhost:8080/",
     "height": 206
    },
    "executionInfo": {
     "elapsed": 18,
     "status": "ok",
     "timestamp": 1734336657469,
     "user": {
      "displayName": "Nila Ko",
      "userId": "09641442724310039362"
     },
     "user_tz": 480
    },
    "id": "7mzP8NvpOyqM",
    "outputId": "9f04bfad-2b99-491e-9b38-ff09f1a40302"
   },
   "outputs": [
    {
     "data": {
      "text/html": [
       "<div>\n",
       "<style scoped>\n",
       "    .dataframe tbody tr th:only-of-type {\n",
       "        vertical-align: middle;\n",
       "    }\n",
       "\n",
       "    .dataframe tbody tr th {\n",
       "        vertical-align: top;\n",
       "    }\n",
       "\n",
       "    .dataframe thead th {\n",
       "        text-align: right;\n",
       "    }\n",
       "</style>\n",
       "<table border=\"1\" class=\"dataframe\">\n",
       "  <thead>\n",
       "    <tr style=\"text-align: right;\">\n",
       "      <th></th>\n",
       "      <th>hex_id</th>\n",
       "      <th>failed_order_count</th>\n",
       "      <th>cumulative_count</th>\n",
       "      <th>within_80_percent</th>\n",
       "    </tr>\n",
       "  </thead>\n",
       "  <tbody>\n",
       "    <tr>\n",
       "      <th>0</th>\n",
       "      <td>88195d2b1dfffff</td>\n",
       "      <td>4488</td>\n",
       "      <td>4488</td>\n",
       "      <td>True</td>\n",
       "    </tr>\n",
       "    <tr>\n",
       "      <th>1</th>\n",
       "      <td>88195d2b1bfffff</td>\n",
       "      <td>2603</td>\n",
       "      <td>7091</td>\n",
       "      <td>True</td>\n",
       "    </tr>\n",
       "    <tr>\n",
       "      <th>2</th>\n",
       "      <td>88195d2b15fffff</td>\n",
       "      <td>2461</td>\n",
       "      <td>9552</td>\n",
       "      <td>True</td>\n",
       "    </tr>\n",
       "    <tr>\n",
       "      <th>3</th>\n",
       "      <td>88195d2b11fffff</td>\n",
       "      <td>2191</td>\n",
       "      <td>11743</td>\n",
       "      <td>True</td>\n",
       "    </tr>\n",
       "    <tr>\n",
       "      <th>4</th>\n",
       "      <td>88195d2b19fffff</td>\n",
       "      <td>1960</td>\n",
       "      <td>13703</td>\n",
       "      <td>True</td>\n",
       "    </tr>\n",
       "  </tbody>\n",
       "</table>\n",
       "</div>"
      ],
      "text/plain": [
       "            hex_id  failed_order_count  cumulative_count  within_80_percent\n",
       "0  88195d2b1dfffff                4488              4488               True\n",
       "1  88195d2b1bfffff                2603              7091               True\n",
       "2  88195d2b15fffff                2461              9552               True\n",
       "3  88195d2b11fffff                2191             11743               True\n",
       "4  88195d2b19fffff                1960             13703               True"
      ]
     },
     "metadata": {},
     "output_type": "display_data"
    }
   ],
   "source": [
    "# Find hexagons that account for 80% of all orders\n",
    "total_orders = order_count_by_hex['failed_order_count'].sum()\n",
    "order_count_by_hex['cumulative_count'] = order_count_by_hex['failed_order_count'].cumsum()\n",
    "eighty_percent_orders = total_orders * 0.8\n",
    "order_count_by_hex['within_80_percent'] = order_count_by_hex['cumulative_count'] <= eighty_percent_orders\n",
    "\n",
    "\n",
    "\n",
    "display(order_count_by_hex.head())"
   ]
  },
  {
   "cell_type": "code",
   "execution_count": 45,
   "metadata": {
    "executionInfo": {
     "elapsed": 17,
     "status": "ok",
     "timestamp": 1734336657470,
     "user": {
      "displayName": "Nila Ko",
      "userId": "09641442724310039362"
     },
     "user_tz": 480
    },
    "id": "TjErZFKyQEnW"
   },
   "outputs": [],
   "source": [
    "# order_count_by_hex = order_count_by_hex.head(3)\n",
    "\n",
    "# print(order_count_by_hex.shape)"
   ]
  },
  {
   "cell_type": "code",
   "execution_count": 46,
   "metadata": {
    "colab": {
     "base_uri": "https://localhost:8080/",
     "height": 0
    },
    "executionInfo": {
     "elapsed": 1257,
     "status": "ok",
     "timestamp": 1734336658711,
     "user": {
      "displayName": "Nila Ko",
      "userId": "09641442724310039362"
     },
     "user_tz": 480
    },
    "id": "D8NztnXcOyqM",
    "outputId": "6c17fdc6-d6f1-4a0e-e08a-72057d64b836"
   },
   "outputs": [
    {
     "data": {
      "text/html": [
       "<div style=\"width:100%;\"><div style=\"position:relative;width:100%;height:0;padding-bottom:60%;\"><span style=\"color:#565656\">Make this Notebook Trusted to load map: File -> Trust Notebook</span><iframe srcdoc=\"&lt;!DOCTYPE html&gt;\n",
       "&lt;html&gt;\n",
       "&lt;head&gt;\n",
       "    \n",
       "    &lt;meta http-equiv=&quot;content-type&quot; content=&quot;text/html; charset=UTF-8&quot; /&gt;\n",
       "    \n",
       "        &lt;script&gt;\n",
       "            L_NO_TOUCH = false;\n",
       "            L_DISABLE_3D = false;\n",
       "        &lt;/script&gt;\n",
       "    \n",
       "    &lt;style&gt;html, body {width: 100%;height: 100%;margin: 0;padding: 0;}&lt;/style&gt;\n",
       "    &lt;style&gt;#map {position:absolute;top:0;bottom:0;right:0;left:0;}&lt;/style&gt;\n",
       "    &lt;script src=&quot;https://cdn.jsdelivr.net/npm/leaflet@1.9.3/dist/leaflet.js&quot;&gt;&lt;/script&gt;\n",
       "    &lt;script src=&quot;https://code.jquery.com/jquery-3.7.1.min.js&quot;&gt;&lt;/script&gt;\n",
       "    &lt;script src=&quot;https://cdn.jsdelivr.net/npm/bootstrap@5.2.2/dist/js/bootstrap.bundle.min.js&quot;&gt;&lt;/script&gt;\n",
       "    &lt;script src=&quot;https://cdnjs.cloudflare.com/ajax/libs/Leaflet.awesome-markers/2.0.2/leaflet.awesome-markers.js&quot;&gt;&lt;/script&gt;\n",
       "    &lt;link rel=&quot;stylesheet&quot; href=&quot;https://cdn.jsdelivr.net/npm/leaflet@1.9.3/dist/leaflet.css&quot;/&gt;\n",
       "    &lt;link rel=&quot;stylesheet&quot; href=&quot;https://cdn.jsdelivr.net/npm/bootstrap@5.2.2/dist/css/bootstrap.min.css&quot;/&gt;\n",
       "    &lt;link rel=&quot;stylesheet&quot; href=&quot;https://netdna.bootstrapcdn.com/bootstrap/3.0.0/css/bootstrap-glyphicons.css&quot;/&gt;\n",
       "    &lt;link rel=&quot;stylesheet&quot; href=&quot;https://cdn.jsdelivr.net/npm/@fortawesome/fontawesome-free@6.2.0/css/all.min.css&quot;/&gt;\n",
       "    &lt;link rel=&quot;stylesheet&quot; href=&quot;https://cdnjs.cloudflare.com/ajax/libs/Leaflet.awesome-markers/2.0.2/leaflet.awesome-markers.css&quot;/&gt;\n",
       "    &lt;link rel=&quot;stylesheet&quot; href=&quot;https://cdn.jsdelivr.net/gh/python-visualization/folium/folium/templates/leaflet.awesome.rotate.min.css&quot;/&gt;\n",
       "    \n",
       "            &lt;meta name=&quot;viewport&quot; content=&quot;width=device-width,\n",
       "                initial-scale=1.0, maximum-scale=1.0, user-scalable=no&quot; /&gt;\n",
       "            &lt;style&gt;\n",
       "                #map_42bc33039f62dc425db42b7ba118e17e {\n",
       "                    position: relative;\n",
       "                    width: 100.0%;\n",
       "                    height: 100.0%;\n",
       "                    left: 0.0%;\n",
       "                    top: 0.0%;\n",
       "                }\n",
       "                .leaflet-container { font-size: 1rem; }\n",
       "            &lt;/style&gt;\n",
       "        \n",
       "&lt;/head&gt;\n",
       "&lt;body&gt;\n",
       "    \n",
       "    \n",
       "            &lt;div class=&quot;folium-map&quot; id=&quot;map_42bc33039f62dc425db42b7ba118e17e&quot; &gt;&lt;/div&gt;\n",
       "        \n",
       "&lt;/body&gt;\n",
       "&lt;script&gt;\n",
       "    \n",
       "    \n",
       "            var map_42bc33039f62dc425db42b7ba118e17e = L.map(\n",
       "                &quot;map_42bc33039f62dc425db42b7ba118e17e&quot;,\n",
       "                {\n",
       "                    center: [51.450593785595494, -0.9641223669886145],\n",
       "                    crs: L.CRS.EPSG3857,\n",
       "                    zoom: 12,\n",
       "                    zoomControl: true,\n",
       "                    preferCanvas: false,\n",
       "                }\n",
       "            );\n",
       "\n",
       "            \n",
       "\n",
       "        \n",
       "    \n",
       "            var tile_layer_80db9dcfd61551bd55d2bf28875c571e = L.tileLayer(\n",
       "                &quot;https://tile.openstreetmap.org/{z}/{x}/{y}.png&quot;,\n",
       "                {&quot;attribution&quot;: &quot;\\u0026copy; \\u003ca href=\\&quot;https://www.openstreetmap.org/copyright\\&quot;\\u003eOpenStreetMap\\u003c/a\\u003e contributors&quot;, &quot;detectRetina&quot;: false, &quot;maxNativeZoom&quot;: 19, &quot;maxZoom&quot;: 19, &quot;minZoom&quot;: 0, &quot;noWrap&quot;: false, &quot;opacity&quot;: 1, &quot;subdomains&quot;: &quot;abc&quot;, &quot;tms&quot;: false}\n",
       "            );\n",
       "        \n",
       "    \n",
       "            tile_layer_80db9dcfd61551bd55d2bf28875c571e.addTo(map_42bc33039f62dc425db42b7ba118e17e);\n",
       "        \n",
       "    \n",
       "            var poly_line_dfedaa139d60164f7f1e521e3abd8013 = L.polyline(\n",
       "                [[51.46233424112636, -0.9674195894273825], [51.46108611918584, -0.9741522492296825], [51.45658471409391, -0.9753174349705782], [51.4533316919224, -0.9697507654750529], [51.454579842735626, -0.9630191652468901], [51.459080986831154, -0.9618531750496696]],\n",
       "                {&quot;bubblingMouseEvents&quot;: true, &quot;color&quot;: &quot;Red&quot;, &quot;dashArray&quot;: null, &quot;dashOffset&quot;: null, &quot;fill&quot;: true, &quot;fillColor&quot;: &quot;Red&quot;, &quot;fillOpacity&quot;: 0.4, &quot;fillRule&quot;: &quot;evenodd&quot;, &quot;lineCap&quot;: &quot;round&quot;, &quot;lineJoin&quot;: &quot;round&quot;, &quot;noClip&quot;: false, &quot;opacity&quot;: 1, &quot;smoothFactor&quot;: 1.0, &quot;stroke&quot;: true, &quot;weight&quot;: 1}\n",
       "            ).addTo(map_42bc33039f62dc425db42b7ba118e17e);\n",
       "        \n",
       "    \n",
       "        var popup_9f0d86e339dcee0a4be8bb8cdcf3428c = L.popup({&quot;maxWidth&quot;: 300});\n",
       "\n",
       "        \n",
       "            \n",
       "                var html_80e4cde19aa047bad94e1206531936a7 = $(`&lt;div id=&quot;html_80e4cde19aa047bad94e1206531936a7&quot; style=&quot;width: 100.0%; height: 100.0%;&quot;&gt;Fail Orders: 4488&lt;/div&gt;`)[0];\n",
       "                popup_9f0d86e339dcee0a4be8bb8cdcf3428c.setContent(html_80e4cde19aa047bad94e1206531936a7);\n",
       "            \n",
       "        \n",
       "\n",
       "        poly_line_dfedaa139d60164f7f1e521e3abd8013.bindPopup(popup_9f0d86e339dcee0a4be8bb8cdcf3428c)\n",
       "        ;\n",
       "\n",
       "        \n",
       "    \n",
       "    \n",
       "            var poly_line_a99447c9f096408ce94f0c2767e1e4e8 = L.polyline(\n",
       "                [[51.45257385379414, -0.9507230105639873], [51.451326392230655, -0.957453955291134], [51.4468250230316, -0.9586200902493034], [51.44357137656247, -0.9530560843042358], [51.44481886728639, -0.9463261989134449], [51.449319975302565, -0.945159260240901]],\n",
       "                {&quot;bubblingMouseEvents&quot;: true, &quot;color&quot;: &quot;Red&quot;, &quot;dashArray&quot;: null, &quot;dashOffset&quot;: null, &quot;fill&quot;: true, &quot;fillColor&quot;: &quot;Red&quot;, &quot;fillOpacity&quot;: 0.4, &quot;fillRule&quot;: &quot;evenodd&quot;, &quot;lineCap&quot;: &quot;round&quot;, &quot;lineJoin&quot;: &quot;round&quot;, &quot;noClip&quot;: false, &quot;opacity&quot;: 1, &quot;smoothFactor&quot;: 1.0, &quot;stroke&quot;: true, &quot;weight&quot;: 1}\n",
       "            ).addTo(map_42bc33039f62dc425db42b7ba118e17e);\n",
       "        \n",
       "    \n",
       "        var popup_dfac9936b332f8f2a6cd54fd3ca1ff88 = L.popup({&quot;maxWidth&quot;: 300});\n",
       "\n",
       "        \n",
       "            \n",
       "                var html_c484011c4fb7cdfd547b1071a0da067e = $(`&lt;div id=&quot;html_c484011c4fb7cdfd547b1071a0da067e&quot; style=&quot;width: 100.0%; height: 100.0%;&quot;&gt;Fail Orders: 2603&lt;/div&gt;`)[0];\n",
       "                popup_dfac9936b332f8f2a6cd54fd3ca1ff88.setContent(html_c484011c4fb7cdfd547b1071a0da067e);\n",
       "            \n",
       "        \n",
       "\n",
       "        poly_line_a99447c9f096408ce94f0c2767e1e4e8.bindPopup(popup_dfac9936b332f8f2a6cd54fd3ca1ff88)\n",
       "        ;\n",
       "\n",
       "        \n",
       "    \n",
       "    \n",
       "            var poly_line_53b07b8c60a77cd8a8d981ec23fae763 = L.polyline(\n",
       "                [[51.45658471409391, -0.9753174349705782], [51.4553358737925, -0.9820496902053623], [51.450833982552886, -0.9832142165311876], [51.44758119256423, -0.9776472922484972], [51.44883006164886, -0.9709160963176241], [51.4533316919224, -0.9697507654750529]],\n",
       "                {&quot;bubblingMouseEvents&quot;: true, &quot;color&quot;: &quot;Red&quot;, &quot;dashArray&quot;: null, &quot;dashOffset&quot;: null, &quot;fill&quot;: true, &quot;fillColor&quot;: &quot;Red&quot;, &quot;fillOpacity&quot;: 0.4, &quot;fillRule&quot;: &quot;evenodd&quot;, &quot;lineCap&quot;: &quot;round&quot;, &quot;lineJoin&quot;: &quot;round&quot;, &quot;noClip&quot;: false, &quot;opacity&quot;: 1, &quot;smoothFactor&quot;: 1.0, &quot;stroke&quot;: true, &quot;weight&quot;: 1}\n",
       "            ).addTo(map_42bc33039f62dc425db42b7ba118e17e);\n",
       "        \n",
       "    \n",
       "        var popup_53baa50486837560fa98f123c9ed8169 = L.popup({&quot;maxWidth&quot;: 300});\n",
       "\n",
       "        \n",
       "            \n",
       "                var html_1fb85ef20d0771d6f801c3a7afcb6df8 = $(`&lt;div id=&quot;html_1fb85ef20d0771d6f801c3a7afcb6df8&quot; style=&quot;width: 100.0%; height: 100.0%;&quot;&gt;Fail Orders: 2461&lt;/div&gt;`)[0];\n",
       "                popup_53baa50486837560fa98f123c9ed8169.setContent(html_1fb85ef20d0771d6f801c3a7afcb6df8);\n",
       "            \n",
       "        \n",
       "\n",
       "        poly_line_53b07b8c60a77cd8a8d981ec23fae763.bindPopup(popup_53baa50486837560fa98f123c9ed8169)\n",
       "        ;\n",
       "\n",
       "        \n",
       "    \n",
       "    \n",
       "            var poly_line_97db8178450a45e8e446ee5ba2f545b1 = L.polyline(\n",
       "                [[51.454579842735626, -0.9630191652468901], [51.4533316919224, -0.9697507654750529], [51.44883006164886, -0.9709160963176241], [51.44557684324654, -0.9653506311571627], [51.4468250230316, -0.9586200902493034], [51.451326392230655, -0.957453955291134]],\n",
       "                {&quot;bubblingMouseEvents&quot;: true, &quot;color&quot;: &quot;Red&quot;, &quot;dashArray&quot;: null, &quot;dashOffset&quot;: null, &quot;fill&quot;: true, &quot;fillColor&quot;: &quot;Red&quot;, &quot;fillOpacity&quot;: 0.4, &quot;fillRule&quot;: &quot;evenodd&quot;, &quot;lineCap&quot;: &quot;round&quot;, &quot;lineJoin&quot;: &quot;round&quot;, &quot;noClip&quot;: false, &quot;opacity&quot;: 1, &quot;smoothFactor&quot;: 1.0, &quot;stroke&quot;: true, &quot;weight&quot;: 1}\n",
       "            ).addTo(map_42bc33039f62dc425db42b7ba118e17e);\n",
       "        \n",
       "    \n",
       "        var popup_9a76f306c6febbf8d19ca4999f22f369 = L.popup({&quot;maxWidth&quot;: 300});\n",
       "\n",
       "        \n",
       "            \n",
       "                var html_28f6ea733b3701deda35ef64e05eaf9b = $(`&lt;div id=&quot;html_28f6ea733b3701deda35ef64e05eaf9b&quot; style=&quot;width: 100.0%; height: 100.0%;&quot;&gt;Fail Orders: 2191&lt;/div&gt;`)[0];\n",
       "                popup_9a76f306c6febbf8d19ca4999f22f369.setContent(html_28f6ea733b3701deda35ef64e05eaf9b);\n",
       "            \n",
       "        \n",
       "\n",
       "        poly_line_97db8178450a45e8e446ee5ba2f545b1.bindPopup(popup_9a76f306c6febbf8d19ca4999f22f369)\n",
       "        ;\n",
       "\n",
       "        \n",
       "    \n",
       "    \n",
       "            var poly_line_6c68c90174799e7f3e4a98bc21f1f58d = L.polyline(\n",
       "                [[51.46032841933335, -0.9551211707321967], [51.459080986831154, -0.9618531750496696], [51.454579842735626, -0.9630191652468901], [51.451326392230655, -0.957453955291134], [51.45257385379414, -0.9507230105639873], [51.457074736784854, -0.9495562163118216]],\n",
       "                {&quot;bubblingMouseEvents&quot;: true, &quot;color&quot;: &quot;Red&quot;, &quot;dashArray&quot;: null, &quot;dashOffset&quot;: null, &quot;fill&quot;: true, &quot;fillColor&quot;: &quot;Red&quot;, &quot;fillOpacity&quot;: 0.4, &quot;fillRule&quot;: &quot;evenodd&quot;, &quot;lineCap&quot;: &quot;round&quot;, &quot;lineJoin&quot;: &quot;round&quot;, &quot;noClip&quot;: false, &quot;opacity&quot;: 1, &quot;smoothFactor&quot;: 1.0, &quot;stroke&quot;: true, &quot;weight&quot;: 1}\n",
       "            ).addTo(map_42bc33039f62dc425db42b7ba118e17e);\n",
       "        \n",
       "    \n",
       "        var popup_ef72cc1bec1d610bd76526b286e12f5a = L.popup({&quot;maxWidth&quot;: 300});\n",
       "\n",
       "        \n",
       "            \n",
       "                var html_c42b87596bfdf413aa3a1aabbf0a4612 = $(`&lt;div id=&quot;html_c42b87596bfdf413aa3a1aabbf0a4612&quot; style=&quot;width: 100.0%; height: 100.0%;&quot;&gt;Fail Orders: 1960&lt;/div&gt;`)[0];\n",
       "                popup_ef72cc1bec1d610bd76526b286e12f5a.setContent(html_c42b87596bfdf413aa3a1aabbf0a4612);\n",
       "            \n",
       "        \n",
       "\n",
       "        poly_line_6c68c90174799e7f3e4a98bc21f1f58d.bindPopup(popup_ef72cc1bec1d610bd76526b286e12f5a)\n",
       "        ;\n",
       "\n",
       "        \n",
       "    \n",
       "    \n",
       "            var poly_line_97d1b5b88db1f3182cd8968589e57a76 = L.polyline(\n",
       "                [[51.44481886728639, -0.9463261989134449], [51.44357137656247, -0.9530560843042358], [51.43906978240646, -0.9542223638660726], [51.43581594021884, -0.9486595615205721], [51.43706346020219, -0.941930735212211], [51.4415647930973, -0.9407636522764081]],\n",
       "                {&quot;bubblingMouseEvents&quot;: true, &quot;color&quot;: &quot;Red&quot;, &quot;dashArray&quot;: null, &quot;dashOffset&quot;: null, &quot;fill&quot;: true, &quot;fillColor&quot;: &quot;Red&quot;, &quot;fillOpacity&quot;: 0.4, &quot;fillRule&quot;: &quot;evenodd&quot;, &quot;lineCap&quot;: &quot;round&quot;, &quot;lineJoin&quot;: &quot;round&quot;, &quot;noClip&quot;: false, &quot;opacity&quot;: 1, &quot;smoothFactor&quot;: 1.0, &quot;stroke&quot;: true, &quot;weight&quot;: 1}\n",
       "            ).addTo(map_42bc33039f62dc425db42b7ba118e17e);\n",
       "        \n",
       "    \n",
       "        var popup_f9f910011bcc126bce49a89d2ad2487c = L.popup({&quot;maxWidth&quot;: 300});\n",
       "\n",
       "        \n",
       "            \n",
       "                var html_4112023935bdc174f59d358b7e2754a1 = $(`&lt;div id=&quot;html_4112023935bdc174f59d358b7e2754a1&quot; style=&quot;width: 100.0%; height: 100.0%;&quot;&gt;Fail Orders: 1937&lt;/div&gt;`)[0];\n",
       "                popup_f9f910011bcc126bce49a89d2ad2487c.setContent(html_4112023935bdc174f59d358b7e2754a1);\n",
       "            \n",
       "        \n",
       "\n",
       "        poly_line_97d1b5b88db1f3182cd8968589e57a76.bindPopup(popup_f9f910011bcc126bce49a89d2ad2487c)\n",
       "        ;\n",
       "\n",
       "        \n",
       "    \n",
       "    \n",
       "            var poly_line_581c61322f8a100da16320688bf530b4 = L.polyline(\n",
       "                [[51.4505667478549, -0.9384289715086821], [51.449319975302565, -0.945159260240901], [51.44481886728639, -0.9463261989134449], [51.4415647930973, -0.9407636522764081], [51.44281159499859, -0.9340344228962505], [51.44731244172359, -0.9328666809106131]],\n",
       "                {&quot;bubblingMouseEvents&quot;: true, &quot;color&quot;: &quot;Red&quot;, &quot;dashArray&quot;: null, &quot;dashOffset&quot;: null, &quot;fill&quot;: true, &quot;fillColor&quot;: &quot;Red&quot;, &quot;fillOpacity&quot;: 0.4, &quot;fillRule&quot;: &quot;evenodd&quot;, &quot;lineCap&quot;: &quot;round&quot;, &quot;lineJoin&quot;: &quot;round&quot;, &quot;noClip&quot;: false, &quot;opacity&quot;: 1, &quot;smoothFactor&quot;: 1.0, &quot;stroke&quot;: true, &quot;weight&quot;: 1}\n",
       "            ).addTo(map_42bc33039f62dc425db42b7ba118e17e);\n",
       "        \n",
       "    \n",
       "        var popup_16ebf6c8d40729beba8d6d78424099bf = L.popup({&quot;maxWidth&quot;: 300});\n",
       "\n",
       "        \n",
       "            \n",
       "                var html_6bca86a003273785040b12e3a2bbdf7d = $(`&lt;div id=&quot;html_6bca86a003273785040b12e3a2bbdf7d&quot; style=&quot;width: 100.0%; height: 100.0%;&quot;&gt;Fail Orders: 1295&lt;/div&gt;`)[0];\n",
       "                popup_16ebf6c8d40729beba8d6d78424099bf.setContent(html_6bca86a003273785040b12e3a2bbdf7d);\n",
       "            \n",
       "        \n",
       "\n",
       "        poly_line_581c61322f8a100da16320688bf530b4.bindPopup(popup_16ebf6c8d40729beba8d6d78424099bf)\n",
       "        ;\n",
       "\n",
       "        \n",
       "    \n",
       "    \n",
       "            var poly_line_8c21c6463b9cb962c8ce4dd095481d65 = L.polyline(\n",
       "                [[51.470088217811636, -0.9718213633595971], [51.4688401246446, -0.9785550829899539], [51.4643389448808, -0.9797201234716127], [51.46108611918584, -0.9741522492296825], [51.46233424112636, -0.9674195894273825], [51.46683515997185, -0.9662537441485451]],\n",
       "                {&quot;bubblingMouseEvents&quot;: true, &quot;color&quot;: &quot;Red&quot;, &quot;dashArray&quot;: null, &quot;dashOffset&quot;: null, &quot;fill&quot;: true, &quot;fillColor&quot;: &quot;Red&quot;, &quot;fillOpacity&quot;: 0.4, &quot;fillRule&quot;: &quot;evenodd&quot;, &quot;lineCap&quot;: &quot;round&quot;, &quot;lineJoin&quot;: &quot;round&quot;, &quot;noClip&quot;: false, &quot;opacity&quot;: 1, &quot;smoothFactor&quot;: 1.0, &quot;stroke&quot;: true, &quot;weight&quot;: 1}\n",
       "            ).addTo(map_42bc33039f62dc425db42b7ba118e17e);\n",
       "        \n",
       "    \n",
       "        var popup_ad5b0bf0645fb9e38bcad324562bc0c6 = L.popup({&quot;maxWidth&quot;: 300});\n",
       "\n",
       "        \n",
       "            \n",
       "                var html_a3eee2a6644645b0c28827d3ec82f9e6 = $(`&lt;div id=&quot;html_a3eee2a6644645b0c28827d3ec82f9e6&quot; style=&quot;width: 100.0%; height: 100.0%;&quot;&gt;Fail Orders: 1091&lt;/div&gt;`)[0];\n",
       "                popup_ad5b0bf0645fb9e38bcad324562bc0c6.setContent(html_a3eee2a6644645b0c28827d3ec82f9e6);\n",
       "            \n",
       "        \n",
       "\n",
       "        poly_line_8c21c6463b9cb962c8ce4dd095481d65.bindPopup(popup_ad5b0bf0645fb9e38bcad324562bc0c6)\n",
       "        ;\n",
       "\n",
       "        \n",
       "    \n",
       "    \n",
       "            var poly_line_3ad4f19f62538706afe8f48983c5ab69 = L.polyline(\n",
       "                [[51.45832148008727, -0.9428248679734373], [51.457074736784854, -0.9495562163118216], [51.45257385379414, -0.9507230105639873], [51.449319975302565, -0.945159260240901], [51.4505667478549, -0.9384289715086821], [51.45506736963244, -0.9372613736029796]],\n",
       "                {&quot;bubblingMouseEvents&quot;: true, &quot;color&quot;: &quot;Red&quot;, &quot;dashArray&quot;: null, &quot;dashOffset&quot;: null, &quot;fill&quot;: true, &quot;fillColor&quot;: &quot;Red&quot;, &quot;fillOpacity&quot;: 0.4, &quot;fillRule&quot;: &quot;evenodd&quot;, &quot;lineCap&quot;: &quot;round&quot;, &quot;lineJoin&quot;: &quot;round&quot;, &quot;noClip&quot;: false, &quot;opacity&quot;: 1, &quot;smoothFactor&quot;: 1.0, &quot;stroke&quot;: true, &quot;weight&quot;: 1}\n",
       "            ).addTo(map_42bc33039f62dc425db42b7ba118e17e);\n",
       "        \n",
       "    \n",
       "        var popup_83fa34485095170475daf2d58af58d9e = L.popup({&quot;maxWidth&quot;: 300});\n",
       "\n",
       "        \n",
       "            \n",
       "                var html_a16dddadb939ada0371b197e1393b6c6 = $(`&lt;div id=&quot;html_a16dddadb939ada0371b197e1393b6c6&quot; style=&quot;width: 100.0%; height: 100.0%;&quot;&gt;Fail Orders: 1074&lt;/div&gt;`)[0];\n",
       "                popup_83fa34485095170475daf2d58af58d9e.setContent(html_a16dddadb939ada0371b197e1393b6c6);\n",
       "            \n",
       "        \n",
       "\n",
       "        poly_line_3ad4f19f62538706afe8f48983c5ab69.bindPopup(popup_83fa34485095170475daf2d58af58d9e)\n",
       "        ;\n",
       "\n",
       "        \n",
       "    \n",
       "    \n",
       "            var poly_line_d1c6c40ac05eb8b5a04852e5d44f069c = L.polyline(\n",
       "                [[51.4468250230316, -0.9586200902493034], [51.44557684324654, -0.9653506311571627], [51.44107498793794, -0.9665161069439623], [51.4378215735505, -0.9609518457074303], [51.43906978240646, -0.9542223638660726], [51.44357137656247, -0.9530560843042358]],\n",
       "                {&quot;bubblingMouseEvents&quot;: true, &quot;color&quot;: &quot;Red&quot;, &quot;dashArray&quot;: null, &quot;dashOffset&quot;: null, &quot;fill&quot;: true, &quot;fillColor&quot;: &quot;Red&quot;, &quot;fillOpacity&quot;: 0.4, &quot;fillRule&quot;: &quot;evenodd&quot;, &quot;lineCap&quot;: &quot;round&quot;, &quot;lineJoin&quot;: &quot;round&quot;, &quot;noClip&quot;: false, &quot;opacity&quot;: 1, &quot;smoothFactor&quot;: 1.0, &quot;stroke&quot;: true, &quot;weight&quot;: 1}\n",
       "            ).addTo(map_42bc33039f62dc425db42b7ba118e17e);\n",
       "        \n",
       "    \n",
       "        var popup_b1d0ab4375a0b42b13b2af94f4fed547 = L.popup({&quot;maxWidth&quot;: 300});\n",
       "\n",
       "        \n",
       "            \n",
       "                var html_c8878e871053973e112f4a93c9ea8d51 = $(`&lt;div id=&quot;html_c8878e871053973e112f4a93c9ea8d51&quot; style=&quot;width: 100.0%; height: 100.0%;&quot;&gt;Fail Orders: 975&lt;/div&gt;`)[0];\n",
       "                popup_b1d0ab4375a0b42b13b2af94f4fed547.setContent(html_c8878e871053973e112f4a93c9ea8d51);\n",
       "            \n",
       "        \n",
       "\n",
       "        poly_line_d1c6c40ac05eb8b5a04852e5d44f069c.bindPopup(popup_b1d0ab4375a0b42b13b2af94f4fed547)\n",
       "        ;\n",
       "\n",
       "        \n",
       "    \n",
       "    \n",
       "            var poly_line_128c3df6cc9a0c74566059ac77bc34f1 = L.polyline(\n",
       "                [[51.4643389448808, -0.9797201234716127], [51.46309013326343, -0.9864534382640078], [51.45858846728357, -0.98761781914732], [51.4553358737925, -0.9820496902053623], [51.45658471409391, -0.9753174349705782], [51.46108611918584, -0.9741522492296825]],\n",
       "                {&quot;bubblingMouseEvents&quot;: true, &quot;color&quot;: &quot;Red&quot;, &quot;dashArray&quot;: null, &quot;dashOffset&quot;: null, &quot;fill&quot;: true, &quot;fillColor&quot;: &quot;Red&quot;, &quot;fillOpacity&quot;: 0.4, &quot;fillRule&quot;: &quot;evenodd&quot;, &quot;lineCap&quot;: &quot;round&quot;, &quot;lineJoin&quot;: &quot;round&quot;, &quot;noClip&quot;: false, &quot;opacity&quot;: 1, &quot;smoothFactor&quot;: 1.0, &quot;stroke&quot;: true, &quot;weight&quot;: 1}\n",
       "            ).addTo(map_42bc33039f62dc425db42b7ba118e17e);\n",
       "        \n",
       "    \n",
       "        var popup_3e1650e7c1b7280d664363d21c995f8b = L.popup({&quot;maxWidth&quot;: 300});\n",
       "\n",
       "        \n",
       "            \n",
       "                var html_7506e50677e1df4e0a580d7162face56 = $(`&lt;div id=&quot;html_7506e50677e1df4e0a580d7162face56&quot; style=&quot;width: 100.0%; height: 100.0%;&quot;&gt;Fail Orders: 751&lt;/div&gt;`)[0];\n",
       "                popup_3e1650e7c1b7280d664363d21c995f8b.setContent(html_7506e50677e1df4e0a580d7162face56);\n",
       "            \n",
       "        \n",
       "\n",
       "        poly_line_128c3df6cc9a0c74566059ac77bc34f1.bindPopup(popup_3e1650e7c1b7280d664363d21c995f8b)\n",
       "        ;\n",
       "\n",
       "        \n",
       "    \n",
       "    \n",
       "            var poly_line_5679773f577bdd33f13591de6826bc72 = L.polyline(\n",
       "                [[51.44883006164886, -0.9709160963176241], [51.44758119256423, -0.9776472922484972], [51.44307907621147, -0.978811963859217], [51.439826089970985, -0.9732462438246055], [51.44107498793794, -0.9665161069439623], [51.44557684324654, -0.9653506311571627]],\n",
       "                {&quot;bubblingMouseEvents&quot;: true, &quot;color&quot;: &quot;Red&quot;, &quot;dashArray&quot;: null, &quot;dashOffset&quot;: null, &quot;fill&quot;: true, &quot;fillColor&quot;: &quot;Red&quot;, &quot;fillOpacity&quot;: 0.4, &quot;fillRule&quot;: &quot;evenodd&quot;, &quot;lineCap&quot;: &quot;round&quot;, &quot;lineJoin&quot;: &quot;round&quot;, &quot;noClip&quot;: false, &quot;opacity&quot;: 1, &quot;smoothFactor&quot;: 1.0, &quot;stroke&quot;: true, &quot;weight&quot;: 1}\n",
       "            ).addTo(map_42bc33039f62dc425db42b7ba118e17e);\n",
       "        \n",
       "    \n",
       "        var popup_c0b2ec7dec56434dd42c065a3921a166 = L.popup({&quot;maxWidth&quot;: 300});\n",
       "\n",
       "        \n",
       "            \n",
       "                var html_9e9a3cb09819bf095147b007963d6016 = $(`&lt;div id=&quot;html_9e9a3cb09819bf095147b007963d6016&quot; style=&quot;width: 100.0%; height: 100.0%;&quot;&gt;Fail Orders: 588&lt;/div&gt;`)[0];\n",
       "                popup_c0b2ec7dec56434dd42c065a3921a166.setContent(html_9e9a3cb09819bf095147b007963d6016);\n",
       "            \n",
       "        \n",
       "\n",
       "        poly_line_5679773f577bdd33f13591de6826bc72.bindPopup(popup_c0b2ec7dec56434dd42c065a3921a166)\n",
       "        ;\n",
       "\n",
       "        \n",
       "    \n",
       "    \n",
       "            var poly_line_ccff21f67738340343a26a1b64e0a3d1 = L.polyline(\n",
       "                [[51.45858846728357, -0.98761781914732], [51.45733893725557, -0.9943507288938785], [51.452836785158475, -0.9955144503018267], [51.44958442393033, -0.9899460669905841], [51.450833982552886, -0.9832142165311876], [51.4553358737925, -0.9820496902053623]],\n",
       "                {&quot;bubblingMouseEvents&quot;: true, &quot;color&quot;: &quot;Red&quot;, &quot;dashArray&quot;: null, &quot;dashOffset&quot;: null, &quot;fill&quot;: true, &quot;fillColor&quot;: &quot;Red&quot;, &quot;fillOpacity&quot;: 0.4, &quot;fillRule&quot;: &quot;evenodd&quot;, &quot;lineCap&quot;: &quot;round&quot;, &quot;lineJoin&quot;: &quot;round&quot;, &quot;noClip&quot;: false, &quot;opacity&quot;: 1, &quot;smoothFactor&quot;: 1.0, &quot;stroke&quot;: true, &quot;weight&quot;: 1}\n",
       "            ).addTo(map_42bc33039f62dc425db42b7ba118e17e);\n",
       "        \n",
       "    \n",
       "        var popup_d908d9aa49771de60cc3daad48690daa = L.popup({&quot;maxWidth&quot;: 300});\n",
       "\n",
       "        \n",
       "            \n",
       "                var html_7f089b9b39fe918fb7e45594421d7387 = $(`&lt;div id=&quot;html_7f089b9b39fe918fb7e45594421d7387&quot; style=&quot;width: 100.0%; height: 100.0%;&quot;&gt;Fail Orders: 559&lt;/div&gt;`)[0];\n",
       "                popup_d908d9aa49771de60cc3daad48690daa.setContent(html_7f089b9b39fe918fb7e45594421d7387);\n",
       "            \n",
       "        \n",
       "\n",
       "        poly_line_ccff21f67738340343a26a1b64e0a3d1.bindPopup(popup_d908d9aa49771de60cc3daad48690daa)\n",
       "        ;\n",
       "\n",
       "        \n",
       "    \n",
       "    \n",
       "            var poly_line_aa7ba8614a822ccf00f86dee2628f262 = L.polyline(\n",
       "                [[51.43532374865167, -0.9744110605626837], [51.434074132542555, -0.9811407932083569], [51.42957130531146, -0.9823049510204259], [51.42631835526492, -0.976740180192182], [51.427568000265914, -0.9700115060731906], [51.432070566405095, -0.9688465443651438]],\n",
       "                {&quot;bubblingMouseEvents&quot;: true, &quot;color&quot;: &quot;Red&quot;, &quot;dashArray&quot;: null, &quot;dashOffset&quot;: null, &quot;fill&quot;: true, &quot;fillColor&quot;: &quot;Red&quot;, &quot;fillOpacity&quot;: 0.4, &quot;fillRule&quot;: &quot;evenodd&quot;, &quot;lineCap&quot;: &quot;round&quot;, &quot;lineJoin&quot;: &quot;round&quot;, &quot;noClip&quot;: false, &quot;opacity&quot;: 1, &quot;smoothFactor&quot;: 1.0, &quot;stroke&quot;: true, &quot;weight&quot;: 1}\n",
       "            ).addTo(map_42bc33039f62dc425db42b7ba118e17e);\n",
       "        \n",
       "    \n",
       "        var popup_d0d96556e949438b3e820e4ea384d5cf = L.popup({&quot;maxWidth&quot;: 300});\n",
       "\n",
       "        \n",
       "            \n",
       "                var html_2912b751f54694a52bc57fff1fa820b1 = $(`&lt;div id=&quot;html_2912b751f54694a52bc57fff1fa820b1&quot; style=&quot;width: 100.0%; height: 100.0%;&quot;&gt;Fail Orders: 511&lt;/div&gt;`)[0];\n",
       "                popup_d0d96556e949438b3e820e4ea384d5cf.setContent(html_2912b751f54694a52bc57fff1fa820b1);\n",
       "            \n",
       "        \n",
       "\n",
       "        poly_line_aa7ba8614a822ccf00f86dee2628f262.bindPopup(popup_d0d96556e949438b3e820e4ea384d5cf)\n",
       "        ;\n",
       "\n",
       "        \n",
       "    \n",
       "    \n",
       "            var poly_line_07d828dbd36ff698bbe1bbcaa8fda8e9 = L.polyline(\n",
       "                [[51.452836785158475, -0.9955144503018267], [51.451586536759706, -1.002246954794795], [51.447083898644216, -1.0034100168504345], [51.44383176973803, -0.9978413795005481], [51.445082046641915, -0.9911099340242325], [51.44958442393033, -0.9899460669905841]],\n",
       "                {&quot;bubblingMouseEvents&quot;: true, &quot;color&quot;: &quot;Red&quot;, &quot;dashArray&quot;: null, &quot;dashOffset&quot;: null, &quot;fill&quot;: true, &quot;fillColor&quot;: &quot;Red&quot;, &quot;fillOpacity&quot;: 0.4, &quot;fillRule&quot;: &quot;evenodd&quot;, &quot;lineCap&quot;: &quot;round&quot;, &quot;lineJoin&quot;: &quot;round&quot;, &quot;noClip&quot;: false, &quot;opacity&quot;: 1, &quot;smoothFactor&quot;: 1.0, &quot;stroke&quot;: true, &quot;weight&quot;: 1}\n",
       "            ).addTo(map_42bc33039f62dc425db42b7ba118e17e);\n",
       "        \n",
       "    \n",
       "        var popup_ec72f0d607176f2c197fa0d925a65b86 = L.popup({&quot;maxWidth&quot;: 300});\n",
       "\n",
       "        \n",
       "            \n",
       "                var html_54f682496c37c9d274a3c994e9cd5b8f = $(`&lt;div id=&quot;html_54f682496c37c9d274a3c994e9cd5b8f&quot; style=&quot;width: 100.0%; height: 100.0%;&quot;&gt;Fail Orders: 498&lt;/div&gt;`)[0];\n",
       "                popup_ec72f0d607176f2c197fa0d925a65b86.setContent(html_54f682496c37c9d274a3c994e9cd5b8f);\n",
       "            \n",
       "        \n",
       "\n",
       "        poly_line_07d828dbd36ff698bbe1bbcaa8fda8e9.bindPopup(popup_ec72f0d607176f2c197fa0d925a65b86)\n",
       "        ;\n",
       "\n",
       "        \n",
       "    \n",
       "    \n",
       "            var poly_line_e8b5b8ead1924dba869f00292e0e6029 = L.polyline(\n",
       "                [[51.456313423973754, -0.9305306817374712], [51.45506736963244, -0.9372613736029796], [51.4505667478549, -0.9384289715086821], [51.44731244172359, -0.9328666809106131], [51.44855852550339, -0.9261370486667562], [51.45305888595956, -0.924968647508941]],\n",
       "                {&quot;bubblingMouseEvents&quot;: true, &quot;color&quot;: &quot;Red&quot;, &quot;dashArray&quot;: null, &quot;dashOffset&quot;: null, &quot;fill&quot;: true, &quot;fillColor&quot;: &quot;Red&quot;, &quot;fillOpacity&quot;: 0.4, &quot;fillRule&quot;: &quot;evenodd&quot;, &quot;lineCap&quot;: &quot;round&quot;, &quot;lineJoin&quot;: &quot;round&quot;, &quot;noClip&quot;: false, &quot;opacity&quot;: 1, &quot;smoothFactor&quot;: 1.0, &quot;stroke&quot;: true, &quot;weight&quot;: 1}\n",
       "            ).addTo(map_42bc33039f62dc425db42b7ba118e17e);\n",
       "        \n",
       "    \n",
       "        var popup_0ed2273e771fd5bf7bb82287990b534d = L.popup({&quot;maxWidth&quot;: 300});\n",
       "\n",
       "        \n",
       "            \n",
       "                var html_1505220f0962879de708356565fcf233 = $(`&lt;div id=&quot;html_1505220f0962879de708356565fcf233&quot; style=&quot;width: 100.0%; height: 100.0%;&quot;&gt;Fail Orders: 447&lt;/div&gt;`)[0];\n",
       "                popup_0ed2273e771fd5bf7bb82287990b534d.setContent(html_1505220f0962879de708356565fcf233);\n",
       "            \n",
       "        \n",
       "\n",
       "        poly_line_e8b5b8ead1924dba869f00292e0e6029.bindPopup(popup_0ed2273e771fd5bf7bb82287990b534d)\n",
       "        ;\n",
       "\n",
       "        \n",
       "    \n",
       "    \n",
       "            var poly_line_2af26e04c57a3ff114ae20347aa55bd5 = L.polyline(\n",
       "                [[51.46059110171932, -0.9999203171883535], [51.459340881726426, -1.0066538809513756], [51.45483846888045, -1.007816797040404], [51.451586536759706, -1.002246954794795], [51.452836785158475, -0.9955144503018267], [51.45733893725557, -0.9943507288938785]],\n",
       "                {&quot;bubblingMouseEvents&quot;: true, &quot;color&quot;: &quot;Red&quot;, &quot;dashArray&quot;: null, &quot;dashOffset&quot;: null, &quot;fill&quot;: true, &quot;fillColor&quot;: &quot;Red&quot;, &quot;fillOpacity&quot;: 0.4, &quot;fillRule&quot;: &quot;evenodd&quot;, &quot;lineCap&quot;: &quot;round&quot;, &quot;lineJoin&quot;: &quot;round&quot;, &quot;noClip&quot;: false, &quot;opacity&quot;: 1, &quot;smoothFactor&quot;: 1.0, &quot;stroke&quot;: true, &quot;weight&quot;: 1}\n",
       "            ).addTo(map_42bc33039f62dc425db42b7ba118e17e);\n",
       "        \n",
       "    \n",
       "        var popup_040550ce4ceaa851cf3530a7f66fc89e = L.popup({&quot;maxWidth&quot;: 300});\n",
       "\n",
       "        \n",
       "            \n",
       "                var html_30e3f04943dea68eb67bd91fadcd4d61 = $(`&lt;div id=&quot;html_30e3f04943dea68eb67bd91fadcd4d61&quot; style=&quot;width: 100.0%; height: 100.0%;&quot;&gt;Fail Orders: 424&lt;/div&gt;`)[0];\n",
       "                popup_040550ce4ceaa851cf3530a7f66fc89e.setContent(html_30e3f04943dea68eb67bd91fadcd4d61);\n",
       "            \n",
       "        \n",
       "\n",
       "        poly_line_2af26e04c57a3ff114ae20347aa55bd5.bindPopup(popup_040550ce4ceaa851cf3530a7f66fc89e)\n",
       "        ;\n",
       "\n",
       "        \n",
       "    \n",
       "    \n",
       "            var poly_line_8271980b2eb49297de05e62055b29895 = L.polyline(\n",
       "                [[51.44107498793794, -0.9665161069439623], [51.439826089970985, -0.9732462438246055], [51.43532374865167, -0.9744110605626837], [51.432070566405095, -0.9688465443651438], [51.43331949335346, -0.9621174662810845], [51.4378215735505, -0.9609518457074303]],\n",
       "                {&quot;bubblingMouseEvents&quot;: true, &quot;color&quot;: &quot;Red&quot;, &quot;dashArray&quot;: null, &quot;dashOffset&quot;: null, &quot;fill&quot;: true, &quot;fillColor&quot;: &quot;Red&quot;, &quot;fillOpacity&quot;: 0.4, &quot;fillRule&quot;: &quot;evenodd&quot;, &quot;lineCap&quot;: &quot;round&quot;, &quot;lineJoin&quot;: &quot;round&quot;, &quot;noClip&quot;: false, &quot;opacity&quot;: 1, &quot;smoothFactor&quot;: 1.0, &quot;stroke&quot;: true, &quot;weight&quot;: 1}\n",
       "            ).addTo(map_42bc33039f62dc425db42b7ba118e17e);\n",
       "        \n",
       "    \n",
       "        var popup_1a33c7d734622c24188118fb015434b4 = L.popup({&quot;maxWidth&quot;: 300});\n",
       "\n",
       "        \n",
       "            \n",
       "                var html_dcf4e9b1ef734d02109fa62f176f8b1b = $(`&lt;div id=&quot;html_dcf4e9b1ef734d02109fa62f176f8b1b&quot; style=&quot;width: 100.0%; height: 100.0%;&quot;&gt;Fail Orders: 400&lt;/div&gt;`)[0];\n",
       "                popup_1a33c7d734622c24188118fb015434b4.setContent(html_dcf4e9b1ef734d02109fa62f176f8b1b);\n",
       "            \n",
       "        \n",
       "\n",
       "        poly_line_8271980b2eb49297de05e62055b29895.bindPopup(popup_1a33c7d734622c24188118fb015434b4)\n",
       "        ;\n",
       "\n",
       "        \n",
       "    \n",
       "    \n",
       "            var poly_line_1a38d84232988bd7c0ebae7c1cbeb5bb = L.polyline(\n",
       "                [[51.450833982552886, -0.9832142165311876], [51.44958442393033, -0.9899460669905841], [51.445082046641915, -0.9911099340242325], [51.44182948889518, -0.9855427552849925], [51.44307907621147, -0.978811963859217], [51.44758119256423, -0.9776472922484972]],\n",
       "                {&quot;bubblingMouseEvents&quot;: true, &quot;color&quot;: &quot;Red&quot;, &quot;dashArray&quot;: null, &quot;dashOffset&quot;: null, &quot;fill&quot;: true, &quot;fillColor&quot;: &quot;Red&quot;, &quot;fillOpacity&quot;: 0.4, &quot;fillRule&quot;: &quot;evenodd&quot;, &quot;lineCap&quot;: &quot;round&quot;, &quot;lineJoin&quot;: &quot;round&quot;, &quot;noClip&quot;: false, &quot;opacity&quot;: 1, &quot;smoothFactor&quot;: 1.0, &quot;stroke&quot;: true, &quot;weight&quot;: 1}\n",
       "            ).addTo(map_42bc33039f62dc425db42b7ba118e17e);\n",
       "        \n",
       "    \n",
       "        var popup_2247954e0142492345df20a26a2973b9 = L.popup({&quot;maxWidth&quot;: 300});\n",
       "\n",
       "        \n",
       "            \n",
       "                var html_e90d7318d9df848e896936711eb5d465 = $(`&lt;div id=&quot;html_e90d7318d9df848e896936711eb5d465&quot; style=&quot;width: 100.0%; height: 100.0%;&quot;&gt;Fail Orders: 374&lt;/div&gt;`)[0];\n",
       "                popup_2247954e0142492345df20a26a2973b9.setContent(html_e90d7318d9df848e896936711eb5d465);\n",
       "            \n",
       "        \n",
       "\n",
       "        poly_line_1a38d84232988bd7c0ebae7c1cbeb5bb.bindPopup(popup_2247954e0142492345df20a26a2973b9)\n",
       "        ;\n",
       "\n",
       "        \n",
       "    \n",
       "    \n",
       "            var poly_line_44580d0e412fdc19b7c2490b41c71dc7 = L.polyline(\n",
       "                [[51.468082563511864, -0.9595206799866929], [51.46683515997185, -0.9662537441485451], [51.46233424112636, -0.9674195894273825], [51.459080986831154, -0.9618531750496696], [51.46032841933335, -0.9551211707321967], [51.46482907715207, -0.9539545210576592]],\n",
       "                {&quot;bubblingMouseEvents&quot;: true, &quot;color&quot;: &quot;Red&quot;, &quot;dashArray&quot;: null, &quot;dashOffset&quot;: null, &quot;fill&quot;: true, &quot;fillColor&quot;: &quot;Red&quot;, &quot;fillOpacity&quot;: 0.4, &quot;fillRule&quot;: &quot;evenodd&quot;, &quot;lineCap&quot;: &quot;round&quot;, &quot;lineJoin&quot;: &quot;round&quot;, &quot;noClip&quot;: false, &quot;opacity&quot;: 1, &quot;smoothFactor&quot;: 1.0, &quot;stroke&quot;: true, &quot;weight&quot;: 1}\n",
       "            ).addTo(map_42bc33039f62dc425db42b7ba118e17e);\n",
       "        \n",
       "    \n",
       "        var popup_141bfee504fabf9b94ad9102638dd7d9 = L.popup({&quot;maxWidth&quot;: 300});\n",
       "\n",
       "        \n",
       "            \n",
       "                var html_997c5fa5923c38375904d8847fa99512 = $(`&lt;div id=&quot;html_997c5fa5923c38375904d8847fa99512&quot; style=&quot;width: 100.0%; height: 100.0%;&quot;&gt;Fail Orders: 304&lt;/div&gt;`)[0];\n",
       "                popup_141bfee504fabf9b94ad9102638dd7d9.setContent(html_997c5fa5923c38375904d8847fa99512);\n",
       "            \n",
       "        \n",
       "\n",
       "        poly_line_44580d0e412fdc19b7c2490b41c71dc7.bindPopup(popup_141bfee504fabf9b94ad9102638dd7d9)\n",
       "        ;\n",
       "\n",
       "        \n",
       "    \n",
       "    \n",
       "            var poly_line_319fa205942c02ee99dbde0c1b582f1d = L.polyline(\n",
       "                [[51.473829681112164, -0.9516207067338788], [51.4725829960122, -0.9583541750471255], [51.468082563511864, -0.9595206799866929], [51.46482907715207, -0.9539545210576592], [51.46607579130368, -0.9472221128589419], [51.470575962746985, -0.9460548035843688]],\n",
       "                {&quot;bubblingMouseEvents&quot;: true, &quot;color&quot;: &quot;purple&quot;, &quot;dashArray&quot;: null, &quot;dashOffset&quot;: null, &quot;fill&quot;: true, &quot;fillColor&quot;: &quot;purple&quot;, &quot;fillOpacity&quot;: 0.4, &quot;fillRule&quot;: &quot;evenodd&quot;, &quot;lineCap&quot;: &quot;round&quot;, &quot;lineJoin&quot;: &quot;round&quot;, &quot;noClip&quot;: false, &quot;opacity&quot;: 1, &quot;smoothFactor&quot;: 1.0, &quot;stroke&quot;: true, &quot;weight&quot;: 1}\n",
       "            ).addTo(map_42bc33039f62dc425db42b7ba118e17e);\n",
       "        \n",
       "    \n",
       "        var popup_1eaae311e5ef717f968bd0b45a1f388d = L.popup({&quot;maxWidth&quot;: 300});\n",
       "\n",
       "        \n",
       "            \n",
       "                var html_b7e9e8ea639df8cd8616e1cb407c81e1 = $(`&lt;div id=&quot;html_b7e9e8ea639df8cd8616e1cb407c81e1&quot; style=&quot;width: 100.0%; height: 100.0%;&quot;&gt;Fail Orders: 287&lt;/div&gt;`)[0];\n",
       "                popup_1eaae311e5ef717f968bd0b45a1f388d.setContent(html_b7e9e8ea639df8cd8616e1cb407c81e1);\n",
       "            \n",
       "        \n",
       "\n",
       "        poly_line_319fa205942c02ee99dbde0c1b582f1d.bindPopup(popup_1eaae311e5ef717f968bd0b45a1f388d)\n",
       "        ;\n",
       "\n",
       "        \n",
       "    \n",
       "    \n",
       "            var poly_line_11cf25e6aeef15ed77555428f8586fae = L.polyline(\n",
       "                [[51.43906978240646, -0.9542223638660726], [51.4378215735505, -0.9609518457074303], [51.43331949335346, -0.9621174662810845], [51.43006588322657, -0.9565544085575289], [51.43131412125244, -0.9498259855289186], [51.43581594021884, -0.9486595615205721]],\n",
       "                {&quot;bubblingMouseEvents&quot;: true, &quot;color&quot;: &quot;purple&quot;, &quot;dashArray&quot;: null, &quot;dashOffset&quot;: null, &quot;fill&quot;: true, &quot;fillColor&quot;: &quot;purple&quot;, &quot;fillOpacity&quot;: 0.4, &quot;fillRule&quot;: &quot;evenodd&quot;, &quot;lineCap&quot;: &quot;round&quot;, &quot;lineJoin&quot;: &quot;round&quot;, &quot;noClip&quot;: false, &quot;opacity&quot;: 1, &quot;smoothFactor&quot;: 1.0, &quot;stroke&quot;: true, &quot;weight&quot;: 1}\n",
       "            ).addTo(map_42bc33039f62dc425db42b7ba118e17e);\n",
       "        \n",
       "    \n",
       "        var popup_1148f9fcd7087d3bf0bdcdc054b6b162 = L.popup({&quot;maxWidth&quot;: 300});\n",
       "\n",
       "        \n",
       "            \n",
       "                var html_09fabda2bb0122e79dd57a3bc96cbe14 = $(`&lt;div id=&quot;html_09fabda2bb0122e79dd57a3bc96cbe14&quot; style=&quot;width: 100.0%; height: 100.0%;&quot;&gt;Fail Orders: 275&lt;/div&gt;`)[0];\n",
       "                popup_1148f9fcd7087d3bf0bdcdc054b6b162.setContent(html_09fabda2bb0122e79dd57a3bc96cbe14);\n",
       "            \n",
       "        \n",
       "\n",
       "        poly_line_11cf25e6aeef15ed77555428f8586fae.bindPopup(popup_1148f9fcd7087d3bf0bdcdc054b6b162)\n",
       "        ;\n",
       "\n",
       "        \n",
       "    \n",
       "    \n",
       "            var poly_line_ba01f4da805f3212ef8dfaa9eb2c018e = L.polyline(\n",
       "                [[51.47784177239928, -0.9762244876127197], [51.47659370790649, -0.982959267325072], [51.47209275361731, -0.9841241623897607], [51.4688401246446, -0.9785550829899539], [51.470088217811636, -0.9718213633595971], [51.47458891126061, -0.9706556631566758]],\n",
       "                {&quot;bubblingMouseEvents&quot;: true, &quot;color&quot;: &quot;purple&quot;, &quot;dashArray&quot;: null, &quot;dashOffset&quot;: null, &quot;fill&quot;: true, &quot;fillColor&quot;: &quot;purple&quot;, &quot;fillOpacity&quot;: 0.4, &quot;fillRule&quot;: &quot;evenodd&quot;, &quot;lineCap&quot;: &quot;round&quot;, &quot;lineJoin&quot;: &quot;round&quot;, &quot;noClip&quot;: false, &quot;opacity&quot;: 1, &quot;smoothFactor&quot;: 1.0, &quot;stroke&quot;: true, &quot;weight&quot;: 1}\n",
       "            ).addTo(map_42bc33039f62dc425db42b7ba118e17e);\n",
       "        \n",
       "    \n",
       "        var popup_9cef8ce70727c669be2c1e05c0d9268c = L.popup({&quot;maxWidth&quot;: 300});\n",
       "\n",
       "        \n",
       "            \n",
       "                var html_0870ced6b417a0e5335dacdd99b79318 = $(`&lt;div id=&quot;html_0870ced6b417a0e5335dacdd99b79318&quot; style=&quot;width: 100.0%; height: 100.0%;&quot;&gt;Fail Orders: 269&lt;/div&gt;`)[0];\n",
       "                popup_9cef8ce70727c669be2c1e05c0d9268c.setContent(html_0870ced6b417a0e5335dacdd99b79318);\n",
       "            \n",
       "        \n",
       "\n",
       "        poly_line_ba01f4da805f3212ef8dfaa9eb2c018e.bindPopup(popup_9cef8ce70727c669be2c1e05c0d9268c)\n",
       "        ;\n",
       "\n",
       "        \n",
       "    \n",
       "    \n",
       "            var poly_line_67d0cff64f0f9eee49960dc1234bf4b5 = L.polyline(\n",
       "                [[51.479846139911224, -0.9885295522943797], [51.47859738536414, -0.9952649869633675], [51.47409617034335, -0.9964290764882627], [51.47084397058474, -0.990858536993556], [51.47209275361731, -0.9841241623897607], [51.47659370790649, -0.982959267325072]],\n",
       "                {&quot;bubblingMouseEvents&quot;: true, &quot;color&quot;: &quot;purple&quot;, &quot;dashArray&quot;: null, &quot;dashOffset&quot;: null, &quot;fill&quot;: true, &quot;fillColor&quot;: &quot;purple&quot;, &quot;fillOpacity&quot;: 0.4, &quot;fillRule&quot;: &quot;evenodd&quot;, &quot;lineCap&quot;: &quot;round&quot;, &quot;lineJoin&quot;: &quot;round&quot;, &quot;noClip&quot;: false, &quot;opacity&quot;: 1, &quot;smoothFactor&quot;: 1.0, &quot;stroke&quot;: true, &quot;weight&quot;: 1}\n",
       "            ).addTo(map_42bc33039f62dc425db42b7ba118e17e);\n",
       "        \n",
       "    \n",
       "        var popup_3243a25190b5cb3589626c2acc65b831 = L.popup({&quot;maxWidth&quot;: 300});\n",
       "\n",
       "        \n",
       "            \n",
       "                var html_6b1b7916f7fc5eb26faf58b3cea799a2 = $(`&lt;div id=&quot;html_6b1b7916f7fc5eb26faf58b3cea799a2&quot; style=&quot;width: 100.0%; height: 100.0%;&quot;&gt;Fail Orders: 222&lt;/div&gt;`)[0];\n",
       "                popup_3243a25190b5cb3589626c2acc65b831.setContent(html_6b1b7916f7fc5eb26faf58b3cea799a2);\n",
       "            \n",
       "        \n",
       "\n",
       "        poly_line_67d0cff64f0f9eee49960dc1234bf4b5.bindPopup(popup_3243a25190b5cb3589626c2acc65b831)\n",
       "        ;\n",
       "\n",
       "        \n",
       "    \n",
       "    \n",
       "            var poly_line_17860177fe4d22634ebc6ff74eba1e51 = L.polyline(\n",
       "                [[51.47583628593767, -0.9639215388963942], [51.47458891126061, -0.9706556631566758], [51.470088217811636, -0.9718213633595971], [51.46683515997185, -0.9662537441485451], [51.468082563511864, -0.9595206799866929], [51.4725829960122, -0.9583541750471255]],\n",
       "                {&quot;bubblingMouseEvents&quot;: true, &quot;color&quot;: &quot;purple&quot;, &quot;dashArray&quot;: null, &quot;dashOffset&quot;: null, &quot;fill&quot;: true, &quot;fillColor&quot;: &quot;purple&quot;, &quot;fillOpacity&quot;: 0.4, &quot;fillRule&quot;: &quot;evenodd&quot;, &quot;lineCap&quot;: &quot;round&quot;, &quot;lineJoin&quot;: &quot;round&quot;, &quot;noClip&quot;: false, &quot;opacity&quot;: 1, &quot;smoothFactor&quot;: 1.0, &quot;stroke&quot;: true, &quot;weight&quot;: 1}\n",
       "            ).addTo(map_42bc33039f62dc425db42b7ba118e17e);\n",
       "        \n",
       "    \n",
       "        var popup_974228cde607cff578d1d745d148711e = L.popup({&quot;maxWidth&quot;: 300});\n",
       "\n",
       "        \n",
       "            \n",
       "                var html_cdbff6257d641537325fe1a817b2fc24 = $(`&lt;div id=&quot;html_cdbff6257d641537325fe1a817b2fc24&quot; style=&quot;width: 100.0%; height: 100.0%;&quot;&gt;Fail Orders: 215&lt;/div&gt;`)[0];\n",
       "                popup_974228cde607cff578d1d745d148711e.setContent(html_cdbff6257d641537325fe1a817b2fc24);\n",
       "            \n",
       "        \n",
       "\n",
       "        poly_line_17860177fe4d22634ebc6ff74eba1e51.bindPopup(popup_974228cde607cff578d1d745d148711e)\n",
       "        ;\n",
       "\n",
       "        \n",
       "    \n",
       "    \n",
       "            var poly_line_28fd5cd4479ac001f0e93682e670c8fa = L.polyline(\n",
       "                [[51.43131412125244, -0.9498259855289186], [51.43006588322657, -0.9565544085575289], [51.425563578287736, -0.9577201737608355], [51.42230977266705, -0.9521583191394177], [51.42355803996182, -0.945430954669842], [51.42806008359195, -0.9442643863720478]],\n",
       "                {&quot;bubblingMouseEvents&quot;: true, &quot;color&quot;: &quot;purple&quot;, &quot;dashArray&quot;: null, &quot;dashOffset&quot;: null, &quot;fill&quot;: true, &quot;fillColor&quot;: &quot;purple&quot;, &quot;fillOpacity&quot;: 0.4, &quot;fillRule&quot;: &quot;evenodd&quot;, &quot;lineCap&quot;: &quot;round&quot;, &quot;lineJoin&quot;: &quot;round&quot;, &quot;noClip&quot;: false, &quot;opacity&quot;: 1, &quot;smoothFactor&quot;: 1.0, &quot;stroke&quot;: true, &quot;weight&quot;: 1}\n",
       "            ).addTo(map_42bc33039f62dc425db42b7ba118e17e);\n",
       "        \n",
       "    \n",
       "        var popup_3a5927d2f8b97c516fde5a04b0364150 = L.popup({&quot;maxWidth&quot;: 300});\n",
       "\n",
       "        \n",
       "            \n",
       "                var html_871b605c2c3f4b384350cf5b1a0488e7 = $(`&lt;div id=&quot;html_871b605c2c3f4b384350cf5b1a0488e7&quot; style=&quot;width: 100.0%; height: 100.0%;&quot;&gt;Fail Orders: 215&lt;/div&gt;`)[0];\n",
       "                popup_3a5927d2f8b97c516fde5a04b0364150.setContent(html_871b605c2c3f4b384350cf5b1a0488e7);\n",
       "            \n",
       "        \n",
       "\n",
       "        poly_line_28fd5cd4479ac001f0e93682e670c8fa.bindPopup(popup_3a5927d2f8b97c516fde5a04b0364150)\n",
       "        ;\n",
       "\n",
       "        \n",
       "    \n",
       "    \n",
       "            var poly_line_a546bd421f5daa49215b54e621fd9338 = L.polyline(\n",
       "                [[51.43706346020219, -0.941930735212211], [51.43581594021884, -0.9486595615205721], [51.43131412125244, -0.9498259855289186], [51.42806008359195, -0.9442643863720478], [51.42930763293372, -0.9375366188922224], [51.43380919056114, -0.9363693918501719]],\n",
       "                {&quot;bubblingMouseEvents&quot;: true, &quot;color&quot;: &quot;purple&quot;, &quot;dashArray&quot;: null, &quot;dashOffset&quot;: null, &quot;fill&quot;: true, &quot;fillColor&quot;: &quot;purple&quot;, &quot;fillOpacity&quot;: 0.4, &quot;fillRule&quot;: &quot;evenodd&quot;, &quot;lineCap&quot;: &quot;round&quot;, &quot;lineJoin&quot;: &quot;round&quot;, &quot;noClip&quot;: false, &quot;opacity&quot;: 1, &quot;smoothFactor&quot;: 1.0, &quot;stroke&quot;: true, &quot;weight&quot;: 1}\n",
       "            ).addTo(map_42bc33039f62dc425db42b7ba118e17e);\n",
       "        \n",
       "    \n",
       "        var popup_21ef3b1e804f54c725cb4d4c767f6275 = L.popup({&quot;maxWidth&quot;: 300});\n",
       "\n",
       "        \n",
       "            \n",
       "                var html_f5b57ae694b510e8bcc2c0c6f6651995 = $(`&lt;div id=&quot;html_f5b57ae694b510e8bcc2c0c6f6651995&quot; style=&quot;width: 100.0%; height: 100.0%;&quot;&gt;Fail Orders: 213&lt;/div&gt;`)[0];\n",
       "                popup_21ef3b1e804f54c725cb4d4c767f6275.setContent(html_f5b57ae694b510e8bcc2c0c6f6651995);\n",
       "            \n",
       "        \n",
       "\n",
       "        poly_line_a546bd421f5daa49215b54e621fd9338.bindPopup(popup_21ef3b1e804f54c725cb4d4c767f6275)\n",
       "        ;\n",
       "\n",
       "        \n",
       "    \n",
       "    \n",
       "            var poly_line_859a85c78ac61c24012b5b499496aa35 = L.polyline(\n",
       "                [[51.44855852550339, -0.9261370486667562], [51.44731244172359, -0.9328666809106131], [51.44281159499859, -0.9340344228962505], [51.43955709343632, -0.9284733356593977], [51.440803206753586, -0.9217447627829642], [51.44530379207923, -0.9205762178855526]],\n",
       "                {&quot;bubblingMouseEvents&quot;: true, &quot;color&quot;: &quot;purple&quot;, &quot;dashArray&quot;: null, &quot;dashOffset&quot;: null, &quot;fill&quot;: true, &quot;fillColor&quot;: &quot;purple&quot;, &quot;fillOpacity&quot;: 0.4, &quot;fillRule&quot;: &quot;evenodd&quot;, &quot;lineCap&quot;: &quot;round&quot;, &quot;lineJoin&quot;: &quot;round&quot;, &quot;noClip&quot;: false, &quot;opacity&quot;: 1, &quot;smoothFactor&quot;: 1.0, &quot;stroke&quot;: true, &quot;weight&quot;: 1}\n",
       "            ).addTo(map_42bc33039f62dc425db42b7ba118e17e);\n",
       "        \n",
       "    \n",
       "        var popup_a800f5c5328f0f503fabacad6ef911a0 = L.popup({&quot;maxWidth&quot;: 300});\n",
       "\n",
       "        \n",
       "            \n",
       "                var html_d9b1191582e8b44ee50f9576b22e2f96 = $(`&lt;div id=&quot;html_d9b1191582e8b44ee50f9576b22e2f96&quot; style=&quot;width: 100.0%; height: 100.0%;&quot;&gt;Fail Orders: 207&lt;/div&gt;`)[0];\n",
       "                popup_a800f5c5328f0f503fabacad6ef911a0.setContent(html_d9b1191582e8b44ee50f9576b22e2f96);\n",
       "            \n",
       "        \n",
       "\n",
       "        poly_line_859a85c78ac61c24012b5b499496aa35.bindPopup(popup_a800f5c5328f0f503fabacad6ef911a0)\n",
       "        ;\n",
       "\n",
       "        \n",
       "    \n",
       "    \n",
       "            var poly_line_5688a54e45c1be5e976aaa4b715aa579 = L.polyline(\n",
       "                [[51.440803206753586, -0.9217447627829642], [51.43955709343632, -0.9284733356593977], [51.4350560219104, -0.9296412215680129], [51.4318013251627, -0.9240813372813469], [51.4330474681164, -0.917353823518131], [51.437548278164975, -0.9161851350378828]],\n",
       "                {&quot;bubblingMouseEvents&quot;: true, &quot;color&quot;: &quot;purple&quot;, &quot;dashArray&quot;: null, &quot;dashOffset&quot;: null, &quot;fill&quot;: true, &quot;fillColor&quot;: &quot;purple&quot;, &quot;fillOpacity&quot;: 0.4, &quot;fillRule&quot;: &quot;evenodd&quot;, &quot;lineCap&quot;: &quot;round&quot;, &quot;lineJoin&quot;: &quot;round&quot;, &quot;noClip&quot;: false, &quot;opacity&quot;: 1, &quot;smoothFactor&quot;: 1.0, &quot;stroke&quot;: true, &quot;weight&quot;: 1}\n",
       "            ).addTo(map_42bc33039f62dc425db42b7ba118e17e);\n",
       "        \n",
       "    \n",
       "        var popup_a9523694bb83be113d79c38146f4a811 = L.popup({&quot;maxWidth&quot;: 300});\n",
       "\n",
       "        \n",
       "            \n",
       "                var html_6887ff40e3500875d0b86036c871af5c = $(`&lt;div id=&quot;html_6887ff40e3500875d0b86036c871af5c&quot; style=&quot;width: 100.0%; height: 100.0%;&quot;&gt;Fail Orders: 203&lt;/div&gt;`)[0];\n",
       "                popup_a9523694bb83be113d79c38146f4a811.setContent(html_6887ff40e3500875d0b86036c871af5c);\n",
       "            \n",
       "        \n",
       "\n",
       "        poly_line_5688a54e45c1be5e976aaa4b715aa579.bindPopup(popup_a9523694bb83be113d79c38146f4a811)\n",
       "        ;\n",
       "\n",
       "        \n",
       "    \n",
       "    \n",
       "            var poly_line_d4c9d9bd8d6d6a900d5a0d4193663802 = L.polyline(\n",
       "                [[51.42930763293372, -0.9375366188922224], [51.42806008359195, -0.9442643863720478], [51.42355803996182, -0.945430954669842], [51.42030380707402, -0.9398705582908482], [51.421551385873144, -0.933143849385712], [51.4260531680863, -0.9319764783942915]],\n",
       "                {&quot;bubblingMouseEvents&quot;: true, &quot;color&quot;: &quot;purple&quot;, &quot;dashArray&quot;: null, &quot;dashOffset&quot;: null, &quot;fill&quot;: true, &quot;fillColor&quot;: &quot;purple&quot;, &quot;fillOpacity&quot;: 0.4, &quot;fillRule&quot;: &quot;evenodd&quot;, &quot;lineCap&quot;: &quot;round&quot;, &quot;lineJoin&quot;: &quot;round&quot;, &quot;noClip&quot;: false, &quot;opacity&quot;: 1, &quot;smoothFactor&quot;: 1.0, &quot;stroke&quot;: true, &quot;weight&quot;: 1}\n",
       "            ).addTo(map_42bc33039f62dc425db42b7ba118e17e);\n",
       "        \n",
       "    \n",
       "        var popup_7afae84ff080f400918b301d38a35c95 = L.popup({&quot;maxWidth&quot;: 300});\n",
       "\n",
       "        \n",
       "            \n",
       "                var html_44a6cabb7f6861c24e89305f579f1efe = $(`&lt;div id=&quot;html_44a6cabb7f6861c24e89305f579f1efe&quot; style=&quot;width: 100.0%; height: 100.0%;&quot;&gt;Fail Orders: 194&lt;/div&gt;`)[0];\n",
       "                popup_7afae84ff080f400918b301d38a35c95.setContent(html_44a6cabb7f6861c24e89305f579f1efe);\n",
       "            \n",
       "        \n",
       "\n",
       "        poly_line_d4c9d9bd8d6d6a900d5a0d4193663802.bindPopup(popup_7afae84ff080f400918b301d38a35c95)\n",
       "        ;\n",
       "\n",
       "        \n",
       "    \n",
       "    \n",
       "            var poly_line_95d987c14a0a2ddf262807d6f7940621 = L.polyline(\n",
       "                [[51.466342530011154, -0.9920227722765995], [51.46509302847852, -0.9987567415638836], [51.46059110171932, -0.9999203171883535], [51.45733893725557, -0.9943507288938785], [51.45858846728357, -0.98761781914732], [51.46309013326343, -0.9864534382640078]],\n",
       "                {&quot;bubblingMouseEvents&quot;: true, &quot;color&quot;: &quot;purple&quot;, &quot;dashArray&quot;: null, &quot;dashOffset&quot;: null, &quot;fill&quot;: true, &quot;fillColor&quot;: &quot;purple&quot;, &quot;fillOpacity&quot;: 0.4, &quot;fillRule&quot;: &quot;evenodd&quot;, &quot;lineCap&quot;: &quot;round&quot;, &quot;lineJoin&quot;: &quot;round&quot;, &quot;noClip&quot;: false, &quot;opacity&quot;: 1, &quot;smoothFactor&quot;: 1.0, &quot;stroke&quot;: true, &quot;weight&quot;: 1}\n",
       "            ).addTo(map_42bc33039f62dc425db42b7ba118e17e);\n",
       "        \n",
       "    \n",
       "        var popup_50fa843adaf8d3487d96d5ea62fa142f = L.popup({&quot;maxWidth&quot;: 300});\n",
       "\n",
       "        \n",
       "            \n",
       "                var html_fc1e6efaf316972d14d480ce03a4ead1 = $(`&lt;div id=&quot;html_fc1e6efaf316972d14d480ce03a4ead1&quot; style=&quot;width: 100.0%; height: 100.0%;&quot;&gt;Fail Orders: 189&lt;/div&gt;`)[0];\n",
       "                popup_50fa843adaf8d3487d96d5ea62fa142f.setContent(html_fc1e6efaf316972d14d480ce03a4ead1);\n",
       "            \n",
       "        \n",
       "\n",
       "        poly_line_95d987c14a0a2ddf262807d6f7940621.bindPopup(popup_50fa843adaf8d3487d96d5ea62fa142f)\n",
       "        ;\n",
       "\n",
       "        \n",
       "    \n",
       "    \n",
       "            var poly_line_3f8de9ec4a4d36bbd461d46342c425d4 = L.polyline(\n",
       "                [[51.427568000265914, -0.9700115060731906], [51.42631835526492, -0.976740180192182], [51.421815303282585, -0.977904483157232], [51.418562157454765, -0.9723409156683347], [51.41981183144666, -0.965613299822586], [51.42431462225898, -0.9644481933018522]],\n",
       "                {&quot;bubblingMouseEvents&quot;: true, &quot;color&quot;: &quot;purple&quot;, &quot;dashArray&quot;: null, &quot;dashOffset&quot;: null, &quot;fill&quot;: true, &quot;fillColor&quot;: &quot;purple&quot;, &quot;fillOpacity&quot;: 0.4, &quot;fillRule&quot;: &quot;evenodd&quot;, &quot;lineCap&quot;: &quot;round&quot;, &quot;lineJoin&quot;: &quot;round&quot;, &quot;noClip&quot;: false, &quot;opacity&quot;: 1, &quot;smoothFactor&quot;: 1.0, &quot;stroke&quot;: true, &quot;weight&quot;: 1}\n",
       "            ).addTo(map_42bc33039f62dc425db42b7ba118e17e);\n",
       "        \n",
       "    \n",
       "        var popup_ebf7b76ae338e5d365614509b9d13e81 = L.popup({&quot;maxWidth&quot;: 300});\n",
       "\n",
       "        \n",
       "            \n",
       "                var html_81ab37ff2c5210ad3380bf9eefdd1f9d = $(`&lt;div id=&quot;html_81ab37ff2c5210ad3380bf9eefdd1f9d&quot; style=&quot;width: 100.0%; height: 100.0%;&quot;&gt;Fail Orders: 174&lt;/div&gt;`)[0];\n",
       "                popup_ebf7b76ae338e5d365614509b9d13e81.setContent(html_81ab37ff2c5210ad3380bf9eefdd1f9d);\n",
       "            \n",
       "        \n",
       "\n",
       "        poly_line_3f8de9ec4a4d36bbd461d46342c425d4.bindPopup(popup_ebf7b76ae338e5d365614509b9d13e81)\n",
       "        ;\n",
       "\n",
       "        \n",
       "    \n",
       "    \n",
       "            var poly_line_1ccea22ffe89358f5a3c6466a418f2df = L.polyline(\n",
       "                [[51.42381765805615, -0.9901977782322906], [51.42256660578232, -0.9969267017852713], [51.41806280702475, -0.9980895421136016], [51.414810321555606, -0.992524263014619], [51.41606140254228, -0.9857963974483128], [51.420564940268754, -0.9846327531036081]],\n",
       "                {&quot;bubblingMouseEvents&quot;: true, &quot;color&quot;: &quot;purple&quot;, &quot;dashArray&quot;: null, &quot;dashOffset&quot;: null, &quot;fill&quot;: true, &quot;fillColor&quot;: &quot;purple&quot;, &quot;fillOpacity&quot;: 0.4, &quot;fillRule&quot;: &quot;evenodd&quot;, &quot;lineCap&quot;: &quot;round&quot;, &quot;lineJoin&quot;: &quot;round&quot;, &quot;noClip&quot;: false, &quot;opacity&quot;: 1, &quot;smoothFactor&quot;: 1.0, &quot;stroke&quot;: true, &quot;weight&quot;: 1}\n",
       "            ).addTo(map_42bc33039f62dc425db42b7ba118e17e);\n",
       "        \n",
       "    \n",
       "        var popup_2d7379e1e5bb260e949a98c3c57ee38f = L.popup({&quot;maxWidth&quot;: 300});\n",
       "\n",
       "        \n",
       "            \n",
       "                var html_ad333d78e12065dbad4c74b8a221e28d = $(`&lt;div id=&quot;html_ad333d78e12065dbad4c74b8a221e28d&quot; style=&quot;width: 100.0%; height: 100.0%;&quot;&gt;Fail Orders: 154&lt;/div&gt;`)[0];\n",
       "                popup_2d7379e1e5bb260e949a98c3c57ee38f.setContent(html_ad333d78e12065dbad4c74b8a221e28d);\n",
       "            \n",
       "        \n",
       "\n",
       "        poly_line_1ccea22ffe89358f5a3c6466a418f2df.bindPopup(popup_2d7379e1e5bb260e949a98c3c57ee38f)\n",
       "        ;\n",
       "\n",
       "        \n",
       "    \n",
       "    \n",
       "            var poly_line_9718725c48dee028bff8deb57fb011e9 = L.polyline(\n",
       "                [[51.42957130531146, -0.9823049510204259], [51.428320971100014, -0.9890342792234931], [51.42381765805615, -0.9901977782322906], [51.420564940268754, -0.9846327531036081], [51.421815303282585, -0.977904483157232], [51.42631835526492, -0.976740180192182]],\n",
       "                {&quot;bubblingMouseEvents&quot;: true, &quot;color&quot;: &quot;purple&quot;, &quot;dashArray&quot;: null, &quot;dashOffset&quot;: null, &quot;fill&quot;: true, &quot;fillColor&quot;: &quot;purple&quot;, &quot;fillOpacity&quot;: 0.4, &quot;fillRule&quot;: &quot;evenodd&quot;, &quot;lineCap&quot;: &quot;round&quot;, &quot;lineJoin&quot;: &quot;round&quot;, &quot;noClip&quot;: false, &quot;opacity&quot;: 1, &quot;smoothFactor&quot;: 1.0, &quot;stroke&quot;: true, &quot;weight&quot;: 1}\n",
       "            ).addTo(map_42bc33039f62dc425db42b7ba118e17e);\n",
       "        \n",
       "    \n",
       "        var popup_4d4b124f7c65cab2388f3417e4750c7a = L.popup({&quot;maxWidth&quot;: 300});\n",
       "\n",
       "        \n",
       "            \n",
       "                var html_f214c495f1aaa1f7e502b8652194583b = $(`&lt;div id=&quot;html_f214c495f1aaa1f7e502b8652194583b&quot; style=&quot;width: 100.0%; height: 100.0%;&quot;&gt;Fail Orders: 151&lt;/div&gt;`)[0];\n",
       "                popup_4d4b124f7c65cab2388f3417e4750c7a.setContent(html_f214c495f1aaa1f7e502b8652194583b);\n",
       "            \n",
       "        \n",
       "\n",
       "        poly_line_9718725c48dee028bff8deb57fb011e9.bindPopup(popup_4d4b124f7c65cab2388f3417e4750c7a)\n",
       "        ;\n",
       "\n",
       "        \n",
       "    \n",
       "    \n",
       "            var poly_line_a1d25ec2d8575b0b4ad6dbc6ea3b066f = L.polyline(\n",
       "                [[51.46259261681592, -1.012224928503937], [51.46134170661987, -1.018959145787654], [51.45683903313376, -1.020121256156723], [51.45358753046727, -1.0145499550714774], [51.45483846888045, -1.007816797040404], [51.459340881726426, -1.0066538809513756]],\n",
       "                {&quot;bubblingMouseEvents&quot;: true, &quot;color&quot;: &quot;purple&quot;, &quot;dashArray&quot;: null, &quot;dashOffset&quot;: null, &quot;fill&quot;: true, &quot;fillColor&quot;: &quot;purple&quot;, &quot;fillOpacity&quot;: 0.4, &quot;fillRule&quot;: &quot;evenodd&quot;, &quot;lineCap&quot;: &quot;round&quot;, &quot;lineJoin&quot;: &quot;round&quot;, &quot;noClip&quot;: false, &quot;opacity&quot;: 1, &quot;smoothFactor&quot;: 1.0, &quot;stroke&quot;: true, &quot;weight&quot;: 1}\n",
       "            ).addTo(map_42bc33039f62dc425db42b7ba118e17e);\n",
       "        \n",
       "    \n",
       "        var popup_8616a7301b31d9febd26975693831595 = L.popup({&quot;maxWidth&quot;: 300});\n",
       "\n",
       "        \n",
       "            \n",
       "                var html_2b20d9b6b79b2f78259a84f85136e190 = $(`&lt;div id=&quot;html_2b20d9b6b79b2f78259a84f85136e190&quot; style=&quot;width: 100.0%; height: 100.0%;&quot;&gt;Fail Orders: 130&lt;/div&gt;`)[0];\n",
       "                popup_8616a7301b31d9febd26975693831595.setContent(html_2b20d9b6b79b2f78259a84f85136e190);\n",
       "            \n",
       "        \n",
       "\n",
       "        poly_line_a1d25ec2d8575b0b4ad6dbc6ea3b066f.bindPopup(popup_8616a7301b31d9febd26975693831595)\n",
       "        ;\n",
       "\n",
       "        \n",
       "    \n",
       "    \n",
       "            var poly_line_dfb1de8fd600e2ff9a43dad19bd68291 = L.polyline(\n",
       "                [[51.44281159499859, -0.9340344228962505], [51.4415647930973, -0.9407636522764081], [51.43706346020219, -0.941930735212211], [51.43380919056114, -0.9363693918501719], [51.4350560219104, -0.9296412215680129], [51.43955709343632, -0.9284733356593977]],\n",
       "                {&quot;bubblingMouseEvents&quot;: true, &quot;color&quot;: &quot;purple&quot;, &quot;dashArray&quot;: null, &quot;dashOffset&quot;: null, &quot;fill&quot;: true, &quot;fillColor&quot;: &quot;purple&quot;, &quot;fillOpacity&quot;: 0.4, &quot;fillRule&quot;: &quot;evenodd&quot;, &quot;lineCap&quot;: &quot;round&quot;, &quot;lineJoin&quot;: &quot;round&quot;, &quot;noClip&quot;: false, &quot;opacity&quot;: 1, &quot;smoothFactor&quot;: 1.0, &quot;stroke&quot;: true, &quot;weight&quot;: 1}\n",
       "            ).addTo(map_42bc33039f62dc425db42b7ba118e17e);\n",
       "        \n",
       "    \n",
       "        var popup_eb44b55131985470e80133f1be60a2af = L.popup({&quot;maxWidth&quot;: 300});\n",
       "\n",
       "        \n",
       "            \n",
       "                var html_b8e8fa4cc8b4e1e30cdf5c0e99ab1026 = $(`&lt;div id=&quot;html_b8e8fa4cc8b4e1e30cdf5c0e99ab1026&quot; style=&quot;width: 100.0%; height: 100.0%;&quot;&gt;Fail Orders: 125&lt;/div&gt;`)[0];\n",
       "                popup_eb44b55131985470e80133f1be60a2af.setContent(html_b8e8fa4cc8b4e1e30cdf5c0e99ab1026);\n",
       "            \n",
       "        \n",
       "\n",
       "        poly_line_dfb1de8fd600e2ff9a43dad19bd68291.bindPopup(popup_eb44b55131985470e80133f1be60a2af)\n",
       "        ;\n",
       "\n",
       "        \n",
       "    \n",
       "    \n",
       "            var poly_line_b3d45dda5431d70c9caeb657b28f7e99 = L.polyline(\n",
       "                [[51.47209275361731, -0.9841241623897607], [51.47084397058474, -0.990858536993556], [51.466342530011154, -0.9920227722765995], [51.46309013326343, -0.9864534382640078], [51.4643389448808, -0.9797201234716127], [51.4688401246446, -0.9785550829899539]],\n",
       "                {&quot;bubblingMouseEvents&quot;: true, &quot;color&quot;: &quot;purple&quot;, &quot;dashArray&quot;: null, &quot;dashOffset&quot;: null, &quot;fill&quot;: true, &quot;fillColor&quot;: &quot;purple&quot;, &quot;fillOpacity&quot;: 0.4, &quot;fillRule&quot;: &quot;evenodd&quot;, &quot;lineCap&quot;: &quot;round&quot;, &quot;lineJoin&quot;: &quot;round&quot;, &quot;noClip&quot;: false, &quot;opacity&quot;: 1, &quot;smoothFactor&quot;: 1.0, &quot;stroke&quot;: true, &quot;weight&quot;: 1}\n",
       "            ).addTo(map_42bc33039f62dc425db42b7ba118e17e);\n",
       "        \n",
       "    \n",
       "        var popup_95e419a2788ee3586b518775fdbc016d = L.popup({&quot;maxWidth&quot;: 300});\n",
       "\n",
       "        \n",
       "            \n",
       "                var html_d7e3db040c963a1f20c051dfd45125af = $(`&lt;div id=&quot;html_d7e3db040c963a1f20c051dfd45125af&quot; style=&quot;width: 100.0%; height: 100.0%;&quot;&gt;Fail Orders: 120&lt;/div&gt;`)[0];\n",
       "                popup_95e419a2788ee3586b518775fdbc016d.setContent(html_d7e3db040c963a1f20c051dfd45125af);\n",
       "            \n",
       "        \n",
       "\n",
       "        poly_line_b3d45dda5431d70c9caeb657b28f7e99.bindPopup(popup_95e419a2788ee3586b518775fdbc016d)\n",
       "        ;\n",
       "\n",
       "        \n",
       "    \n",
       "    \n",
       "            var poly_line_eff8fbfbc6eefeb195584cd8ccddeb20 = L.polyline(\n",
       "                [[51.425563578287736, -0.9577201737608355], [51.42431462225898, -0.9644481933018522], [51.41981183144666, -0.965613299822586], [51.416558257925054, -0.9600511900667946], [51.41780724313314, -0.9533242288152574], [51.42230977266705, -0.9521583191394177]],\n",
       "                {&quot;bubblingMouseEvents&quot;: true, &quot;color&quot;: &quot;purple&quot;, &quot;dashArray&quot;: null, &quot;dashOffset&quot;: null, &quot;fill&quot;: true, &quot;fillColor&quot;: &quot;purple&quot;, &quot;fillOpacity&quot;: 0.4, &quot;fillRule&quot;: &quot;evenodd&quot;, &quot;lineCap&quot;: &quot;round&quot;, &quot;lineJoin&quot;: &quot;round&quot;, &quot;noClip&quot;: false, &quot;opacity&quot;: 1, &quot;smoothFactor&quot;: 1.0, &quot;stroke&quot;: true, &quot;weight&quot;: 1}\n",
       "            ).addTo(map_42bc33039f62dc425db42b7ba118e17e);\n",
       "        \n",
       "    \n",
       "        var popup_a7c684d768aa9227860d0b23f57711a5 = L.popup({&quot;maxWidth&quot;: 300});\n",
       "\n",
       "        \n",
       "            \n",
       "                var html_c9ecef56421aff0132cea5a6d41178ab = $(`&lt;div id=&quot;html_c9ecef56421aff0132cea5a6d41178ab&quot; style=&quot;width: 100.0%; height: 100.0%;&quot;&gt;Fail Orders: 117&lt;/div&gt;`)[0];\n",
       "                popup_a7c684d768aa9227860d0b23f57711a5.setContent(html_c9ecef56421aff0132cea5a6d41178ab);\n",
       "            \n",
       "        \n",
       "\n",
       "        poly_line_eff8fbfbc6eefeb195584cd8ccddeb20.bindPopup(popup_a7c684d768aa9227860d0b23f57711a5)\n",
       "        ;\n",
       "\n",
       "        \n",
       "    \n",
       "    \n",
       "            var poly_line_e39c941f9acca8c416da3fbd109078a0 = L.polyline(\n",
       "                [[51.43331949335346, -0.9621174662810845], [51.432070566405095, -0.9688465443651438], [51.427568000265914, -0.9700115060731906], [51.42431462225898, -0.9644481933018522], [51.425563578287736, -0.9577201737608355], [51.43006588322657, -0.9565544085575289]],\n",
       "                {&quot;bubblingMouseEvents&quot;: true, &quot;color&quot;: &quot;purple&quot;, &quot;dashArray&quot;: null, &quot;dashOffset&quot;: null, &quot;fill&quot;: true, &quot;fillColor&quot;: &quot;purple&quot;, &quot;fillOpacity&quot;: 0.4, &quot;fillRule&quot;: &quot;evenodd&quot;, &quot;lineCap&quot;: &quot;round&quot;, &quot;lineJoin&quot;: &quot;round&quot;, &quot;noClip&quot;: false, &quot;opacity&quot;: 1, &quot;smoothFactor&quot;: 1.0, &quot;stroke&quot;: true, &quot;weight&quot;: 1}\n",
       "            ).addTo(map_42bc33039f62dc425db42b7ba118e17e);\n",
       "        \n",
       "    \n",
       "        var popup_31f42f17536a78ee03a82e7b02395ebe = L.popup({&quot;maxWidth&quot;: 300});\n",
       "\n",
       "        \n",
       "            \n",
       "                var html_ed5527e3b258b4cac531f421e4e9cedc = $(`&lt;div id=&quot;html_ed5527e3b258b4cac531f421e4e9cedc&quot; style=&quot;width: 100.0%; height: 100.0%;&quot;&gt;Fail Orders: 117&lt;/div&gt;`)[0];\n",
       "                popup_31f42f17536a78ee03a82e7b02395ebe.setContent(html_ed5527e3b258b4cac531f421e4e9cedc);\n",
       "            \n",
       "        \n",
       "\n",
       "        poly_line_e39c941f9acca8c416da3fbd109078a0.bindPopup(popup_31f42f17536a78ee03a82e7b02395ebe)\n",
       "        ;\n",
       "\n",
       "        \n",
       "    \n",
       "    \n",
       "            var poly_line_331c25a18cc0c777811fc73a543297d9 = L.polyline(\n",
       "                [[51.42730002898243, -0.9252493669561035], [51.4260531680863, -0.9319764783942915], [51.421551385873144, -0.933143849385712], [51.41829672606489, -0.9275849113411399], [51.41954361660678, -0.9208588584929681], [51.424045137294776, -0.9196906852087792]],\n",
       "                {&quot;bubblingMouseEvents&quot;: true, &quot;color&quot;: &quot;purple&quot;, &quot;dashArray&quot;: null, &quot;dashOffset&quot;: null, &quot;fill&quot;: true, &quot;fillColor&quot;: &quot;purple&quot;, &quot;fillOpacity&quot;: 0.4, &quot;fillRule&quot;: &quot;evenodd&quot;, &quot;lineCap&quot;: &quot;round&quot;, &quot;lineJoin&quot;: &quot;round&quot;, &quot;noClip&quot;: false, &quot;opacity&quot;: 1, &quot;smoothFactor&quot;: 1.0, &quot;stroke&quot;: true, &quot;weight&quot;: 1}\n",
       "            ).addTo(map_42bc33039f62dc425db42b7ba118e17e);\n",
       "        \n",
       "    \n",
       "        var popup_af9df301add79f39c271d3406290de1e = L.popup({&quot;maxWidth&quot;: 300});\n",
       "\n",
       "        \n",
       "            \n",
       "                var html_09efb31a2e02ea76eb7aca2fdf1dad0b = $(`&lt;div id=&quot;html_09efb31a2e02ea76eb7aca2fdf1dad0b&quot; style=&quot;width: 100.0%; height: 100.0%;&quot;&gt;Fail Orders: 113&lt;/div&gt;`)[0];\n",
       "                popup_af9df301add79f39c271d3406290de1e.setContent(html_09efb31a2e02ea76eb7aca2fdf1dad0b);\n",
       "            \n",
       "        \n",
       "\n",
       "        poly_line_331c25a18cc0c777811fc73a543297d9.bindPopup(popup_af9df301add79f39c271d3406290de1e)\n",
       "        ;\n",
       "\n",
       "        \n",
       "    \n",
       "    \n",
       "            var poly_line_8ac7e4e36dba88fc9f8fbba3edbb7462 = L.polyline(\n",
       "                [[51.45430425157849, -0.9182386126096636], [51.45305888595956, -0.924968647508941], [51.44855852550339, -0.9261370486667562], [51.44530379207923, -0.9205762178855526], [51.44654918732517, -0.9138472426230629], [51.45104928635185, -0.9126780386146259]],\n",
       "                {&quot;bubblingMouseEvents&quot;: true, &quot;color&quot;: &quot;Orange&quot;, &quot;dashArray&quot;: null, &quot;dashOffset&quot;: null, &quot;fill&quot;: true, &quot;fillColor&quot;: &quot;Orange&quot;, &quot;fillOpacity&quot;: 0.4, &quot;fillRule&quot;: &quot;evenodd&quot;, &quot;lineCap&quot;: &quot;round&quot;, &quot;lineJoin&quot;: &quot;round&quot;, &quot;noClip&quot;: false, &quot;opacity&quot;: 1, &quot;smoothFactor&quot;: 1.0, &quot;stroke&quot;: true, &quot;weight&quot;: 1}\n",
       "            ).addTo(map_42bc33039f62dc425db42b7ba118e17e);\n",
       "        \n",
       "    \n",
       "        var popup_dee5fd1a44a32abe85f701f052acb0bd = L.popup({&quot;maxWidth&quot;: 300});\n",
       "\n",
       "        \n",
       "            \n",
       "                var html_77d1362ccb8a9b72984f6a2f4d7de0b6 = $(`&lt;div id=&quot;html_77d1362ccb8a9b72984f6a2f4d7de0b6&quot; style=&quot;width: 100.0%; height: 100.0%;&quot;&gt;Fail Orders: 112&lt;/div&gt;`)[0];\n",
       "                popup_dee5fd1a44a32abe85f701f052acb0bd.setContent(html_77d1362ccb8a9b72984f6a2f4d7de0b6);\n",
       "            \n",
       "        \n",
       "\n",
       "        poly_line_8ac7e4e36dba88fc9f8fbba3edbb7462.bindPopup(popup_dee5fd1a44a32abe85f701f052acb0bd)\n",
       "        ;\n",
       "\n",
       "        \n",
       "    \n",
       "    \n",
       "            var poly_line_0a71c2b488d15f79d4adf82e66ce18f4 = L.polyline(\n",
       "                [[51.4855949044972, -0.9806289627561398], [51.484346868579344, -0.9873648028044738], [51.479846139911224, -0.9885295522943797], [51.47659370790649, -0.982959267325072], [51.47784177239928, -0.9762244876127197], [51.48234224030534, -0.9750589326433398]],\n",
       "                {&quot;bubblingMouseEvents&quot;: true, &quot;color&quot;: &quot;Orange&quot;, &quot;dashArray&quot;: null, &quot;dashOffset&quot;: null, &quot;fill&quot;: true, &quot;fillColor&quot;: &quot;Orange&quot;, &quot;fillOpacity&quot;: 0.4, &quot;fillRule&quot;: &quot;evenodd&quot;, &quot;lineCap&quot;: &quot;round&quot;, &quot;lineJoin&quot;: &quot;round&quot;, &quot;noClip&quot;: false, &quot;opacity&quot;: 1, &quot;smoothFactor&quot;: 1.0, &quot;stroke&quot;: true, &quot;weight&quot;: 1}\n",
       "            ).addTo(map_42bc33039f62dc425db42b7ba118e17e);\n",
       "        \n",
       "    \n",
       "        var popup_3ef829e47becdf387cda91215fae221c = L.popup({&quot;maxWidth&quot;: 300});\n",
       "\n",
       "        \n",
       "            \n",
       "                var html_03f5c1563eb6f56cd299e55a18703220 = $(`&lt;div id=&quot;html_03f5c1563eb6f56cd299e55a18703220&quot; style=&quot;width: 100.0%; height: 100.0%;&quot;&gt;Fail Orders: 109&lt;/div&gt;`)[0];\n",
       "                popup_3ef829e47becdf387cda91215fae221c.setContent(html_03f5c1563eb6f56cd299e55a18703220);\n",
       "            \n",
       "        \n",
       "\n",
       "        poly_line_0a71c2b488d15f79d4adf82e66ce18f4.bindPopup(popup_3ef829e47becdf387cda91215fae221c)\n",
       "        ;\n",
       "\n",
       "        \n",
       "    \n",
       "    \n",
       "            var poly_line_152f6b639321eab4deb706e70d52e122 = L.polyline(\n",
       "                [[51.421815303282585, -0.977904483157232], [51.420564940268754, -0.9846327531036081], [51.41606140254228, -0.9857963974483128], [51.412808488952784, -0.9802325755719475], [51.41405888086795, -0.9735053636290363], [51.418562157454765, -0.9723409156683347]],\n",
       "                {&quot;bubblingMouseEvents&quot;: true, &quot;color&quot;: &quot;Orange&quot;, &quot;dashArray&quot;: null, &quot;dashOffset&quot;: null, &quot;fill&quot;: true, &quot;fillColor&quot;: &quot;Orange&quot;, &quot;fillOpacity&quot;: 0.4, &quot;fillRule&quot;: &quot;evenodd&quot;, &quot;lineCap&quot;: &quot;round&quot;, &quot;lineJoin&quot;: &quot;round&quot;, &quot;noClip&quot;: false, &quot;opacity&quot;: 1, &quot;smoothFactor&quot;: 1.0, &quot;stroke&quot;: true, &quot;weight&quot;: 1}\n",
       "            ).addTo(map_42bc33039f62dc425db42b7ba118e17e);\n",
       "        \n",
       "    \n",
       "        var popup_4bce77a5ad76f9015cc3c27e17c173a5 = L.popup({&quot;maxWidth&quot;: 300});\n",
       "\n",
       "        \n",
       "            \n",
       "                var html_5d3e4b93ed5f981dae2da7417c135116 = $(`&lt;div id=&quot;html_5d3e4b93ed5f981dae2da7417c135116&quot; style=&quot;width: 100.0%; height: 100.0%;&quot;&gt;Fail Orders: 99&lt;/div&gt;`)[0];\n",
       "                popup_4bce77a5ad76f9015cc3c27e17c173a5.setContent(html_5d3e4b93ed5f981dae2da7417c135116);\n",
       "            \n",
       "        \n",
       "\n",
       "        poly_line_152f6b639321eab4deb706e70d52e122.bindPopup(popup_4bce77a5ad76f9015cc3c27e17c173a5)\n",
       "        ;\n",
       "\n",
       "        \n",
       "    \n",
       "    \n",
       "            var poly_line_b11f5dad717f8690be5548d56313341b = L.polyline(\n",
       "                [[51.447083898644216, -1.0034100168504345], [51.445832931914595, -1.010142115882202], [51.44132980787971, -1.0113045187085727], [51.43807791135447, -1.0057356276506038], [51.43932890649972, -0.9990045873649386], [51.44383176973803, -0.9978413795005481]],\n",
       "                {&quot;bubblingMouseEvents&quot;: true, &quot;color&quot;: &quot;Orange&quot;, &quot;dashArray&quot;: null, &quot;dashOffset&quot;: null, &quot;fill&quot;: true, &quot;fillColor&quot;: &quot;Orange&quot;, &quot;fillOpacity&quot;: 0.4, &quot;fillRule&quot;: &quot;evenodd&quot;, &quot;lineCap&quot;: &quot;round&quot;, &quot;lineJoin&quot;: &quot;round&quot;, &quot;noClip&quot;: false, &quot;opacity&quot;: 1, &quot;smoothFactor&quot;: 1.0, &quot;stroke&quot;: true, &quot;weight&quot;: 1}\n",
       "            ).addTo(map_42bc33039f62dc425db42b7ba118e17e);\n",
       "        \n",
       "    \n",
       "        var popup_604740ae3cb58db9e7b5f2d6a0151382 = L.popup({&quot;maxWidth&quot;: 300});\n",
       "\n",
       "        \n",
       "            \n",
       "                var html_cf19f3cef6b2fbfa6937410116ea28ec = $(`&lt;div id=&quot;html_cf19f3cef6b2fbfa6937410116ea28ec&quot; style=&quot;width: 100.0%; height: 100.0%;&quot;&gt;Fail Orders: 98&lt;/div&gt;`)[0];\n",
       "                popup_604740ae3cb58db9e7b5f2d6a0151382.setContent(html_cf19f3cef6b2fbfa6937410116ea28ec);\n",
       "            \n",
       "        \n",
       "\n",
       "        poly_line_b11f5dad717f8690be5548d56313341b.bindPopup(popup_604740ae3cb58db9e7b5f2d6a0151382)\n",
       "        ;\n",
       "\n",
       "        \n",
       "    \n",
       "    \n",
       "            var poly_line_6cca7ba24751ade04bd1ded015397d02 = L.polyline(\n",
       "                [[51.449084631633426, -1.015712211748231], [51.447832974839926, -1.0224449638398974], [51.443329590117216, -1.0236065612275815], [51.440078122859255, -1.018036212071681], [51.44132980787971, -1.0113045187085727], [51.445832931914595, -1.010142115882202]],\n",
       "                {&quot;bubblingMouseEvents&quot;: true, &quot;color&quot;: &quot;Orange&quot;, &quot;dashArray&quot;: null, &quot;dashOffset&quot;: null, &quot;fill&quot;: true, &quot;fillColor&quot;: &quot;Orange&quot;, &quot;fillOpacity&quot;: 0.4, &quot;fillRule&quot;: &quot;evenodd&quot;, &quot;lineCap&quot;: &quot;round&quot;, &quot;lineJoin&quot;: &quot;round&quot;, &quot;noClip&quot;: false, &quot;opacity&quot;: 1, &quot;smoothFactor&quot;: 1.0, &quot;stroke&quot;: true, &quot;weight&quot;: 1}\n",
       "            ).addTo(map_42bc33039f62dc425db42b7ba118e17e);\n",
       "        \n",
       "    \n",
       "        var popup_348800f737fe6b76a15ec6636cdb8081 = L.popup({&quot;maxWidth&quot;: 300});\n",
       "\n",
       "        \n",
       "            \n",
       "                var html_45415727afa42a12288905f298297466 = $(`&lt;div id=&quot;html_45415727afa42a12288905f298297466&quot; style=&quot;width: 100.0%; height: 100.0%;&quot;&gt;Fail Orders: 96&lt;/div&gt;`)[0];\n",
       "                popup_348800f737fe6b76a15ec6636cdb8081.setContent(html_45415727afa42a12288905f298297466);\n",
       "            \n",
       "        \n",
       "\n",
       "        poly_line_6cca7ba24751ade04bd1ded015397d02.bindPopup(popup_348800f737fe6b76a15ec6636cdb8081)\n",
       "        ;\n",
       "\n",
       "        \n",
       "    \n",
       "    \n",
       "            var poly_line_5e7367ca95208a45d7ef41e9b3e2e31e = L.polyline(\n",
       "                [[51.45483846888045, -1.007816797040404], [51.45358753046727, -1.0145499550714774], [51.449084631633426, -1.015712211748231], [51.445832931914595, -1.010142115882202], [51.447083898644216, -1.0034100168504345], [51.451586536759706, -1.002246954794795]],\n",
       "                {&quot;bubblingMouseEvents&quot;: true, &quot;color&quot;: &quot;Orange&quot;, &quot;dashArray&quot;: null, &quot;dashOffset&quot;: null, &quot;fill&quot;: true, &quot;fillColor&quot;: &quot;Orange&quot;, &quot;fillOpacity&quot;: 0.4, &quot;fillRule&quot;: &quot;evenodd&quot;, &quot;lineCap&quot;: &quot;round&quot;, &quot;lineJoin&quot;: &quot;round&quot;, &quot;noClip&quot;: false, &quot;opacity&quot;: 1, &quot;smoothFactor&quot;: 1.0, &quot;stroke&quot;: true, &quot;weight&quot;: 1}\n",
       "            ).addTo(map_42bc33039f62dc425db42b7ba118e17e);\n",
       "        \n",
       "    \n",
       "        var popup_ee53a187bd40c815bedf79d6ea98909c = L.popup({&quot;maxWidth&quot;: 300});\n",
       "\n",
       "        \n",
       "            \n",
       "                var html_713421d337d4e26c4290f60956f885ab = $(`&lt;div id=&quot;html_713421d337d4e26c4290f60956f885ab&quot; style=&quot;width: 100.0%; height: 100.0%;&quot;&gt;Fail Orders: 93&lt;/div&gt;`)[0];\n",
       "                popup_ee53a187bd40c815bedf79d6ea98909c.setContent(html_713421d337d4e26c4290f60956f885ab);\n",
       "            \n",
       "        \n",
       "\n",
       "        poly_line_5e7367ca95208a45d7ef41e9b3e2e31e.bindPopup(popup_ee53a187bd40c815bedf79d6ea98909c)\n",
       "        ;\n",
       "\n",
       "        \n",
       "    \n",
       "    \n",
       "            var poly_line_5f843077ee2ce4185fd68442b516accd = L.polyline(\n",
       "                [[51.46406790177281, -0.9349256625632676], [51.46282187677091, -0.9416574143047192], [51.45832148008727, -0.9428248679734373], [51.45506736963244, -0.9372613736029796], [51.456313423973754, -0.9305306817374712], [51.46081355941403, -0.9293624244761365]],\n",
       "                {&quot;bubblingMouseEvents&quot;: true, &quot;color&quot;: &quot;Orange&quot;, &quot;dashArray&quot;: null, &quot;dashOffset&quot;: null, &quot;fill&quot;: true, &quot;fillColor&quot;: &quot;Orange&quot;, &quot;fillOpacity&quot;: 0.4, &quot;fillRule&quot;: &quot;evenodd&quot;, &quot;lineCap&quot;: &quot;round&quot;, &quot;lineJoin&quot;: &quot;round&quot;, &quot;noClip&quot;: false, &quot;opacity&quot;: 1, &quot;smoothFactor&quot;: 1.0, &quot;stroke&quot;: true, &quot;weight&quot;: 1}\n",
       "            ).addTo(map_42bc33039f62dc425db42b7ba118e17e);\n",
       "        \n",
       "    \n",
       "        var popup_e27fac44e6ea58bfeb939d77ffe0a3bf = L.popup({&quot;maxWidth&quot;: 300});\n",
       "\n",
       "        \n",
       "            \n",
       "                var html_732ffe220313b91b912a94ea0bc5012a = $(`&lt;div id=&quot;html_732ffe220313b91b912a94ea0bc5012a&quot; style=&quot;width: 100.0%; height: 100.0%;&quot;&gt;Fail Orders: 90&lt;/div&gt;`)[0];\n",
       "                popup_e27fac44e6ea58bfeb939d77ffe0a3bf.setContent(html_732ffe220313b91b912a94ea0bc5012a);\n",
       "            \n",
       "        \n",
       "\n",
       "        poly_line_5f843077ee2ce4185fd68442b516accd.bindPopup(popup_e27fac44e6ea58bfeb939d77ffe0a3bf)\n",
       "        ;\n",
       "\n",
       "        \n",
       "    \n",
       "    \n",
       "            var poly_line_bf8ad806d73fbcd0d65ead0e30d42115 = L.polyline(\n",
       "                [[51.445082046641915, -0.9911099340242325], [51.44383176973803, -0.9978413795005481], [51.43932890649972, -0.9990045873649386], [51.43607658105397, -0.9934371544996752], [51.43732688656207, -0.9867067677866462], [51.44182948889518, -0.9855427552849925]],\n",
       "                {&quot;bubblingMouseEvents&quot;: true, &quot;color&quot;: &quot;Orange&quot;, &quot;dashArray&quot;: null, &quot;dashOffset&quot;: null, &quot;fill&quot;: true, &quot;fillColor&quot;: &quot;Orange&quot;, &quot;fillOpacity&quot;: 0.4, &quot;fillRule&quot;: &quot;evenodd&quot;, &quot;lineCap&quot;: &quot;round&quot;, &quot;lineJoin&quot;: &quot;round&quot;, &quot;noClip&quot;: false, &quot;opacity&quot;: 1, &quot;smoothFactor&quot;: 1.0, &quot;stroke&quot;: true, &quot;weight&quot;: 1}\n",
       "            ).addTo(map_42bc33039f62dc425db42b7ba118e17e);\n",
       "        \n",
       "    \n",
       "        var popup_ccb22be211a8b38308e139dcb75b95ca = L.popup({&quot;maxWidth&quot;: 300});\n",
       "\n",
       "        \n",
       "            \n",
       "                var html_f5e2ee818dd49ef56d8b708a6c589df9 = $(`&lt;div id=&quot;html_f5e2ee818dd49ef56d8b708a6c589df9&quot; style=&quot;width: 100.0%; height: 100.0%;&quot;&gt;Fail Orders: 86&lt;/div&gt;`)[0];\n",
       "                popup_ccb22be211a8b38308e139dcb75b95ca.setContent(html_f5e2ee818dd49ef56d8b708a6c589df9);\n",
       "            \n",
       "        \n",
       "\n",
       "        poly_line_bf8ad806d73fbcd0d65ead0e30d42115.bindPopup(popup_ccb22be211a8b38308e139dcb75b95ca)\n",
       "        ;\n",
       "\n",
       "        \n",
       "    \n",
       "    \n",
       "            var poly_line_38e74bc336619033479b7ce478f4367a = L.polyline(\n",
       "                [[51.44654918732517, -0.9138472426230629], [51.44530379207923, -0.9205762178855526], [51.440803206753586, -0.9217447627829642], [51.437548278164975, -0.9161851350378828], [51.4387937031369, -0.9094572191578383], [51.443294026955044, -0.9082878717500003]],\n",
       "                {&quot;bubblingMouseEvents&quot;: true, &quot;color&quot;: &quot;Orange&quot;, &quot;dashArray&quot;: null, &quot;dashOffset&quot;: null, &quot;fill&quot;: true, &quot;fillColor&quot;: &quot;Orange&quot;, &quot;fillOpacity&quot;: 0.4, &quot;fillRule&quot;: &quot;evenodd&quot;, &quot;lineCap&quot;: &quot;round&quot;, &quot;lineJoin&quot;: &quot;round&quot;, &quot;noClip&quot;: false, &quot;opacity&quot;: 1, &quot;smoothFactor&quot;: 1.0, &quot;stroke&quot;: true, &quot;weight&quot;: 1}\n",
       "            ).addTo(map_42bc33039f62dc425db42b7ba118e17e);\n",
       "        \n",
       "    \n",
       "        var popup_8f8a346d1247d0062b7cd6f28ac2ae84 = L.popup({&quot;maxWidth&quot;: 300});\n",
       "\n",
       "        \n",
       "            \n",
       "                var html_01c664ed1b4de0494743a88f83c68aba = $(`&lt;div id=&quot;html_01c664ed1b4de0494743a88f83c68aba&quot; style=&quot;width: 100.0%; height: 100.0%;&quot;&gt;Fail Orders: 85&lt;/div&gt;`)[0];\n",
       "                popup_8f8a346d1247d0062b7cd6f28ac2ae84.setContent(html_01c664ed1b4de0494743a88f83c68aba);\n",
       "            \n",
       "        \n",
       "\n",
       "        poly_line_38e74bc336619033479b7ce478f4367a.bindPopup(popup_8f8a346d1247d0062b7cd6f28ac2ae84)\n",
       "        ;\n",
       "\n",
       "        \n",
       "    \n",
       "    \n",
       "            var poly_line_b9c9daf00b3135f5763e796dd770a315 = L.polyline(\n",
       "                [[51.48358958621871, -0.9683237480305151], [51.48234224030534, -0.9750589326433398], [51.47784177239928, -0.9762244876127197], [51.47458891126061, -0.9706556631566758], [51.47583628593767, -0.9639215388963942], [51.48033649297319, -0.9627551788492759]],\n",
       "                {&quot;bubblingMouseEvents&quot;: true, &quot;color&quot;: &quot;Orange&quot;, &quot;dashArray&quot;: null, &quot;dashOffset&quot;: null, &quot;fill&quot;: true, &quot;fillColor&quot;: &quot;Orange&quot;, &quot;fillOpacity&quot;: 0.4, &quot;fillRule&quot;: &quot;evenodd&quot;, &quot;lineCap&quot;: &quot;round&quot;, &quot;lineJoin&quot;: &quot;round&quot;, &quot;noClip&quot;: false, &quot;opacity&quot;: 1, &quot;smoothFactor&quot;: 1.0, &quot;stroke&quot;: true, &quot;weight&quot;: 1}\n",
       "            ).addTo(map_42bc33039f62dc425db42b7ba118e17e);\n",
       "        \n",
       "    \n",
       "        var popup_4541b0097b4f660ff5e3f589b06c188e = L.popup({&quot;maxWidth&quot;: 300});\n",
       "\n",
       "        \n",
       "            \n",
       "                var html_269ae72c36410f885a244eedf93c0af5 = $(`&lt;div id=&quot;html_269ae72c36410f885a244eedf93c0af5&quot; style=&quot;width: 100.0%; height: 100.0%;&quot;&gt;Fail Orders: 78&lt;/div&gt;`)[0];\n",
       "                popup_4541b0097b4f660ff5e3f589b06c188e.setContent(html_269ae72c36410f885a244eedf93c0af5);\n",
       "            \n",
       "        \n",
       "\n",
       "        poly_line_b9c9daf00b3135f5763e796dd770a315.bindPopup(popup_4541b0097b4f660ff5e3f589b06c188e)\n",
       "        ;\n",
       "\n",
       "        \n",
       "    \n",
       "    \n",
       "            var poly_line_69214661e9f1643b658a5299e638eabc = L.polyline(\n",
       "                [[51.41780724313314, -0.9533242288152574], [51.416558257925054, -0.9600511900667946], [51.41205524258632, -0.9612164412430707], [51.40880147379574, -0.955655534092255], [51.41005048828205, -0.9489296308767483], [51.41455324226432, -0.9477635768853486]],\n",
       "                {&quot;bubblingMouseEvents&quot;: true, &quot;color&quot;: &quot;Orange&quot;, &quot;dashArray&quot;: null, &quot;dashOffset&quot;: null, &quot;fill&quot;: true, &quot;fillColor&quot;: &quot;Orange&quot;, &quot;fillOpacity&quot;: 0.4, &quot;fillRule&quot;: &quot;evenodd&quot;, &quot;lineCap&quot;: &quot;round&quot;, &quot;lineJoin&quot;: &quot;round&quot;, &quot;noClip&quot;: false, &quot;opacity&quot;: 1, &quot;smoothFactor&quot;: 1.0, &quot;stroke&quot;: true, &quot;weight&quot;: 1}\n",
       "            ).addTo(map_42bc33039f62dc425db42b7ba118e17e);\n",
       "        \n",
       "    \n",
       "        var popup_67adc8bca9273b3b2473d215f0c03e15 = L.popup({&quot;maxWidth&quot;: 300});\n",
       "\n",
       "        \n",
       "            \n",
       "                var html_81673ac2dfba10796e40fa4706df7c65 = $(`&lt;div id=&quot;html_81673ac2dfba10796e40fa4706df7c65&quot; style=&quot;width: 100.0%; height: 100.0%;&quot;&gt;Fail Orders: 65&lt;/div&gt;`)[0];\n",
       "                popup_67adc8bca9273b3b2473d215f0c03e15.setContent(html_81673ac2dfba10796e40fa4706df7c65);\n",
       "            \n",
       "        \n",
       "\n",
       "        poly_line_69214661e9f1643b658a5299e638eabc.bindPopup(popup_67adc8bca9273b3b2473d215f0c03e15)\n",
       "        ;\n",
       "\n",
       "        \n",
       "    \n",
       "    \n",
       "            var poly_line_f6049d02953af4e74fe71c9e028d29c7 = L.polyline(\n",
       "                [[51.45683903313376, -1.020121256156723], [51.45558740446801, -1.0268550672300594], [51.451084245024575, -1.0280165181270848], [51.447832974839926, -1.0224449638398974], [51.449084631633426, -1.015712211748231], [51.45358753046727, -1.0145499550714774]],\n",
       "                {&quot;bubblingMouseEvents&quot;: true, &quot;color&quot;: &quot;Orange&quot;, &quot;dashArray&quot;: null, &quot;dashOffset&quot;: null, &quot;fill&quot;: true, &quot;fillColor&quot;: &quot;Orange&quot;, &quot;fillOpacity&quot;: 0.4, &quot;fillRule&quot;: &quot;evenodd&quot;, &quot;lineCap&quot;: &quot;round&quot;, &quot;lineJoin&quot;: &quot;round&quot;, &quot;noClip&quot;: false, &quot;opacity&quot;: 1, &quot;smoothFactor&quot;: 1.0, &quot;stroke&quot;: true, &quot;weight&quot;: 1}\n",
       "            ).addTo(map_42bc33039f62dc425db42b7ba118e17e);\n",
       "        \n",
       "    \n",
       "        var popup_64b758815a015f1575009b562fbcb5d3 = L.popup({&quot;maxWidth&quot;: 300});\n",
       "\n",
       "        \n",
       "            \n",
       "                var html_5611a80e3bd5c5201bdf04540380c919 = $(`&lt;div id=&quot;html_5611a80e3bd5c5201bdf04540380c919&quot; style=&quot;width: 100.0%; height: 100.0%;&quot;&gt;Fail Orders: 61&lt;/div&gt;`)[0];\n",
       "                popup_64b758815a015f1575009b562fbcb5d3.setContent(html_5611a80e3bd5c5201bdf04540380c919);\n",
       "            \n",
       "        \n",
       "\n",
       "        poly_line_f6049d02953af4e74fe71c9e028d29c7.bindPopup(popup_64b758815a015f1575009b562fbcb5d3)\n",
       "        ;\n",
       "\n",
       "        \n",
       "    \n",
       "    \n",
       "            var poly_line_cd6f10b5f6c6d5ad3f47dfe916abd102 = L.polyline(\n",
       "                [[51.443329590117216, -1.0236065612275815], [51.44207721498358, -1.030338907172437], [51.43757334447103, -1.0314998453943076], [51.43432210973284, -1.0259292432790337], [51.435574513003964, -1.0191979557919344], [51.440078122859255, -1.018036212071681]],\n",
       "                {&quot;bubblingMouseEvents&quot;: true, &quot;color&quot;: &quot;Orange&quot;, &quot;dashArray&quot;: null, &quot;dashOffset&quot;: null, &quot;fill&quot;: true, &quot;fillColor&quot;: &quot;Orange&quot;, &quot;fillOpacity&quot;: 0.4, &quot;fillRule&quot;: &quot;evenodd&quot;, &quot;lineCap&quot;: &quot;round&quot;, &quot;lineJoin&quot;: &quot;round&quot;, &quot;noClip&quot;: false, &quot;opacity&quot;: 1, &quot;smoothFactor&quot;: 1.0, &quot;stroke&quot;: true, &quot;weight&quot;: 1}\n",
       "            ).addTo(map_42bc33039f62dc425db42b7ba118e17e);\n",
       "        \n",
       "    \n",
       "        var popup_f6981df48db0ad1996d08ab482d8d972 = L.popup({&quot;maxWidth&quot;: 300});\n",
       "\n",
       "        \n",
       "            \n",
       "                var html_85a4c394d37dbdef828e36f989363c74 = $(`&lt;div id=&quot;html_85a4c394d37dbdef828e36f989363c74&quot; style=&quot;width: 100.0%; height: 100.0%;&quot;&gt;Fail Orders: 60&lt;/div&gt;`)[0];\n",
       "                popup_f6981df48db0ad1996d08ab482d8d972.setContent(html_85a4c394d37dbdef828e36f989363c74);\n",
       "            \n",
       "        \n",
       "\n",
       "        poly_line_cd6f10b5f6c6d5ad3f47dfe916abd102.bindPopup(popup_f6981df48db0ad1996d08ab482d8d972)\n",
       "        ;\n",
       "\n",
       "        \n",
       "    \n",
       "    \n",
       "            var poly_line_e48cf15fee47d3eac1b2a8fd20376294 = L.polyline(\n",
       "                [[51.44732579482588, -1.0482169774267664], [51.446072038752185, -1.0549506270463211], [51.441567647251865, -1.0561099530700706], [51.438317272248035, -1.050536435882821], [51.43957105608184, -1.0438038446844844], [51.44407518714276, -1.042643712361457]],\n",
       "                {&quot;bubblingMouseEvents&quot;: true, &quot;color&quot;: &quot;Orange&quot;, &quot;dashArray&quot;: null, &quot;dashOffset&quot;: null, &quot;fill&quot;: true, &quot;fillColor&quot;: &quot;Orange&quot;, &quot;fillOpacity&quot;: 0.4, &quot;fillRule&quot;: &quot;evenodd&quot;, &quot;lineCap&quot;: &quot;round&quot;, &quot;lineJoin&quot;: &quot;round&quot;, &quot;noClip&quot;: false, &quot;opacity&quot;: 1, &quot;smoothFactor&quot;: 1.0, &quot;stroke&quot;: true, &quot;weight&quot;: 1}\n",
       "            ).addTo(map_42bc33039f62dc425db42b7ba118e17e);\n",
       "        \n",
       "    \n",
       "        var popup_883616a60f73f8246f89b3c89e295f40 = L.popup({&quot;maxWidth&quot;: 300});\n",
       "\n",
       "        \n",
       "            \n",
       "                var html_d2060f422f65ded344780b78d75c265f = $(`&lt;div id=&quot;html_d2060f422f65ded344780b78d75c265f&quot; style=&quot;width: 100.0%; height: 100.0%;&quot;&gt;Fail Orders: 58&lt;/div&gt;`)[0];\n",
       "                popup_883616a60f73f8246f89b3c89e295f40.setContent(html_d2060f422f65ded344780b78d75c265f);\n",
       "            \n",
       "        \n",
       "\n",
       "        poly_line_e48cf15fee47d3eac1b2a8fd20376294.bindPopup(popup_883616a60f73f8246f89b3c89e295f40)\n",
       "        ;\n",
       "\n",
       "        \n",
       "    \n",
       "    \n",
       "            var poly_line_7fc3c61a126c15fae9b750acf298e7c8 = L.polyline(\n",
       "                [[51.4330474681164, -0.917353823518131], [51.4318013251627, -0.9240813372813469], [51.42730002898243, -0.9252493669561035], [51.424045137294776, -0.9196906852087792], [51.425291309983784, -0.9129642303046451], [51.42979234460876, -0.9117953983982504]],\n",
       "                {&quot;bubblingMouseEvents&quot;: true, &quot;color&quot;: &quot;Orange&quot;, &quot;dashArray&quot;: null, &quot;dashOffset&quot;: null, &quot;fill&quot;: true, &quot;fillColor&quot;: &quot;Orange&quot;, &quot;fillOpacity&quot;: 0.4, &quot;fillRule&quot;: &quot;evenodd&quot;, &quot;lineCap&quot;: &quot;round&quot;, &quot;lineJoin&quot;: &quot;round&quot;, &quot;noClip&quot;: false, &quot;opacity&quot;: 1, &quot;smoothFactor&quot;: 1.0, &quot;stroke&quot;: true, &quot;weight&quot;: 1}\n",
       "            ).addTo(map_42bc33039f62dc425db42b7ba118e17e);\n",
       "        \n",
       "    \n",
       "        var popup_976591e37bbd2549caa9a569c0bda41f = L.popup({&quot;maxWidth&quot;: 300});\n",
       "\n",
       "        \n",
       "            \n",
       "                var html_e1013588c9fff97e793ecf4235016ca1 = $(`&lt;div id=&quot;html_e1013588c9fff97e793ecf4235016ca1&quot; style=&quot;width: 100.0%; height: 100.0%;&quot;&gt;Fail Orders: 57&lt;/div&gt;`)[0];\n",
       "                popup_976591e37bbd2549caa9a569c0bda41f.setContent(html_e1013588c9fff97e793ecf4235016ca1);\n",
       "            \n",
       "        \n",
       "\n",
       "        poly_line_7fc3c61a126c15fae9b750acf298e7c8.bindPopup(popup_976591e37bbd2549caa9a569c0bda41f)\n",
       "        ;\n",
       "\n",
       "        \n",
       "    \n",
       "    \n",
       "            var poly_line_1ebdcc3cf286fced80ad3c3d78a044d9 = L.polyline(\n",
       "                [[51.43157349283949, -0.9946005080150928], [51.4303224691795, -1.0013304898078186], [51.425818895182694, -1.0024931844598968], [51.42256660578232, -0.9969267017852713], [51.42381765805615, -0.9901977782322906], [51.428320971100014, -0.9890342792234931]],\n",
       "                {&quot;bubblingMouseEvents&quot;: true, &quot;color&quot;: &quot;Orange&quot;, &quot;dashArray&quot;: null, &quot;dashOffset&quot;: null, &quot;fill&quot;: true, &quot;fillColor&quot;: &quot;Orange&quot;, &quot;fillOpacity&quot;: 0.4, &quot;fillRule&quot;: &quot;evenodd&quot;, &quot;lineCap&quot;: &quot;round&quot;, &quot;lineJoin&quot;: &quot;round&quot;, &quot;noClip&quot;: false, &quot;opacity&quot;: 1, &quot;smoothFactor&quot;: 1.0, &quot;stroke&quot;: true, &quot;weight&quot;: 1}\n",
       "            ).addTo(map_42bc33039f62dc425db42b7ba118e17e);\n",
       "        \n",
       "    \n",
       "        var popup_be15d49580f92d76da0fb198ce436338 = L.popup({&quot;maxWidth&quot;: 300});\n",
       "\n",
       "        \n",
       "            \n",
       "                var html_1a9d69594c61ac48e123ef15e3f5c263 = $(`&lt;div id=&quot;html_1a9d69594c61ac48e123ef15e3f5c263&quot; style=&quot;width: 100.0%; height: 100.0%;&quot;&gt;Fail Orders: 53&lt;/div&gt;`)[0];\n",
       "                popup_be15d49580f92d76da0fb198ce436338.setContent(html_1a9d69594c61ac48e123ef15e3f5c263);\n",
       "            \n",
       "        \n",
       "\n",
       "        poly_line_1ebdcc3cf286fced80ad3c3d78a044d9.bindPopup(popup_be15d49580f92d76da0fb198ce436338)\n",
       "        ;\n",
       "\n",
       "        \n",
       "    \n",
       "    \n",
       "            var poly_line_307a2de3abc9d06686b8020f7a53d5ca = L.polyline(\n",
       "                [[51.451084245024575, -1.0280165181270848], [51.449831897929215, -1.034749922782627], [51.445328252627505, -1.0359107143309507], [51.44207721498358, -1.030338907172437], [51.443329590117216, -1.0236065612275815], [51.447832974839926, -1.0224449638398974]],\n",
       "                {&quot;bubblingMouseEvents&quot;: true, &quot;color&quot;: &quot;Orange&quot;, &quot;dashArray&quot;: null, &quot;dashOffset&quot;: null, &quot;fill&quot;: true, &quot;fillColor&quot;: &quot;Orange&quot;, &quot;fillOpacity&quot;: 0.4, &quot;fillRule&quot;: &quot;evenodd&quot;, &quot;lineCap&quot;: &quot;round&quot;, &quot;lineJoin&quot;: &quot;round&quot;, &quot;noClip&quot;: false, &quot;opacity&quot;: 1, &quot;smoothFactor&quot;: 1.0, &quot;stroke&quot;: true, &quot;weight&quot;: 1}\n",
       "            ).addTo(map_42bc33039f62dc425db42b7ba118e17e);\n",
       "        \n",
       "    \n",
       "        var popup_ccd4acf42786157ae630a23f73f61fca = L.popup({&quot;maxWidth&quot;: 300});\n",
       "\n",
       "        \n",
       "            \n",
       "                var html_f349ba4f0e62467b2bc9c99c1cb600a7 = $(`&lt;div id=&quot;html_f349ba4f0e62467b2bc9c99c1cb600a7&quot; style=&quot;width: 100.0%; height: 100.0%;&quot;&gt;Fail Orders: 52&lt;/div&gt;`)[0];\n",
       "                popup_ccd4acf42786157ae630a23f73f61fca.setContent(html_f349ba4f0e62467b2bc9c99c1cb600a7);\n",
       "            \n",
       "        \n",
       "\n",
       "        poly_line_307a2de3abc9d06686b8020f7a53d5ca.bindPopup(popup_ccd4acf42786157ae630a23f73f61fca)\n",
       "        ;\n",
       "\n",
       "        \n",
       "    \n",
       "    \n",
       "            var poly_line_6867b64950bb122c8af25fdbe68a144d = L.polyline(\n",
       "                [[51.487328807222795, -0.94811869725764], [51.486082869644186, -0.9548536301530913], [51.481583149120745, -0.9560206501672621], [51.47832962716871, -0.9504535420108151], [51.4795755937892, -0.9437196697544302], [51.48407505330337, -0.9425518451251487]],\n",
       "                {&quot;bubblingMouseEvents&quot;: true, &quot;color&quot;: &quot;Orange&quot;, &quot;dashArray&quot;: null, &quot;dashOffset&quot;: null, &quot;fill&quot;: true, &quot;fillColor&quot;: &quot;Orange&quot;, &quot;fillOpacity&quot;: 0.4, &quot;fillRule&quot;: &quot;evenodd&quot;, &quot;lineCap&quot;: &quot;round&quot;, &quot;lineJoin&quot;: &quot;round&quot;, &quot;noClip&quot;: false, &quot;opacity&quot;: 1, &quot;smoothFactor&quot;: 1.0, &quot;stroke&quot;: true, &quot;weight&quot;: 1}\n",
       "            ).addTo(map_42bc33039f62dc425db42b7ba118e17e);\n",
       "        \n",
       "    \n",
       "        var popup_4ed4087df3029222afa8f4bf0d56ff67 = L.popup({&quot;maxWidth&quot;: 300});\n",
       "\n",
       "        \n",
       "            \n",
       "                var html_919210b481f105ac1503ef4a2e311dcd = $(`&lt;div id=&quot;html_919210b481f105ac1503ef4a2e311dcd&quot; style=&quot;width: 100.0%; height: 100.0%;&quot;&gt;Fail Orders: 50&lt;/div&gt;`)[0];\n",
       "                popup_4ed4087df3029222afa8f4bf0d56ff67.setContent(html_919210b481f105ac1503ef4a2e311dcd);\n",
       "            \n",
       "        \n",
       "\n",
       "        poly_line_6867b64950bb122c8af25fdbe68a144d.bindPopup(popup_4ed4087df3029222afa8f4bf0d56ff67)\n",
       "        ;\n",
       "\n",
       "        \n",
       "    \n",
       "    \n",
       "            var poly_line_9aed13f68b594eeaf444940c5f8ed739 = L.polyline(\n",
       "                [[51.44307907621147, -0.978811963859217], [51.44182948889518, -0.9855427552849925], [51.43732688656207, -0.9867067677866462], [51.434074132542555, -0.9811407932083569], [51.43532374865167, -0.9744110605626837], [51.439826089970985, -0.9732462438246055]],\n",
       "                {&quot;bubblingMouseEvents&quot;: true, &quot;color&quot;: &quot;Orange&quot;, &quot;dashArray&quot;: null, &quot;dashOffset&quot;: null, &quot;fill&quot;: true, &quot;fillColor&quot;: &quot;Orange&quot;, &quot;fillOpacity&quot;: 0.4, &quot;fillRule&quot;: &quot;evenodd&quot;, &quot;lineCap&quot;: &quot;round&quot;, &quot;lineJoin&quot;: &quot;round&quot;, &quot;noClip&quot;: false, &quot;opacity&quot;: 1, &quot;smoothFactor&quot;: 1.0, &quot;stroke&quot;: true, &quot;weight&quot;: 1}\n",
       "            ).addTo(map_42bc33039f62dc425db42b7ba118e17e);\n",
       "        \n",
       "    \n",
       "        var popup_8efd31145bfb22f08738f36e3952ee09 = L.popup({&quot;maxWidth&quot;: 300});\n",
       "\n",
       "        \n",
       "            \n",
       "                var html_95af1f5f99a42a3225b82dd1c6eb9907 = $(`&lt;div id=&quot;html_95af1f5f99a42a3225b82dd1c6eb9907&quot; style=&quot;width: 100.0%; height: 100.0%;&quot;&gt;Fail Orders: 50&lt;/div&gt;`)[0];\n",
       "                popup_8efd31145bfb22f08738f36e3952ee09.setContent(html_95af1f5f99a42a3225b82dd1c6eb9907);\n",
       "            \n",
       "        \n",
       "\n",
       "        poly_line_9aed13f68b594eeaf444940c5f8ed739.bindPopup(popup_8efd31145bfb22f08738f36e3952ee09)\n",
       "        ;\n",
       "\n",
       "        \n",
       "    \n",
       "    \n",
       "            var poly_line_09c68b901c565f26fa2d8355e3602717 = L.polyline(\n",
       "                [[51.481299937804934, -0.9112216702740125], [51.48005606794023, -0.9179546309740494], [51.47555713076936, -0.9191240636274798], [51.472302324780614, -0.9135613390995897], [51.47354622425319, -0.9068294390845814], [51.47804490009021, -0.9056592030222337]],\n",
       "                {&quot;bubblingMouseEvents&quot;: true, &quot;color&quot;: &quot;Orange&quot;, &quot;dashArray&quot;: null, &quot;dashOffset&quot;: null, &quot;fill&quot;: true, &quot;fillColor&quot;: &quot;Orange&quot;, &quot;fillOpacity&quot;: 0.4, &quot;fillRule&quot;: &quot;evenodd&quot;, &quot;lineCap&quot;: &quot;round&quot;, &quot;lineJoin&quot;: &quot;round&quot;, &quot;noClip&quot;: false, &quot;opacity&quot;: 1, &quot;smoothFactor&quot;: 1.0, &quot;stroke&quot;: true, &quot;weight&quot;: 1}\n",
       "            ).addTo(map_42bc33039f62dc425db42b7ba118e17e);\n",
       "        \n",
       "    \n",
       "        var popup_cc163c23b708bfe3b9f7e0be7cec5ee7 = L.popup({&quot;maxWidth&quot;: 300});\n",
       "\n",
       "        \n",
       "            \n",
       "                var html_2e831aa94a8d6316987ca38bdf2f1efe = $(`&lt;div id=&quot;html_2e831aa94a8d6316987ca38bdf2f1efe&quot; style=&quot;width: 100.0%; height: 100.0%;&quot;&gt;Fail Orders: 49&lt;/div&gt;`)[0];\n",
       "                popup_cc163c23b708bfe3b9f7e0be7cec5ee7.setContent(html_2e831aa94a8d6316987ca38bdf2f1efe);\n",
       "            \n",
       "        \n",
       "\n",
       "        poly_line_09c68b901c565f26fa2d8355e3602717.bindPopup(popup_cc163c23b708bfe3b9f7e0be7cec5ee7)\n",
       "        ;\n",
       "\n",
       "        \n",
       "    \n",
       "    \n",
       "            var poly_line_c61ad68006d84c3c2fffe89f64924f3a = L.polyline(\n",
       "                [[51.48933619493747, -0.960421943728338], [51.48808956764306, -0.9671575330334359], [51.48358958621871, -0.9683237480305151], [51.48033649297319, -0.9627551788492759], [51.481583149120745, -0.9560206501672621], [51.486082869644186, -0.9548536301530913]],\n",
       "                {&quot;bubblingMouseEvents&quot;: true, &quot;color&quot;: &quot;Orange&quot;, &quot;dashArray&quot;: null, &quot;dashOffset&quot;: null, &quot;fill&quot;: true, &quot;fillColor&quot;: &quot;Orange&quot;, &quot;fillOpacity&quot;: 0.4, &quot;fillRule&quot;: &quot;evenodd&quot;, &quot;lineCap&quot;: &quot;round&quot;, &quot;lineJoin&quot;: &quot;round&quot;, &quot;noClip&quot;: false, &quot;opacity&quot;: 1, &quot;smoothFactor&quot;: 1.0, &quot;stroke&quot;: true, &quot;weight&quot;: 1}\n",
       "            ).addTo(map_42bc33039f62dc425db42b7ba118e17e);\n",
       "        \n",
       "    \n",
       "        var popup_6ffcf52757410a28b01491a2f2bdf2a3 = L.popup({&quot;maxWidth&quot;: 300});\n",
       "\n",
       "        \n",
       "            \n",
       "                var html_36314e27420e60442c77035a2bef0524 = $(`&lt;div id=&quot;html_36314e27420e60442c77035a2bef0524&quot; style=&quot;width: 100.0%; height: 100.0%;&quot;&gt;Fail Orders: 48&lt;/div&gt;`)[0];\n",
       "                popup_6ffcf52757410a28b01491a2f2bdf2a3.setContent(html_36314e27420e60442c77035a2bef0524);\n",
       "            \n",
       "        \n",
       "\n",
       "        poly_line_c61ad68006d84c3c2fffe89f64924f3a.bindPopup(popup_6ffcf52757410a28b01491a2f2bdf2a3)\n",
       "        ;\n",
       "\n",
       "        \n",
       "    \n",
       "    \n",
       "            var poly_line_87c24af152b3278a2598d17afec25aa2 = L.polyline(\n",
       "                [[51.46834499593204, -1.0043275352529701], [51.46709480424576, -1.0110621585395365], [51.46259261681592, -1.012224928503937], [51.459340881726426, -1.0066538809513756], [51.46059110171932, -0.9999203171883535], [51.46509302847852, -0.9987567415638836]],\n",
       "                {&quot;bubblingMouseEvents&quot;: true, &quot;color&quot;: &quot;Orange&quot;, &quot;dashArray&quot;: null, &quot;dashOffset&quot;: null, &quot;fill&quot;: true, &quot;fillColor&quot;: &quot;Orange&quot;, &quot;fillOpacity&quot;: 0.4, &quot;fillRule&quot;: &quot;evenodd&quot;, &quot;lineCap&quot;: &quot;round&quot;, &quot;lineJoin&quot;: &quot;round&quot;, &quot;noClip&quot;: false, &quot;opacity&quot;: 1, &quot;smoothFactor&quot;: 1.0, &quot;stroke&quot;: true, &quot;weight&quot;: 1}\n",
       "            ).addTo(map_42bc33039f62dc425db42b7ba118e17e);\n",
       "        \n",
       "    \n",
       "        var popup_f359ca26dacd2c76d0ae4991fce5f140 = L.popup({&quot;maxWidth&quot;: 300});\n",
       "\n",
       "        \n",
       "            \n",
       "                var html_d9b80a7ae84057396346004b2554dd30 = $(`&lt;div id=&quot;html_d9b80a7ae84057396346004b2554dd30&quot; style=&quot;width: 100.0%; height: 100.0%;&quot;&gt;Fail Orders: 47&lt;/div&gt;`)[0];\n",
       "                popup_f359ca26dacd2c76d0ae4991fce5f140.setContent(html_d9b80a7ae84057396346004b2554dd30);\n",
       "            \n",
       "        \n",
       "\n",
       "        poly_line_87c24af152b3278a2598d17afec25aa2.bindPopup(popup_f359ca26dacd2c76d0ae4991fce5f140)\n",
       "        ;\n",
       "\n",
       "        \n",
       "    \n",
       "    \n",
       "            var poly_line_6ede5a4a6c75e4342c94750d49ed18c2 = L.polyline(\n",
       "                [[51.42355803996182, -0.945430954669842], [51.42230977266705, -0.9521583191394177], [51.41780724313314, -0.9533242288152574], [51.41455324226432, -0.9477635768853486], [51.41580153892686, -0.9410372707211392], [51.42030380707402, -0.9398705582908482]],\n",
       "                {&quot;bubblingMouseEvents&quot;: true, &quot;color&quot;: &quot;Orange&quot;, &quot;dashArray&quot;: null, &quot;dashOffset&quot;: null, &quot;fill&quot;: true, &quot;fillColor&quot;: &quot;Orange&quot;, &quot;fillOpacity&quot;: 0.4, &quot;fillRule&quot;: &quot;evenodd&quot;, &quot;lineCap&quot;: &quot;round&quot;, &quot;lineJoin&quot;: &quot;round&quot;, &quot;noClip&quot;: false, &quot;opacity&quot;: 1, &quot;smoothFactor&quot;: 1.0, &quot;stroke&quot;: true, &quot;weight&quot;: 1}\n",
       "            ).addTo(map_42bc33039f62dc425db42b7ba118e17e);\n",
       "        \n",
       "    \n",
       "        var popup_dfb09b74be0d2c47d33d95114fa79af6 = L.popup({&quot;maxWidth&quot;: 300});\n",
       "\n",
       "        \n",
       "            \n",
       "                var html_32e1dd8896dd2a102f68a3a069f5ccb4 = $(`&lt;div id=&quot;html_32e1dd8896dd2a102f68a3a069f5ccb4&quot; style=&quot;width: 100.0%; height: 100.0%;&quot;&gt;Fail Orders: 46&lt;/div&gt;`)[0];\n",
       "                popup_dfb09b74be0d2c47d33d95114fa79af6.setContent(html_32e1dd8896dd2a102f68a3a069f5ccb4);\n",
       "            \n",
       "        \n",
       "\n",
       "        poly_line_6ede5a4a6c75e4342c94750d49ed18c2.bindPopup(popup_dfb09b74be0d2c47d33d95114fa79af6)\n",
       "        ;\n",
       "\n",
       "        \n",
       "    \n",
       "    \n",
       "            var poly_line_813dfd17449b508e8fff602929f0a54d = L.polyline(\n",
       "                [[51.47609846740423, -1.0087361050652026], [51.47484830392525, -1.0154717881287554], [51.47034634205808, -1.0166344118104897], [51.46709480424576, -1.0110621585395365], [51.46834499593204, -1.0043275352529701], [51.47284669720677, -1.0031641055699279]],\n",
       "                {&quot;bubblingMouseEvents&quot;: true, &quot;color&quot;: &quot;Orange&quot;, &quot;dashArray&quot;: null, &quot;dashOffset&quot;: null, &quot;fill&quot;: true, &quot;fillColor&quot;: &quot;Orange&quot;, &quot;fillOpacity&quot;: 0.4, &quot;fillRule&quot;: &quot;evenodd&quot;, &quot;lineCap&quot;: &quot;round&quot;, &quot;lineJoin&quot;: &quot;round&quot;, &quot;noClip&quot;: false, &quot;opacity&quot;: 1, &quot;smoothFactor&quot;: 1.0, &quot;stroke&quot;: true, &quot;weight&quot;: 1}\n",
       "            ).addTo(map_42bc33039f62dc425db42b7ba118e17e);\n",
       "        \n",
       "    \n",
       "        var popup_437bcba3b7e8470092479454fc39b2f1 = L.popup({&quot;maxWidth&quot;: 300});\n",
       "\n",
       "        \n",
       "            \n",
       "                var html_b97b2d6cb21a0a122bfbd1caeeab0280 = $(`&lt;div id=&quot;html_b97b2d6cb21a0a122bfbd1caeeab0280&quot; style=&quot;width: 100.0%; height: 100.0%;&quot;&gt;Fail Orders: 44&lt;/div&gt;`)[0];\n",
       "                popup_437bcba3b7e8470092479454fc39b2f1.setContent(html_b97b2d6cb21a0a122bfbd1caeeab0280);\n",
       "            \n",
       "        \n",
       "\n",
       "        poly_line_813dfd17449b508e8fff602929f0a54d.bindPopup(popup_437bcba3b7e8470092479454fc39b2f1)\n",
       "        ;\n",
       "\n",
       "        \n",
       "    \n",
       "    \n",
       "            var poly_line_1e0118407d669324d219c136e754d02f = L.polyline(\n",
       "                [[51.43477135213058, -0.8848884837041994], [51.43352730313307, -0.891615084115466], [51.42902701636329, -0.8927853765351784], [51.42577104037597, -0.887229870020997], [51.427015119575145, -0.8805043287665374], [51.43151514454362, -0.8793332349790637]],\n",
       "                {&quot;bubblingMouseEvents&quot;: true, &quot;color&quot;: &quot;Orange&quot;, &quot;dashArray&quot;: null, &quot;dashOffset&quot;: null, &quot;fill&quot;: true, &quot;fillColor&quot;: &quot;Orange&quot;, &quot;fillOpacity&quot;: 0.4, &quot;fillRule&quot;: &quot;evenodd&quot;, &quot;lineCap&quot;: &quot;round&quot;, &quot;lineJoin&quot;: &quot;round&quot;, &quot;noClip&quot;: false, &quot;opacity&quot;: 1, &quot;smoothFactor&quot;: 1.0, &quot;stroke&quot;: true, &quot;weight&quot;: 1}\n",
       "            ).addTo(map_42bc33039f62dc425db42b7ba118e17e);\n",
       "        \n",
       "    \n",
       "        var popup_3f0d7e5184009f1501a12999c944c070 = L.popup({&quot;maxWidth&quot;: 300});\n",
       "\n",
       "        \n",
       "            \n",
       "                var html_a7c665ac41b3c7b9d93132a9ec15870f = $(`&lt;div id=&quot;html_a7c665ac41b3c7b9d93132a9ec15870f&quot; style=&quot;width: 100.0%; height: 100.0%;&quot;&gt;Fail Orders: 44&lt;/div&gt;`)[0];\n",
       "                popup_3f0d7e5184009f1501a12999c944c070.setContent(html_a7c665ac41b3c7b9d93132a9ec15870f);\n",
       "            \n",
       "        \n",
       "\n",
       "        poly_line_1e0118407d669324d219c136e754d02f.bindPopup(popup_3f0d7e5184009f1501a12999c944c070)\n",
       "        ;\n",
       "\n",
       "        \n",
       "    \n",
       "    \n",
       "            var poly_line_f885a1a2925e5e43af7d0a9701c15d0f = L.polyline(\n",
       "                [[51.45883847733337, -1.0324278270597], [51.45758615817701, -1.0391622906789102], [51.453082738232865, -1.040322935395429], [51.449831897929215, -1.034749922782627], [51.451084245024575, -1.0280165181270848], [51.45558740446801, -1.0268550672300594]],\n",
       "                {&quot;bubblingMouseEvents&quot;: true, &quot;color&quot;: &quot;Orange&quot;, &quot;dashArray&quot;: null, &quot;dashOffset&quot;: null, &quot;fill&quot;: true, &quot;fillColor&quot;: &quot;Orange&quot;, &quot;fillOpacity&quot;: 0.4, &quot;fillRule&quot;: &quot;evenodd&quot;, &quot;lineCap&quot;: &quot;round&quot;, &quot;lineJoin&quot;: &quot;round&quot;, &quot;noClip&quot;: false, &quot;opacity&quot;: 1, &quot;smoothFactor&quot;: 1.0, &quot;stroke&quot;: true, &quot;weight&quot;: 1}\n",
       "            ).addTo(map_42bc33039f62dc425db42b7ba118e17e);\n",
       "        \n",
       "    \n",
       "        var popup_7ad820fbb55a262a4f6477f3024794ee = L.popup({&quot;maxWidth&quot;: 300});\n",
       "\n",
       "        \n",
       "            \n",
       "                var html_82543a9ee0277d29ff85d90fed62735b = $(`&lt;div id=&quot;html_82543a9ee0277d29ff85d90fed62735b&quot; style=&quot;width: 100.0%; height: 100.0%;&quot;&gt;Fail Orders: 42&lt;/div&gt;`)[0];\n",
       "                popup_7ad820fbb55a262a4f6477f3024794ee.setContent(html_82543a9ee0277d29ff85d90fed62735b);\n",
       "            \n",
       "        \n",
       "\n",
       "        poly_line_f885a1a2925e5e43af7d0a9701c15d0f.bindPopup(popup_7ad820fbb55a262a4f6477f3024794ee)\n",
       "        ;\n",
       "\n",
       "        \n",
       "    \n",
       "    \n",
       "            var poly_line_f1789710dee3fab7e8c34b91b8c05a63 = L.polyline(\n",
       "                [[51.47034634205808, -1.0166344118104897], [51.469095459979904, -1.0233696886001498], [51.464593011988136, -1.0245316525033845], [51.46134170661987, -1.018959145787654], [51.46259261681592, -1.012224928503937], [51.46709480424576, -1.0110621585395365]],\n",
       "                {&quot;bubblingMouseEvents&quot;: true, &quot;color&quot;: &quot;Orange&quot;, &quot;dashArray&quot;: null, &quot;dashOffset&quot;: null, &quot;fill&quot;: true, &quot;fillColor&quot;: &quot;Orange&quot;, &quot;fillOpacity&quot;: 0.4, &quot;fillRule&quot;: &quot;evenodd&quot;, &quot;lineCap&quot;: &quot;round&quot;, &quot;lineJoin&quot;: &quot;round&quot;, &quot;noClip&quot;: false, &quot;opacity&quot;: 1, &quot;smoothFactor&quot;: 1.0, &quot;stroke&quot;: true, &quot;weight&quot;: 1}\n",
       "            ).addTo(map_42bc33039f62dc425db42b7ba118e17e);\n",
       "        \n",
       "    \n",
       "        var popup_bf6c5928b6dd15f3b9a33864c62d186d = L.popup({&quot;maxWidth&quot;: 300});\n",
       "\n",
       "        \n",
       "            \n",
       "                var html_b4d19696c63b808ccc9c23f65916cddb = $(`&lt;div id=&quot;html_b4d19696c63b808ccc9c23f65916cddb&quot; style=&quot;width: 100.0%; height: 100.0%;&quot;&gt;Fail Orders: 42&lt;/div&gt;`)[0];\n",
       "                popup_bf6c5928b6dd15f3b9a33864c62d186d.setContent(html_b4d19696c63b808ccc9c23f65916cddb);\n",
       "            \n",
       "        \n",
       "\n",
       "        poly_line_f1789710dee3fab7e8c34b91b8c05a63.bindPopup(popup_bf6c5928b6dd15f3b9a33864c62d186d)\n",
       "        ;\n",
       "\n",
       "        \n",
       "    \n",
       "    \n",
       "            var poly_line_5ea1b988bed05059b2ea885d9c8694c4 = L.polyline(\n",
       "                [[51.460836800894334, -1.0447365091572272], [51.459583791009365, -1.0514716248254892], [51.455080110673464, -1.0526314629607738], [51.45182970059766, -1.0470569921184034], [51.453082738232865, -1.040322935395429], [51.45758615817701, -1.0391622906789102]],\n",
       "                {&quot;bubblingMouseEvents&quot;: true, &quot;color&quot;: &quot;Orange&quot;, &quot;dashArray&quot;: null, &quot;dashOffset&quot;: null, &quot;fill&quot;: true, &quot;fillColor&quot;: &quot;Orange&quot;, &quot;fillOpacity&quot;: 0.4, &quot;fillRule&quot;: &quot;evenodd&quot;, &quot;lineCap&quot;: &quot;round&quot;, &quot;lineJoin&quot;: &quot;round&quot;, &quot;noClip&quot;: false, &quot;opacity&quot;: 1, &quot;smoothFactor&quot;: 1.0, &quot;stroke&quot;: true, &quot;weight&quot;: 1}\n",
       "            ).addTo(map_42bc33039f62dc425db42b7ba118e17e);\n",
       "        \n",
       "    \n",
       "        var popup_054b6e06d094299b0c241decefcf78c2 = L.popup({&quot;maxWidth&quot;: 300});\n",
       "\n",
       "        \n",
       "            \n",
       "                var html_5b30262a4f57ff28a43f8dee3c32cbee = $(`&lt;div id=&quot;html_5b30262a4f57ff28a43f8dee3c32cbee&quot; style=&quot;width: 100.0%; height: 100.0%;&quot;&gt;Fail Orders: 41&lt;/div&gt;`)[0];\n",
       "                popup_054b6e06d094299b0c241decefcf78c2.setContent(html_5b30262a4f57ff28a43f8dee3c32cbee);\n",
       "            \n",
       "        \n",
       "\n",
       "        poly_line_5ea1b988bed05059b2ea885d9c8694c4.bindPopup(popup_054b6e06d094299b0c241decefcf78c2)\n",
       "        ;\n",
       "\n",
       "        \n",
       "    \n",
       "    \n",
       "            var poly_line_a223a24045fdc2705d877021cd83b7d9 = L.polyline(\n",
       "                [[51.44453873390593, -0.9015595539614184], [51.443294026955044, -0.9082878717500003], [51.4387937031369, -0.9094572191578383], [51.435538347868714, -0.9038990509956638], [51.43678308473402, -0.8971717926041514], [51.44128314693669, -0.8960016430873396]],\n",
       "                {&quot;bubblingMouseEvents&quot;: true, &quot;color&quot;: &quot;Orange&quot;, &quot;dashArray&quot;: null, &quot;dashOffset&quot;: null, &quot;fill&quot;: true, &quot;fillColor&quot;: &quot;Orange&quot;, &quot;fillOpacity&quot;: 0.4, &quot;fillRule&quot;: &quot;evenodd&quot;, &quot;lineCap&quot;: &quot;round&quot;, &quot;lineJoin&quot;: &quot;round&quot;, &quot;noClip&quot;: false, &quot;opacity&quot;: 1, &quot;smoothFactor&quot;: 1.0, &quot;stroke&quot;: true, &quot;weight&quot;: 1}\n",
       "            ).addTo(map_42bc33039f62dc425db42b7ba118e17e);\n",
       "        \n",
       "    \n",
       "        var popup_d6afe72468826776106e6ce689494fdf = L.popup({&quot;maxWidth&quot;: 300});\n",
       "\n",
       "        \n",
       "            \n",
       "                var html_d4231bfdd26f6e568cc2bd9458b9427b = $(`&lt;div id=&quot;html_d4231bfdd26f6e568cc2bd9458b9427b&quot; style=&quot;width: 100.0%; height: 100.0%;&quot;&gt;Fail Orders: 40&lt;/div&gt;`)[0];\n",
       "                popup_d6afe72468826776106e6ce689494fdf.setContent(html_d4231bfdd26f6e568cc2bd9458b9427b);\n",
       "            \n",
       "        \n",
       "\n",
       "        poly_line_a223a24045fdc2705d877021cd83b7d9.bindPopup(popup_d6afe72468826776106e6ce689494fdf)\n",
       "        ;\n",
       "\n",
       "        \n",
       "    \n",
       "    \n",
       "            var poly_line_b590b3df8d76fd6e92a96aaf81a11c92 = L.polyline(\n",
       "                [[51.445328252627505, -1.0359107143309507], [51.44407518714276, -1.042643712361457], [51.43957105608184, -1.0438038446844844], [51.43632025103747, -1.0382317849851486], [51.43757334447103, -1.0314998453943076], [51.44207721498358, -1.030338907172437]],\n",
       "                {&quot;bubblingMouseEvents&quot;: true, &quot;color&quot;: &quot;Orange&quot;, &quot;dashArray&quot;: null, &quot;dashOffset&quot;: null, &quot;fill&quot;: true, &quot;fillColor&quot;: &quot;Orange&quot;, &quot;fillOpacity&quot;: 0.4, &quot;fillRule&quot;: &quot;evenodd&quot;, &quot;lineCap&quot;: &quot;round&quot;, &quot;lineJoin&quot;: &quot;round&quot;, &quot;noClip&quot;: false, &quot;opacity&quot;: 1, &quot;smoothFactor&quot;: 1.0, &quot;stroke&quot;: true, &quot;weight&quot;: 1}\n",
       "            ).addTo(map_42bc33039f62dc425db42b7ba118e17e);\n",
       "        \n",
       "    \n",
       "        var popup_cd3c8b80cfa917d16e4ca15fc8975109 = L.popup({&quot;maxWidth&quot;: 300});\n",
       "\n",
       "        \n",
       "            \n",
       "                var html_c820d548f689c88c47814736c3cbc508 = $(`&lt;div id=&quot;html_c820d548f689c88c47814736c3cbc508&quot; style=&quot;width: 100.0%; height: 100.0%;&quot;&gt;Fail Orders: 38&lt;/div&gt;`)[0];\n",
       "                popup_cd3c8b80cfa917d16e4ca15fc8975109.setContent(html_c820d548f689c88c47814736c3cbc508);\n",
       "            \n",
       "        \n",
       "\n",
       "        poly_line_b590b3df8d76fd6e92a96aaf81a11c92.bindPopup(popup_cd3c8b80cfa917d16e4ca15fc8975109)\n",
       "        ;\n",
       "\n",
       "        \n",
       "    \n",
       "    \n",
       "            var poly_line_b1f7debe0451f05a3964134cfc90b50b = L.polyline(\n",
       "                [[51.4795755937892, -0.9437196697544302], [51.47832962716871, -0.9504535420108151], [51.473829681112164, -0.9516207067338788], [51.470575962746985, -0.9460548035843688], [51.47182195850858, -0.9393219917126664], [51.47632164347779, -0.938154022715492]],\n",
       "                {&quot;bubblingMouseEvents&quot;: true, &quot;color&quot;: &quot;Orange&quot;, &quot;dashArray&quot;: null, &quot;dashOffset&quot;: null, &quot;fill&quot;: true, &quot;fillColor&quot;: &quot;Orange&quot;, &quot;fillOpacity&quot;: 0.4, &quot;fillRule&quot;: &quot;evenodd&quot;, &quot;lineCap&quot;: &quot;round&quot;, &quot;lineJoin&quot;: &quot;round&quot;, &quot;noClip&quot;: false, &quot;opacity&quot;: 1, &quot;smoothFactor&quot;: 1.0, &quot;stroke&quot;: true, &quot;weight&quot;: 1}\n",
       "            ).addTo(map_42bc33039f62dc425db42b7ba118e17e);\n",
       "        \n",
       "    \n",
       "        var popup_07511da85a2e071d5b86f828cd2c8f93 = L.popup({&quot;maxWidth&quot;: 300});\n",
       "\n",
       "        \n",
       "            \n",
       "                var html_86898c3d05a3754fdea75589a6a9f8c4 = $(`&lt;div id=&quot;html_86898c3d05a3754fdea75589a6a9f8c4&quot; style=&quot;width: 100.0%; height: 100.0%;&quot;&gt;Fail Orders: 36&lt;/div&gt;`)[0];\n",
       "                popup_07511da85a2e071d5b86f828cd2c8f93.setContent(html_86898c3d05a3754fdea75589a6a9f8c4);\n",
       "            \n",
       "        \n",
       "\n",
       "        poly_line_b1f7debe0451f05a3964134cfc90b50b.bindPopup(popup_07511da85a2e071d5b86f828cd2c8f93)\n",
       "        ;\n",
       "\n",
       "        \n",
       "    \n",
       "    \n",
       "            var poly_line_930d0a41ec98eeddb2bf90c2a3449e39 = L.polyline(\n",
       "                [[51.40630203846015, -0.9691075918680558], [51.405051617544736, -0.975833746060665], [51.40054763089358, -0.9769976806051393], [51.39729432643723, -0.9714362640022443], [51.39854477645178, -0.9647111673067683], [51.40304850180706, -0.9635464298262776]],\n",
       "                {&quot;bubblingMouseEvents&quot;: true, &quot;color&quot;: &quot;Orange&quot;, &quot;dashArray&quot;: null, &quot;dashOffset&quot;: null, &quot;fill&quot;: true, &quot;fillColor&quot;: &quot;Orange&quot;, &quot;fillOpacity&quot;: 0.4, &quot;fillRule&quot;: &quot;evenodd&quot;, &quot;lineCap&quot;: &quot;round&quot;, &quot;lineJoin&quot;: &quot;round&quot;, &quot;noClip&quot;: false, &quot;opacity&quot;: 1, &quot;smoothFactor&quot;: 1.0, &quot;stroke&quot;: true, &quot;weight&quot;: 1}\n",
       "            ).addTo(map_42bc33039f62dc425db42b7ba118e17e);\n",
       "        \n",
       "    \n",
       "        var popup_b81d803469f528ed6bf077483426ac0a = L.popup({&quot;maxWidth&quot;: 300});\n",
       "\n",
       "        \n",
       "            \n",
       "                var html_6fb4d0fdabe64737bd6dfad970af63fb = $(`&lt;div id=&quot;html_6fb4d0fdabe64737bd6dfad970af63fb&quot; style=&quot;width: 100.0%; height: 100.0%;&quot;&gt;Fail Orders: 35&lt;/div&gt;`)[0];\n",
       "                popup_b81d803469f528ed6bf077483426ac0a.setContent(html_6fb4d0fdabe64737bd6dfad970af63fb);\n",
       "            \n",
       "        \n",
       "\n",
       "        poly_line_930d0a41ec98eeddb2bf90c2a3449e39.bindPopup(popup_b81d803469f528ed6bf077483426ac0a)\n",
       "        ;\n",
       "\n",
       "        \n",
       "    \n",
       "    \n",
       "            var poly_line_9314ad0abe52d820496961cacef3cd4e = L.polyline(\n",
       "                [[51.44252716583136, -0.8892739832646752], [51.44128314693669, -0.8960016430873396], [51.43678308473402, -0.8971717926041514], [51.43352730313307, -0.891615084115466], [51.43477135213058, -0.8848884837041994], [51.43927115260983, -0.8837175324798667]],\n",
       "                {&quot;bubblingMouseEvents&quot;: true, &quot;color&quot;: &quot;Orange&quot;, &quot;dashArray&quot;: null, &quot;dashOffset&quot;: null, &quot;fill&quot;: true, &quot;fillColor&quot;: &quot;Orange&quot;, &quot;fillOpacity&quot;: 0.4, &quot;fillRule&quot;: &quot;evenodd&quot;, &quot;lineCap&quot;: &quot;round&quot;, &quot;lineJoin&quot;: &quot;round&quot;, &quot;noClip&quot;: false, &quot;opacity&quot;: 1, &quot;smoothFactor&quot;: 1.0, &quot;stroke&quot;: true, &quot;weight&quot;: 1}\n",
       "            ).addTo(map_42bc33039f62dc425db42b7ba118e17e);\n",
       "        \n",
       "    \n",
       "        var popup_42d2c5502f28ac2b17504ecbfad22826 = L.popup({&quot;maxWidth&quot;: 300});\n",
       "\n",
       "        \n",
       "            \n",
       "                var html_6bc939d75523b20ac67147dcd4aa48bf = $(`&lt;div id=&quot;html_6bc939d75523b20ac67147dcd4aa48bf&quot; style=&quot;width: 100.0%; height: 100.0%;&quot;&gt;Fail Orders: 32&lt;/div&gt;`)[0];\n",
       "                popup_42d2c5502f28ac2b17504ecbfad22826.setContent(html_6bc939d75523b20ac67147dcd4aa48bf);\n",
       "            \n",
       "        \n",
       "\n",
       "        poly_line_9314ad0abe52d820496961cacef3cd4e.bindPopup(popup_42d2c5502f28ac2b17504ecbfad22826)\n",
       "        ;\n",
       "\n",
       "        \n",
       "    \n",
       "    \n",
       "            var poly_line_c83af265fd25c8cce17c9d7413a8d0a1 = L.polyline(\n",
       "                [[51.481583149120745, -0.9560206501672621], [51.48033649297319, -0.9627551788492759], [51.47583628593767, -0.9639215388963942], [51.4725829960122, -0.9583541750471255], [51.473829681112164, -0.9516207067338788], [51.47832962716871, -0.9504535420108151]],\n",
       "                {&quot;bubblingMouseEvents&quot;: true, &quot;color&quot;: &quot;Orange&quot;, &quot;dashArray&quot;: null, &quot;dashOffset&quot;: null, &quot;fill&quot;: true, &quot;fillColor&quot;: &quot;Orange&quot;, &quot;fillOpacity&quot;: 0.4, &quot;fillRule&quot;: &quot;evenodd&quot;, &quot;lineCap&quot;: &quot;round&quot;, &quot;lineJoin&quot;: &quot;round&quot;, &quot;noClip&quot;: false, &quot;opacity&quot;: 1, &quot;smoothFactor&quot;: 1.0, &quot;stroke&quot;: true, &quot;weight&quot;: 1}\n",
       "            ).addTo(map_42bc33039f62dc425db42b7ba118e17e);\n",
       "        \n",
       "    \n",
       "        var popup_fd834002985f181f63948176dd455099 = L.popup({&quot;maxWidth&quot;: 300});\n",
       "\n",
       "        \n",
       "            \n",
       "                var html_26bf1a34ee6e5fa2b9c72d1d305f75fa = $(`&lt;div id=&quot;html_26bf1a34ee6e5fa2b9c72d1d305f75fa&quot; style=&quot;width: 100.0%; height: 100.0%;&quot;&gt;Fail Orders: 31&lt;/div&gt;`)[0];\n",
       "                popup_fd834002985f181f63948176dd455099.setContent(html_26bf1a34ee6e5fa2b9c72d1d305f75fa);\n",
       "            \n",
       "        \n",
       "\n",
       "        poly_line_c83af265fd25c8cce17c9d7413a8d0a1.bindPopup(popup_fd834002985f181f63948176dd455099)\n",
       "        ;\n",
       "\n",
       "        \n",
       "    \n",
       "    \n",
       "            var poly_line_cd04adc896f7c25faa8ee6eb57e5b5ef = L.polyline(\n",
       "                [[51.46981311871276, -0.9270253944192896], [51.46856781205072, -0.9337575493554439], [51.46406790177281, -0.9349256625632676], [51.46081355941403, -0.9293624244761365], [51.46205889550498, -0.922631329685646], [51.46655854450935, -0.9214624129463265]],\n",
       "                {&quot;bubblingMouseEvents&quot;: true, &quot;color&quot;: &quot;Orange&quot;, &quot;dashArray&quot;: null, &quot;dashOffset&quot;: null, &quot;fill&quot;: true, &quot;fillColor&quot;: &quot;Orange&quot;, &quot;fillOpacity&quot;: 0.4, &quot;fillRule&quot;: &quot;evenodd&quot;, &quot;lineCap&quot;: &quot;round&quot;, &quot;lineJoin&quot;: &quot;round&quot;, &quot;noClip&quot;: false, &quot;opacity&quot;: 1, &quot;smoothFactor&quot;: 1.0, &quot;stroke&quot;: true, &quot;weight&quot;: 1}\n",
       "            ).addTo(map_42bc33039f62dc425db42b7ba118e17e);\n",
       "        \n",
       "    \n",
       "        var popup_0bded9231c9962aa522877060d0b4f66 = L.popup({&quot;maxWidth&quot;: 300});\n",
       "\n",
       "        \n",
       "            \n",
       "                var html_4a0e02461d93772a3b6727fb1e5a40c3 = $(`&lt;div id=&quot;html_4a0e02461d93772a3b6727fb1e5a40c3&quot; style=&quot;width: 100.0%; height: 100.0%;&quot;&gt;Fail Orders: 29&lt;/div&gt;`)[0];\n",
       "                popup_0bded9231c9962aa522877060d0b4f66.setContent(html_4a0e02461d93772a3b6727fb1e5a40c3);\n",
       "            \n",
       "        \n",
       "\n",
       "        poly_line_cd04adc896f7c25faa8ee6eb57e5b5ef.bindPopup(popup_0bded9231c9962aa522877060d0b4f66)\n",
       "        ;\n",
       "\n",
       "        \n",
       "    \n",
       "    \n",
       "            var poly_line_6f3078253dc8c957344d5f55099fe4bf = L.polyline(\n",
       "                [[51.4350560219104, -0.9296412215680129], [51.43380919056114, -0.9363693918501719], [51.42930763293372, -0.9375366188922224], [51.4260531680863, -0.9319764783942915], [51.42730002898243, -0.9252493669561035], [51.4318013251627, -0.9240813372813469]],\n",
       "                {&quot;bubblingMouseEvents&quot;: true, &quot;color&quot;: &quot;Orange&quot;, &quot;dashArray&quot;: null, &quot;dashOffset&quot;: null, &quot;fill&quot;: true, &quot;fillColor&quot;: &quot;Orange&quot;, &quot;fillOpacity&quot;: 0.4, &quot;fillRule&quot;: &quot;evenodd&quot;, &quot;lineCap&quot;: &quot;round&quot;, &quot;lineJoin&quot;: &quot;round&quot;, &quot;noClip&quot;: false, &quot;opacity&quot;: 1, &quot;smoothFactor&quot;: 1.0, &quot;stroke&quot;: true, &quot;weight&quot;: 1}\n",
       "            ).addTo(map_42bc33039f62dc425db42b7ba118e17e);\n",
       "        \n",
       "    \n",
       "        var popup_4727cde41d0d2903488d9e643e8f5b52 = L.popup({&quot;maxWidth&quot;: 300});\n",
       "\n",
       "        \n",
       "            \n",
       "                var html_afe22ec0cf3e238f2f791da4bd4082b9 = $(`&lt;div id=&quot;html_afe22ec0cf3e238f2f791da4bd4082b9&quot; style=&quot;width: 100.0%; height: 100.0%;&quot;&gt;Fail Orders: 24&lt;/div&gt;`)[0];\n",
       "                popup_4727cde41d0d2903488d9e643e8f5b52.setContent(html_afe22ec0cf3e238f2f791da4bd4082b9);\n",
       "            \n",
       "        \n",
       "\n",
       "        poly_line_6f3078253dc8c957344d5f55099fe4bf.bindPopup(popup_4727cde41d0d2903488d9e643e8f5b52)\n",
       "        ;\n",
       "\n",
       "        \n",
       "    \n",
       "    \n",
       "            var poly_line_6d553ea1a1a485e6cfd79c5a6aad3a3a = L.polyline(\n",
       "                [[51.45229396348721, -0.9059486611744668], [51.45104928635185, -0.9126780386146259], [51.44654918732517, -0.9138472426230629], [51.443294026955044, -0.9082878717500003], [51.44453873390593, -0.9015595539614184], [51.44903857139503, -0.9003895475039334]],\n",
       "                {&quot;bubblingMouseEvents&quot;: true, &quot;color&quot;: &quot;Orange&quot;, &quot;dashArray&quot;: null, &quot;dashOffset&quot;: null, &quot;fill&quot;: true, &quot;fillColor&quot;: &quot;Orange&quot;, &quot;fillOpacity&quot;: 0.4, &quot;fillRule&quot;: &quot;evenodd&quot;, &quot;lineCap&quot;: &quot;round&quot;, &quot;lineJoin&quot;: &quot;round&quot;, &quot;noClip&quot;: false, &quot;opacity&quot;: 1, &quot;smoothFactor&quot;: 1.0, &quot;stroke&quot;: true, &quot;weight&quot;: 1}\n",
       "            ).addTo(map_42bc33039f62dc425db42b7ba118e17e);\n",
       "        \n",
       "    \n",
       "        var popup_04985e65dcfd67800ae01506ac947e66 = L.popup({&quot;maxWidth&quot;: 300});\n",
       "\n",
       "        \n",
       "            \n",
       "                var html_c399413b5a95e860eaf92d61b81f332e = $(`&lt;div id=&quot;html_c399413b5a95e860eaf92d61b81f332e&quot; style=&quot;width: 100.0%; height: 100.0%;&quot;&gt;Fail Orders: 24&lt;/div&gt;`)[0];\n",
       "                popup_04985e65dcfd67800ae01506ac947e66.setContent(html_c399413b5a95e860eaf92d61b81f332e);\n",
       "            \n",
       "        \n",
       "\n",
       "        poly_line_6d553ea1a1a485e6cfd79c5a6aad3a3a.bindPopup(popup_04985e65dcfd67800ae01506ac947e66)\n",
       "        ;\n",
       "\n",
       "        \n",
       "    \n",
       "    \n",
       "            var poly_line_01edbd6dd4d5cf11d75bce2d2aa99958 = L.polyline(\n",
       "                [[51.48759910337035, -0.9929362937550877], [51.48635037720939, -0.9996727887431305], [51.48184938788786, -1.0008367323518803], [51.47859738536414, -0.9952649869633675], [51.479846139911224, -0.9885295522943797], [51.484346868579344, -0.9873648028044738]],\n",
       "                {&quot;bubblingMouseEvents&quot;: true, &quot;color&quot;: &quot;Orange&quot;, &quot;dashArray&quot;: null, &quot;dashOffset&quot;: null, &quot;fill&quot;: true, &quot;fillColor&quot;: &quot;Orange&quot;, &quot;fillOpacity&quot;: 0.4, &quot;fillRule&quot;: &quot;evenodd&quot;, &quot;lineCap&quot;: &quot;round&quot;, &quot;lineJoin&quot;: &quot;round&quot;, &quot;noClip&quot;: false, &quot;opacity&quot;: 1, &quot;smoothFactor&quot;: 1.0, &quot;stroke&quot;: true, &quot;weight&quot;: 1}\n",
       "            ).addTo(map_42bc33039f62dc425db42b7ba118e17e);\n",
       "        \n",
       "    \n",
       "        var popup_5b5eccfb176df693089906a25d5bac5f = L.popup({&quot;maxWidth&quot;: 300});\n",
       "\n",
       "        \n",
       "            \n",
       "                var html_b37383325465227c595a3c2b54b4124a = $(`&lt;div id=&quot;html_b37383325465227c595a3c2b54b4124a&quot; style=&quot;width: 100.0%; height: 100.0%;&quot;&gt;Fail Orders: 21&lt;/div&gt;`)[0];\n",
       "                popup_5b5eccfb176df693089906a25d5bac5f.setContent(html_b37383325465227c595a3c2b54b4124a);\n",
       "            \n",
       "        \n",
       "\n",
       "        poly_line_01edbd6dd4d5cf11d75bce2d2aa99958.bindPopup(popup_5b5eccfb176df693089906a25d5bac5f)\n",
       "        ;\n",
       "\n",
       "        \n",
       "    \n",
       "    \n",
       "            var poly_line_b36c69223787a5cb2bbfd3db7f986b69 = L.polyline(\n",
       "                [[51.45028256028571, -0.8936608280152583], [51.44903857139503, -0.9003895475039334], [51.44453873390593, -0.9015595539614184], [51.44128314693669, -0.8960016430873396], [51.44252716583136, -0.8892739832646752], [51.44702674167492, -0.8881031747597349]],\n",
       "                {&quot;bubblingMouseEvents&quot;: true, &quot;color&quot;: &quot;Orange&quot;, &quot;dashArray&quot;: null, &quot;dashOffset&quot;: null, &quot;fill&quot;: true, &quot;fillColor&quot;: &quot;Orange&quot;, &quot;fillOpacity&quot;: 0.4, &quot;fillRule&quot;: &quot;evenodd&quot;, &quot;lineCap&quot;: &quot;round&quot;, &quot;lineJoin&quot;: &quot;round&quot;, &quot;noClip&quot;: false, &quot;opacity&quot;: 1, &quot;smoothFactor&quot;: 1.0, &quot;stroke&quot;: true, &quot;weight&quot;: 1}\n",
       "            ).addTo(map_42bc33039f62dc425db42b7ba118e17e);\n",
       "        \n",
       "    \n",
       "        var popup_da9e5abb50a06f2dabfb29e3f2b36149 = L.popup({&quot;maxWidth&quot;: 300});\n",
       "\n",
       "        \n",
       "            \n",
       "                var html_b2a063789418fad230672e8777e59cc1 = $(`&lt;div id=&quot;html_b2a063789418fad230672e8777e59cc1&quot; style=&quot;width: 100.0%; height: 100.0%;&quot;&gt;Fail Orders: 20&lt;/div&gt;`)[0];\n",
       "                popup_da9e5abb50a06f2dabfb29e3f2b36149.setContent(html_b2a063789418fad230672e8777e59cc1);\n",
       "            \n",
       "        \n",
       "\n",
       "        poly_line_b36c69223787a5cb2bbfd3db7f986b69.bindPopup(popup_da9e5abb50a06f2dabfb29e3f2b36149)\n",
       "        ;\n",
       "\n",
       "        \n",
       "    \n",
       "    \n",
       "            var poly_line_871434124a46ac4a7644423f92e8a02b = L.polyline(\n",
       "                [[51.46205889550498, -0.922631329685646], [51.46081355941403, -0.9293624244761365], [51.456313423973754, -0.9305306817374712], [51.45305888595956, -0.924968647508941], [51.45430425157849, -0.9182386126096636], [51.458804125667214, -0.917069552157372]],\n",
       "                {&quot;bubblingMouseEvents&quot;: true, &quot;color&quot;: &quot;Orange&quot;, &quot;dashArray&quot;: null, &quot;dashOffset&quot;: null, &quot;fill&quot;: true, &quot;fillColor&quot;: &quot;Orange&quot;, &quot;fillOpacity&quot;: 0.4, &quot;fillRule&quot;: &quot;evenodd&quot;, &quot;lineCap&quot;: &quot;round&quot;, &quot;lineJoin&quot;: &quot;round&quot;, &quot;noClip&quot;: false, &quot;opacity&quot;: 1, &quot;smoothFactor&quot;: 1.0, &quot;stroke&quot;: true, &quot;weight&quot;: 1}\n",
       "            ).addTo(map_42bc33039f62dc425db42b7ba118e17e);\n",
       "        \n",
       "    \n",
       "        var popup_f4bf5b54be44e899b6d87187fa1d44c1 = L.popup({&quot;maxWidth&quot;: 300});\n",
       "\n",
       "        \n",
       "            \n",
       "                var html_2fdec64024a1579c5d6f828d49f23c9b = $(`&lt;div id=&quot;html_2fdec64024a1579c5d6f828d49f23c9b&quot; style=&quot;width: 100.0%; height: 100.0%;&quot;&gt;Fail Orders: 20&lt;/div&gt;`)[0];\n",
       "                popup_f4bf5b54be44e899b6d87187fa1d44c1.setContent(html_2fdec64024a1579c5d6f828d49f23c9b);\n",
       "            \n",
       "        \n",
       "\n",
       "        poly_line_871434124a46ac4a7644423f92e8a02b.bindPopup(popup_f4bf5b54be44e899b6d87187fa1d44c1)\n",
       "        ;\n",
       "\n",
       "        \n",
       "    \n",
       "    \n",
       "            var poly_line_1a573f408ab99bfc5f4f1ac04dcbbc1f = L.polyline(\n",
       "                [[51.46607579130368, -0.9472221128589419], [51.46482907715207, -0.9539545210576592], [51.46032841933335, -0.9551211707321967], [51.457074736784854, -0.9495562163118216], [51.45832148008727, -0.9428248679734373], [51.46282187677091, -0.9416574143047192]],\n",
       "                {&quot;bubblingMouseEvents&quot;: true, &quot;color&quot;: &quot;Orange&quot;, &quot;dashArray&quot;: null, &quot;dashOffset&quot;: null, &quot;fill&quot;: true, &quot;fillColor&quot;: &quot;Orange&quot;, &quot;fillOpacity&quot;: 0.4, &quot;fillRule&quot;: &quot;evenodd&quot;, &quot;lineCap&quot;: &quot;round&quot;, &quot;lineJoin&quot;: &quot;round&quot;, &quot;noClip&quot;: false, &quot;opacity&quot;: 1, &quot;smoothFactor&quot;: 1.0, &quot;stroke&quot;: true, &quot;weight&quot;: 1}\n",
       "            ).addTo(map_42bc33039f62dc425db42b7ba118e17e);\n",
       "        \n",
       "    \n",
       "        var popup_5406a60c326c28cbcb1701fac12b6d12 = L.popup({&quot;maxWidth&quot;: 300});\n",
       "\n",
       "        \n",
       "            \n",
       "                var html_1d00961792a17f43f8539713330e5f67 = $(`&lt;div id=&quot;html_1d00961792a17f43f8539713330e5f67&quot; style=&quot;width: 100.0%; height: 100.0%;&quot;&gt;Fail Orders: 18&lt;/div&gt;`)[0];\n",
       "                popup_5406a60c326c28cbcb1701fac12b6d12.setContent(html_1d00961792a17f43f8539713330e5f67);\n",
       "            \n",
       "        \n",
       "\n",
       "        poly_line_1a573f408ab99bfc5f4f1ac04dcbbc1f.bindPopup(popup_5406a60c326c28cbcb1701fac12b6d12)\n",
       "        ;\n",
       "\n",
       "        \n",
       "    \n",
       "    \n",
       "            var poly_line_00ce2f86ac3f4793dda8d941ac5de85c = L.polyline(\n",
       "                [[51.474345672584555, -1.041254503302781], [51.4730934090081, -1.0479910856084076], [51.468590440219174, -1.049151436186078], [51.46533999533419, -1.043576011430873], [51.46659228665092, -1.036840488594998], [51.471094995095726, -1.0356793311540256]],\n",
       "                {&quot;bubblingMouseEvents&quot;: true, &quot;color&quot;: &quot;Orange&quot;, &quot;dashArray&quot;: null, &quot;dashOffset&quot;: null, &quot;fill&quot;: true, &quot;fillColor&quot;: &quot;Orange&quot;, &quot;fillOpacity&quot;: 0.4, &quot;fillRule&quot;: &quot;evenodd&quot;, &quot;lineCap&quot;: &quot;round&quot;, &quot;lineJoin&quot;: &quot;round&quot;, &quot;noClip&quot;: false, &quot;opacity&quot;: 1, &quot;smoothFactor&quot;: 1.0, &quot;stroke&quot;: true, &quot;weight&quot;: 1}\n",
       "            ).addTo(map_42bc33039f62dc425db42b7ba118e17e);\n",
       "        \n",
       "    \n",
       "        var popup_efbfb2b820089b1a852c0e9c27aab041 = L.popup({&quot;maxWidth&quot;: 300});\n",
       "\n",
       "        \n",
       "            \n",
       "                var html_df9a5bc17f7b107abfa98026ba2566c6 = $(`&lt;div id=&quot;html_df9a5bc17f7b107abfa98026ba2566c6&quot; style=&quot;width: 100.0%; height: 100.0%;&quot;&gt;Fail Orders: 17&lt;/div&gt;`)[0];\n",
       "                popup_efbfb2b820089b1a852c0e9c27aab041.setContent(html_df9a5bc17f7b107abfa98026ba2566c6);\n",
       "            \n",
       "        \n",
       "\n",
       "        poly_line_00ce2f86ac3f4793dda8d941ac5de85c.bindPopup(popup_efbfb2b820089b1a852c0e9c27aab041)\n",
       "        ;\n",
       "\n",
       "        \n",
       "    \n",
       "    \n",
       "            var poly_line_a61b42147bd8ff62be377756b75de147 = L.polyline(\n",
       "                [[51.47234656780399, -1.0289434013578491], [51.471094995095726, -1.0356793311540256], [51.46659228665092, -1.036840488594998], [51.46334141135082, -1.0312665228115372], [51.464593011988136, -1.0245316525033845], [51.469095459979904, -1.0233696886001498]],\n",
       "                {&quot;bubblingMouseEvents&quot;: true, &quot;color&quot;: &quot;Orange&quot;, &quot;dashArray&quot;: null, &quot;dashOffset&quot;: null, &quot;fill&quot;: true, &quot;fillColor&quot;: &quot;Orange&quot;, &quot;fillOpacity&quot;: 0.4, &quot;fillRule&quot;: &quot;evenodd&quot;, &quot;lineCap&quot;: &quot;round&quot;, &quot;lineJoin&quot;: &quot;round&quot;, &quot;noClip&quot;: false, &quot;opacity&quot;: 1, &quot;smoothFactor&quot;: 1.0, &quot;stroke&quot;: true, &quot;weight&quot;: 1}\n",
       "            ).addTo(map_42bc33039f62dc425db42b7ba118e17e);\n",
       "        \n",
       "    \n",
       "        var popup_a6e1a6b1104137f9eb5ff6abaad486ce = L.popup({&quot;maxWidth&quot;: 300});\n",
       "\n",
       "        \n",
       "            \n",
       "                var html_be9ded543b790915d1b11c4f22aa256e = $(`&lt;div id=&quot;html_be9ded543b790915d1b11c4f22aa256e&quot; style=&quot;width: 100.0%; height: 100.0%;&quot;&gt;Fail Orders: 16&lt;/div&gt;`)[0];\n",
       "                popup_a6e1a6b1104137f9eb5ff6abaad486ce.setContent(html_be9ded543b790915d1b11c4f22aa256e);\n",
       "            \n",
       "        \n",
       "\n",
       "        poly_line_a61b42147bd8ff62be377756b75de147.bindPopup(popup_a6e1a6b1104137f9eb5ff6abaad486ce)\n",
       "        ;\n",
       "\n",
       "        \n",
       "    \n",
       "    \n",
       "            var poly_line_5777230346642e7834c2b5a08ce91149 = L.polyline(\n",
       "                [[51.43732688656207, -0.9867067677866462], [51.43607658105397, -0.9934371544996752], [51.43157349283949, -0.9946005080150928], [51.428320971100014, -0.9890342792234931], [51.42957130531146, -0.9823049510204259], [51.434074132542555, -0.9811407932083569]],\n",
       "                {&quot;bubblingMouseEvents&quot;: true, &quot;color&quot;: &quot;Orange&quot;, &quot;dashArray&quot;: null, &quot;dashOffset&quot;: null, &quot;fill&quot;: true, &quot;fillColor&quot;: &quot;Orange&quot;, &quot;fillOpacity&quot;: 0.4, &quot;fillRule&quot;: &quot;evenodd&quot;, &quot;lineCap&quot;: &quot;round&quot;, &quot;lineJoin&quot;: &quot;round&quot;, &quot;noClip&quot;: false, &quot;opacity&quot;: 1, &quot;smoothFactor&quot;: 1.0, &quot;stroke&quot;: true, &quot;weight&quot;: 1}\n",
       "            ).addTo(map_42bc33039f62dc425db42b7ba118e17e);\n",
       "        \n",
       "    \n",
       "        var popup_f30c5a9b389cee092ea5127e4e797add = L.popup({&quot;maxWidth&quot;: 300});\n",
       "\n",
       "        \n",
       "            \n",
       "                var html_e124345501f58a7f832fcba068c72d53 = $(`&lt;div id=&quot;html_e124345501f58a7f832fcba068c72d53&quot; style=&quot;width: 100.0%; height: 100.0%;&quot;&gt;Fail Orders: 16&lt;/div&gt;`)[0];\n",
       "                popup_f30c5a9b389cee092ea5127e4e797add.setContent(html_e124345501f58a7f832fcba068c72d53);\n",
       "            \n",
       "        \n",
       "\n",
       "        poly_line_5777230346642e7834c2b5a08ce91149.bindPopup(popup_f30c5a9b389cee092ea5127e4e797add)\n",
       "        ;\n",
       "\n",
       "        \n",
       "    \n",
       "    \n",
       "            var poly_line_201c4159bf2aec6750ad6f08a9ae120d = L.polyline(\n",
       "                [[51.41580153892686, -0.9410372707211392], [51.41455324226432, -0.9477635768853486], [51.41005048828205, -0.9489296308767483], [51.406796292410725, -0.9433701812278471], [51.4080446185399, -0.9366449331154055], [51.41254711105738, -0.9354780767094129]],\n",
       "                {&quot;bubblingMouseEvents&quot;: true, &quot;color&quot;: &quot;Orange&quot;, &quot;dashArray&quot;: null, &quot;dashOffset&quot;: null, &quot;fill&quot;: true, &quot;fillColor&quot;: &quot;Orange&quot;, &quot;fillOpacity&quot;: 0.4, &quot;fillRule&quot;: &quot;evenodd&quot;, &quot;lineCap&quot;: &quot;round&quot;, &quot;lineJoin&quot;: &quot;round&quot;, &quot;noClip&quot;: false, &quot;opacity&quot;: 1, &quot;smoothFactor&quot;: 1.0, &quot;stroke&quot;: true, &quot;weight&quot;: 1}\n",
       "            ).addTo(map_42bc33039f62dc425db42b7ba118e17e);\n",
       "        \n",
       "    \n",
       "        var popup_a733acc6a63f813ed11399b7bd1b07e6 = L.popup({&quot;maxWidth&quot;: 300});\n",
       "\n",
       "        \n",
       "            \n",
       "                var html_b0761d496bd4331912d1b8b43f0e1d51 = $(`&lt;div id=&quot;html_b0761d496bd4331912d1b8b43f0e1d51&quot; style=&quot;width: 100.0%; height: 100.0%;&quot;&gt;Fail Orders: 15&lt;/div&gt;`)[0];\n",
       "                popup_a733acc6a63f813ed11399b7bd1b07e6.setContent(html_b0761d496bd4331912d1b8b43f0e1d51);\n",
       "            \n",
       "        \n",
       "\n",
       "        poly_line_201c4159bf2aec6750ad6f08a9ae120d.bindPopup(popup_a733acc6a63f813ed11399b7bd1b07e6)\n",
       "        ;\n",
       "\n",
       "        \n",
       "    \n",
       "    \n",
       "            var poly_line_cbfb62ef61af20faf6e8206aec8f9e6f = L.polyline(\n",
       "                [[51.44132980787971, -1.0113045187085727], [51.440078122859255, -1.018036212071681], [51.435574513003964, -1.0191979557919344], [51.43232284891865, -1.0136288113563077], [51.43357456226524, -1.0068981764687253], [51.43807791135447, -1.0057356276506038]],\n",
       "                {&quot;bubblingMouseEvents&quot;: true, &quot;color&quot;: &quot;Orange&quot;, &quot;dashArray&quot;: null, &quot;dashOffset&quot;: null, &quot;fill&quot;: true, &quot;fillColor&quot;: &quot;Orange&quot;, &quot;fillOpacity&quot;: 0.4, &quot;fillRule&quot;: &quot;evenodd&quot;, &quot;lineCap&quot;: &quot;round&quot;, &quot;lineJoin&quot;: &quot;round&quot;, &quot;noClip&quot;: false, &quot;opacity&quot;: 1, &quot;smoothFactor&quot;: 1.0, &quot;stroke&quot;: true, &quot;weight&quot;: 1}\n",
       "            ).addTo(map_42bc33039f62dc425db42b7ba118e17e);\n",
       "        \n",
       "    \n",
       "        var popup_99477466afd82d12b39effefdb810cc2 = L.popup({&quot;maxWidth&quot;: 300});\n",
       "\n",
       "        \n",
       "            \n",
       "                var html_442349370c84bd04a09622aa2383bd32 = $(`&lt;div id=&quot;html_442349370c84bd04a09622aa2383bd32&quot; style=&quot;width: 100.0%; height: 100.0%;&quot;&gt;Fail Orders: 15&lt;/div&gt;`)[0];\n",
       "                popup_99477466afd82d12b39effefdb810cc2.setContent(html_442349370c84bd04a09622aa2383bd32);\n",
       "            \n",
       "        \n",
       "\n",
       "        poly_line_cbfb62ef61af20faf6e8206aec8f9e6f.bindPopup(popup_99477466afd82d12b39effefdb810cc2)\n",
       "        ;\n",
       "\n",
       "        \n",
       "    \n",
       "    \n",
       "            var poly_line_f9ac4704093d13d99abac106128e7996 = L.polyline(\n",
       "                [[51.46004877308605, -0.9103391148110574], [51.458804125667214, -0.917069552157372], [51.45430425157849, -0.9182386126096636], [51.45104928635185, -0.9126780386146259], [51.45229396348721, -0.9059486611744668], [51.45679357611629, -0.9047787979328586]],\n",
       "                {&quot;bubblingMouseEvents&quot;: true, &quot;color&quot;: &quot;Orange&quot;, &quot;dashArray&quot;: null, &quot;dashOffset&quot;: null, &quot;fill&quot;: true, &quot;fillColor&quot;: &quot;Orange&quot;, &quot;fillOpacity&quot;: 0.4, &quot;fillRule&quot;: &quot;evenodd&quot;, &quot;lineCap&quot;: &quot;round&quot;, &quot;lineJoin&quot;: &quot;round&quot;, &quot;noClip&quot;: false, &quot;opacity&quot;: 1, &quot;smoothFactor&quot;: 1.0, &quot;stroke&quot;: true, &quot;weight&quot;: 1}\n",
       "            ).addTo(map_42bc33039f62dc425db42b7ba118e17e);\n",
       "        \n",
       "    \n",
       "        var popup_ce824cdf956c3d640f67971428239237 = L.popup({&quot;maxWidth&quot;: 300});\n",
       "\n",
       "        \n",
       "            \n",
       "                var html_673bc1e948ef6e9d3be566192219f6c6 = $(`&lt;div id=&quot;html_673bc1e948ef6e9d3be566192219f6c6&quot; style=&quot;width: 100.0%; height: 100.0%;&quot;&gt;Fail Orders: 15&lt;/div&gt;`)[0];\n",
       "                popup_ce824cdf956c3d640f67971428239237.setContent(html_673bc1e948ef6e9d3be566192219f6c6);\n",
       "            \n",
       "        \n",
       "\n",
       "        poly_line_f9ac4704093d13d99abac106128e7996.bindPopup(popup_ce824cdf956c3d640f67971428239237)\n",
       "        ;\n",
       "\n",
       "        \n",
       "    \n",
       "    \n",
       "            var poly_line_d5cef01085b8016c5c28c3028e1bc698 = L.polyline(\n",
       "                [[51.41005048828205, -0.9489296308767483], [51.40880147379574, -0.955655534092255], [51.404298234077416, -0.9568209297670461], [51.40104427026354, -0.9512612248108859], [51.402293314126915, -0.944536379377929], [51.406796292410725, -0.9433701812278471]],\n",
       "                {&quot;bubblingMouseEvents&quot;: true, &quot;color&quot;: &quot;Orange&quot;, &quot;dashArray&quot;: null, &quot;dashOffset&quot;: null, &quot;fill&quot;: true, &quot;fillColor&quot;: &quot;Orange&quot;, &quot;fillOpacity&quot;: 0.4, &quot;fillRule&quot;: &quot;evenodd&quot;, &quot;lineCap&quot;: &quot;round&quot;, &quot;lineJoin&quot;: &quot;round&quot;, &quot;noClip&quot;: false, &quot;opacity&quot;: 1, &quot;smoothFactor&quot;: 1.0, &quot;stroke&quot;: true, &quot;weight&quot;: 1}\n",
       "            ).addTo(map_42bc33039f62dc425db42b7ba118e17e);\n",
       "        \n",
       "    \n",
       "        var popup_57fcb37611f3835e151e659ce88cf501 = L.popup({&quot;maxWidth&quot;: 300});\n",
       "\n",
       "        \n",
       "            \n",
       "                var html_001f749674e0582093fb8763a5c41b2f = $(`&lt;div id=&quot;html_001f749674e0582093fb8763a5c41b2f&quot; style=&quot;width: 100.0%; height: 100.0%;&quot;&gt;Fail Orders: 14&lt;/div&gt;`)[0];\n",
       "                popup_57fcb37611f3835e151e659ce88cf501.setContent(html_001f749674e0582093fb8763a5c41b2f);\n",
       "            \n",
       "        \n",
       "\n",
       "        poly_line_d5cef01085b8016c5c28c3028e1bc698.bindPopup(popup_57fcb37611f3835e151e659ce88cf501)\n",
       "        ;\n",
       "\n",
       "        \n",
       "    \n",
       "    \n",
       "            var poly_line_2c52094e62c9b4c7ffe48629f1475832 = L.polyline(\n",
       "                [[51.43275850591224, -0.8726072930393082], [51.43151514454362, -0.8793332349790637], [51.427015119575145, -0.8805043287665374], [51.42375871786806, -0.8749502816902296], [51.42500210962668, -0.8682253989211229], [51.429501872686046, -0.8670535041672803]],\n",
       "                {&quot;bubblingMouseEvents&quot;: true, &quot;color&quot;: &quot;Orange&quot;, &quot;dashArray&quot;: null, &quot;dashOffset&quot;: null, &quot;fill&quot;: true, &quot;fillColor&quot;: &quot;Orange&quot;, &quot;fillOpacity&quot;: 0.4, &quot;fillRule&quot;: &quot;evenodd&quot;, &quot;lineCap&quot;: &quot;round&quot;, &quot;lineJoin&quot;: &quot;round&quot;, &quot;noClip&quot;: false, &quot;opacity&quot;: 1, &quot;smoothFactor&quot;: 1.0, &quot;stroke&quot;: true, &quot;weight&quot;: 1}\n",
       "            ).addTo(map_42bc33039f62dc425db42b7ba118e17e);\n",
       "        \n",
       "    \n",
       "        var popup_6b21195d3c412bd2879f3f5448ffe43d = L.popup({&quot;maxWidth&quot;: 300});\n",
       "\n",
       "        \n",
       "            \n",
       "                var html_0257690c5508f595748db54c9e63ed50 = $(`&lt;div id=&quot;html_0257690c5508f595748db54c9e63ed50&quot; style=&quot;width: 100.0%; height: 100.0%;&quot;&gt;Fail Orders: 14&lt;/div&gt;`)[0];\n",
       "                popup_6b21195d3c412bd2879f3f5448ffe43d.setContent(html_0257690c5508f595748db54c9e63ed50);\n",
       "            \n",
       "        \n",
       "\n",
       "        poly_line_2c52094e62c9b4c7ffe48629f1475832.bindPopup(popup_6b21195d3c412bd2879f3f5448ffe43d)\n",
       "        ;\n",
       "\n",
       "        \n",
       "    \n",
       "    \n",
       "            var poly_line_987d730f8aeed88b07e50a495eb81456 = L.polyline(\n",
       "                [[51.431037799405544, -0.9050685416462863], [51.42979234460876, -0.9117953983982504], [51.425291309983784, -0.9129642303046451], [51.422035991802574, -0.9074070073991267], [51.42328147652307, -0.9006812095209957], [51.427782249484714, -0.8995115757840595]],\n",
       "                {&quot;bubblingMouseEvents&quot;: true, &quot;color&quot;: &quot;Orange&quot;, &quot;dashArray&quot;: null, &quot;dashOffset&quot;: null, &quot;fill&quot;: true, &quot;fillColor&quot;: &quot;Orange&quot;, &quot;fillOpacity&quot;: 0.4, &quot;fillRule&quot;: &quot;evenodd&quot;, &quot;lineCap&quot;: &quot;round&quot;, &quot;lineJoin&quot;: &quot;round&quot;, &quot;noClip&quot;: false, &quot;opacity&quot;: 1, &quot;smoothFactor&quot;: 1.0, &quot;stroke&quot;: true, &quot;weight&quot;: 1}\n",
       "            ).addTo(map_42bc33039f62dc425db42b7ba118e17e);\n",
       "        \n",
       "    \n",
       "        var popup_b89301de403df7db5d99f797c0d92f21 = L.popup({&quot;maxWidth&quot;: 300});\n",
       "\n",
       "        \n",
       "            \n",
       "                var html_d48eb77eedf136361aacb9ce239e1c58 = $(`&lt;div id=&quot;html_d48eb77eedf136361aacb9ce239e1c58&quot; style=&quot;width: 100.0%; height: 100.0%;&quot;&gt;Fail Orders: 12&lt;/div&gt;`)[0];\n",
       "                popup_b89301de403df7db5d99f797c0d92f21.setContent(html_d48eb77eedf136361aacb9ce239e1c58);\n",
       "            \n",
       "        \n",
       "\n",
       "        poly_line_987d730f8aeed88b07e50a495eb81456.bindPopup(popup_b89301de403df7db5d99f797c0d92f21)\n",
       "        ;\n",
       "\n",
       "        \n",
       "    \n",
       "    \n",
       "            var poly_line_d56a1a12740bb08e768a9653e52e8ac5 = L.polyline(\n",
       "                [[51.45803753510193, -0.8980490185234835], [51.45679357611629, -0.9047787979328586], [51.45229396348721, -0.9059486611744668], [51.44903857139503, -0.9003895475039334], [51.45028256028571, -0.8936608280152583], [51.454781911347155, -0.8924901623860853]],\n",
       "                {&quot;bubblingMouseEvents&quot;: true, &quot;color&quot;: &quot;Orange&quot;, &quot;dashArray&quot;: null, &quot;dashOffset&quot;: null, &quot;fill&quot;: true, &quot;fillColor&quot;: &quot;Orange&quot;, &quot;fillOpacity&quot;: 0.4, &quot;fillRule&quot;: &quot;evenodd&quot;, &quot;lineCap&quot;: &quot;round&quot;, &quot;lineJoin&quot;: &quot;round&quot;, &quot;noClip&quot;: false, &quot;opacity&quot;: 1, &quot;smoothFactor&quot;: 1.0, &quot;stroke&quot;: true, &quot;weight&quot;: 1}\n",
       "            ).addTo(map_42bc33039f62dc425db42b7ba118e17e);\n",
       "        \n",
       "    \n",
       "        var popup_52f79c8fbb06ac95fc2a7bb6f4ae1924 = L.popup({&quot;maxWidth&quot;: 300});\n",
       "\n",
       "        \n",
       "            \n",
       "                var html_a844a02a17028663bd8def21d8fc27c8 = $(`&lt;div id=&quot;html_a844a02a17028663bd8def21d8fc27c8&quot; style=&quot;width: 100.0%; height: 100.0%;&quot;&gt;Fail Orders: 12&lt;/div&gt;`)[0];\n",
       "                popup_52f79c8fbb06ac95fc2a7bb6f4ae1924.setContent(html_a844a02a17028663bd8def21d8fc27c8);\n",
       "            \n",
       "        \n",
       "\n",
       "        poly_line_d56a1a12740bb08e768a9653e52e8ac5.bindPopup(popup_52f79c8fbb06ac95fc2a7bb6f4ae1924)\n",
       "        ;\n",
       "\n",
       "        \n",
       "    \n",
       "    \n",
       "            var poly_line_982094b9bca35cfd75ef9358a8360178 = L.polyline(\n",
       "                [[51.441567647251865, -1.0561099530700706], [51.4403131727801, -1.0628431953792115], [51.43580829565045, -1.064001862241893], [51.43255815338464, -1.0584280932631696], [51.433812655527085, -1.0516959091039801], [51.438317272248035, -1.050536435882821]],\n",
       "                {&quot;bubblingMouseEvents&quot;: true, &quot;color&quot;: &quot;Orange&quot;, &quot;dashArray&quot;: null, &quot;dashOffset&quot;: null, &quot;fill&quot;: true, &quot;fillColor&quot;: &quot;Orange&quot;, &quot;fillOpacity&quot;: 0.4, &quot;fillRule&quot;: &quot;evenodd&quot;, &quot;lineCap&quot;: &quot;round&quot;, &quot;lineJoin&quot;: &quot;round&quot;, &quot;noClip&quot;: false, &quot;opacity&quot;: 1, &quot;smoothFactor&quot;: 1.0, &quot;stroke&quot;: true, &quot;weight&quot;: 1}\n",
       "            ).addTo(map_42bc33039f62dc425db42b7ba118e17e);\n",
       "        \n",
       "    \n",
       "        var popup_5ac62d4c45213f44de1f2dd0b52164a9 = L.popup({&quot;maxWidth&quot;: 300});\n",
       "\n",
       "        \n",
       "            \n",
       "                var html_2783cdef86874fc882827d78063ebddb = $(`&lt;div id=&quot;html_2783cdef86874fc882827d78063ebddb&quot; style=&quot;width: 100.0%; height: 100.0%;&quot;&gt;Fail Orders: 12&lt;/div&gt;`)[0];\n",
       "                popup_5ac62d4c45213f44de1f2dd0b52164a9.setContent(html_2783cdef86874fc882827d78063ebddb);\n",
       "            \n",
       "        \n",
       "\n",
       "        poly_line_982094b9bca35cfd75ef9358a8360178.bindPopup(popup_5ac62d4c45213f44de1f2dd0b52164a9)\n",
       "        ;\n",
       "\n",
       "        \n",
       "    \n",
       "    \n",
       "            var poly_line_cc196a6c1ae6c705f2ecc6562fd64e2c = L.polyline(\n",
       "                [[51.40830472669053, -0.9813963650951636], [51.40705361689205, -0.9881231729278305], [51.40254936905351, -0.9892863041361905], [51.39929649218437, -0.9837234309572022], [51.40054763089358, -0.9769976806051393], [51.405051617544736, -0.975833746060665]],\n",
       "                {&quot;bubblingMouseEvents&quot;: true, &quot;color&quot;: &quot;Orange&quot;, &quot;dashArray&quot;: null, &quot;dashOffset&quot;: null, &quot;fill&quot;: true, &quot;fillColor&quot;: &quot;Orange&quot;, &quot;fillOpacity&quot;: 0.4, &quot;fillRule&quot;: &quot;evenodd&quot;, &quot;lineCap&quot;: &quot;round&quot;, &quot;lineJoin&quot;: &quot;round&quot;, &quot;noClip&quot;: false, &quot;opacity&quot;: 1, &quot;smoothFactor&quot;: 1.0, &quot;stroke&quot;: true, &quot;weight&quot;: 1}\n",
       "            ).addTo(map_42bc33039f62dc425db42b7ba118e17e);\n",
       "        \n",
       "    \n",
       "        var popup_18e520999884ef33bc3f512fa978941e = L.popup({&quot;maxWidth&quot;: 300});\n",
       "\n",
       "        \n",
       "            \n",
       "                var html_4965b7c8aef250018fa67e04012c1346 = $(`&lt;div id=&quot;html_4965b7c8aef250018fa67e04012c1346&quot; style=&quot;width: 100.0%; height: 100.0%;&quot;&gt;Fail Orders: 11&lt;/div&gt;`)[0];\n",
       "                popup_18e520999884ef33bc3f512fa978941e.setContent(html_4965b7c8aef250018fa67e04012c1346);\n",
       "            \n",
       "        \n",
       "\n",
       "        poly_line_cc196a6c1ae6c705f2ecc6562fd64e2c.bindPopup(popup_18e520999884ef33bc3f512fa978941e)\n",
       "        ;\n",
       "\n",
       "        \n",
       "    \n",
       "    \n",
       "            var poly_line_ebfb7274fa70e56b40a9be75d8c2d337 = L.polyline(\n",
       "                [[51.46659228665092, -1.036840488594998], [51.46533999533419, -1.043576011430873], [51.460836800894334, -1.0447365091572272], [51.45758615817701, -1.0391622906789102], [51.45883847733337, -1.0324278270597], [51.46334141135082, -1.0312665228115372]],\n",
       "                {&quot;bubblingMouseEvents&quot;: true, &quot;color&quot;: &quot;Orange&quot;, &quot;dashArray&quot;: null, &quot;dashOffset&quot;: null, &quot;fill&quot;: true, &quot;fillColor&quot;: &quot;Orange&quot;, &quot;fillOpacity&quot;: 0.4, &quot;fillRule&quot;: &quot;evenodd&quot;, &quot;lineCap&quot;: &quot;round&quot;, &quot;lineJoin&quot;: &quot;round&quot;, &quot;noClip&quot;: false, &quot;opacity&quot;: 1, &quot;smoothFactor&quot;: 1.0, &quot;stroke&quot;: true, &quot;weight&quot;: 1}\n",
       "            ).addTo(map_42bc33039f62dc425db42b7ba118e17e);\n",
       "        \n",
       "    \n",
       "        var popup_1e0942fd00047c1c62cae2e8cb0232ac = L.popup({&quot;maxWidth&quot;: 300});\n",
       "\n",
       "        \n",
       "            \n",
       "                var html_0a04932c03990965d1ef91300f6cff7b = $(`&lt;div id=&quot;html_0a04932c03990965d1ef91300f6cff7b&quot; style=&quot;width: 100.0%; height: 100.0%;&quot;&gt;Fail Orders: 11&lt;/div&gt;`)[0];\n",
       "                popup_1e0942fd00047c1c62cae2e8cb0232ac.setContent(html_0a04932c03990965d1ef91300f6cff7b);\n",
       "            \n",
       "        \n",
       "\n",
       "        poly_line_ebfb7274fa70e56b40a9be75d8c2d337.bindPopup(popup_1e0942fd00047c1c62cae2e8cb0232ac)\n",
       "        ;\n",
       "\n",
       "        \n",
       "    \n",
       "    \n",
       "            var poly_line_6f8acd6e1c3db0d3b8778582b488158e = L.polyline(\n",
       "                [[51.49708881817044, -0.9648245879866865], [51.49584221962982, -0.971561238169227], [51.49134246396298, -0.972727307958518], [51.48808956764306, -0.9671575330334359], [51.48933619493747, -0.960421943728338], [51.49383568978152, -0.959255068580631]],\n",
       "                {&quot;bubblingMouseEvents&quot;: true, &quot;color&quot;: &quot;Orange&quot;, &quot;dashArray&quot;: null, &quot;dashOffset&quot;: null, &quot;fill&quot;: true, &quot;fillColor&quot;: &quot;Orange&quot;, &quot;fillOpacity&quot;: 0.4, &quot;fillRule&quot;: &quot;evenodd&quot;, &quot;lineCap&quot;: &quot;round&quot;, &quot;lineJoin&quot;: &quot;round&quot;, &quot;noClip&quot;: false, &quot;opacity&quot;: 1, &quot;smoothFactor&quot;: 1.0, &quot;stroke&quot;: true, &quot;weight&quot;: 1}\n",
       "            ).addTo(map_42bc33039f62dc425db42b7ba118e17e);\n",
       "        \n",
       "    \n",
       "        var popup_b0e76d1045fd97b9f40a084e32f634b1 = L.popup({&quot;maxWidth&quot;: 300});\n",
       "\n",
       "        \n",
       "            \n",
       "                var html_50f1e7e7251a52fb09b5e3f1bf5dab15 = $(`&lt;div id=&quot;html_50f1e7e7251a52fb09b5e3f1bf5dab15&quot; style=&quot;width: 100.0%; height: 100.0%;&quot;&gt;Fail Orders: 11&lt;/div&gt;`)[0];\n",
       "                popup_b0e76d1045fd97b9f40a084e32f634b1.setContent(html_50f1e7e7251a52fb09b5e3f1bf5dab15);\n",
       "            \n",
       "        \n",
       "\n",
       "        poly_line_6f8acd6e1c3db0d3b8778582b488158e.bindPopup(popup_b0e76d1045fd97b9f40a084e32f634b1)\n",
       "        ;\n",
       "\n",
       "        \n",
       "    \n",
       "    \n",
       "            var poly_line_e5850f152f51a9d81d57bd593854a7c8 = L.polyline(\n",
       "                [[51.453082738232865, -1.040322935395429], [51.45182970059766, -1.0470569921184034], [51.44732579482588, -1.0482169774267664], [51.44407518714276, -1.042643712361457], [51.445328252627505, -1.0359107143309507], [51.449831897929215, -1.034749922782627]],\n",
       "                {&quot;bubblingMouseEvents&quot;: true, &quot;color&quot;: &quot;Orange&quot;, &quot;dashArray&quot;: null, &quot;dashOffset&quot;: null, &quot;fill&quot;: true, &quot;fillColor&quot;: &quot;Orange&quot;, &quot;fillOpacity&quot;: 0.4, &quot;fillRule&quot;: &quot;evenodd&quot;, &quot;lineCap&quot;: &quot;round&quot;, &quot;lineJoin&quot;: &quot;round&quot;, &quot;noClip&quot;: false, &quot;opacity&quot;: 1, &quot;smoothFactor&quot;: 1.0, &quot;stroke&quot;: true, &quot;weight&quot;: 1}\n",
       "            ).addTo(map_42bc33039f62dc425db42b7ba118e17e);\n",
       "        \n",
       "    \n",
       "        var popup_6a43e2eec829e57918b2a444c461c568 = L.popup({&quot;maxWidth&quot;: 300});\n",
       "\n",
       "        \n",
       "            \n",
       "                var html_819b00504704056b7b56a1639e84e404 = $(`&lt;div id=&quot;html_819b00504704056b7b56a1639e84e404&quot; style=&quot;width: 100.0%; height: 100.0%;&quot;&gt;Fail Orders: 11&lt;/div&gt;`)[0];\n",
       "                popup_6a43e2eec829e57918b2a444c461c568.setContent(html_819b00504704056b7b56a1639e84e404);\n",
       "            \n",
       "        \n",
       "\n",
       "        poly_line_e5850f152f51a9d81d57bd593854a7c8.bindPopup(popup_6a43e2eec829e57918b2a444c461c568)\n",
       "        ;\n",
       "\n",
       "        \n",
       "    \n",
       "    \n",
       "            var poly_line_ea85236ef87bede516c37d0d2b1851a1 = L.polyline(\n",
       "                [[51.46283400323175, -1.0570473018561912], [51.4615803023803, -1.0637830690762287], [51.45707636176167, -1.0649421002296087], [51.45382638226058, -1.059366171254216], [51.455080110673464, -1.0526314629607738], [51.459583791009365, -1.0514716248254892]],\n",
       "                {&quot;bubblingMouseEvents&quot;: true, &quot;color&quot;: &quot;Orange&quot;, &quot;dashArray&quot;: null, &quot;dashOffset&quot;: null, &quot;fill&quot;: true, &quot;fillColor&quot;: &quot;Orange&quot;, &quot;fillOpacity&quot;: 0.4, &quot;fillRule&quot;: &quot;evenodd&quot;, &quot;lineCap&quot;: &quot;round&quot;, &quot;lineJoin&quot;: &quot;round&quot;, &quot;noClip&quot;: false, &quot;opacity&quot;: 1, &quot;smoothFactor&quot;: 1.0, &quot;stroke&quot;: true, &quot;weight&quot;: 1}\n",
       "            ).addTo(map_42bc33039f62dc425db42b7ba118e17e);\n",
       "        \n",
       "    \n",
       "        var popup_3e516b063d33a57660650f095dfc7b72 = L.popup({&quot;maxWidth&quot;: 300});\n",
       "\n",
       "        \n",
       "            \n",
       "                var html_7826e1e37609767a91e94edfd83fb184 = $(`&lt;div id=&quot;html_7826e1e37609767a91e94edfd83fb184&quot; style=&quot;width: 100.0%; height: 100.0%;&quot;&gt;Fail Orders: 11&lt;/div&gt;`)[0];\n",
       "                popup_3e516b063d33a57660650f095dfc7b72.setContent(html_7826e1e37609767a91e94edfd83fb184);\n",
       "            \n",
       "        \n",
       "\n",
       "        poly_line_ea85236ef87bede516c37d0d2b1851a1.bindPopup(popup_3e516b063d33a57660650f095dfc7b72)\n",
       "        ;\n",
       "\n",
       "        \n",
       "    \n",
       "    \n",
       "            var poly_line_998c09825b777dd8683be62edcd7b279 = L.polyline(\n",
       "                [[51.41981183144666, -0.965613299822586], [51.418562157454765, -0.9723409156683347], [51.41405888086795, -0.9735053636290363], [51.410805539504636, -0.967942999068892], [51.41205524258632, -0.9612164412430707], [51.416558257925054, -0.9600511900667946]],\n",
       "                {&quot;bubblingMouseEvents&quot;: true, &quot;color&quot;: &quot;Orange&quot;, &quot;dashArray&quot;: null, &quot;dashOffset&quot;: null, &quot;fill&quot;: true, &quot;fillColor&quot;: &quot;Orange&quot;, &quot;fillOpacity&quot;: 0.4, &quot;fillRule&quot;: &quot;evenodd&quot;, &quot;lineCap&quot;: &quot;round&quot;, &quot;lineJoin&quot;: &quot;round&quot;, &quot;noClip&quot;: false, &quot;opacity&quot;: 1, &quot;smoothFactor&quot;: 1.0, &quot;stroke&quot;: true, &quot;weight&quot;: 1}\n",
       "            ).addTo(map_42bc33039f62dc425db42b7ba118e17e);\n",
       "        \n",
       "    \n",
       "        var popup_0208bd035f2197d523044b51f7f96b74 = L.popup({&quot;maxWidth&quot;: 300});\n",
       "\n",
       "        \n",
       "            \n",
       "                var html_b6035fe1f37192fddbad795c73e5a220 = $(`&lt;div id=&quot;html_b6035fe1f37192fddbad795c73e5a220&quot; style=&quot;width: 100.0%; height: 100.0%;&quot;&gt;Fail Orders: 10&lt;/div&gt;`)[0];\n",
       "                popup_0208bd035f2197d523044b51f7f96b74.setContent(html_b6035fe1f37192fddbad795c73e5a220);\n",
       "            \n",
       "        \n",
       "\n",
       "        poly_line_998c09825b777dd8683be62edcd7b279.bindPopup(popup_0208bd035f2197d523044b51f7f96b74)\n",
       "        ;\n",
       "\n",
       "        \n",
       "    \n",
       "    \n",
       "            var poly_line_d10ce8d8c10ae8ffa11a3270968f2716 = L.polyline(\n",
       "                [[51.42902701636329, -0.8927853765351784], [51.427782249484714, -0.8995115757840595], [51.42328147652307, -0.9006812095209957], [51.42002573219496, -0.8951254455479354], [51.42127052918565, -0.8884003051872795], [51.42577104037597, -0.887229870020997]],\n",
       "                {&quot;bubblingMouseEvents&quot;: true, &quot;color&quot;: &quot;Orange&quot;, &quot;dashArray&quot;: null, &quot;dashOffset&quot;: null, &quot;fill&quot;: true, &quot;fillColor&quot;: &quot;Orange&quot;, &quot;fillOpacity&quot;: 0.4, &quot;fillRule&quot;: &quot;evenodd&quot;, &quot;lineCap&quot;: &quot;round&quot;, &quot;lineJoin&quot;: &quot;round&quot;, &quot;noClip&quot;: false, &quot;opacity&quot;: 1, &quot;smoothFactor&quot;: 1.0, &quot;stroke&quot;: true, &quot;weight&quot;: 1}\n",
       "            ).addTo(map_42bc33039f62dc425db42b7ba118e17e);\n",
       "        \n",
       "    \n",
       "        var popup_d60d8b3dfdd6928d372675b821619e5d = L.popup({&quot;maxWidth&quot;: 300});\n",
       "\n",
       "        \n",
       "            \n",
       "                var html_fef739f088214e5f57bd96055785dcc1 = $(`&lt;div id=&quot;html_fef739f088214e5f57bd96055785dcc1&quot; style=&quot;width: 100.0%; height: 100.0%;&quot;&gt;Fail Orders: 10&lt;/div&gt;`)[0];\n",
       "                popup_d60d8b3dfdd6928d372675b821619e5d.setContent(html_fef739f088214e5f57bd96055785dcc1);\n",
       "            \n",
       "        \n",
       "\n",
       "        poly_line_d10ce8d8c10ae8ffa11a3270968f2716.bindPopup(popup_d60d8b3dfdd6928d372675b821619e5d)\n",
       "        ;\n",
       "\n",
       "        \n",
       "    \n",
       "    \n",
       "            var poly_line_5efbee9cc6aff224653cf799caf437cb = L.polyline(\n",
       "                [[51.467803162310695, -0.9147309154392851], [51.46655854450935, -0.9214624129463265], [51.46205889550498, -0.922631329685646], [51.458804125667214, -0.917069552157372], [51.46004877308605, -0.9103391148110574], [51.464548160708716, -0.9091693949420129]],\n",
       "                {&quot;bubblingMouseEvents&quot;: true, &quot;color&quot;: &quot;Orange&quot;, &quot;dashArray&quot;: null, &quot;dashOffset&quot;: null, &quot;fill&quot;: true, &quot;fillColor&quot;: &quot;Orange&quot;, &quot;fillOpacity&quot;: 0.4, &quot;fillRule&quot;: &quot;evenodd&quot;, &quot;lineCap&quot;: &quot;round&quot;, &quot;lineJoin&quot;: &quot;round&quot;, &quot;noClip&quot;: false, &quot;opacity&quot;: 1, &quot;smoothFactor&quot;: 1.0, &quot;stroke&quot;: true, &quot;weight&quot;: 1}\n",
       "            ).addTo(map_42bc33039f62dc425db42b7ba118e17e);\n",
       "        \n",
       "    \n",
       "        var popup_d93f5008be5266dc581e67a282108e4b = L.popup({&quot;maxWidth&quot;: 300});\n",
       "\n",
       "        \n",
       "            \n",
       "                var html_cba165fb213c7dd465e839eb8edddf8f = $(`&lt;div id=&quot;html_cba165fb213c7dd465e839eb8edddf8f&quot; style=&quot;width: 100.0%; height: 100.0%;&quot;&gt;Fail Orders: 10&lt;/div&gt;`)[0];\n",
       "                popup_d93f5008be5266dc581e67a282108e4b.setContent(html_cba165fb213c7dd465e839eb8edddf8f);\n",
       "            \n",
       "        \n",
       "\n",
       "        poly_line_5efbee9cc6aff224653cf799caf437cb.bindPopup(popup_d93f5008be5266dc581e67a282108e4b)\n",
       "        ;\n",
       "\n",
       "        \n",
       "    \n",
       "    \n",
       "            var poly_line_1f9e4d925f8ea3e317a6a26e05f01a10 = L.polyline(\n",
       "                [[51.47555713076936, -0.9191240636274798], [51.47431254248642, -0.9258566215498801], [51.46981311871276, -0.9270253944192896], [51.46655854450935, -0.9214624129463265], [51.467803162310695, -0.9147309154392851], [51.472302324780614, -0.9135613390995897]],\n",
       "                {&quot;bubblingMouseEvents&quot;: true, &quot;color&quot;: &quot;Orange&quot;, &quot;dashArray&quot;: null, &quot;dashOffset&quot;: null, &quot;fill&quot;: true, &quot;fillColor&quot;: &quot;Orange&quot;, &quot;fillOpacity&quot;: 0.4, &quot;fillRule&quot;: &quot;evenodd&quot;, &quot;lineCap&quot;: &quot;round&quot;, &quot;lineJoin&quot;: &quot;round&quot;, &quot;noClip&quot;: false, &quot;opacity&quot;: 1, &quot;smoothFactor&quot;: 1.0, &quot;stroke&quot;: true, &quot;weight&quot;: 1}\n",
       "            ).addTo(map_42bc33039f62dc425db42b7ba118e17e);\n",
       "        \n",
       "    \n",
       "        var popup_6938e0b9b8f59110d2a6db72b3b38175 = L.popup({&quot;maxWidth&quot;: 300});\n",
       "\n",
       "        \n",
       "            \n",
       "                var html_d48d8c570fefd1fec622174bda432368 = $(`&lt;div id=&quot;html_d48d8c570fefd1fec622174bda432368&quot; style=&quot;width: 100.0%; height: 100.0%;&quot;&gt;Fail Orders: 10&lt;/div&gt;`)[0];\n",
       "                popup_6938e0b9b8f59110d2a6db72b3b38175.setContent(html_d48d8c570fefd1fec622174bda432368);\n",
       "            \n",
       "        \n",
       "\n",
       "        poly_line_1f9e4d925f8ea3e317a6a26e05f01a10.bindPopup(popup_6938e0b9b8f59110d2a6db72b3b38175)\n",
       "        ;\n",
       "\n",
       "        \n",
       "    \n",
       "    \n",
       "            var poly_line_e9bde24457c0e0137830328b96fefee5 = L.polyline(\n",
       "                [[51.485320301405054, -0.9358175691340537], [51.48407505330337, -0.9425518451251487], [51.4795755937892, -0.9437196697544302], [51.47632164347779, -0.938154022715492], [51.47756692081006, -0.9314208073791405], [51.48206611920668, -0.9302521785367416]],\n",
       "                {&quot;bubblingMouseEvents&quot;: true, &quot;color&quot;: &quot;Orange&quot;, &quot;dashArray&quot;: null, &quot;dashOffset&quot;: null, &quot;fill&quot;: true, &quot;fillColor&quot;: &quot;Orange&quot;, &quot;fillOpacity&quot;: 0.4, &quot;fillRule&quot;: &quot;evenodd&quot;, &quot;lineCap&quot;: &quot;round&quot;, &quot;lineJoin&quot;: &quot;round&quot;, &quot;noClip&quot;: false, &quot;opacity&quot;: 1, &quot;smoothFactor&quot;: 1.0, &quot;stroke&quot;: true, &quot;weight&quot;: 1}\n",
       "            ).addTo(map_42bc33039f62dc425db42b7ba118e17e);\n",
       "        \n",
       "    \n",
       "        var popup_193f6499f1f8ae23fa73d7f1240c0373 = L.popup({&quot;maxWidth&quot;: 300});\n",
       "\n",
       "        \n",
       "            \n",
       "                var html_e0a823e2cb4f0591db53308b7ace99ff = $(`&lt;div id=&quot;html_e0a823e2cb4f0591db53308b7ace99ff&quot; style=&quot;width: 100.0%; height: 100.0%;&quot;&gt;Fail Orders: 9&lt;/div&gt;`)[0];\n",
       "                popup_193f6499f1f8ae23fa73d7f1240c0373.setContent(html_e0a823e2cb4f0591db53308b7ace99ff);\n",
       "            \n",
       "        \n",
       "\n",
       "        poly_line_e9bde24457c0e0137830328b96fefee5.bindPopup(popup_193f6499f1f8ae23fa73d7f1240c0373)\n",
       "        ;\n",
       "\n",
       "        \n",
       "    \n",
       "    \n",
       "            var poly_line_277b0cf180d1ff3d0a5f0a9191caa307 = L.polyline(\n",
       "                [[51.4387937031369, -0.9094572191578383], [51.437548278164975, -0.9161851350378828], [51.4330474681164, -0.917353823518131], [51.42979234460876, -0.9117953983982504], [51.431037799405544, -0.9050685416462863], [51.435538347868714, -0.9038990509956638]],\n",
       "                {&quot;bubblingMouseEvents&quot;: true, &quot;color&quot;: &quot;Orange&quot;, &quot;dashArray&quot;: null, &quot;dashOffset&quot;: null, &quot;fill&quot;: true, &quot;fillColor&quot;: &quot;Orange&quot;, &quot;fillOpacity&quot;: 0.4, &quot;fillRule&quot;: &quot;evenodd&quot;, &quot;lineCap&quot;: &quot;round&quot;, &quot;lineJoin&quot;: &quot;round&quot;, &quot;noClip&quot;: false, &quot;opacity&quot;: 1, &quot;smoothFactor&quot;: 1.0, &quot;stroke&quot;: true, &quot;weight&quot;: 1}\n",
       "            ).addTo(map_42bc33039f62dc425db42b7ba118e17e);\n",
       "        \n",
       "    \n",
       "        var popup_6d1cd294cdae0e1c9bffdea7458a2533 = L.popup({&quot;maxWidth&quot;: 300});\n",
       "\n",
       "        \n",
       "            \n",
       "                var html_c628af34a97c639afc153a0b8487b6a5 = $(`&lt;div id=&quot;html_c628af34a97c639afc153a0b8487b6a5&quot; style=&quot;width: 100.0%; height: 100.0%;&quot;&gt;Fail Orders: 9&lt;/div&gt;`)[0];\n",
       "                popup_6d1cd294cdae0e1c9bffdea7458a2533.setContent(html_c628af34a97c639afc153a0b8487b6a5);\n",
       "            \n",
       "        \n",
       "\n",
       "        poly_line_277b0cf180d1ff3d0a5f0a9191caa307.bindPopup(popup_6d1cd294cdae0e1c9bffdea7458a2533)\n",
       "        ;\n",
       "\n",
       "        \n",
       "    \n",
       "    \n",
       "            var poly_line_294b3bb79ff645b909ac0f73a171534a = L.polyline(\n",
       "                [[51.455080110673464, -1.0526314629607738], [51.45382638226058, -1.059366171254216], [51.449322216127705, -1.060525349922091], [51.446072038752185, -1.0549506270463211], [51.44732579482588, -1.0482169774267664], [51.45182970059766, -1.0470569921184034]],\n",
       "                {&quot;bubblingMouseEvents&quot;: true, &quot;color&quot;: &quot;Orange&quot;, &quot;dashArray&quot;: null, &quot;dashOffset&quot;: null, &quot;fill&quot;: true, &quot;fillColor&quot;: &quot;Orange&quot;, &quot;fillOpacity&quot;: 0.4, &quot;fillRule&quot;: &quot;evenodd&quot;, &quot;lineCap&quot;: &quot;round&quot;, &quot;lineJoin&quot;: &quot;round&quot;, &quot;noClip&quot;: false, &quot;opacity&quot;: 1, &quot;smoothFactor&quot;: 1.0, &quot;stroke&quot;: true, &quot;weight&quot;: 1}\n",
       "            ).addTo(map_42bc33039f62dc425db42b7ba118e17e);\n",
       "        \n",
       "    \n",
       "        var popup_fe33e2a820b96c71be26c47e9d981d0f = L.popup({&quot;maxWidth&quot;: 300});\n",
       "\n",
       "        \n",
       "            \n",
       "                var html_11af9b6252815c0fd16f8ac1227e1128 = $(`&lt;div id=&quot;html_11af9b6252815c0fd16f8ac1227e1128&quot; style=&quot;width: 100.0%; height: 100.0%;&quot;&gt;Fail Orders: 9&lt;/div&gt;`)[0];\n",
       "                popup_fe33e2a820b96c71be26c47e9d981d0f.setContent(html_11af9b6252815c0fd16f8ac1227e1128);\n",
       "            \n",
       "        \n",
       "\n",
       "        poly_line_294b3bb79ff645b909ac0f73a171534a.bindPopup(popup_fe33e2a820b96c71be26c47e9d981d0f)\n",
       "        ;\n",
       "\n",
       "        \n",
       "    \n",
       "    \n",
       "            var poly_line_76ca96e0c2a1d763252da8de48bd0277 = L.polyline(\n",
       "                [[51.49134246396298, -0.972727307958518], [51.49009514671398, -0.9794635531780692], [51.4855949044972, -0.9806289627561398], [51.48234224030534, -0.9750589326433398], [51.48358958621871, -0.9683237480305151], [51.48808956764306, -0.9671575330334359]],\n",
       "                {&quot;bubblingMouseEvents&quot;: true, &quot;color&quot;: &quot;Orange&quot;, &quot;dashArray&quot;: null, &quot;dashOffset&quot;: null, &quot;fill&quot;: true, &quot;fillColor&quot;: &quot;Orange&quot;, &quot;fillOpacity&quot;: 0.4, &quot;fillRule&quot;: &quot;evenodd&quot;, &quot;lineCap&quot;: &quot;round&quot;, &quot;lineJoin&quot;: &quot;round&quot;, &quot;noClip&quot;: false, &quot;opacity&quot;: 1, &quot;smoothFactor&quot;: 1.0, &quot;stroke&quot;: true, &quot;weight&quot;: 1}\n",
       "            ).addTo(map_42bc33039f62dc425db42b7ba118e17e);\n",
       "        \n",
       "    \n",
       "        var popup_fbdcddbe9c20124d68e0efcb82670c67 = L.popup({&quot;maxWidth&quot;: 300});\n",
       "\n",
       "        \n",
       "            \n",
       "                var html_dbcc4089606588b47eac81ef79e746cb = $(`&lt;div id=&quot;html_dbcc4089606588b47eac81ef79e746cb&quot; style=&quot;width: 100.0%; height: 100.0%;&quot;&gt;Fail Orders: 8&lt;/div&gt;`)[0];\n",
       "                popup_fbdcddbe9c20124d68e0efcb82670c67.setContent(html_dbcc4089606588b47eac81ef79e746cb);\n",
       "            \n",
       "        \n",
       "\n",
       "        poly_line_76ca96e0c2a1d763252da8de48bd0277.bindPopup(popup_fbdcddbe9c20124d68e0efcb82670c67)\n",
       "        ;\n",
       "\n",
       "        \n",
       "    \n",
       "    \n",
       "            var poly_line_96d9a3eb744497d40914a28a96026fab = L.polyline(\n",
       "                [[51.425291309983784, -0.9129642303046451], [51.424045137294776, -0.9196906852087792], [51.41954361660678, -0.9208588584929681], [51.41628853022466, -0.9153013788743124], [51.41753473274782, -0.9085759825751464], [51.422035991802574, -0.9074070073991267]],\n",
       "                {&quot;bubblingMouseEvents&quot;: true, &quot;color&quot;: &quot;Orange&quot;, &quot;dashArray&quot;: null, &quot;dashOffset&quot;: null, &quot;fill&quot;: true, &quot;fillColor&quot;: &quot;Orange&quot;, &quot;fillOpacity&quot;: 0.4, &quot;fillRule&quot;: &quot;evenodd&quot;, &quot;lineCap&quot;: &quot;round&quot;, &quot;lineJoin&quot;: &quot;round&quot;, &quot;noClip&quot;: false, &quot;opacity&quot;: 1, &quot;smoothFactor&quot;: 1.0, &quot;stroke&quot;: true, &quot;weight&quot;: 1}\n",
       "            ).addTo(map_42bc33039f62dc425db42b7ba118e17e);\n",
       "        \n",
       "    \n",
       "        var popup_676587d4e5b60f579aeb90dca95b70b1 = L.popup({&quot;maxWidth&quot;: 300});\n",
       "\n",
       "        \n",
       "            \n",
       "                var html_e96c19fa892f98924a8099d72f4d7e0a = $(`&lt;div id=&quot;html_e96c19fa892f98924a8099d72f4d7e0a&quot; style=&quot;width: 100.0%; height: 100.0%;&quot;&gt;Fail Orders: 8&lt;/div&gt;`)[0];\n",
       "                popup_676587d4e5b60f579aeb90dca95b70b1.setContent(html_e96c19fa892f98924a8099d72f4d7e0a);\n",
       "            \n",
       "        \n",
       "\n",
       "        poly_line_96d9a3eb744497d40914a28a96026fab.bindPopup(popup_676587d4e5b60f579aeb90dca95b70b1)\n",
       "        ;\n",
       "\n",
       "        \n",
       "    \n",
       "    \n",
       "            var poly_line_f75b1961ddb765ef2bac28c35eee0f4f = L.polyline(\n",
       "                [[51.443563117396664, -1.0684181699577526], [51.44230795204929, -1.0751520628805074], [51.437802814620056, -1.076309922984578], [51.434553102821134, -1.070734697033738], [51.43580829565045, -1.064001862241893], [51.4403131727801, -1.0628431953792115]],\n",
       "                {&quot;bubblingMouseEvents&quot;: true, &quot;color&quot;: &quot;Orange&quot;, &quot;dashArray&quot;: null, &quot;dashOffset&quot;: null, &quot;fill&quot;: true, &quot;fillColor&quot;: &quot;Orange&quot;, &quot;fillOpacity&quot;: 0.4, &quot;fillRule&quot;: &quot;evenodd&quot;, &quot;lineCap&quot;: &quot;round&quot;, &quot;lineJoin&quot;: &quot;round&quot;, &quot;noClip&quot;: false, &quot;opacity&quot;: 1, &quot;smoothFactor&quot;: 1.0, &quot;stroke&quot;: true, &quot;weight&quot;: 1}\n",
       "            ).addTo(map_42bc33039f62dc425db42b7ba118e17e);\n",
       "        \n",
       "    \n",
       "        var popup_087080bb3674b94cb7c99259126c60e5 = L.popup({&quot;maxWidth&quot;: 300});\n",
       "\n",
       "        \n",
       "            \n",
       "                var html_625d51ee366caf7683346554bcbf7b17 = $(`&lt;div id=&quot;html_625d51ee366caf7683346554bcbf7b17&quot; style=&quot;width: 100.0%; height: 100.0%;&quot;&gt;Fail Orders: 8&lt;/div&gt;`)[0];\n",
       "                popup_087080bb3674b94cb7c99259126c60e5.setContent(html_625d51ee366caf7683346554bcbf7b17);\n",
       "            \n",
       "        \n",
       "\n",
       "        poly_line_f75b1961ddb765ef2bac28c35eee0f4f.bindPopup(popup_087080bb3674b94cb7c99259126c60e5)\n",
       "        ;\n",
       "\n",
       "        \n",
       "    \n",
       "    \n",
       "            var poly_line_e62b94dbe5448c58646554c45585c93c = L.polyline(\n",
       "                [[51.49307326010601, -0.9402156802531578], [51.491828041135655, -0.946951017153606], [51.487328807222795, -0.94811869725764], [51.48407505330337, -0.9425518451251487], [51.485320301405054, -0.9358175691340537], [51.48981927427837, -0.9346490844758834]],\n",
       "                {&quot;bubblingMouseEvents&quot;: true, &quot;color&quot;: &quot;Orange&quot;, &quot;dashArray&quot;: null, &quot;dashOffset&quot;: null, &quot;fill&quot;: true, &quot;fillColor&quot;: &quot;Orange&quot;, &quot;fillOpacity&quot;: 0.4, &quot;fillRule&quot;: &quot;evenodd&quot;, &quot;lineCap&quot;: &quot;round&quot;, &quot;lineJoin&quot;: &quot;round&quot;, &quot;noClip&quot;: false, &quot;opacity&quot;: 1, &quot;smoothFactor&quot;: 1.0, &quot;stroke&quot;: true, &quot;weight&quot;: 1}\n",
       "            ).addTo(map_42bc33039f62dc425db42b7ba118e17e);\n",
       "        \n",
       "    \n",
       "        var popup_33e2f85ccfbd1069a7b30ac3547365bf = L.popup({&quot;maxWidth&quot;: 300});\n",
       "\n",
       "        \n",
       "            \n",
       "                var html_8ba9f49025de8d8dc5bd8d1eb5c057d7 = $(`&lt;div id=&quot;html_8ba9f49025de8d8dc5bd8d1eb5c057d7&quot; style=&quot;width: 100.0%; height: 100.0%;&quot;&gt;Fail Orders: 7&lt;/div&gt;`)[0];\n",
       "                popup_33e2f85ccfbd1069a7b30ac3547365bf.setContent(html_8ba9f49025de8d8dc5bd8d1eb5c057d7);\n",
       "            \n",
       "        \n",
       "\n",
       "        poly_line_e62b94dbe5448c58646554c45585c93c.bindPopup(popup_33e2f85ccfbd1069a7b30ac3547365bf)\n",
       "        ;\n",
       "\n",
       "        \n",
       "    \n",
       "    \n",
       "            var poly_line_fd1123b5083d690fcbf9e296c929d605 = L.polyline(\n",
       "                [[51.46579208988832, -0.9024385553572041], [51.464548160708716, -0.9091693949420129], [51.46004877308605, -0.9103391148110574], [51.45679357611629, -0.9047787979328586], [51.45803753510193, -0.8980490185234835], [51.46253666123489, -0.8968784959265803]],\n",
       "                {&quot;bubblingMouseEvents&quot;: true, &quot;color&quot;: &quot;Orange&quot;, &quot;dashArray&quot;: null, &quot;dashOffset&quot;: null, &quot;fill&quot;: true, &quot;fillColor&quot;: &quot;Orange&quot;, &quot;fillOpacity&quot;: 0.4, &quot;fillRule&quot;: &quot;evenodd&quot;, &quot;lineCap&quot;: &quot;round&quot;, &quot;lineJoin&quot;: &quot;round&quot;, &quot;noClip&quot;: false, &quot;opacity&quot;: 1, &quot;smoothFactor&quot;: 1.0, &quot;stroke&quot;: true, &quot;weight&quot;: 1}\n",
       "            ).addTo(map_42bc33039f62dc425db42b7ba118e17e);\n",
       "        \n",
       "    \n",
       "        var popup_d0ecc0812374c7291ab8a86d722c019c = L.popup({&quot;maxWidth&quot;: 300});\n",
       "\n",
       "        \n",
       "            \n",
       "                var html_d04f2a04cb10176c314f455e8eb0a134 = $(`&lt;div id=&quot;html_d04f2a04cb10176c314f455e8eb0a134&quot; style=&quot;width: 100.0%; height: 100.0%;&quot;&gt;Fail Orders: 7&lt;/div&gt;`)[0];\n",
       "                popup_d0ecc0812374c7291ab8a86d722c019c.setContent(html_d04f2a04cb10176c314f455e8eb0a134);\n",
       "            \n",
       "        \n",
       "\n",
       "        poly_line_fd1123b5083d690fcbf9e296c929d605.bindPopup(popup_d0ecc0812374c7291ab8a86d722c019c)\n",
       "        ;\n",
       "\n",
       "        \n",
       "    \n",
       "    \n",
       "            var poly_line_69b38e38149b0538fc7a049645879079 = L.polyline(\n",
       "                [[51.435574513003964, -1.0191979557919344], [51.43432210973284, -1.0259292432790337], [51.42981801415626, -1.027090328016333], [51.42656658256978, -1.0215209305333937], [51.42781901407759, -1.0147907012511836], [51.43232284891865, -1.0136288113563077]],\n",
       "                {&quot;bubblingMouseEvents&quot;: true, &quot;color&quot;: &quot;Orange&quot;, &quot;dashArray&quot;: null, &quot;dashOffset&quot;: null, &quot;fill&quot;: true, &quot;fillColor&quot;: &quot;Orange&quot;, &quot;fillOpacity&quot;: 0.4, &quot;fillRule&quot;: &quot;evenodd&quot;, &quot;lineCap&quot;: &quot;round&quot;, &quot;lineJoin&quot;: &quot;round&quot;, &quot;noClip&quot;: false, &quot;opacity&quot;: 1, &quot;smoothFactor&quot;: 1.0, &quot;stroke&quot;: true, &quot;weight&quot;: 1}\n",
       "            ).addTo(map_42bc33039f62dc425db42b7ba118e17e);\n",
       "        \n",
       "    \n",
       "        var popup_9f27583f9059f005e20b52c6ef016fb0 = L.popup({&quot;maxWidth&quot;: 300});\n",
       "\n",
       "        \n",
       "            \n",
       "                var html_493546201fc83a4df49516e1a57376bf = $(`&lt;div id=&quot;html_493546201fc83a4df49516e1a57376bf&quot; style=&quot;width: 100.0%; height: 100.0%;&quot;&gt;Fail Orders: 7&lt;/div&gt;`)[0];\n",
       "                popup_9f27583f9059f005e20b52c6ef016fb0.setContent(html_493546201fc83a4df49516e1a57376bf);\n",
       "            \n",
       "        \n",
       "\n",
       "        poly_line_69b38e38149b0538fc7a049645879079.bindPopup(popup_9f27583f9059f005e20b52c6ef016fb0)\n",
       "        ;\n",
       "\n",
       "        \n",
       "    \n",
       "    \n",
       "            var poly_line_41c89787ddf15ad1906c44243ceb5450 = L.polyline(\n",
       "                [[51.4080446185399, -0.9366449331154055], [51.406796292410725, -0.9433701812278471], [51.402293314126915, -0.944536379377929], [51.39903892349867, -0.9389781315997503], [51.40028727919325, -0.9322539412854782], [51.40478999593429, -0.9310869410605056]],\n",
       "                {&quot;bubblingMouseEvents&quot;: true, &quot;color&quot;: &quot;Orange&quot;, &quot;dashArray&quot;: null, &quot;dashOffset&quot;: null, &quot;fill&quot;: true, &quot;fillColor&quot;: &quot;Orange&quot;, &quot;fillOpacity&quot;: 0.4, &quot;fillRule&quot;: &quot;evenodd&quot;, &quot;lineCap&quot;: &quot;round&quot;, &quot;lineJoin&quot;: &quot;round&quot;, &quot;noClip&quot;: false, &quot;opacity&quot;: 1, &quot;smoothFactor&quot;: 1.0, &quot;stroke&quot;: true, &quot;weight&quot;: 1}\n",
       "            ).addTo(map_42bc33039f62dc425db42b7ba118e17e);\n",
       "        \n",
       "    \n",
       "        var popup_7bc9b94b8e8542d5281a16cc8e794d35 = L.popup({&quot;maxWidth&quot;: 300});\n",
       "\n",
       "        \n",
       "            \n",
       "                var html_2ac6cd5a83b1b09b07b0fe0226061587 = $(`&lt;div id=&quot;html_2ac6cd5a83b1b09b07b0fe0226061587&quot; style=&quot;width: 100.0%; height: 100.0%;&quot;&gt;Fail Orders: 7&lt;/div&gt;`)[0];\n",
       "                popup_7bc9b94b8e8542d5281a16cc8e794d35.setContent(html_2ac6cd5a83b1b09b07b0fe0226061587);\n",
       "            \n",
       "        \n",
       "\n",
       "        poly_line_41c89787ddf15ad1906c44243ceb5450.bindPopup(popup_7bc9b94b8e8542d5281a16cc8e794d35)\n",
       "        ;\n",
       "\n",
       "        \n",
       "    \n",
       "    \n",
       "            var poly_line_ef15d09f0cc3d2508dbc8c3ad06ca779 = L.polyline(\n",
       "                [[51.45602518213861, -0.8857610414058976], [51.454781911347155, -0.8924901623860853], [51.45028256028571, -0.8936608280152583], [51.44702674167492, -0.8881031747597349], [51.44827004255988, -0.881375113714493], [51.45276913194578, -0.8802036460995196]],\n",
       "                {&quot;bubblingMouseEvents&quot;: true, &quot;color&quot;: &quot;Orange&quot;, &quot;dashArray&quot;: null, &quot;dashOffset&quot;: null, &quot;fill&quot;: true, &quot;fillColor&quot;: &quot;Orange&quot;, &quot;fillOpacity&quot;: 0.4, &quot;fillRule&quot;: &quot;evenodd&quot;, &quot;lineCap&quot;: &quot;round&quot;, &quot;lineJoin&quot;: &quot;round&quot;, &quot;noClip&quot;: false, &quot;opacity&quot;: 1, &quot;smoothFactor&quot;: 1.0, &quot;stroke&quot;: true, &quot;weight&quot;: 1}\n",
       "            ).addTo(map_42bc33039f62dc425db42b7ba118e17e);\n",
       "        \n",
       "    \n",
       "        var popup_82c29666064821c263bd1f77a53be825 = L.popup({&quot;maxWidth&quot;: 300});\n",
       "\n",
       "        \n",
       "            \n",
       "                var html_4fada6bfe632037603322ca51d80c127 = $(`&lt;div id=&quot;html_4fada6bfe632037603322ca51d80c127&quot; style=&quot;width: 100.0%; height: 100.0%;&quot;&gt;Fail Orders: 7&lt;/div&gt;`)[0];\n",
       "                popup_82c29666064821c263bd1f77a53be825.setContent(html_4fada6bfe632037603322ca51d80c127);\n",
       "            \n",
       "        \n",
       "\n",
       "        poly_line_ef15d09f0cc3d2508dbc8c3ad06ca779.bindPopup(popup_82c29666064821c263bd1f77a53be825)\n",
       "        ;\n",
       "\n",
       "        \n",
       "    \n",
       "    \n",
       "            var poly_line_f5c0fd518d2bd9b9068261165cd8c594 = L.polyline(\n",
       "                [[51.464593011988136, -1.0245316525033845], [51.46334141135082, -1.0312665228115372], [51.45883847733337, -1.0324278270597], [51.45558740446801, -1.0268550672300594], [51.45683903313376, -1.020121256156723], [51.46134170661987, -1.018959145787654]],\n",
       "                {&quot;bubblingMouseEvents&quot;: true, &quot;color&quot;: &quot;Orange&quot;, &quot;dashArray&quot;: null, &quot;dashOffset&quot;: null, &quot;fill&quot;: true, &quot;fillColor&quot;: &quot;Orange&quot;, &quot;fillOpacity&quot;: 0.4, &quot;fillRule&quot;: &quot;evenodd&quot;, &quot;lineCap&quot;: &quot;round&quot;, &quot;lineJoin&quot;: &quot;round&quot;, &quot;noClip&quot;: false, &quot;opacity&quot;: 1, &quot;smoothFactor&quot;: 1.0, &quot;stroke&quot;: true, &quot;weight&quot;: 1}\n",
       "            ).addTo(map_42bc33039f62dc425db42b7ba118e17e);\n",
       "        \n",
       "    \n",
       "        var popup_c72c7d6c45d89cabcbeb96bd8672b2aa = L.popup({&quot;maxWidth&quot;: 300});\n",
       "\n",
       "        \n",
       "            \n",
       "                var html_82d1b95d7ac6d33cdfb15d5633ffd7c4 = $(`&lt;div id=&quot;html_82d1b95d7ac6d33cdfb15d5633ffd7c4&quot; style=&quot;width: 100.0%; height: 100.0%;&quot;&gt;Fail Orders: 5&lt;/div&gt;`)[0];\n",
       "                popup_c72c7d6c45d89cabcbeb96bd8672b2aa.setContent(html_82d1b95d7ac6d33cdfb15d5633ffd7c4);\n",
       "            \n",
       "        \n",
       "\n",
       "        poly_line_f5c0fd518d2bd9b9068261165cd8c594.bindPopup(popup_c72c7d6c45d89cabcbeb96bd8672b2aa)\n",
       "        ;\n",
       "\n",
       "        \n",
       "    \n",
       "    \n",
       "            var poly_line_fbcb0172c3623337ff4528cffc2736ae = L.polyline(\n",
       "                [[51.48184938788786, -1.0008367323518803], [51.48059994304798, -1.0075728214816106], [51.47609846740423, -1.0087361050652026], [51.47284669720677, -1.0031641055699279], [51.47409617034335, -0.9964290764882627], [51.47859738536414, -0.9952649869633675]],\n",
       "                {&quot;bubblingMouseEvents&quot;: true, &quot;color&quot;: &quot;Orange&quot;, &quot;dashArray&quot;: null, &quot;dashOffset&quot;: null, &quot;fill&quot;: true, &quot;fillColor&quot;: &quot;Orange&quot;, &quot;fillOpacity&quot;: 0.4, &quot;fillRule&quot;: &quot;evenodd&quot;, &quot;lineCap&quot;: &quot;round&quot;, &quot;lineJoin&quot;: &quot;round&quot;, &quot;noClip&quot;: false, &quot;opacity&quot;: 1, &quot;smoothFactor&quot;: 1.0, &quot;stroke&quot;: true, &quot;weight&quot;: 1}\n",
       "            ).addTo(map_42bc33039f62dc425db42b7ba118e17e);\n",
       "        \n",
       "    \n",
       "        var popup_ebb2f7f4ef55940ff4f31c5bab68fe1d = L.popup({&quot;maxWidth&quot;: 300});\n",
       "\n",
       "        \n",
       "            \n",
       "                var html_ff7a6510f46dce2bfeb2039b5942c942 = $(`&lt;div id=&quot;html_ff7a6510f46dce2bfeb2039b5942c942&quot; style=&quot;width: 100.0%; height: 100.0%;&quot;&gt;Fail Orders: 5&lt;/div&gt;`)[0];\n",
       "                popup_ebb2f7f4ef55940ff4f31c5bab68fe1d.setContent(html_ff7a6510f46dce2bfeb2039b5942c942);\n",
       "            \n",
       "        \n",
       "\n",
       "        poly_line_fbcb0172c3623337ff4528cffc2736ae.bindPopup(popup_ebb2f7f4ef55940ff4f31c5bab68fe1d)\n",
       "        ;\n",
       "\n",
       "        \n",
       "    \n",
       "    \n",
       "            var poly_line_2b74cdbec3405ca5ed3f0246c47b480a = L.polyline(\n",
       "                [[51.482098634741725, -1.0456698717531796], [51.48084639880605, -1.0524075137816469], [51.47634365581467, -1.0535677170520419], [51.4730934090081, -1.0479910856084076], [51.474345672584555, -1.041254503302781], [51.47884815531015, -1.040093492827429]],\n",
       "                {&quot;bubblingMouseEvents&quot;: true, &quot;color&quot;: &quot;Orange&quot;, &quot;dashArray&quot;: null, &quot;dashOffset&quot;: null, &quot;fill&quot;: true, &quot;fillColor&quot;: &quot;Orange&quot;, &quot;fillOpacity&quot;: 0.4, &quot;fillRule&quot;: &quot;evenodd&quot;, &quot;lineCap&quot;: &quot;round&quot;, &quot;lineJoin&quot;: &quot;round&quot;, &quot;noClip&quot;: false, &quot;opacity&quot;: 1, &quot;smoothFactor&quot;: 1.0, &quot;stroke&quot;: true, &quot;weight&quot;: 1}\n",
       "            ).addTo(map_42bc33039f62dc425db42b7ba118e17e);\n",
       "        \n",
       "    \n",
       "        var popup_6ab6193b86c59e5d062b0b8f7b0edcb9 = L.popup({&quot;maxWidth&quot;: 300});\n",
       "\n",
       "        \n",
       "            \n",
       "                var html_daec872ee92d205c052867cf6c746ccb = $(`&lt;div id=&quot;html_daec872ee92d205c052867cf6c746ccb&quot; style=&quot;width: 100.0%; height: 100.0%;&quot;&gt;Fail Orders: 5&lt;/div&gt;`)[0];\n",
       "                popup_6ab6193b86c59e5d062b0b8f7b0edcb9.setContent(html_daec872ee92d205c052867cf6c746ccb);\n",
       "            \n",
       "        \n",
       "\n",
       "        poly_line_2b74cdbec3405ca5ed3f0246c47b480a.bindPopup(popup_6ab6193b86c59e5d062b0b8f7b0edcb9)\n",
       "        ;\n",
       "\n",
       "        \n",
       "    \n",
       "    \n",
       "            var poly_line_4f0816c90f159a8051a04a55d968c7c9 = L.polyline(\n",
       "                [[51.449322216127705, -1.060525349922091], [51.44806776922733, -1.06725965063364], [51.443563117396664, -1.0684181699577526], [51.4403131727801, -1.0628431953792115], [51.441567647251865, -1.0561099530700706], [51.446072038752185, -1.0549506270463211]],\n",
       "                {&quot;bubblingMouseEvents&quot;: true, &quot;color&quot;: &quot;Orange&quot;, &quot;dashArray&quot;: null, &quot;dashOffset&quot;: null, &quot;fill&quot;: true, &quot;fillColor&quot;: &quot;Orange&quot;, &quot;fillOpacity&quot;: 0.4, &quot;fillRule&quot;: &quot;evenodd&quot;, &quot;lineCap&quot;: &quot;round&quot;, &quot;lineJoin&quot;: &quot;round&quot;, &quot;noClip&quot;: false, &quot;opacity&quot;: 1, &quot;smoothFactor&quot;: 1.0, &quot;stroke&quot;: true, &quot;weight&quot;: 1}\n",
       "            ).addTo(map_42bc33039f62dc425db42b7ba118e17e);\n",
       "        \n",
       "    \n",
       "        var popup_4f82be388ec60aae809ded50096d68f2 = L.popup({&quot;maxWidth&quot;: 300});\n",
       "\n",
       "        \n",
       "            \n",
       "                var html_7b6ce95a5ac5a841829e62e6f5340a5f = $(`&lt;div id=&quot;html_7b6ce95a5ac5a841829e62e6f5340a5f&quot; style=&quot;width: 100.0%; height: 100.0%;&quot;&gt;Fail Orders: 5&lt;/div&gt;`)[0];\n",
       "                popup_4f82be388ec60aae809ded50096d68f2.setContent(html_7b6ce95a5ac5a841829e62e6f5340a5f);\n",
       "            \n",
       "        \n",
       "\n",
       "        poly_line_4f0816c90f159a8051a04a55d968c7c9.bindPopup(popup_4f82be388ec60aae809ded50096d68f2)\n",
       "        ;\n",
       "\n",
       "        \n",
       "    \n",
       "    \n",
       "            var poly_line_02fd13f9e5ad73e3e29979f9d8bc5e74 = L.polyline(\n",
       "                [[51.46377990203177, -0.8901483147566178], [51.46253666123489, -0.8968784959265803], [51.45803753510193, -0.8980490185234835], [51.454781911347155, -0.8924901623860853], [51.45602518213861, -0.8857610414058976], [51.460524046673875, -0.8845897164830784]],\n",
       "                {&quot;bubblingMouseEvents&quot;: true, &quot;color&quot;: &quot;Orange&quot;, &quot;dashArray&quot;: null, &quot;dashOffset&quot;: null, &quot;fill&quot;: true, &quot;fillColor&quot;: &quot;Orange&quot;, &quot;fillOpacity&quot;: 0.4, &quot;fillRule&quot;: &quot;evenodd&quot;, &quot;lineCap&quot;: &quot;round&quot;, &quot;lineJoin&quot;: &quot;round&quot;, &quot;noClip&quot;: false, &quot;opacity&quot;: 1, &quot;smoothFactor&quot;: 1.0, &quot;stroke&quot;: true, &quot;weight&quot;: 1}\n",
       "            ).addTo(map_42bc33039f62dc425db42b7ba118e17e);\n",
       "        \n",
       "    \n",
       "        var popup_32b72b5a3d3243151b9941d3078f585f = L.popup({&quot;maxWidth&quot;: 300});\n",
       "\n",
       "        \n",
       "            \n",
       "                var html_0ac59718d9ef8f2d98374c1c2bc8a0f2 = $(`&lt;div id=&quot;html_0ac59718d9ef8f2d98374c1c2bc8a0f2&quot; style=&quot;width: 100.0%; height: 100.0%;&quot;&gt;Fail Orders: 5&lt;/div&gt;`)[0];\n",
       "                popup_32b72b5a3d3243151b9941d3078f585f.setContent(html_0ac59718d9ef8f2d98374c1c2bc8a0f2);\n",
       "            \n",
       "        \n",
       "\n",
       "        poly_line_02fd13f9e5ad73e3e29979f9d8bc5e74.bindPopup(popup_32b72b5a3d3243151b9941d3078f585f)\n",
       "        ;\n",
       "\n",
       "        \n",
       "    \n",
       "    \n",
       "            var poly_line_05c5b0cc8698e72912a377603e96f963 = L.polyline(\n",
       "                [[51.47928808119502, -0.8989269007079473], [51.47804490009021, -0.9056592030222337], [51.47354622425319, -0.9068294390845814], [51.47029099094646, -0.9012681759492065], [51.47153420184775, -0.8945369343345763], [51.476032616242904, -0.8933658952654671]],\n",
       "                {&quot;bubblingMouseEvents&quot;: true, &quot;color&quot;: &quot;Orange&quot;, &quot;dashArray&quot;: null, &quot;dashOffset&quot;: null, &quot;fill&quot;: true, &quot;fillColor&quot;: &quot;Orange&quot;, &quot;fillOpacity&quot;: 0.4, &quot;fillRule&quot;: &quot;evenodd&quot;, &quot;lineCap&quot;: &quot;round&quot;, &quot;lineJoin&quot;: &quot;round&quot;, &quot;noClip&quot;: false, &quot;opacity&quot;: 1, &quot;smoothFactor&quot;: 1.0, &quot;stroke&quot;: true, &quot;weight&quot;: 1}\n",
       "            ).addTo(map_42bc33039f62dc425db42b7ba118e17e);\n",
       "        \n",
       "    \n",
       "        var popup_bf9b3c777bf5c7786b377c88a687c3bd = L.popup({&quot;maxWidth&quot;: 300});\n",
       "\n",
       "        \n",
       "            \n",
       "                var html_cf46f738b2365dc191f1307d02c9ad3c = $(`&lt;div id=&quot;html_cf46f738b2365dc191f1307d02c9ad3c&quot; style=&quot;width: 100.0%; height: 100.0%;&quot;&gt;Fail Orders: 5&lt;/div&gt;`)[0];\n",
       "                popup_bf9b3c777bf5c7786b377c88a687c3bd.setContent(html_cf46f738b2365dc191f1307d02c9ad3c);\n",
       "            \n",
       "        \n",
       "\n",
       "        poly_line_05c5b0cc8698e72912a377603e96f963.bindPopup(popup_bf9b3c777bf5c7786b377c88a687c3bd)\n",
       "        ;\n",
       "\n",
       "        \n",
       "    \n",
       "    \n",
       "            var poly_line_22ea67016315747466d89cdb5cae6a1a = L.polyline(\n",
       "                [[51.47354622425319, -0.9068294390845814], [51.472302324780614, -0.9135613390995897], [51.467803162310695, -0.9147309154392851], [51.464548160708716, -0.9091693949420129], [51.46579208988832, -0.9024385553572041], [51.47029099094646, -0.9012681759492065]],\n",
       "                {&quot;bubblingMouseEvents&quot;: true, &quot;color&quot;: &quot;Orange&quot;, &quot;dashArray&quot;: null, &quot;dashOffset&quot;: null, &quot;fill&quot;: true, &quot;fillColor&quot;: &quot;Orange&quot;, &quot;fillOpacity&quot;: 0.4, &quot;fillRule&quot;: &quot;evenodd&quot;, &quot;lineCap&quot;: &quot;round&quot;, &quot;lineJoin&quot;: &quot;round&quot;, &quot;noClip&quot;: false, &quot;opacity&quot;: 1, &quot;smoothFactor&quot;: 1.0, &quot;stroke&quot;: true, &quot;weight&quot;: 1}\n",
       "            ).addTo(map_42bc33039f62dc425db42b7ba118e17e);\n",
       "        \n",
       "    \n",
       "        var popup_1ff2cacad8d7bf77945c4cd1cf176669 = L.popup({&quot;maxWidth&quot;: 300});\n",
       "\n",
       "        \n",
       "            \n",
       "                var html_f38afe88e156133d0b249263aee88097 = $(`&lt;div id=&quot;html_f38afe88e156133d0b249263aee88097&quot; style=&quot;width: 100.0%; height: 100.0%;&quot;&gt;Fail Orders: 4&lt;/div&gt;`)[0];\n",
       "                popup_1ff2cacad8d7bf77945c4cd1cf176669.setContent(html_f38afe88e156133d0b249263aee88097);\n",
       "            \n",
       "        \n",
       "\n",
       "        poly_line_22ea67016315747466d89cdb5cae6a1a.bindPopup(popup_1ff2cacad8d7bf77945c4cd1cf176669)\n",
       "        ;\n",
       "\n",
       "        \n",
       "    \n",
       "    \n",
       "            var poly_line_8a15c61ac517ce87cf1e620bcc9745df = L.polyline(\n",
       "                [[51.49909491877848, -0.9771322192502055], [51.497847630094455, -0.9838695253307082], [51.49334761371331, -0.985034789359558], [51.49009514671398, -0.9794635531780692], [51.49134246396298, -0.972727307958518], [51.49584221962982, -0.971561238169227]],\n",
       "                {&quot;bubblingMouseEvents&quot;: true, &quot;color&quot;: &quot;Orange&quot;, &quot;dashArray&quot;: null, &quot;dashOffset&quot;: null, &quot;fill&quot;: true, &quot;fillColor&quot;: &quot;Orange&quot;, &quot;fillOpacity&quot;: 0.4, &quot;fillRule&quot;: &quot;evenodd&quot;, &quot;lineCap&quot;: &quot;round&quot;, &quot;lineJoin&quot;: &quot;round&quot;, &quot;noClip&quot;: false, &quot;opacity&quot;: 1, &quot;smoothFactor&quot;: 1.0, &quot;stroke&quot;: true, &quot;weight&quot;: 1}\n",
       "            ).addTo(map_42bc33039f62dc425db42b7ba118e17e);\n",
       "        \n",
       "    \n",
       "        var popup_1e91c8c850075a1bfeeb5f93eb9b7754 = L.popup({&quot;maxWidth&quot;: 300});\n",
       "\n",
       "        \n",
       "            \n",
       "                var html_f4f2552b6cde3a73123f719a9575150b = $(`&lt;div id=&quot;html_f4f2552b6cde3a73123f719a9575150b&quot; style=&quot;width: 100.0%; height: 100.0%;&quot;&gt;Fail Orders: 4&lt;/div&gt;`)[0];\n",
       "                popup_1e91c8c850075a1bfeeb5f93eb9b7754.setContent(html_f4f2552b6cde3a73123f719a9575150b);\n",
       "            \n",
       "        \n",
       "\n",
       "        poly_line_8a15c61ac517ce87cf1e620bcc9745df.bindPopup(popup_1e91c8c850075a1bfeeb5f93eb9b7754)\n",
       "        ;\n",
       "\n",
       "        \n",
       "    \n",
       "    \n",
       "            var poly_line_5daed6ff36ad203511c8d17420b7ae07 = L.polyline(\n",
       "                [[51.49535164360253, -0.9973443873417926], [51.494102945728315, -1.0040819429028067], [51.4896021822524, -1.0052457404372994], [51.48635037720939, -0.9996727887431305], [51.48759910337035, -0.9929362937550877], [51.49209960627101, -0.9917716899978921]],\n",
       "                {&quot;bubblingMouseEvents&quot;: true, &quot;color&quot;: &quot;Orange&quot;, &quot;dashArray&quot;: null, &quot;dashOffset&quot;: null, &quot;fill&quot;: true, &quot;fillColor&quot;: &quot;Orange&quot;, &quot;fillOpacity&quot;: 0.4, &quot;fillRule&quot;: &quot;evenodd&quot;, &quot;lineCap&quot;: &quot;round&quot;, &quot;lineJoin&quot;: &quot;round&quot;, &quot;noClip&quot;: false, &quot;opacity&quot;: 1, &quot;smoothFactor&quot;: 1.0, &quot;stroke&quot;: true, &quot;weight&quot;: 1}\n",
       "            ).addTo(map_42bc33039f62dc425db42b7ba118e17e);\n",
       "        \n",
       "    \n",
       "        var popup_e13d23062d1a4a26ad428d2d4137cc98 = L.popup({&quot;maxWidth&quot;: 300});\n",
       "\n",
       "        \n",
       "            \n",
       "                var html_d705981b00ccead22e903f5730c2a870 = $(`&lt;div id=&quot;html_d705981b00ccead22e903f5730c2a870&quot; style=&quot;width: 100.0%; height: 100.0%;&quot;&gt;Fail Orders: 4&lt;/div&gt;`)[0];\n",
       "                popup_e13d23062d1a4a26ad428d2d4137cc98.setContent(html_d705981b00ccead22e903f5730c2a870);\n",
       "            \n",
       "        \n",
       "\n",
       "        poly_line_5daed6ff36ad203511c8d17420b7ae07.bindPopup(popup_e13d23062d1a4a26ad428d2d4137cc98)\n",
       "        ;\n",
       "\n",
       "        \n",
       "    \n",
       "    \n",
       "            var poly_line_9283bc6e50760bd76e5b005e4c954e09 = L.polyline(\n",
       "                [[51.46176659932714, -0.8778601942201403], [51.460524046673875, -0.8845897164830784], [51.45602518213861, -0.8857610414058976], [51.45276913194578, -0.8802036460995196], [51.4540117147821, -0.8734751840403859], [51.45851031761183, -0.872303057193574]],\n",
       "                {&quot;bubblingMouseEvents&quot;: true, &quot;color&quot;: &quot;Orange&quot;, &quot;dashArray&quot;: null, &quot;dashOffset&quot;: null, &quot;fill&quot;: true, &quot;fillColor&quot;: &quot;Orange&quot;, &quot;fillOpacity&quot;: 0.4, &quot;fillRule&quot;: &quot;evenodd&quot;, &quot;lineCap&quot;: &quot;round&quot;, &quot;lineJoin&quot;: &quot;round&quot;, &quot;noClip&quot;: false, &quot;opacity&quot;: 1, &quot;smoothFactor&quot;: 1.0, &quot;stroke&quot;: true, &quot;weight&quot;: 1}\n",
       "            ).addTo(map_42bc33039f62dc425db42b7ba118e17e);\n",
       "        \n",
       "    \n",
       "        var popup_68f03fb055a7084e30f080584ffc0d85 = L.popup({&quot;maxWidth&quot;: 300});\n",
       "\n",
       "        \n",
       "            \n",
       "                var html_d1c4ac55cf18685b823569312fb9be6a = $(`&lt;div id=&quot;html_d1c4ac55cf18685b823569312fb9be6a&quot; style=&quot;width: 100.0%; height: 100.0%;&quot;&gt;Fail Orders: 4&lt;/div&gt;`)[0];\n",
       "                popup_68f03fb055a7084e30f080584ffc0d85.setContent(html_d1c4ac55cf18685b823569312fb9be6a);\n",
       "            \n",
       "        \n",
       "\n",
       "        poly_line_9283bc6e50760bd76e5b005e4c954e09.bindPopup(popup_68f03fb055a7084e30f080584ffc0d85)\n",
       "        ;\n",
       "\n",
       "        \n",
       "    \n",
       "    \n",
       "            var poly_line_5f428249e38f21bb0d2aa3c1c87b9276 = L.polyline(\n",
       "                [[51.44051448368722, -0.8769905311147317], [51.43927115260983, -0.8837175324798667], [51.43477135213058, -0.8848884837041994], [51.43151514454362, -0.8793332349790637], [51.43275850591224, -0.8726072930393082], [51.437258044560224, -0.8714355405089552]],\n",
       "                {&quot;bubblingMouseEvents&quot;: true, &quot;color&quot;: &quot;Orange&quot;, &quot;dashArray&quot;: null, &quot;dashOffset&quot;: null, &quot;fill&quot;: true, &quot;fillColor&quot;: &quot;Orange&quot;, &quot;fillOpacity&quot;: 0.4, &quot;fillRule&quot;: &quot;evenodd&quot;, &quot;lineCap&quot;: &quot;round&quot;, &quot;lineJoin&quot;: &quot;round&quot;, &quot;noClip&quot;: false, &quot;opacity&quot;: 1, &quot;smoothFactor&quot;: 1.0, &quot;stroke&quot;: true, &quot;weight&quot;: 1}\n",
       "            ).addTo(map_42bc33039f62dc425db42b7ba118e17e);\n",
       "        \n",
       "    \n",
       "        var popup_b7afc5b73d6ebf4a599f8b04167eb7af = L.popup({&quot;maxWidth&quot;: 300});\n",
       "\n",
       "        \n",
       "            \n",
       "                var html_d2a7b2c6ab003b643d3aca1624c6047c = $(`&lt;div id=&quot;html_d2a7b2c6ab003b643d3aca1624c6047c&quot; style=&quot;width: 100.0%; height: 100.0%;&quot;&gt;Fail Orders: 4&lt;/div&gt;`)[0];\n",
       "                popup_b7afc5b73d6ebf4a599f8b04167eb7af.setContent(html_d2a7b2c6ab003b643d3aca1624c6047c);\n",
       "            \n",
       "        \n",
       "\n",
       "        poly_line_5f428249e38f21bb0d2aa3c1c87b9276.bindPopup(popup_b7afc5b73d6ebf4a599f8b04167eb7af)\n",
       "        ;\n",
       "\n",
       "        \n",
       "    \n",
       "    \n",
       "            var poly_line_c1eab19732cd2386881eacf582dc787a = L.polyline(\n",
       "                [[51.468590440219174, -1.049151436186078], [51.46733745798505, -1.0558876110525293], [51.46283400323175, -1.0570473018561912], [51.459583791009365, -1.0514716248254892], [51.460836800894334, -1.0447365091572272], [51.46533999533419, -1.043576011430873]],\n",
       "                {&quot;bubblingMouseEvents&quot;: true, &quot;color&quot;: &quot;Orange&quot;, &quot;dashArray&quot;: null, &quot;dashOffset&quot;: null, &quot;fill&quot;: true, &quot;fillColor&quot;: &quot;Orange&quot;, &quot;fillOpacity&quot;: 0.4, &quot;fillRule&quot;: &quot;evenodd&quot;, &quot;lineCap&quot;: &quot;round&quot;, &quot;lineJoin&quot;: &quot;round&quot;, &quot;noClip&quot;: false, &quot;opacity&quot;: 1, &quot;smoothFactor&quot;: 1.0, &quot;stroke&quot;: true, &quot;weight&quot;: 1}\n",
       "            ).addTo(map_42bc33039f62dc425db42b7ba118e17e);\n",
       "        \n",
       "    \n",
       "        var popup_ee1419763c8abea3a16475a7bebc1c40 = L.popup({&quot;maxWidth&quot;: 300});\n",
       "\n",
       "        \n",
       "            \n",
       "                var html_46bc7bfd5b002ebe9fde4bc540fa8b06 = $(`&lt;div id=&quot;html_46bc7bfd5b002ebe9fde4bc540fa8b06&quot; style=&quot;width: 100.0%; height: 100.0%;&quot;&gt;Fail Orders: 4&lt;/div&gt;`)[0];\n",
       "                popup_ee1419763c8abea3a16475a7bebc1c40.setContent(html_46bc7bfd5b002ebe9fde4bc540fa8b06);\n",
       "            \n",
       "        \n",
       "\n",
       "        poly_line_c1eab19732cd2386881eacf582dc787a.bindPopup(popup_ee1419763c8abea3a16475a7bebc1c40)\n",
       "        ;\n",
       "\n",
       "        \n",
       "    \n",
       "    \n",
       "            var poly_line_e7757531794e7253b6fe3879473f9623 = L.polyline(\n",
       "                [[51.480099700188774, -1.0333565032900058], [51.47884815531015, -1.040093492827429], [51.474345672584555, -1.041254503302781], [51.471094995095726, -1.0356793311540256], [51.47234656780399, -1.0289434013578491], [51.476848790154826, -1.0277815840786877]],\n",
       "                {&quot;bubblingMouseEvents&quot;: true, &quot;color&quot;: &quot;Orange&quot;, &quot;dashArray&quot;: null, &quot;dashOffset&quot;: null, &quot;fill&quot;: true, &quot;fillColor&quot;: &quot;Orange&quot;, &quot;fillOpacity&quot;: 0.4, &quot;fillRule&quot;: &quot;evenodd&quot;, &quot;lineCap&quot;: &quot;round&quot;, &quot;lineJoin&quot;: &quot;round&quot;, &quot;noClip&quot;: false, &quot;opacity&quot;: 1, &quot;smoothFactor&quot;: 1.0, &quot;stroke&quot;: true, &quot;weight&quot;: 1}\n",
       "            ).addTo(map_42bc33039f62dc425db42b7ba118e17e);\n",
       "        \n",
       "    \n",
       "        var popup_96b5923c26ce18bdc8acc14fcedea8f0 = L.popup({&quot;maxWidth&quot;: 300});\n",
       "\n",
       "        \n",
       "            \n",
       "                var html_86745e6ddf34378a9c4ccceb726465c6 = $(`&lt;div id=&quot;html_86745e6ddf34378a9c4ccceb726465c6&quot; style=&quot;width: 100.0%; height: 100.0%;&quot;&gt;Fail Orders: 4&lt;/div&gt;`)[0];\n",
       "                popup_96b5923c26ce18bdc8acc14fcedea8f0.setContent(html_86745e6ddf34378a9c4ccceb726465c6);\n",
       "            \n",
       "        \n",
       "\n",
       "        poly_line_e7757531794e7253b6fe3879473f9623.bindPopup(popup_96b5923c26ce18bdc8acc14fcedea8f0)\n",
       "        ;\n",
       "\n",
       "        \n",
       "    \n",
       "    \n",
       "            var poly_line_3ceabf570e305fa6d3b7c0b8c7c08dae = L.polyline(\n",
       "                [[51.484096447288124, -1.0579853523254399], [51.4828435200573, -1.0647236463470897], [51.478340516909185, -1.0658830420113898], [51.47509070113195, -1.0603049513696066], [51.47634365581467, -1.0535677170520419], [51.48084639880605, -1.0524075137816469]],\n",
       "                {&quot;bubblingMouseEvents&quot;: true, &quot;color&quot;: &quot;Orange&quot;, &quot;dashArray&quot;: null, &quot;dashOffset&quot;: null, &quot;fill&quot;: true, &quot;fillColor&quot;: &quot;Orange&quot;, &quot;fillOpacity&quot;: 0.4, &quot;fillRule&quot;: &quot;evenodd&quot;, &quot;lineCap&quot;: &quot;round&quot;, &quot;lineJoin&quot;: &quot;round&quot;, &quot;noClip&quot;: false, &quot;opacity&quot;: 1, &quot;smoothFactor&quot;: 1.0, &quot;stroke&quot;: true, &quot;weight&quot;: 1}\n",
       "            ).addTo(map_42bc33039f62dc425db42b7ba118e17e);\n",
       "        \n",
       "    \n",
       "        var popup_3094ef91371892f66a83d8a42d54e5f2 = L.popup({&quot;maxWidth&quot;: 300});\n",
       "\n",
       "        \n",
       "            \n",
       "                var html_bb9aa6bfc658d00435f9f702feeb0c82 = $(`&lt;div id=&quot;html_bb9aa6bfc658d00435f9f702feeb0c82&quot; style=&quot;width: 100.0%; height: 100.0%;&quot;&gt;Fail Orders: 3&lt;/div&gt;`)[0];\n",
       "                popup_3094ef91371892f66a83d8a42d54e5f2.setContent(html_bb9aa6bfc658d00435f9f702feeb0c82);\n",
       "            \n",
       "        \n",
       "\n",
       "        poly_line_3ceabf570e305fa6d3b7c0b8c7c08dae.bindPopup(popup_3094ef91371892f66a83d8a42d54e5f2)\n",
       "        ;\n",
       "\n",
       "        \n",
       "    \n",
       "    \n",
       "            var poly_line_78adf1d97347daf55ab44ea022d21361 = L.polyline(\n",
       "                [[51.41606140254228, -0.9857963974483128], [51.414810321555606, -0.992524263014619], [51.41030629818409, -0.9936872488616749], [51.40705361689205, -0.9881231729278305], [51.40830472669053, -0.9813963650951636], [51.412808488952784, -0.9802325755719475]],\n",
       "                {&quot;bubblingMouseEvents&quot;: true, &quot;color&quot;: &quot;Orange&quot;, &quot;dashArray&quot;: null, &quot;dashOffset&quot;: null, &quot;fill&quot;: true, &quot;fillColor&quot;: &quot;Orange&quot;, &quot;fillOpacity&quot;: 0.4, &quot;fillRule&quot;: &quot;evenodd&quot;, &quot;lineCap&quot;: &quot;round&quot;, &quot;lineJoin&quot;: &quot;round&quot;, &quot;noClip&quot;: false, &quot;opacity&quot;: 1, &quot;smoothFactor&quot;: 1.0, &quot;stroke&quot;: true, &quot;weight&quot;: 1}\n",
       "            ).addTo(map_42bc33039f62dc425db42b7ba118e17e);\n",
       "        \n",
       "    \n",
       "        var popup_4cc2c5fb87b816e4f52a0dc94296a009 = L.popup({&quot;maxWidth&quot;: 300});\n",
       "\n",
       "        \n",
       "            \n",
       "                var html_6543fcbab444fdbaa602ae2eb746304b = $(`&lt;div id=&quot;html_6543fcbab444fdbaa602ae2eb746304b&quot; style=&quot;width: 100.0%; height: 100.0%;&quot;&gt;Fail Orders: 3&lt;/div&gt;`)[0];\n",
       "                popup_4cc2c5fb87b816e4f52a0dc94296a009.setContent(html_6543fcbab444fdbaa602ae2eb746304b);\n",
       "            \n",
       "        \n",
       "\n",
       "        poly_line_78adf1d97347daf55ab44ea022d21361.bindPopup(popup_4cc2c5fb87b816e4f52a0dc94296a009)\n",
       "        ;\n",
       "\n",
       "        \n",
       "    \n",
       "    \n",
       "            var poly_line_c4a7003fcafe5a511c118db72b937d40 = L.polyline(\n",
       "                [[51.42127052918565, -0.8884003051872795], [51.42002573219496, -0.8951254455479354], [51.41552473488145, -0.8962952222148102], [51.41226879639144, -0.8907406597203195], [51.41351362359292, -0.8840165779935397], [51.418014359057274, -0.882846000236846]],\n",
       "                {&quot;bubblingMouseEvents&quot;: true, &quot;color&quot;: &quot;Orange&quot;, &quot;dashArray&quot;: null, &quot;dashOffset&quot;: null, &quot;fill&quot;: true, &quot;fillColor&quot;: &quot;Orange&quot;, &quot;fillOpacity&quot;: 0.4, &quot;fillRule&quot;: &quot;evenodd&quot;, &quot;lineCap&quot;: &quot;round&quot;, &quot;lineJoin&quot;: &quot;round&quot;, &quot;noClip&quot;: false, &quot;opacity&quot;: 1, &quot;smoothFactor&quot;: 1.0, &quot;stroke&quot;: true, &quot;weight&quot;: 1}\n",
       "            ).addTo(map_42bc33039f62dc425db42b7ba118e17e);\n",
       "        \n",
       "    \n",
       "        var popup_60cd986958cccd7159f5c0716108b49c = L.popup({&quot;maxWidth&quot;: 300});\n",
       "\n",
       "        \n",
       "            \n",
       "                var html_d05952227d98c330c1c531108fceefa9 = $(`&lt;div id=&quot;html_d05952227d98c330c1c531108fceefa9&quot; style=&quot;width: 100.0%; height: 100.0%;&quot;&gt;Fail Orders: 3&lt;/div&gt;`)[0];\n",
       "                popup_60cd986958cccd7159f5c0716108b49c.setContent(html_d05952227d98c330c1c531108fceefa9);\n",
       "            \n",
       "        \n",
       "\n",
       "        poly_line_c4a7003fcafe5a511c118db72b937d40.bindPopup(popup_60cd986958cccd7159f5c0716108b49c)\n",
       "        ;\n",
       "\n",
       "        \n",
       "    \n",
       "    \n",
       "            var poly_line_929a387f3dc151cd5bde52cea3a7d336 = L.polyline(\n",
       "                [[51.41205524258632, -0.9612164412430707], [51.410805539504636, -0.967942999068892], [51.40630203846015, -0.9691075918680558], [51.40304850180706, -0.9635464298262776], [51.404298234077416, -0.9568209297670461], [51.40880147379574, -0.955655534092255]],\n",
       "                {&quot;bubblingMouseEvents&quot;: true, &quot;color&quot;: &quot;Orange&quot;, &quot;dashArray&quot;: null, &quot;dashOffset&quot;: null, &quot;fill&quot;: true, &quot;fillColor&quot;: &quot;Orange&quot;, &quot;fillOpacity&quot;: 0.4, &quot;fillRule&quot;: &quot;evenodd&quot;, &quot;lineCap&quot;: &quot;round&quot;, &quot;lineJoin&quot;: &quot;round&quot;, &quot;noClip&quot;: false, &quot;opacity&quot;: 1, &quot;smoothFactor&quot;: 1.0, &quot;stroke&quot;: true, &quot;weight&quot;: 1}\n",
       "            ).addTo(map_42bc33039f62dc425db42b7ba118e17e);\n",
       "        \n",
       "    \n",
       "        var popup_1ba004f23edf9a16812b13d629882eee = L.popup({&quot;maxWidth&quot;: 300});\n",
       "\n",
       "        \n",
       "            \n",
       "                var html_2e8b7231a55e52fbbbc3b56c527b2896 = $(`&lt;div id=&quot;html_2e8b7231a55e52fbbbc3b56c527b2896&quot; style=&quot;width: 100.0%; height: 100.0%;&quot;&gt;Fail Orders: 3&lt;/div&gt;`)[0];\n",
       "                popup_1ba004f23edf9a16812b13d629882eee.setContent(html_2e8b7231a55e52fbbbc3b56c527b2896);\n",
       "            \n",
       "        \n",
       "\n",
       "        poly_line_929a387f3dc151cd5bde52cea3a7d336.bindPopup(popup_1ba004f23edf9a16812b13d629882eee)\n",
       "        ;\n",
       "\n",
       "        \n",
       "    \n",
       "    \n",
       "            var poly_line_8a05e1ad841919c53f0077a0893c2906 = L.polyline(\n",
       "                [[51.49881650763266, -0.932311599239694], [51.497572007309785, -0.9390473399365262], [51.49307326010601, -0.9402156802531578], [51.48981927427837, -0.9346490844758834], [51.49106380382202, -0.9279144049586178], [51.495562289956055, -0.9267452601489197]],\n",
       "                {&quot;bubblingMouseEvents&quot;: true, &quot;color&quot;: &quot;Orange&quot;, &quot;dashArray&quot;: null, &quot;dashOffset&quot;: null, &quot;fill&quot;: true, &quot;fillColor&quot;: &quot;Orange&quot;, &quot;fillOpacity&quot;: 0.4, &quot;fillRule&quot;: &quot;evenodd&quot;, &quot;lineCap&quot;: &quot;round&quot;, &quot;lineJoin&quot;: &quot;round&quot;, &quot;noClip&quot;: false, &quot;opacity&quot;: 1, &quot;smoothFactor&quot;: 1.0, &quot;stroke&quot;: true, &quot;weight&quot;: 1}\n",
       "            ).addTo(map_42bc33039f62dc425db42b7ba118e17e);\n",
       "        \n",
       "    \n",
       "        var popup_ab636adbd40b5dfa4c77c6caeef2da22 = L.popup({&quot;maxWidth&quot;: 300});\n",
       "\n",
       "        \n",
       "            \n",
       "                var html_c50a6af9e8c8e151ef5e47fcaf7f2e6c = $(`&lt;div id=&quot;html_c50a6af9e8c8e151ef5e47fcaf7f2e6c&quot; style=&quot;width: 100.0%; height: 100.0%;&quot;&gt;Fail Orders: 3&lt;/div&gt;`)[0];\n",
       "                popup_ab636adbd40b5dfa4c77c6caeef2da22.setContent(html_c50a6af9e8c8e151ef5e47fcaf7f2e6c);\n",
       "            \n",
       "        \n",
       "\n",
       "        poly_line_8a05e1ad841919c53f0077a0893c2906.bindPopup(popup_ab636adbd40b5dfa4c77c6caeef2da22)\n",
       "        ;\n",
       "\n",
       "        \n",
       "    \n",
       "    \n",
       "            var poly_line_ceb78bdb179aaea09b1d3e2978708e5e = L.polyline(\n",
       "                [[51.49106380382202, -0.9279144049586178], [51.48981927427837, -0.9346490844758834], [51.485320301405054, -0.9358175691340537], [51.48206611920668, -0.9302521785367416], [51.48331067807036, -0.9235185599442898], [51.48780938979593, -0.9223492711341451]],\n",
       "                {&quot;bubblingMouseEvents&quot;: true, &quot;color&quot;: &quot;Orange&quot;, &quot;dashArray&quot;: null, &quot;dashOffset&quot;: null, &quot;fill&quot;: true, &quot;fillColor&quot;: &quot;Orange&quot;, &quot;fillOpacity&quot;: 0.4, &quot;fillRule&quot;: &quot;evenodd&quot;, &quot;lineCap&quot;: &quot;round&quot;, &quot;lineJoin&quot;: &quot;round&quot;, &quot;noClip&quot;: false, &quot;opacity&quot;: 1, &quot;smoothFactor&quot;: 1.0, &quot;stroke&quot;: true, &quot;weight&quot;: 1}\n",
       "            ).addTo(map_42bc33039f62dc425db42b7ba118e17e);\n",
       "        \n",
       "    \n",
       "        var popup_bb2e551489a272c8ebc8f708606e36f4 = L.popup({&quot;maxWidth&quot;: 300});\n",
       "\n",
       "        \n",
       "            \n",
       "                var html_a96a0bbc451eb6d90015bce84098d1a2 = $(`&lt;div id=&quot;html_a96a0bbc451eb6d90015bce84098d1a2&quot; style=&quot;width: 100.0%; height: 100.0%;&quot;&gt;Fail Orders: 2&lt;/div&gt;`)[0];\n",
       "                popup_bb2e551489a272c8ebc8f708606e36f4.setContent(html_a96a0bbc451eb6d90015bce84098d1a2);\n",
       "            \n",
       "        \n",
       "\n",
       "        poly_line_ceb78bdb179aaea09b1d3e2978708e5e.bindPopup(popup_bb2e551489a272c8ebc8f708606e36f4)\n",
       "        ;\n",
       "\n",
       "        \n",
       "    \n",
       "    \n",
       "            var poly_line_00c4aea45b2945242796c91a4f7a65f0 = L.polyline(\n",
       "                [[51.43181589483424, -1.0393920641645253], [51.43056208314106, -1.0461235971942597], [51.426057241346335, -1.047283217454472], [51.42280647182423, -1.041712110411483], [51.424060311475955, -1.034981635297777], [51.428564892674636, -1.0338212094202455]],\n",
       "                {&quot;bubblingMouseEvents&quot;: true, &quot;color&quot;: &quot;Orange&quot;, &quot;dashArray&quot;: null, &quot;dashOffset&quot;: null, &quot;fill&quot;: true, &quot;fillColor&quot;: &quot;Orange&quot;, &quot;fillOpacity&quot;: 0.4, &quot;fillRule&quot;: &quot;evenodd&quot;, &quot;lineCap&quot;: &quot;round&quot;, &quot;lineJoin&quot;: &quot;round&quot;, &quot;noClip&quot;: false, &quot;opacity&quot;: 1, &quot;smoothFactor&quot;: 1.0, &quot;stroke&quot;: true, &quot;weight&quot;: 1}\n",
       "            ).addTo(map_42bc33039f62dc425db42b7ba118e17e);\n",
       "        \n",
       "    \n",
       "        var popup_5b2afe77e36b34f4bebca6be746b3ad4 = L.popup({&quot;maxWidth&quot;: 300});\n",
       "\n",
       "        \n",
       "            \n",
       "                var html_1d863e9e9464416f3e3111384ae7135b = $(`&lt;div id=&quot;html_1d863e9e9464416f3e3111384ae7135b&quot; style=&quot;width: 100.0%; height: 100.0%;&quot;&gt;Fail Orders: 2&lt;/div&gt;`)[0];\n",
       "                popup_5b2afe77e36b34f4bebca6be746b3ad4.setContent(html_1d863e9e9464416f3e3111384ae7135b);\n",
       "            \n",
       "        \n",
       "\n",
       "        poly_line_00c4aea45b2945242796c91a4f7a65f0.bindPopup(popup_5b2afe77e36b34f4bebca6be746b3ad4)\n",
       "        ;\n",
       "\n",
       "        \n",
       "    \n",
       "    \n",
       "            var poly_line_db9f70cf33f93c817466f4d2f47a8e73 = L.polyline(\n",
       "                [[51.47634365581467, -1.0535677170520419], [51.47509070113195, -1.0603049513696066], [51.47058747210792, -1.0614644946829774], [51.46733745798505, -1.0558876110525293], [51.468590440219174, -1.049151436186078], [51.4730934090081, -1.0479910856084076]],\n",
       "                {&quot;bubblingMouseEvents&quot;: true, &quot;color&quot;: &quot;Orange&quot;, &quot;dashArray&quot;: null, &quot;dashOffset&quot;: null, &quot;fill&quot;: true, &quot;fillColor&quot;: &quot;Orange&quot;, &quot;fillOpacity&quot;: 0.4, &quot;fillRule&quot;: &quot;evenodd&quot;, &quot;lineCap&quot;: &quot;round&quot;, &quot;lineJoin&quot;: &quot;round&quot;, &quot;noClip&quot;: false, &quot;opacity&quot;: 1, &quot;smoothFactor&quot;: 1.0, &quot;stroke&quot;: true, &quot;weight&quot;: 1}\n",
       "            ).addTo(map_42bc33039f62dc425db42b7ba118e17e);\n",
       "        \n",
       "    \n",
       "        var popup_b297140d94f78bb451006900fa4b7ea7 = L.popup({&quot;maxWidth&quot;: 300});\n",
       "\n",
       "        \n",
       "            \n",
       "                var html_746ca44019c6025a048195e4191b6ae9 = $(`&lt;div id=&quot;html_746ca44019c6025a048195e4191b6ae9&quot; style=&quot;width: 100.0%; height: 100.0%;&quot;&gt;Fail Orders: 2&lt;/div&gt;`)[0];\n",
       "                popup_b297140d94f78bb451006900fa4b7ea7.setContent(html_746ca44019c6025a048195e4191b6ae9);\n",
       "            \n",
       "        \n",
       "\n",
       "        poly_line_db9f70cf33f93c817466f4d2f47a8e73.bindPopup(popup_b297140d94f78bb451006900fa4b7ea7)\n",
       "        ;\n",
       "\n",
       "        \n",
       "    \n",
       "    \n",
       "            var poly_line_332753d2bc2eb901d4ba00e7a1a80a7a = L.polyline(\n",
       "                [[51.48985117272979, -1.0500865945166007], [51.488598964335395, -1.056825296521078], [51.484096447288124, -1.0579853523254399], [51.48084639880605, -1.0524075137816469], [51.482098634741725, -1.0456698717531796], [51.48660089160153, -1.0445090084020114]],\n",
       "                {&quot;bubblingMouseEvents&quot;: true, &quot;color&quot;: &quot;Orange&quot;, &quot;dashArray&quot;: null, &quot;dashOffset&quot;: null, &quot;fill&quot;: true, &quot;fillColor&quot;: &quot;Orange&quot;, &quot;fillOpacity&quot;: 0.4, &quot;fillRule&quot;: &quot;evenodd&quot;, &quot;lineCap&quot;: &quot;round&quot;, &quot;lineJoin&quot;: &quot;round&quot;, &quot;noClip&quot;: false, &quot;opacity&quot;: 1, &quot;smoothFactor&quot;: 1.0, &quot;stroke&quot;: true, &quot;weight&quot;: 1}\n",
       "            ).addTo(map_42bc33039f62dc425db42b7ba118e17e);\n",
       "        \n",
       "    \n",
       "        var popup_61352720fe9ce86f20f6df19af72ea41 = L.popup({&quot;maxWidth&quot;: 300});\n",
       "\n",
       "        \n",
       "            \n",
       "                var html_e195ea465278c0a73cceb9bc260f6ea1 = $(`&lt;div id=&quot;html_e195ea465278c0a73cceb9bc260f6ea1&quot; style=&quot;width: 100.0%; height: 100.0%;&quot;&gt;Fail Orders: 1&lt;/div&gt;`)[0];\n",
       "                popup_61352720fe9ce86f20f6df19af72ea41.setContent(html_e195ea465278c0a73cceb9bc260f6ea1);\n",
       "            \n",
       "        \n",
       "\n",
       "        poly_line_332753d2bc2eb901d4ba00e7a1a80a7a.bindPopup(popup_61352720fe9ce86f20f6df19af72ea41)\n",
       "        ;\n",
       "\n",
       "        \n",
       "    \n",
       "    \n",
       "            var poly_line_4b6d7aff4a9003523530a0fbe54e0590 = L.polyline(\n",
       "                [[51.41925846855687, -0.8761215178846887], [51.418014359057274, -0.882846000236846], [51.41351362359292, -0.8840165779935397], [51.4102572595688, -0.8784634741963178], [51.4115013994675, -0.8717400504919548], [51.41600187297489, -0.8705686720465132]],\n",
       "                {&quot;bubblingMouseEvents&quot;: true, &quot;color&quot;: &quot;Orange&quot;, &quot;dashArray&quot;: null, &quot;dashOffset&quot;: null, &quot;fill&quot;: true, &quot;fillColor&quot;: &quot;Orange&quot;, &quot;fillOpacity&quot;: 0.4, &quot;fillRule&quot;: &quot;evenodd&quot;, &quot;lineCap&quot;: &quot;round&quot;, &quot;lineJoin&quot;: &quot;round&quot;, &quot;noClip&quot;: false, &quot;opacity&quot;: 1, &quot;smoothFactor&quot;: 1.0, &quot;stroke&quot;: true, &quot;weight&quot;: 1}\n",
       "            ).addTo(map_42bc33039f62dc425db42b7ba118e17e);\n",
       "        \n",
       "    \n",
       "        var popup_cb6fddd714ddd1bc8461a8c1678ed345 = L.popup({&quot;maxWidth&quot;: 300});\n",
       "\n",
       "        \n",
       "            \n",
       "                var html_a19a3d1a5d36d83cbb9cef47329241c9 = $(`&lt;div id=&quot;html_a19a3d1a5d36d83cbb9cef47329241c9&quot; style=&quot;width: 100.0%; height: 100.0%;&quot;&gt;Fail Orders: 1&lt;/div&gt;`)[0];\n",
       "                popup_cb6fddd714ddd1bc8461a8c1678ed345.setContent(html_a19a3d1a5d36d83cbb9cef47329241c9);\n",
       "            \n",
       "        \n",
       "\n",
       "        poly_line_4b6d7aff4a9003523530a0fbe54e0590.bindPopup(popup_cb6fddd714ddd1bc8461a8c1678ed345)\n",
       "        ;\n",
       "\n",
       "        \n",
       "    \n",
       "    \n",
       "            var poly_line_3aa453a24a1c20ce26bd069e8ecfad70 = L.polyline(\n",
       "                [[51.487041539682025, -0.903318214445249], [51.485798388274596, -0.9100515777141605], [51.481299937804934, -0.9112216702740125], [51.47804490009021, -0.9056592030222337], [51.47928808119502, -0.8989269007079473], [51.48378627030072, -0.8977560048006965]],\n",
       "                {&quot;bubblingMouseEvents&quot;: true, &quot;color&quot;: &quot;Orange&quot;, &quot;dashArray&quot;: null, &quot;dashOffset&quot;: null, &quot;fill&quot;: true, &quot;fillColor&quot;: &quot;Orange&quot;, &quot;fillOpacity&quot;: 0.4, &quot;fillRule&quot;: &quot;evenodd&quot;, &quot;lineCap&quot;: &quot;round&quot;, &quot;lineJoin&quot;: &quot;round&quot;, &quot;noClip&quot;: false, &quot;opacity&quot;: 1, &quot;smoothFactor&quot;: 1.0, &quot;stroke&quot;: true, &quot;weight&quot;: 1}\n",
       "            ).addTo(map_42bc33039f62dc425db42b7ba118e17e);\n",
       "        \n",
       "    \n",
       "        var popup_355c8e4caaade24ea2c00b9cd88d93f1 = L.popup({&quot;maxWidth&quot;: 300});\n",
       "\n",
       "        \n",
       "            \n",
       "                var html_26ea3312da91a52505db1a36bb774d09 = $(`&lt;div id=&quot;html_26ea3312da91a52505db1a36bb774d09&quot; style=&quot;width: 100.0%; height: 100.0%;&quot;&gt;Fail Orders: 1&lt;/div&gt;`)[0];\n",
       "                popup_355c8e4caaade24ea2c00b9cd88d93f1.setContent(html_26ea3312da91a52505db1a36bb774d09);\n",
       "            \n",
       "        \n",
       "\n",
       "        poly_line_3aa453a24a1c20ce26bd069e8ecfad70.bindPopup(popup_355c8e4caaade24ea2c00b9cd88d93f1)\n",
       "        ;\n",
       "\n",
       "        \n",
       "    \n",
       "    \n",
       "            var poly_line_e2bdee71b1699be9f1030051580c67e4 = L.polyline(\n",
       "                [[51.425818895182694, -1.0024931844598968], [51.424567153410834, -1.0092227611249696], [51.420063093730796, -1.0103847970366207], [51.41681103672857, -1.0048180608091462], [51.41806280702475, -0.9980895421136016], [51.42256660578232, -0.9969267017852713]],\n",
       "                {&quot;bubblingMouseEvents&quot;: true, &quot;color&quot;: &quot;Orange&quot;, &quot;dashArray&quot;: null, &quot;dashOffset&quot;: null, &quot;fill&quot;: true, &quot;fillColor&quot;: &quot;Orange&quot;, &quot;fillOpacity&quot;: 0.4, &quot;fillRule&quot;: &quot;evenodd&quot;, &quot;lineCap&quot;: &quot;round&quot;, &quot;lineJoin&quot;: &quot;round&quot;, &quot;noClip&quot;: false, &quot;opacity&quot;: 1, &quot;smoothFactor&quot;: 1.0, &quot;stroke&quot;: true, &quot;weight&quot;: 1}\n",
       "            ).addTo(map_42bc33039f62dc425db42b7ba118e17e);\n",
       "        \n",
       "    \n",
       "        var popup_20663421632cf1363fc1c65b829b23c2 = L.popup({&quot;maxWidth&quot;: 300});\n",
       "\n",
       "        \n",
       "            \n",
       "                var html_77b0a6c3fa113e7c5d2f2101931847b3 = $(`&lt;div id=&quot;html_77b0a6c3fa113e7c5d2f2101931847b3&quot; style=&quot;width: 100.0%; height: 100.0%;&quot;&gt;Fail Orders: 1&lt;/div&gt;`)[0];\n",
       "                popup_20663421632cf1363fc1c65b829b23c2.setContent(html_77b0a6c3fa113e7c5d2f2101931847b3);\n",
       "            \n",
       "        \n",
       "\n",
       "        poly_line_e2bdee71b1699be9f1030051580c67e4.bindPopup(popup_20663421632cf1363fc1c65b829b23c2)\n",
       "        ;\n",
       "\n",
       "        \n",
       "    \n",
       "    \n",
       "            var poly_line_e48db71c28e7385dc734efed19525ca3 = L.polyline(\n",
       "                [[51.48785240874996, -1.0377709588700452], [51.48660089160153, -1.0445090084020114], [51.482098634741725, -1.0456698717531796], [51.47884815531015, -1.040093492827429], [51.480099700188774, -1.0333565032900058], [51.484601696752115, -1.0321948327933317]],\n",
       "                {&quot;bubblingMouseEvents&quot;: true, &quot;color&quot;: &quot;Orange&quot;, &quot;dashArray&quot;: null, &quot;dashOffset&quot;: null, &quot;fill&quot;: true, &quot;fillColor&quot;: &quot;Orange&quot;, &quot;fillOpacity&quot;: 0.4, &quot;fillRule&quot;: &quot;evenodd&quot;, &quot;lineCap&quot;: &quot;round&quot;, &quot;lineJoin&quot;: &quot;round&quot;, &quot;noClip&quot;: false, &quot;opacity&quot;: 1, &quot;smoothFactor&quot;: 1.0, &quot;stroke&quot;: true, &quot;weight&quot;: 1}\n",
       "            ).addTo(map_42bc33039f62dc425db42b7ba118e17e);\n",
       "        \n",
       "    \n",
       "        var popup_8868755e62bc9c946a0840e858fd0a16 = L.popup({&quot;maxWidth&quot;: 300});\n",
       "\n",
       "        \n",
       "            \n",
       "                var html_aa8cd9b37575de2e03651371b2484648 = $(`&lt;div id=&quot;html_aa8cd9b37575de2e03651371b2484648&quot; style=&quot;width: 100.0%; height: 100.0%;&quot;&gt;Fail Orders: 1&lt;/div&gt;`)[0];\n",
       "                popup_8868755e62bc9c946a0840e858fd0a16.setContent(html_aa8cd9b37575de2e03651371b2484648);\n",
       "            \n",
       "        \n",
       "\n",
       "        poly_line_e48db71c28e7385dc734efed19525ca3.bindPopup(popup_8868755e62bc9c946a0840e858fd0a16)\n",
       "        ;\n",
       "\n",
       "        \n",
       "    \n",
       "    \n",
       "            var poly_line_1c95a7c4f477f044d161b386e86bd8f1 = L.polyline(\n",
       "                [[51.41405888086795, -0.9735053636290363], [51.412808488952784, -0.9802325755719475], [51.40830472669053, -0.9813963650951636], [51.405051617544736, -0.975833746060665], [51.40630203846015, -0.9691075918680558], [51.410805539504636, -0.967942999068892]],\n",
       "                {&quot;bubblingMouseEvents&quot;: true, &quot;color&quot;: &quot;Orange&quot;, &quot;dashArray&quot;: null, &quot;dashOffset&quot;: null, &quot;fill&quot;: true, &quot;fillColor&quot;: &quot;Orange&quot;, &quot;fillOpacity&quot;: 0.4, &quot;fillRule&quot;: &quot;evenodd&quot;, &quot;lineCap&quot;: &quot;round&quot;, &quot;lineJoin&quot;: &quot;round&quot;, &quot;noClip&quot;: false, &quot;opacity&quot;: 1, &quot;smoothFactor&quot;: 1.0, &quot;stroke&quot;: true, &quot;weight&quot;: 1}\n",
       "            ).addTo(map_42bc33039f62dc425db42b7ba118e17e);\n",
       "        \n",
       "    \n",
       "        var popup_4ce15109b4c2ac455cb50f740bd91444 = L.popup({&quot;maxWidth&quot;: 300});\n",
       "\n",
       "        \n",
       "            \n",
       "                var html_31739c4cd3bd88d391103d1dd5b0cd2e = $(`&lt;div id=&quot;html_31739c4cd3bd88d391103d1dd5b0cd2e&quot; style=&quot;width: 100.0%; height: 100.0%;&quot;&gt;Fail Orders: 1&lt;/div&gt;`)[0];\n",
       "                popup_4ce15109b4c2ac455cb50f740bd91444.setContent(html_31739c4cd3bd88d391103d1dd5b0cd2e);\n",
       "            \n",
       "        \n",
       "\n",
       "        poly_line_1c95a7c4f477f044d161b386e86bd8f1.bindPopup(popup_4ce15109b4c2ac455cb50f740bd91444)\n",
       "        ;\n",
       "\n",
       "        \n",
       "    \n",
       "&lt;/script&gt;\n",
       "&lt;/html&gt;\" style=\"position:absolute;width:100%;height:100%;left:0;top:0;border:none !important;\" allowfullscreen webkitallowfullscreen mozallowfullscreen></iframe></div></div>"
      ],
      "text/plain": [
       "<folium.folium.Map at 0x2b9155d2b70>"
      ]
     },
     "metadata": {},
     "output_type": "display_data"
    }
   ],
   "source": [
    "\n",
    "# Visualize using Folium\n",
    "m = folium.Map(location=[df['latitude'].mean(), df['longitude'].mean()], zoom_start=12)\n",
    "\n",
    "for index, row in order_count_by_hex.iterrows():\n",
    "    hex_boundary = h3.h3_to_geo_boundary(row['hex_id'], geo_json=False)\n",
    "    # hex_center = h3.h3_to_geo(row['hex_id'])\n",
    "\n",
    "    # # Only if you want to see Markers\n",
    "    # for loc in hex_boundary:\n",
    "    #     folium.Marker(location=[loc[0], loc[1]], popup=f\"({loc[0]}, {loc[1]})\",\n",
    "    #                    icon=folium.Icon(color='red', icon='pushpin')).add_to(m)\n",
    "\n",
    "\n",
    "    popup_text = folium.Popup(f\"Fail Orders: {int(row['failed_order_count'])}\",\n",
    "                        max_width=300)\n",
    "\n",
    "\n",
    "    if hex_boundary:\n",
    "        folium.PolyLine(locations=hex_boundary, color=get_color(row['within_80_percent'],row['failed_order_count']),\n",
    "                        weight=1,\n",
    "                        opacity=1,\n",
    "                        fillOpacity=0.4,\n",
    "                        fill=True,\n",
    "                        popup=popup_text).add_to(m)\n",
    "\n",
    "    else:\n",
    "        print(\"Hex boundary is empty. Unable to plot the hexagon.\")\n",
    "\n",
    "display(m)\n"
   ]
  },
  {
   "cell_type": "markdown",
   "metadata": {
    "id": "Uh9VgfAwn7qf"
   },
   "source": [
    "### Spatial Distribution of Orders: Where are the most orders originating from?"
   ]
  },
  {
   "cell_type": "code",
   "execution_count": 47,
   "metadata": {
    "executionInfo": {
     "elapsed": 8,
     "status": "ok",
     "timestamp": 1734336658711,
     "user": {
      "displayName": "Nila Ko",
      "userId": "09641442724310039362"
     },
     "user_tz": 480
    },
    "id": "z6c50EFsizMn"
   },
   "outputs": [],
   "source": [
    "def h3index_into_geojson(row,col_name):\n",
    "    \"\"\"\n",
    "    Transform hex_id into a geojson object.\n",
    "    \"\"\"\n",
    "    geometry = {\n",
    "    \"type\": \"Polygon\",\n",
    "    \"coordinates\": [h3.h3_to_geo_boundary(h=row[\"hex_id\"], geo_json=True)]\n",
    "                }\n",
    "    result = geojson.Feature(id=row[\"hex_id\"], geometry=geometry, properties={\"order_count\":row[col_name]})\n",
    "    return result"
   ]
  },
  {
   "cell_type": "code",
   "execution_count": 48,
   "metadata": {
    "executionInfo": {
     "elapsed": 8,
     "status": "ok",
     "timestamp": 1734336658712,
     "user": {
      "displayName": "Nila Ko",
      "userId": "09641442724310039362"
     },
     "user_tz": 480
    },
    "id": "padKixsPi75o"
   },
   "outputs": [],
   "source": [
    "geojson_from_h3index = order_count_by_hex.apply(lambda x: h3index_into_geojson(x,'failed_order_count'), axis=1).values.tolist()\n",
    "geojson_str: str = json.dumps(geojson.FeatureCollection(geojson_from_h3index))\n",
    "\n",
    "max_order_count = order_count_by_hex['failed_order_count'].max()\n",
    "min_order_count = order_count_by_hex['failed_order_count'].min()\n",
    "\n",
    "colormap = matplotlib.colormaps.get_cmap(\"plasma\")"
   ]
  },
  {
   "cell_type": "code",
   "execution_count": 49,
   "metadata": {
    "colab": {
     "base_uri": "https://localhost:8080/",
     "height": 0
    },
    "executionInfo": {
     "elapsed": 412,
     "status": "ok",
     "timestamp": 1734336659117,
     "user": {
      "displayName": "Nila Ko",
      "userId": "09641442724310039362"
     },
     "user_tz": 480
    },
    "id": "9aTQeQkkhsot",
    "outputId": "c890e580-a65a-4982-de30-33563a8f47b5"
   },
   "outputs": [
    {
     "data": {
      "text/html": [
       "<div style=\"width:100%;\"><div style=\"position:relative;width:100%;height:0;padding-bottom:60%;\"><span style=\"color:#565656\">Make this Notebook Trusted to load map: File -> Trust Notebook</span><iframe srcdoc=\"&lt;!DOCTYPE html&gt;\n",
       "&lt;html&gt;\n",
       "&lt;head&gt;\n",
       "    \n",
       "    &lt;meta http-equiv=&quot;content-type&quot; content=&quot;text/html; charset=UTF-8&quot; /&gt;\n",
       "    \n",
       "        &lt;script&gt;\n",
       "            L_NO_TOUCH = false;\n",
       "            L_DISABLE_3D = false;\n",
       "        &lt;/script&gt;\n",
       "    \n",
       "    &lt;style&gt;html, body {width: 100%;height: 100%;margin: 0;padding: 0;}&lt;/style&gt;\n",
       "    &lt;style&gt;#map {position:absolute;top:0;bottom:0;right:0;left:0;}&lt;/style&gt;\n",
       "    &lt;script src=&quot;https://cdn.jsdelivr.net/npm/leaflet@1.9.3/dist/leaflet.js&quot;&gt;&lt;/script&gt;\n",
       "    &lt;script src=&quot;https://code.jquery.com/jquery-3.7.1.min.js&quot;&gt;&lt;/script&gt;\n",
       "    &lt;script src=&quot;https://cdn.jsdelivr.net/npm/bootstrap@5.2.2/dist/js/bootstrap.bundle.min.js&quot;&gt;&lt;/script&gt;\n",
       "    &lt;script src=&quot;https://cdnjs.cloudflare.com/ajax/libs/Leaflet.awesome-markers/2.0.2/leaflet.awesome-markers.js&quot;&gt;&lt;/script&gt;\n",
       "    &lt;link rel=&quot;stylesheet&quot; href=&quot;https://cdn.jsdelivr.net/npm/leaflet@1.9.3/dist/leaflet.css&quot;/&gt;\n",
       "    &lt;link rel=&quot;stylesheet&quot; href=&quot;https://cdn.jsdelivr.net/npm/bootstrap@5.2.2/dist/css/bootstrap.min.css&quot;/&gt;\n",
       "    &lt;link rel=&quot;stylesheet&quot; href=&quot;https://netdna.bootstrapcdn.com/bootstrap/3.0.0/css/bootstrap-glyphicons.css&quot;/&gt;\n",
       "    &lt;link rel=&quot;stylesheet&quot; href=&quot;https://cdn.jsdelivr.net/npm/@fortawesome/fontawesome-free@6.2.0/css/all.min.css&quot;/&gt;\n",
       "    &lt;link rel=&quot;stylesheet&quot; href=&quot;https://cdnjs.cloudflare.com/ajax/libs/Leaflet.awesome-markers/2.0.2/leaflet.awesome-markers.css&quot;/&gt;\n",
       "    &lt;link rel=&quot;stylesheet&quot; href=&quot;https://cdn.jsdelivr.net/gh/python-visualization/folium/folium/templates/leaflet.awesome.rotate.min.css&quot;/&gt;\n",
       "    \n",
       "            &lt;meta name=&quot;viewport&quot; content=&quot;width=device-width,\n",
       "                initial-scale=1.0, maximum-scale=1.0, user-scalable=no&quot; /&gt;\n",
       "            &lt;style&gt;\n",
       "                #map_4beaf9eb73b3fbca3107e8c2a55d12fd {\n",
       "                    position: relative;\n",
       "                    width: 100.0%;\n",
       "                    height: 100.0%;\n",
       "                    left: 0.0%;\n",
       "                    top: 0.0%;\n",
       "                }\n",
       "                .leaflet-container { font-size: 1rem; }\n",
       "            &lt;/style&gt;\n",
       "        \n",
       "    \n",
       "                    &lt;style&gt;\n",
       "                        .foliumpopup {\n",
       "                            margin: auto;\n",
       "                        }\n",
       "                       .foliumpopup table{\n",
       "                            margin: auto;\n",
       "                        }\n",
       "                        .foliumpopup tr{\n",
       "                            text-align: left;\n",
       "                        }\n",
       "                        .foliumpopup th{\n",
       "                            padding: 2px; padding-right: 8px;\n",
       "                        }\n",
       "                    &lt;/style&gt;\n",
       "            \n",
       "    &lt;script src=&quot;https://cdnjs.cloudflare.com/ajax/libs/d3/3.5.5/d3.min.js&quot;&gt;&lt;/script&gt;\n",
       "&lt;/head&gt;\n",
       "&lt;body&gt;\n",
       "    \n",
       "    \n",
       "            &lt;div class=&quot;folium-map&quot; id=&quot;map_4beaf9eb73b3fbca3107e8c2a55d12fd&quot; &gt;&lt;/div&gt;\n",
       "        \n",
       "&lt;/body&gt;\n",
       "&lt;script&gt;\n",
       "    \n",
       "    \n",
       "            var map_4beaf9eb73b3fbca3107e8c2a55d12fd = L.map(\n",
       "                &quot;map_4beaf9eb73b3fbca3107e8c2a55d12fd&quot;,\n",
       "                {\n",
       "                    center: [51.450593785595494, -0.9641223669886145],\n",
       "                    crs: L.CRS.EPSG3857,\n",
       "                    zoom: 12,\n",
       "                    zoomControl: true,\n",
       "                    preferCanvas: false,\n",
       "                }\n",
       "            );\n",
       "\n",
       "            \n",
       "\n",
       "        \n",
       "    \n",
       "            var tile_layer_22f6d8f4c21650dc14b73e924e8f1a33 = L.tileLayer(\n",
       "                &quot;https://tile.openstreetmap.org/{z}/{x}/{y}.png&quot;,\n",
       "                {&quot;attribution&quot;: &quot;\\u0026copy; \\u003ca href=\\&quot;https://www.openstreetmap.org/copyright\\&quot;\\u003eOpenStreetMap\\u003c/a\\u003e contributors&quot;, &quot;detectRetina&quot;: false, &quot;maxNativeZoom&quot;: 19, &quot;maxZoom&quot;: 19, &quot;minZoom&quot;: 0, &quot;noWrap&quot;: false, &quot;opacity&quot;: 1, &quot;subdomains&quot;: &quot;abc&quot;, &quot;tms&quot;: false}\n",
       "            );\n",
       "        \n",
       "    \n",
       "            tile_layer_22f6d8f4c21650dc14b73e924e8f1a33.addTo(map_4beaf9eb73b3fbca3107e8c2a55d12fd);\n",
       "        \n",
       "    \n",
       "        function geo_json_dbdc2475bf5158343780f104923e508a_styler(feature) {\n",
       "            switch(feature.id) {\n",
       "                case &quot;88195d2b1dfffff&quot;: \n",
       "                    return {&quot;color&quot;: &quot;black&quot;, &quot;fillColor&quot;: &quot;#f0f921&quot;, &quot;fillOpacity&quot;: 0.7, &quot;weight&quot;: 1};\n",
       "                case &quot;88195d2b1bfffff&quot;: \n",
       "                    return {&quot;color&quot;: &quot;black&quot;, &quot;fillColor&quot;: &quot;#dd5e66&quot;, &quot;fillOpacity&quot;: 0.7, &quot;weight&quot;: 1};\n",
       "                case &quot;88195d2b15fffff&quot;: \n",
       "                    return {&quot;color&quot;: &quot;black&quot;, &quot;fillColor&quot;: &quot;#d6556d&quot;, &quot;fillOpacity&quot;: 0.7, &quot;weight&quot;: 1};\n",
       "                case &quot;88195d2b11fffff&quot;: \n",
       "                    return {&quot;color&quot;: &quot;black&quot;, &quot;fillColor&quot;: &quot;#c8437b&quot;, &quot;fillOpacity&quot;: 0.7, &quot;weight&quot;: 1};\n",
       "                case &quot;88195d2b19fffff&quot;: \n",
       "                    return {&quot;color&quot;: &quot;black&quot;, &quot;fillColor&quot;: &quot;#bb3488&quot;, &quot;fillOpacity&quot;: 0.7, &quot;weight&quot;: 1};\n",
       "                case &quot;88195d284dfffff&quot;: \n",
       "                    return {&quot;color&quot;: &quot;black&quot;, &quot;fillColor&quot;: &quot;#ba3388&quot;, &quot;fillOpacity&quot;: 0.7, &quot;weight&quot;: 1};\n",
       "                case &quot;88195d2a27fffff&quot;: \n",
       "                    return {&quot;color&quot;: &quot;black&quot;, &quot;fillColor&quot;: &quot;#8b0aa5&quot;, &quot;fillOpacity&quot;: 0.7, &quot;weight&quot;: 1};\n",
       "                case &quot;88195d2b0bfffff&quot;: \n",
       "                    return {&quot;color&quot;: &quot;black&quot;, &quot;fillColor&quot;: &quot;#7b02a8&quot;, &quot;fillOpacity&quot;: 0.7, &quot;weight&quot;: 1};\n",
       "                case &quot;88195d2a25fffff&quot;: \n",
       "                    return {&quot;color&quot;: &quot;black&quot;, &quot;fillColor&quot;: &quot;#7a02a8&quot;, &quot;fillOpacity&quot;: 0.7, &quot;weight&quot;: 1};\n",
       "                case &quot;88195d2b13fffff&quot;: \n",
       "                    return {&quot;color&quot;: &quot;black&quot;, &quot;fillColor&quot;: &quot;#7100a8&quot;, &quot;fillOpacity&quot;: 0.7, &quot;weight&quot;: 1};\n",
       "                case &quot;88195d2b03fffff&quot;: \n",
       "                    return {&quot;color&quot;: &quot;black&quot;, &quot;fillColor&quot;: &quot;#5c01a6&quot;, &quot;fillOpacity&quot;: 0.7, &quot;weight&quot;: 1};\n",
       "                case &quot;88195d2b17fffff&quot;: \n",
       "                    return {&quot;color&quot;: &quot;black&quot;, &quot;fillColor&quot;: &quot;#4e02a2&quot;, &quot;fillOpacity&quot;: 0.7, &quot;weight&quot;: 1};\n",
       "                case &quot;88195d2b39fffff&quot;: \n",
       "                    return {&quot;color&quot;: &quot;black&quot;, &quot;fillColor&quot;: &quot;#4b03a1&quot;, &quot;fillOpacity&quot;: 0.7, &quot;weight&quot;: 1};\n",
       "                case &quot;88195d2861fffff&quot;: \n",
       "                    return {&quot;color&quot;: &quot;black&quot;, &quot;fillColor&quot;: &quot;#48039f&quot;, &quot;fillOpacity&quot;: 0.7, &quot;weight&quot;: 1};\n",
       "                case &quot;88195d2b31fffff&quot;: \n",
       "                    return {&quot;color&quot;: &quot;black&quot;, &quot;fillColor&quot;: &quot;#46039f&quot;, &quot;fillOpacity&quot;: 0.7, &quot;weight&quot;: 1};\n",
       "                case &quot;88195d2a21fffff&quot;: \n",
       "                    return {&quot;color&quot;: &quot;black&quot;, &quot;fillColor&quot;: &quot;#41049d&quot;, &quot;fillOpacity&quot;: 0.7, &quot;weight&quot;: 1};\n",
       "                case &quot;88195d2b3dfffff&quot;: \n",
       "                    return {&quot;color&quot;: &quot;black&quot;, &quot;fillColor&quot;: &quot;#3f049c&quot;, &quot;fillOpacity&quot;: 0.7, &quot;weight&quot;: 1};\n",
       "                case &quot;88195d2869fffff&quot;: \n",
       "                    return {&quot;color&quot;: &quot;black&quot;, &quot;fillColor&quot;: &quot;#3c049b&quot;, &quot;fillOpacity&quot;: 0.7, &quot;weight&quot;: 1};\n",
       "                case &quot;88195d2b3bfffff&quot;: \n",
       "                    return {&quot;color&quot;: &quot;black&quot;, &quot;fillColor&quot;: &quot;#3a049a&quot;, &quot;fillOpacity&quot;: 0.7, &quot;weight&quot;: 1};\n",
       "                case &quot;88195d2b57fffff&quot;: \n",
       "                    return {&quot;color&quot;: &quot;black&quot;, &quot;fillColor&quot;: &quot;#330597&quot;, &quot;fillOpacity&quot;: 0.7, &quot;weight&quot;: 1};\n",
       "                case &quot;88195d2b51fffff&quot;: \n",
       "                    return {&quot;color&quot;: &quot;black&quot;, &quot;fillColor&quot;: &quot;#310597&quot;, &quot;fillOpacity&quot;: 0.7, &quot;weight&quot;: 1};\n",
       "                case &quot;88195d2845fffff&quot;: case &quot;88195d2b09fffff&quot;: \n",
       "                    return {&quot;color&quot;: &quot;black&quot;, &quot;fillColor&quot;: &quot;#2f0596&quot;, &quot;fillOpacity&quot;: 0.7, &quot;weight&quot;: 1};\n",
       "                case &quot;88195d2b0dfffff&quot;: case &quot;88195d2b55fffff&quot;: case &quot;88195d2847fffff&quot;: case &quot;88195d2841fffff&quot;: \n",
       "                    return {&quot;color&quot;: &quot;black&quot;, &quot;fillColor&quot;: &quot;#2a0593&quot;, &quot;fillOpacity&quot;: 0.7, &quot;weight&quot;: 1};\n",
       "                case &quot;88195d2a23fffff&quot;: case &quot;88195d2a35fffff&quot;: case &quot;88195d2843fffff&quot;: \n",
       "                    return {&quot;color&quot;: &quot;black&quot;, &quot;fillColor&quot;: &quot;#280592&quot;, &quot;fillOpacity&quot;: 0.7, &quot;weight&quot;: 1};\n",
       "                case &quot;88195d2b07fffff&quot;: \n",
       "                    return {&quot;color&quot;: &quot;black&quot;, &quot;fillColor&quot;: &quot;#260591&quot;, &quot;fillOpacity&quot;: 0.7, &quot;weight&quot;: 1};\n",
       "                case &quot;88195d2863fffff&quot;: \n",
       "                    return {&quot;color&quot;: &quot;black&quot;, &quot;fillColor&quot;: &quot;#240691&quot;, &quot;fillOpacity&quot;: 0.7, &quot;weight&quot;: 1};\n",
       "                case &quot;88195d282dfffff&quot;: case &quot;88195d2867fffff&quot;: \n",
       "                    return {&quot;color&quot;: &quot;black&quot;, &quot;fillColor&quot;: &quot;#220690&quot;, &quot;fillOpacity&quot;: 0.7, &quot;weight&quot;: 1};\n",
       "                case &quot;88195d2b23fffff&quot;: case &quot;88195d2849fffff&quot;: \n",
       "                    return {&quot;color&quot;: &quot;black&quot;, &quot;fillColor&quot;: &quot;#20068f&quot;, &quot;fillOpacity&quot;: 0.7, &quot;weight&quot;: 1};\n",
       "                case &quot;88195d2b01fffff&quot;: case &quot;88195d280dfffff&quot;: case &quot;88195d286bfffff&quot;: case &quot;88195d285dfffff&quot;: case &quot;88195d2a2bfffff&quot;: case &quot;88195d2b47fffff&quot;: \n",
       "                    return {&quot;color&quot;: &quot;black&quot;, &quot;fillColor&quot;: &quot;#1d068e&quot;, &quot;fillOpacity&quot;: 0.7, &quot;weight&quot;: 1};\n",
       "                case &quot;88195d2829fffff&quot;: case &quot;88195d2b37fffff&quot;: case &quot;88195d294bfffff&quot;: case &quot;88195d2b35fffff&quot;: case &quot;88195d2a2dfffff&quot;: \n",
       "                    return {&quot;color&quot;: &quot;black&quot;, &quot;fillColor&quot;: &quot;#1b068d&quot;, &quot;fillOpacity&quot;: 0.7, &quot;weight&quot;: 1};\n",
       "                case &quot;88195d2b33fffff&quot;: case &quot;88195d2a3dfffff&quot;: case &quot;88195d2b43fffff&quot;: \n",
       "                    return {&quot;color&quot;: &quot;black&quot;, &quot;fillColor&quot;: &quot;#19068c&quot;, &quot;fillOpacity&quot;: 0.7, &quot;weight&quot;: 1};\n",
       "                case &quot;88195d2801fffff&quot;: case &quot;88195d2949fffff&quot;: case &quot;88195d2943fffff&quot;: case &quot;88195d296bfffff&quot;: case &quot;88195d2a37fffff&quot;: \n",
       "                    return {&quot;color&quot;: &quot;black&quot;, &quot;fillColor&quot;: &quot;#16078a&quot;, &quot;fillOpacity&quot;: 0.7, &quot;weight&quot;: 1};\n",
       "                case &quot;88195d295bfffff&quot;: case &quot;88195d2941fffff&quot;: case &quot;88195d39b7fffff&quot;: case &quot;88195d286dfffff&quot;: case &quot;88195d2a69fffff&quot;: case &quot;88195d2b4bfffff&quot;: case &quot;88195d2b2bfffff&quot;: case &quot;88195d2809fffff&quot;: case &quot;88195d2b29fffff&quot;: case &quot;88195d2a17fffff&quot;: case &quot;88195d294dfffff&quot;: case &quot;88195d2b21fffff&quot;: case &quot;88195d7493fffff&quot;: case &quot;88195d2a39fffff&quot;: case &quot;88195d2947fffff&quot;: \n",
       "                    return {&quot;color&quot;: &quot;black&quot;, &quot;fillColor&quot;: &quot;#130789&quot;, &quot;fillOpacity&quot;: 0.7, &quot;weight&quot;: 1};\n",
       "                case &quot;88195d2b53fffff&quot;: case &quot;88195d7499fffff&quot;: case &quot;88195d2b25fffff&quot;: case &quot;88195d2865fffff&quot;: case &quot;88195d280bfffff&quot;: case &quot;88195d295dfffff&quot;: case &quot;88195d2a05fffff&quot;: case &quot;88195d2803fffff&quot;: case &quot;88195d2a13fffff&quot;: case &quot;88195d2a33fffff&quot;: case &quot;88195d2a01fffff&quot;: case &quot;88195d2963fffff&quot;: case &quot;88195d2823fffff&quot;: case &quot;88195d749bfffff&quot;: case &quot;88195d2b49fffff&quot;: case &quot;88195d2945fffff&quot;: case &quot;88195d7497fffff&quot;: case &quot;88195d2805fffff&quot;: case &quot;88195d2aedfffff&quot;: case &quot;88195d2a63fffff&quot;: case &quot;88195d2a61fffff&quot;: case &quot;88195d39b3fffff&quot;: case &quot;88195d2a31fffff&quot;: case &quot;88195d2969fffff&quot;: case &quot;88195d2b41fffff&quot;: case &quot;88195d2859fffff&quot;: case &quot;88195d2967fffff&quot;: case &quot;88195d39b1fffff&quot;: case &quot;88195d2a0dfffff&quot;: case &quot;88195d2955fffff&quot;: case &quot;88195d281dfffff&quot;: case &quot;88195d2a0bfffff&quot;: case &quot;88195d2b27fffff&quot;: case &quot;88195d2b63fffff&quot;: case &quot;88195d74d7fffff&quot;: case &quot;88195d2961fffff&quot;: case &quot;88195d2a09fffff&quot;: case &quot;88195d2a45fffff&quot;: case &quot;88195d2a6bfffff&quot;: case &quot;88195d2b4dfffff&quot;: case &quot;88195d2b69fffff&quot;: case &quot;88195d2a55fffff&quot;: case &quot;88195d2a11fffff&quot;: case &quot;88195d7491fffff&quot;: case &quot;88195d74d3fffff&quot;: case &quot;88195d748bfffff&quot;: case &quot;88195d2821fffff&quot;: case &quot;88195d2ae1fffff&quot;: case &quot;88195d2807fffff&quot;: case &quot;88195d39b9fffff&quot;: case &quot;88195d39bbfffff&quot;: case &quot;88195d2901fffff&quot;: case &quot;88195d749dfffff&quot;: case &quot;88195d74d5fffff&quot;: case &quot;88195d2aebfffff&quot;: case &quot;88195d3993fffff&quot;: case &quot;88195d2953fffff&quot;: case &quot;88195d74d1fffff&quot;: case &quot;88195d282bfffff&quot;: \n",
       "                    return {&quot;color&quot;: &quot;black&quot;, &quot;fillColor&quot;: &quot;#0d0887&quot;, &quot;fillOpacity&quot;: 0.7, &quot;weight&quot;: 1};\n",
       "                default:\n",
       "                    return {&quot;color&quot;: &quot;black&quot;, &quot;fillColor&quot;: &quot;#100788&quot;, &quot;fillOpacity&quot;: 0.7, &quot;weight&quot;: 1};\n",
       "            }\n",
       "        }\n",
       "\n",
       "        function geo_json_dbdc2475bf5158343780f104923e508a_onEachFeature(feature, layer) {\n",
       "            layer.on({\n",
       "            });\n",
       "        };\n",
       "        var geo_json_dbdc2475bf5158343780f104923e508a = L.geoJson(null, {\n",
       "                onEachFeature: geo_json_dbdc2475bf5158343780f104923e508a_onEachFeature,\n",
       "            \n",
       "                style: geo_json_dbdc2475bf5158343780f104923e508a_styler,\n",
       "        });\n",
       "\n",
       "        function geo_json_dbdc2475bf5158343780f104923e508a_add (data) {\n",
       "            geo_json_dbdc2475bf5158343780f104923e508a\n",
       "                .addData(data);\n",
       "        }\n",
       "            geo_json_dbdc2475bf5158343780f104923e508a_add({&quot;features&quot;: [{&quot;geometry&quot;: {&quot;coordinates&quot;: [[[-0.96742, 51.462334], [-0.974152, 51.461086], [-0.975317, 51.456585], [-0.969751, 51.453332], [-0.963019, 51.45458], [-0.961853, 51.459081], [-0.96742, 51.462334]]], &quot;type&quot;: &quot;Polygon&quot;}, &quot;id&quot;: &quot;88195d2b1dfffff&quot;, &quot;properties&quot;: {&quot;order_count&quot;: 4488}, &quot;type&quot;: &quot;Feature&quot;}, {&quot;geometry&quot;: {&quot;coordinates&quot;: [[[-0.950723, 51.452574], [-0.957454, 51.451326], [-0.95862, 51.446825], [-0.953056, 51.443571], [-0.946326, 51.444819], [-0.945159, 51.44932], [-0.950723, 51.452574]]], &quot;type&quot;: &quot;Polygon&quot;}, &quot;id&quot;: &quot;88195d2b1bfffff&quot;, &quot;properties&quot;: {&quot;order_count&quot;: 2603}, &quot;type&quot;: &quot;Feature&quot;}, {&quot;geometry&quot;: {&quot;coordinates&quot;: [[[-0.975317, 51.456585], [-0.98205, 51.455336], [-0.983214, 51.450834], [-0.977647, 51.447581], [-0.970916, 51.44883], [-0.969751, 51.453332], [-0.975317, 51.456585]]], &quot;type&quot;: &quot;Polygon&quot;}, &quot;id&quot;: &quot;88195d2b15fffff&quot;, &quot;properties&quot;: {&quot;order_count&quot;: 2461}, &quot;type&quot;: &quot;Feature&quot;}, {&quot;geometry&quot;: {&quot;coordinates&quot;: [[[-0.963019, 51.45458], [-0.969751, 51.453332], [-0.970916, 51.44883], [-0.965351, 51.445577], [-0.95862, 51.446825], [-0.957454, 51.451326], [-0.963019, 51.45458]]], &quot;type&quot;: &quot;Polygon&quot;}, &quot;id&quot;: &quot;88195d2b11fffff&quot;, &quot;properties&quot;: {&quot;order_count&quot;: 2191}, &quot;type&quot;: &quot;Feature&quot;}, {&quot;geometry&quot;: {&quot;coordinates&quot;: [[[-0.955121, 51.460328], [-0.961853, 51.459081], [-0.963019, 51.45458], [-0.957454, 51.451326], [-0.950723, 51.452574], [-0.949556, 51.457075], [-0.955121, 51.460328]]], &quot;type&quot;: &quot;Polygon&quot;}, &quot;id&quot;: &quot;88195d2b19fffff&quot;, &quot;properties&quot;: {&quot;order_count&quot;: 1960}, &quot;type&quot;: &quot;Feature&quot;}, {&quot;geometry&quot;: {&quot;coordinates&quot;: [[[-0.946326, 51.444819], [-0.953056, 51.443571], [-0.954222, 51.43907], [-0.94866, 51.435816], [-0.941931, 51.437063], [-0.940764, 51.441565], [-0.946326, 51.444819]]], &quot;type&quot;: &quot;Polygon&quot;}, &quot;id&quot;: &quot;88195d284dfffff&quot;, &quot;properties&quot;: {&quot;order_count&quot;: 1937}, &quot;type&quot;: &quot;Feature&quot;}, {&quot;geometry&quot;: {&quot;coordinates&quot;: [[[-0.938429, 51.450567], [-0.945159, 51.44932], [-0.946326, 51.444819], [-0.940764, 51.441565], [-0.934034, 51.442812], [-0.932867, 51.447312], [-0.938429, 51.450567]]], &quot;type&quot;: &quot;Polygon&quot;}, &quot;id&quot;: &quot;88195d2a27fffff&quot;, &quot;properties&quot;: {&quot;order_count&quot;: 1295}, &quot;type&quot;: &quot;Feature&quot;}, {&quot;geometry&quot;: {&quot;coordinates&quot;: [[[-0.971821, 51.470088], [-0.978555, 51.46884], [-0.97972, 51.464339], [-0.974152, 51.461086], [-0.96742, 51.462334], [-0.966254, 51.466835], [-0.971821, 51.470088]]], &quot;type&quot;: &quot;Polygon&quot;}, &quot;id&quot;: &quot;88195d2b0bfffff&quot;, &quot;properties&quot;: {&quot;order_count&quot;: 1091}, &quot;type&quot;: &quot;Feature&quot;}, {&quot;geometry&quot;: {&quot;coordinates&quot;: [[[-0.942825, 51.458321], [-0.949556, 51.457075], [-0.950723, 51.452574], [-0.945159, 51.44932], [-0.938429, 51.450567], [-0.937261, 51.455067], [-0.942825, 51.458321]]], &quot;type&quot;: &quot;Polygon&quot;}, &quot;id&quot;: &quot;88195d2a25fffff&quot;, &quot;properties&quot;: {&quot;order_count&quot;: 1074}, &quot;type&quot;: &quot;Feature&quot;}, {&quot;geometry&quot;: {&quot;coordinates&quot;: [[[-0.95862, 51.446825], [-0.965351, 51.445577], [-0.966516, 51.441075], [-0.960952, 51.437822], [-0.954222, 51.43907], [-0.953056, 51.443571], [-0.95862, 51.446825]]], &quot;type&quot;: &quot;Polygon&quot;}, &quot;id&quot;: &quot;88195d2b13fffff&quot;, &quot;properties&quot;: {&quot;order_count&quot;: 975}, &quot;type&quot;: &quot;Feature&quot;}, {&quot;geometry&quot;: {&quot;coordinates&quot;: [[[-0.97972, 51.464339], [-0.986453, 51.46309], [-0.987618, 51.458588], [-0.98205, 51.455336], [-0.975317, 51.456585], [-0.974152, 51.461086], [-0.97972, 51.464339]]], &quot;type&quot;: &quot;Polygon&quot;}, &quot;id&quot;: &quot;88195d2b03fffff&quot;, &quot;properties&quot;: {&quot;order_count&quot;: 751}, &quot;type&quot;: &quot;Feature&quot;}, {&quot;geometry&quot;: {&quot;coordinates&quot;: [[[-0.970916, 51.44883], [-0.977647, 51.447581], [-0.978812, 51.443079], [-0.973246, 51.439826], [-0.966516, 51.441075], [-0.965351, 51.445577], [-0.970916, 51.44883]]], &quot;type&quot;: &quot;Polygon&quot;}, &quot;id&quot;: &quot;88195d2b17fffff&quot;, &quot;properties&quot;: {&quot;order_count&quot;: 588}, &quot;type&quot;: &quot;Feature&quot;}, {&quot;geometry&quot;: {&quot;coordinates&quot;: [[[-0.987618, 51.458588], [-0.994351, 51.457339], [-0.995514, 51.452837], [-0.989946, 51.449584], [-0.983214, 51.450834], [-0.98205, 51.455336], [-0.987618, 51.458588]]], &quot;type&quot;: &quot;Polygon&quot;}, &quot;id&quot;: &quot;88195d2b39fffff&quot;, &quot;properties&quot;: {&quot;order_count&quot;: 559}, &quot;type&quot;: &quot;Feature&quot;}, {&quot;geometry&quot;: {&quot;coordinates&quot;: [[[-0.974411, 51.435324], [-0.981141, 51.434074], [-0.982305, 51.429571], [-0.97674, 51.426318], [-0.970012, 51.427568], [-0.968847, 51.432071], [-0.974411, 51.435324]]], &quot;type&quot;: &quot;Polygon&quot;}, &quot;id&quot;: &quot;88195d2861fffff&quot;, &quot;properties&quot;: {&quot;order_count&quot;: 511}, &quot;type&quot;: &quot;Feature&quot;}, {&quot;geometry&quot;: {&quot;coordinates&quot;: [[[-0.995514, 51.452837], [-1.002247, 51.451587], [-1.00341, 51.447084], [-0.997841, 51.443832], [-0.99111, 51.445082], [-0.989946, 51.449584], [-0.995514, 51.452837]]], &quot;type&quot;: &quot;Polygon&quot;}, &quot;id&quot;: &quot;88195d2b31fffff&quot;, &quot;properties&quot;: {&quot;order_count&quot;: 498}, &quot;type&quot;: &quot;Feature&quot;}, {&quot;geometry&quot;: {&quot;coordinates&quot;: [[[-0.930531, 51.456313], [-0.937261, 51.455067], [-0.938429, 51.450567], [-0.932867, 51.447312], [-0.926137, 51.448559], [-0.924969, 51.453059], [-0.930531, 51.456313]]], &quot;type&quot;: &quot;Polygon&quot;}, &quot;id&quot;: &quot;88195d2a21fffff&quot;, &quot;properties&quot;: {&quot;order_count&quot;: 447}, &quot;type&quot;: &quot;Feature&quot;}, {&quot;geometry&quot;: {&quot;coordinates&quot;: [[[-0.99992, 51.460591], [-1.006654, 51.459341], [-1.007817, 51.454838], [-1.002247, 51.451587], [-0.995514, 51.452837], [-0.994351, 51.457339], [-0.99992, 51.460591]]], &quot;type&quot;: &quot;Polygon&quot;}, &quot;id&quot;: &quot;88195d2b3dfffff&quot;, &quot;properties&quot;: {&quot;order_count&quot;: 424}, &quot;type&quot;: &quot;Feature&quot;}, {&quot;geometry&quot;: {&quot;coordinates&quot;: [[[-0.966516, 51.441075], [-0.973246, 51.439826], [-0.974411, 51.435324], [-0.968847, 51.432071], [-0.962117, 51.433319], [-0.960952, 51.437822], [-0.966516, 51.441075]]], &quot;type&quot;: &quot;Polygon&quot;}, &quot;id&quot;: &quot;88195d2869fffff&quot;, &quot;properties&quot;: {&quot;order_count&quot;: 400}, &quot;type&quot;: &quot;Feature&quot;}, {&quot;geometry&quot;: {&quot;coordinates&quot;: [[[-0.983214, 51.450834], [-0.989946, 51.449584], [-0.99111, 51.445082], [-0.985543, 51.441829], [-0.978812, 51.443079], [-0.977647, 51.447581], [-0.983214, 51.450834]]], &quot;type&quot;: &quot;Polygon&quot;}, &quot;id&quot;: &quot;88195d2b3bfffff&quot;, &quot;properties&quot;: {&quot;order_count&quot;: 374}, &quot;type&quot;: &quot;Feature&quot;}, {&quot;geometry&quot;: {&quot;coordinates&quot;: [[[-0.959521, 51.468083], [-0.966254, 51.466835], [-0.96742, 51.462334], [-0.961853, 51.459081], [-0.955121, 51.460328], [-0.953955, 51.464829], [-0.959521, 51.468083]]], &quot;type&quot;: &quot;Polygon&quot;}, &quot;id&quot;: &quot;88195d2b57fffff&quot;, &quot;properties&quot;: {&quot;order_count&quot;: 304}, &quot;type&quot;: &quot;Feature&quot;}, {&quot;geometry&quot;: {&quot;coordinates&quot;: [[[-0.951621, 51.47383], [-0.958354, 51.472583], [-0.959521, 51.468083], [-0.953955, 51.464829], [-0.947222, 51.466076], [-0.946055, 51.470576], [-0.951621, 51.47383]]], &quot;type&quot;: &quot;Polygon&quot;}, &quot;id&quot;: &quot;88195d2b51fffff&quot;, &quot;properties&quot;: {&quot;order_count&quot;: 287}, &quot;type&quot;: &quot;Feature&quot;}, {&quot;geometry&quot;: {&quot;coordinates&quot;: [[[-0.954222, 51.43907], [-0.960952, 51.437822], [-0.962117, 51.433319], [-0.956554, 51.430066], [-0.949826, 51.431314], [-0.94866, 51.435816], [-0.954222, 51.43907]]], &quot;type&quot;: &quot;Polygon&quot;}, &quot;id&quot;: &quot;88195d2845fffff&quot;, &quot;properties&quot;: {&quot;order_count&quot;: 275}, &quot;type&quot;: &quot;Feature&quot;}, {&quot;geometry&quot;: {&quot;coordinates&quot;: [[[-0.976224, 51.477842], [-0.982959, 51.476594], [-0.984124, 51.472093], [-0.978555, 51.46884], [-0.971821, 51.470088], [-0.970656, 51.474589], [-0.976224, 51.477842]]], &quot;type&quot;: &quot;Polygon&quot;}, &quot;id&quot;: &quot;88195d2b09fffff&quot;, &quot;properties&quot;: {&quot;order_count&quot;: 269}, &quot;type&quot;: &quot;Feature&quot;}, {&quot;geometry&quot;: {&quot;coordinates&quot;: [[[-0.98853, 51.479846], [-0.995265, 51.478597], [-0.996429, 51.474096], [-0.990859, 51.470844], [-0.984124, 51.472093], [-0.982959, 51.476594], [-0.98853, 51.479846]]], &quot;type&quot;: &quot;Polygon&quot;}, &quot;id&quot;: &quot;88195d2b0dfffff&quot;, &quot;properties&quot;: {&quot;order_count&quot;: 222}, &quot;type&quot;: &quot;Feature&quot;}, {&quot;geometry&quot;: {&quot;coordinates&quot;: [[[-0.963922, 51.475836], [-0.970656, 51.474589], [-0.971821, 51.470088], [-0.966254, 51.466835], [-0.959521, 51.468083], [-0.958354, 51.472583], [-0.963922, 51.475836]]], &quot;type&quot;: &quot;Polygon&quot;}, &quot;id&quot;: &quot;88195d2b55fffff&quot;, &quot;properties&quot;: {&quot;order_count&quot;: 215}, &quot;type&quot;: &quot;Feature&quot;}, {&quot;geometry&quot;: {&quot;coordinates&quot;: [[[-0.949826, 51.431314], [-0.956554, 51.430066], [-0.95772, 51.425564], [-0.952158, 51.42231], [-0.945431, 51.423558], [-0.944264, 51.42806], [-0.949826, 51.431314]]], &quot;type&quot;: &quot;Polygon&quot;}, &quot;id&quot;: &quot;88195d2847fffff&quot;, &quot;properties&quot;: {&quot;order_count&quot;: 215}, &quot;type&quot;: &quot;Feature&quot;}, {&quot;geometry&quot;: {&quot;coordinates&quot;: [[[-0.941931, 51.437063], [-0.94866, 51.435816], [-0.949826, 51.431314], [-0.944264, 51.42806], [-0.937537, 51.429308], [-0.936369, 51.433809], [-0.941931, 51.437063]]], &quot;type&quot;: &quot;Polygon&quot;}, &quot;id&quot;: &quot;88195d2841fffff&quot;, &quot;properties&quot;: {&quot;order_count&quot;: 213}, &quot;type&quot;: &quot;Feature&quot;}, {&quot;geometry&quot;: {&quot;coordinates&quot;: [[[-0.926137, 51.448559], [-0.932867, 51.447312], [-0.934034, 51.442812], [-0.928473, 51.439557], [-0.921745, 51.440803], [-0.920576, 51.445304], [-0.926137, 51.448559]]], &quot;type&quot;: &quot;Polygon&quot;}, &quot;id&quot;: &quot;88195d2a23fffff&quot;, &quot;properties&quot;: {&quot;order_count&quot;: 207}, &quot;type&quot;: &quot;Feature&quot;}, {&quot;geometry&quot;: {&quot;coordinates&quot;: [[[-0.921745, 51.440803], [-0.928473, 51.439557], [-0.929641, 51.435056], [-0.924081, 51.431801], [-0.917354, 51.433047], [-0.916185, 51.437548], [-0.921745, 51.440803]]], &quot;type&quot;: &quot;Polygon&quot;}, &quot;id&quot;: &quot;88195d2a35fffff&quot;, &quot;properties&quot;: {&quot;order_count&quot;: 203}, &quot;type&quot;: &quot;Feature&quot;}, {&quot;geometry&quot;: {&quot;coordinates&quot;: [[[-0.937537, 51.429308], [-0.944264, 51.42806], [-0.945431, 51.423558], [-0.939871, 51.420304], [-0.933144, 51.421551], [-0.931976, 51.426053], [-0.937537, 51.429308]]], &quot;type&quot;: &quot;Polygon&quot;}, &quot;id&quot;: &quot;88195d2843fffff&quot;, &quot;properties&quot;: {&quot;order_count&quot;: 194}, &quot;type&quot;: &quot;Feature&quot;}, {&quot;geometry&quot;: {&quot;coordinates&quot;: [[[-0.992023, 51.466343], [-0.998757, 51.465093], [-0.99992, 51.460591], [-0.994351, 51.457339], [-0.987618, 51.458588], [-0.986453, 51.46309], [-0.992023, 51.466343]]], &quot;type&quot;: &quot;Polygon&quot;}, &quot;id&quot;: &quot;88195d2b07fffff&quot;, &quot;properties&quot;: {&quot;order_count&quot;: 189}, &quot;type&quot;: &quot;Feature&quot;}, {&quot;geometry&quot;: {&quot;coordinates&quot;: [[[-0.970012, 51.427568], [-0.97674, 51.426318], [-0.977904, 51.421815], [-0.972341, 51.418562], [-0.965613, 51.419812], [-0.964448, 51.424315], [-0.970012, 51.427568]]], &quot;type&quot;: &quot;Polygon&quot;}, &quot;id&quot;: &quot;88195d2863fffff&quot;, &quot;properties&quot;: {&quot;order_count&quot;: 174}, &quot;type&quot;: &quot;Feature&quot;}, {&quot;geometry&quot;: {&quot;coordinates&quot;: [[[-0.990198, 51.423818], [-0.996927, 51.422567], [-0.99809, 51.418063], [-0.992524, 51.41481], [-0.985796, 51.416061], [-0.984633, 51.420565], [-0.990198, 51.423818]]], &quot;type&quot;: &quot;Polygon&quot;}, &quot;id&quot;: &quot;88195d282dfffff&quot;, &quot;properties&quot;: {&quot;order_count&quot;: 154}, &quot;type&quot;: &quot;Feature&quot;}, {&quot;geometry&quot;: {&quot;coordinates&quot;: [[[-0.982305, 51.429571], [-0.989034, 51.428321], [-0.990198, 51.423818], [-0.984633, 51.420565], [-0.977904, 51.421815], [-0.97674, 51.426318], [-0.982305, 51.429571]]], &quot;type&quot;: &quot;Polygon&quot;}, &quot;id&quot;: &quot;88195d2867fffff&quot;, &quot;properties&quot;: {&quot;order_count&quot;: 151}, &quot;type&quot;: &quot;Feature&quot;}, {&quot;geometry&quot;: {&quot;coordinates&quot;: [[[-1.012225, 51.462593], [-1.018959, 51.461342], [-1.020121, 51.456839], [-1.01455, 51.453588], [-1.007817, 51.454838], [-1.006654, 51.459341], [-1.012225, 51.462593]]], &quot;type&quot;: &quot;Polygon&quot;}, &quot;id&quot;: &quot;88195d2b23fffff&quot;, &quot;properties&quot;: {&quot;order_count&quot;: 130}, &quot;type&quot;: &quot;Feature&quot;}, {&quot;geometry&quot;: {&quot;coordinates&quot;: [[[-0.934034, 51.442812], [-0.940764, 51.441565], [-0.941931, 51.437063], [-0.936369, 51.433809], [-0.929641, 51.435056], [-0.928473, 51.439557], [-0.934034, 51.442812]]], &quot;type&quot;: &quot;Polygon&quot;}, &quot;id&quot;: &quot;88195d2849fffff&quot;, &quot;properties&quot;: {&quot;order_count&quot;: 125}, &quot;type&quot;: &quot;Feature&quot;}, {&quot;geometry&quot;: {&quot;coordinates&quot;: [[[-0.984124, 51.472093], [-0.990859, 51.470844], [-0.992023, 51.466343], [-0.986453, 51.46309], [-0.97972, 51.464339], [-0.978555, 51.46884], [-0.984124, 51.472093]]], &quot;type&quot;: &quot;Polygon&quot;}, &quot;id&quot;: &quot;88195d2b01fffff&quot;, &quot;properties&quot;: {&quot;order_count&quot;: 120}, &quot;type&quot;: &quot;Feature&quot;}, {&quot;geometry&quot;: {&quot;coordinates&quot;: [[[-0.95772, 51.425564], [-0.964448, 51.424315], [-0.965613, 51.419812], [-0.960051, 51.416558], [-0.953324, 51.417807], [-0.952158, 51.42231], [-0.95772, 51.425564]]], &quot;type&quot;: &quot;Polygon&quot;}, &quot;id&quot;: &quot;88195d280dfffff&quot;, &quot;properties&quot;: {&quot;order_count&quot;: 117}, &quot;type&quot;: &quot;Feature&quot;}, {&quot;geometry&quot;: {&quot;coordinates&quot;: [[[-0.962117, 51.433319], [-0.968847, 51.432071], [-0.970012, 51.427568], [-0.964448, 51.424315], [-0.95772, 51.425564], [-0.956554, 51.430066], [-0.962117, 51.433319]]], &quot;type&quot;: &quot;Polygon&quot;}, &quot;id&quot;: &quot;88195d286bfffff&quot;, &quot;properties&quot;: {&quot;order_count&quot;: 117}, &quot;type&quot;: &quot;Feature&quot;}, {&quot;geometry&quot;: {&quot;coordinates&quot;: [[[-0.925249, 51.4273], [-0.931976, 51.426053], [-0.933144, 51.421551], [-0.927585, 51.418297], [-0.920859, 51.419544], [-0.919691, 51.424045], [-0.925249, 51.4273]]], &quot;type&quot;: &quot;Polygon&quot;}, &quot;id&quot;: &quot;88195d285dfffff&quot;, &quot;properties&quot;: {&quot;order_count&quot;: 113}, &quot;type&quot;: &quot;Feature&quot;}, {&quot;geometry&quot;: {&quot;coordinates&quot;: [[[-0.918239, 51.454304], [-0.924969, 51.453059], [-0.926137, 51.448559], [-0.920576, 51.445304], [-0.913847, 51.446549], [-0.912678, 51.451049], [-0.918239, 51.454304]]], &quot;type&quot;: &quot;Polygon&quot;}, &quot;id&quot;: &quot;88195d2a2bfffff&quot;, &quot;properties&quot;: {&quot;order_count&quot;: 112}, &quot;type&quot;: &quot;Feature&quot;}, {&quot;geometry&quot;: {&quot;coordinates&quot;: [[[-0.980629, 51.485595], [-0.987365, 51.484347], [-0.98853, 51.479846], [-0.982959, 51.476594], [-0.976224, 51.477842], [-0.975059, 51.482342], [-0.980629, 51.485595]]], &quot;type&quot;: &quot;Polygon&quot;}, &quot;id&quot;: &quot;88195d2b47fffff&quot;, &quot;properties&quot;: {&quot;order_count&quot;: 109}, &quot;type&quot;: &quot;Feature&quot;}, {&quot;geometry&quot;: {&quot;coordinates&quot;: [[[-0.977904, 51.421815], [-0.984633, 51.420565], [-0.985796, 51.416061], [-0.980233, 51.412808], [-0.973505, 51.414059], [-0.972341, 51.418562], [-0.977904, 51.421815]]], &quot;type&quot;: &quot;Polygon&quot;}, &quot;id&quot;: &quot;88195d2829fffff&quot;, &quot;properties&quot;: {&quot;order_count&quot;: 99}, &quot;type&quot;: &quot;Feature&quot;}, {&quot;geometry&quot;: {&quot;coordinates&quot;: [[[-1.00341, 51.447084], [-1.010142, 51.445833], [-1.011305, 51.44133], [-1.005736, 51.438078], [-0.999005, 51.439329], [-0.997841, 51.443832], [-1.00341, 51.447084]]], &quot;type&quot;: &quot;Polygon&quot;}, &quot;id&quot;: &quot;88195d2b37fffff&quot;, &quot;properties&quot;: {&quot;order_count&quot;: 98}, &quot;type&quot;: &quot;Feature&quot;}, {&quot;geometry&quot;: {&quot;coordinates&quot;: [[[-1.015712, 51.449085], [-1.022445, 51.447833], [-1.023607, 51.44333], [-1.018036, 51.440078], [-1.011305, 51.44133], [-1.010142, 51.445833], [-1.015712, 51.449085]]], &quot;type&quot;: &quot;Polygon&quot;}, &quot;id&quot;: &quot;88195d294bfffff&quot;, &quot;properties&quot;: {&quot;order_count&quot;: 96}, &quot;type&quot;: &quot;Feature&quot;}, {&quot;geometry&quot;: {&quot;coordinates&quot;: [[[-1.007817, 51.454838], [-1.01455, 51.453588], [-1.015712, 51.449085], [-1.010142, 51.445833], [-1.00341, 51.447084], [-1.002247, 51.451587], [-1.007817, 51.454838]]], &quot;type&quot;: &quot;Polygon&quot;}, &quot;id&quot;: &quot;88195d2b35fffff&quot;, &quot;properties&quot;: {&quot;order_count&quot;: 93}, &quot;type&quot;: &quot;Feature&quot;}, {&quot;geometry&quot;: {&quot;coordinates&quot;: [[[-0.934926, 51.464068], [-0.941657, 51.462822], [-0.942825, 51.458321], [-0.937261, 51.455067], [-0.930531, 51.456313], [-0.929362, 51.460814], [-0.934926, 51.464068]]], &quot;type&quot;: &quot;Polygon&quot;}, &quot;id&quot;: &quot;88195d2a2dfffff&quot;, &quot;properties&quot;: {&quot;order_count&quot;: 90}, &quot;type&quot;: &quot;Feature&quot;}, {&quot;geometry&quot;: {&quot;coordinates&quot;: [[[-0.99111, 51.445082], [-0.997841, 51.443832], [-0.999005, 51.439329], [-0.993437, 51.436077], [-0.986707, 51.437327], [-0.985543, 51.441829], [-0.99111, 51.445082]]], &quot;type&quot;: &quot;Polygon&quot;}, &quot;id&quot;: &quot;88195d2b33fffff&quot;, &quot;properties&quot;: {&quot;order_count&quot;: 86}, &quot;type&quot;: &quot;Feature&quot;}, {&quot;geometry&quot;: {&quot;coordinates&quot;: [[[-0.913847, 51.446549], [-0.920576, 51.445304], [-0.921745, 51.440803], [-0.916185, 51.437548], [-0.909457, 51.438794], [-0.908288, 51.443294], [-0.913847, 51.446549]]], &quot;type&quot;: &quot;Polygon&quot;}, &quot;id&quot;: &quot;88195d2a3dfffff&quot;, &quot;properties&quot;: {&quot;order_count&quot;: 85}, &quot;type&quot;: &quot;Feature&quot;}, {&quot;geometry&quot;: {&quot;coordinates&quot;: [[[-0.968324, 51.48359], [-0.975059, 51.482342], [-0.976224, 51.477842], [-0.970656, 51.474589], [-0.963922, 51.475836], [-0.962755, 51.480336], [-0.968324, 51.48359]]], &quot;type&quot;: &quot;Polygon&quot;}, &quot;id&quot;: &quot;88195d2b43fffff&quot;, &quot;properties&quot;: {&quot;order_count&quot;: 78}, &quot;type&quot;: &quot;Feature&quot;}, {&quot;geometry&quot;: {&quot;coordinates&quot;: [[[-0.953324, 51.417807], [-0.960051, 51.416558], [-0.961216, 51.412055], [-0.955656, 51.408801], [-0.94893, 51.41005], [-0.947764, 51.414553], [-0.953324, 51.417807]]], &quot;type&quot;: &quot;Polygon&quot;}, &quot;id&quot;: &quot;88195d2801fffff&quot;, &quot;properties&quot;: {&quot;order_count&quot;: 65}, &quot;type&quot;: &quot;Feature&quot;}, {&quot;geometry&quot;: {&quot;coordinates&quot;: [[[-1.020121, 51.456839], [-1.026855, 51.455587], [-1.028017, 51.451084], [-1.022445, 51.447833], [-1.015712, 51.449085], [-1.01455, 51.453588], [-1.020121, 51.456839]]], &quot;type&quot;: &quot;Polygon&quot;}, &quot;id&quot;: &quot;88195d2949fffff&quot;, &quot;properties&quot;: {&quot;order_count&quot;: 61}, &quot;type&quot;: &quot;Feature&quot;}, {&quot;geometry&quot;: {&quot;coordinates&quot;: [[[-1.023607, 51.44333], [-1.030339, 51.442077], [-1.0315, 51.437573], [-1.025929, 51.434322], [-1.019198, 51.435575], [-1.018036, 51.440078], [-1.023607, 51.44333]]], &quot;type&quot;: &quot;Polygon&quot;}, &quot;id&quot;: &quot;88195d2943fffff&quot;, &quot;properties&quot;: {&quot;order_count&quot;: 60}, &quot;type&quot;: &quot;Feature&quot;}, {&quot;geometry&quot;: {&quot;coordinates&quot;: [[[-1.048217, 51.447326], [-1.054951, 51.446072], [-1.05611, 51.441568], [-1.050536, 51.438317], [-1.043804, 51.439571], [-1.042644, 51.444075], [-1.048217, 51.447326]]], &quot;type&quot;: &quot;Polygon&quot;}, &quot;id&quot;: &quot;88195d296bfffff&quot;, &quot;properties&quot;: {&quot;order_count&quot;: 58}, &quot;type&quot;: &quot;Feature&quot;}, {&quot;geometry&quot;: {&quot;coordinates&quot;: [[[-0.917354, 51.433047], [-0.924081, 51.431801], [-0.925249, 51.4273], [-0.919691, 51.424045], [-0.912964, 51.425291], [-0.911795, 51.429792], [-0.917354, 51.433047]]], &quot;type&quot;: &quot;Polygon&quot;}, &quot;id&quot;: &quot;88195d2a37fffff&quot;, &quot;properties&quot;: {&quot;order_count&quot;: 57}, &quot;type&quot;: &quot;Feature&quot;}, {&quot;geometry&quot;: {&quot;coordinates&quot;: [[[-0.994601, 51.431573], [-1.00133, 51.430322], [-1.002493, 51.425819], [-0.996927, 51.422567], [-0.990198, 51.423818], [-0.989034, 51.428321], [-0.994601, 51.431573]]], &quot;type&quot;: &quot;Polygon&quot;}, &quot;id&quot;: &quot;88195d295bfffff&quot;, &quot;properties&quot;: {&quot;order_count&quot;: 53}, &quot;type&quot;: &quot;Feature&quot;}, {&quot;geometry&quot;: {&quot;coordinates&quot;: [[[-1.028017, 51.451084], [-1.03475, 51.449832], [-1.035911, 51.445328], [-1.030339, 51.442077], [-1.023607, 51.44333], [-1.022445, 51.447833], [-1.028017, 51.451084]]], &quot;type&quot;: &quot;Polygon&quot;}, &quot;id&quot;: &quot;88195d2941fffff&quot;, &quot;properties&quot;: {&quot;order_count&quot;: 52}, &quot;type&quot;: &quot;Feature&quot;}, {&quot;geometry&quot;: {&quot;coordinates&quot;: [[[-0.948119, 51.487329], [-0.954854, 51.486083], [-0.956021, 51.481583], [-0.950454, 51.47833], [-0.94372, 51.479576], [-0.942552, 51.484075], [-0.948119, 51.487329]]], &quot;type&quot;: &quot;Polygon&quot;}, &quot;id&quot;: &quot;88195d39b7fffff&quot;, &quot;properties&quot;: {&quot;order_count&quot;: 50}, &quot;type&quot;: &quot;Feature&quot;}, {&quot;geometry&quot;: {&quot;coordinates&quot;: [[[-0.978812, 51.443079], [-0.985543, 51.441829], [-0.986707, 51.437327], [-0.981141, 51.434074], [-0.974411, 51.435324], [-0.973246, 51.439826], [-0.978812, 51.443079]]], &quot;type&quot;: &quot;Polygon&quot;}, &quot;id&quot;: &quot;88195d286dfffff&quot;, &quot;properties&quot;: {&quot;order_count&quot;: 50}, &quot;type&quot;: &quot;Feature&quot;}, {&quot;geometry&quot;: {&quot;coordinates&quot;: [[[-0.911222, 51.4813], [-0.917955, 51.480056], [-0.919124, 51.475557], [-0.913561, 51.472302], [-0.906829, 51.473546], [-0.905659, 51.478045], [-0.911222, 51.4813]]], &quot;type&quot;: &quot;Polygon&quot;}, &quot;id&quot;: &quot;88195d2a69fffff&quot;, &quot;properties&quot;: {&quot;order_count&quot;: 49}, &quot;type&quot;: &quot;Feature&quot;}, {&quot;geometry&quot;: {&quot;coordinates&quot;: [[[-0.960422, 51.489336], [-0.967158, 51.48809], [-0.968324, 51.48359], [-0.962755, 51.480336], [-0.956021, 51.481583], [-0.954854, 51.486083], [-0.960422, 51.489336]]], &quot;type&quot;: &quot;Polygon&quot;}, &quot;id&quot;: &quot;88195d2b4bfffff&quot;, &quot;properties&quot;: {&quot;order_count&quot;: 48}, &quot;type&quot;: &quot;Feature&quot;}, {&quot;geometry&quot;: {&quot;coordinates&quot;: [[[-1.004328, 51.468345], [-1.011062, 51.467095], [-1.012225, 51.462593], [-1.006654, 51.459341], [-0.99992, 51.460591], [-0.998757, 51.465093], [-1.004328, 51.468345]]], &quot;type&quot;: &quot;Polygon&quot;}, &quot;id&quot;: &quot;88195d2b2bfffff&quot;, &quot;properties&quot;: {&quot;order_count&quot;: 47}, &quot;type&quot;: &quot;Feature&quot;}, {&quot;geometry&quot;: {&quot;coordinates&quot;: [[[-0.945431, 51.423558], [-0.952158, 51.42231], [-0.953324, 51.417807], [-0.947764, 51.414553], [-0.941037, 51.415802], [-0.939871, 51.420304], [-0.945431, 51.423558]]], &quot;type&quot;: &quot;Polygon&quot;}, &quot;id&quot;: &quot;88195d2809fffff&quot;, &quot;properties&quot;: {&quot;order_count&quot;: 46}, &quot;type&quot;: &quot;Feature&quot;}, {&quot;geometry&quot;: {&quot;coordinates&quot;: [[[-1.008736, 51.476098], [-1.015472, 51.474848], [-1.016634, 51.470346], [-1.011062, 51.467095], [-1.004328, 51.468345], [-1.003164, 51.472847], [-1.008736, 51.476098]]], &quot;type&quot;: &quot;Polygon&quot;}, &quot;id&quot;: &quot;88195d2b29fffff&quot;, &quot;properties&quot;: {&quot;order_count&quot;: 44}, &quot;type&quot;: &quot;Feature&quot;}, {&quot;geometry&quot;: {&quot;coordinates&quot;: [[[-0.884888, 51.434771], [-0.891615, 51.433527], [-0.892785, 51.429027], [-0.88723, 51.425771], [-0.880504, 51.427015], [-0.879333, 51.431515], [-0.884888, 51.434771]]], &quot;type&quot;: &quot;Polygon&quot;}, &quot;id&quot;: &quot;88195d2a17fffff&quot;, &quot;properties&quot;: {&quot;order_count&quot;: 44}, &quot;type&quot;: &quot;Feature&quot;}, {&quot;geometry&quot;: {&quot;coordinates&quot;: [[[-1.032428, 51.458838], [-1.039162, 51.457586], [-1.040323, 51.453083], [-1.03475, 51.449832], [-1.028017, 51.451084], [-1.026855, 51.455587], [-1.032428, 51.458838]]], &quot;type&quot;: &quot;Polygon&quot;}, &quot;id&quot;: &quot;88195d294dfffff&quot;, &quot;properties&quot;: {&quot;order_count&quot;: 42}, &quot;type&quot;: &quot;Feature&quot;}, {&quot;geometry&quot;: {&quot;coordinates&quot;: [[[-1.016634, 51.470346], [-1.02337, 51.469095], [-1.024532, 51.464593], [-1.018959, 51.461342], [-1.012225, 51.462593], [-1.011062, 51.467095], [-1.016634, 51.470346]]], &quot;type&quot;: &quot;Polygon&quot;}, &quot;id&quot;: &quot;88195d2b21fffff&quot;, &quot;properties&quot;: {&quot;order_count&quot;: 42}, &quot;type&quot;: &quot;Feature&quot;}, {&quot;geometry&quot;: {&quot;coordinates&quot;: [[[-1.044737, 51.460837], [-1.051472, 51.459584], [-1.052631, 51.45508], [-1.047057, 51.45183], [-1.040323, 51.453083], [-1.039162, 51.457586], [-1.044737, 51.460837]]], &quot;type&quot;: &quot;Polygon&quot;}, &quot;id&quot;: &quot;88195d7493fffff&quot;, &quot;properties&quot;: {&quot;order_count&quot;: 41}, &quot;type&quot;: &quot;Feature&quot;}, {&quot;geometry&quot;: {&quot;coordinates&quot;: [[[-0.90156, 51.444539], [-0.908288, 51.443294], [-0.909457, 51.438794], [-0.903899, 51.435538], [-0.897172, 51.436783], [-0.896002, 51.441283], [-0.90156, 51.444539]]], &quot;type&quot;: &quot;Polygon&quot;}, &quot;id&quot;: &quot;88195d2a39fffff&quot;, &quot;properties&quot;: {&quot;order_count&quot;: 40}, &quot;type&quot;: &quot;Feature&quot;}, {&quot;geometry&quot;: {&quot;coordinates&quot;: [[[-1.035911, 51.445328], [-1.042644, 51.444075], [-1.043804, 51.439571], [-1.038232, 51.43632], [-1.0315, 51.437573], [-1.030339, 51.442077], [-1.035911, 51.445328]]], &quot;type&quot;: &quot;Polygon&quot;}, &quot;id&quot;: &quot;88195d2947fffff&quot;, &quot;properties&quot;: {&quot;order_count&quot;: 38}, &quot;type&quot;: &quot;Feature&quot;}, {&quot;geometry&quot;: {&quot;coordinates&quot;: [[[-0.94372, 51.479576], [-0.950454, 51.47833], [-0.951621, 51.47383], [-0.946055, 51.470576], [-0.939322, 51.471822], [-0.938154, 51.476322], [-0.94372, 51.479576]]], &quot;type&quot;: &quot;Polygon&quot;}, &quot;id&quot;: &quot;88195d2b59fffff&quot;, &quot;properties&quot;: {&quot;order_count&quot;: 36}, &quot;type&quot;: &quot;Feature&quot;}, {&quot;geometry&quot;: {&quot;coordinates&quot;: [[[-0.969108, 51.406302], [-0.975834, 51.405052], [-0.976998, 51.400548], [-0.971436, 51.397294], [-0.964711, 51.398545], [-0.963546, 51.403049], [-0.969108, 51.406302]]], &quot;type&quot;: &quot;Polygon&quot;}, &quot;id&quot;: &quot;88195d283dfffff&quot;, &quot;properties&quot;: {&quot;order_count&quot;: 35}, &quot;type&quot;: &quot;Feature&quot;}, {&quot;geometry&quot;: {&quot;coordinates&quot;: [[[-0.889274, 51.442527], [-0.896002, 51.441283], [-0.897172, 51.436783], [-0.891615, 51.433527], [-0.884888, 51.434771], [-0.883718, 51.439271], [-0.889274, 51.442527]]], &quot;type&quot;: &quot;Polygon&quot;}, &quot;id&quot;: &quot;88195d2a15fffff&quot;, &quot;properties&quot;: {&quot;order_count&quot;: 32}, &quot;type&quot;: &quot;Feature&quot;}, {&quot;geometry&quot;: {&quot;coordinates&quot;: [[[-0.956021, 51.481583], [-0.962755, 51.480336], [-0.963922, 51.475836], [-0.958354, 51.472583], [-0.951621, 51.47383], [-0.950454, 51.47833], [-0.956021, 51.481583]]], &quot;type&quot;: &quot;Polygon&quot;}, &quot;id&quot;: &quot;88195d2b5dfffff&quot;, &quot;properties&quot;: {&quot;order_count&quot;: 31}, &quot;type&quot;: &quot;Feature&quot;}, {&quot;geometry&quot;: {&quot;coordinates&quot;: [[[-0.927025, 51.469813], [-0.933758, 51.468568], [-0.934926, 51.464068], [-0.929362, 51.460814], [-0.922631, 51.462059], [-0.921462, 51.466559], [-0.927025, 51.469813]]], &quot;type&quot;: &quot;Polygon&quot;}, &quot;id&quot;: &quot;88195d2a67fffff&quot;, &quot;properties&quot;: {&quot;order_count&quot;: 29}, &quot;type&quot;: &quot;Feature&quot;}, {&quot;geometry&quot;: {&quot;coordinates&quot;: [[[-0.929641, 51.435056], [-0.936369, 51.433809], [-0.937537, 51.429308], [-0.931976, 51.426053], [-0.925249, 51.4273], [-0.924081, 51.431801], [-0.929641, 51.435056]]], &quot;type&quot;: &quot;Polygon&quot;}, &quot;id&quot;: &quot;88195d284bfffff&quot;, &quot;properties&quot;: {&quot;order_count&quot;: 24}, &quot;type&quot;: &quot;Feature&quot;}, {&quot;geometry&quot;: {&quot;coordinates&quot;: [[[-0.905949, 51.452294], [-0.912678, 51.451049], [-0.913847, 51.446549], [-0.908288, 51.443294], [-0.90156, 51.444539], [-0.90039, 51.449039], [-0.905949, 51.452294]]], &quot;type&quot;: &quot;Polygon&quot;}, &quot;id&quot;: &quot;88195d2a07fffff&quot;, &quot;properties&quot;: {&quot;order_count&quot;: 24}, &quot;type&quot;: &quot;Feature&quot;}, {&quot;geometry&quot;: {&quot;coordinates&quot;: [[[-0.992936, 51.487599], [-0.999673, 51.48635], [-1.000837, 51.481849], [-0.995265, 51.478597], [-0.98853, 51.479846], [-0.987365, 51.484347], [-0.992936, 51.487599]]], &quot;type&quot;: &quot;Polygon&quot;}, &quot;id&quot;: &quot;88195d2b6bfffff&quot;, &quot;properties&quot;: {&quot;order_count&quot;: 21}, &quot;type&quot;: &quot;Feature&quot;}, {&quot;geometry&quot;: {&quot;coordinates&quot;: [[[-0.893661, 51.450283], [-0.90039, 51.449039], [-0.90156, 51.444539], [-0.896002, 51.441283], [-0.889274, 51.442527], [-0.888103, 51.447027], [-0.893661, 51.450283]]], &quot;type&quot;: &quot;Polygon&quot;}, &quot;id&quot;: &quot;88195d2a03fffff&quot;, &quot;properties&quot;: {&quot;order_count&quot;: 20}, &quot;type&quot;: &quot;Feature&quot;}, {&quot;geometry&quot;: {&quot;coordinates&quot;: [[[-0.922631, 51.462059], [-0.929362, 51.460814], [-0.930531, 51.456313], [-0.924969, 51.453059], [-0.918239, 51.454304], [-0.91707, 51.458804], [-0.922631, 51.462059]]], &quot;type&quot;: &quot;Polygon&quot;}, &quot;id&quot;: &quot;88195d2a29fffff&quot;, &quot;properties&quot;: {&quot;order_count&quot;: 20}, &quot;type&quot;: &quot;Feature&quot;}, {&quot;geometry&quot;: {&quot;coordinates&quot;: [[[-0.947222, 51.466076], [-0.953955, 51.464829], [-0.955121, 51.460328], [-0.949556, 51.457075], [-0.942825, 51.458321], [-0.941657, 51.462822], [-0.947222, 51.466076]]], &quot;type&quot;: &quot;Polygon&quot;}, &quot;id&quot;: &quot;88195d2b53fffff&quot;, &quot;properties&quot;: {&quot;order_count&quot;: 18}, &quot;type&quot;: &quot;Feature&quot;}, {&quot;geometry&quot;: {&quot;coordinates&quot;: [[[-1.041255, 51.474346], [-1.047991, 51.473093], [-1.049151, 51.46859], [-1.043576, 51.46534], [-1.03684, 51.466592], [-1.035679, 51.471095], [-1.041255, 51.474346]]], &quot;type&quot;: &quot;Polygon&quot;}, &quot;id&quot;: &quot;88195d7499fffff&quot;, &quot;properties&quot;: {&quot;order_count&quot;: 17}, &quot;type&quot;: &quot;Feature&quot;}, {&quot;geometry&quot;: {&quot;coordinates&quot;: [[[-1.028943, 51.472347], [-1.035679, 51.471095], [-1.03684, 51.466592], [-1.031267, 51.463341], [-1.024532, 51.464593], [-1.02337, 51.469095], [-1.028943, 51.472347]]], &quot;type&quot;: &quot;Polygon&quot;}, &quot;id&quot;: &quot;88195d2b25fffff&quot;, &quot;properties&quot;: {&quot;order_count&quot;: 16}, &quot;type&quot;: &quot;Feature&quot;}, {&quot;geometry&quot;: {&quot;coordinates&quot;: [[[-0.986707, 51.437327], [-0.993437, 51.436077], [-0.994601, 51.431573], [-0.989034, 51.428321], [-0.982305, 51.429571], [-0.981141, 51.434074], [-0.986707, 51.437327]]], &quot;type&quot;: &quot;Polygon&quot;}, &quot;id&quot;: &quot;88195d2865fffff&quot;, &quot;properties&quot;: {&quot;order_count&quot;: 16}, &quot;type&quot;: &quot;Feature&quot;}, {&quot;geometry&quot;: {&quot;coordinates&quot;: [[[-0.941037, 51.415802], [-0.947764, 51.414553], [-0.94893, 51.41005], [-0.94337, 51.406796], [-0.936645, 51.408045], [-0.935478, 51.412547], [-0.941037, 51.415802]]], &quot;type&quot;: &quot;Polygon&quot;}, &quot;id&quot;: &quot;88195d280bfffff&quot;, &quot;properties&quot;: {&quot;order_count&quot;: 15}, &quot;type&quot;: &quot;Feature&quot;}, {&quot;geometry&quot;: {&quot;coordinates&quot;: [[[-1.011305, 51.44133], [-1.018036, 51.440078], [-1.019198, 51.435575], [-1.013629, 51.432323], [-1.006898, 51.433575], [-1.005736, 51.438078], [-1.011305, 51.44133]]], &quot;type&quot;: &quot;Polygon&quot;}, &quot;id&quot;: &quot;88195d295dfffff&quot;, &quot;properties&quot;: {&quot;order_count&quot;: 15}, &quot;type&quot;: &quot;Feature&quot;}, {&quot;geometry&quot;: {&quot;coordinates&quot;: [[[-0.910339, 51.460049], [-0.91707, 51.458804], [-0.918239, 51.454304], [-0.912678, 51.451049], [-0.905949, 51.452294], [-0.904779, 51.456794], [-0.910339, 51.460049]]], &quot;type&quot;: &quot;Polygon&quot;}, &quot;id&quot;: &quot;88195d2a05fffff&quot;, &quot;properties&quot;: {&quot;order_count&quot;: 15}, &quot;type&quot;: &quot;Feature&quot;}, {&quot;geometry&quot;: {&quot;coordinates&quot;: [[[-0.94893, 51.41005], [-0.955656, 51.408801], [-0.956821, 51.404298], [-0.951261, 51.401044], [-0.944536, 51.402293], [-0.94337, 51.406796], [-0.94893, 51.41005]]], &quot;type&quot;: &quot;Polygon&quot;}, &quot;id&quot;: &quot;88195d2803fffff&quot;, &quot;properties&quot;: {&quot;order_count&quot;: 14}, &quot;type&quot;: &quot;Feature&quot;}, {&quot;geometry&quot;: {&quot;coordinates&quot;: [[[-0.872607, 51.432759], [-0.879333, 51.431515], [-0.880504, 51.427015], [-0.87495, 51.423759], [-0.868225, 51.425002], [-0.867054, 51.429502], [-0.872607, 51.432759]]], &quot;type&quot;: &quot;Polygon&quot;}, &quot;id&quot;: &quot;88195d2a13fffff&quot;, &quot;properties&quot;: {&quot;order_count&quot;: 14}, &quot;type&quot;: &quot;Feature&quot;}, {&quot;geometry&quot;: {&quot;coordinates&quot;: [[[-0.905069, 51.431038], [-0.911795, 51.429792], [-0.912964, 51.425291], [-0.907407, 51.422036], [-0.900681, 51.423281], [-0.899512, 51.427782], [-0.905069, 51.431038]]], &quot;type&quot;: &quot;Polygon&quot;}, &quot;id&quot;: &quot;88195d2a33fffff&quot;, &quot;properties&quot;: {&quot;order_count&quot;: 12}, &quot;type&quot;: &quot;Feature&quot;}, {&quot;geometry&quot;: {&quot;coordinates&quot;: [[[-0.898049, 51.458038], [-0.904779, 51.456794], [-0.905949, 51.452294], [-0.90039, 51.449039], [-0.893661, 51.450283], [-0.89249, 51.454782], [-0.898049, 51.458038]]], &quot;type&quot;: &quot;Polygon&quot;}, &quot;id&quot;: &quot;88195d2a01fffff&quot;, &quot;properties&quot;: {&quot;order_count&quot;: 12}, &quot;type&quot;: &quot;Feature&quot;}, {&quot;geometry&quot;: {&quot;coordinates&quot;: [[[-1.05611, 51.441568], [-1.062843, 51.440313], [-1.064002, 51.435808], [-1.058428, 51.432558], [-1.051696, 51.433813], [-1.050536, 51.438317], [-1.05611, 51.441568]]], &quot;type&quot;: &quot;Polygon&quot;}, &quot;id&quot;: &quot;88195d2963fffff&quot;, &quot;properties&quot;: {&quot;order_count&quot;: 12}, &quot;type&quot;: &quot;Feature&quot;}, {&quot;geometry&quot;: {&quot;coordinates&quot;: [[[-0.981396, 51.408305], [-0.988123, 51.407054], [-0.989286, 51.402549], [-0.983723, 51.399296], [-0.976998, 51.400548], [-0.975834, 51.405052], [-0.981396, 51.408305]]], &quot;type&quot;: &quot;Polygon&quot;}, &quot;id&quot;: &quot;88195d2823fffff&quot;, &quot;properties&quot;: {&quot;order_count&quot;: 11}, &quot;type&quot;: &quot;Feature&quot;}, {&quot;geometry&quot;: {&quot;coordinates&quot;: [[[-1.03684, 51.466592], [-1.043576, 51.46534], [-1.044737, 51.460837], [-1.039162, 51.457586], [-1.032428, 51.458838], [-1.031267, 51.463341], [-1.03684, 51.466592]]], &quot;type&quot;: &quot;Polygon&quot;}, &quot;id&quot;: &quot;88195d749bfffff&quot;, &quot;properties&quot;: {&quot;order_count&quot;: 11}, &quot;type&quot;: &quot;Feature&quot;}, {&quot;geometry&quot;: {&quot;coordinates&quot;: [[[-0.964825, 51.497089], [-0.971561, 51.495842], [-0.972727, 51.491342], [-0.967158, 51.48809], [-0.960422, 51.489336], [-0.959255, 51.493836], [-0.964825, 51.497089]]], &quot;type&quot;: &quot;Polygon&quot;}, &quot;id&quot;: &quot;88195d2b49fffff&quot;, &quot;properties&quot;: {&quot;order_count&quot;: 11}, &quot;type&quot;: &quot;Feature&quot;}, {&quot;geometry&quot;: {&quot;coordinates&quot;: [[[-1.040323, 51.453083], [-1.047057, 51.45183], [-1.048217, 51.447326], [-1.042644, 51.444075], [-1.035911, 51.445328], [-1.03475, 51.449832], [-1.040323, 51.453083]]], &quot;type&quot;: &quot;Polygon&quot;}, &quot;id&quot;: &quot;88195d2945fffff&quot;, &quot;properties&quot;: {&quot;order_count&quot;: 11}, &quot;type&quot;: &quot;Feature&quot;}, {&quot;geometry&quot;: {&quot;coordinates&quot;: [[[-1.057047, 51.462834], [-1.063783, 51.46158], [-1.064942, 51.457076], [-1.059366, 51.453826], [-1.052631, 51.45508], [-1.051472, 51.459584], [-1.057047, 51.462834]]], &quot;type&quot;: &quot;Polygon&quot;}, &quot;id&quot;: &quot;88195d7497fffff&quot;, &quot;properties&quot;: {&quot;order_count&quot;: 11}, &quot;type&quot;: &quot;Feature&quot;}, {&quot;geometry&quot;: {&quot;coordinates&quot;: [[[-0.965613, 51.419812], [-0.972341, 51.418562], [-0.973505, 51.414059], [-0.967943, 51.410806], [-0.961216, 51.412055], [-0.960051, 51.416558], [-0.965613, 51.419812]]], &quot;type&quot;: &quot;Polygon&quot;}, &quot;id&quot;: &quot;88195d2805fffff&quot;, &quot;properties&quot;: {&quot;order_count&quot;: 10}, &quot;type&quot;: &quot;Feature&quot;}, {&quot;geometry&quot;: {&quot;coordinates&quot;: [[[-0.892785, 51.429027], [-0.899512, 51.427782], [-0.900681, 51.423281], [-0.895125, 51.420026], [-0.8884, 51.421271], [-0.88723, 51.425771], [-0.892785, 51.429027]]], &quot;type&quot;: &quot;Polygon&quot;}, &quot;id&quot;: &quot;88195d2aedfffff&quot;, &quot;properties&quot;: {&quot;order_count&quot;: 10}, &quot;type&quot;: &quot;Feature&quot;}, {&quot;geometry&quot;: {&quot;coordinates&quot;: [[[-0.914731, 51.467803], [-0.921462, 51.466559], [-0.922631, 51.462059], [-0.91707, 51.458804], [-0.910339, 51.460049], [-0.909169, 51.464548], [-0.914731, 51.467803]]], &quot;type&quot;: &quot;Polygon&quot;}, &quot;id&quot;: &quot;88195d2a63fffff&quot;, &quot;properties&quot;: {&quot;order_count&quot;: 10}, &quot;type&quot;: &quot;Feature&quot;}, {&quot;geometry&quot;: {&quot;coordinates&quot;: [[[-0.919124, 51.475557], [-0.925857, 51.474313], [-0.927025, 51.469813], [-0.921462, 51.466559], [-0.914731, 51.467803], [-0.913561, 51.472302], [-0.919124, 51.475557]]], &quot;type&quot;: &quot;Polygon&quot;}, &quot;id&quot;: &quot;88195d2a61fffff&quot;, &quot;properties&quot;: {&quot;order_count&quot;: 10}, &quot;type&quot;: &quot;Feature&quot;}, {&quot;geometry&quot;: {&quot;coordinates&quot;: [[[-0.935818, 51.48532], [-0.942552, 51.484075], [-0.94372, 51.479576], [-0.938154, 51.476322], [-0.931421, 51.477567], [-0.930252, 51.482066], [-0.935818, 51.48532]]], &quot;type&quot;: &quot;Polygon&quot;}, &quot;id&quot;: &quot;88195d39b3fffff&quot;, &quot;properties&quot;: {&quot;order_count&quot;: 9}, &quot;type&quot;: &quot;Feature&quot;}, {&quot;geometry&quot;: {&quot;coordinates&quot;: [[[-0.909457, 51.438794], [-0.916185, 51.437548], [-0.917354, 51.433047], [-0.911795, 51.429792], [-0.905069, 51.431038], [-0.903899, 51.435538], [-0.909457, 51.438794]]], &quot;type&quot;: &quot;Polygon&quot;}, &quot;id&quot;: &quot;88195d2a31fffff&quot;, &quot;properties&quot;: {&quot;order_count&quot;: 9}, &quot;type&quot;: &quot;Feature&quot;}, {&quot;geometry&quot;: {&quot;coordinates&quot;: [[[-1.052631, 51.45508], [-1.059366, 51.453826], [-1.060525, 51.449322], [-1.054951, 51.446072], [-1.048217, 51.447326], [-1.047057, 51.45183], [-1.052631, 51.45508]]], &quot;type&quot;: &quot;Polygon&quot;}, &quot;id&quot;: &quot;88195d2969fffff&quot;, &quot;properties&quot;: {&quot;order_count&quot;: 9}, &quot;type&quot;: &quot;Feature&quot;}, {&quot;geometry&quot;: {&quot;coordinates&quot;: [[[-0.972727, 51.491342], [-0.979464, 51.490095], [-0.980629, 51.485595], [-0.975059, 51.482342], [-0.968324, 51.48359], [-0.967158, 51.48809], [-0.972727, 51.491342]]], &quot;type&quot;: &quot;Polygon&quot;}, &quot;id&quot;: &quot;88195d2b41fffff&quot;, &quot;properties&quot;: {&quot;order_count&quot;: 8}, &quot;type&quot;: &quot;Feature&quot;}, {&quot;geometry&quot;: {&quot;coordinates&quot;: [[[-0.912964, 51.425291], [-0.919691, 51.424045], [-0.920859, 51.419544], [-0.915301, 51.416289], [-0.908576, 51.417535], [-0.907407, 51.422036], [-0.912964, 51.425291]]], &quot;type&quot;: &quot;Polygon&quot;}, &quot;id&quot;: &quot;88195d2859fffff&quot;, &quot;properties&quot;: {&quot;order_count&quot;: 8}, &quot;type&quot;: &quot;Feature&quot;}, {&quot;geometry&quot;: {&quot;coordinates&quot;: [[[-1.068418, 51.443563], [-1.075152, 51.442308], [-1.07631, 51.437803], [-1.070735, 51.434553], [-1.064002, 51.435808], [-1.062843, 51.440313], [-1.068418, 51.443563]]], &quot;type&quot;: &quot;Polygon&quot;}, &quot;id&quot;: &quot;88195d2967fffff&quot;, &quot;properties&quot;: {&quot;order_count&quot;: 8}, &quot;type&quot;: &quot;Feature&quot;}, {&quot;geometry&quot;: {&quot;coordinates&quot;: [[[-0.940216, 51.493073], [-0.946951, 51.491828], [-0.948119, 51.487329], [-0.942552, 51.484075], [-0.935818, 51.48532], [-0.934649, 51.489819], [-0.940216, 51.493073]]], &quot;type&quot;: &quot;Polygon&quot;}, &quot;id&quot;: &quot;88195d39b1fffff&quot;, &quot;properties&quot;: {&quot;order_count&quot;: 7}, &quot;type&quot;: &quot;Feature&quot;}, {&quot;geometry&quot;: {&quot;coordinates&quot;: [[[-0.902439, 51.465792], [-0.909169, 51.464548], [-0.910339, 51.460049], [-0.904779, 51.456794], [-0.898049, 51.458038], [-0.896878, 51.462537], [-0.902439, 51.465792]]], &quot;type&quot;: &quot;Polygon&quot;}, &quot;id&quot;: &quot;88195d2a0dfffff&quot;, &quot;properties&quot;: {&quot;order_count&quot;: 7}, &quot;type&quot;: &quot;Feature&quot;}, {&quot;geometry&quot;: {&quot;coordinates&quot;: [[[-1.019198, 51.435575], [-1.025929, 51.434322], [-1.02709, 51.429818], [-1.021521, 51.426567], [-1.014791, 51.427819], [-1.013629, 51.432323], [-1.019198, 51.435575]]], &quot;type&quot;: &quot;Polygon&quot;}, &quot;id&quot;: &quot;88195d2955fffff&quot;, &quot;properties&quot;: {&quot;order_count&quot;: 7}, &quot;type&quot;: &quot;Feature&quot;}, {&quot;geometry&quot;: {&quot;coordinates&quot;: [[[-0.936645, 51.408045], [-0.94337, 51.406796], [-0.944536, 51.402293], [-0.938978, 51.399039], [-0.932254, 51.400287], [-0.931087, 51.40479], [-0.936645, 51.408045]]], &quot;type&quot;: &quot;Polygon&quot;}, &quot;id&quot;: &quot;88195d281dfffff&quot;, &quot;properties&quot;: {&quot;order_count&quot;: 7}, &quot;type&quot;: &quot;Feature&quot;}, {&quot;geometry&quot;: {&quot;coordinates&quot;: [[[-0.885761, 51.456025], [-0.89249, 51.454782], [-0.893661, 51.450283], [-0.888103, 51.447027], [-0.881375, 51.44827], [-0.880204, 51.452769], [-0.885761, 51.456025]]], &quot;type&quot;: &quot;Polygon&quot;}, &quot;id&quot;: &quot;88195d2a0bfffff&quot;, &quot;properties&quot;: {&quot;order_count&quot;: 7}, &quot;type&quot;: &quot;Feature&quot;}, {&quot;geometry&quot;: {&quot;coordinates&quot;: [[[-1.024532, 51.464593], [-1.031267, 51.463341], [-1.032428, 51.458838], [-1.026855, 51.455587], [-1.020121, 51.456839], [-1.018959, 51.461342], [-1.024532, 51.464593]]], &quot;type&quot;: &quot;Polygon&quot;}, &quot;id&quot;: &quot;88195d2b27fffff&quot;, &quot;properties&quot;: {&quot;order_count&quot;: 5}, &quot;type&quot;: &quot;Feature&quot;}, {&quot;geometry&quot;: {&quot;coordinates&quot;: [[[-1.000837, 51.481849], [-1.007573, 51.4806], [-1.008736, 51.476098], [-1.003164, 51.472847], [-0.996429, 51.474096], [-0.995265, 51.478597], [-1.000837, 51.481849]]], &quot;type&quot;: &quot;Polygon&quot;}, &quot;id&quot;: &quot;88195d2b63fffff&quot;, &quot;properties&quot;: {&quot;order_count&quot;: 5}, &quot;type&quot;: &quot;Feature&quot;}, {&quot;geometry&quot;: {&quot;coordinates&quot;: [[[-1.04567, 51.482099], [-1.052408, 51.480846], [-1.053568, 51.476344], [-1.047991, 51.473093], [-1.041255, 51.474346], [-1.040093, 51.478848], [-1.04567, 51.482099]]], &quot;type&quot;: &quot;Polygon&quot;}, &quot;id&quot;: &quot;88195d74d7fffff&quot;, &quot;properties&quot;: {&quot;order_count&quot;: 5}, &quot;type&quot;: &quot;Feature&quot;}, {&quot;geometry&quot;: {&quot;coordinates&quot;: [[[-1.060525, 51.449322], [-1.06726, 51.448068], [-1.068418, 51.443563], [-1.062843, 51.440313], [-1.05611, 51.441568], [-1.054951, 51.446072], [-1.060525, 51.449322]]], &quot;type&quot;: &quot;Polygon&quot;}, &quot;id&quot;: &quot;88195d2961fffff&quot;, &quot;properties&quot;: {&quot;order_count&quot;: 5}, &quot;type&quot;: &quot;Feature&quot;}, {&quot;geometry&quot;: {&quot;coordinates&quot;: [[[-0.890148, 51.46378], [-0.896878, 51.462537], [-0.898049, 51.458038], [-0.89249, 51.454782], [-0.885761, 51.456025], [-0.88459, 51.460524], [-0.890148, 51.46378]]], &quot;type&quot;: &quot;Polygon&quot;}, &quot;id&quot;: &quot;88195d2a09fffff&quot;, &quot;properties&quot;: {&quot;order_count&quot;: 5}, &quot;type&quot;: &quot;Feature&quot;}, {&quot;geometry&quot;: {&quot;coordinates&quot;: [[[-0.898927, 51.479288], [-0.905659, 51.478045], [-0.906829, 51.473546], [-0.901268, 51.470291], [-0.894537, 51.471534], [-0.893366, 51.476033], [-0.898927, 51.479288]]], &quot;type&quot;: &quot;Polygon&quot;}, &quot;id&quot;: &quot;88195d2a45fffff&quot;, &quot;properties&quot;: {&quot;order_count&quot;: 5}, &quot;type&quot;: &quot;Feature&quot;}, {&quot;geometry&quot;: {&quot;coordinates&quot;: [[[-0.906829, 51.473546], [-0.913561, 51.472302], [-0.914731, 51.467803], [-0.909169, 51.464548], [-0.902439, 51.465792], [-0.901268, 51.470291], [-0.906829, 51.473546]]], &quot;type&quot;: &quot;Polygon&quot;}, &quot;id&quot;: &quot;88195d2a6bfffff&quot;, &quot;properties&quot;: {&quot;order_count&quot;: 4}, &quot;type&quot;: &quot;Feature&quot;}, {&quot;geometry&quot;: {&quot;coordinates&quot;: [[[-0.977132, 51.499095], [-0.98387, 51.497848], [-0.985035, 51.493348], [-0.979464, 51.490095], [-0.972727, 51.491342], [-0.971561, 51.495842], [-0.977132, 51.499095]]], &quot;type&quot;: &quot;Polygon&quot;}, &quot;id&quot;: &quot;88195d2b4dfffff&quot;, &quot;properties&quot;: {&quot;order_count&quot;: 4}, &quot;type&quot;: &quot;Feature&quot;}, {&quot;geometry&quot;: {&quot;coordinates&quot;: [[[-0.997344, 51.495352], [-1.004082, 51.494103], [-1.005246, 51.489602], [-0.999673, 51.48635], [-0.992936, 51.487599], [-0.991772, 51.4921], [-0.997344, 51.495352]]], &quot;type&quot;: &quot;Polygon&quot;}, &quot;id&quot;: &quot;88195d2b69fffff&quot;, &quot;properties&quot;: {&quot;order_count&quot;: 4}, &quot;type&quot;: &quot;Feature&quot;}, {&quot;geometry&quot;: {&quot;coordinates&quot;: [[[-0.87786, 51.461767], [-0.88459, 51.460524], [-0.885761, 51.456025], [-0.880204, 51.452769], [-0.873475, 51.454012], [-0.872303, 51.45851], [-0.87786, 51.461767]]], &quot;type&quot;: &quot;Polygon&quot;}, &quot;id&quot;: &quot;88195d2a55fffff&quot;, &quot;properties&quot;: {&quot;order_count&quot;: 4}, &quot;type&quot;: &quot;Feature&quot;}, {&quot;geometry&quot;: {&quot;coordinates&quot;: [[[-0.876991, 51.440514], [-0.883718, 51.439271], [-0.884888, 51.434771], [-0.879333, 51.431515], [-0.872607, 51.432759], [-0.871436, 51.437258], [-0.876991, 51.440514]]], &quot;type&quot;: &quot;Polygon&quot;}, &quot;id&quot;: &quot;88195d2a11fffff&quot;, &quot;properties&quot;: {&quot;order_count&quot;: 4}, &quot;type&quot;: &quot;Feature&quot;}, {&quot;geometry&quot;: {&quot;coordinates&quot;: [[[-1.049151, 51.46859], [-1.055888, 51.467337], [-1.057047, 51.462834], [-1.051472, 51.459584], [-1.044737, 51.460837], [-1.043576, 51.46534], [-1.049151, 51.46859]]], &quot;type&quot;: &quot;Polygon&quot;}, &quot;id&quot;: &quot;88195d7491fffff&quot;, &quot;properties&quot;: {&quot;order_count&quot;: 4}, &quot;type&quot;: &quot;Feature&quot;}, {&quot;geometry&quot;: {&quot;coordinates&quot;: [[[-1.033357, 51.4801], [-1.040093, 51.478848], [-1.041255, 51.474346], [-1.035679, 51.471095], [-1.028943, 51.472347], [-1.027782, 51.476849], [-1.033357, 51.4801]]], &quot;type&quot;: &quot;Polygon&quot;}, &quot;id&quot;: &quot;88195d74d3fffff&quot;, &quot;properties&quot;: {&quot;order_count&quot;: 4}, &quot;type&quot;: &quot;Feature&quot;}, {&quot;geometry&quot;: {&quot;coordinates&quot;: [[[-1.057985, 51.484096], [-1.064724, 51.482844], [-1.065883, 51.478341], [-1.060305, 51.475091], [-1.053568, 51.476344], [-1.052408, 51.480846], [-1.057985, 51.484096]]], &quot;type&quot;: &quot;Polygon&quot;}, &quot;id&quot;: &quot;88195d748bfffff&quot;, &quot;properties&quot;: {&quot;order_count&quot;: 3}, &quot;type&quot;: &quot;Feature&quot;}, {&quot;geometry&quot;: {&quot;coordinates&quot;: [[[-0.985796, 51.416061], [-0.992524, 51.41481], [-0.993687, 51.410306], [-0.988123, 51.407054], [-0.981396, 51.408305], [-0.980233, 51.412808], [-0.985796, 51.416061]]], &quot;type&quot;: &quot;Polygon&quot;}, &quot;id&quot;: &quot;88195d2821fffff&quot;, &quot;properties&quot;: {&quot;order_count&quot;: 3}, &quot;type&quot;: &quot;Feature&quot;}, {&quot;geometry&quot;: {&quot;coordinates&quot;: [[[-0.8884, 51.421271], [-0.895125, 51.420026], [-0.896295, 51.415525], [-0.890741, 51.412269], [-0.884017, 51.413514], [-0.882846, 51.418014], [-0.8884, 51.421271]]], &quot;type&quot;: &quot;Polygon&quot;}, &quot;id&quot;: &quot;88195d2ae1fffff&quot;, &quot;properties&quot;: {&quot;order_count&quot;: 3}, &quot;type&quot;: &quot;Feature&quot;}, {&quot;geometry&quot;: {&quot;coordinates&quot;: [[[-0.961216, 51.412055], [-0.967943, 51.410806], [-0.969108, 51.406302], [-0.963546, 51.403049], [-0.956821, 51.404298], [-0.955656, 51.408801], [-0.961216, 51.412055]]], &quot;type&quot;: &quot;Polygon&quot;}, &quot;id&quot;: &quot;88195d2807fffff&quot;, &quot;properties&quot;: {&quot;order_count&quot;: 3}, &quot;type&quot;: &quot;Feature&quot;}, {&quot;geometry&quot;: {&quot;coordinates&quot;: [[[-0.932312, 51.498817], [-0.939047, 51.497572], [-0.940216, 51.493073], [-0.934649, 51.489819], [-0.927914, 51.491064], [-0.926745, 51.495562], [-0.932312, 51.498817]]], &quot;type&quot;: &quot;Polygon&quot;}, &quot;id&quot;: &quot;88195d39b9fffff&quot;, &quot;properties&quot;: {&quot;order_count&quot;: 3}, &quot;type&quot;: &quot;Feature&quot;}, {&quot;geometry&quot;: {&quot;coordinates&quot;: [[[-0.927914, 51.491064], [-0.934649, 51.489819], [-0.935818, 51.48532], [-0.930252, 51.482066], [-0.923519, 51.483311], [-0.922349, 51.487809], [-0.927914, 51.491064]]], &quot;type&quot;: &quot;Polygon&quot;}, &quot;id&quot;: &quot;88195d39bbfffff&quot;, &quot;properties&quot;: {&quot;order_count&quot;: 2}, &quot;type&quot;: &quot;Feature&quot;}, {&quot;geometry&quot;: {&quot;coordinates&quot;: [[[-1.039392, 51.431816], [-1.046124, 51.430562], [-1.047283, 51.426057], [-1.041712, 51.422806], [-1.034982, 51.42406], [-1.033821, 51.428565], [-1.039392, 51.431816]]], &quot;type&quot;: &quot;Polygon&quot;}, &quot;id&quot;: &quot;88195d2901fffff&quot;, &quot;properties&quot;: {&quot;order_count&quot;: 2}, &quot;type&quot;: &quot;Feature&quot;}, {&quot;geometry&quot;: {&quot;coordinates&quot;: [[[-1.053568, 51.476344], [-1.060305, 51.475091], [-1.061464, 51.470587], [-1.055888, 51.467337], [-1.049151, 51.46859], [-1.047991, 51.473093], [-1.053568, 51.476344]]], &quot;type&quot;: &quot;Polygon&quot;}, &quot;id&quot;: &quot;88195d749dfffff&quot;, &quot;properties&quot;: {&quot;order_count&quot;: 2}, &quot;type&quot;: &quot;Feature&quot;}, {&quot;geometry&quot;: {&quot;coordinates&quot;: [[[-1.050087, 51.489851], [-1.056825, 51.488599], [-1.057985, 51.484096], [-1.052408, 51.480846], [-1.04567, 51.482099], [-1.044509, 51.486601], [-1.050087, 51.489851]]], &quot;type&quot;: &quot;Polygon&quot;}, &quot;id&quot;: &quot;88195d74d5fffff&quot;, &quot;properties&quot;: {&quot;order_count&quot;: 1}, &quot;type&quot;: &quot;Feature&quot;}, {&quot;geometry&quot;: {&quot;coordinates&quot;: [[[-0.876122, 51.419258], [-0.882846, 51.418014], [-0.884017, 51.413514], [-0.878463, 51.410257], [-0.87174, 51.411501], [-0.870569, 51.416002], [-0.876122, 51.419258]]], &quot;type&quot;: &quot;Polygon&quot;}, &quot;id&quot;: &quot;88195d2aebfffff&quot;, &quot;properties&quot;: {&quot;order_count&quot;: 1}, &quot;type&quot;: &quot;Feature&quot;}, {&quot;geometry&quot;: {&quot;coordinates&quot;: [[[-0.903318, 51.487042], [-0.910052, 51.485798], [-0.911222, 51.4813], [-0.905659, 51.478045], [-0.898927, 51.479288], [-0.897756, 51.483786], [-0.903318, 51.487042]]], &quot;type&quot;: &quot;Polygon&quot;}, &quot;id&quot;: &quot;88195d3993fffff&quot;, &quot;properties&quot;: {&quot;order_count&quot;: 1}, &quot;type&quot;: &quot;Feature&quot;}, {&quot;geometry&quot;: {&quot;coordinates&quot;: [[[-1.002493, 51.425819], [-1.009223, 51.424567], [-1.010385, 51.420063], [-1.004818, 51.416811], [-0.99809, 51.418063], [-0.996927, 51.422567], [-1.002493, 51.425819]]], &quot;type&quot;: &quot;Polygon&quot;}, &quot;id&quot;: &quot;88195d2953fffff&quot;, &quot;properties&quot;: {&quot;order_count&quot;: 1}, &quot;type&quot;: &quot;Feature&quot;}, {&quot;geometry&quot;: {&quot;coordinates&quot;: [[[-1.037771, 51.487852], [-1.044509, 51.486601], [-1.04567, 51.482099], [-1.040093, 51.478848], [-1.033357, 51.4801], [-1.032195, 51.484602], [-1.037771, 51.487852]]], &quot;type&quot;: &quot;Polygon&quot;}, &quot;id&quot;: &quot;88195d74d1fffff&quot;, &quot;properties&quot;: {&quot;order_count&quot;: 1}, &quot;type&quot;: &quot;Feature&quot;}, {&quot;geometry&quot;: {&quot;coordinates&quot;: [[[-0.973505, 51.414059], [-0.980233, 51.412808], [-0.981396, 51.408305], [-0.975834, 51.405052], [-0.969108, 51.406302], [-0.967943, 51.410806], [-0.973505, 51.414059]]], &quot;type&quot;: &quot;Polygon&quot;}, &quot;id&quot;: &quot;88195d282bfffff&quot;, &quot;properties&quot;: {&quot;order_count&quot;: 1}, &quot;type&quot;: &quot;Feature&quot;}], &quot;type&quot;: &quot;FeatureCollection&quot;});\n",
       "\n",
       "        \n",
       "    \n",
       "    geo_json_dbdc2475bf5158343780f104923e508a.bindPopup(\n",
       "    function(layer){\n",
       "    let div = L.DomUtil.create(&#x27;div&#x27;);\n",
       "    \n",
       "    let handleObject = feature=&gt;typeof(feature)==&#x27;object&#x27; ? JSON.stringify(feature) : feature;\n",
       "    let fields = [&quot;order_count&quot;];\n",
       "    let aliases = [&quot;Order Count:&quot;];\n",
       "    let table = &#x27;&lt;table&gt;&#x27; +\n",
       "        String(\n",
       "        fields.map(\n",
       "        (v,i)=&gt;\n",
       "        `&lt;tr&gt;\n",
       "            &lt;th&gt;${aliases[i].toLocaleString()}&lt;/th&gt;\n",
       "            \n",
       "            &lt;td&gt;${handleObject(layer.feature.properties[v]).toLocaleString()}&lt;/td&gt;\n",
       "        &lt;/tr&gt;`).join(&#x27;&#x27;))\n",
       "    +&#x27;&lt;/table&gt;&#x27;;\n",
       "    div.innerHTML=table;\n",
       "    \n",
       "    return div\n",
       "    }\n",
       "    ,{&quot;className&quot;: &quot;foliumpopup&quot;, &quot;maxWidth&quot;: 500});\n",
       "                     \n",
       "    \n",
       "            geo_json_dbdc2475bf5158343780f104923e508a.addTo(map_4beaf9eb73b3fbca3107e8c2a55d12fd);\n",
       "        \n",
       "    \n",
       "    var color_map_54b69260cd404d4532091d2eb44a0ef3 = {};\n",
       "\n",
       "    \n",
       "    color_map_54b69260cd404d4532091d2eb44a0ef3.color = d3.scale.threshold()\n",
       "              .domain([1.0, 9.991983967935871, 18.983967935871743, 27.975951903807616, 36.967935871743485, 45.95991983967936, 54.95190380761523, 63.943887775551104, 72.93587174348697, 81.92785571142285, 90.91983967935872, 99.91182364729458, 108.90380761523046, 117.89579158316633, 126.88777555110221, 135.8797595190381, 144.87174348697394, 153.86372745490982, 162.8557114228457, 171.84769539078155, 180.83967935871743, 189.8316633266533, 198.82364729458916, 207.81563126252505, 216.80761523046093, 225.7995991983968, 234.79158316633266, 243.78356713426854, 252.77555110220442, 261.7675350701403, 270.7595190380762, 279.751503006012, 288.7434869739479, 297.73547094188376, 306.72745490981964, 315.7194388777555, 324.7114228456914, 333.7034068136273, 342.6953907815631, 351.687374749499, 360.67935871743487, 369.67134268537075, 378.6633266533066, 387.6553106212425, 396.64729458917833, 405.6392785571142, 414.6312625250501, 423.62324649298597, 432.61523046092185, 441.60721442885773, 450.5991983967936, 459.59118236472943, 468.5831663326653, 477.5751503006012, 486.5671342685371, 495.55911823647295, 504.55110220440883, 513.5430861723447, 522.5350701402806, 531.5270541082165, 540.5190380761524, 549.5110220440881, 558.503006012024, 567.4949899799599, 576.4869739478958, 585.4789579158316, 594.4709418837675, 603.4629258517034, 612.4549098196393, 621.4468937875752, 630.438877755511, 639.4308617234469, 648.4228456913828, 657.4148296593187, 666.4068136272546, 675.3987975951903, 684.3907815631262, 693.3827655310621, 702.374749498998, 711.3667334669339, 720.3587174348697, 729.3507014028056, 738.3426853707415, 747.3346693386774, 756.3266533066133, 765.3186372745491, 774.310621242485, 783.3026052104209, 792.2945891783567, 801.2865731462925, 810.2785571142284, 819.2705410821643, 828.2625250501002, 837.2545090180361, 846.2464929859719, 855.2384769539078, 864.2304609218437, 873.2224448897796, 882.2144288577155, 891.2064128256513, 900.1983967935872, 909.1903807615231, 918.1823647294589, 927.1743486973947, 936.1663326653306, 945.1583166332665, 954.1503006012024, 963.1422845691383, 972.1342685370741, 981.12625250501, 990.1182364729459, 999.1102204408818, 1008.1022044088177, 1017.0941883767536, 1026.0861723446894, 1035.0781563126252, 1044.0701402805612, 1053.062124248497, 1062.054108216433, 1071.0460921843687, 1080.0380761523047, 1089.0300601202405, 1098.0220440881762, 1107.0140280561122, 1116.006012024048, 1124.997995991984, 1133.9899799599198, 1142.9819639278558, 1151.9739478957915, 1160.9659318637275, 1169.9579158316633, 1178.9498997995993, 1187.941883767535, 1196.933867735471, 1205.9258517034068, 1214.9178356713426, 1223.9098196392786, 1232.9018036072143, 1241.8937875751503, 1250.885771543086, 1259.877755511022, 1268.8697394789579, 1277.8617234468938, 1286.8537074148296, 1295.8456913827656, 1304.8376753507014, 1313.8296593186374, 1322.8216432865731, 1331.8136272545091, 1340.805611222445, 1349.7975951903807, 1358.7895791583167, 1367.7815631262524, 1376.7735470941884, 1385.7655310621242, 1394.7575150300602, 1403.749498997996, 1412.741482965932, 1421.7334669338677, 1430.7254509018037, 1439.7174348697395, 1448.7094188376755, 1457.7014028056112, 1466.693386773547, 1475.685370741483, 1484.6773547094188, 1493.6693386773547, 1502.6613226452905, 1511.6533066132265, 1520.6452905811623, 1529.6372745490983, 1538.629258517034, 1547.62124248497, 1556.6132264529058, 1565.6052104208418, 1574.5971943887776, 1583.5891783567133, 1592.5811623246493, 1601.573146292585, 1610.565130260521, 1619.5571142284568, 1628.5490981963928, 1637.5410821643286, 1646.5330661322646, 1655.5250501002004, 1664.5170340681364, 1673.5090180360721, 1682.5010020040081, 1691.4929859719439, 1700.4849699398796, 1709.4769539078156, 1718.4689378757514, 1727.4609218436874, 1736.4529058116232, 1745.4448897795592, 1754.436873747495, 1763.428857715431, 1772.4208416833667, 1781.4128256513027, 1790.4048096192384, 1799.3967935871744, 1808.3887775551102, 1817.3807615230462, 1826.372745490982, 1835.3647294589177, 1844.3567134268537, 1853.3486973947895, 1862.3406813627255, 1871.3326653306613, 1880.3246492985973, 1889.316633266533, 1898.308617234469, 1907.3006012024048, 1916.2925851703408, 1925.2845691382765, 1934.2765531062125, 1943.2685370741483, 1952.260521042084, 1961.25250501002, 1970.2444889779558, 1979.2364729458918, 1988.2284569138276, 1997.2204408817636, 2006.2124248496993, 2015.2044088176353, 2024.196392785571, 2033.188376753507, 2042.1803607214429, 2051.172344689379, 2060.164328657315, 2069.1563126252504, 2078.1482965931864, 2087.1402805611224, 2096.132264529058, 2105.124248496994, 2114.11623246493, 2123.108216432866, 2132.1002004008014, 2141.0921843687374, 2150.0841683366734, 2159.0761523046094, 2168.068136272545, 2177.060120240481, 2186.052104208417, 2195.0440881763525, 2204.0360721442885, 2213.0280561122245, 2222.0200400801605, 2231.012024048096, 2240.004008016032, 2248.995991983968, 2257.987975951904, 2266.9799599198395, 2275.9719438877755, 2284.9639278557115, 2293.9559118236475, 2302.947895791583, 2311.939879759519, 2320.931863727455, 2329.9238476953906, 2338.9158316633266, 2347.9078156312626, 2356.8997995991986, 2365.891783567134, 2374.88376753507, 2383.875751503006, 2392.867735470942, 2401.8597194388776, 2410.8517034068136, 2419.8436873747496, 2428.835671342685, 2437.827655310621, 2446.819639278557, 2455.811623246493, 2464.8036072144287, 2473.7955911823647, 2482.7875751503007, 2491.7795591182366, 2500.771543086172, 2509.763527054108, 2518.755511022044, 2527.74749498998, 2536.7394789579157, 2545.7314629258517, 2554.7234468937877, 2563.7154308617232, 2572.7074148296592, 2581.699398797595, 2590.691382765531, 2599.6833667334668, 2608.6753507014027, 2617.6673346693387, 2626.6593186372747, 2635.6513026052103, 2644.6432865731463, 2653.6352705410823, 2662.6272545090183, 2671.619238476954, 2680.61122244489, 2689.603206412826, 2698.5951903807613, 2707.5871743486973, 2716.5791583166333, 2725.5711422845693, 2734.563126252505, 2743.555110220441, 2752.547094188377, 2761.539078156313, 2770.5310621242484, 2779.5230460921844, 2788.5150300601204, 2797.507014028056, 2806.498997995992, 2815.490981963928, 2824.482965931864, 2833.4749498997994, 2842.4669338677354, 2851.4589178356714, 2860.4509018036074, 2869.442885771543, 2878.434869739479, 2887.426853707415, 2896.418837675351, 2905.4108216432865, 2914.4028056112224, 2923.3947895791584, 2932.386773547094, 2941.37875751503, 2950.370741482966, 2959.362725450902, 2968.3547094188375, 2977.3466933867735, 2986.3386773547095, 2995.3306613226455, 3004.322645290581, 3013.314629258517, 3022.306613226453, 3031.298597194389, 3040.2905811623245, 3049.2825651302605, 3058.2745490981965, 3067.266533066132, 3076.258517034068, 3085.250501002004, 3094.24248496994, 3103.2344689378756, 3112.2264529058116, 3121.2184368737476, 3130.2104208416836, 3139.202404809619, 3148.194388777555, 3157.186372745491, 3166.1783567134266, 3175.1703406813626, 3184.1623246492986, 3193.1543086172346, 3202.14629258517, 3211.138276553106, 3220.130260521042, 3229.122244488978, 3238.1142284569137, 3247.1062124248497, 3256.0981963927857, 3265.0901803607217, 3274.082164328657, 3283.074148296593, 3292.066132264529, 3301.0581162324647, 3310.0501002004007, 3319.0420841683367, 3328.0340681362727, 3337.0260521042082, 3346.0180360721442, 3355.0100200400802, 3364.0020040080162, 3372.9939879759518, 3381.9859719438878, 3390.9779559118238, 3399.9699398797593, 3408.9619238476953, 3417.9539078156313, 3426.9458917835673, 3435.937875751503, 3444.929859719439, 3453.921843687375, 3462.913827655311, 3471.9058116232463, 3480.8977955911823, 3489.8897795591183, 3498.8817635270543, 3507.87374749499, 3516.865731462926, 3525.857715430862, 3534.8496993987974, 3543.8416833667334, 3552.8336673346694, 3561.8256513026054, 3570.817635270541, 3579.809619238477, 3588.801603206413, 3597.793587174349, 3606.7855711422844, 3615.7775551102204, 3624.7695390781564, 3633.7615230460924, 3642.753507014028, 3651.745490981964, 3660.7374749499, 3669.7294589178355, 3678.7214428857715, 3687.7134268537075, 3696.7054108216435, 3705.697394789579, 3714.689378757515, 3723.681362725451, 3732.673346693387, 3741.6653306613225, 3750.6573146292585, 3759.6492985971945, 3768.64128256513, 3777.633266533066, 3786.625250501002, 3795.617234468938, 3804.6092184368736, 3813.6012024048096, 3822.5931863727455, 3831.5851703406815, 3840.577154308617, 3849.569138276553, 3858.561122244489, 3867.553106212425, 3876.5450901803606, 3885.5370741482966, 3894.5290581162326, 3903.521042084168, 3912.513026052104, 3921.50501002004, 3930.496993987976, 3939.4889779559117, 3948.4809619238476, 3957.4729458917836, 3966.4649298597196, 3975.456913827655, 3984.448897795591, 3993.440881763527, 4002.432865731463, 4011.4248496993987, 4020.4168336673347, 4029.4088176352707, 4038.400801603206, 4047.392785571142, 4056.384769539078, 4065.376753507014, 4074.3687374749497, 4083.3607214428857, 4092.3527054108217, 4101.344689378758, 4110.336673346694, 4119.32865731463, 4128.320641282565, 4137.312625250501, 4146.304609218437, 4155.296593186373, 4164.288577154309, 4173.280561122245, 4182.272545090181, 4191.264529058116, 4200.256513026052, 4209.248496993988, 4218.240480961924, 4227.23246492986, 4236.224448897796, 4245.216432865732, 4254.208416833667, 4263.200400801603, 4272.192384769539, 4281.184368737475, 4290.176352705411, 4299.168336673347, 4308.160320641283, 4317.152304609219, 4326.144288577154, 4335.13627254509, 4344.128256513026, 4353.120240480962, 4362.112224448898, 4371.104208416834, 4380.09619238477, 4389.088176352705, 4398.080160320641, 4407.072144288577, 4416.064128256513, 4425.056112224449, 4434.048096192385, 4443.040080160321, 4452.032064128257, 4461.024048096192, 4470.016032064128, 4479.008016032064, 4488.0])\n",
       "              .range([&#x27;#0d0887ff&#x27;, &#x27;#0d0887ff&#x27;, &#x27;#0d0987ff&#x27;, &#x27;#0e0986ff&#x27;, &#x27;#0e0986ff&#x27;, &#x27;#0f0a86ff&#x27;, &#x27;#0f0a86ff&#x27;, &#x27;#100b86ff&#x27;, &#x27;#100b85ff&#x27;, &#x27;#110c85ff&#x27;, &#x27;#110c85ff&#x27;, &#x27;#120d85ff&#x27;, &#x27;#120d85ff&#x27;, &#x27;#120e84ff&#x27;, &#x27;#130e84ff&#x27;, &#x27;#130f84ff&#x27;, &#x27;#140f84ff&#x27;, &#x27;#141084ff&#x27;, &#x27;#151083ff&#x27;, &#x27;#151183ff&#x27;, &#x27;#161183ff&#x27;, &#x27;#161283ff&#x27;, &#x27;#171283ff&#x27;, &#x27;#171382ff&#x27;, &#x27;#181382ff&#x27;, &#x27;#181482ff&#x27;, &#x27;#181482ff&#x27;, &#x27;#191581ff&#x27;, &#x27;#191581ff&#x27;, &#x27;#1a1681ff&#x27;, &#x27;#1a1681ff&#x27;, &#x27;#1b1781ff&#x27;, &#x27;#1b1780ff&#x27;, &#x27;#1c1880ff&#x27;, &#x27;#1c1880ff&#x27;, &#x27;#1d1980ff&#x27;, &#x27;#1d1980ff&#x27;, &#x27;#1d197fff&#x27;, &#x27;#1e1a7fff&#x27;, &#x27;#1e1a7fff&#x27;, &#x27;#1f1b7fff&#x27;, &#x27;#1f1b7fff&#x27;, &#x27;#201c7eff&#x27;, &#x27;#201c7eff&#x27;, &#x27;#211d7eff&#x27;, &#x27;#211d7eff&#x27;, &#x27;#221e7eff&#x27;, &#x27;#221e7dff&#x27;, &#x27;#221f7dff&#x27;, &#x27;#231f7dff&#x27;, &#x27;#23207dff&#x27;, &#x27;#24207dff&#x27;, &#x27;#24217cff&#x27;, &#x27;#25217cff&#x27;, &#x27;#25227cff&#x27;, &#x27;#26227cff&#x27;, &#x27;#26237cff&#x27;, &#x27;#27237bff&#x27;, &#x27;#27247bff&#x27;, &#x27;#27247bff&#x27;, &#x27;#28257bff&#x27;, &#x27;#28257bff&#x27;, &#x27;#29267aff&#x27;, &#x27;#29267aff&#x27;, &#x27;#2a277aff&#x27;, &#x27;#2a277aff&#x27;, &#x27;#2b2879ff&#x27;, &#x27;#2b2879ff&#x27;, &#x27;#2c2979ff&#x27;, &#x27;#2c2979ff&#x27;, &#x27;#2d2979ff&#x27;, &#x27;#2d2a78ff&#x27;, &#x27;#2d2a78ff&#x27;, &#x27;#2e2b78ff&#x27;, &#x27;#2e2b78ff&#x27;, &#x27;#2f2c78ff&#x27;, &#x27;#2f2c77ff&#x27;, &#x27;#302d77ff&#x27;, &#x27;#302d77ff&#x27;, &#x27;#312e77ff&#x27;, &#x27;#312e77ff&#x27;, &#x27;#322f76ff&#x27;, &#x27;#322f76ff&#x27;, &#x27;#323076ff&#x27;, &#x27;#333076ff&#x27;, &#x27;#333176ff&#x27;, &#x27;#343175ff&#x27;, &#x27;#343275ff&#x27;, &#x27;#353275ff&#x27;, &#x27;#353375ff&#x27;, &#x27;#363375ff&#x27;, &#x27;#363474ff&#x27;, &#x27;#373474ff&#x27;, &#x27;#373574ff&#x27;, &#x27;#373574ff&#x27;, &#x27;#383674ff&#x27;, &#x27;#383673ff&#x27;, &#x27;#393773ff&#x27;, &#x27;#393773ff&#x27;, &#x27;#3a3873ff&#x27;, &#x27;#3a3873ff&#x27;, &#x27;#3b3972ff&#x27;, &#x27;#3b3972ff&#x27;, &#x27;#3c3972ff&#x27;, &#x27;#3c3a72ff&#x27;, &#x27;#3d3a71ff&#x27;, &#x27;#3d3b71ff&#x27;, &#x27;#3d3b71ff&#x27;, &#x27;#3e3c71ff&#x27;, &#x27;#3e3c71ff&#x27;, &#x27;#3f3d70ff&#x27;, &#x27;#3f3d70ff&#x27;, &#x27;#403e70ff&#x27;, &#x27;#403e70ff&#x27;, &#x27;#413f70ff&#x27;, &#x27;#413f6fff&#x27;, &#x27;#42406fff&#x27;, &#x27;#42406fff&#x27;, &#x27;#42416fff&#x27;, &#x27;#43416fff&#x27;, &#x27;#43426eff&#x27;, &#x27;#44426eff&#x27;, &#x27;#44436eff&#x27;, &#x27;#45436eff&#x27;, &#x27;#45446eff&#x27;, &#x27;#46446dff&#x27;, &#x27;#46456dff&#x27;, &#x27;#47456dff&#x27;, &#x27;#47466dff&#x27;, &#x27;#47466dff&#x27;, &#x27;#48476cff&#x27;, &#x27;#48476cff&#x27;, &#x27;#49486cff&#x27;, &#x27;#49486cff&#x27;, &#x27;#4a496cff&#x27;, &#x27;#4a496bff&#x27;, &#x27;#4b496bff&#x27;, &#x27;#4b4a6bff&#x27;, &#x27;#4c4a6bff&#x27;, &#x27;#4c4b6bff&#x27;, &#x27;#4c4b6aff&#x27;, &#x27;#4d4c6aff&#x27;, &#x27;#4d4c6aff&#x27;, &#x27;#4e4d6aff&#x27;, &#x27;#4e4d69ff&#x27;, &#x27;#4f4e69ff&#x27;, &#x27;#4f4e69ff&#x27;, &#x27;#504f69ff&#x27;, &#x27;#504f69ff&#x27;, &#x27;#515068ff&#x27;, &#x27;#515068ff&#x27;, &#x27;#525168ff&#x27;, &#x27;#525168ff&#x27;, &#x27;#525268ff&#x27;, &#x27;#535267ff&#x27;, &#x27;#535367ff&#x27;, &#x27;#545367ff&#x27;, &#x27;#545467ff&#x27;, &#x27;#555467ff&#x27;, &#x27;#555566ff&#x27;, &#x27;#565566ff&#x27;, &#x27;#565666ff&#x27;, &#x27;#575666ff&#x27;, &#x27;#575766ff&#x27;, &#x27;#575765ff&#x27;, &#x27;#585865ff&#x27;, &#x27;#585865ff&#x27;, &#x27;#595965ff&#x27;, &#x27;#595965ff&#x27;, &#x27;#5a5964ff&#x27;, &#x27;#5a5a64ff&#x27;, &#x27;#5b5a64ff&#x27;, &#x27;#5b5b64ff&#x27;, &#x27;#5c5b64ff&#x27;, &#x27;#5c5c63ff&#x27;, &#x27;#5c5c63ff&#x27;, &#x27;#5d5d63ff&#x27;, &#x27;#5d5d63ff&#x27;, &#x27;#5e5e63ff&#x27;, &#x27;#5e5e62ff&#x27;, &#x27;#5f5f62ff&#x27;, &#x27;#5f5f62ff&#x27;, &#x27;#606062ff&#x27;, &#x27;#606061ff&#x27;, &#x27;#616161ff&#x27;, &#x27;#616161ff&#x27;, &#x27;#616261ff&#x27;, &#x27;#626261ff&#x27;, &#x27;#626360ff&#x27;, &#x27;#636360ff&#x27;, &#x27;#636460ff&#x27;, &#x27;#646460ff&#x27;, &#x27;#646560ff&#x27;, &#x27;#65655fff&#x27;, &#x27;#65665fff&#x27;, &#x27;#66665fff&#x27;, &#x27;#66675fff&#x27;, &#x27;#67675fff&#x27;, &#x27;#67685eff&#x27;, &#x27;#67685eff&#x27;, &#x27;#68695eff&#x27;, &#x27;#68695eff&#x27;, &#x27;#69695eff&#x27;, &#x27;#696a5dff&#x27;, &#x27;#6a6a5dff&#x27;, &#x27;#6a6b5dff&#x27;, &#x27;#6b6b5dff&#x27;, &#x27;#6b6c5dff&#x27;, &#x27;#6c6c5cff&#x27;, &#x27;#6c6d5cff&#x27;, &#x27;#6c6d5cff&#x27;, &#x27;#6d6e5cff&#x27;, &#x27;#6d6e5cff&#x27;, &#x27;#6e6f5bff&#x27;, &#x27;#6e6f5bff&#x27;, &#x27;#6f705bff&#x27;, &#x27;#6f705bff&#x27;, &#x27;#70715aff&#x27;, &#x27;#70715aff&#x27;, &#x27;#71725aff&#x27;, &#x27;#71725aff&#x27;, &#x27;#71735aff&#x27;, &#x27;#727359ff&#x27;, &#x27;#727459ff&#x27;, &#x27;#737459ff&#x27;, &#x27;#737559ff&#x27;, &#x27;#747559ff&#x27;, &#x27;#747658ff&#x27;, &#x27;#757658ff&#x27;, &#x27;#757758ff&#x27;, &#x27;#767758ff&#x27;, &#x27;#767858ff&#x27;, &#x27;#777857ff&#x27;, &#x27;#777957ff&#x27;, &#x27;#777957ff&#x27;, &#x27;#787957ff&#x27;, &#x27;#787a57ff&#x27;, &#x27;#797a56ff&#x27;, &#x27;#797b56ff&#x27;, &#x27;#7a7b56ff&#x27;, &#x27;#7a7c56ff&#x27;, &#x27;#7b7c56ff&#x27;, &#x27;#7b7d55ff&#x27;, &#x27;#7c7d55ff&#x27;, &#x27;#7c7e55ff&#x27;, &#x27;#7c7e55ff&#x27;, &#x27;#7d7f55ff&#x27;, &#x27;#7d7f54ff&#x27;, &#x27;#7e8054ff&#x27;, &#x27;#7e8054ff&#x27;, &#x27;#7f8154ff&#x27;, &#x27;#7f8154ff&#x27;, &#x27;#808253ff&#x27;, &#x27;#808253ff&#x27;, &#x27;#818353ff&#x27;, &#x27;#818353ff&#x27;, &#x27;#818452ff&#x27;, &#x27;#828452ff&#x27;, &#x27;#828552ff&#x27;, &#x27;#838552ff&#x27;, &#x27;#838652ff&#x27;, &#x27;#848651ff&#x27;, &#x27;#848751ff&#x27;, &#x27;#858751ff&#x27;, &#x27;#858851ff&#x27;, &#x27;#868851ff&#x27;, &#x27;#868950ff&#x27;, &#x27;#868950ff&#x27;, &#x27;#878950ff&#x27;, &#x27;#878a50ff&#x27;, &#x27;#888a50ff&#x27;, &#x27;#888b4fff&#x27;, &#x27;#898b4fff&#x27;, &#x27;#898c4fff&#x27;, &#x27;#8a8c4fff&#x27;, &#x27;#8a8d4fff&#x27;, &#x27;#8b8d4eff&#x27;, &#x27;#8b8e4eff&#x27;, &#x27;#8c8e4eff&#x27;, &#x27;#8c8f4eff&#x27;, &#x27;#8c8f4eff&#x27;, &#x27;#8d904dff&#x27;, &#x27;#8d904dff&#x27;, &#x27;#8e914dff&#x27;, &#x27;#8e914dff&#x27;, &#x27;#8f924dff&#x27;, &#x27;#8f924cff&#x27;, &#x27;#90934cff&#x27;, &#x27;#90934cff&#x27;, &#x27;#91944cff&#x27;, &#x27;#91944cff&#x27;, &#x27;#91954bff&#x27;, &#x27;#92954bff&#x27;, &#x27;#92964bff&#x27;, &#x27;#93964bff&#x27;, &#x27;#93974aff&#x27;, &#x27;#94974aff&#x27;, &#x27;#94984aff&#x27;, &#x27;#95984aff&#x27;, &#x27;#95994aff&#x27;, &#x27;#969949ff&#x27;, &#x27;#969949ff&#x27;, &#x27;#969a49ff&#x27;, &#x27;#979a49ff&#x27;, &#x27;#979b49ff&#x27;, &#x27;#989b48ff&#x27;, &#x27;#989c48ff&#x27;, &#x27;#999c48ff&#x27;, &#x27;#999d48ff&#x27;, &#x27;#9a9d48ff&#x27;, &#x27;#9a9e47ff&#x27;, &#x27;#9b9e47ff&#x27;, &#x27;#9b9f47ff&#x27;, &#x27;#9b9f47ff&#x27;, &#x27;#9ca047ff&#x27;, &#x27;#9ca046ff&#x27;, &#x27;#9da146ff&#x27;, &#x27;#9da146ff&#x27;, &#x27;#9ea246ff&#x27;, &#x27;#9ea246ff&#x27;, &#x27;#9fa345ff&#x27;, &#x27;#9fa345ff&#x27;, &#x27;#a0a445ff&#x27;, &#x27;#a0a445ff&#x27;, &#x27;#a1a545ff&#x27;, &#x27;#a1a544ff&#x27;, &#x27;#a1a644ff&#x27;, &#x27;#a2a644ff&#x27;, &#x27;#a2a744ff&#x27;, &#x27;#a3a744ff&#x27;, &#x27;#a3a843ff&#x27;, &#x27;#a4a843ff&#x27;, &#x27;#a4a943ff&#x27;, &#x27;#a5a943ff&#x27;, &#x27;#a5a942ff&#x27;, &#x27;#a6aa42ff&#x27;, &#x27;#a6aa42ff&#x27;, &#x27;#a6ab42ff&#x27;, &#x27;#a7ab42ff&#x27;, &#x27;#a7ac41ff&#x27;, &#x27;#a8ac41ff&#x27;, &#x27;#a8ad41ff&#x27;, &#x27;#a9ad41ff&#x27;, &#x27;#a9ae41ff&#x27;, &#x27;#aaae40ff&#x27;, &#x27;#aaaf40ff&#x27;, &#x27;#abaf40ff&#x27;, &#x27;#abb040ff&#x27;, &#x27;#abb040ff&#x27;, &#x27;#acb13fff&#x27;, &#x27;#acb13fff&#x27;, &#x27;#adb23fff&#x27;, &#x27;#adb23fff&#x27;, &#x27;#aeb33fff&#x27;, &#x27;#aeb33eff&#x27;, &#x27;#afb43eff&#x27;, &#x27;#afb43eff&#x27;, &#x27;#b0b53eff&#x27;, &#x27;#b0b53eff&#x27;, &#x27;#b1b63dff&#x27;, &#x27;#b1b63dff&#x27;, &#x27;#b1b73dff&#x27;, &#x27;#b2b73dff&#x27;, &#x27;#b2b83dff&#x27;, &#x27;#b3b83cff&#x27;, &#x27;#b3b93cff&#x27;, &#x27;#b4b93cff&#x27;, &#x27;#b4b93cff&#x27;, &#x27;#b5ba3cff&#x27;, &#x27;#b5ba3bff&#x27;, &#x27;#b6bb3bff&#x27;, &#x27;#b6bb3bff&#x27;, &#x27;#b6bc3bff&#x27;, &#x27;#b7bc3aff&#x27;, &#x27;#b7bd3aff&#x27;, &#x27;#b8bd3aff&#x27;, &#x27;#b8be3aff&#x27;, &#x27;#b9be3aff&#x27;, &#x27;#b9bf39ff&#x27;, &#x27;#babf39ff&#x27;, &#x27;#bac039ff&#x27;, &#x27;#bbc039ff&#x27;, &#x27;#bbc139ff&#x27;, &#x27;#bbc138ff&#x27;, &#x27;#bcc238ff&#x27;, &#x27;#bcc238ff&#x27;, &#x27;#bdc338ff&#x27;, &#x27;#bdc338ff&#x27;, &#x27;#bec437ff&#x27;, &#x27;#bec437ff&#x27;, &#x27;#bfc537ff&#x27;, &#x27;#bfc537ff&#x27;, &#x27;#c0c637ff&#x27;, &#x27;#c0c636ff&#x27;, &#x27;#c0c736ff&#x27;, &#x27;#c1c736ff&#x27;, &#x27;#c1c836ff&#x27;, &#x27;#c2c836ff&#x27;, &#x27;#c2c935ff&#x27;, &#x27;#c3c935ff&#x27;, &#x27;#c3c935ff&#x27;, &#x27;#c4ca35ff&#x27;, &#x27;#c4ca35ff&#x27;, &#x27;#c5cb34ff&#x27;, &#x27;#c5cb34ff&#x27;, &#x27;#c6cc34ff&#x27;, &#x27;#c6cc34ff&#x27;, &#x27;#c6cd34ff&#x27;, &#x27;#c7cd33ff&#x27;, &#x27;#c7ce33ff&#x27;, &#x27;#c8ce33ff&#x27;, &#x27;#c8cf33ff&#x27;, &#x27;#c9cf32ff&#x27;, &#x27;#c9d032ff&#x27;, &#x27;#cad032ff&#x27;, &#x27;#cad132ff&#x27;, &#x27;#cbd132ff&#x27;, &#x27;#cbd231ff&#x27;, &#x27;#cbd231ff&#x27;, &#x27;#ccd331ff&#x27;, &#x27;#ccd331ff&#x27;, &#x27;#cdd431ff&#x27;, &#x27;#cdd430ff&#x27;, &#x27;#ced530ff&#x27;, &#x27;#ced530ff&#x27;, &#x27;#cfd630ff&#x27;, &#x27;#cfd630ff&#x27;, &#x27;#d0d72fff&#x27;, &#x27;#d0d72fff&#x27;, &#x27;#d0d82fff&#x27;, &#x27;#d1d82fff&#x27;, &#x27;#d1d92fff&#x27;, &#x27;#d2d92eff&#x27;, &#x27;#d2d92eff&#x27;, &#x27;#d3da2eff&#x27;, &#x27;#d3da2eff&#x27;, &#x27;#d4db2eff&#x27;, &#x27;#d4db2dff&#x27;, &#x27;#d5dc2dff&#x27;, &#x27;#d5dc2dff&#x27;, &#x27;#d5dd2dff&#x27;, &#x27;#d6dd2dff&#x27;, &#x27;#d6de2cff&#x27;, &#x27;#d7de2cff&#x27;, &#x27;#d7df2cff&#x27;, &#x27;#d8df2cff&#x27;, &#x27;#d8e02cff&#x27;, &#x27;#d9e02bff&#x27;, &#x27;#d9e12bff&#x27;, &#x27;#dae12bff&#x27;, &#x27;#dae22bff&#x27;, &#x27;#dbe22aff&#x27;, &#x27;#dbe32aff&#x27;, &#x27;#dbe32aff&#x27;, &#x27;#dce42aff&#x27;, &#x27;#dce42aff&#x27;, &#x27;#dde529ff&#x27;, &#x27;#dde529ff&#x27;, &#x27;#dee629ff&#x27;, &#x27;#dee629ff&#x27;, &#x27;#dfe729ff&#x27;, &#x27;#dfe728ff&#x27;, &#x27;#e0e828ff&#x27;, &#x27;#e0e828ff&#x27;, &#x27;#e0e928ff&#x27;, &#x27;#e1e928ff&#x27;, &#x27;#e1e927ff&#x27;, &#x27;#e2ea27ff&#x27;, &#x27;#e2ea27ff&#x27;, &#x27;#e3eb27ff&#x27;, &#x27;#e3eb27ff&#x27;, &#x27;#e4ec26ff&#x27;, &#x27;#e4ec26ff&#x27;, &#x27;#e5ed26ff&#x27;, &#x27;#e5ed26ff&#x27;, &#x27;#e5ee26ff&#x27;, &#x27;#e6ee25ff&#x27;, &#x27;#e6ef25ff&#x27;, &#x27;#e7ef25ff&#x27;, &#x27;#e7f025ff&#x27;, &#x27;#e8f025ff&#x27;, &#x27;#e8f124ff&#x27;, &#x27;#e9f124ff&#x27;, &#x27;#e9f224ff&#x27;, &#x27;#eaf224ff&#x27;, &#x27;#eaf324ff&#x27;, &#x27;#ebf323ff&#x27;, &#x27;#ebf423ff&#x27;, &#x27;#ebf423ff&#x27;, &#x27;#ecf523ff&#x27;, &#x27;#ecf522ff&#x27;, &#x27;#edf622ff&#x27;, &#x27;#edf622ff&#x27;, &#x27;#eef722ff&#x27;, &#x27;#eef722ff&#x27;, &#x27;#eff821ff&#x27;, &#x27;#eff821ff&#x27;, &#x27;#f0f921ff&#x27;, &#x27;#f0f921ff&#x27;, &#x27;#f0f921ff&#x27;]);\n",
       "    \n",
       "\n",
       "    color_map_54b69260cd404d4532091d2eb44a0ef3.x = d3.scale.linear()\n",
       "              .domain([1.0, 4488.0])\n",
       "              .range([0, 450 - 50]);\n",
       "\n",
       "    color_map_54b69260cd404d4532091d2eb44a0ef3.legend = L.control({position: &#x27;topright&#x27;});\n",
       "    color_map_54b69260cd404d4532091d2eb44a0ef3.legend.onAdd = function (map) {var div = L.DomUtil.create(&#x27;div&#x27;, &#x27;legend&#x27;); return div};\n",
       "    color_map_54b69260cd404d4532091d2eb44a0ef3.legend.addTo(map_4beaf9eb73b3fbca3107e8c2a55d12fd);\n",
       "\n",
       "    color_map_54b69260cd404d4532091d2eb44a0ef3.xAxis = d3.svg.axis()\n",
       "        .scale(color_map_54b69260cd404d4532091d2eb44a0ef3.x)\n",
       "        .orient(&quot;top&quot;)\n",
       "        .tickSize(1)\n",
       "        .tickValues([1.0, 4488.0]);\n",
       "\n",
       "    color_map_54b69260cd404d4532091d2eb44a0ef3.svg = d3.select(&quot;.legend.leaflet-control&quot;).append(&quot;svg&quot;)\n",
       "        .attr(&quot;id&quot;, &#x27;legend&#x27;)\n",
       "        .attr(&quot;width&quot;, 450)\n",
       "        .attr(&quot;height&quot;, 40);\n",
       "\n",
       "    color_map_54b69260cd404d4532091d2eb44a0ef3.g = color_map_54b69260cd404d4532091d2eb44a0ef3.svg.append(&quot;g&quot;)\n",
       "        .attr(&quot;class&quot;, &quot;key&quot;)\n",
       "        .attr(&quot;fill&quot;, &quot;black&quot;)\n",
       "        .attr(&quot;transform&quot;, &quot;translate(25,16)&quot;);\n",
       "\n",
       "    color_map_54b69260cd404d4532091d2eb44a0ef3.g.selectAll(&quot;rect&quot;)\n",
       "        .data(color_map_54b69260cd404d4532091d2eb44a0ef3.color.range().map(function(d, i) {\n",
       "          return {\n",
       "            x0: i ? color_map_54b69260cd404d4532091d2eb44a0ef3.x(color_map_54b69260cd404d4532091d2eb44a0ef3.color.domain()[i - 1]) : color_map_54b69260cd404d4532091d2eb44a0ef3.x.range()[0],\n",
       "            x1: i &lt; color_map_54b69260cd404d4532091d2eb44a0ef3.color.domain().length ? color_map_54b69260cd404d4532091d2eb44a0ef3.x(color_map_54b69260cd404d4532091d2eb44a0ef3.color.domain()[i]) : color_map_54b69260cd404d4532091d2eb44a0ef3.x.range()[1],\n",
       "            z: d\n",
       "          };\n",
       "        }))\n",
       "      .enter().append(&quot;rect&quot;)\n",
       "        .attr(&quot;height&quot;, 40 - 30)\n",
       "        .attr(&quot;x&quot;, function(d) { return d.x0; })\n",
       "        .attr(&quot;width&quot;, function(d) { return d.x1 - d.x0; })\n",
       "        .style(&quot;fill&quot;, function(d) { return d.z; });\n",
       "\n",
       "    color_map_54b69260cd404d4532091d2eb44a0ef3.g.call(color_map_54b69260cd404d4532091d2eb44a0ef3.xAxis).append(&quot;text&quot;)\n",
       "        .attr(&quot;class&quot;, &quot;caption&quot;)\n",
       "        .attr(&quot;y&quot;, 21)\n",
       "        .attr(&quot;fill&quot;, &quot;black&quot;)\n",
       "        .text(&quot;Order count&quot;);\n",
       "&lt;/script&gt;\n",
       "&lt;/html&gt;\" style=\"position:absolute;width:100%;height:100%;left:0;top:0;border:none !important;\" allowfullscreen webkitallowfullscreen mozallowfullscreen></iframe></div></div>"
      ],
      "text/plain": [
       "<folium.folium.Map at 0x2b9155a7020>"
      ]
     },
     "metadata": {},
     "output_type": "display_data"
    }
   ],
   "source": [
    "# Initialize the map\n",
    "intensity_map = folium.Map(location=[df['latitude'].mean(), df['longitude'].mean()], zoom_start=12)\n",
    "\n",
    "\n",
    "folium.GeoJson(\n",
    "    geojson_str,\n",
    "    style_function=lambda x: {\n",
    "        'fillColor': matplotlib.colors.to_hex(colormap((x[\"properties\"][\"order_count\"] - min_order_count) / (max_order_count - min_order_count))),\n",
    "        'color': \"black\",\n",
    "        'weight': 1,\n",
    "        'fillOpacity': 0.7\n",
    "    },\n",
    "    popup=folium.GeoJsonPopup(fields=['order_count'], aliases=['Order Count:'], max_width=500)\n",
    ").add_to(intensity_map)\n",
    "\n",
    "# colorbar legend\n",
    "color_min = matplotlib.colors.to_hex(colormap((min_order_count - min_order_count) / (max_order_count - min_order_count)))\n",
    "color_max = matplotlib.colors.to_hex(colormap((max_order_count - min_order_count) / (max_order_count - min_order_count)))\n",
    "color_bar = folium.LinearColormap([color_min, color_max], vmin=min_order_count, vmax=max_order_count)\n",
    "color_bar.caption = \"Order count\"\n",
    "\n",
    "intensity_map.add_child(color_bar)\n",
    "\n",
    "# Display the map\n",
    "display(intensity_map)\n"
   ]
  },
  {
   "cell_type": "markdown",
   "metadata": {
    "id": "fmjEvWQdN6Yi"
   },
   "source": [
    "### Over Time"
   ]
  },
  {
   "cell_type": "code",
   "execution_count": 50,
   "metadata": {
    "colab": {
     "base_uri": "https://localhost:8080/",
     "height": 206
    },
    "executionInfo": {
     "elapsed": 169,
     "status": "ok",
     "timestamp": 1734336659280,
     "user": {
      "displayName": "Nila Ko",
      "userId": "09641442724310039362"
     },
     "user_tz": 480
    },
    "id": "n3HrOEvhOFzm",
    "outputId": "349787c1-fb39-4f28-9397-04edbe080756"
   },
   "outputs": [
    {
     "data": {
      "text/html": [
       "<div>\n",
       "<style scoped>\n",
       "    .dataframe tbody tr th:only-of-type {\n",
       "        vertical-align: middle;\n",
       "    }\n",
       "\n",
       "    .dataframe tbody tr th {\n",
       "        vertical-align: top;\n",
       "    }\n",
       "\n",
       "    .dataframe thead th {\n",
       "        text-align: right;\n",
       "    }\n",
       "</style>\n",
       "<table border=\"1\" class=\"dataframe\">\n",
       "  <thead>\n",
       "    <tr style=\"text-align: right;\">\n",
       "      <th></th>\n",
       "      <th>order_time</th>\n",
       "      <th>longitude</th>\n",
       "      <th>latitude</th>\n",
       "      <th>ETA</th>\n",
       "      <th>order_id</th>\n",
       "      <th>order_status</th>\n",
       "      <th>is_driver_assigned</th>\n",
       "      <th>time_b4_cancellation</th>\n",
       "      <th>offer_id</th>\n",
       "      <th>_merge</th>\n",
       "      <th>order_hour</th>\n",
       "      <th>hex_id</th>\n",
       "    </tr>\n",
       "  </thead>\n",
       "  <tbody>\n",
       "    <tr>\n",
       "      <th>0</th>\n",
       "      <td>2025-01-31 18:08:07</td>\n",
       "      <td>-0.978916</td>\n",
       "      <td>51.456173</td>\n",
       "      <td>60.0</td>\n",
       "      <td>3000583041974</td>\n",
       "      <td>Cancelled_by_client</td>\n",
       "      <td>1</td>\n",
       "      <td>198.0</td>\n",
       "      <td>300050983403</td>\n",
       "      <td>both</td>\n",
       "      <td>18</td>\n",
       "      <td>88195d2b03fffff</td>\n",
       "    </tr>\n",
       "    <tr>\n",
       "      <th>1</th>\n",
       "      <td>2025-01-31 20:57:32</td>\n",
       "      <td>-0.950385</td>\n",
       "      <td>51.456843</td>\n",
       "      <td>NaN</td>\n",
       "      <td>3000583116437</td>\n",
       "      <td>Cancelled_by_client</td>\n",
       "      <td>0</td>\n",
       "      <td>128.0</td>\n",
       "      <td>300050986179</td>\n",
       "      <td>both</td>\n",
       "      <td>20</td>\n",
       "      <td>88195d2b19fffff</td>\n",
       "    </tr>\n",
       "    <tr>\n",
       "      <th>2</th>\n",
       "      <td>2025-01-31 20:57:32</td>\n",
       "      <td>-0.950385</td>\n",
       "      <td>51.456843</td>\n",
       "      <td>NaN</td>\n",
       "      <td>3000583116437</td>\n",
       "      <td>Cancelled_by_client</td>\n",
       "      <td>0</td>\n",
       "      <td>128.0</td>\n",
       "      <td>300050986174</td>\n",
       "      <td>both</td>\n",
       "      <td>20</td>\n",
       "      <td>88195d2b19fffff</td>\n",
       "    </tr>\n",
       "    <tr>\n",
       "      <th>3</th>\n",
       "      <td>2025-01-31 20:57:32</td>\n",
       "      <td>-0.950385</td>\n",
       "      <td>51.456843</td>\n",
       "      <td>NaN</td>\n",
       "      <td>3000583116437</td>\n",
       "      <td>Cancelled_by_client</td>\n",
       "      <td>0</td>\n",
       "      <td>128.0</td>\n",
       "      <td>300050986180</td>\n",
       "      <td>both</td>\n",
       "      <td>20</td>\n",
       "      <td>88195d2b19fffff</td>\n",
       "    </tr>\n",
       "    <tr>\n",
       "      <th>4</th>\n",
       "      <td>2025-01-31 12:07:50</td>\n",
       "      <td>-0.969520</td>\n",
       "      <td>51.455544</td>\n",
       "      <td>477.0</td>\n",
       "      <td>3000582891479</td>\n",
       "      <td>Cancelled_by_client</td>\n",
       "      <td>1</td>\n",
       "      <td>46.0</td>\n",
       "      <td>300050976275</td>\n",
       "      <td>both</td>\n",
       "      <td>12</td>\n",
       "      <td>88195d2b1dfffff</td>\n",
       "    </tr>\n",
       "  </tbody>\n",
       "</table>\n",
       "</div>"
      ],
      "text/plain": [
       "           order_time  longitude   latitude    ETA       order_id  \\\n",
       "0 2025-01-31 18:08:07  -0.978916  51.456173   60.0  3000583041974   \n",
       "1 2025-01-31 20:57:32  -0.950385  51.456843    NaN  3000583116437   \n",
       "2 2025-01-31 20:57:32  -0.950385  51.456843    NaN  3000583116437   \n",
       "3 2025-01-31 20:57:32  -0.950385  51.456843    NaN  3000583116437   \n",
       "4 2025-01-31 12:07:50  -0.969520  51.455544  477.0  3000582891479   \n",
       "\n",
       "          order_status  is_driver_assigned  time_b4_cancellation  \\\n",
       "0  Cancelled_by_client                   1                 198.0   \n",
       "1  Cancelled_by_client                   0                 128.0   \n",
       "2  Cancelled_by_client                   0                 128.0   \n",
       "3  Cancelled_by_client                   0                 128.0   \n",
       "4  Cancelled_by_client                   1                  46.0   \n",
       "\n",
       "       offer_id _merge  order_hour           hex_id  \n",
       "0  300050983403   both          18  88195d2b03fffff  \n",
       "1  300050986179   both          20  88195d2b19fffff  \n",
       "2  300050986174   both          20  88195d2b19fffff  \n",
       "3  300050986180   both          20  88195d2b19fffff  \n",
       "4  300050976275   both          12  88195d2b1dfffff  "
      ]
     },
     "execution_count": 50,
     "metadata": {},
     "output_type": "execute_result"
    }
   ],
   "source": [
    "df.head()"
   ]
  },
  {
   "cell_type": "code",
   "execution_count": 51,
   "metadata": {
    "colab": {
     "base_uri": "https://localhost:8080/",
     "height": 206
    },
    "executionInfo": {
     "elapsed": 192,
     "status": "ok",
     "timestamp": 1734336659452,
     "user": {
      "displayName": "Nila Ko",
      "userId": "09641442724310039362"
     },
     "user_tz": 480
    },
    "id": "BgCfzbYkmhQp",
    "outputId": "dae88625-c529-4d9b-ac5f-35d4f1c9fdc7"
   },
   "outputs": [
    {
     "data": {
      "text/html": [
       "<div>\n",
       "<style scoped>\n",
       "    .dataframe tbody tr th:only-of-type {\n",
       "        vertical-align: middle;\n",
       "    }\n",
       "\n",
       "    .dataframe tbody tr th {\n",
       "        vertical-align: top;\n",
       "    }\n",
       "\n",
       "    .dataframe thead th {\n",
       "        text-align: right;\n",
       "    }\n",
       "</style>\n",
       "<table border=\"1\" class=\"dataframe\">\n",
       "  <thead>\n",
       "    <tr style=\"text-align: right;\">\n",
       "      <th></th>\n",
       "      <th>order_hour</th>\n",
       "      <th>latitude</th>\n",
       "      <th>longitude</th>\n",
       "      <th>failed_order_count</th>\n",
       "    </tr>\n",
       "  </thead>\n",
       "  <tbody>\n",
       "    <tr>\n",
       "      <th>0</th>\n",
       "      <td>0</td>\n",
       "      <td>51.403059</td>\n",
       "      <td>-0.975115</td>\n",
       "      <td>1</td>\n",
       "    </tr>\n",
       "    <tr>\n",
       "      <th>1</th>\n",
       "      <td>0</td>\n",
       "      <td>51.408597</td>\n",
       "      <td>-0.954554</td>\n",
       "      <td>1</td>\n",
       "    </tr>\n",
       "    <tr>\n",
       "      <th>2</th>\n",
       "      <td>0</td>\n",
       "      <td>51.413671</td>\n",
       "      <td>-0.959868</td>\n",
       "      <td>8</td>\n",
       "    </tr>\n",
       "    <tr>\n",
       "      <th>3</th>\n",
       "      <td>0</td>\n",
       "      <td>51.415417</td>\n",
       "      <td>-0.960242</td>\n",
       "      <td>5</td>\n",
       "    </tr>\n",
       "    <tr>\n",
       "      <th>4</th>\n",
       "      <td>0</td>\n",
       "      <td>51.416332</td>\n",
       "      <td>-0.959733</td>\n",
       "      <td>2</td>\n",
       "    </tr>\n",
       "  </tbody>\n",
       "</table>\n",
       "</div>"
      ],
      "text/plain": [
       "   order_hour   latitude  longitude  failed_order_count\n",
       "0           0  51.403059  -0.975115                   1\n",
       "1           0  51.408597  -0.954554                   1\n",
       "2           0  51.413671  -0.959868                   8\n",
       "3           0  51.415417  -0.960242                   5\n",
       "4           0  51.416332  -0.959733                   2"
      ]
     },
     "metadata": {},
     "output_type": "display_data"
    }
   ],
   "source": [
    "hour_order_fails = df.groupby(['order_hour','latitude', 'longitude'])['order_id'].count().reset_index()\n",
    "hour_order_fails.columns = ['order_hour','latitude', 'longitude','failed_order_count']\n",
    "display(hour_order_fails.head())"
   ]
  },
  {
   "cell_type": "code",
   "execution_count": 53,
   "metadata": {
    "colab": {
     "base_uri": "https://localhost:8080/",
     "height": 860
    },
    "executionInfo": {
     "elapsed": 401,
     "status": "ok",
     "timestamp": 1734336659837,
     "user": {
      "displayName": "Nila Ko",
      "userId": "09641442724310039362"
     },
     "user_tz": 480
    },
    "id": "SbEpU--EmhMz",
    "outputId": "746c666d-083f-4f04-9fb6-b10587e9e22d"
   },
   "outputs": [
    {
     "data": {
      "text/html": [
       "<div style=\"width:100%;\"><div style=\"position:relative;width:100%;height:0;padding-bottom:60%;\"><span style=\"color:#565656\">Make this Notebook Trusted to load map: File -> Trust Notebook</span><iframe srcdoc=\"&lt;!DOCTYPE html&gt;\n",
       "&lt;html&gt;\n",
       "&lt;head&gt;\n",
       "    \n",
       "    &lt;meta http-equiv=&quot;content-type&quot; content=&quot;text/html; charset=UTF-8&quot; /&gt;\n",
       "    \n",
       "        &lt;script&gt;\n",
       "            L_NO_TOUCH = false;\n",
       "            L_DISABLE_3D = false;\n",
       "        &lt;/script&gt;\n",
       "    \n",
       "    &lt;style&gt;html, body {width: 100%;height: 100%;margin: 0;padding: 0;}&lt;/style&gt;\n",
       "    &lt;style&gt;#map {position:absolute;top:0;bottom:0;right:0;left:0;}&lt;/style&gt;\n",
       "    &lt;script src=&quot;https://cdn.jsdelivr.net/npm/leaflet@1.9.3/dist/leaflet.js&quot;&gt;&lt;/script&gt;\n",
       "    &lt;script src=&quot;https://code.jquery.com/jquery-3.7.1.min.js&quot;&gt;&lt;/script&gt;\n",
       "    &lt;script src=&quot;https://cdn.jsdelivr.net/npm/bootstrap@5.2.2/dist/js/bootstrap.bundle.min.js&quot;&gt;&lt;/script&gt;\n",
       "    &lt;script src=&quot;https://cdnjs.cloudflare.com/ajax/libs/Leaflet.awesome-markers/2.0.2/leaflet.awesome-markers.js&quot;&gt;&lt;/script&gt;\n",
       "    &lt;link rel=&quot;stylesheet&quot; href=&quot;https://cdn.jsdelivr.net/npm/leaflet@1.9.3/dist/leaflet.css&quot;/&gt;\n",
       "    &lt;link rel=&quot;stylesheet&quot; href=&quot;https://cdn.jsdelivr.net/npm/bootstrap@5.2.2/dist/css/bootstrap.min.css&quot;/&gt;\n",
       "    &lt;link rel=&quot;stylesheet&quot; href=&quot;https://netdna.bootstrapcdn.com/bootstrap/3.0.0/css/bootstrap-glyphicons.css&quot;/&gt;\n",
       "    &lt;link rel=&quot;stylesheet&quot; href=&quot;https://cdn.jsdelivr.net/npm/@fortawesome/fontawesome-free@6.2.0/css/all.min.css&quot;/&gt;\n",
       "    &lt;link rel=&quot;stylesheet&quot; href=&quot;https://cdnjs.cloudflare.com/ajax/libs/Leaflet.awesome-markers/2.0.2/leaflet.awesome-markers.css&quot;/&gt;\n",
       "    &lt;link rel=&quot;stylesheet&quot; href=&quot;https://cdn.jsdelivr.net/gh/python-visualization/folium/folium/templates/leaflet.awesome.rotate.min.css&quot;/&gt;\n",
       "    \n",
       "            &lt;meta name=&quot;viewport&quot; content=&quot;width=device-width,\n",
       "                initial-scale=1.0, maximum-scale=1.0, user-scalable=no&quot; /&gt;\n",
       "            &lt;style&gt;\n",
       "                #map_6ceef2466224422ddcea63ff3cb95632 {\n",
       "                    position: relative;\n",
       "                    width: 100.0%;\n",
       "                    height: 100.0%;\n",
       "                    left: 0.0%;\n",
       "                    top: 0.0%;\n",
       "                }\n",
       "                .leaflet-container { font-size: 1rem; }\n",
       "            &lt;/style&gt;\n",
       "        \n",
       "    &lt;script src=&quot;https://cdn.jsdelivr.net/npm/iso8601-js-period@0.2.1/iso8601.min.js&quot;&gt;&lt;/script&gt;\n",
       "    &lt;script src=&quot;https://cdn.jsdelivr.net/npm/leaflet-timedimension@1.1.1/dist/leaflet.timedimension.min.js&quot;&gt;&lt;/script&gt;\n",
       "    &lt;script src=&quot;https://cdn.jsdelivr.net/gh/python-visualization/folium/folium/templates/pa7_hm.min.js&quot;&gt;&lt;/script&gt;\n",
       "    &lt;script src=&quot;https://cdn.jsdelivr.net/gh/python-visualization/folium/folium/templates/pa7_leaflet_hm.min.js&quot;&gt;&lt;/script&gt;\n",
       "    &lt;link rel=&quot;stylesheet&quot; href=&quot;https://cdn.jsdelivr.net/npm/leaflet-timedimension@1.1.1/dist/leaflet.timedimension.control.css&quot;/&gt;\n",
       "    \n",
       "            &lt;script&gt;\n",
       "                var TDHeatmap = L.TimeDimension.Layer.extend({\n",
       "\n",
       "            initialize: function(data, options) {\n",
       "                var heatmapCfg = {\n",
       "                    radius: 15,\n",
       "                    blur: 0.8,\n",
       "                    maxOpacity: 1.,\n",
       "                    scaleRadius: false,\n",
       "                    useLocalExtrema: false,\n",
       "                    latField: &#x27;lat&#x27;,\n",
       "                    lngField: &#x27;lng&#x27;,\n",
       "                    valueField: &#x27;count&#x27;,\n",
       "                    defaultWeight : 1,\n",
       "                };\n",
       "                heatmapCfg = $.extend({}, heatmapCfg, options.heatmapOptions || {});\n",
       "                var layer = new HeatmapOverlay(heatmapCfg);\n",
       "                L.TimeDimension.Layer.prototype.initialize.call(this, layer, options);\n",
       "                this._currentLoadedTime = 0;\n",
       "                this._currentTimeData = {\n",
       "                    data: []\n",
       "                    };\n",
       "                this.data= data;\n",
       "                this.defaultWeight = heatmapCfg.defaultWeight || 1;\n",
       "            },\n",
       "            onAdd: function(map) {\n",
       "                L.TimeDimension.Layer.prototype.onAdd.call(this, map);\n",
       "                map.addLayer(this._baseLayer);\n",
       "                if (this._timeDimension) {\n",
       "                    this._getDataForTime(this._timeDimension.getCurrentTime());\n",
       "                }\n",
       "            },\n",
       "            _onNewTimeLoading: function(ev) {\n",
       "                this._getDataForTime(ev.time);\n",
       "                return;\n",
       "            },\n",
       "            isReady: function(time) {\n",
       "                return (this._currentLoadedTime == time);\n",
       "            },\n",
       "            _update: function() {\n",
       "                this._baseLayer.setData(this._currentTimeData);\n",
       "                return true;\n",
       "            },\n",
       "            _getDataForTime: function(time) {\n",
       "                    delete this._currentTimeData.data;\n",
       "                    this._currentTimeData.data = [];\n",
       "                    var data = this.data[time-1];\n",
       "                    for (var i = 0; i &lt; data.length; i++) {\n",
       "                        this._currentTimeData.data.push({\n",
       "                                lat: data[i][0],\n",
       "                                lng: data[i][1],\n",
       "                                count: data[i].length&gt;2 ? data[i][2] : this.defaultWeight\n",
       "                            });\n",
       "                        }\n",
       "                    this._currentLoadedTime = time;\n",
       "                    if (this._timeDimension &amp;&amp; time == this._timeDimension.getCurrentTime() &amp;&amp; !this._timeDimension.isLoading()) {\n",
       "                        this._update();\n",
       "                    }\n",
       "                    this.fire(&#x27;timeload&#x27;, {\n",
       "                        time: time\n",
       "                    });\n",
       "                }\n",
       "        });\n",
       "\n",
       "        L.Control.TimeDimensionCustom = L.Control.TimeDimension.extend({\n",
       "            initialize: function(index, options) {\n",
       "                var playerOptions = {\n",
       "                    buffer: 1,\n",
       "                    minBufferReady: -1\n",
       "                    };\n",
       "                options.playerOptions = $.extend({}, playerOptions, options.playerOptions || {});\n",
       "                L.Control.TimeDimension.prototype.initialize.call(this, options);\n",
       "                this.index = index;\n",
       "                },\n",
       "            _getDisplayDateFormat: function(date){\n",
       "                return this.index[date.getTime()-1];\n",
       "                }\n",
       "            });\n",
       "            &lt;/script&gt;\n",
       "                \n",
       "&lt;/head&gt;\n",
       "&lt;body&gt;\n",
       "    \n",
       "    \n",
       "            &lt;div class=&quot;folium-map&quot; id=&quot;map_6ceef2466224422ddcea63ff3cb95632&quot; &gt;&lt;/div&gt;\n",
       "        \n",
       "&lt;/body&gt;\n",
       "&lt;script&gt;\n",
       "    \n",
       "    \n",
       "            var map_6ceef2466224422ddcea63ff3cb95632 = L.map(\n",
       "                &quot;map_6ceef2466224422ddcea63ff3cb95632&quot;,\n",
       "                {\n",
       "                    center: [51.450593785595494, -0.9641223669886145],\n",
       "                    crs: L.CRS.EPSG3857,\n",
       "                    zoom: 12,\n",
       "                    zoomControl: true,\n",
       "                    preferCanvas: false,\n",
       "                }\n",
       "            );\n",
       "\n",
       "            \n",
       "\n",
       "        \n",
       "    \n",
       "            var tile_layer_8d48e4e74b132e815fa482e37b42790e = L.tileLayer(\n",
       "                &quot;https://tile.openstreetmap.org/{z}/{x}/{y}.png&quot;,\n",
       "                {&quot;attribution&quot;: &quot;\\u0026copy; \\u003ca href=\\&quot;https://www.openstreetmap.org/copyright\\&quot;\\u003eOpenStreetMap\\u003c/a\\u003e contributors&quot;, &quot;detectRetina&quot;: false, &quot;maxNativeZoom&quot;: 19, &quot;maxZoom&quot;: 19, &quot;minZoom&quot;: 0, &quot;noWrap&quot;: false, &quot;opacity&quot;: 1, &quot;subdomains&quot;: &quot;abc&quot;, &quot;tms&quot;: false}\n",
       "            );\n",
       "        \n",
       "    \n",
       "            tile_layer_8d48e4e74b132e815fa482e37b42790e.addTo(map_6ceef2466224422ddcea63ff3cb95632);\n",
       "        \n",
       "    \n",
       "\n",
       "            var times = [1, 2, 3, 4, 5, 6, 7, 8, 9, 10, 11, 12, 13, 14, 15, 16, 17, 18, 19, 20, 21, 22, 23, 24];\n",
       "\n",
       "            map_6ceef2466224422ddcea63ff3cb95632.timeDimension = L.timeDimension(\n",
       "                {times : times, currentTime: new Date(1)}\n",
       "            );\n",
       "\n",
       "            var heat_map_f189c042d4a21cd9a0de397b27380558Control = new L.Control.TimeDimensionCustom([0, 1, 2, 3, 4, 5, 6, 7, 8, 9, 10, 11, 12, 13, 14, 15, 16, 17, 18, 19, 20, 21, 22, 23], {\n",
       "                autoPlay: true,\n",
       "                backwardButton: true,\n",
       "                displayDate: true,\n",
       "                forwardButton: true,\n",
       "                limitMinimumRange: 5,\n",
       "                limitSliders: true,\n",
       "                loopButton: true,\n",
       "                maxSpeed: 10,\n",
       "                minSpeed: 0.1,\n",
       "                playButton: true,\n",
       "                playReverseButton: true,\n",
       "                position: &quot;bottomleft&quot;,\n",
       "                speedSlider: true,\n",
       "                speedStep: 0.1,\n",
       "                styleNS: &quot;leaflet-control-timecontrol&quot;,\n",
       "                timeSlider: true,\n",
       "                timeSliderDrapUpdate: false,\n",
       "                timeSteps: 1\n",
       "                })\n",
       "                .addTo(map_6ceef2466224422ddcea63ff3cb95632);\n",
       "\n",
       "                var heat_map_f189c042d4a21cd9a0de397b27380558 = new TDHeatmap([[[51.403059, -0.975115, 1.0], [51.408597, -0.954554, 1.0], [51.413671, -0.959868, 8.0], [51.415417, -0.960242, 5.0], [51.416332, -0.959733, 2.0], [51.419136, -0.951988, 4.0], [51.421302, -0.965476, 3.0], [51.422669, -0.932439, 7.0], [51.423591, -0.930075, 12.0], [51.424034, -0.953304, 1.0], [51.424081, -0.953309, 11.0], [51.427105, -0.945348, 1.0], [51.427524, -0.882885, 1.0], [51.428152, -0.921034, 6.0], [51.428234, -0.906201, 3.0], [51.430936, -0.883432, 3.0], [51.430944, -0.951214, 9.0], [51.432624, -0.976756, 6.0], [51.433281, -0.948394, 2.0], [51.433523, -0.948625, 8.0], [51.433557, -0.948525, 5.0], [51.4337, -0.975598, 9.0], [51.433765, -0.975816, 6.0], [51.433817, -0.976101, 13.0], [51.435202, -0.965385, 11.0], [51.435905, -0.95427, 8.0], [51.43742, -0.898318, 3.0], [51.437431, -0.953352, 9.0], [51.437461, -0.898049, 3.0], [51.437807, -0.900483, 2.0], [51.438156, -1.025415, 5.0], [51.438627, -0.953799, 1.0], [51.438648, -1.015878, 5.0], [51.438788, -1.023392, 3.0], [51.439346, -0.965078, 5.0], [51.439495, -0.962288, 11.0], [51.439611, -0.965361, 5.0], [51.439754, -0.945998, 6.0], [51.439779, -0.946358, 2.0], [51.439902, -0.966364, 13.0], [51.440043, -0.942952, 3.0], [51.440158, -0.962541, 30.0], [51.440262, -0.948534, 19.0], [51.440326, -0.949074, 7.0], [51.440426, -0.9428, 18.0], [51.440551, -0.947964, 9.0], [51.440556, -0.948204, 3.0], [51.440787, -0.942944, 7.0], [51.44082, -0.942939, 38.0], [51.440836, -0.947771, 1.0], [51.4409, -0.942703, 7.0], [51.441095, -0.946043, 4.0], [51.441318, -0.942806, 3.0], [51.441382, -0.962517, 3.0], [51.441387, -0.942756, 3.0], [51.441401, -0.944338, 6.0], [51.441421, -0.941816, 4.0], [51.441499, -0.966495, 20.0], [51.4415, -0.942595, 1.0], [51.441674, -0.918199, 5.0], [51.441684, -0.943151, 6.0], [51.441761, -0.94793, 8.0], [51.442085, -0.944985, 1.0], [51.442128, -0.97679, 6.0], [51.442243, -0.9539, 7.0], [51.442499, -0.939793, 2.0], [51.442502, -0.991077, 4.0], [51.442583, -1.045953, 5.0], [51.442584, -0.931302, 3.0], [51.442633, -0.966953, 8.0], [51.442735, -0.936465, 4.0], [51.442745, -0.990897, 3.0], [51.442852, -0.954481, 3.0], [51.442882, -0.956142, 1.0], [51.443232, -0.965118, 10.0], [51.443596, -0.966905, 23.0], [51.443893, -1.002255, 2.0], [51.444047, -0.9469, 25.0], [51.444061, -0.947696, 16.0], [51.444078, -0.960425, 6.0], [51.444113, -0.946766, 3.0], [51.444155, -0.947063, 1.0], [51.444158, -0.94698, 21.0], [51.44417, -0.96306, 9.0], [51.444204, -0.946989, 5.0], [51.444246, -0.947624, 1.0], [51.4443, -0.947315, 13.0], [51.444335, -0.946989, 1.0], [51.444741, -0.938052, 6.0], [51.444796, -0.945122, 1.0], [51.444823, -0.945261, 19.0], [51.4449, -0.944982, 12.0], [51.444923, -0.945773, 9.0], [51.444975, -0.945194, 3.0], [51.44505, -0.944763, 3.0], [51.44516, -0.969752, 6.0], [51.445388, -0.988919, 9.0], [51.445402, -0.933969, 7.0], [51.445583, -0.949824, 10.0], [51.445871, -0.960516, 6.0], [51.44594, -0.945717, 8.0], [51.445947, -0.955151, 8.0], [51.446372, -0.968483, 3.0], [51.446503, -0.964937, 4.0], [51.446743, -1.023823, 1.0], [51.446852, -0.95015, 8.0], [51.446957, -0.954554, 3.0], [51.447308, -0.932414, 2.0], [51.447589, -1.016372, 6.0], [51.447842, -0.984473, 16.0], [51.447943, -0.972782, 9.0], [51.448266, -0.979533, 1.0], [51.448315, -0.972824, 15.0], [51.448696, -0.937006, 3.0], [51.448699, -0.948404, 4.0], [51.448769, -0.937081, 3.0], [51.448926, -0.938116, 10.0], [51.449276, -0.971402, 5.0], [51.449444, -0.949007, 9.0], [51.449521, -0.957035, 6.0], [51.449547, -0.956988, 3.0], [51.449616, -0.963063, 1.0], [51.449619, -0.951317, 6.0], [51.449648, -0.947964, 7.0], [51.449675, -0.948216, 4.0], [51.449754, -0.950334, 2.0], [51.449832, -0.94756, 1.0], [51.450031, -0.970109, 4.0], [51.450206, -0.963047, 3.0], [51.450266, -0.948781, 7.0], [51.450279, -0.9355, 2.0], [51.450395, -0.967879, 3.0], [51.450441, -0.949154, 5.0], [51.45066, -0.929773, 4.0], [51.450694, -1.001302, 5.0], [51.450694, -0.94811, 9.0], [51.450742, -0.979391, 4.0], [51.451147, -0.992816, 19.0], [51.451156, -0.943795, 7.0], [51.451265, -0.945383, 1.0], [51.451359, -0.930253, 3.0], [51.451475, -0.960448, 11.0], [51.451489, -0.947671, 3.0], [51.451628, -0.947859, 4.0], [51.451641, -0.992958, 5.0], [51.451668, -0.969879, 8.0], [51.451762, -0.969605, 6.0], [51.451981, -0.978096, 3.0], [51.452061, -1.001564, 5.0], [51.452232, -0.956145, 4.0], [51.452321, -0.951466, 1.0], [51.452404, -0.948447, 3.0], [51.452529, -0.987087, 7.0], [51.452538, -0.972446, 1.0], [51.453024, -0.942414, 6.0], [51.453067, -0.966952, 6.0], [51.453174, -0.965567, 1.0], [51.453203, -0.969208, 9.0], [51.453275, -0.970461, 6.0], [51.453364, -0.966998, 1.0], [51.453422, -0.966698, 7.0], [51.453476, -0.955933, 12.0], [51.453505, -1.000081, 7.0], [51.453516, -0.967258, 1.0], [51.453519, -0.960493, 2.0], [51.453767, -0.968669, 9.0], [51.453887, -0.968731, 4.0], [51.453919, -0.973348, 20.0], [51.453935, -0.973369, 4.0], [51.453969, -0.973832, 9.0], [51.453987, -0.97297, 4.0], [51.453992, -0.956671, 6.0], [51.454032, -0.969372, 7.0], [51.454144, -0.97314, 3.0], [51.454191, -0.956641, 4.0], [51.454271, -0.944771, 8.0], [51.454311, -0.99809, 15.0], [51.45436, -0.974287, 7.0], [51.454418, -0.974529, 4.0], [51.454567, -0.982448, 4.0], [51.454572, -1.046246, 2.0], [51.454688, -0.967506, 3.0], [51.454821, -0.966062, 8.0], [51.454823, -0.974735, 3.0], [51.454842, -0.96726, 4.0], [51.454848, -0.982152, 14.0], [51.454857, -0.968491, 8.0], [51.454886, -0.99259, 8.0], [51.454901, -0.967757, 7.0], [51.454907, -0.978128, 3.0], [51.454945, -0.982118, 5.0], [51.455033, -0.969628, 11.0], [51.455125, -0.969613, 6.0], [51.455309, -0.975317, 3.0], [51.455313, -0.958783, 21.0], [51.455378, -0.976387, 4.0], [51.455437, -0.97526, 2.0], [51.455458, -1.002854, 9.0], [51.455489, -0.97648, 1.0], [51.455614, -0.981929, 3.0], [51.455765, -0.990434, 7.0], [51.455787, -0.979418, 1.0], [51.455853, -0.979905, 7.0], [51.455979, -0.986016, 11.0], [51.456147, -0.986644, 21.0], [51.456342, -0.979247, 6.0], [51.456443, -0.971135, 3.0], [51.45651, -0.970604, 6.0], [51.456585, -0.973939, 6.0], [51.456603, -0.972783, 3.0], [51.456605, -0.973776, 2.0], [51.456615, -0.970493, 4.0], [51.456616, -0.973802, 9.0], [51.456634, -0.970945, 15.0], [51.456641, -0.973688, 1.0], [51.456728, -0.97031, 1.0], [51.45683, -0.971735, 6.0], [51.456838, -0.973969, 8.0], [51.456854, -0.973505, 2.0], [51.45686, -0.983193, 1.0], [51.456862, -0.975528, 1.0], [51.456876, -0.972676, 1.0], [51.456952, -0.998001, 6.0], [51.45708, -0.954726, 4.0], [51.457187, -0.997046, 7.0], [51.457191, -0.972252, 9.0], [51.45723, -0.997176, 11.0], [51.457283, -0.970244, 7.0], [51.457301, -0.971985, 7.0], [51.457415, -0.972146, 5.0], [51.457422, -0.970491, 7.0], [51.457423, -0.972132, 2.0], [51.457531, -0.972227, 4.0], [51.457587, -0.970573, 7.0], [51.457599, -0.970618, 1.0], [51.4576, -0.970435, 8.0], [51.457763, -0.911482, 7.0], [51.457764, -0.97164, 5.0], [51.457779, -0.985111, 8.0], [51.457781, -0.953827, 3.0], [51.457799, -0.972463, 6.0], [51.457846, -0.975687, 9.0], [51.457894, -0.971995, 34.0], [51.457903, -0.971874, 3.0], [51.457926, -0.972257, 3.0], [51.457948, -0.972046, 6.0], [51.457949, -0.972046, 1.0], [51.45795, -0.970007, 9.0], [51.458017, -0.971501, 9.0], [51.458019, -0.971308, 7.0], [51.4581, -0.971922, 6.0], [51.458115, -0.971296, 25.0], [51.458189, -0.975752, 9.0], [51.458295, -0.972354, 5.0], [51.458364, -0.97148, 34.0], [51.458671, -0.973763, 6.0], [51.458942, -0.95923, 1.0], [51.458962, -1.00482, 2.0], [51.459452, -1.006125, 7.0], [51.45947, -1.024485, 3.0], [51.45966, -0.956332, 9.0], [51.459827, -0.959415, 8.0], [51.459909, -0.971947, 3.0], [51.460114, -0.971537, 14.0], [51.460528, -0.97201, 1.0], [51.461325, -1.032638, 10.0], [51.461451, -0.978309, 1.0], [51.461707, -0.97342, 3.0], [51.462497, -1.013153, 4.0], [51.46264, -0.972766, 6.0], [51.464274, -0.977287, 16.0], [51.464318, -0.977454, 11.0], [51.464712, -0.979189, 2.0], [51.465097, -1.013743, 6.0], [51.465181, -0.978132, 7.0], [51.465351, -0.974192, 7.0], [51.465709, -0.953179, 7.0], [51.466235, -0.958345, 9.0], [51.466242, -0.9582, 8.0], [51.466256, -0.958461, 8.0], [51.466265, -0.9578, 6.0], [51.466502, -0.971696, 16.0], [51.466596, -0.970132, 11.0], [51.466817, -0.975239, 4.0], [51.467696, -0.974817, 4.0], [51.467717, -0.975343, 10.0], [51.468919, -0.971944, 7.0], [51.46901, -0.971765, 9.0], [51.469149, -0.949348, 6.0], [51.469416, -0.984298, 4.0], [51.469437, -0.97035, 6.0], [51.469967, -0.98499, 2.0], [51.47103, -0.953817, 3.0], [51.472917, -0.950236, 9.0], [51.47292, -0.950982, 5.0], [51.47551, -0.962313, 1.0], [51.475784, -0.988073, 29.0], [51.477037, -0.966518, 3.0], [51.479208, -0.947845, 8.0], [51.480428, -1.039803, 1.0], [51.480703, -0.951307, 5.0], [51.483435, -0.975275, 8.0], [51.484608, -0.949966, 3.0], [51.488282, -0.967342, 1.0], [51.494748, -0.977804, 3.0]], [[51.408688, -0.947426, 1.0], [51.421448, -0.969266, 2.0], [51.425825, -0.947862, 3.0], [51.427144, -0.949815, 15.0], [51.429457, -0.974997, 7.0], [51.42967, -0.944711, 8.0], [51.430223, -0.976562, 6.0], [51.430385, -0.955673, 9.0], [51.43052, -0.955557, 9.0], [51.430527, -0.955684, 9.0], [51.430936, -0.883432, 1.0], [51.431458, -0.95835, 6.0], [51.43182, -0.875727, 1.0], [51.431841, -0.976731, 8.0], [51.432624, -0.976756, 5.0], [51.433487, -0.948367, 4.0], [51.43444, -0.940784, 2.0], [51.435315, -0.965399, 16.0], [51.437343, -0.945198, 6.0], [51.437682, -0.966276, 1.0], [51.438277, -0.943893, 6.0], [51.439405, -0.944446, 3.0], [51.439773, -0.911721, 1.0], [51.439779, -0.946358, 8.0], [51.440008, -0.943036, 1.0], [51.440008, -0.942959, 1.0], [51.440043, -0.942952, 8.0], [51.440426, -0.9428, 14.0], [51.440545, -0.922281, 7.0], [51.440785, -0.9658, 3.0], [51.440787, -0.942944, 15.0], [51.44082, -0.942939, 18.0], [51.440821, -0.942619, 4.0], [51.440835, -0.962516, 9.0], [51.440876, -0.944135, 4.0], [51.441092, -0.943673, 7.0], [51.441382, -0.962517, 6.0], [51.441396, -1.008475, 2.0], [51.441421, -0.941816, 1.0], [51.44146, -0.942732, 13.0], [51.441534, -0.942734, 4.0], [51.441652, -0.95332, 3.0], [51.442028, -0.946267, 3.0], [51.442063, -1.042255, 13.0], [51.442118, -0.95293, 7.0], [51.4423, -0.935612, 1.0], [51.442374, -0.952927, 1.0], [51.442564, -1.040539, 1.0], [51.442703, -0.955236, 5.0], [51.442751, -0.944525, 7.0], [51.442782, -0.936446, 1.0], [51.442854, -0.955756, 3.0], [51.442902, -0.955587, 3.0], [51.442916, -0.955588, 2.0], [51.443027, -0.956125, 7.0], [51.443079, -0.956435, 2.0], [51.443856, -0.936924, 3.0], [51.443863, -0.944732, 6.0], [51.443865, -0.936867, 4.0], [51.444158, -0.94698, 8.0], [51.44433, -0.9478, 9.0], [51.44451, -0.945081, 1.0], [51.444556, -0.967287, 7.0], [51.444601, -0.893982, 1.0], [51.444643, -0.948907, 7.0], [51.444795, -0.948888, 6.0], [51.444799, -0.945204, 1.0], [51.444823, -0.945261, 7.0], [51.444863, -0.951944, 6.0], [51.44508, -0.944335, 9.0], [51.44516, -0.969752, 18.0], [51.44599, -0.964492, 1.0], [51.44602, -0.949196, 1.0], [51.446789, -0.933686, 1.0], [51.447308, -0.946178, 9.0], [51.448466, -0.948711, 9.0], [51.448759, -0.937022, 3.0], [51.448822, -0.934445, 8.0], [51.449174, -0.996075, 12.0], [51.449276, -0.971402, 4.0], [51.449294, -0.957767, 10.0], [51.449421, -0.956911, 15.0], [51.449458, -0.956998, 8.0], [51.449648, -0.950294, 1.0], [51.4497, -0.957109, 11.0], [51.449873, -1.029828, 3.0], [51.449892, -0.934425, 3.0], [51.4499, -0.934816, 3.0], [51.450027, -0.934089, 3.0], [51.45013, -0.96903, 5.0], [51.450365, -0.935341, 7.0], [51.450546, -0.951391, 7.0], [51.450877, -0.96705, 3.0], [51.450935, -0.967498, 2.0], [51.451003, -0.949443, 4.0], [51.451039, -0.990767, 9.0], [51.451139, -0.9439, 1.0], [51.451156, -0.943795, 11.0], [51.451355, -0.960545, 6.0], [51.451359, -0.930253, 1.0], [51.451574, -0.980529, 1.0], [51.451614, -0.969568, 4.0], [51.451701, -0.930914, 4.0], [51.451914, -0.990456, 2.0], [51.45196, -0.990602, 2.0], [51.452264, -0.960945, 7.0], [51.452489, -0.972735, 1.0], [51.452685, -1.001941, 7.0], [51.452842, -0.966777, 28.0], [51.453236, -0.966745, 4.0], [51.453363, -0.955889, 6.0], [51.453428, -0.973167, 2.0], [51.453463, -0.979404, 6.0], [51.453614, -0.948866, 1.0], [51.453654, -0.997904, 5.0], [51.453675, -0.964468, 7.0], [51.453767, -0.968669, 12.0], [51.453793, -0.925813, 1.0], [51.453799, -0.973643, 5.0], [51.4538, -0.973601, 4.0], [51.453801, -0.973469, 3.0], [51.45381, -0.973967, 1.0], [51.453887, -0.968731, 7.0], [51.453919, -0.973348, 26.0], [51.453935, -0.973369, 12.0], [51.453988, -0.972811, 8.0], [51.453999, -0.973056, 9.0], [51.454047, -0.973874, 7.0], [51.454068, -0.973819, 1.0], [51.454228, -0.944769, 10.0], [51.454271, -0.944771, 9.0], [51.454817, -0.96606, 6.0], [51.454821, -0.966062, 9.0], [51.454823, -0.974735, 5.0], [51.454844, -0.974797, 4.0], [51.454851, -0.974804, 18.0], [51.454898, -0.963737, 2.0], [51.454964, -0.963288, 1.0], [51.454986, -0.969064, 4.0], [51.45513, -0.970129, 4.0], [51.455229, -0.942689, 7.0], [51.455434, -0.986591, 6.0], [51.455621, -0.988037, 4.0], [51.455707, -0.989582, 7.0], [51.455765, -0.990434, 3.0], [51.456225, -0.979229, 8.0], [51.456322, -0.979286, 1.0], [51.456374, -0.979437, 6.0], [51.456396, -0.949041, 2.0], [51.456494, -0.969761, 3.0], [51.456567, -1.034398, 12.0], [51.456603, -0.972783, 4.0], [51.456605, -0.973776, 10.0], [51.456615, -0.973605, 9.0], [51.456615, -0.970493, 10.0], [51.456624, -0.956039, 12.0], [51.456641, -0.973688, 13.0], [51.456657, -0.974706, 4.0], [51.45668, -0.973013, 4.0], [51.456696, -0.97378, 5.0], [51.456723, -0.970464, 2.0], [51.456725, -0.970472, 9.0], [51.456737, -0.973861, 3.0], [51.456755, -0.972779, 3.0], [51.456759, -0.973161, 9.0], [51.45676, -0.973654, 7.0], [51.456762, -0.975529, 3.0], [51.456832, -0.95579, 10.0], [51.456845, -0.971922, 1.0], [51.456854, -0.973505, 4.0], [51.456856, -0.972094, 2.0], [51.456905, -0.970634, 9.0], [51.457102, -0.970832, 10.0], [51.457125, -0.970482, 1.0], [51.457267, -1.055169, 4.0], [51.457421, -0.971915, 7.0], [51.457488, -0.970366, 1.0], [51.457523, -0.973294, 3.0], [51.457574, -0.970731, 6.0], [51.457594, -0.97345, 7.0], [51.457748, -0.972709, 7.0], [51.457764, -0.97164, 4.0], [51.457894, -0.971995, 11.0], [51.457948, -0.972046, 31.0], [51.457949, -0.972046, 9.0], [51.458022, -0.971565, 25.0], [51.45803, -0.972636, 7.0], [51.458115, -0.971296, 3.0], [51.458236, -0.967605, 1.0], [51.458364, -0.97148, 14.0], [51.458384, -0.973398, 8.0], [51.458455, -0.996835, 1.0], [51.458671, -0.973763, 16.0], [51.459935, -0.970557, 2.0], [51.461717, -0.97344, 4.0], [51.461939, -1.012296, 4.0], [51.462788, -1.022252, 1.0], [51.462812, -1.022465, 1.0], [51.464017, -0.983112, 2.0], [51.464755, -0.965931, 1.0], [51.465263, -0.966087, 7.0], [51.465358, -0.978115, 9.0], [51.466079, -0.965914, 15.0], [51.470257, -0.954837, 4.0], [51.471183, -0.955407, 7.0], [51.47126, -0.955515, 11.0], [51.471401, -1.042056, 1.0], [51.472752, -0.959654, 5.0], [51.472861, -0.951092, 2.0], [51.473309, -0.971391, 15.0], [51.473341, -0.971724, 5.0], [51.474896, -0.945246, 3.0], [51.475296, -0.974032, 4.0], [51.482368, -0.98767, 7.0], [51.484558, -0.993668, 5.0]], [[51.406177, -0.974513, 1.0], [51.411836, -0.946967, 1.0], [51.423055, -0.984479, 5.0], [51.425279, -0.955726, 3.0], [51.425965, -0.947645, 7.0], [51.42598, -0.94819, 4.0], [51.426309, -0.996213, 10.0], [51.427395, -0.948014, 1.0], [51.431071, -0.976837, 3.0], [51.431293, -0.907108, 1.0], [51.431841, -0.976731, 3.0], [51.436542, -0.955962, 8.0], [51.437813, -0.898008, 2.0], [51.4389, -0.957669, 27.0], [51.439346, -0.965078, 1.0], [51.439779, -0.946358, 20.0], [51.439897, -0.94331, 1.0], [51.440262, -0.948534, 3.0], [51.440264, -0.948812, 2.0], [51.440337, -0.943586, 4.0], [51.440545, -0.922281, 16.0], [51.440551, -0.947964, 2.0], [51.440662, -0.941842, 8.0], [51.44075, -0.942637, 9.0], [51.440787, -0.942944, 10.0], [51.440787, -0.942782, 6.0], [51.44082, -0.942939, 16.0], [51.440846, -0.944273, 4.0], [51.441047, -0.943153, 19.0], [51.441065, -0.942288, 4.0], [51.441166, -0.942527, 13.0], [51.441192, -0.94276, 5.0], [51.441266, -0.943643, 17.0], [51.441286, -0.942828, 4.0], [51.441338, -0.943385, 6.0], [51.441401, -0.944338, 15.0], [51.441421, -0.941816, 6.0], [51.441443, -0.942531, 1.0], [51.441462, -0.942724, 4.0], [51.441571, -0.943255, 6.0], [51.44159, -0.945724, 3.0], [51.441722, -0.946289, 3.0], [51.441767, -0.946085, 4.0], [51.441824, -1.060951, 3.0], [51.441824, -0.946792, 2.0], [51.441943, -0.910141, 10.0], [51.442028, -0.946267, 5.0], [51.442287, -0.94724, 3.0], [51.442356, -0.95388, 1.0], [51.442406, -0.953995, 9.0], [51.442806, -0.94697, 1.0], [51.442808, -0.95558, 4.0], [51.442854, -0.955756, 2.0], [51.443216, -0.957066, 1.0], [51.443536, -0.967006, 1.0], [51.443939, -0.965102, 3.0], [51.443986, -1.004905, 3.0], [51.44402, -0.93682, 8.0], [51.444158, -0.94698, 3.0], [51.444235, -0.947609, 4.0], [51.444335, -0.946989, 5.0], [51.444489, -0.967676, 3.0], [51.444513, -0.966691, 4.0], [51.444754, -0.94444, 1.0], [51.444796, -0.945135, 2.0], [51.444798, -0.945119, 7.0], [51.444823, -0.945261, 23.0], [51.444839, -0.945027, 4.0], [51.444846, -0.948695, 2.0], [51.445231, -0.947587, 6.0], [51.445296, -0.944199, 16.0], [51.445446, -0.947616, 3.0], [51.445586, -0.96978, 8.0], [51.44576, -0.986374, 8.0], [51.445933, -0.927559, 5.0], [51.445991, -0.927434, 5.0], [51.446566, -0.967902, 6.0], [51.446568, -0.94785, 8.0], [51.44684, -0.976716, 6.0], [51.446852, -0.95015, 1.0], [51.446853, -0.993504, 3.0], [51.446939, -0.951713, 3.0], [51.446975, -0.933906, 1.0], [51.447308, -0.932414, 7.0], [51.447369, -0.950457, 3.0], [51.448169, -0.941289, 3.0], [51.448248, -0.934256, 4.0], [51.448362, -0.966391, 3.0], [51.448465, -0.966554, 3.0], [51.448474, -0.94574, 7.0], [51.448489, -0.968388, 9.0], [51.448603, -0.934745, 4.0], [51.448692, -0.951096, 8.0], [51.448914, -1.031288, 4.0], [51.448984, -0.93776, 3.0], [51.4492, -0.947935, 2.0], [51.449207, -0.938202, 2.0], [51.449224, -0.93796, 5.0], [51.449229, -0.93807, 2.0], [51.449278, -0.956646, 1.0], [51.449337, -0.962741, 1.0], [51.44935, -0.957037, 6.0], [51.449395, -0.959885, 3.0], [51.449544, -0.949404, 6.0], [51.449614, -0.950111, 1.0], [51.449635, -0.936597, 15.0], [51.449654, -0.939639, 8.0], [51.449655, -0.950293, 2.0], [51.449669, -0.95024, 3.0], [51.449673, -0.927896, 1.0], [51.449754, -0.950334, 5.0], [51.450213, -0.949823, 6.0], [51.450279, -0.9355, 6.0], [51.450638, -0.968282, 1.0], [51.450649, -0.949002, 1.0], [51.450941, -0.951244, 1.0], [51.450952, -0.950368, 12.0], [51.450959, -0.967591, 7.0], [51.451073, -0.945581, 8.0], [51.451102, -0.943713, 5.0], [51.451156, -0.943795, 8.0], [51.451203, -0.968978, 3.0], [51.451204, -0.988795, 28.0], [51.451404, -0.950652, 2.0], [51.451427, -0.957833, 8.0], [51.451689, -0.969582, 3.0], [51.451732, -0.956437, 6.0], [51.452056, -0.966504, 6.0], [51.452207, -0.881919, 2.0], [51.452271, -0.973035, 12.0], [51.45249, -0.952524, 7.0], [51.452552, -0.977283, 16.0], [51.452813, -0.973434, 9.0], [51.452848, -0.961612, 16.0], [51.453061, -0.996641, 4.0], [51.453098, -0.949851, 5.0], [51.4531, -0.966834, 2.0], [51.453203, -0.969208, 9.0], [51.453363, -0.955889, 6.0], [51.453364, -0.955885, 4.0], [51.453414, -0.956237, 1.0], [51.453422, -0.956226, 5.0], [51.453436, -0.955915, 9.0], [51.453493, -0.95558, 3.0], [51.453535, -0.974341, 3.0], [51.45362, -0.879884, 4.0], [51.453784, -0.970736, 3.0], [51.453835, -0.971205, 2.0], [51.453935, -0.973369, 8.0], [51.453951, -0.973662, 5.0], [51.453956, -0.958563, 3.0], [51.453978, -0.945527, 2.0], [51.453986, -0.972939, 4.0], [51.453987, -0.97297, 15.0], [51.453988, -0.972811, 2.0], [51.454, -0.973, 5.0], [51.454012, -0.972997, 2.0], [51.454072, -0.973374, 5.0], [51.454132, -0.973109, 4.0], [51.454243, -0.974414, 42.0], [51.45436, -0.974287, 4.0], [51.454525, -0.964818, 11.0], [51.454639, -0.964747, 1.0], [51.454688, -0.967506, 6.0], [51.454694, -0.966529, 4.0], [51.454711, -0.974668, 3.0], [51.454714, -0.969038, 9.0], [51.454799, -0.964446, 2.0], [51.454823, -0.974735, 4.0], [51.454886, -0.967817, 8.0], [51.454912, -0.968217, 8.0], [51.454932, -0.968497, 4.0], [51.454942, -0.969839, 2.0], [51.454948, -0.963129, 1.0], [51.454997, -0.968313, 2.0], [51.455025, -0.981304, 3.0], [51.455058, -0.968276, 9.0], [51.455082, -0.984573, 1.0], [51.455151, -0.941225, 1.0], [51.455172, -0.975358, 7.0], [51.455313, -0.958783, 10.0], [51.455326, -0.975163, 5.0], [51.455433, -0.949175, 14.0], [51.455502, -0.978202, 5.0], [51.455555, -0.993379, 1.0], [51.455935, -0.969476, 6.0], [51.455966, -0.969464, 2.0], [51.455976, -0.985963, 2.0], [51.456027, -0.969485, 2.0], [51.456086, -0.986869, 10.0], [51.45616, -0.949811, 4.0], [51.456166, -0.979236, 2.0], [51.456388, -0.97021, 7.0], [51.456549, -0.974494, 8.0], [51.456562, -0.974055, 6.0], [51.456564, -0.974363, 17.0], [51.456585, -0.973939, 4.0], [51.456603, -0.974, 8.0], [51.456605, -0.973776, 8.0], [51.456616, -0.973802, 3.0], [51.45663, -0.970556, 13.0], [51.456634, -0.970945, 6.0], [51.456648, -0.973951, 13.0], [51.456657, -0.974706, 11.0], [51.456662, -0.971279, 14.0], [51.456669, -0.972874, 4.0], [51.456673, -0.971581, 4.0], [51.456684, -0.975772, 5.0], [51.456702, -0.97372, 2.0], [51.456733, -0.973468, 7.0], [51.456736, -1.015201, 2.0], [51.456746, -0.971858, 2.0], [51.456748, -0.973747, 9.0], [51.456749, -0.973213, 2.0], [51.456755, -0.970814, 2.0], [51.456762, -0.97018, 5.0], [51.45678, -0.97162, 6.0], [51.456782, -0.973597, 12.0], [51.456792, -0.971343, 6.0], [51.45683, -0.971735, 12.0], [51.456838, -0.973969, 2.0], [51.456848, -0.97475, 4.0], [51.456871, -0.971453, 2.0], [51.456873, -0.972107, 1.0], [51.456913, -0.94626, 8.0], [51.457008, -0.972274, 2.0], [51.457324, -0.935599, 5.0], [51.457366, -0.970293, 5.0], [51.457421, -0.971915, 5.0], [51.457434, -0.972058, 6.0], [51.457449, -0.970295, 4.0], [51.457499, -0.972147, 1.0], [51.457524, -0.971849, 8.0], [51.457574, -0.970731, 8.0], [51.457593, -0.97216, 3.0], [51.457673, -0.971178, 4.0], [51.457691, -0.97162, 16.0], [51.457894, -0.971995, 7.0], [51.457897, -0.970078, 7.0], [51.457931, -0.971436, 3.0], [51.457948, -0.972046, 7.0], [51.457949, -0.972046, 1.0], [51.457975, -0.971592, 1.0], [51.458105, -0.972531, 2.0], [51.458219, -0.972245, 3.0], [51.458275, -0.972283, 3.0], [51.458357, -0.972319, 9.0], [51.458364, -0.97148, 1.0], [51.45932, -0.973114, 2.0], [51.459724, -0.955982, 3.0], [51.460114, -0.971537, 11.0], [51.461884, -1.018517, 6.0], [51.462002, -0.976793, 3.0], [51.463986, -0.982901, 1.0], [51.466265, -0.9578, 1.0], [51.466596, -0.970132, 7.0], [51.46883, -0.97134, 3.0], [51.469508, -1.043719, 4.0], [51.470369, -0.985641, 5.0], [51.470876, -0.969805, 9.0], [51.472665, -0.974941, 4.0], [51.474085, -0.977852, 5.0]], [[51.422225, -0.981567, 1.0], [51.424933, -0.960501, 2.0], [51.42582, -0.947709, 8.0], [51.429817, -0.912709, 11.0], [51.430155, -0.882811, 1.0], [51.435154, -0.94245, 2.0], [51.439241, -1.052398, 6.0], [51.439779, -0.946358, 12.0], [51.440028, -0.966885, 3.0], [51.440079, -0.966592, 6.0], [51.440123, -0.9478, 4.0], [51.440162, -0.948167, 7.0], [51.440163, -0.947558, 1.0], [51.440201, -0.948445, 4.0], [51.440245, -0.948541, 1.0], [51.440284, -0.948047, 5.0], [51.440365, -0.942839, 5.0], [51.440519, -0.943195, 6.0], [51.440551, -0.947964, 1.0], [51.44082, -0.942939, 24.0], [51.441047, -0.943153, 7.0], [51.441211, -0.942569, 5.0], [51.441292, -0.942708, 4.0], [51.441401, -0.944338, 23.0], [51.441443, -0.942531, 1.0], [51.441812, -0.946715, 4.0], [51.442028, -0.946267, 4.0], [51.442183, -0.944166, 14.0], [51.442406, -0.953995, 4.0], [51.442454, -0.977115, 6.0], [51.442735, -0.936465, 7.0], [51.442803, -0.966953, 6.0], [51.442805, -0.976802, 1.0], [51.442843, -0.936079, 1.0], [51.443176, -1.026585, 2.0], [51.443404, -0.9447, 2.0], [51.443956, -0.946952, 2.0], [51.444047, -0.9469, 3.0], [51.444158, -0.94698, 9.0], [51.444197, -0.946335, 4.0], [51.444215, -0.947598, 13.0], [51.444231, -0.947584, 8.0], [51.4443, -0.947315, 1.0], [51.444355, -0.963591, 1.0], [51.444463, -0.963689, 4.0], [51.444523, -0.966174, 28.0], [51.444633, -1.005231, 2.0], [51.444718, -0.96647, 5.0], [51.444771, -0.952062, 2.0], [51.444787, -0.945208, 1.0], [51.444796, -0.945135, 2.0], [51.444823, -0.945261, 14.0], [51.444863, -0.951944, 3.0], [51.445105, -0.972286, 1.0], [51.445194, -0.952001, 1.0], [51.445249, -0.955525, 1.0], [51.44571, -0.961323, 10.0], [51.446226, -0.964599, 1.0], [51.446408, -0.971462, 1.0], [51.446568, -0.94785, 16.0], [51.446622, -0.944567, 12.0], [51.446739, -0.976677, 3.0], [51.44685, -0.950141, 8.0], [51.446852, -0.95015, 31.0], [51.446883, -0.950068, 4.0], [51.446975, -0.933906, 5.0], [51.447065, -0.93467, 4.0], [51.447249, -0.9493, 4.0], [51.447308, -0.946178, 4.0], [51.447308, -0.932414, 5.0], [51.447312, -0.963447, 10.0], [51.447946, -0.946734, 9.0], [51.448169, -0.941289, 4.0], [51.448216, -0.950862, 6.0], [51.448389, -0.967205, 5.0], [51.448449, -0.940259, 8.0], [51.44857, -0.947918, 9.0], [51.448603, -0.934745, 10.0], [51.448688, -0.934814, 5.0], [51.448692, -0.951096, 5.0], [51.448975, -0.956733, 4.0], [51.449186, -0.956816, 7.0], [51.44927, -0.971389, 1.0], [51.449319, -0.95256, 8.0], [51.449344, -0.93372, 3.0], [51.449352, -0.959526, 10.0], [51.449367, -0.950214, 3.0], [51.449575, -0.950018, 1.0], [51.449613, -0.936556, 1.0], [51.449616, -0.963063, 14.0], [51.449648, -0.950294, 8.0], [51.449754, -0.950334, 5.0], [51.449788, -0.935063, 3.0], [51.450279, -0.9355, 5.0], [51.450638, -0.968282, 29.0], [51.45066, -0.929773, 3.0], [51.450664, -0.968125, 2.0], [51.450736, -0.987683, 2.0], [51.450875, -0.951194, 3.0], [51.450897, -0.95053, 8.0], [51.450942, -0.950218, 4.0], [51.451156, -0.943795, 25.0], [51.451242, -0.950356, 9.0], [51.451254, -0.943805, 3.0], [51.451459, -0.960545, 2.0], [51.451614, -0.969568, 2.0], [51.451668, -0.969879, 7.0], [51.451789, -0.949574, 14.0], [51.451981, -1.000904, 3.0], [51.452094, -0.968042, 2.0], [51.452117, -0.949715, 3.0], [51.452148, -0.944591, 1.0], [51.452216, -0.98905, 3.0], [51.452485, -0.976715, 7.0], [51.452538, -0.972446, 7.0], [51.452694, -0.971132, 4.0], [51.452763, -0.968287, 9.0], [51.45277, -0.968331, 5.0], [51.452972, -1.037583, 2.0], [51.453203, -0.969208, 8.0], [51.453236, -0.966745, 16.0], [51.453296, -0.967016, 1.0], [51.453301, -0.967037, 2.0], [51.453363, -0.955889, 10.0], [51.453486, -0.987691, 3.0], [51.453642, -0.971408, 4.0], [51.453664, -0.968322, 1.0], [51.45374, -0.973759, 4.0], [51.453747, -0.98248, 5.0], [51.453767, -0.968669, 3.0], [51.453846, -0.968256, 6.0], [51.453892, -1.01173, 1.0], [51.453914, -0.973018, 3.0], [51.453919, -0.973348, 12.0], [51.453919, -0.973347, 2.0], [51.453935, -0.973369, 10.0], [51.453956, -0.958563, 3.0], [51.453987, -0.97297, 11.0], [51.453993, -0.973191, 1.0], [51.454055, -0.968555, 3.0], [51.454103, -0.972736, 7.0], [51.454111, -0.94771, 3.0], [51.454203, -0.963164, 15.0], [51.454271, -0.944771, 3.0], [51.454278, -0.972852, 7.0], [51.454284, -0.972557, 9.0], [51.454331, -0.972705, 2.0], [51.45436, -0.974287, 4.0], [51.454422, -0.974776, 3.0], [51.454507, -0.97465, 4.0], [51.454546, -0.968421, 9.0], [51.454639, -0.964747, 10.0], [51.454677, -0.965656, 1.0], [51.454685, -0.966552, 2.0], [51.454694, -0.966529, 10.0], [51.454698, -0.966567, 14.0], [51.454707, -0.944955, 2.0], [51.454823, -0.974736, 10.0], [51.454823, -0.974735, 5.0], [51.454844, -0.974797, 9.0], [51.454869, -0.968374, 4.0], [51.454913, -0.968392, 3.0], [51.454943, -0.971116, 3.0], [51.45496, -0.968357, 1.0], [51.454972, -0.968723, 4.0], [51.454978, -0.974931, 1.0], [51.454997, -0.968313, 4.0], [51.455008, -0.968724, 3.0], [51.455025, -0.981304, 2.0], [51.455033, -0.969628, 4.0], [51.455121, -1.034775, 6.0], [51.45514, -0.942547, 2.0], [51.455145, -0.941235, 2.0], [51.455214, -0.977956, 1.0], [51.45524, -0.9771, 2.0], [51.455254, -0.958943, 2.0], [51.455313, -0.958783, 7.0], [51.455353, -0.976201, 6.0], [51.455414, -0.9799, 1.0], [51.455424, -0.975427, 3.0], [51.455471, -0.960069, 4.0], [51.455549, -0.979874, 25.0], [51.455658, -0.977212, 4.0], [51.456086, -0.986869, 4.0], [51.456129, -0.978786, 1.0], [51.45617, -0.975951, 8.0], [51.456172, -0.976001, 2.0], [51.456212, -0.976022, 1.0], [51.456234, -0.979351, 7.0], [51.45624, -0.979135, 4.0], [51.456254, -0.979123, 11.0], [51.456298, -0.979259, 1.0], [51.456319, -0.979228, 11.0], [51.456374, -0.979437, 3.0], [51.456407, -0.978816, 4.0], [51.456508, -0.975385, 4.0], [51.456531, -0.970859, 3.0], [51.456562, -0.974055, 1.0], [51.456585, -0.973939, 10.0], [51.456589, -0.973286, 7.0], [51.4566, -0.973841, 3.0], [51.456605, -0.973776, 8.0], [51.456641, -0.973688, 2.0], [51.456655, -0.971013, 6.0], [51.456656, -0.97187, 4.0], [51.456662, -0.971279, 6.0], [51.456707, -0.972985, 1.0], [51.456725, -0.970472, 3.0], [51.456733, -0.973468, 8.0], [51.456743, -0.973335, 2.0], [51.456754, -0.971778, 5.0], [51.456755, -0.97229, 2.0], [51.456755, -0.970814, 4.0], [51.456757, -0.973596, 1.0], [51.45678, -0.97162, 6.0], [51.456782, -0.973597, 5.0], [51.456783, -0.972087, 1.0], [51.456805, -0.972605, 2.0], [51.456816, -0.973741, 5.0], [51.456827, -0.971583, 7.0], [51.45683, -0.971735, 47.0], [51.456844, -0.973339, 12.0], [51.456854, -0.973505, 4.0], [51.45686, -0.983193, 11.0], [51.456873, -0.972893, 8.0], [51.456953, -0.971792, 26.0], [51.457137, -0.972124, 4.0], [51.457254, -0.970309, 7.0], [51.457314, -1.010283, 1.0], [51.457324, -0.935599, 2.0], [51.457387, -0.973477, 2.0], [51.457894, -0.971995, 22.0], [51.457948, -0.972046, 3.0], [51.457976, -0.972284, 2.0], [51.458009, -0.929761, 2.0], [51.45803, -0.972636, 4.0], [51.458154, -0.977076, 4.0], [51.458981, -0.990485, 3.0], [51.459691, -0.971481, 2.0], [51.460254, -0.971687, 1.0], [51.46068, -0.977838, 5.0], [51.460683, -0.978212, 3.0], [51.461451, -0.978309, 1.0], [51.463986, -0.982901, 1.0], [51.465097, -1.013743, 1.0], [51.465415, -0.960366, 6.0], [51.467496, -0.97677, 7.0], [51.467499, -0.976677, 12.0], [51.484875, -0.959108, 3.0]], [[51.404697, -0.938537, 7.0], [51.406205, -0.968474, 3.0], [51.417192, -0.967436, 1.0], [51.427162, -0.889486, 8.0], [51.439779, -0.946358, 2.0], [51.440268, -0.948019, 1.0], [51.440426, -0.9428, 6.0], [51.44082, -0.942939, 1.0], [51.44083, -0.92228, 4.0], [51.443138, -0.917606, 1.0], [51.443691, -0.93619, 6.0], [51.443986, -1.004905, 2.0], [51.444047, -0.9469, 2.0], [51.444464, -1.046209, 8.0], [51.444556, -0.967287, 5.0], [51.444643, -0.948907, 1.0], [51.445155, -0.950303, 1.0], [51.44545, -0.964646, 6.0], [51.445584, -0.949824, 3.0], [51.44621, -0.945344, 1.0], [51.4463, -0.945372, 4.0], [51.446652, -0.997065, 1.0], [51.447308, -0.932414, 4.0], [51.447396, -0.972231, 1.0], [51.447996, -0.950729, 3.0], [51.448432, -0.940325, 1.0], [51.448871, -0.936278, 2.0], [51.449618, -0.949975, 4.0], [51.449768, -0.935016, 2.0], [51.449931, -0.958029, 1.0], [51.449998, -0.933919, 1.0], [51.45026, -0.950112, 4.0], [51.450472, -0.957378, 1.0], [51.451252, -0.969089, 3.0], [51.451365, -0.992714, 4.0], [51.451794, -0.943639, 9.0], [51.452179, -1.01697, 1.0], [51.452551, -0.986536, 3.0], [51.452796, -0.976698, 1.0], [51.452972, -1.037583, 5.0], [51.4532, -0.981141, 2.0], [51.453755, -0.984675, 3.0], [51.453776, -0.973852, 1.0], [51.454339, -0.992403, 6.0], [51.454793, -0.96411, 1.0], [51.454844, -0.974797, 2.0], [51.454851, -0.974804, 7.0], [51.454862, -0.980939, 2.0], [51.455141, -0.978117, 3.0], [51.455378, -0.976387, 3.0], [51.45616, -0.949811, 3.0], [51.456173, -0.978916, 3.0], [51.456603, -0.974, 4.0], [51.456777, -0.970067, 7.0], [51.457178, -0.963726, 2.0], [51.457324, -0.935599, 18.0], [51.457764, -0.97164, 1.0], [51.458364, -0.97148, 4.0], [51.458758, -0.973664, 7.0], [51.458899, -0.995077, 3.0], [51.459703, -1.005781, 7.0], [51.460114, -0.971537, 2.0], [51.460366, -0.994917, 1.0], [51.461884, -1.018517, 1.0], [51.463631, -0.982877, 6.0], [51.467209, -0.951833, 1.0], [51.467499, -0.976677, 3.0]], [[51.418131, -0.961027, 5.0], [51.425724, -0.908332, 1.0], [51.425965, -0.947645, 13.0], [51.426169, -0.948303, 5.0], [51.440436, -0.933906, 3.0], [51.442896, -0.934712, 3.0], [51.445047, -0.989389, 4.0], [51.447946, -0.946734, 1.0], [51.449037, -0.934935, 7.0], [51.449356, -0.964733, 4.0], [51.449596, -0.938764, 2.0], [51.4498, -0.934934, 1.0], [51.45026, -0.950112, 11.0], [51.450708, -0.965529, 3.0], [51.450919, -0.983389, 1.0], [51.451043, -0.922158, 3.0], [51.451245, -0.945578, 4.0], [51.45302, -0.960426, 8.0], [51.453614, -0.948866, 1.0], [51.454027, -1.003862, 1.0], [51.454823, -0.974735, 4.0], [51.456944, -0.983574, 4.0], [51.457156, -1.015838, 4.0], [51.457273, -0.985203, 3.0], [51.457324, -0.935599, 3.0], [51.457691, -0.97162, 1.0], [51.458394, -0.915062, 1.0], [51.458851, -1.004572, 4.0], [51.459108, -0.976266, 1.0], [51.464852, -0.963317, 1.0], [51.473414, -0.964666, 2.0], [51.474667, -0.942588, 1.0], [51.476524, -0.975767, 1.0]], [[51.399523, -0.973336, 1.0], [51.417456, -0.97764, 16.0], [51.422175, -0.961953, 13.0], [51.425965, -0.947645, 7.0], [51.426113, -0.948333, 4.0], [51.426804, -0.934272, 9.0], [51.42695, -0.996298, 5.0], [51.428673, -0.967368, 8.0], [51.429545, -0.884148, 2.0], [51.429633, -0.884097, 5.0], [51.430351, -0.925492, 20.0], [51.430795, -0.958256, 2.0], [51.433202, -0.976216, 1.0], [51.433444, -0.950346, 4.0], [51.433636, -0.948868, 3.0], [51.437532, -0.88933, 1.0], [51.439008, -1.058894, 1.0], [51.440961, -0.9178, 1.0], [51.441252, -0.92492, 5.0], [51.444017, -0.947733, 5.0], [51.444244, -0.936903, 3.0], [51.444333, -0.985783, 1.0], [51.444464, -1.046209, 6.0], [51.44451, -0.945081, 1.0], [51.444832, -0.944292, 1.0], [51.445204, -0.986953, 2.0], [51.44522, -0.958716, 6.0], [51.445264, -0.992301, 2.0], [51.445343, -0.972293, 1.0], [51.445435, -0.998634, 19.0], [51.446036, -0.94565, 1.0], [51.447375, -0.905183, 3.0], [51.447544, -0.988882, 6.0], [51.44763, -0.988891, 7.0], [51.447897, -0.949363, 5.0], [51.447946, -0.946734, 2.0], [51.448797, -0.94728, 6.0], [51.448926, -0.938116, 5.0], [51.449574, -0.948641, 4.0], [51.449599, -0.948696, 4.0], [51.449753, -0.914621, 6.0], [51.449795, -0.923273, 3.0], [51.450371, -0.943585, 1.0], [51.450929, -0.985369, 1.0], [51.451005, -0.945561, 6.0], [51.451631, -0.953287, 8.0], [51.451802, -0.953505, 2.0], [51.451879, -0.974997, 5.0], [51.451897, -0.949695, 3.0], [51.452459, -0.972801, 3.0], [51.452461, -0.97287, 3.0], [51.452515, -0.972821, 1.0], [51.452609, -0.931454, 30.0], [51.453284, -1.002524, 1.0], [51.453442, -0.981317, 3.0], [51.453449, -0.957179, 1.0], [51.453642, -0.971408, 9.0], [51.453896, -0.960949, 3.0], [51.453919, -0.973348, 3.0], [51.454823, -0.974735, 19.0], [51.454883, -0.981696, 1.0], [51.455035, -0.992084, 4.0], [51.455626, -0.989219, 1.0], [51.456391, -0.990547, 4.0], [51.457324, -0.935599, 1.0], [51.458223, -1.001593, 8.0], [51.458384, -0.973398, 1.0], [51.458671, -0.973763, 1.0], [51.459456, -0.958698, 2.0], [51.459481, -0.958791, 4.0], [51.45951, -0.958621, 4.0], [51.462461, -1.010571, 4.0], [51.463904, -0.960722, 6.0], [51.465902, -0.953598, 3.0], [51.469416, -0.984298, 8.0], [51.469796, -0.961687, 4.0], [51.47007, -0.966455, 2.0], [51.470136, -0.964341, 1.0], [51.470198, -0.963362, 1.0], [51.471424, -0.953193, 7.0], [51.471431, -0.967299, 5.0], [51.471759, -0.964508, 3.0], [51.47436, -0.984781, 7.0], [51.474667, -0.942588, 1.0]], [[51.412603, -0.961171, 4.0], [51.419372, -0.971432, 5.0], [51.41956, -0.97204, 22.0], [51.41968, -0.971152, 3.0], [51.42012, -0.971933, 3.0], [51.420201, -0.970879, 1.0], [51.420224, -0.989788, 2.0], [51.420962, -0.990359, 7.0], [51.42245, -0.98455, 3.0], [51.424933, -0.960501, 1.0], [51.425724, -0.908332, 5.0], [51.425965, -0.947645, 9.0], [51.426489, -0.950901, 3.0], [51.426804, -0.934272, 2.0], [51.429633, -0.884097, 4.0], [51.430351, -0.925492, 3.0], [51.430366, -0.969722, 3.0], [51.430809, -0.975405, 1.0], [51.43085, -0.977652, 3.0], [51.431071, -0.977197, 1.0], [51.432781, -0.914695, 3.0], [51.43288, -0.950162, 9.0], [51.433072, -0.955723, 2.0], [51.433434, -0.975647, 11.0], [51.433448, -0.950324, 4.0], [51.433548, -0.950399, 3.0], [51.433783, -0.975881, 2.0], [51.433897, -0.97598, 5.0], [51.433926, -0.975987, 4.0], [51.434542, -0.942941, 3.0], [51.435833, -0.962466, 5.0], [51.436542, -0.955962, 6.0], [51.437792, -0.961607, 2.0], [51.438869, -1.02981, 18.0], [51.439064, -0.961211, 3.0], [51.439172, -1.058652, 1.0], [51.439357, -0.950961, 3.0], [51.439433, -0.96064, 6.0], [51.439491, -0.951197, 3.0], [51.43952, -0.951214, 1.0], [51.439541, -0.951198, 2.0], [51.439779, -0.946358, 2.0], [51.440262, -0.948534, 2.0], [51.440443, -0.95234, 3.0], [51.44047, -0.952385, 1.0], [51.44069, -0.964913, 7.0], [51.441086, -0.919438, 4.0], [51.441893, -0.992317, 8.0], [51.44217, -1.031315, 7.0], [51.442504, -0.934406, 1.0], [51.443018, -0.991475, 23.0], [51.443285, -0.956532, 7.0], [51.443358, -0.952735, 4.0], [51.443892, -0.965098, 7.0], [51.444061, -0.947696, 7.0], [51.444072, -1.00495, 6.0], [51.444135, -0.946585, 7.0], [51.444387, -0.969072, 1.0], [51.44451, -0.945081, 4.0], [51.444762, -0.955356, 2.0], [51.444823, -0.945261, 9.0], [51.445374, -0.951003, 3.0], [51.446611, -0.993, 42.0], [51.4467, -0.983715, 6.0], [51.447027, -0.986502, 4.0], [51.447114, -0.997398, 3.0], [51.447436, -0.992133, 3.0], [51.448233, -0.946304, 3.0], [51.448301, -0.946418, 18.0], [51.448345, -0.946583, 2.0], [51.448363, -1.00413, 5.0], [51.448376, -0.940174, 7.0], [51.448409, -0.976068, 14.0], [51.448449, -0.940259, 42.0], [51.448478, -0.940147, 10.0], [51.448823, -0.970882, 19.0], [51.448906, -0.974496, 17.0], [51.448948, -0.991929, 8.0], [51.449191, -0.951217, 4.0], [51.449221, -0.971485, 4.0], [51.449225, -0.994092, 1.0], [51.44927, -0.971389, 29.0], [51.449337, -0.962741, 5.0], [51.449364, -0.957013, 3.0], [51.449395, -0.967327, 8.0], [51.44949, -0.950416, 9.0], [51.449501, -0.950487, 4.0], [51.44952, -0.950426, 4.0], [51.449547, -0.956988, 8.0], [51.449651, -0.950358, 1.0], [51.449709, -0.982094, 9.0], [51.449795, -0.923273, 6.0], [51.449804, -0.938443, 7.0], [51.449807, -0.956825, 2.0], [51.450107, -0.948694, 1.0], [51.450336, -0.970348, 4.0], [51.450425, -0.964649, 8.0], [51.450613, -0.969103, 7.0], [51.450725, -0.945188, 4.0], [51.451489, -0.991569, 24.0], [51.451614, -0.969568, 8.0], [51.451782, -0.967624, 8.0], [51.451796, -0.969769, 1.0], [51.451858, -0.943846, 6.0], [51.452206, -0.953204, 1.0], [51.452237, -0.973327, 7.0], [51.452372, -1.005047, 14.0], [51.452395, -0.956887, 13.0], [51.452402, -0.973019, 4.0], [51.452457, -0.972867, 3.0], [51.452459, -0.972801, 1.0], [51.452489, -0.972735, 2.0], [51.452491, -0.972883, 13.0], [51.452492, -0.972784, 3.0], [51.452531, -0.972811, 3.0], [51.452566, -0.931251, 8.0], [51.452609, -0.931454, 23.0], [51.45263, -0.970769, 3.0], [51.452678, -0.962944, 1.0], [51.452845, -0.962856, 3.0], [51.452861, -0.950443, 5.0], [51.452897, -0.950674, 11.0], [51.452913, -0.950064, 3.0], [51.453093, -0.964724, 8.0], [51.453128, -1.007079, 4.0], [51.45314, -1.03017, 4.0], [51.453241, -0.96151, 9.0], [51.453363, -0.955889, 11.0], [51.453389, -0.955522, 1.0], [51.453487, -0.999961, 4.0], [51.453493, -0.95558, 21.0], [51.453667, -1.000024, 16.0], [51.453815, -0.968752, 7.0], [51.453815, -0.960629, 3.0], [51.453822, -0.960576, 4.0], [51.453896, -0.960949, 17.0], [51.45401, -0.957525, 11.0], [51.454069, -0.942105, 5.0], [51.454086, -0.949455, 1.0], [51.454155, -0.961088, 8.0], [51.454221, -0.943702, 3.0], [51.4543, -0.979246, 4.0], [51.454472, -0.977608, 4.0], [51.45453, -0.964165, 13.0], [51.454575, -0.97823, 16.0], [51.45465, -1.02614, 10.0], [51.454685, -0.966552, 1.0], [51.454691, -0.966511, 14.0], [51.454694, -0.966529, 6.0], [51.454884, -0.974972, 3.0], [51.454907, -0.978128, 8.0], [51.455136, -0.977791, 10.0], [51.455229, -0.942689, 7.0], [51.455257, -0.959781, 1.0], [51.455336, -0.984316, 2.0], [51.455348, -0.995277, 6.0], [51.455409, -0.967088, 8.0], [51.455466, -1.016252, 3.0], [51.455745, -0.991148, 3.0], [51.455871, -0.975665, 7.0], [51.455937, -0.94934, 1.0], [51.456006, -0.979082, 12.0], [51.456109, -0.959071, 19.0], [51.456178, -0.952635, 1.0], [51.456385, -0.944189, 8.0], [51.456721, -0.992074, 2.0], [51.456744, -0.975724, 6.0], [51.456749, -0.959222, 10.0], [51.456873, -0.972893, 7.0], [51.457413, -0.956795, 11.0], [51.457483, -0.978824, 7.0], [51.45781, -0.976664, 1.0], [51.458306, -1.006178, 6.0], [51.458364, -0.97148, 11.0], [51.458658, -0.994867, 18.0], [51.458665, -0.973793, 6.0], [51.458968, -1.007193, 2.0], [51.458996, -0.957734, 4.0], [51.4591, -0.996698, 8.0], [51.459212, -1.011596, 7.0], [51.459338, -0.958933, 8.0], [51.459456, -0.958698, 14.0], [51.459481, -0.958791, 14.0], [51.459486, -0.959613, 4.0], [51.45951, -0.958621, 25.0], [51.459683, -0.999882, 2.0], [51.459695, -1.004239, 1.0], [51.459744, -0.958841, 9.0], [51.460114, -0.971537, 6.0], [51.461112, -1.005828, 1.0], [51.462285, -0.976635, 7.0], [51.462461, -1.010571, 10.0], [51.463967, -0.977152, 1.0], [51.464692, -0.958428, 8.0], [51.464755, -0.965931, 3.0], [51.464999, -0.977367, 1.0], [51.465087, -0.961327, 6.0], [51.465101, -0.961354, 3.0], [51.465898, -0.959334, 7.0], [51.466233, -0.976418, 10.0], [51.466695, -0.955741, 8.0], [51.467029, -0.960511, 2.0], [51.467058, -0.955197, 2.0], [51.467211, -0.955144, 8.0], [51.467628, -0.953698, 3.0], [51.46768, -0.974224, 3.0], [51.468527, -1.051301, 2.0], [51.468619, -0.960056, 12.0], [51.468651, -0.971275, 3.0], [51.468654, -0.968947, 1.0], [51.468825, -0.974147, 3.0], [51.469835, -0.967657, 1.0], [51.470151, -0.954002, 2.0], [51.470287, -0.963238, 5.0], [51.470372, -0.955637, 16.0], [51.470528, -0.98615, 11.0], [51.470821, -0.951724, 15.0], [51.470883, -0.95159, 7.0], [51.471418, -0.953434, 1.0], [51.471424, -0.953193, 20.0], [51.471668, -0.974784, 3.0], [51.472551, -0.989201, 3.0], [51.472971, -0.96361, 5.0], [51.473194, -0.946769, 2.0], [51.474749, -0.959497, 8.0], [51.474812, -0.942301, 7.0], [51.47528, -0.974199, 9.0], [51.475654, -0.984804, 4.0], [51.475924, -0.984955, 3.0], [51.477497, -0.980949, 3.0], [51.47766, -0.968515, 14.0], [51.477784, -0.968586, 6.0], [51.478006, -0.977758, 2.0], [51.479045, -0.987998, 10.0], [51.481833, -0.950224, 2.0], [51.48309, -0.953536, 3.0], [51.48312, -0.953585, 5.0], [51.485038, -0.979756, 7.0]], [[51.399636, -0.96863, 1.0], [51.400069, -0.968292, 5.0], [51.400945, -0.969257, 3.0], [51.40319, -0.975175, 5.0], [51.408588, -0.947465, 4.0], [51.416129, -0.964341, 2.0], [51.416397, -0.953481, 23.0], [51.418408, -0.973598, 1.0], [51.421262, -0.970583, 9.0], [51.421509, -0.940241, 5.0], [51.421571, -0.940321, 67.0], [51.422139, -0.938024, 4.0], [51.422154, -0.938129, 17.0], [51.42245, -0.98455, 20.0], [51.423507, -0.951109, 6.0], [51.425717, -1.035509, 1.0], [51.425887, -0.917038, 1.0], [51.426026, -0.924714, 47.0], [51.426252, -0.948492, 5.0], [51.426324, -1.035601, 1.0], [51.427066, -0.994042, 5.0], [51.427243, -0.897665, 3.0], [51.427347, -0.897713, 6.0], [51.42807, -0.943066, 6.0], [51.428434, -0.917978, 1.0], [51.428562, -0.963379, 7.0], [51.429701, -0.950955, 10.0], [51.429806, -0.944777, 3.0], [51.429973, -0.944287, 11.0], [51.430364, -0.968501, 4.0], [51.430398, -0.97739, 5.0], [51.430465, -0.977445, 1.0], [51.43059, -0.977636, 13.0], [51.430601, -0.944244, 6.0], [51.430623, -0.977397, 6.0], [51.43065, -0.977575, 4.0], [51.430686, -0.968562, 4.0], [51.430753, -0.97333, 8.0], [51.43085, -0.977652, 8.0], [51.431071, -0.977197, 75.0], [51.43109, -0.976831, 2.0], [51.431186, -0.977193, 3.0], [51.432336, -0.97685, 5.0], [51.432391, -0.976824, 5.0], [51.432439, -0.975151, 3.0], [51.433897, -0.97598, 2.0], [51.434238, -0.9485, 2.0], [51.434994, -0.9326, 6.0], [51.437398, -0.967857, 1.0], [51.437522, -0.953882, 3.0], [51.438851, -1.030196, 7.0], [51.439433, -0.96064, 8.0], [51.439574, -0.965696, 7.0], [51.43965, -1.008336, 3.0], [51.439775, -0.966722, 13.0], [51.439852, -0.916708, 5.0], [51.440337, -0.943586, 4.0], [51.440614, -0.96784, 8.0], [51.440632, -0.966757, 6.0], [51.440636, -0.967842, 30.0], [51.44069, -0.964913, 8.0], [51.440823, -1.013375, 10.0], [51.440924, -0.966062, 7.0], [51.440961, -0.9178, 12.0], [51.441124, -0.957923, 15.0], [51.441788, -0.99526, 2.0], [51.441893, -0.992317, 3.0], [51.442743, -0.957189, 3.0], [51.442832, -0.955596, 1.0], [51.443018, -0.991475, 22.0], [51.443027, -0.956125, 2.0], [51.443147, -0.956523, 6.0], [51.443311, -0.956305, 3.0], [51.443314, -0.956308, 3.0], [51.443415, -0.95631, 12.0], [51.443479, -0.968131, 1.0], [51.443583, -0.96761, 1.0], [51.444017, -0.947733, 1.0], [51.44417, -0.96306, 20.0], [51.444318, -0.961611, 3.0], [51.444646, -0.997089, 7.0], [51.444771, -0.952061, 7.0], [51.444823, -0.945261, 16.0], [51.444979, -0.999422, 13.0], [51.445299, -0.952295, 5.0], [51.445323, -0.956339, 1.0], [51.445495, -0.965676, 3.0], [51.445606, -0.985064, 5.0], [51.445623, -0.949843, 8.0], [51.445673, -0.950523, 5.0], [51.44574, -0.986445, 95.0], [51.445869, -0.957168, 5.0], [51.445962, -0.957478, 3.0], [51.446031, -0.986307, 27.0], [51.446215, -0.942711, 6.0], [51.446493, -0.998723, 20.0], [51.44652, -0.968207, 33.0], [51.446548, -0.993074, 7.0], [51.446611, -0.993, 13.0], [51.446663, -0.931219, 23.0], [51.446802, -0.951437, 4.0], [51.446812, -0.95145, 6.0], [51.446834, -0.933755, 28.0], [51.446878, -0.933815, 4.0], [51.446918, -0.933613, 6.0], [51.446982, -1.047778, 1.0], [51.447021, -0.947, 7.0], [51.447033, -0.966186, 9.0], [51.447114, -0.997398, 6.0], [51.447262, -0.95421, 7.0], [51.44736, -0.949035, 12.0], [51.447436, -0.992133, 9.0], [51.447485, -0.933473, 11.0], [51.447527, -0.990338, 4.0], [51.447532, -0.94741, 9.0], [51.447616, -0.94948, 1.0], [51.44763, -0.988891, 7.0], [51.447941, -0.999031, 3.0], [51.448237, -0.978091, 7.0], [51.448345, -0.946583, 8.0], [51.448351, -0.966304, 3.0], [51.448351, -0.936607, 3.0], [51.448357, -0.97271, 32.0], [51.448365, -0.948471, 7.0], [51.448449, -0.940259, 2.0], [51.448589, -0.921629, 5.0], [51.448749, -0.934494, 3.0], [51.448761, -0.964089, 1.0], [51.448807, -0.949799, 7.0], [51.448811, -0.963996, 8.0], [51.448976, -0.946276, 10.0], [51.449006, -0.948547, 5.0], [51.449017, -0.969088, 9.0], [51.449031, -0.962815, 14.0], [51.449051, -0.98978, 4.0], [51.449088, -0.989785, 9.0], [51.449126, -0.967567, 7.0], [51.449138, -0.948227, 3.0], [51.449221, -0.971485, 6.0], [51.449257, -0.994086, 2.0], [51.44929, -0.971481, 10.0], [51.449337, -0.962741, 8.0], [51.449395, -0.967327, 20.0], [51.449434, -0.969194, 5.0], [51.449458, -0.956998, 1.0], [51.449506, -0.957834, 2.0], [51.449519, -0.971092, 39.0], [51.449528, -0.990709, 6.0], [51.449547, -0.956988, 6.0], [51.449553, -0.981439, 9.0], [51.449579, -0.964997, 4.0], [51.449616, -0.963063, 19.0], [51.449695, -0.962862, 2.0], [51.449709, -0.982094, 19.0], [51.449726, -0.963254, 6.0], [51.449777, -0.962902, 1.0], [51.449779, -0.96288, 6.0], [51.44978, -0.97046, 4.0], [51.44978, -0.962875, 1.0], [51.449795, -0.923273, 1.0], [51.449892, -0.934425, 5.0], [51.450017, -0.968725, 8.0], [51.450062, -0.948674, 11.0], [51.45009, -0.963001, 13.0], [51.450225, -0.963057, 4.0], [51.450257, -0.964535, 6.0], [51.45026, -0.964507, 6.0], [51.450286, -0.983631, 7.0], [51.450311, -0.995389, 9.0], [51.450362, -0.927179, 9.0], [51.450372, -0.995227, 3.0], [51.450408, -0.9476, 12.0], [51.450437, -0.968147, 12.0], [51.450484, -0.967516, 6.0], [51.450508, -0.995247, 16.0], [51.45052, -1.027697, 7.0], [51.45057, -0.982726, 7.0], [51.450623, -0.963129, 6.0], [51.450689, -0.987895, 14.0], [51.450712, -0.962012, 3.0], [51.450827, -0.987817, 6.0], [51.450956, -0.955919, 6.0], [51.45097, -0.95432, 8.0], [51.451038, -0.923289, 2.0], [51.451052, -0.994982, 5.0], [51.4511, -0.994204, 42.0], [51.451263, -0.970474, 8.0], [51.451324, -0.951435, 6.0], [51.451362, -0.98769, 11.0], [51.451368, -0.950683, 3.0], [51.451447, -0.99465, 5.0], [51.451646, -0.991158, 7.0], [51.451691, -0.946245, 11.0], [51.451737, -0.969525, 12.0], [51.451798, -0.960477, 4.0], [51.451879, -0.974997, 32.0], [51.451937, -0.960609, 4.0], [51.451972, -0.968263, 12.0], [51.452028, -1.007553, 3.0], [51.452031, -0.968743, 10.0], [51.452036, -0.968195, 11.0], [51.452158, -0.942279, 5.0], [51.452206, -0.953204, 1.0], [51.452237, -0.973327, 5.0], [51.452302, -1.005256, 1.0], [51.45233, -0.957103, 6.0], [51.452372, -1.005047, 46.0], [51.452393, -0.957025, 4.0], [51.452403, -0.95692, 3.0], [51.452409, -0.956874, 4.0], [51.452434, -0.956863, 1.0], [51.452439, -0.956878, 9.0], [51.452442, -0.956934, 6.0], [51.452541, -0.947292, 8.0], [51.452609, -0.931454, 27.0], [51.452653, -0.931611, 7.0], [51.452678, -0.962944, 1.0], [51.452708, -0.954741, 1.0], [51.452801, -0.968401, 9.0], [51.452866, -0.954623, 2.0], [51.452904, -0.968194, 8.0], [51.452947, -0.94875, 4.0], [51.452949, -0.930618, 3.0], [51.45297, -0.955473, 3.0], [51.45303, -0.966802, 1.0], [51.45304, -0.966821, 11.0], [51.453064, -0.951204, 11.0], [51.453163, -0.951365, 1.0], [51.453212, -0.958735, 9.0], [51.453213, -1.005478, 11.0], [51.453236, -0.966745, 22.0], [51.453277, -0.981059, 7.0], [51.453331, -0.966968, 2.0], [51.453381, -0.956191, 8.0], [51.453389, -0.955822, 7.0], [51.453392, -0.956095, 6.0], [51.4534, -0.956001, 9.0], [51.453401, -0.955951, 9.0], [51.453412, -0.967002, 14.0], [51.453422, -0.966698, 16.0], [51.453427, -0.956249, 1.0], [51.453439, -0.946848, 3.0], [51.45344, -0.955948, 3.0], [51.45347, -0.955932, 6.0], [51.453493, -0.95558, 61.0], [51.453496, -0.967045, 8.0], [51.453542, -0.956117, 1.0], [51.453561, -0.955672, 8.0], [51.453574, -0.958646, 4.0], [51.453594, -0.958257, 4.0], [51.453667, -1.000024, 16.0], [51.453816, -0.979895, 13.0], [51.453823, -0.982423, 1.0], [51.453854, -0.95723, 6.0], [51.453887, -0.968731, 3.0], [51.453934, -1.044724, 1.0], [51.45415, -0.963134, 8.0], [51.454161, -0.963121, 1.0], [51.45419, -0.963151, 1.0], [51.454195, -0.963172, 15.0], [51.454212, -0.963254, 13.0], [51.454215, -0.963304, 3.0], [51.454217, -0.962382, 5.0], [51.454237, -0.981392, 8.0], [51.454239, -0.962887, 6.0], [51.45428, -0.949276, 12.0], [51.454308, -1.052298, 8.0], [51.454454, -0.978027, 3.0], [51.454536, -0.972211, 4.0], [51.454575, -0.97823, 18.0], [51.45461, -0.98966, 6.0], [51.454684, -0.966439, 7.0], [51.454692, -0.96652, 10.0], [51.454694, -0.966529, 17.0], [51.454694, -0.966427, 9.0], [51.454728, -0.96649, 3.0], [51.454783, -0.946473, 5.0], [51.454848, -0.982152, 1.0], [51.454907, -0.978128, 65.0], [51.454972, -0.969189, 4.0], [51.455001, -0.969119, 9.0], [51.455033, -0.969628, 1.0], [51.455122, -0.969573, 2.0], [51.455313, -0.958783, 11.0], [51.455336, -0.984316, 4.0], [51.455347, -0.941621, 5.0], [51.455356, -0.935589, 2.0], [51.455361, -0.941577, 5.0], [51.45539, -0.942874, 28.0], [51.455432, -0.942759, 9.0], [51.455438, -0.970909, 9.0], [51.455443, -0.975428, 5.0], [51.455466, -1.016252, 17.0], [51.455502, -0.978202, 12.0], [51.455532, -0.941822, 11.0], [51.455632, -0.980515, 30.0], [51.455658, -0.975711, 8.0], [51.455695, -0.97551, 6.0], [51.455745, -0.991148, 2.0], [51.455798, -0.969255, 6.0], [51.455816, -0.975458, 1.0], [51.455854, -0.975709, 2.0], [51.455858, -0.958826, 5.0], [51.455998, -0.980217, 4.0], [51.456097, -0.949773, 7.0], [51.456109, -0.959071, 13.0], [51.456116, -0.979076, 5.0], [51.456145, -0.979227, 2.0], [51.45616, -0.949811, 2.0], [51.45617, -0.975951, 14.0], [51.456173, -0.978916, 20.0], [51.456178, -0.952635, 9.0], [51.456234, -0.969006, 8.0], [51.456385, -0.944189, 10.0], [51.456498, -1.011756, 6.0], [51.456616, -0.983577, 11.0], [51.456628, -0.970694, 4.0], [51.456657, -0.974706, 4.0], [51.456692, -1.001195, 16.0], [51.456749, -0.959222, 4.0], [51.456781, -0.972037, 6.0], [51.456812, -0.971872, 2.0], [51.456821, -0.971858, 4.0], [51.456841, -0.971886, 6.0], [51.456969, -0.962829, 8.0], [51.457048, -0.928927, 8.0], [51.457275, -0.9568, 13.0], [51.457278, -0.961003, 3.0], [51.457315, -0.962016, 3.0], [51.457413, -0.956795, 13.0], [51.457424, -0.978261, 8.0], [51.457442, -0.960781, 2.0], [51.457467, -0.998565, 5.0], [51.457572, -0.970536, 9.0], [51.457659, -0.995162, 4.0], [51.457664, -0.954281, 7.0], [51.457664, -0.954274, 5.0], [51.457665, -1.006573, 3.0], [51.457667, -0.954279, 3.0], [51.457667, -0.954277, 4.0], [51.457668, -0.954262, 4.0], [51.457697, -1.000504, 5.0], [51.457698, -0.9719, 8.0], [51.457736, -0.95431, 7.0], [51.457789, -1.006527, 10.0], [51.457814, -0.970542, 9.0], [51.457894, -0.971995, 6.0], [51.457948, -0.971534, 1.0], [51.457958, -0.971618, 6.0], [51.458115, -0.971296, 5.0], [51.458124, -0.972354, 8.0], [51.458201, -0.995782, 7.0], [51.458222, -0.972507, 4.0], [51.458261, -0.972249, 6.0], [51.458364, -0.97148, 3.0], [51.458384, -0.973398, 11.0], [51.458418, -0.972312, 4.0], [51.458658, -0.994867, 16.0], [51.458671, -0.973763, 5.0], [51.458721, -0.973637, 5.0], [51.459017, -0.959458, 7.0], [51.459087, -0.972241, 8.0], [51.459419, -0.958753, 5.0], [51.459481, -0.958791, 1.0], [51.45951, -0.958621, 117.0], [51.459527, -0.958554, 13.0], [51.459531, -0.958537, 3.0], [51.459658, -0.966688, 5.0], [51.459683, -0.999882, 7.0], [51.459693, -0.958107, 23.0], [51.459695, -1.004239, 6.0], [51.459744, -0.958841, 5.0], [51.459765, -0.992469, 8.0], [51.45992, -0.992246, 7.0], [51.459998, -0.971989, 3.0], [51.46098, -0.979115, 1.0], [51.461119, -1.04455, 1.0], [51.461318, -0.97325, 5.0], [51.461522, -0.972997, 1.0], [51.462672, -1.006218, 5.0], [51.463692, -0.976474, 6.0], [51.463894, -0.977063, 9.0], [51.463956, -0.977059, 8.0], [51.464068, -0.977108, 1.0], [51.464158, -0.977116, 1.0], [51.464599, -0.969688, 7.0], [51.464755, -0.965931, 8.0], [51.464912, -0.963549, 1.0], [51.464916, -0.97231, 9.0], [51.464953, -0.96339, 2.0], [51.465006, -0.971709, 14.0], [51.465272, -0.9614, 6.0], [51.465358, -0.978115, 12.0], [51.465395, -0.961209, 1.0], [51.465413, -0.961292, 1.0], [51.465414, -0.962575, 3.0], [51.465442, -0.962572, 2.0], [51.465444, -0.959719, 15.0], [51.465788, -0.969086, 1.0], [51.465801, -0.968949, 5.0], [51.465862, -0.976109, 17.0], [51.466037, -0.958416, 11.0], [51.466233, -0.976418, 3.0], [51.466403, -0.971921, 1.0], [51.466442, -0.976204, 4.0], [51.466695, -0.955741, 15.0], [51.466845, -0.9711, 9.0], [51.467506, -0.950658, 19.0], [51.468088, -0.949786, 9.0], [51.468651, -0.971275, 9.0], [51.468725, -0.971265, 4.0], [51.468913, -0.971335, 8.0], [51.469179, -1.007283, 9.0], [51.469306, -1.007292, 12.0], [51.469701, -0.952943, 6.0], [51.469998, -0.952017, 9.0], [51.470372, -0.955637, 7.0], [51.47041, -0.961229, 4.0], [51.47043, -0.961198, 6.0], [51.470904, -0.953786, 6.0], [51.471531, -0.953201, 3.0], [51.472551, -0.989201, 61.0], [51.472971, -0.96361, 3.0], [51.473162, -0.985772, 2.0], [51.473454, -0.984543, 4.0], [51.474218, -0.977892, 3.0], [51.474491, -0.984552, 7.0], [51.474495, -0.984559, 23.0], [51.474741, -0.977552, 3.0], [51.47528, -0.974199, 4.0], [51.475311, -0.974268, 68.0], [51.475314, -0.974281, 34.0], [51.475374, -0.974179, 4.0], [51.477528, -0.978498, 4.0], [51.47766, -0.968515, 7.0], [51.478006, -0.977758, 13.0], [51.478223, -0.967598, 3.0], [51.478548, -0.972801, 2.0], [51.478728, -0.976988, 5.0], [51.479897, -0.947803, 2.0], [51.480565, -0.982097, 9.0], [51.481142, -0.978665, 2.0], [51.481769, -0.969555, 9.0], [51.482161, -0.951682, 2.0], [51.484887, -0.958375, 7.0], [51.48653, -0.963287, 13.0]], [[51.400069, -0.968292, 3.0], [51.412161, -0.943501, 1.0], [51.41846, -0.987664, 1.0], [51.418598, -0.976229, 2.0], [51.420143, -0.971057, 4.0], [51.42018, -0.971088, 3.0], [51.420206, -0.971132, 9.0], [51.425724, -0.908332, 3.0], [51.425965, -0.947645, 4.0], [51.426015, -0.921198, 3.0], [51.426026, -0.924714, 9.0], [51.426044, -0.976343, 9.0], [51.42617, -0.948344, 1.0], [51.427243, -0.897665, 1.0], [51.42988, -0.974652, 6.0], [51.429959, -0.942792, 9.0], [51.432574, -0.97669, 3.0], [51.433202, -0.976216, 4.0], [51.433209, -0.976778, 2.0], [51.433281, -0.948394, 8.0], [51.434042, -0.924844, 4.0], [51.439827, -0.957764, 4.0], [51.440262, -0.948534, 1.0], [51.440834, -0.932033, 1.0], [51.441063, -0.962938, 3.0], [51.441444, -0.962519, 3.0], [51.441803, -1.026168, 1.0], [51.441919, -1.026183, 1.0], [51.441967, -1.03356, 4.0], [51.442046, -1.033549, 5.0], [51.442983, -0.904044, 3.0], [51.443311, -0.956305, 2.0], [51.444047, -0.9469, 7.0], [51.444093, -0.956739, 1.0], [51.444187, -0.94754, 2.0], [51.44455, -0.987394, 3.0], [51.444694, -0.965216, 3.0], [51.444719, -1.022974, 4.0], [51.444951, -0.945085, 10.0], [51.445006, -1.012692, 1.0], [51.445343, -0.972293, 4.0], [51.44555, -0.985077, 3.0], [51.445691, -0.984726, 3.0], [51.44574, -0.986445, 17.0], [51.445961, -0.945876, 6.0], [51.44639, -0.936651, 4.0], [51.446404, -0.94442, 8.0], [51.446459, -0.946836, 6.0], [51.446792, -0.951469, 3.0], [51.446798, -0.951454, 8.0], [51.446939, -0.951713, 7.0], [51.446982, -1.047778, 4.0], [51.447573, -0.956025, 2.0], [51.447584, -0.933319, 5.0], [51.447734, -0.949346, 2.0], [51.447772, -0.949547, 4.0], [51.447783, -0.969275, 12.0], [51.447941, -0.999031, 16.0], [51.447985, -1.00227, 3.0], [51.44801, -0.975931, 9.0], [51.448226, -0.97808, 8.0], [51.448236, -0.978076, 8.0], [51.448236, -0.978064, 3.0], [51.448253, -0.978049, 25.0], [51.448409, -0.976068, 2.0], [51.448446, -0.948235, 3.0], [51.448476, -0.973433, 7.0], [51.448543, -0.947649, 11.0], [51.448637, -0.924293, 6.0], [51.448697, -0.921574, 2.0], [51.448859, -0.924444, 3.0], [51.449069, -0.947949, 4.0], [51.449267, -0.957641, 5.0], [51.449294, -0.957767, 1.0], [51.44949, -0.950416, 3.0], [51.449519, -0.971092, 14.0], [51.449616, -0.963063, 1.0], [51.449652, -0.962832, 1.0], [51.450266, -0.948781, 1.0], [51.450279, -0.9355, 1.0], [51.450286, -0.983631, 1.0], [51.450397, -0.971936, 4.0], [51.450499, -0.958118, 1.0], [51.45057, -0.961939, 4.0], [51.450628, -0.965646, 3.0], [51.450956, -0.955919, 3.0], [51.451005, -0.945561, 9.0], [51.4511, -0.994204, 24.0], [51.451127, -0.95442, 3.0], [51.451172, -0.9617, 5.0], [51.451176, -0.969202, 2.0], [51.451252, -0.969089, 8.0], [51.451301, -0.969046, 8.0], [51.45138, -0.980464, 4.0], [51.451631, -0.953287, 7.0], [51.451741, -0.957054, 5.0], [51.451767, -0.956089, 5.0], [51.451782, -0.967624, 2.0], [51.451784, -0.960131, 5.0], [51.451833, -0.905503, 3.0], [51.451996, -0.99039, 14.0], [51.452126, -0.963441, 50.0], [51.452158, -0.942279, 3.0], [51.452184, -0.999931, 6.0], [51.452386, -0.956881, 1.0], [51.452408, -0.956827, 7.0], [51.452573, -0.947299, 3.0], [51.452609, -0.931454, 3.0], [51.452656, -0.981184, 2.0], [51.452686, -0.979099, 5.0], [51.452949, -0.930618, 9.0], [51.452969, -0.951466, 1.0], [51.452997, -0.951873, 4.0], [51.453013, -0.95957, 19.0], [51.453061, -1.039104, 5.0], [51.453128, -0.951737, 2.0], [51.453191, -0.950337, 1.0], [51.453212, -0.958735, 12.0], [51.453493, -0.95558, 8.0], [51.453496, -0.967045, 8.0], [51.453668, -0.9615, 6.0], [51.453768, -0.960334, 3.0], [51.453816, -0.979895, 6.0], [51.453896, -0.960949, 16.0], [51.45394, -0.943132, 9.0], [51.454019, -0.96149, 4.0], [51.454021, -0.973754, 3.0], [51.454033, -0.895847, 6.0], [51.454068, -0.973819, 6.0], [51.454141, -0.94775, 3.0], [51.454164, -0.981424, 9.0], [51.45418, -0.981565, 7.0], [51.454197, -0.981215, 5.0], [51.454222, -0.963219, 1.0], [51.454239, -0.962887, 2.0], [51.454255, -0.990433, 19.0], [51.454659, -0.983998, 7.0], [51.45468, -0.966506, 6.0], [51.454694, -0.966529, 6.0], [51.45474, -0.96639, 6.0], [51.454784, -0.94229, 1.0], [51.454823, -0.974735, 6.0], [51.454944, -0.983685, 1.0], [51.454953, -0.975288, 1.0], [51.455033, -0.969628, 6.0], [51.455064, -0.969955, 4.0], [51.455094, -0.958201, 4.0], [51.455168, -0.969949, 7.0], [51.455172, -0.975358, 11.0], [51.455214, -0.977956, 14.0], [51.455228, -0.969244, 5.0], [51.455344, -0.96028, 7.0], [51.455438, -0.97818, 7.0], [51.455471, -0.960069, 8.0], [51.455477, -0.944905, 4.0], [51.455772, -0.967893, 3.0], [51.455781, -0.944899, 4.0], [51.455858, -0.958826, 4.0], [51.456009, -0.94621, 1.0], [51.456116, -0.979076, 14.0], [51.45616, -0.949811, 18.0], [51.456163, -0.978419, 5.0], [51.45617, -0.975951, 10.0], [51.456173, -0.978916, 17.0], [51.456227, -0.967396, 5.0], [51.456239, -0.986019, 1.0], [51.456252, -0.997097, 5.0], [51.456332, -0.999649, 6.0], [51.456827, -0.975741, 2.0], [51.456873, -0.972893, 3.0], [51.4576, -0.996298, 7.0], [51.457738, -0.954518, 3.0], [51.457779, -0.985111, 6.0], [51.457894, -0.971995, 3.0], [51.458022, -0.971564, 2.0], [51.45803, -0.972636, 4.0], [51.458364, -0.97148, 10.0], [51.458384, -0.973398, 8.0], [51.458857, -0.973247, 6.0], [51.458982, -0.996736, 36.0], [51.459481, -0.958791, 24.0], [51.45951, -0.958621, 8.0], [51.459531, -0.958537, 4.0], [51.459636, -0.973037, 2.0], [51.460101, -0.971758, 9.0], [51.460526, -1.010856, 4.0], [51.462048, -0.971878, 17.0], [51.462052, -0.971953, 5.0], [51.462388, -0.975366, 9.0], [51.462444, -0.904874, 1.0], [51.462822, -0.975389, 12.0], [51.463041, -0.961569, 4.0], [51.465377, -1.025065, 3.0], [51.465647, -0.956836, 12.0], [51.465862, -0.976109, 13.0], [51.466564, -0.976846, 1.0], [51.466853, -0.965494, 6.0], [51.468725, -0.971265, 9.0], [51.468913, -0.971335, 8.0], [51.472551, -0.989201, 13.0], [51.474013, -0.910955, 2.0], [51.474491, -0.984552, 3.0], [51.475374, -0.974179, 4.0], [51.477824, -0.965819, 4.0], [51.478006, -0.977758, 8.0], [51.479382, -0.963386, 5.0], [51.480383, -0.951733, 9.0], [51.482042, -0.969516, 3.0], [51.482129, -0.970127, 5.0]], [[51.406328, -0.952768, 4.0], [51.419255, -0.984392, 6.0], [51.420201, -0.970879, 4.0], [51.420771, -0.983734, 3.0], [51.421291, -0.970612, 2.0], [51.426026, -0.924714, 9.0], [51.426131, -0.996368, 1.0], [51.426551, -0.995586, 1.0], [51.42807, -0.943066, 1.0], [51.430362, -0.955958, 9.0], [51.43059, -0.977636, 4.0], [51.43288, -0.950162, 1.0], [51.433281, -0.948394, 7.0], [51.434648, -0.941536, 3.0], [51.435575, -0.975135, 1.0], [51.436542, -0.955962, 3.0], [51.439306, -0.967219, 8.0], [51.439326, -0.967155, 2.0], [51.440123, -0.9478, 4.0], [51.440291, -0.949896, 6.0], [51.44069, -0.964913, 3.0], [51.440924, -0.966062, 4.0], [51.441526, -0.947579, 3.0], [51.442128, -0.97679, 5.0], [51.44265, -0.956969, 1.0], [51.443558, -1.050806, 1.0], [51.444042, -0.946855, 1.0], [51.444438, -0.947484, 12.0], [51.44451, -0.945081, 1.0], [51.444629, -0.974548, 2.0], [51.444813, -0.945282, 3.0], [51.444823, -0.945261, 1.0], [51.444834, -0.945107, 9.0], [51.444984, -0.948233, 1.0], [51.445343, -0.972293, 1.0], [51.44574, -0.986445, 1.0], [51.445777, -0.936747, 7.0], [51.446655, -0.931043, 8.0], [51.446669, -0.946023, 1.0], [51.446825, -0.957954, 2.0], [51.446996, -0.967036, 4.0], [51.447134, -0.934623, 7.0], [51.447327, -0.954568, 2.0], [51.447411, -0.951966, 1.0], [51.447413, -0.934906, 3.0], [51.447639, -0.956091, 1.0], [51.448692, -0.951096, 2.0], [51.448974, -0.949859, 3.0], [51.448976, -0.946276, 11.0], [51.449001, -0.989679, 1.0], [51.44927, -0.971389, 4.0], [51.449619, -0.951317, 1.0], [51.449813, -0.963096, 1.0], [51.450234, -0.979441, 1.0], [51.450327, -0.94765, 4.0], [51.450551, -0.947651, 7.0], [51.450718, -0.951405, 1.0], [51.450942, -0.950218, 1.0], [51.45113, -0.953072, 3.0], [51.451391, -0.980468, 6.0], [51.451614, -0.969568, 1.0], [51.451722, -0.959497, 1.0], [51.452015, -0.958913, 5.0], [51.452094, -0.960477, 4.0], [51.452969, -0.951466, 3.0], [51.453493, -0.95558, 9.0], [51.45367, -0.959006, 3.0], [51.453747, -0.960342, 8.0], [51.453768, -0.960334, 14.0], [51.454062, -0.947837, 7.0], [51.454382, -0.943681, 3.0], [51.454694, -0.966529, 1.0], [51.454776, -0.964513, 3.0], [51.454776, -0.963205, 1.0], [51.454996, -0.969047, 4.0], [51.455313, -0.958783, 7.0], [51.455471, -0.960069, 1.0], [51.45574, -0.990648, 3.0], [51.455958, -0.982268, 2.0], [51.456173, -0.978916, 3.0], [51.456593, -0.970535, 1.0], [51.456616, -0.983577, 1.0], [51.456706, -0.95586, 4.0], [51.456707, -0.974006, 3.0], [51.457948, -0.972046, 3.0], [51.457974, -0.996265, 3.0], [51.457994, -0.972447, 3.0], [51.458982, -0.996736, 18.0], [51.45951, -0.958621, 1.0], [51.45962, -0.901371, 2.0], [51.459783, -0.972089, 9.0], [51.462583, -0.976264, 9.0], [51.463987, -0.977044, 2.0], [51.465286, -0.971851, 9.0], [51.466281, -0.954572, 2.0], [51.466583, -0.967009, 2.0], [51.466968, -0.970807, 1.0], [51.468122, -0.970779, 9.0], [51.468983, -1.0045, 1.0], [51.469121, -1.00734, 1.0], [51.4692, -1.007289, 1.0], [51.475796, -0.961917, 1.0], [51.477874, -0.965241, 6.0], [51.479897, -0.947803, 2.0]], [[51.414974, -0.974737, 4.0], [51.417623, -0.978448, 5.0], [51.419916, -0.95884, 1.0], [51.421025, -0.956709, 3.0], [51.422085, -0.929924, 2.0], [51.423228, -0.964524, 4.0], [51.423658, -0.980868, 4.0], [51.42391, -0.965251, 8.0], [51.424796, -0.932819, 3.0], [51.425118, -0.997427, 3.0], [51.425965, -0.947645, 6.0], [51.426026, -0.924714, 4.0], [51.42611, -0.934003, 4.0], [51.429457, -0.974997, 3.0], [51.431981, -0.973629, 3.0], [51.43674, -0.891092, 1.0], [51.436857, -0.973018, 3.0], [51.437714, -0.95228, 16.0], [51.439388, -0.958255, 1.0], [51.43965, -1.008336, 8.0], [51.439731, -0.956251, 5.0], [51.440043, -0.956537, 4.0], [51.440254, -0.951866, 8.0], [51.440396, -0.95411, 1.0], [51.44069, -0.964913, 3.0], [51.44115, -0.946918, 1.0], [51.441555, -0.9531, 4.0], [51.442625, -1.006585, 5.0], [51.442804, -0.955673, 3.0], [51.444165, -0.947681, 3.0], [51.444334, -0.947527, 6.0], [51.444348, -1.050391, 1.0], [51.444574, -0.945971, 1.0], [51.444643, -0.948907, 3.0], [51.445014, -0.965473, 9.0], [51.445029, -0.949836, 8.0], [51.44505, -0.944763, 1.0], [51.445111, -0.944829, 7.0], [51.446036, -0.891935, 3.0], [51.446243, -0.950926, 3.0], [51.446377, -0.94441, 2.0], [51.446547, -0.965027, 1.0], [51.447325, -0.949044, 2.0], [51.447616, -0.94948, 1.0], [51.447999, -0.963839, 3.0], [51.448548, -0.947573, 7.0], [51.448643, -0.984395, 4.0], [51.44867, -0.988553, 5.0], [51.449187, -0.948406, 5.0], [51.449191, -0.951217, 1.0], [51.449584, -1.057424, 1.0], [51.449616, -0.963063, 1.0], [51.449636, -0.971903, 1.0], [51.450052, -0.949991, 5.0], [51.450154, -0.936093, 8.0], [51.450234, -0.979441, 4.0], [51.450408, -0.9476, 2.0], [51.450438, -0.935091, 2.0], [51.450449, -0.949935, 17.0], [51.450942, -0.950218, 4.0], [51.450948, -0.922195, 4.0], [51.45097, -0.95432, 4.0], [51.451028, -0.922187, 1.0], [51.451038, -0.923289, 1.0], [51.451063, -0.96228, 9.0], [51.451071, -0.922146, 3.0], [51.451076, -0.94239, 3.0], [51.451646, -0.991158, 8.0], [51.451649, -0.980247, 5.0], [51.451689, -0.969582, 4.0], [51.451732, -0.956437, 4.0], [51.451858, -0.943846, 5.0], [51.451972, -0.968263, 6.0], [51.452077, -0.973129, 3.0], [51.452949, -0.930618, 4.0], [51.453013, -0.95957, 6.0], [51.453422, -0.966698, 3.0], [51.453486, -0.956042, 1.0], [51.453493, -0.95558, 1.0], [51.453594, -0.958257, 9.0], [51.453667, -1.000024, 1.0], [51.454019, -0.96149, 5.0], [51.454149, -0.963184, 4.0], [51.454487, -0.976134, 1.0], [51.4545, -0.987849, 3.0], [51.454575, -0.97823, 3.0], [51.454726, -0.966405, 2.0], [51.454784, -0.94229, 8.0], [51.455088, -0.97508, 3.0], [51.455154, -0.994471, 8.0], [51.455485, -0.976553, 3.0], [51.455544, -0.96952, 3.0], [51.455658, -0.977212, 1.0], [51.455738, -0.970928, 1.0], [51.456071, -0.979218, 3.0], [51.45616, -0.949811, 1.0], [51.456408, -0.999765, 7.0], [51.456525, -0.98509, 5.0], [51.456547, -0.985075, 7.0], [51.456616, -0.983577, 3.0], [51.456667, -0.994624, 2.0], [51.456721, -0.992074, 13.0], [51.45676, -0.971249, 7.0], [51.457899, -0.970932, 7.0], [51.45818, -0.974738, 1.0], [51.458384, -0.973398, 5.0], [51.458563, -1.002824, 5.0], [51.459481, -0.958791, 13.0], [51.45951, -0.958621, 3.0], [51.459744, -0.958841, 3.0], [51.46421, -0.978358, 1.0], [51.465006, -0.971709, 3.0], [51.46505, -0.984593, 10.0], [51.465181, -0.978132, 4.0], [51.467624, -0.963236, 2.0], [51.468003, -0.967055, 8.0], [51.468503, -0.975828, 1.0], [51.46865, -0.971198, 8.0], [51.468725, -0.971265, 7.0], [51.471804, -0.964947, 1.0], [51.478738, -0.933205, 8.0], [51.479559, -0.950329, 1.0]], [[51.400069, -0.968292, 4.0], [51.402661, -0.964361, 9.0], [51.416001, -0.97387, 3.0], [51.417096, -0.94999, 3.0], [51.417553, -0.974128, 1.0], [51.417924, -0.948567, 2.0], [51.420651, -0.983834, 8.0], [51.422175, -0.961953, 9.0], [51.422911, -0.964659, 1.0], [51.422917, -0.96466, 5.0], [51.423228, -0.964524, 3.0], [51.424123, -0.980498, 3.0], [51.425056, -0.91561, 2.0], [51.425402, -0.943246, 1.0], [51.425929, -0.984941, 3.0], [51.426098, -0.967028, 15.0], [51.426565, -0.943285, 1.0], [51.426706, -0.947762, 2.0], [51.427545, -0.992739, 6.0], [51.427548, -0.99263, 5.0], [51.429015, -0.976619, 4.0], [51.430426, -0.976878, 9.0], [51.431981, -0.973629, 1.0], [51.432557, -0.962546, 1.0], [51.432781, -0.914695, 3.0], [51.436378, -0.924305, 1.0], [51.436812, -0.951741, 5.0], [51.437457, -1.06635, 1.0], [51.437459, -0.941612, 3.0], [51.437714, -0.95228, 3.0], [51.439652, -0.966296, 6.0], [51.439731, -0.956251, 5.0], [51.439779, -0.946358, 3.0], [51.441141, -0.94606, 15.0], [51.441296, -0.964478, 1.0], [51.441893, -0.992317, 5.0], [51.442222, -0.947802, 1.0], [51.442484, -1.043021, 1.0], [51.442734, -0.955457, 2.0], [51.443332, -1.000625, 9.0], [51.443524, -0.966775, 1.0], [51.44387, -0.944482, 5.0], [51.443916, -0.947653, 4.0], [51.444017, -0.947733, 3.0], [51.444268, -0.908695, 3.0], [51.444771, -0.952061, 16.0], [51.445155, -0.950303, 13.0], [51.445171, -0.971584, 1.0], [51.445187, -0.95182, 7.0], [51.445241, -0.948051, 6.0], [51.445777, -0.936747, 6.0], [51.446619, -0.98556, 1.0], [51.446804, -0.951452, 8.0], [51.446834, -0.933755, 3.0], [51.446852, -0.95015, 4.0], [51.446939, -0.951713, 8.0], [51.446991, -0.97594, 8.0], [51.447418, -0.949088, 3.0], [51.44745, -0.94914, 3.0], [51.447485, -0.933473, 1.0], [51.447605, -0.953185, 8.0], [51.447953, -0.949358, 2.0], [51.448948, -0.991929, 3.0], [51.448976, -0.946276, 2.0], [51.448991, -0.935261, 3.0], [51.449024, -0.948725, 8.0], [51.449105, -0.959138, 1.0], [51.449294, -0.957767, 1.0], [51.449575, -0.950018, 4.0], [51.449588, -0.950751, 2.0], [51.449741, -0.936135, 4.0], [51.449773, -0.950932, 7.0], [51.449885, -0.9776, 10.0], [51.449891, -0.950636, 17.0], [51.449918, -0.962942, 3.0], [51.449927, -0.962952, 5.0], [51.449947, -0.962915, 9.0], [51.450107, -0.948694, 1.0], [51.450385, -0.995178, 4.0], [51.450441, -0.949154, 3.0], [51.450452, -0.9491, 2.0], [51.450484, -0.967516, 7.0], [51.450773, -0.950066, 4.0], [51.450875, -0.951194, 6.0], [51.451019, -0.922227, 1.0], [51.45104, -0.922113, 1.0], [51.451055, -0.921964, 1.0], [51.451076, -0.94239, 13.0], [51.451666, -0.959888, 15.0], [51.451668, -0.969879, 9.0], [51.451689, -0.969582, 2.0], [51.451689, -0.951583, 3.0], [51.452818, -0.968206, 3.0], [51.452931, -1.002048, 4.0], [51.453594, -0.958257, 1.0], [51.453748, -0.974399, 9.0], [51.453919, -0.973348, 7.0], [51.453935, -0.973369, 1.0], [51.45407, -0.945492, 13.0], [51.454271, -0.944771, 10.0], [51.454334, -0.94631, 5.0], [51.454756, -0.964058, 2.0], [51.455102, -0.968949, 11.0], [51.455172, -0.975358, 4.0], [51.455174, -0.961563, 5.0], [51.455186, -0.971642, 1.0], [51.455224, -0.977672, 7.0], [51.45539, -0.942874, 12.0], [51.455432, -0.959827, 5.0], [51.455485, -0.976553, 1.0], [51.455502, -0.978202, 3.0], [51.455544, -0.96952, 7.0], [51.455781, -0.944899, 7.0], [51.45616, -0.949811, 7.0], [51.456173, -0.978916, 1.0], [51.456308, -0.997644, 9.0], [51.456408, -0.999765, 3.0], [51.456441, -0.95883, 1.0], [51.456621, -1.040772, 3.0], [51.456692, -1.001195, 12.0], [51.456753, -0.971672, 9.0], [51.456762, -0.975529, 4.0], [51.456792, -0.971343, 1.0], [51.456873, -0.972893, 7.0], [51.457166, -0.972116, 1.0], [51.457385, -0.96955, 6.0], [51.457712, -0.972165, 1.0], [51.457846, -0.975372, 2.0], [51.458364, -0.97148, 2.0], [51.458671, -0.973763, 14.0], [51.459724, -0.955982, 6.0], [51.460027, -0.971872, 4.0], [51.461439, -0.974867, 1.0], [51.463114, -0.975589, 3.0], [51.46447, -0.9624, 1.0], [51.46619, -0.91739, 6.0], [51.466675, -0.91735, 4.0], [51.46711, -1.047466, 4.0], [51.469946, -0.973387, 4.0], [51.471004, -0.98671, 4.0], [51.47254, -0.976009, 7.0], [51.474896, -0.945246, 6.0], [51.475989, -0.987012, 8.0], [51.479559, -0.950329, 4.0], [51.481711, -0.974722, 3.0], [51.48226, -0.973062, 1.0]], [[51.405075, -0.980834, 4.0], [51.416204, -0.973959, 1.0], [51.418169, -0.974714, 6.0], [51.419023, -0.975078, 3.0], [51.41923, -0.972964, 4.0], [51.41956, -0.973307, 6.0], [51.419791, -0.973511, 5.0], [51.424745, -0.989188, 2.0], [51.425375, -0.984325, 1.0], [51.429617, -0.975318, 6.0], [51.43042, -0.977447, 5.0], [51.430482, -0.976922, 1.0], [51.430583, -0.876605, 1.0], [51.43059, -0.977636, 3.0], [51.430601, -0.944244, 1.0], [51.431386, -0.962653, 5.0], [51.431477, -0.970975, 3.0], [51.431526, -0.971153, 2.0], [51.431738, -0.982628, 8.0], [51.431967, -0.968044, 9.0], [51.432557, -0.962546, 22.0], [51.432574, -0.97669, 1.0], [51.432665, -0.975918, 3.0], [51.43431, -0.969819, 2.0], [51.436203, -0.974581, 1.0], [51.436378, -0.924305, 11.0], [51.437595, -0.955561, 4.0], [51.438032, -0.964719, 2.0], [51.439209, -0.951239, 2.0], [51.439546, -0.955958, 1.0], [51.440331, -1.029936, 1.0], [51.440784, -0.934811, 1.0], [51.440849, -0.947873, 7.0], [51.440865, -0.931932, 3.0], [51.44087, -0.946387, 6.0], [51.440887, -0.943348, 6.0], [51.440924, -0.966062, 3.0], [51.441377, -0.945927, 7.0], [51.441893, -0.992317, 3.0], [51.441968, -1.011571, 6.0], [51.44201, -0.946492, 7.0], [51.442028, -0.946267, 5.0], [51.44296, -0.961645, 1.0], [51.442964, -0.955382, 3.0], [51.442977, -0.955454, 5.0], [51.443112, -0.961747, 1.0], [51.443471, -1.01845, 1.0], [51.444015, -0.961157, 3.0], [51.444191, -0.946968, 3.0], [51.444288, -0.947578, 1.0], [51.444305, -0.947175, 3.0], [51.444335, -0.946989, 4.0], [51.44474, -0.94206, 3.0], [51.44483, -1.012598, 9.0], [51.444832, -0.944292, 9.0], [51.444863, -0.951944, 4.0], [51.444883, -0.951162, 1.0], [51.444892, -0.944949, 8.0], [51.444943, -0.944801, 3.0], [51.445004, -0.9449, 2.0], [51.445171, -0.971584, 10.0], [51.445296, -0.944199, 5.0], [51.445344, -0.944384, 5.0], [51.445649, -0.960123, 1.0], [51.446178, -0.971839, 9.0], [51.446459, -0.946836, 1.0], [51.446694, -0.947681, 6.0], [51.446974, -0.945944, 3.0], [51.447104, -0.97158, 7.0], [51.447315, -0.985736, 4.0], [51.447946, -0.946734, 7.0], [51.448524, -0.948214, 7.0], [51.448778, -0.935823, 9.0], [51.448852, -0.964101, 5.0], [51.448925, -0.946496, 5.0], [51.448976, -0.946276, 1.0], [51.449098, -1.000718, 7.0], [51.449132, -0.948285, 4.0], [51.449337, -0.962741, 10.0], [51.449424, -0.973524, 6.0], [51.449431, -0.936498, 11.0], [51.449458, -0.956998, 9.0], [51.449561, -0.986214, 8.0], [51.449588, -0.950751, 3.0], [51.449616, -0.963063, 10.0], [51.449632, -0.95002, 2.0], [51.449643, -0.991293, 15.0], [51.450075, -0.946378, 9.0], [51.450131, -0.969343, 7.0], [51.450234, -0.995176, 2.0], [51.450311, -0.995389, 12.0], [51.45032, -0.995193, 11.0], [51.45037, -0.99513, 7.0], [51.450441, -0.949154, 5.0], [51.450778, -0.95006, 2.0], [51.451371, -1.027442, 5.0], [51.451474, -0.994785, 4.0], [51.451502, -0.938569, 4.0], [51.451614, -0.969568, 5.0], [51.451658, -0.950606, 1.0], [51.4517, -0.956246, 1.0], [51.451732, -0.956437, 2.0], [51.451737, -0.969525, 10.0], [51.45175, -0.954629, 2.0], [51.451803, -0.968576, 6.0], [51.451936, -0.973881, 3.0], [51.451964, -0.993432, 6.0], [51.452038, -0.960419, 4.0], [51.452047, -0.960404, 10.0], [51.452102, -0.97201, 5.0], [51.452206, -0.953204, 3.0], [51.452272, -0.95321, 9.0], [51.452424, -0.968029, 3.0], [51.452523, -0.97275, 7.0], [51.452538, -0.972446, 10.0], [51.452558, -0.972679, 1.0], [51.453013, -0.95957, 18.0], [51.453174, -0.966977, 9.0], [51.453235, -0.946822, 1.0], [51.453326, -0.955813, 3.0], [51.453392, -0.956095, 6.0], [51.453432, -0.956232, 4.0], [51.453561, -0.955672, 2.0], [51.453577, -0.905878, 1.0], [51.453593, -0.974333, 6.0], [51.453594, -0.958257, 6.0], [51.453929, -0.959845, 4.0], [51.454066, -0.95727, 2.0], [51.454176, -0.96325, 3.0], [51.454195, -0.963172, 6.0], [51.454208, -0.963098, 1.0], [51.454341, -0.889486, 1.0], [51.454575, -0.97823, 1.0], [51.454738, -0.977773, 8.0], [51.454744, -0.944809, 2.0], [51.454776, -0.963205, 5.0], [51.454823, -0.974735, 4.0], [51.454831, -0.976073, 8.0], [51.45486, -0.963221, 1.0], [51.454907, -0.978128, 4.0], [51.454987, -0.963292, 2.0], [51.455072, -0.975627, 9.0], [51.455172, -0.975358, 6.0], [51.455214, -0.977956, 4.0], [51.455234, -0.968857, 8.0], [51.455313, -0.958783, 6.0], [51.455466, -1.016252, 3.0], [51.455483, -0.941663, 3.0], [51.455485, -0.969297, 4.0], [51.455549, -0.979874, 12.0], [51.455567, -0.969346, 2.0], [51.455628, -0.989659, 3.0], [51.455798, -0.969255, 4.0], [51.456061, -0.979283, 6.0], [51.45616, -0.949811, 5.0], [51.456173, -0.978916, 15.0], [51.456185, -0.978694, 4.0], [51.456322, -0.979286, 1.0], [51.456371, -0.993167, 3.0], [51.456408, -0.999765, 13.0], [51.456413, -0.966382, 2.0], [51.456537, -0.976396, 4.0], [51.456754, -0.971907, 5.0], [51.456762, -0.975529, 5.0], [51.456795, -0.971754, 4.0], [51.45691, -0.975611, 2.0], [51.457424, -0.978261, 11.0], [51.457693, -0.972926, 1.0], [51.457846, -0.975372, 3.0], [51.457894, -0.971995, 8.0], [51.457948, -0.972046, 12.0], [51.458022, -0.971565, 5.0], [51.458125, -0.97177, 5.0], [51.458162, -0.972153, 7.0], [51.458274, -1.001709, 28.0], [51.458307, -0.972199, 4.0], [51.458364, -0.97148, 13.0], [51.458384, -0.973398, 7.0], [51.458671, -0.973763, 6.0], [51.459108, -0.976266, 1.0], [51.459338, -0.995791, 7.0], [51.459409, -0.973169, 6.0], [51.459481, -0.958791, 9.0], [51.459531, -0.958537, 14.0], [51.459935, -0.970557, 6.0], [51.460114, -0.971537, 2.0], [51.460476, -0.96886, 6.0], [51.460484, -0.993255, 5.0], [51.460544, -1.054671, 7.0], [51.460936, -0.935552, 5.0], [51.461057, -0.975847, 9.0], [51.4629, -0.961819, 3.0], [51.463253, -1.018962, 4.0], [51.463477, -0.979216, 6.0], [51.464755, -0.965931, 7.0], [51.465887, -0.974158, 36.0], [51.468725, -0.971265, 5.0], [51.470009, -0.977482, 9.0], [51.479045, -0.987998, 4.0]], [[51.417134, -0.977752, 1.0], [51.417135, -0.977723, 1.0], [51.417212, -0.977725, 4.0], [51.417407, -0.97759, 1.0], [51.418479, -0.987278, 1.0], [51.420983, -0.968179, 1.0], [51.42236, -0.980155, 12.0], [51.423547, -0.983673, 1.0], [51.424588, -0.984153, 7.0], [51.425375, -0.984325, 5.0], [51.425965, -0.947645, 5.0], [51.426026, -0.924714, 5.0], [51.426232, -0.970959, 5.0], [51.429002, -0.976616, 4.0], [51.429225, -0.976708, 4.0], [51.432147, -0.976913, 4.0], [51.433426, -0.986113, 1.0], [51.434546, -0.970689, 7.0], [51.435484, -0.892717, 4.0], [51.435575, -0.975135, 2.0], [51.43623, -0.92429, 3.0], [51.436341, -0.924138, 1.0], [51.436378, -0.924305, 5.0], [51.4382, -0.954148, 13.0], [51.438507, -0.959715, 1.0], [51.43922, -0.936427, 10.0], [51.439433, -0.96064, 2.0], [51.439546, -0.955958, 1.0], [51.440329, -1.052856, 1.0], [51.440364, -0.918043, 4.0], [51.440401, -1.006538, 17.0], [51.441809, -1.061134, 1.0], [51.442803, -0.966953, 6.0], [51.442815, -0.966768, 7.0], [51.443124, -0.932466, 1.0], [51.443142, -0.963063, 1.0], [51.443452, -0.968705, 8.0], [51.443983, -0.961098, 2.0], [51.444076, -0.947696, 3.0], [51.444147, -0.894507, 4.0], [51.444165, -0.947681, 8.0], [51.444499, -1.024745, 3.0], [51.444624, -0.974464, 3.0], [51.44474, -0.94206, 1.0], [51.444863, -0.951944, 9.0], [51.445076, -0.95002, 9.0], [51.44519, -0.950022, 4.0], [51.445296, -0.944199, 5.0], [51.445343, -0.972293, 1.0], [51.445435, -0.998634, 5.0], [51.445521, -0.959653, 9.0], [51.445563, -0.94866, 4.0], [51.445579, -0.957258, 1.0], [51.44575, -0.935676, 6.0], [51.446287, -0.945379, 6.0], [51.446408, -0.971462, 12.0], [51.446663, -0.931219, 5.0], [51.446869, -0.960288, 2.0], [51.447382, -0.963665, 2.0], [51.448113, -0.939561, 9.0], [51.448231, -0.949387, 2.0], [51.448345, -0.976976, 1.0], [51.448696, -0.977026, 2.0], [51.448794, -0.963669, 3.0], [51.448969, -0.934088, 1.0], [51.449004, -0.934433, 1.0], [51.449069, -0.947949, 9.0], [51.449133, -0.959541, 6.0], [51.449253, -1.047136, 6.0], [51.449261, -1.04709, 2.0], [51.449458, -0.956998, 14.0], [51.44949, -0.950416, 7.0], [51.449587, -0.948642, 1.0], [51.449599, -0.939167, 3.0], [51.4497, -0.957109, 4.0], [51.4498, -0.934934, 2.0], [51.450031, -0.970109, 4.0], [51.450146, -0.934191, 3.0], [51.450286, -0.983631, 6.0], [51.450397, -0.967783, 1.0], [51.450451, -0.985798, 7.0], [51.450499, -0.967531, 4.0], [51.450536, -0.951395, 2.0], [51.450584, -0.963798, 8.0], [51.450598, -0.963938, 4.0], [51.450815, -0.965591, 4.0], [51.451689, -0.969582, 5.0], [51.452146, -0.952975, 9.0], [51.452151, -0.966538, 4.0], [51.452408, -0.968193, 2.0], [51.452708, -0.954741, 2.0], [51.452818, -0.97271, 1.0], [51.453284, -0.954889, 11.0], [51.453329, -0.981284, 4.0], [51.453483, -0.9562, 3.0], [51.453493, -0.95558, 4.0], [51.453515, -0.969206, 4.0], [51.453887, -0.968731, 3.0], [51.454077, -0.942446, 7.0], [51.45413, -0.942599, 3.0], [51.454134, -0.942607, 6.0], [51.454218, -0.960788, 3.0], [51.454231, -1.05036, 2.0], [51.45436, -0.974287, 4.0], [51.454823, -0.974736, 1.0], [51.454887, -0.967696, 6.0], [51.454905, -0.96776, 4.0], [51.454907, -0.978128, 9.0], [51.454987, -0.963292, 3.0], [51.455052, -0.969094, 7.0], [51.455174, -0.961563, 1.0], [51.455326, -0.975163, 7.0], [51.455378, -0.976387, 8.0], [51.455413, -0.975312, 2.0], [51.455489, -0.97648, 3.0], [51.455502, -0.978202, 4.0], [51.455657, -0.950498, 1.0], [51.455673, -0.975312, 7.0], [51.455736, -0.975543, 7.0], [51.455827, -0.991057, 3.0], [51.455964, -0.958494, 8.0], [51.456173, -0.978916, 3.0], [51.45619, -0.983234, 2.0], [51.45623, -0.976013, 3.0], [51.45625, -0.976047, 5.0], [51.456365, -0.944142, 7.0], [51.456385, -0.944189, 1.0], [51.456527, -0.976342, 16.0], [51.456537, -0.976396, 5.0], [51.456547, -0.985075, 9.0], [51.456611, -0.995237, 1.0], [51.456716, -0.970328, 14.0], [51.45683, -0.971735, 5.0], [51.456873, -0.972893, 1.0], [51.458086, -0.971305, 9.0], [51.458636, -0.974003, 3.0], [51.458671, -0.973763, 1.0], [51.459129, -0.942398, 6.0], [51.459496, -0.966769, 6.0], [51.459679, -0.95592, 9.0], [51.459888, -0.971443, 3.0], [51.460023, -0.965481, 1.0], [51.460111, -0.971711, 7.0], [51.46046, -0.990263, 14.0], [51.4611, -0.974918, 3.0], [51.463005, -0.924755, 4.0], [51.46442, -0.96158, 1.0], [51.466036, -0.958172, 8.0], [51.466596, -0.970132, 9.0], [51.466797, -0.950806, 1.0], [51.467211, -0.955144, 3.0], [51.468379, -0.967901, 11.0], [51.468651, -0.971275, 7.0], [51.469437, -0.97035, 3.0], [51.47023, -0.917105, 1.0], [51.470664, -0.987042, 5.0], [51.471714, -0.982604, 3.0], [51.477417, -0.992991, 6.0], [51.47766, -0.991699, 1.0], [51.482327, -1.049098, 1.0]], [[51.420224, -0.989788, 1.0], [51.420444, -0.953814, 8.0], [51.423399, -0.917694, 8.0], [51.423735, -1.007035, 1.0], [51.423891, -0.952417, 6.0], [51.423936, -0.933822, 2.0], [51.425917, -0.993837, 3.0], [51.42627, -0.915486, 5.0], [51.426741, -0.987332, 5.0], [51.429015, -0.976619, 4.0], [51.43059, -0.977636, 4.0], [51.431071, -0.977197, 8.0], [51.431179, -1.022248, 1.0], [51.431294, -0.958844, 9.0], [51.43172, -0.969204, 8.0], [51.432528, -0.95343, 11.0], [51.434007, -0.970402, 3.0], [51.435582, -0.955174, 6.0], [51.436437, -0.926124, 7.0], [51.436462, -0.926236, 4.0], [51.436476, -0.92626, 6.0], [51.436831, -0.891112, 3.0], [51.437117, -0.890603, 4.0], [51.437682, -0.966276, 1.0], [51.438892, -0.943004, 6.0], [51.438925, -0.962532, 1.0], [51.439068, -0.914075, 5.0], [51.439393, -0.936586, 8.0], [51.439433, -0.96064, 3.0], [51.439452, -0.934886, 7.0], [51.439852, -0.916708, 3.0], [51.440031, -0.943784, 1.0], [51.440099, -0.950137, 6.0], [51.440223, -0.948912, 8.0], [51.440551, -0.947964, 3.0], [51.440698, -0.964947, 6.0], [51.440735, -0.932062, 2.0], [51.440881, -0.924033, 7.0], [51.441104, -0.967481, 7.0], [51.441209, -0.967449, 1.0], [51.441268, -0.955343, 9.0], [51.441401, -0.944338, 1.0], [51.441767, -0.946085, 2.0], [51.441893, -0.947229, 1.0], [51.441908, -0.947313, 3.0], [51.44201, -0.946492, 1.0], [51.442028, -0.946267, 1.0], [51.442139, -0.94724, 4.0], [51.442255, -1.004296, 16.0], [51.442413, -0.95603, 1.0], [51.44263, -0.957362, 4.0], [51.442813, -0.966496, 1.0], [51.442834, -0.956468, 6.0], [51.443089, -0.954756, 6.0], [51.443163, -0.972316, 7.0], [51.44386, -0.945125, 7.0], [51.44387, -0.944482, 9.0], [51.444047, -0.9469, 14.0], [51.444182, -0.947416, 4.0], [51.444305, -0.978024, 4.0], [51.444335, -0.946989, 6.0], [51.444399, -0.94354, 1.0], [51.44451, -0.945081, 3.0], [51.444594, -0.937797, 3.0], [51.444643, -0.948907, 29.0], [51.444702, -0.955652, 7.0], [51.444745, -0.946869, 4.0], [51.444808, -0.945094, 7.0], [51.444823, -0.945338, 9.0], [51.444823, -0.945261, 4.0], [51.445155, -0.950303, 7.0], [51.445189, -0.950019, 3.0], [51.445249, -0.955525, 9.0], [51.44533, -0.949744, 5.0], [51.445429, -1.036006, 3.0], [51.445438, -0.959385, 7.0], [51.445623, -0.949843, 1.0], [51.44563, -0.949624, 1.0], [51.44566, -1.033644, 2.0], [51.44571, -0.961323, 2.0], [51.44574, -0.986445, 3.0], [51.445777, -0.936747, 9.0], [51.446408, -0.971462, 10.0], [51.446768, -0.942098, 22.0], [51.446798, -0.933288, 1.0], [51.447065, -0.93467, 8.0], [51.447215, -0.980656, 5.0], [51.447218, -0.954506, 8.0], [51.447315, -0.949318, 1.0], [51.447454, -0.931751, 6.0], [51.447623, -0.949556, 13.0], [51.447696, -0.950631, 5.0], [51.447713, -0.950308, 8.0], [51.447714, -0.950448, 13.0], [51.447935, -0.946715, 4.0], [51.447946, -0.946734, 16.0], [51.448013, -0.950934, 7.0], [51.44803, -0.94545, 2.0], [51.448078, -0.950906, 7.0], [51.448096, -0.950759, 2.0], [51.44814, -0.949766, 6.0], [51.448165, -0.951031, 5.0], [51.448248, -0.950448, 5.0], [51.448456, -0.945592, 7.0], [51.448463, -0.956924, 4.0], [51.448553, -0.934973, 6.0], [51.448565, -0.951663, 8.0], [51.448603, -0.934745, 1.0], [51.448642, -0.947076, 5.0], [51.448785, -0.934812, 2.0], [51.448808, -0.964157, 3.0], [51.448842, -0.96426, 3.0], [51.448931, -0.950913, 7.0], [51.449111, -0.951289, 5.0], [51.449211, -0.951278, 5.0], [51.449283, -0.957213, 5.0], [51.449315, -0.959501, 7.0], [51.449337, -0.962741, 18.0], [51.449338, -0.959565, 4.0], [51.449371, -0.957, 3.0], [51.449485, -0.950112, 2.0], [51.449518, -0.966615, 8.0], [51.449545, -0.959961, 2.0], [51.449547, -0.956988, 8.0], [51.449547, -0.947501, 7.0], [51.449635, -0.936597, 1.0], [51.449778, -0.950032, 7.0], [51.449793, -0.949499, 4.0], [51.449928, -0.923285, 5.0], [51.450019, -0.934287, 7.0], [51.450031, -0.970109, 2.0], [51.450037, -0.934129, 2.0], [51.450378, -0.947955, 8.0], [51.450546, -0.951391, 6.0], [51.450555, -0.95139, 3.0], [51.450666, -0.984496, 3.0], [51.450897, -0.95053, 7.0], [51.45097, -0.95432, 7.0], [51.451058, -0.922117, 4.0], [51.451058, -0.922114, 4.0], [51.451061, -0.950526, 2.0], [51.451086, -1.036797, 3.0], [51.451094, -0.947116, 2.0], [51.45113, -0.953072, 2.0], [51.451156, -0.943795, 3.0], [51.451201, -0.948443, 2.0], [51.451444, -0.951458, 7.0], [51.451534, -0.98495, 9.0], [51.451644, -0.959477, 6.0], [51.451689, -0.969582, 13.0], [51.451794, -0.943639, 4.0], [51.451831, -0.943601, 5.0], [51.45195, -0.914366, 9.0], [51.451992, -0.916532, 11.0], [51.452015, -0.944528, 4.0], [51.45203, -0.952487, 8.0], [51.452085, -0.952387, 2.0], [51.452103, -0.911017, 6.0], [51.452128, -0.952666, 6.0], [51.452131, -0.98328, 6.0], [51.452138, -0.952516, 4.0], [51.452146, -0.952975, 7.0], [51.452151, -0.966538, 2.0], [51.452156, -0.952595, 1.0], [51.452212, -0.952595, 4.0], [51.452222, -0.952773, 1.0], [51.452245, -0.952985, 4.0], [51.452254, -0.952657, 1.0], [51.452278, -0.953066, 7.0], [51.452565, -0.905521, 6.0], [51.452598, -0.968141, 4.0], [51.452657, -0.982955, 5.0], [51.452723, -0.982959, 3.0], [51.452813, -0.973434, 7.0], [51.452969, -0.983101, 3.0], [51.453003, -0.958971, 8.0], [51.453236, -0.966745, 5.0], [51.453249, -0.954505, 4.0], [51.453493, -0.95558, 9.0], [51.453568, -0.956052, 1.0], [51.453725, -0.968391, 6.0], [51.453767, -0.968669, 2.0], [51.453887, -0.968731, 9.0], [51.454122, -0.942619, 7.0], [51.454271, -0.944771, 9.0], [51.45428, -0.949276, 7.0], [51.454334, -0.94631, 7.0], [51.45436, -0.974287, 3.0], [51.454382, -0.943681, 8.0], [51.454575, -0.97823, 7.0], [51.45478, -0.889558, 4.0], [51.454786, -0.966518, 7.0], [51.454907, -0.978128, 7.0], [51.454912, -0.968429, 6.0], [51.45494, -0.964021, 6.0], [51.454985, -0.97025, 7.0], [51.455033, -0.969628, 7.0], [51.455044, -0.940938, 6.0], [51.455127, -0.970236, 4.0], [51.455152, -0.970124, 6.0], [51.45524, -0.9771, 9.0], [51.45539, -0.942874, 4.0], [51.45545, -0.960031, 5.0], [51.455465, -0.970261, 1.0], [51.455549, -0.979874, 4.0], [51.455578, -0.966534, 10.0], [51.45568, -0.974332, 3.0], [51.455758, -0.970883, 2.0], [51.455772, -0.967893, 2.0], [51.455796, -0.979218, 10.0], [51.455983, -0.969409, 1.0], [51.456173, -0.978916, 7.0], [51.456278, -0.95734, 15.0], [51.456295, -0.958643, 4.0], [51.456383, -0.993929, 6.0], [51.456386, -0.967479, 8.0], [51.456427, -0.958747, 5.0], [51.456677, -0.972761, 7.0], [51.456704, -0.974985, 3.0], [51.456716, -0.970328, 7.0], [51.456771, -0.970763, 18.0], [51.456795, -0.971754, 2.0], [51.456812, -0.970198, 3.0], [51.457321, -0.96075, 7.0], [51.45745, -0.93366, 9.0], [51.457894, -0.971995, 6.0], [51.457899, -0.970932, 3.0], [51.457949, -0.971634, 5.0], [51.45803, -0.972636, 7.0], [51.458124, -0.972354, 9.0], [51.458165, -0.972142, 4.0], [51.458364, -0.97148, 4.0], [51.458479, -0.972569, 5.0], [51.458555, -0.972737, 1.0], [51.458671, -0.973763, 5.0], [51.459338, -0.995791, 7.0], [51.459486, -0.959613, 13.0], [51.459724, -0.955982, 3.0], [51.459888, -0.971443, 3.0], [51.460296, -1.006721, 2.0], [51.461086, -0.973043, 1.0], [51.461136, -0.975148, 8.0], [51.461479, -1.01282, 9.0], [51.461773, -0.925247, 5.0], [51.462606, -0.975546, 7.0], [51.463005, -0.924755, 2.0], [51.465802, -0.970714, 27.0], [51.466233, -0.976418, 1.0], [51.466267, -0.97589, 1.0], [51.466269, -0.968272, 13.0], [51.466417, -0.969727, 7.0], [51.467743, -0.975671, 7.0], [51.468554, -0.970693, 1.0], [51.46914, -1.007248, 3.0], [51.469229, -1.007303, 5.0], [51.469654, -0.973295, 1.0], [51.47023, -0.917105, 4.0], [51.470372, -0.955637, 1.0], [51.470821, -0.951724, 5.0], [51.470966, -0.966658, 6.0], [51.472441, -0.966884, 15.0], [51.473368, -0.974904, 1.0], [51.477207, -0.997282, 1.0], [51.481231, -0.909902, 1.0]], [[51.403366, -0.978944, 2.0], [51.404522, -0.979456, 1.0], [51.40643, -0.951353, 1.0], [51.412892, -0.876492, 1.0], [51.416332, -0.959733, 1.0], [51.416397, -0.953481, 4.0], [51.418716, -0.987024, 4.0], [51.419546, -0.990967, 10.0], [51.419628, -0.959088, 3.0], [51.420158, -0.987617, 5.0], [51.420305, -0.986542, 7.0], [51.421107, -0.991408, 2.0], [51.421139, -0.992978, 3.0], [51.42115, -0.992993, 2.0], [51.422326, -0.983475, 1.0], [51.42245, -0.98455, 6.0], [51.422478, -0.983614, 11.0], [51.423327, -0.980711, 3.0], [51.425937, -0.941644, 1.0], [51.426652, -0.948504, 1.0], [51.427358, -0.947944, 3.0], [51.427397, -0.948215, 3.0], [51.43012, -0.91424, 5.0], [51.430729, -0.97533, 1.0], [51.431787, -0.975453, 6.0], [51.431881, -0.9755, 5.0], [51.433169, -0.969202, 16.0], [51.433907, -0.979022, 8.0], [51.434487, -0.969962, 9.0], [51.435209, -0.973893, 2.0], [51.435306, -0.973496, 3.0], [51.435358, -0.973859, 1.0], [51.435648, -0.944972, 2.0], [51.436196, -1.060767, 1.0], [51.436345, -0.961965, 5.0], [51.437175, -0.883535, 1.0], [51.437376, -0.881194, 2.0], [51.437389, -0.955952, 5.0], [51.437596, -0.925394, 1.0], [51.438316, -0.936272, 2.0], [51.438817, -0.941527, 1.0], [51.438834, -0.941475, 3.0], [51.438853, -0.941476, 1.0], [51.438859, -0.965722, 6.0], [51.438925, -0.942709, 9.0], [51.439658, -0.945673, 2.0], [51.440097, -0.934812, 3.0], [51.440231, -0.934609, 1.0], [51.440236, -0.948604, 9.0], [51.440262, -0.948534, 1.0], [51.440309, -0.934087, 5.0], [51.440819, -0.91795, 1.0], [51.440842, -0.917974, 1.0], [51.440931, -0.954849, 5.0], [51.440961, -0.9178, 1.0], [51.44115, -0.946918, 3.0], [51.441209, -0.942923, 5.0], [51.441252, -0.92492, 8.0], [51.441421, -0.941816, 1.0], [51.441713, -0.946157, 9.0], [51.441893, -0.992317, 5.0], [51.442022, -0.947436, 1.0], [51.442047, -0.947412, 6.0], [51.442353, -0.955872, 5.0], [51.442422, -0.936879, 4.0], [51.442689, -0.946847, 3.0], [51.442782, -0.936446, 2.0], [51.442834, -0.956468, 24.0], [51.444017, -0.947733, 1.0], [51.444154, -0.94757, 3.0], [51.444165, -0.947681, 1.0], [51.444305, -0.947175, 2.0], [51.444519, -0.965196, 1.0], [51.445194, -0.952001, 1.0], [51.445345, -0.947609, 1.0], [51.445451, -0.960781, 5.0], [51.445735, -0.912376, 2.0], [51.446038, -0.936619, 9.0], [51.446408, -0.971462, 3.0], [51.446451, -0.902986, 4.0], [51.446661, -0.94668, 6.0], [51.446902, -0.957017, 5.0], [51.447027, -0.986502, 3.0], [51.447114, -0.932818, 1.0], [51.447273, -0.946941, 3.0], [51.447361, -0.948061, 2.0], [51.447525, -0.944815, 11.0], [51.447983, -0.934768, 2.0], [51.44804, -0.97258, 1.0], [51.448147, -0.956266, 3.0], [51.448574, -0.973505, 4.0], [51.449302, -0.961375, 6.0], [51.449315, -0.959501, 3.0], [51.449506, -0.957834, 3.0], [51.449758, -0.949281, 1.0], [51.450016, -0.957201, 1.0], [51.450131, -0.969343, 17.0], [51.450414, -0.979379, 8.0], [51.450484, -0.967516, 3.0], [51.450652, -0.963218, 1.0], [51.45097, -0.95432, 4.0], [51.451038, -0.923289, 3.0], [51.451367, -0.950443, 4.0], [51.451689, -0.969582, 4.0], [51.451702, -0.954858, 7.0], [51.452351, -0.966277, 6.0], [51.45265, -0.947407, 6.0], [51.452693, -0.972578, 1.0], [51.452878, -0.970455, 2.0], [51.452972, -0.972089, 4.0], [51.453064, -0.965397, 9.0], [51.453089, -0.966937, 1.0], [51.453107, -0.966711, 1.0], [51.453565, -0.989041, 9.0], [51.453576, -0.958687, 4.0], [51.453608, -0.988801, 2.0], [51.453694, -0.971086, 4.0], [51.453767, -0.968669, 8.0], [51.453776, -0.959861, 2.0], [51.453863, -0.943078, 8.0], [51.453903, -1.016849, 4.0], [51.453935, -0.973369, 8.0], [51.45401, -0.957525, 7.0], [51.454243, -0.974414, 3.0], [51.454313, -0.963192, 8.0], [51.454605, -0.966746, 5.0], [51.454831, -0.962896, 3.0], [51.45485, -1.024482, 7.0], [51.454856, -0.941796, 1.0], [51.454893, -0.941853, 2.0], [51.454967, -0.941904, 1.0], [51.455026, -0.961608, 1.0], [51.455033, -0.969628, 1.0], [51.45507, -0.968382, 5.0], [51.45507, -0.961693, 4.0], [51.455102, -0.968949, 27.0], [51.455141, -0.970178, 1.0], [51.455161, -0.986037, 3.0], [51.455174, -0.970392, 9.0], [51.455174, -0.961563, 6.0], [51.455195, -0.941281, 8.0], [51.455329, -0.961225, 2.0], [51.455375, -0.966213, 9.0], [51.455432, -0.942759, 12.0], [51.455454, -0.976721, 7.0], [51.455485, -0.976553, 1.0], [51.456716, -0.970328, 3.0], [51.456753, -0.974604, 2.0], [51.456843, -0.950385, 7.0], [51.457336, -0.969817, 7.0], [51.45745, -0.93366, 11.0], [51.457959, -1.001706, 3.0], [51.458022, -0.971565, 8.0], [51.458115, -0.971296, 7.0], [51.458364, -0.97148, 6.0], [51.458713, -0.998886, 9.0], [51.459724, -0.955982, 11.0], [51.46067, -1.011496, 2.0], [51.46079, -0.96947, 8.0], [51.460814, -0.973005, 9.0], [51.461121, -0.935619, 1.0], [51.461608, -0.893966, 1.0], [51.462484, -0.950575, 8.0], [51.463046, -1.010375, 6.0], [51.465462, -0.962726, 2.0], [51.466299, -0.961434, 7.0], [51.466845, -0.9711, 3.0], [51.46729, -0.97223, 3.0], [51.467333, -0.976864, 1.0], [51.467822, -0.974534, 4.0], [51.468029, -0.974276, 3.0], [51.468122, -0.970779, 19.0], [51.468497, -0.9743, 2.0], [51.468651, -0.971275, 3.0], [51.468687, -0.918108, 5.0], [51.468725, -0.971265, 11.0], [51.469603, -0.913948, 4.0], [51.472223, -0.954973, 7.0], [51.475161, -0.912884, 6.0], [51.475183, -0.950995, 4.0], [51.476137, -0.902849, 5.0], [51.477225, -0.981413, 8.0]], [[51.412214, -0.941853, 3.0], [51.414611, -0.974945, 3.0], [51.414844, -0.974647, 8.0], [51.414851, -0.973627, 2.0], [51.415054, -0.974901, 12.0], [51.4163, -0.954842, 1.0], [51.416397, -0.953481, 9.0], [51.419546, -0.990967, 11.0], [51.419584, -0.947824, 4.0], [51.420013, -0.94779, 4.0], [51.420224, -0.989788, 2.0], [51.420283, -0.986476, 2.0], [51.420305, -0.986542, 5.0], [51.420983, -0.968179, 22.0], [51.42105, -0.968817, 1.0], [51.421072, -0.968804, 1.0], [51.421161, -0.99298, 8.0], [51.421176, -0.968811, 7.0], [51.421269, -0.992793, 15.0], [51.421533, -0.94795, 9.0], [51.421997, -0.991947, 7.0], [51.424127, -0.981301, 9.0], [51.425779, -0.978634, 1.0], [51.426026, -0.924714, 15.0], [51.426192, -0.970867, 3.0], [51.426417, -0.987659, 1.0], [51.42715, -0.8895, 1.0], [51.427271, -0.988084, 2.0], [51.42799, -0.9447, 3.0], [51.428043, -0.875758, 5.0], [51.430968, -0.886269, 3.0], [51.431084, -0.976948, 2.0], [51.432534, -0.975778, 4.0], [51.432886, -0.930191, 1.0], [51.433169, -0.969202, 14.0], [51.433188, -0.969326, 8.0], [51.433273, -0.96907, 3.0], [51.433783, -0.975881, 3.0], [51.433817, -0.976101, 5.0], [51.433871, -0.975729, 1.0], [51.435357, -0.966511, 1.0], [51.435743, -0.975035, 9.0], [51.43584, -0.974382, 8.0], [51.436101, -0.954264, 8.0], [51.436253, -0.924819, 7.0], [51.436257, -0.935811, 3.0], [51.436438, -0.919488, 6.0], [51.436463, -0.926358, 6.0], [51.436502, -0.91978, 8.0], [51.43674, -0.891092, 2.0], [51.436913, -0.890456, 2.0], [51.437164, -0.953939, 5.0], [51.43717, -0.881277, 1.0], [51.437483, -0.890619, 2.0], [51.438794, -1.049693, 3.0], [51.438925, -0.942709, 6.0], [51.439, -0.974636, 4.0], [51.43937, -0.955969, 9.0], [51.439495, -0.962288, 3.0], [51.439706, -0.935367, 3.0], [51.440051, -0.935165, 3.0], [51.440204, -0.934104, 2.0], [51.440244, -0.966668, 1.0], [51.440303, -0.933996, 9.0], [51.440328, -0.948774, 4.0], [51.440337, -0.943586, 6.0], [51.440691, -0.957358, 5.0], [51.440734, -0.93276, 4.0], [51.440784, -0.934811, 5.0], [51.440963, -0.906542, 1.0], [51.441095, -0.946043, 2.0], [51.441491, -0.945936, 1.0], [51.44171, -0.943839, 5.0], [51.44193, -0.946802, 4.0], [51.441986, -0.94747, 8.0], [51.442028, -0.946267, 3.0], [51.442078, -0.943463, 51.0], [51.442128, -0.955208, 7.0], [51.442187, -0.97808, 8.0], [51.442229, -0.978241, 4.0], [51.442689, -0.946847, 7.0], [51.442726, -0.965851, 1.0], [51.442775, -0.977396, 6.0], [51.442815, -0.966768, 7.0], [51.442926, -0.936073, 2.0], [51.443081, -0.956365, 8.0], [51.443345, -0.937427, 5.0], [51.443475, -0.95238, 14.0], [51.44372, -0.95786, 4.0], [51.44387, -0.944482, 3.0], [51.44401, -0.94756, 16.0], [51.444047, -0.9469, 2.0], [51.444127, -0.947591, 8.0], [51.444147, -0.894507, 1.0], [51.444158, -0.94698, 9.0], [51.444184, -0.972314, 4.0], [51.444233, -0.94761, 9.0], [51.4443, -0.947315, 2.0], [51.444458, -0.94608, 5.0], [51.444487, -0.960272, 1.0], [51.444592, -0.976334, 2.0], [51.444645, -1.000348, 4.0], [51.444823, -0.945261, 4.0], [51.444863, -0.951944, 7.0], [51.444917, -0.945129, 1.0], [51.44505, -0.944763, 1.0], [51.445146, -0.945175, 4.0], [51.445218, -0.971592, 13.0], [51.446007, -0.936149, 4.0], [51.446022, -0.97243, 7.0], [51.446706, -0.974464, 5.0], [51.447097, -0.946156, 2.0], [51.447454, -0.931751, 16.0], [51.44774, -0.95026, 3.0], [51.447897, -0.949363, 1.0], [51.447953, -0.949358, 8.0], [51.448076, -0.934596, 4.0], [51.448363, -0.934321, 4.0], [51.448393, -0.934358, 5.0], [51.448409, -0.976068, 4.0], [51.448436, -0.935112, 9.0], [51.448657, -0.95233, 1.0], [51.448834, -0.93721, 1.0], [51.449025, -0.948702, 5.0], [51.449074, -0.935294, 4.0], [51.449295, -0.959735, 7.0], [51.44936, -0.99959, 1.0], [51.449472, -0.951552, 1.0], [51.449545, -0.951402, 6.0], [51.449676, -0.949614, 3.0], [51.449697, -0.957156, 4.0], [51.4498, -0.934934, 5.0], [51.45009, -0.963001, 7.0], [51.450146, -0.934191, 9.0], [51.450154, -0.936093, 11.0], [51.45038, -0.943336, 2.0], [51.450414, -0.979379, 9.0], [51.450484, -0.967516, 7.0], [51.450644, -0.963187, 1.0], [51.450668, -0.963144, 8.0], [51.450808, -0.962753, 8.0], [51.45196, -0.961612, 12.0], [51.452383, -0.958332, 11.0], [51.452606, -0.96342, 2.0], [51.452615, -0.949491, 2.0], [51.452708, -0.954741, 1.0], [51.452737, -0.95869, 1.0], [51.452947, -0.972852, 1.0], [51.452969, -0.983101, 7.0], [51.45304, -0.966821, 8.0], [51.453053, -0.966817, 1.0], [51.453087, -0.966928, 8.0], [51.453364, -0.955885, 1.0], [51.453389, -0.970968, 8.0], [51.453408, -0.969188, 5.0], [51.453431, -0.987341, 1.0], [51.45347, -0.956217, 7.0], [51.453493, -0.95558, 9.0], [51.453542, -0.974326, 3.0], [51.453561, -0.955672, 9.0], [51.453642, -0.971408, 6.0], [51.453767, -0.968669, 3.0], [51.453792, -0.960105, 16.0], [51.453852, -0.968861, 1.0], [51.454141, -0.94775, 10.0], [51.454218, -0.960788, 6.0], [51.454316, -0.950177, 9.0], [51.454557, -1.003247, 9.0], [51.454575, -0.97823, 16.0], [51.454594, -0.972117, 7.0], [51.45475, -0.966283, 7.0], [51.454789, -0.94535, 4.0], [51.45482, -0.982496, 6.0], [51.454827, -0.987695, 1.0], [51.454834, -0.975965, 5.0], [51.454876, -0.968661, 1.0], [51.454883, -0.981696, 5.0], [51.454884, -0.968598, 3.0], [51.454987, -0.963292, 5.0], [51.455036, -0.969624, 4.0], [51.455076, -0.969421, 2.0], [51.455125, -0.969613, 4.0], [51.455127, -0.970236, 22.0], [51.455172, -0.975364, 5.0], [51.455201, -0.976991, 3.0], [51.45523, -0.970171, 13.0], [51.455313, -0.958783, 23.0], [51.455326, -0.975163, 3.0], [51.455375, -0.970849, 8.0], [51.455375, -0.966213, 2.0], [51.45539, -0.942874, 7.0], [51.455403, -0.977723, 7.0], [51.455453, -0.991322, 5.0], [51.455502, -0.978202, 8.0], [51.4558, -0.94497, 6.0], [51.455831, -0.945035, 4.0], [51.455907, -0.969513, 2.0], [51.45602, -0.9724, 7.0], [51.456109, -0.968467, 4.0], [51.456173, -0.978916, 14.0], [51.45624, -0.988989, 11.0], [51.456277, -0.993352, 5.0], [51.456303, -0.959527, 8.0], [51.456356, -0.968025, 9.0], [51.456385, -0.944189, 4.0], [51.456666, -0.971123, 1.0], [51.456733, -0.949936, 2.0], [51.456867, -0.971888, 3.0], [51.457225, -0.959253, 2.0], [51.457345, -0.983166, 12.0], [51.457524, -0.971849, 6.0], [51.457803, -0.975825, 5.0], [51.457821, -0.975931, 3.0], [51.457871, -0.933351, 2.0], [51.457948, -0.972046, 4.0], [51.457949, -0.972046, 9.0], [51.457956, -0.971466, 1.0], [51.457983, -0.975877, 4.0], [51.458247, -0.977874, 8.0], [51.458303, -0.972272, 6.0], [51.458364, -0.97148, 1.0], [51.458384, -0.973398, 2.0], [51.458431, -0.972018, 3.0], [51.458611, -0.972672, 3.0], [51.458671, -0.973763, 1.0], [51.458932, -0.998054, 3.0], [51.459338, -0.995791, 9.0], [51.459877, -0.971918, 4.0], [51.459881, -0.969484, 7.0], [51.460018, -0.971904, 4.0], [51.460043, -0.920152, 7.0], [51.460102, -0.958159, 7.0], [51.460114, -0.971537, 7.0], [51.460445, -0.971287, 3.0], [51.460456, -1.011406, 2.0], [51.46079, -0.96947, 7.0], [51.460942, -0.969785, 12.0], [51.46096, -0.970732, 19.0], [51.461121, -0.935619, 8.0], [51.461773, -0.925247, 7.0], [51.462, -1.014289, 6.0], [51.462265, -0.974158, 9.0], [51.462371, -0.974224, 9.0], [51.463005, -0.924755, 4.0], [51.46381, -0.968669, 3.0], [51.464916, -0.970993, 9.0], [51.465006, -0.971709, 9.0], [51.465181, -0.978132, 5.0], [51.465422, -0.974337, 8.0], [51.466394, -0.968687, 9.0], [51.467333, -0.97737, 8.0], [51.467839, -0.975055, 3.0], [51.468029, -0.974276, 4.0], [51.468122, -0.970779, 24.0], [51.468554, -0.970693, 1.0], [51.468619, -0.960056, 1.0], [51.469175, -1.007246, 2.0], [51.469229, -1.007197, 5.0], [51.469345, -0.960065, 4.0], [51.4706, -0.983181, 7.0], [51.470664, -0.987042, 10.0], [51.470819, -0.973925, 13.0], [51.471424, -0.953193, 1.0], [51.471722, -0.96448, 3.0], [51.473454, -0.984543, 1.0], [51.477425, -0.992139, 4.0], [51.477467, -0.934201, 1.0], [51.480455, -0.994622, 11.0], [51.492854, -1.001639, 4.0]], [[51.405075, -0.980834, 4.0], [51.409563, -0.946513, 1.0], [51.415054, -0.974901, 3.0], [51.419406, -0.962612, 1.0], [51.419525, -0.958696, 2.0], [51.419546, -0.990967, 4.0], [51.420305, -0.986542, 2.0], [51.420588, -0.970204, 5.0], [51.422478, -0.983614, 1.0], [51.423209, -0.991417, 9.0], [51.423891, -0.952417, 3.0], [51.424367, -0.932694, 9.0], [51.424422, -0.93259, 3.0], [51.424648, -0.943173, 10.0], [51.425401, -0.931492, 3.0], [51.425701, -0.990871, 13.0], [51.426417, -0.987659, 2.0], [51.429105, -0.945032, 9.0], [51.429545, -0.884148, 3.0], [51.429912, -0.876873, 2.0], [51.429959, -0.942792, 8.0], [51.430601, -0.944244, 5.0], [51.430669, -0.876964, 3.0], [51.43196, -0.984692, 7.0], [51.432624, -0.976756, 2.0], [51.43276, -0.949864, 5.0], [51.432906, -0.955441, 3.0], [51.433183, -0.976636, 1.0], [51.433284, -0.94497, 6.0], [51.433652, -0.975726, 1.0], [51.43368, -0.975709, 7.0], [51.433849, -0.975955, 5.0], [51.434007, -0.970402, 8.0], [51.435621, -0.891798, 2.0], [51.435659, -1.062082, 1.0], [51.43586, -0.974864, 9.0], [51.437145, -0.955731, 5.0], [51.437519, -0.907163, 3.0], [51.439195, -0.961314, 2.0], [51.440212, -0.951787, 1.0], [51.440877, -0.965826, 1.0], [51.440924, -0.966062, 2.0], [51.441252, -0.92492, 23.0], [51.441276, -0.954902, 7.0], [51.441689, -0.946043, 1.0], [51.442803, -0.966953, 1.0], [51.442805, -0.976802, 2.0], [51.442916, -0.935985, 7.0], [51.444017, -0.947733, 1.0], [51.444047, -0.9469, 6.0], [51.44453, -0.977762, 5.0], [51.444541, -0.937778, 9.0], [51.444643, -0.948907, 9.0], [51.444783, -0.945101, 16.0], [51.444823, -0.945261, 10.0], [51.444832, -0.944292, 5.0], [51.444894, -0.95016, 7.0], [51.445022, -0.949855, 6.0], [51.445155, -0.950303, 8.0], [51.445249, -0.955525, 1.0], [51.445594, -0.949212, 2.0], [51.445606, -0.985064, 3.0], [51.446038, -0.936619, 18.0], [51.446408, -0.971462, 4.0], [51.446584, -0.956485, 6.0], [51.446652, -0.997065, 2.0], [51.446654, -0.947922, 7.0], [51.446718, -0.933629, 2.0], [51.447114, -0.997398, 4.0], [51.448301, -0.946418, 6.0], [51.448709, -0.967661, 5.0], [51.449118, -1.01472, 7.0], [51.449139, -0.8982, 1.0], [51.449547, -0.956988, 4.0], [51.449574, -0.948641, 8.0], [51.449662, -0.95104, 4.0], [51.449688, -0.950543, 17.0], [51.450062, -0.948674, 17.0], [51.450144, -0.964539, 3.0], [51.450146, -0.934191, 3.0], [51.450267, -0.963039, 5.0], [51.450437, -0.968147, 1.0], [51.450441, -0.949063, 1.0], [51.450778, -0.95006, 5.0], [51.450836, -0.962746, 6.0], [51.450853, -0.963036, 1.0], [51.451312, -0.950394, 15.0], [51.451689, -0.969582, 2.0], [51.451732, -0.959037, 4.0], [51.451732, -0.956437, 4.0], [51.452119, -0.960002, 2.0], [51.452245, -0.948106, 5.0], [51.452541, -0.95861, 3.0], [51.452656, -0.958593, 1.0], [51.453013, -0.95957, 7.0], [51.453098, -0.979317, 2.0], [51.453152, -1.005412, 1.0], [51.453236, -0.966745, 9.0], [51.453273, -0.974784, 6.0], [51.453364, -0.955885, 6.0], [51.453493, -0.95558, 4.0], [51.453607, -0.999915, 3.0], [51.453667, -1.000024, 3.0], [51.453747, -0.960342, 4.0], [51.453767, -0.968669, 7.0], [51.453816, -0.979895, 6.0], [51.453895, -0.961532, 2.0], [51.453896, -0.960949, 5.0], [51.453907, -0.950407, 6.0], [51.454271, -0.944771, 21.0], [51.454517, -0.992689, 1.0], [51.4548, -0.981984, 4.0], [51.45482, -0.982496, 6.0], [51.454821, -0.966062, 3.0], [51.454883, -0.981696, 6.0], [51.454883, -0.967836, 3.0], [51.454886, -0.99259, 4.0], [51.455033, -0.969628, 19.0], [51.455033, -0.969014, 5.0], [51.455083, -0.969845, 5.0], [51.455099, -0.976971, 6.0], [51.455105, -0.984754, 1.0], [51.455125, -0.969613, 5.0], [51.455127, -0.960579, 3.0], [51.455168, -0.969949, 1.0], [51.455202, -0.960516, 14.0], [51.455214, -0.977956, 6.0], [51.455313, -0.958783, 3.0], [51.455335, -0.96016, 1.0], [51.455347, -0.960299, 2.0], [51.455502, -0.978202, 23.0], [51.455862, -1.015754, 14.0], [51.455888, -0.969368, 6.0], [51.455965, -0.975985, 16.0], [51.455991, -0.975799, 7.0], [51.456159, -0.975923, 2.0], [51.456173, -0.978916, 1.0], [51.456365, -0.970326, 6.0], [51.456378, -0.979261, 1.0], [51.456385, -0.944189, 6.0], [51.456494, -0.969761, 7.0], [51.456542, -0.9792, 8.0], [51.456716, -0.970328, 2.0], [51.45676, -0.971832, 6.0], [51.456873, -0.972893, 5.0], [51.457173, -0.972181, 7.0], [51.457225, -0.959253, 1.0], [51.45726, -0.997526, 8.0], [51.457313, -0.968763, 9.0], [51.457381, -0.969028, 6.0], [51.457435, -0.973397, 14.0], [51.457533, -0.976007, 1.0], [51.457673, -0.971178, 3.0], [51.457706, -1.009548, 7.0], [51.457829, -0.972207, 6.0], [51.457938, -0.977814, 3.0], [51.457948, -0.972046, 11.0], [51.457961, -0.971089, 3.0], [51.45806, -0.971736, 4.0], [51.458065, -0.975833, 4.0], [51.45807, -1.001608, 9.0], [51.45807, -0.971728, 3.0], [51.458115, -0.971296, 3.0], [51.458124, -0.972354, 5.0], [51.45819, -0.963219, 5.0], [51.458334, -0.972209, 6.0], [51.458336, -0.971522, 5.0], [51.458364, -0.97148, 13.0], [51.458384, -0.972411, 5.0], [51.458431, -0.972018, 3.0], [51.458531, -1.003128, 5.0], [51.458657, -0.973949, 3.0], [51.458671, -0.973763, 4.0], [51.458764, -0.9732, 2.0], [51.459301, -0.964464, 6.0], [51.45932, -0.973114, 9.0], [51.459481, -0.958791, 8.0], [51.45951, -0.958621, 26.0], [51.459582, -0.972791, 4.0], [51.459693, -0.958107, 6.0], [51.459877, -0.972847, 3.0], [51.460001, -0.972202, 6.0], [51.460025, -0.971894, 6.0], [51.460554, -1.01176, 4.0], [51.461532, -0.974819, 14.0], [51.461765, -0.97221, 7.0], [51.461843, -0.932413, 4.0], [51.465798, -0.953193, 9.0], [51.466495, -0.976224, 7.0], [51.466596, -0.970132, 6.0], [51.468389, -0.96829, 5.0], [51.468504, -0.974081, 6.0], [51.468548, -0.972652, 7.0], [51.469345, -0.960065, 4.0], [51.470102, -1.040634, 4.0], [51.470664, -0.987042, 15.0], [51.47292, -0.950982, 5.0], [51.474194, -0.960073, 11.0], [51.474481, -1.037204, 4.0], [51.474962, -0.960814, 4.0], [51.476643, -1.055497, 1.0], [51.480274, -0.985089, 2.0], [51.482436, -0.961971, 1.0], [51.490151, -0.961889, 6.0]], [[51.400069, -0.968292, 1.0], [51.411634, -0.947873, 9.0], [51.418479, -0.987278, 2.0], [51.419526, -0.987923, 4.0], [51.419546, -0.990967, 1.0], [51.419922, -0.987246, 3.0], [51.421114, -0.988529, 1.0], [51.422494, -0.959533, 4.0], [51.422667, -0.954036, 3.0], [51.425695, -0.936203, 4.0], [51.425782, -0.936143, 7.0], [51.426195, -0.970867, 3.0], [51.426762, -0.996332, 1.0], [51.427397, -0.948215, 4.0], [51.428314, -0.924773, 8.0], [51.428423, -0.924347, 2.0], [51.428833, -0.924617, 5.0], [51.432624, -0.976756, 1.0], [51.433169, -0.969202, 9.0], [51.433186, -0.976353, 1.0], [51.433188, -0.969326, 7.0], [51.434493, -0.962763, 1.0], [51.435067, -0.974208, 2.0], [51.436835, -0.891149, 1.0], [51.436942, -0.90416, 3.0], [51.437539, -0.889361, 1.0], [51.437813, -0.898008, 4.0], [51.438108, -1.066957, 3.0], [51.438246, -0.954098, 1.0], [51.438627, -0.953799, 1.0], [51.43874, -0.947651, 1.0], [51.438913, -1.053066, 2.0], [51.439754, -0.956658, 1.0], [51.44009, -0.947344, 8.0], [51.440551, -0.947964, 3.0], [51.441252, -0.92492, 9.0], [51.4426, -0.9601, 4.0], [51.44303, -0.959624, 8.0], [51.443066, -1.061441, 1.0], [51.443166, -0.935622, 5.0], [51.444167, -0.947454, 7.0], [51.444624, -0.974464, 3.0], [51.445499, -0.952364, 1.0], [51.445583, -0.949824, 1.0], [51.445633, -0.937133, 1.0], [51.445718, -0.957037, 2.0], [51.445821, -0.890823, 1.0], [51.445852, -0.927308, 7.0], [51.446038, -0.936619, 1.0], [51.446583, -0.947985, 4.0], [51.446739, -0.976677, 6.0], [51.446957, -0.954554, 8.0], [51.447375, -0.949097, 7.0], [51.447418, -0.949088, 8.0], [51.447544, -0.988882, 2.0], [51.44763, -0.988891, 10.0], [51.447897, -0.949578, 4.0], [51.44803, -0.94545, 8.0], [51.44852, -0.948248, 2.0], [51.449021, -0.959265, 3.0], [51.449046, -0.947823, 16.0], [51.44944, -0.97354, 11.0], [51.449447, -0.973457, 7.0], [51.449485, -0.950112, 7.0], [51.449506, -0.957834, 3.0], [51.449611, -0.950201, 1.0], [51.449636, -0.971903, 9.0], [51.450345, -0.943506, 6.0], [51.450369, -0.925275, 3.0], [51.450383, -0.94155, 5.0], [51.451006, -0.922159, 4.0], [51.451024, -0.922227, 2.0], [51.45105, -0.922219, 2.0], [51.451312, -0.951744, 1.0], [51.451614, -0.969568, 3.0], [51.451724, -0.943427, 1.0], [51.451732, -0.959037, 1.0], [51.451835, -0.943378, 2.0], [51.45218, -0.980537, 1.0], [51.452343, -0.957598, 1.0], [51.452514, -0.951138, 7.0], [51.452538, -0.972446, 14.0], [51.453015, -0.9555, 10.0], [51.453033, -0.955581, 2.0], [51.453125, -0.955551, 6.0], [51.453236, -0.966745, 6.0], [51.453385, -0.955909, 2.0], [51.453594, -0.958257, 1.0], [51.453767, -0.968669, 14.0], [51.453935, -0.973369, 6.0], [51.454013, -0.969237, 1.0], [51.454118, -0.996317, 1.0], [51.454155, -0.961088, 3.0], [51.454552, -0.952636, 7.0], [51.454557, -0.958458, 2.0], [51.454675, -0.967039, 3.0], [51.454694, -0.966427, 3.0], [51.454795, -0.941594, 2.0], [51.454821, -0.966062, 3.0], [51.454893, -0.941853, 9.0], [51.454904, -0.974868, 3.0], [51.454907, -0.978128, 1.0], [51.454907, -0.968656, 1.0], [51.455033, -0.969628, 1.0], [51.455061, -0.970511, 9.0], [51.455172, -0.975358, 5.0], [51.455313, -0.958783, 3.0], [51.455381, -0.958833, 1.0], [51.455433, -0.949175, 5.0], [51.455484, -1.003097, 1.0], [51.456116, -0.978824, 2.0], [51.45615, -0.975975, 8.0], [51.456155, -0.979207, 1.0], [51.456182, -0.959677, 4.0], [51.456227, -0.967396, 7.0], [51.456374, -0.979437, 5.0], [51.456605, -0.973776, 2.0], [51.456811, -0.97477, 7.0], [51.456839, -0.972857, 10.0], [51.456987, -0.984915, 2.0], [51.457329, -0.973125, 1.0], [51.457413, -0.956795, 1.0], [51.457466, -1.014589, 1.0], [51.457611, -0.933532, 4.0], [51.457894, -0.971995, 9.0], [51.457948, -0.972046, 8.0], [51.457997, -0.968042, 3.0], [51.458022, -0.971564, 7.0], [51.45803, -0.972636, 12.0], [51.458124, -0.972354, 8.0], [51.458248, -0.972905, 6.0], [51.45825, -0.972601, 3.0], [51.458364, -0.97148, 5.0], [51.458526, -0.972187, 4.0], [51.458671, -0.973763, 1.0], [51.458949, -0.9716, 3.0], [51.459041, -0.972938, 5.0], [51.459612, -0.965583, 8.0], [51.459997, -1.00812, 9.0], [51.460114, -0.971537, 4.0], [51.460284, -0.96883, 7.0], [51.46048, -0.972389, 3.0], [51.460526, -1.010856, 7.0], [51.461972, -0.974422, 4.0], [51.462444, -0.904874, 1.0], [51.463046, -1.010375, 5.0], [51.465076, -0.95964, 4.0], [51.466233, -0.976418, 1.0], [51.467934, -0.966328, 1.0], [51.468431, -0.971657, 1.0], [51.468631, -1.026484, 1.0], [51.468651, -0.971275, 4.0], [51.469166, -1.007334, 1.0], [51.469196, -1.007219, 2.0], [51.469211, -1.007332, 2.0], [51.473129, -0.911429, 2.0], [51.479507, -1.043113, 1.0], [51.479897, -0.947803, 4.0]], [[51.413368, -0.949711, 1.0], [51.414405, -0.961372, 2.0], [51.418479, -0.987278, 3.0], [51.419406, -0.962612, 8.0], [51.42011, -0.958895, 6.0], [51.420983, -0.968179, 8.0], [51.421997, -0.991947, 4.0], [51.423038, -0.983646, 7.0], [51.424239, -0.981365, 3.0], [51.42486, -0.932685, 7.0], [51.424964, -0.953762, 4.0], [51.425148, -0.953705, 3.0], [51.426584, -0.987464, 5.0], [51.427986, -0.973454, 4.0], [51.42807, -0.943066, 7.0], [51.430103, -0.973401, 2.0], [51.430155, -0.882811, 6.0], [51.430415, -0.977383, 1.0], [51.430499, -0.97748, 1.0], [51.430735, -0.958589, 1.0], [51.430795, -0.958256, 15.0], [51.4308, -0.973992, 12.0], [51.430944, -0.951214, 7.0], [51.431071, -0.977197, 13.0], [51.431805, -0.962235, 2.0], [51.433047, -0.956012, 2.0], [51.433183, -0.976636, 2.0], [51.434007, -0.970402, 13.0], [51.434487, -0.969962, 8.0], [51.434582, -0.969985, 6.0], [51.435846, -0.955871, 2.0], [51.43674, -0.891092, 4.0], [51.438361, -0.954167, 4.0], [51.439452, -0.934886, 8.0], [51.439779, -0.946358, 6.0], [51.439902, -0.966364, 3.0], [51.440067, -0.947365, 6.0], [51.440158, -0.948222, 3.0], [51.440171, -0.947531, 6.0], [51.440204, -0.934104, 7.0], [51.440205, -0.947735, 3.0], [51.440262, -0.948534, 5.0], [51.440636, -0.967842, 5.0], [51.44069, -0.964913, 8.0], [51.440793, -0.956119, 6.0], [51.441038, -0.925629, 3.0], [51.441125, -0.955449, 8.0], [51.441473, -0.955237, 7.0], [51.441745, -0.946065, 3.0], [51.441779, -0.969576, 2.0], [51.44202, -1.066699, 1.0], [51.442083, -0.922706, 5.0], [51.44231, -0.977009, 2.0], [51.442464, -0.954866, 4.0], [51.44279, -0.957149, 4.0], [51.44285, -0.954915, 3.0], [51.442882, -0.956142, 6.0], [51.442919, -0.936003, 3.0], [51.44293, -0.955784, 6.0], [51.442961, -0.936019, 9.0], [51.442972, -0.956259, 2.0], [51.44302, -0.956063, 3.0], [51.443574, -0.947191, 1.0], [51.443986, -1.004905, 9.0], [51.444032, -0.956168, 9.0], [51.444127, -0.94772, 9.0], [51.444335, -0.946989, 5.0], [51.44451, -0.945081, 2.0], [51.444519, -0.965196, 1.0], [51.444531, -0.966443, 1.0], [51.444643, -0.948907, 6.0], [51.44466, -0.991666, 8.0], [51.444675, -0.966202, 6.0], [51.444823, -0.945261, 5.0], [51.444824, -0.945127, 5.0], [51.444829, -0.94507, 5.0], [51.444979, -0.999422, 5.0], [51.445, -0.965438, 6.0], [51.445096, -0.95004, 7.0], [51.44517, -0.990282, 6.0], [51.445584, -0.949824, 9.0], [51.445623, -0.949843, 3.0], [51.445757, -0.946845, 4.0], [51.44599, -0.964492, 10.0], [51.446493, -0.998723, 8.0], [51.447325, -0.951418, 9.0], [51.447485, -0.933473, 22.0], [51.447554, -1.000186, 8.0], [51.447623, -0.949556, 7.0], [51.447922, -0.935918, 8.0], [51.447941, -0.999031, 3.0], [51.448249, -0.947738, 4.0], [51.448394, -0.937822, 6.0], [51.44893, -0.947367, 1.0], [51.449003, -0.971094, 3.0], [51.44904, -1.016835, 4.0], [51.449059, -0.959299, 9.0], [51.44911, -0.952076, 3.0], [51.44923, -0.933811, 1.0], [51.449245, -0.956898, 5.0], [51.449374, -0.966315, 9.0], [51.449414, -0.897889, 5.0], [51.449456, -0.934604, 14.0], [51.449458, -0.956998, 2.0], [51.449459, -0.956947, 9.0], [51.449501, -0.950487, 3.0], [51.449545, -0.959961, 8.0], [51.449564, -0.936913, 3.0], [51.449583, -0.969538, 3.0], [51.449636, -0.971903, 3.0], [51.449654, -0.950151, 2.0], [51.449659, -0.950527, 7.0], [51.449666, -0.95046, 2.0], [51.449674, -0.948314, 1.0], [51.449778, -0.950032, 1.0], [51.449792, -0.962924, 8.0], [51.450294, -0.941482, 5.0], [51.450442, -0.94132, 9.0], [51.450778, -0.95006, 2.0], [51.451119, -0.969172, 6.0], [51.451203, -0.968978, 1.0], [51.451327, -0.968935, 3.0], [51.451384, -0.957529, 1.0], [51.4515, -0.980203, 1.0], [51.451619, -0.963284, 2.0], [51.451732, -0.959037, 6.0], [51.451744, -0.969973, 1.0], [51.452031, -0.968743, 8.0], [51.452196, -0.971863, 2.0], [51.452348, -0.971633, 8.0], [51.452489, -0.972735, 16.0], [51.452537, -0.972239, 8.0], [51.452538, -0.972446, 16.0], [51.452598, -1.002714, 8.0], [51.45263, -0.970769, 4.0], [51.452941, -0.950831, 1.0], [51.453013, -0.95957, 7.0], [51.453015, -0.9555, 4.0], [51.453088, -0.955594, 8.0], [51.45309, -0.951351, 7.0], [51.453202, -0.971369, 7.0], [51.453236, -0.966745, 17.0], [51.453351, -0.954527, 4.0], [51.45343, -0.955847, 1.0], [51.453542, -0.974326, 3.0], [51.453621, -0.971289, 1.0], [51.453767, -0.968669, 4.0], [51.453845, -0.959942, 2.0], [51.453865, -0.96883, 1.0], [51.453887, -0.968731, 4.0], [51.453919, -0.973348, 10.0], [51.453986, -0.972939, 1.0], [51.453987, -0.97297, 2.0], [51.454001, -0.949219, 6.0], [51.454005, -0.984194, 8.0], [51.454195, -0.963172, 2.0], [51.454254, -0.969464, 1.0], [51.454316, -0.950177, 5.0], [51.45438, -0.974498, 8.0], [51.454575, -0.97823, 1.0], [51.454823, -0.974736, 11.0], [51.454844, -0.974797, 1.0], [51.454937, -0.974909, 4.0], [51.454964, -0.969477, 12.0], [51.454986, -0.969474, 2.0], [51.455033, -0.969628, 18.0], [51.455102, -0.968949, 2.0], [51.45513, -0.969635, 1.0], [51.455172, -0.975358, 3.0], [51.455246, -0.969036, 5.0], [51.455333, -0.970658, 3.0], [51.455372, -0.970719, 4.0], [51.455665, -0.975866, 5.0], [51.455901, -0.969542, 2.0], [51.455937, -0.976053, 13.0], [51.456173, -0.978916, 35.0], [51.456319, -0.979222, 5.0], [51.456443, -0.971135, 4.0], [51.456611, -0.962807, 6.0], [51.456629, -1.001033, 9.0], [51.456678, -0.970852, 3.0], [51.4567, -0.974814, 13.0], [51.456704, -0.974985, 10.0], [51.456743, -0.9734, 7.0], [51.456744, -0.975724, 13.0], [51.456815, -0.973584, 1.0], [51.456843, -0.950385, 3.0], [51.456844, -0.973339, 10.0], [51.457317, -0.961554, 6.0], [51.457673, -0.971178, 3.0], [51.457875, -1.041125, 9.0], [51.457894, -0.971995, 2.0], [51.457899, -0.970932, 5.0], [51.457948, -0.972046, 22.0], [51.457949, -0.972046, 14.0], [51.457965, -0.972094, 9.0], [51.457972, -0.972368, 3.0], [51.45798, -0.97156, 9.0], [51.457997, -0.968042, 2.0], [51.458022, -0.971564, 3.0], [51.458056, -0.972145, 5.0], [51.458115, -0.971296, 9.0], [51.458153, -1.041462, 5.0], [51.458156, -0.97212, 8.0], [51.458158, -0.972254, 4.0], [51.458194, -0.972153, 9.0], [51.458304, -0.972236, 7.0], [51.458323, -0.967787, 6.0], [51.458364, -0.97148, 3.0], [51.458366, -1.004676, 7.0], [51.458472, -0.943427, 4.0], [51.458559, -0.972919, 2.0], [51.458671, -0.973934, 6.0], [51.458671, -0.973763, 3.0], [51.458695, -1.008476, 6.0], [51.458775, -0.919532, 2.0], [51.458965, -1.004696, 2.0], [51.458998, -0.97303, 1.0], [51.459646, -0.955286, 14.0], [51.459662, -0.966374, 5.0], [51.459976, -0.965673, 8.0], [51.460058, -0.933648, 11.0], [51.460528, -0.97201, 9.0], [51.460683, -0.978212, 5.0], [51.461497, -0.929482, 4.0], [51.461532, -0.974819, 6.0], [51.463668, -0.985526, 8.0], [51.464073, -0.982999, 6.0], [51.464832, -0.981151, 2.0], [51.464947, -0.965978, 8.0], [51.466163, -0.960644, 4.0], [51.466498, -0.976377, 2.0], [51.467029, -0.960511, 4.0], [51.467934, -0.966328, 3.0], [51.468122, -0.970779, 5.0], [51.468431, -0.971657, 7.0], [51.468606, -0.971398, 2.0], [51.469394, -1.027313, 9.0], [51.469601, -1.044639, 2.0], [51.47384, -0.946691, 12.0], [51.474098, -0.970085, 1.0], [51.475161, -0.912884, 2.0], [51.476339, -0.991382, 5.0], [51.476674, -0.963876, 6.0], [51.479215, -0.997093, 4.0], [51.484734, -0.926263, 1.0], [51.485276, -0.965606, 9.0], [51.496169, -0.980918, 1.0]], [[51.416332, -0.959733, 6.0], [51.417435, -0.974055, 8.0], [51.418479, -0.987278, 1.0], [51.4192, -0.959612, 3.0], [51.41927, -0.986891, 1.0], [51.419546, -0.990967, 10.0], [51.42011, -0.958895, 4.0], [51.421543, -0.987306, 6.0], [51.422478, -0.983614, 7.0], [51.422892, -0.95737, 10.0], [51.423038, -0.983646, 4.0], [51.423181, -0.962091, 5.0], [51.425585, -0.933424, 7.0], [51.426929, -0.946782, 12.0], [51.426943, -0.946793, 7.0], [51.428286, -0.913964, 1.0], [51.42967, -0.944711, 7.0], [51.429693, -0.943487, 8.0], [51.429725, -0.943478, 2.0], [51.430454, -1.023492, 1.0], [51.430496, -0.973655, 27.0], [51.43059, -0.977636, 3.0], [51.430601, -0.944244, 1.0], [51.431157, -0.977682, 1.0], [51.43138, -0.968271, 8.0], [51.431428, -1.022289, 1.0], [51.431447, -1.022277, 4.0], [51.432267, -0.976846, 6.0], [51.432339, -0.970753, 6.0], [51.432432, -0.969794, 4.0], [51.432528, -0.95343, 7.0], [51.432856, -0.968649, 4.0], [51.433182, -0.97582, 9.0], [51.434007, -0.970402, 2.0], [51.434648, -0.941536, 3.0], [51.435012, -0.955069, 2.0], [51.435067, -0.974208, 4.0], [51.436073, -0.975069, 4.0], [51.436252, -0.924026, 49.0], [51.436335, -0.924154, 5.0], [51.436378, -0.924305, 30.0], [51.43643, -0.924126, 4.0], [51.437419, -0.940996, 6.0], [51.438352, -0.908661, 4.0], [51.438439, -0.954254, 9.0], [51.439373, -0.965099, 6.0], [51.439779, -0.946358, 14.0], [51.439838, -0.968241, 3.0], [51.440205, -0.947735, 2.0], [51.440234, -0.948749, 3.0], [51.440262, -0.948534, 1.0], [51.440269, -0.948463, 1.0], [51.440364, -0.934302, 1.0], [51.440383, -0.934292, 7.0], [51.440501, -0.948907, 1.0], [51.440734, -0.947804, 6.0], [51.440848, -0.947862, 1.0], [51.441338, -1.066952, 3.0], [51.441473, -0.955237, 1.0], [51.441486, -0.969069, 3.0], [51.441667, -1.033797, 1.0], [51.441868, -0.946921, 4.0], [51.441953, -0.96666, 1.0], [51.442028, -0.946267, 2.0], [51.442384, -0.955922, 20.0], [51.442413, -0.955977, 5.0], [51.442478, -0.956361, 4.0], [51.442671, -0.955125, 4.0], [51.442775, -0.977396, 6.0], [51.442854, -0.955756, 1.0], [51.442854, -0.935898, 4.0], [51.442937, -0.9565, 6.0], [51.443324, -0.935435, 2.0], [51.443536, -0.967006, 14.0], [51.44369, -0.967285, 4.0], [51.443834, -0.928844, 2.0], [51.443918, -0.908282, 2.0], [51.443986, -1.004905, 1.0], [51.443994, -0.908372, 1.0], [51.444142, -0.944315, 3.0], [51.444158, -0.94698, 8.0], [51.444164, -0.947619, 2.0], [51.444199, -0.964159, 9.0], [51.444204, -0.946989, 9.0], [51.444214, -0.947595, 1.0], [51.444219, -0.947615, 6.0], [51.444231, -0.946908, 1.0], [51.444272, -0.947549, 3.0], [51.4443, -0.947315, 1.0], [51.444337, -1.020295, 14.0], [51.444438, -0.943867, 2.0], [51.44451, -0.945081, 14.0], [51.444519, -0.965196, 1.0], [51.444531, -0.966443, 9.0], [51.444623, -0.966229, 1.0], [51.444658, -0.964731, 6.0], [51.444691, -0.98402, 4.0], [51.444715, -0.966421, 6.0], [51.444771, -0.952061, 1.0], [51.444788, -0.976881, 7.0], [51.444812, -0.945173, 3.0], [51.444823, -0.945261, 18.0], [51.444947, -0.944529, 4.0], [51.444962, -1.046135, 3.0], [51.444976, -0.964468, 4.0], [51.44505, -0.944763, 35.0], [51.44507, -0.964285, 2.0], [51.445194, -0.952001, 8.0], [51.445296, -0.944199, 3.0], [51.445336, -0.949892, 5.0], [51.44551, -0.947907, 1.0], [51.445541, -0.947595, 3.0], [51.445556, -0.958526, 10.0], [51.445584, -0.949824, 3.0], [51.445623, -0.949843, 4.0], [51.445637, -0.96, 6.0], [51.445639, -0.960053, 1.0], [51.445745, -0.959811, 6.0], [51.445749, -0.965511, 3.0], [51.445852, -0.927308, 2.0], [51.445934, -0.945851, 7.0], [51.44599, -0.964492, 15.0], [51.44603, -0.96456, 4.0], [51.446038, -0.976486, 5.0], [51.446157, -0.964575, 2.0], [51.4462, -0.963441, 1.0], [51.446212, -0.945312, 14.0], [51.446226, -0.964599, 6.0], [51.446229, -0.964612, 6.0], [51.446288, -0.935895, 8.0], [51.4463, -0.945372, 15.0], [51.446547, -0.965027, 18.0], [51.446567, -0.950859, 2.0], [51.446571, -0.950926, 3.0], [51.446572, -0.950927, 3.0], [51.446573, -0.950856, 7.0], [51.44658, -0.950869, 5.0], [51.446604, -0.950879, 6.0], [51.446606, -0.950873, 1.0], [51.446642, -0.950945, 7.0], [51.447149, -0.963068, 7.0], [51.447248, -0.94615, 9.0], [51.447335, -0.989409, 7.0], [51.447393, -0.947336, 4.0], [51.447584, -0.947419, 4.0], [51.447628, -0.995009, 7.0], [51.447922, -0.935918, 9.0], [51.447946, -0.946734, 4.0], [51.448026, -0.966105, 7.0], [51.448064, -0.966011, 8.0], [51.448249, -0.947738, 1.0], [51.4483, -0.950164, 10.0], [51.448356, -0.969813, 16.0], [51.448394, -0.937822, 6.0], [51.448439, -0.948261, 8.0], [51.448445, -0.948405, 1.0], [51.448455, -0.956572, 5.0], [51.448519, -0.936696, 1.0], [51.448548, -0.947573, 10.0], [51.4486, -0.979474, 6.0], [51.448657, -0.947597, 1.0], [51.448923, -0.93739, 9.0], [51.448976, -0.946276, 7.0], [51.449017, -0.969088, 4.0], [51.449032, -0.962609, 9.0], [51.44904, -1.016835, 14.0], [51.44911, -0.951236, 8.0], [51.449286, -0.971403, 7.0], [51.449429, -0.938642, 9.0], [51.449445, -0.936502, 1.0], [51.449501, -0.950487, 1.0], [51.449547, -0.956988, 1.0], [51.449557, -0.948113, 4.0], [51.449564, -0.936913, 11.0], [51.449579, -0.960008, 7.0], [51.449582, -0.949656, 7.0], [51.449616, -0.963063, 2.0], [51.449646, -0.950439, 7.0], [51.449652, -0.962832, 2.0], [51.449662, -0.949503, 7.0], [51.449669, -0.950088, 3.0], [51.449709, -0.949473, 3.0], [51.449718, -0.947831, 4.0], [51.449726, -0.963254, 2.0], [51.449746, -0.939318, 9.0], [51.449892, -0.934425, 6.0], [51.450037, -0.934129, 2.0], [51.450131, -0.969343, 5.0], [51.45027, -0.96881, 3.0], [51.450274, -0.995212, 3.0], [51.450278, -0.995344, 3.0], [51.45028, -0.995248, 1.0], [51.450288, -0.995227, 7.0], [51.450311, -0.995389, 8.0], [51.45034, -0.968533, 2.0], [51.450364, -0.947754, 8.0], [51.450369, -0.925275, 4.0], [51.450395, -0.967879, 1.0], [51.450441, -0.949154, 4.0], [51.450484, -0.967516, 11.0], [51.450538, -0.949236, 4.0], [51.450562, -0.948864, 9.0], [51.450782, -0.925512, 6.0], [51.45082, -0.946781, 2.0], [51.450979, -1.001782, 5.0], [51.450997, -0.950512, 2.0], [51.451119, -0.969172, 6.0], [51.451156, -0.943795, 13.0], [51.451196, -0.945362, 3.0], [51.451203, -0.968978, 7.0], [51.451228, -0.951532, 8.0], [51.451242, -0.950356, 11.0], [51.451312, -0.951744, 5.0], [51.45137, -0.950383, 6.0], [51.451601, -0.906021, 6.0], [51.451617, -0.958059, 1.0], [51.451677, -1.001373, 7.0], [51.451689, -0.969582, 3.0], [51.451689, -0.951583, 4.0], [51.451732, -0.956437, 7.0], [51.451806, -0.966245, 9.0], [51.451964, -0.958323, 4.0], [51.452194, -0.95446, 3.0], [51.452214, -0.969039, 8.0], [51.452232, -0.956145, 1.0], [51.452538, -0.972446, 20.0], [51.452594, -0.972526, 3.0], [51.452604, -0.968181, 4.0], [51.45267, -0.972548, 2.0], [51.452714, -0.961244, 5.0], [51.452953, -0.950449, 5.0], [51.453203, -0.969208, 7.0], [51.453236, -0.966745, 35.0], [51.453363, -0.955889, 2.0], [51.453444, -0.980209, 32.0], [51.453445, -0.956228, 3.0], [51.453478, -0.974303, 14.0], [51.453565, -0.989041, 5.0], [51.453573, -1.034049, 3.0], [51.453668, -0.973266, 8.0], [51.453738, -0.964446, 3.0], [51.453767, -0.968669, 24.0], [51.453808, -0.95964, 15.0], [51.453876, -0.968921, 3.0], [51.453887, -0.968731, 23.0], [51.453935, -0.973369, 9.0], [51.453986, -0.972939, 9.0], [51.454024, -0.981438, 4.0], [51.454025, -0.969412, 3.0], [51.454029, -0.973963, 8.0], [51.454045, -0.972988, 2.0], [51.454115, -0.944698, 14.0], [51.454243, -0.974414, 7.0], [51.454329, -1.016657, 4.0], [51.454428, -0.978021, 14.0], [51.45453, -0.964165, 7.0], [51.454575, -0.97823, 22.0], [51.454583, -0.965263, 1.0], [51.454651, -0.982558, 2.0], [51.454659, -0.962682, 6.0], [51.454675, -0.968996, 4.0], [51.454675, -0.967039, 13.0], [51.454784, -0.94229, 6.0], [51.454785, -0.967962, 9.0], [51.454821, -0.966062, 5.0], [51.454823, -0.974736, 5.0], [51.454823, -0.974735, 10.0], [51.454831, -0.976073, 10.0], [51.454856, -0.986175, 6.0], [51.454871, -0.963079, 5.0], [51.454884, -0.963209, 7.0], [51.454907, -0.978128, 2.0], [51.454912, -0.941858, 4.0], [51.454931, -0.968614, 3.0], [51.454956, -0.969007, 2.0], [51.454964, -0.963288, 14.0], [51.454966, -0.970093, 9.0], [51.454984, -0.963062, 1.0], [51.454988, -0.9751, 7.0], [51.454993, -0.969281, 2.0], [51.455008, -1.012917, 4.0], [51.455033, -0.969628, 9.0], [51.45504, -0.975147, 4.0], [51.455065, -0.970513, 4.0], [51.455116, -0.975047, 3.0], [51.455125, -0.969613, 9.0], [51.45513, -0.969635, 7.0], [51.45517, -0.974905, 8.0], [51.455172, -0.975364, 7.0], [51.455172, -0.975358, 3.0], [51.455174, -0.961563, 4.0], [51.455186, -0.979348, 4.0], [51.45524, -0.9771, 1.0], [51.455326, -0.975163, 16.0], [51.455378, -0.976387, 2.0], [51.45539, -0.975596, 2.0], [51.455421, -0.975292, 3.0], [51.455475, -0.942527, 13.0], [51.455563, -0.975735, 3.0], [51.455665, -0.975866, 3.0], [51.455739, -0.945732, 9.0], [51.45577, -0.958373, 6.0], [51.45577, -0.958099, 21.0], [51.455778, -1.009046, 6.0], [51.45578, -0.969588, 9.0], [51.455798, -0.945778, 6.0], [51.455881, -0.969456, 9.0], [51.455882, -0.969559, 3.0], [51.455937, -0.976053, 12.0], [51.455965, -0.975985, 5.0], [51.456071, -0.976228, 8.0], [51.456133, -0.975958, 5.0], [51.456173, -0.978916, 26.0], [51.456227, -0.967396, 8.0], [51.456239, -0.986019, 9.0], [51.456377, -0.960989, 7.0], [51.45638, -0.947011, 17.0], [51.456508, -0.975385, 18.0], [51.456525, -0.98509, 2.0], [51.456699, -0.970309, 7.0], [51.456716, -0.971207, 5.0], [51.456716, -0.970957, 18.0], [51.456716, -0.970328, 14.0], [51.456721, -0.973793, 8.0], [51.456733, -0.973468, 3.0], [51.456743, -0.9734, 9.0], [51.456749, -0.959222, 19.0], [51.456753, -0.971872, 3.0], [51.45676, -0.975531, 6.0], [51.456762, -0.972683, 3.0], [51.456782, -0.973597, 7.0], [51.45679, -0.97176, 2.0], [51.456795, -0.971754, 6.0], [51.456816, -0.973741, 7.0], [51.456848, -0.97475, 8.0], [51.456913, -0.975828, 6.0], [51.457199, -0.968922, 6.0], [51.457275, -0.9568, 7.0], [51.457303, -0.956984, 3.0], [51.457424, -0.978261, 9.0], [51.457541, -1.042106, 2.0], [51.45756, -0.994517, 12.0], [51.457596, -1.034675, 2.0], [51.457651, -0.972148, 3.0], [51.45767, -0.971551, 4.0], [51.457894, -0.971995, 12.0], [51.457898, -0.971625, 3.0], [51.457899, -0.970932, 4.0], [51.457948, -0.972046, 8.0], [51.457949, -0.972046, 5.0], [51.457957, -0.971205, 4.0], [51.457976, -0.972284, 15.0], [51.457976, -0.970958, 7.0], [51.457997, -0.968042, 33.0], [51.458022, -0.971564, 4.0], [51.458049, -0.971458, 9.0], [51.458085, -0.972131, 1.0], [51.458107, -0.971604, 4.0], [51.458143, -0.972242, 8.0], [51.458143, -0.972153, 8.0], [51.458161, -1.001974, 6.0], [51.458186, -0.967736, 9.0], [51.4582, -0.97214, 5.0], [51.458203, -0.972153, 1.0], [51.458236, -0.967605, 20.0], [51.458266, -0.972325, 4.0], [51.45827, -0.972258, 9.0], [51.458284, -0.972212, 6.0], [51.458299, -0.972361, 1.0], [51.458323, -0.967787, 15.0], [51.458351, -0.970932, 8.0], [51.458364, -0.97148, 27.0], [51.458384, -0.973398, 6.0], [51.458429, -0.972785, 4.0], [51.458431, -0.972018, 4.0], [51.458671, -0.973763, 14.0], [51.458689, -0.972863, 7.0], [51.459298, -0.958864, 10.0], [51.459338, -0.995791, 1.0], [51.45946, -0.966569, 3.0], [51.459468, -0.966601, 3.0], [51.459646, -0.955286, 25.0], [51.459724, -0.955982, 7.0], [51.459855, -0.971921, 6.0], [51.459955, -0.971928, 5.0], [51.460289, -0.971182, 8.0], [51.460521, -0.989536, 5.0], [51.462544, -0.978517, 13.0], [51.462923, -0.976893, 13.0], [51.463123, -0.982582, 3.0], [51.46436, -0.977202, 7.0], [51.464952, -0.976774, 8.0], [51.465041, -0.977245, 9.0], [51.465399, -0.978167, 5.0], [51.4657, -0.978216, 5.0], [51.465798, -0.953193, 13.0], [51.466163, -0.960644, 11.0], [51.466617, -0.955124, 4.0], [51.467298, -0.977171, 1.0], [51.467514, -0.970855, 8.0], [51.467598, -0.970824, 8.0], [51.467944, -0.972258, 6.0], [51.468075, -0.973498, 3.0], [51.468122, -0.970779, 22.0], [51.468225, -0.974513, 7.0], [51.468507, -0.971581, 1.0], [51.468651, -0.971275, 1.0], [51.468712, -1.040703, 6.0], [51.468982, -0.970786, 5.0], [51.469349, -0.970252, 3.0], [51.469452, -0.970347, 3.0], [51.469479, -0.97024, 3.0], [51.469967, -0.98499, 2.0], [51.470029, -0.980491, 13.0], [51.470664, -0.987042, 2.0], [51.471085, -0.952795, 3.0], [51.47422, -0.977598, 2.0], [51.474734, -1.045462, 2.0], [51.475161, -0.912884, 12.0], [51.475319, -0.962538, 6.0], [51.47982, -1.046741, 2.0], [51.483469, -0.989021, 5.0], [51.484834, -0.926195, 1.0]], [[51.404916, -0.973436, 2.0], [51.408876, -0.954076, 2.0], [51.413486, -0.960577, 5.0], [51.417927, -0.948586, 12.0], [51.418091, -0.968391, 1.0], [51.420142, -0.890082, 3.0], [51.420305, -0.986542, 8.0], [51.422917, -0.96466, 9.0], [51.424602, -0.969879, 7.0], [51.42486, -0.932685, 7.0], [51.427043, -0.94541, 3.0], [51.42967, -0.944711, 6.0], [51.42979, -0.885717, 6.0], [51.430496, -0.973655, 4.0], [51.43059, -0.977636, 2.0], [51.431412, -0.973611, 7.0], [51.431791, -0.949251, 3.0], [51.433863, -0.975952, 7.0], [51.434058, -0.962685, 5.0], [51.434182, -0.950287, 5.0], [51.434506, -0.954911, 3.0], [51.435202, -0.965385, 9.0], [51.435235, -0.942148, 9.0], [51.435905, -0.95427, 9.0], [51.435916, -0.949648, 9.0], [51.436048, -0.9433, 6.0], [51.436126, -0.92104, 1.0], [51.436252, -0.924026, 8.0], [51.438121, -0.909018, 2.0], [51.438224, -0.902092, 1.0], [51.438333, -0.901125, 4.0], [51.438627, -0.953799, 8.0], [51.439351, -0.962394, 4.0], [51.439433, -0.96064, 9.0], [51.439486, -0.945775, 7.0], [51.439541, -0.951198, 4.0], [51.439674, -0.96712, 30.0], [51.4397, -0.966396, 3.0], [51.439779, -0.946358, 1.0], [51.440123, -0.9478, 1.0], [51.440218, -0.966692, 17.0], [51.440253, -0.948695, 2.0], [51.440291, -0.966668, 4.0], [51.440351, -0.915492, 13.0], [51.440366, -0.915326, 7.0], [51.440388, -0.915486, 2.0], [51.440433, -0.956906, 5.0], [51.440457, -0.934079, 10.0], [51.44069, -0.964913, 3.0], [51.440716, -0.942537, 6.0], [51.44082, -0.942939, 4.0], [51.440849, -0.947873, 7.0], [51.440854, -0.923911, 5.0], [51.441124, -0.967392, 3.0], [51.441172, -1.039037, 6.0], [51.441229, -0.943701, 6.0], [51.441266, -0.943643, 9.0], [51.44132, -0.9232, 5.0], [51.441724, -0.946083, 7.0], [51.441891, -0.897939, 5.0], [51.442127, -0.961931, 5.0], [51.442137, -0.952836, 4.0], [51.442353, -0.955872, 4.0], [51.442386, -0.955935, 1.0], [51.442573, -1.0493, 8.0], [51.442679, -0.967689, 8.0], [51.44268, -0.930495, 3.0], [51.442797, -0.967758, 4.0], [51.442887, -0.955414, 8.0], [51.443087, -0.898989, 4.0], [51.443196, -0.956267, 4.0], [51.444013, -0.916388, 1.0], [51.444047, -0.9469, 3.0], [51.444158, -0.94698, 26.0], [51.444242, -0.946922, 2.0], [51.444243, -0.944965, 1.0], [51.444244, -0.9468, 7.0], [51.444255, -1.02001, 9.0], [51.444273, -0.946553, 5.0], [51.4443, -0.947315, 9.0], [51.444305, -0.947175, 5.0], [51.44448, -0.946484, 6.0], [51.444513, -0.966691, 7.0], [51.444519, -0.965196, 8.0], [51.444595, -0.949227, 3.0], [51.444643, -0.948907, 4.0], [51.44477, -0.955542, 6.0], [51.444773, -0.955425, 3.0], [51.444782, -1.015411, 3.0], [51.444823, -0.945261, 6.0], [51.444846, -0.948695, 4.0], [51.444863, -0.951944, 8.0], [51.444945, -0.945085, 6.0], [51.444979, -1.012285, 7.0], [51.444992, -1.012313, 3.0], [51.44504, -0.949189, 16.0], [51.445155, -0.950303, 8.0], [51.44522, -0.958716, 1.0], [51.445345, -0.947609, 4.0], [51.445365, -0.95602, 8.0], [51.445403, -0.958932, 3.0], [51.445533, -0.947648, 12.0], [51.445583, -0.949824, 3.0], [51.44563, -0.959867, 5.0], [51.445633, -0.937133, 2.0], [51.445667, -0.959706, 8.0], [51.445932, -0.957202, 5.0], [51.44639, -0.936651, 4.0], [51.446547, -0.932156, 1.0], [51.446649, -0.931198, 2.0], [51.446659, -0.931142, 5.0], [51.446663, -0.931219, 3.0], [51.446739, -0.976677, 6.0], [51.44676, -0.991534, 5.0], [51.446994, -0.947106, 5.0], [51.447539, -0.96366, 1.0], [51.447713, -0.950308, 5.0], [51.447996, -0.950729, 10.0], [51.448026, -0.966105, 15.0], [51.448096, -0.950759, 1.0], [51.448153, -0.950688, 3.0], [51.448356, -0.969813, 50.0], [51.448445, -0.948405, 9.0], [51.448451, -0.93526, 4.0], [51.448603, -0.934745, 9.0], [51.448624, -0.93477, 6.0], [51.448742, -0.94799, 8.0], [51.448778, -0.935823, 3.0], [51.448953, -0.940835, 14.0], [51.449074, -0.935294, 6.0], [51.449083, -0.935133, 3.0], [51.449126, -0.968323, 4.0], [51.449262, -0.957854, 1.0], [51.449294, -0.959544, 7.0], [51.449321, -0.951092, 3.0], [51.449342, -0.935336, 6.0], [51.449371, -0.94852, 7.0], [51.449379, -0.962722, 4.0], [51.449395, -0.959885, 16.0], [51.449458, -0.956998, 8.0], [51.449544, -0.95671, 9.0], [51.449612, -0.949786, 1.0], [51.449616, -0.963063, 19.0], [51.449619, -0.951317, 9.0], [51.44967, -0.950865, 2.0], [51.449691, -0.94969, 7.0], [51.449718, -0.947831, 13.0], [51.449719, -0.936058, 3.0], [51.449726, -0.963254, 1.0], [51.449783, -0.93595, 7.0], [51.449786, -0.96293, 7.0], [51.449892, -0.934425, 25.0], [51.449962, -0.94994, 3.0], [51.450038, -1.016742, 7.0], [51.450062, -0.948674, 11.0], [51.450085, -0.948476, 6.0], [51.450253, -0.947577, 18.0], [51.450266, -0.948781, 13.0], [51.450339, -0.964588, 21.0], [51.450345, -0.943506, 7.0], [51.450361, -0.94884, 13.0], [51.450493, -0.943485, 1.0], [51.450506, -0.972054, 6.0], [51.450582, -0.940204, 1.0], [51.450586, -0.950249, 3.0], [51.45076, -0.949031, 3.0], [51.450942, -0.950218, 12.0], [51.451003, -0.949443, 7.0], [51.451073, -0.945581, 1.0], [51.451312, -0.951744, 7.0], [51.451407, -0.948556, 3.0], [51.451482, -0.947869, 1.0], [51.451598, -0.960238, 28.0], [51.451689, -0.951583, 1.0], [51.451767, -0.956089, 1.0], [51.451798, -0.990321, 3.0], [51.451805, -1.018474, 5.0], [51.451842, -0.956064, 2.0], [51.451867, -0.990412, 6.0], [51.452094, -0.960477, 7.0], [51.452232, -0.956145, 1.0], [51.452264, -0.960945, 9.0], [51.452348, -0.971633, 9.0], [51.452381, -0.972221, 6.0], [51.452489, -0.972735, 4.0], [51.45251, -0.987531, 8.0], [51.452558, -0.996844, 5.0], [51.452901, -0.950335, 9.0], [51.452934, -0.968325, 4.0], [51.452936, -0.96821, 8.0], [51.452972, -0.972089, 12.0], [51.453236, -0.966745, 12.0], [51.453337, -0.947898, 6.0], [51.453449, -0.950839, 1.0], [51.453454, -0.957176, 3.0], [51.453478, -0.974303, 3.0], [51.453508, -0.990549, 9.0], [51.453575, -0.958521, 5.0], [51.453606, -0.974352, 2.0], [51.453672, -0.968391, 2.0], [51.453675, -0.956646, 5.0], [51.453763, -0.968672, 3.0], [51.453767, -0.968669, 19.0], [51.453776, -0.973707, 5.0], [51.453846, -0.968256, 6.0], [51.453859, -0.966786, 3.0], [51.453887, -0.968731, 14.0], [51.453919, -0.973348, 4.0], [51.453935, -0.973369, 4.0], [51.454137, -0.945266, 3.0], [51.454178, -0.943747, 10.0], [51.454218, -0.943832, 8.0], [51.454219, -0.973992, 4.0], [51.454221, -0.943702, 17.0], [51.45428, -0.949276, 1.0], [51.454559, -0.983035, 4.0], [51.454575, -0.97823, 4.0], [51.454615, -0.982279, 3.0], [51.454649, -0.968893, 9.0], [51.454681, -0.965326, 2.0], [51.454712, -0.966536, 9.0], [51.454776, -0.963205, 9.0], [51.454784, -0.94229, 7.0], [51.454823, -0.974736, 3.0], [51.454823, -0.974735, 9.0], [51.454825, -0.963422, 4.0], [51.454844, -0.974797, 7.0], [51.454859, -0.963443, 2.0], [51.454964, -0.963288, 3.0], [51.454966, -0.968654, 6.0], [51.454987, -0.963292, 9.0], [51.455033, -0.969628, 3.0], [51.45507, -0.968382, 1.0], [51.455119, -0.940494, 26.0], [51.45513, -0.969635, 8.0], [51.455154, -0.994471, 1.0], [51.455303, -0.941545, 8.0], [51.455326, -0.975163, 9.0], [51.455432, -0.959827, 5.0], [51.455433, -0.949175, 6.0], [51.455708, -0.955475, 6.0], [51.455772, -1.002598, 3.0], [51.455896, -0.969278, 7.0], [51.456116, -0.979223, 7.0], [51.456173, -0.978916, 7.0], [51.456227, -0.967396, 4.0], [51.456292, -0.97908, 6.0], [51.456508, -0.975385, 3.0], [51.456542, -0.9792, 24.0], [51.456641, -0.973688, 3.0], [51.45671, -0.97291, 4.0], [51.456725, -0.970472, 7.0], [51.456726, -0.973633, 1.0], [51.456792, -0.971343, 3.0], [51.45684, -0.973416, 2.0], [51.456873, -0.972893, 6.0], [51.457313, -0.968763, 1.0], [51.457424, -0.978261, 1.0], [51.457427, -0.969641, 3.0], [51.457534, -0.999988, 3.0], [51.457825, -0.972038, 7.0], [51.457884, -0.972193, 2.0], [51.457894, -0.971995, 9.0], [51.457933, -0.969222, 4.0], [51.457938, -0.970633, 3.0], [51.457949, -0.972046, 9.0], [51.457969, -0.971835, 3.0], [51.457975, -0.971745, 3.0], [51.458022, -0.971564, 4.0], [51.45803, -0.972636, 4.0], [51.458115, -0.971296, 9.0], [51.458205, -0.902101, 3.0], [51.458256, -0.967724, 4.0], [51.458269, -0.978477, 11.0], [51.45827, -0.972258, 1.0], [51.4583, -0.969753, 7.0], [51.458311, -0.978431, 11.0], [51.458353, -0.972269, 9.0], [51.458364, -0.97148, 6.0], [51.458671, -0.973763, 4.0], [51.459044, -1.004667, 8.0], [51.459646, -0.955286, 6.0], [51.459724, -0.955982, 8.0], [51.459744, -0.958841, 1.0], [51.459935, -0.970557, 14.0], [51.460114, -0.971537, 16.0], [51.461308, -0.974505, 7.0], [51.461609, -0.984318, 9.0], [51.462363, -0.972708, 12.0], [51.463459, -0.974984, 7.0], [51.46415, -0.977877, 6.0], [51.465515, -0.977271, 4.0], [51.466221, -0.960503, 3.0], [51.466426, -0.977106, 9.0], [51.466569, -0.970073, 6.0], [51.466715, -0.976976, 7.0], [51.467069, -0.976862, 3.0], [51.467298, -0.977171, 4.0], [51.467417, -0.977571, 1.0], [51.467576, -0.977587, 8.0], [51.467657, -0.975561, 3.0], [51.467944, -0.972258, 2.0], [51.468124, -0.972466, 12.0], [51.468651, -0.971275, 1.0], [51.469437, -0.97035, 5.0], [51.470449, -0.952982, 9.0], [51.470715, -0.977973, 11.0], [51.470895, -0.987106, 2.0], [51.472752, -0.959654, 15.0], [51.472971, -0.96361, 8.0], [51.475161, -0.912884, 14.0], [51.475264, -0.974322, 2.0], [51.475957, -0.915623, 5.0], [51.476339, -0.991382, 16.0], [51.479878, -1.056424, 1.0], [51.480271, -0.98561, 9.0], [51.482327, -0.962637, 4.0], [51.484026, -0.987132, 7.0], [51.484038, -0.987163, 4.0], [51.495445, -0.930675, 3.0]], [[51.4087, -0.951805, 1.0], [51.415207, -0.986641, 3.0], [51.418455, -0.950032, 8.0], [51.421318, -0.969221, 9.0], [51.422822, -0.963817, 1.0], [51.422917, -0.96466, 3.0], [51.423144, -0.984339, 6.0], [51.424434, -0.984329, 2.0], [51.424796, -0.932819, 7.0], [51.42486, -0.932685, 3.0], [51.425818, -0.984563, 5.0], [51.425965, -0.947645, 3.0], [51.427105, -0.945348, 7.0], [51.429472, -0.975491, 5.0], [51.42967, -0.944711, 38.0], [51.429685, -0.944739, 9.0], [51.42976, -0.944878, 4.0], [51.430448, -0.877359, 2.0], [51.430771, -0.950981, 3.0], [51.430815, -0.920162, 7.0], [51.431577, -0.952558, 8.0], [51.432108, -0.962315, 5.0], [51.434073, -0.96349, 3.0], [51.435905, -0.95427, 4.0], [51.436371, -0.902776, 2.0], [51.436812, -0.951741, 9.0], [51.436872, -0.891043, 5.0], [51.438156, -1.025415, 14.0], [51.439082, -0.95563, 9.0], [51.439681, -0.956369, 4.0], [51.4397, -0.966396, 14.0], [51.439731, -0.956251, 2.0], [51.439767, -0.943582, 9.0], [51.439779, -0.946358, 8.0], [51.439798, -0.909469, 1.0], [51.439808, -0.909441, 4.0], [51.439902, -0.966364, 4.0], [51.44004, -0.957291, 3.0], [51.440141, -0.947456, 7.0], [51.440262, -0.948534, 2.0], [51.440265, -0.948608, 1.0], [51.440365, -0.942839, 12.0], [51.440372, -0.956815, 11.0], [51.440386, -0.942656, 7.0], [51.440426, -0.9428, 57.0], [51.44044, -0.942809, 2.0], [51.440477, -1.049953, 9.0], [51.440498, -1.04982, 8.0], [51.440513, -0.943144, 3.0], [51.440534, -0.921874, 9.0], [51.440568, -0.922368, 4.0], [51.440787, -0.942944, 3.0], [51.44082, -0.942939, 8.0], [51.440873, -0.91797, 1.0], [51.440897, -0.918024, 2.0], [51.441104, -0.967481, 1.0], [51.441351, -1.02378, 7.0], [51.441526, -0.947579, 7.0], [51.441619, -1.025666, 3.0], [51.442028, -0.946267, 12.0], [51.44205, -0.947081, 10.0], [51.442414, -0.985655, 3.0], [51.442425, -0.944087, 15.0], [51.4426, -0.965074, 16.0], [51.44269, -0.930372, 1.0], [51.442723, -0.95707, 1.0], [51.442735, -0.936465, 9.0], [51.442759, -0.936359, 3.0], [51.442813, -0.966496, 5.0], [51.443077, -0.947665, 1.0], [51.443232, -0.965118, 1.0], [51.443369, -0.956564, 5.0], [51.443499, -1.015922, 1.0], [51.443751, -0.937356, 1.0], [51.443802, -0.959731, 3.0], [51.443918, -0.946975, 4.0], [51.443956, -0.946952, 7.0], [51.444017, -0.947733, 12.0], [51.444047, -0.9469, 22.0], [51.444061, -0.947696, 16.0], [51.444078, -0.960425, 13.0], [51.444113, -0.947696, 7.0], [51.444116, -0.947678, 6.0], [51.444144, -0.946851, 6.0], [51.444158, -0.94698, 34.0], [51.444164, -0.947619, 8.0], [51.444164, -0.946944, 7.0], [51.444165, -0.947681, 4.0], [51.444198, -0.94766, 6.0], [51.444201, -0.947629, 12.0], [51.444215, -0.947598, 7.0], [51.444216, -0.947602, 6.0], [51.444224, -0.94753, 11.0], [51.444243, -0.94761, 7.0], [51.4443, -0.947315, 16.0], [51.444305, -0.947175, 21.0], [51.444398, -1.019963, 5.0], [51.444519, -0.965196, 8.0], [51.444553, -0.947441, 6.0], [51.444643, -0.948907, 13.0], [51.444795, -0.948888, 6.0], [51.444814, -0.945236, 7.0], [51.444817, -0.945065, 15.0], [51.444823, -0.945261, 25.0], [51.444863, -0.951944, 1.0], [51.444889, -0.948439, 3.0], [51.444948, -0.945672, 1.0], [51.444953, -0.947958, 7.0], [51.445008, -1.012308, 7.0], [51.445013, -1.012323, 4.0], [51.44505, -1.012336, 7.0], [51.445076, -0.965566, 5.0], [51.445231, -0.958567, 8.0], [51.445299, -0.952295, 4.0], [51.445313, -0.959861, 7.0], [51.44534, -0.940239, 1.0], [51.445343, -0.956411, 5.0], [51.445403, -0.958932, 10.0], [51.445426, -1.025043, 6.0], [51.445435, -0.95656, 4.0], [51.445615, -0.959905, 3.0], [51.445625, -0.961304, 8.0], [51.445647, -1.02551, 24.0], [51.445689, -1.015684, 9.0], [51.44569, -0.960893, 4.0], [51.44571, -0.961323, 18.0], [51.445745, -0.959811, 5.0], [51.445859, -0.976541, 11.0], [51.4459, -1.007329, 9.0], [51.446038, -0.936619, 9.0], [51.446063, -0.936791, 6.0], [51.446257, -0.936075, 10.0], [51.446338, -0.943618, 6.0], [51.44639, -0.936651, 9.0], [51.446622, -0.944567, 9.0], [51.446834, -0.933755, 6.0], [51.44693, -0.950155, 4.0], [51.447114, -0.932818, 8.0], [51.447165, -1.002941, 5.0], [51.447206, -0.948243, 8.0], [51.447305, -1.003067, 1.0], [51.447454, -0.931751, 8.0], [51.447619, -0.950266, 1.0], [51.447623, -0.949556, 5.0], [51.44774, -0.95026, 4.0], [51.447777, -0.932779, 4.0], [51.44791, -0.932963, 3.0], [51.447934, -0.96904, 7.0], [51.448357, -0.97271, 3.0], [51.448378, -0.935539, 3.0], [51.448445, -0.948405, 10.0], [51.448663, -0.948428, 1.0], [51.448703, -0.950906, 5.0], [51.44873, -0.951113, 15.0], [51.448759, -0.937022, 16.0], [51.448879, -0.934228, 3.0], [51.448926, -0.938116, 16.0], [51.448995, -0.936326, 6.0], [51.449126, -0.968323, 3.0], [51.449145, -0.96792, 9.0], [51.449289, -0.962692, 6.0], [51.449294, -0.959544, 9.0], [51.449332, -0.959637, 4.0], [51.449349, -0.956591, 9.0], [51.449395, -0.959885, 7.0], [51.449501, -0.950487, 25.0], [51.449545, -0.959961, 9.0], [51.449568, -0.949691, 6.0], [51.449616, -0.963063, 17.0], [51.449619, -0.951317, 15.0], [51.449633, -0.949049, 3.0], [51.449635, -0.936597, 7.0], [51.449643, -0.991293, 4.0], [51.449645, -0.959695, 8.0], [51.449744, -0.962892, 3.0], [51.449754, -0.950334, 6.0], [51.449793, -0.949499, 3.0], [51.449892, -0.934425, 3.0], [51.450236, -0.968201, 4.0], [51.450253, -0.935441, 1.0], [51.450279, -0.9355, 5.0], [51.450286, -0.983631, 4.0], [51.450293, -0.947598, 7.0], [51.450332, -0.940143, 20.0], [51.450339, -0.964588, 2.0], [51.450339, -0.949098, 1.0], [51.45034, -0.968533, 22.0], [51.450345, -0.943506, 1.0], [51.45039, -0.947826, 5.0], [51.450395, -0.967879, 4.0], [51.450428, -0.983103, 2.0], [51.450431, -0.925289, 3.0], [51.450484, -0.967516, 9.0], [51.450586, -0.950249, 1.0], [51.450917, -0.950174, 1.0], [51.450942, -0.950218, 37.0], [51.451211, -0.9543, 7.0], [51.451323, -0.951614, 4.0], [51.451326, -0.949344, 9.0], [51.451407, -0.948556, 6.0], [51.451435, -0.951415, 6.0], [51.451565, -0.979221, 7.0], [51.451599, -0.96791, 5.0], [51.451668, -0.969879, 4.0], [51.451677, -1.001373, 9.0], [51.451726, -0.952027, 12.0], [51.45196, -0.990602, 7.0], [51.452094, -0.960477, 5.0], [51.452193, -0.963548, 4.0], [51.452232, -0.956145, 14.0], [51.452455, -0.972838, 4.0], [51.45251, -0.987531, 4.0], [51.452557, -0.917065, 1.0], [51.45258, -0.962507, 14.0], [51.452587, -0.96843, 6.0], [51.452643, -0.970878, 7.0], [51.452818, -0.971623, 6.0], [51.45292, -0.962228, 5.0], [51.452925, -0.950328, 5.0], [51.452952, -0.962129, 5.0], [51.453036, -0.966837, 7.0], [51.453203, -0.969207, 16.0], [51.453236, -0.966745, 15.0], [51.453337, -0.947898, 7.0], [51.453598, -0.97434, 9.0], [51.453626, -0.919383, 2.0], [51.453642, -0.971408, 6.0], [51.453682, -0.969674, 8.0], [51.453729, -0.968741, 1.0], [51.453767, -0.968669, 20.0], [51.45382, -0.968865, 8.0], [51.453858, -0.968847, 2.0], [51.453905, -0.96851, 6.0], [51.453925, -0.968999, 3.0], [51.453948, -0.969223, 11.0], [51.453983, -0.960882, 1.0], [51.453986, -0.972939, 5.0], [51.453987, -0.97297, 1.0], [51.454087, -0.968161, 9.0], [51.454135, -0.972692, 7.0], [51.454175, -0.943746, 2.0], [51.454221, -0.943702, 14.0], [51.454397, -0.974648, 3.0], [51.454413, -0.974602, 7.0], [51.454504, -0.996339, 1.0], [51.454646, -0.963407, 16.0], [51.454684, -0.966439, 4.0], [51.454694, -0.966529, 9.0], [51.454771, -0.946531, 3.0], [51.454777, -0.965303, 1.0], [51.454793, -0.946473, 2.0], [51.454802, -0.966987, 3.0], [51.454889, -0.968915, 8.0], [51.454893, -0.941853, 4.0], [51.454964, -0.963288, 7.0], [51.455033, -0.969628, 6.0], [51.455144, -0.940447, 7.0], [51.45524, -0.9771, 7.0], [51.455262, -0.976855, 7.0], [51.455283, -0.970212, 3.0], [51.455303, -0.941545, 7.0], [51.455326, -0.975163, 6.0], [51.455362, -0.975449, 6.0], [51.45539, -0.942874, 7.0], [51.455433, -0.949175, 6.0], [51.455466, -0.963626, 4.0], [51.455483, -0.941663, 12.0], [51.455485, -0.976553, 7.0], [51.455489, -0.97648, 1.0], [51.455497, -0.976327, 1.0], [51.455632, -0.980515, 5.0], [51.456002, -0.969468, 4.0], [51.456173, -0.978916, 3.0], [51.456326, -0.947231, 3.0], [51.456369, -0.975004, 5.0], [51.456374, -0.979437, 21.0], [51.456653, -0.970765, 3.0], [51.45671, -0.97291, 4.0], [51.456725, -0.970472, 1.0], [51.456816, -0.973741, 5.0], [51.456844, -0.973198, 6.0], [51.456988, -0.997177, 4.0], [51.45735, -0.970607, 1.0], [51.457419, -0.972108, 4.0], [51.45744, -1.042296, 6.0], [51.457531, -0.976373, 2.0], [51.457554, -0.970489, 7.0], [51.457825, -0.972038, 7.0], [51.457845, -1.041963, 11.0], [51.457876, -0.972185, 3.0], [51.457894, -0.971995, 8.0], [51.457948, -0.972046, 18.0], [51.457949, -0.972046, 3.0], [51.457976, -0.972284, 4.0], [51.458022, -0.971565, 3.0], [51.458022, -0.971564, 9.0], [51.458059, -0.972107, 6.0], [51.458115, -0.971296, 4.0], [51.458157, -0.980441, 4.0], [51.458256, -0.967724, 4.0], [51.458295, -0.972354, 5.0], [51.4583, -0.969753, 4.0], [51.458324, -0.972482, 2.0], [51.458364, -0.97148, 2.0], [51.458453, -0.943051, 6.0], [51.458621, -0.975439, 2.0], [51.458671, -0.973763, 9.0], [51.458758, -0.973664, 4.0], [51.459064, -0.97315, 3.0], [51.459084, -1.004676, 4.0], [51.45932, -0.973114, 4.0], [51.4595, -0.8901, 4.0], [51.45951, -0.958621, 1.0], [51.459588, -0.997218, 4.0], [51.459879, -0.971934, 16.0], [51.460102, -0.958159, 9.0], [51.460284, -0.96883, 4.0], [51.460936, -0.970299, 5.0], [51.462013, -1.015463, 9.0], [51.463005, -0.924755, 3.0], [51.463799, -0.957314, 11.0], [51.464017, -0.983112, 5.0], [51.464042, -0.978756, 3.0], [51.464204, -0.98264, 7.0], [51.464323, -0.983178, 1.0], [51.464341, -0.963914, 6.0], [51.46447, -0.9624, 7.0], [51.464908, -0.970955, 6.0], [51.465097, -1.013743, 11.0], [51.465507, -0.977268, 6.0], [51.465787, -0.97392, 9.0], [51.466261, -0.960053, 6.0], [51.46702, -0.976762, 5.0], [51.467238, -0.976996, 6.0], [51.46736, -0.97718, 2.0], [51.467443, -0.977246, 7.0], [51.46747, -0.9776, 6.0], [51.467524, -0.977692, 5.0], [51.467551, -0.973377, 4.0], [51.467619, -0.978047, 1.0], [51.467673, -0.975114, 6.0], [51.467797, -0.977918, 2.0], [51.467904, -0.972791, 3.0], [51.468274, -0.9723, 6.0], [51.468665, -0.977334, 9.0], [51.468723, -0.971328, 7.0], [51.469452, -0.970347, 3.0], [51.4696, -0.976762, 33.0], [51.469815, -0.977033, 4.0], [51.470197, -1.033519, 3.0], [51.47103, -0.953817, 3.0], [51.472651, -0.984395, 8.0], [51.472752, -0.959654, 6.0], [51.472878, -0.979817, 1.0], [51.472971, -0.96361, 26.0], [51.475161, -0.912884, 6.0], [51.477396, -0.980949, 4.0], [51.477539, -0.981043, 6.0], [51.47757, -0.980993, 4.0], [51.478795, -0.975633, 1.0], [51.479878, -1.056424, 1.0], [51.480256, -0.985233, 1.0], [51.480431, -0.985165, 4.0], [51.488001, -0.961459, 11.0], [51.489001, -0.93619, 6.0], [51.489049, -0.965444, 4.0], [51.4892, -0.936487, 1.0]]],\n",
       "                {heatmapOptions: {\n",
       "                        radius: 10,\n",
       "                        blur: 0.8,\n",
       "                        minOpacity: 0,\n",
       "                        maxOpacity: 0.7,\n",
       "                        scaleRadius: false,\n",
       "                        useLocalExtrema: false,\n",
       "                        defaultWeight: 1,\n",
       "                        \n",
       "                    }\n",
       "                });\n",
       "\n",
       "        \n",
       "    \n",
       "            heat_map_f189c042d4a21cd9a0de397b27380558.addTo(map_6ceef2466224422ddcea63ff3cb95632);\n",
       "        \n",
       "&lt;/script&gt;\n",
       "&lt;/html&gt;\" style=\"position:absolute;width:100%;height:100%;left:0;top:0;border:none !important;\" allowfullscreen webkitallowfullscreen mozallowfullscreen></iframe></div></div>"
      ],
      "text/plain": [
       "<folium.folium.Map at 0x2b9155910a0>"
      ]
     },
     "metadata": {},
     "output_type": "display_data"
    }
   ],
   "source": [
    "time_index = sorted(hour_order_fails['order_hour'].unique())\n",
    "heat_data = []\n",
    "\n",
    "for hour in time_index:\n",
    "    data_for_hour = hour_order_fails[hour_order_fails['order_hour'] == hour][['latitude', 'longitude', 'failed_order_count']].values.tolist()\n",
    "    heat_data.append(data_for_hour)\n",
    "\n",
    "\n",
    "time_intensity_map = folium.Map(location=[df['latitude'].mean(), df['longitude'].mean()], zoom_start=12)\n",
    "\n",
    "HeatMapWithTime(heat_data, index=time_index, radius=10, auto_play=True, max_opacity=0.7).add_to(time_intensity_map)\n",
    "\n",
    "# time_intensity_map.save(\"/content/drive/MyDrive/Colab Notebooks/Insights from Failed Orders/datasets/time_intensity_map.html\")\n",
    "\n",
    "display(time_intensity_map)\n"
   ]
  },
  {
   "cell_type": "code",
   "execution_count": 52,
   "metadata": {
    "executionInfo": {
     "elapsed": 33,
     "status": "ok",
     "timestamp": 1734336659838,
     "user": {
      "displayName": "Nila Ko",
      "userId": "09641442724310039362"
     },
     "user_tz": 480
    },
    "id": "euinkmLIum0d"
   },
   "outputs": [],
   "source": []
  },
  {
   "cell_type": "code",
   "execution_count": 52,
   "metadata": {
    "executionInfo": {
     "elapsed": 30,
     "status": "ok",
     "timestamp": 1734336659838,
     "user": {
      "displayName": "Nila Ko",
      "userId": "09641442724310039362"
     },
     "user_tz": 480
    },
    "id": "hiq1fObkumw4"
   },
   "outputs": [],
   "source": []
  },
  {
   "cell_type": "code",
   "execution_count": 52,
   "metadata": {
    "executionInfo": {
     "elapsed": 29,
     "status": "ok",
     "timestamp": 1734336659839,
     "user": {
      "displayName": "Nila Ko",
      "userId": "09641442724310039362"
     },
     "user_tz": 480
    },
    "id": "InSN8tSPOaRu"
   },
   "outputs": [],
   "source": []
  },
  {
   "cell_type": "code",
   "execution_count": 52,
   "metadata": {
    "executionInfo": {
     "elapsed": 25,
     "status": "ok",
     "timestamp": 1734336659839,
     "user": {
      "displayName": "Nila Ko",
      "userId": "09641442724310039362"
     },
     "user_tz": 480
    },
    "id": "EvvNKJEmPGXC"
   },
   "outputs": [],
   "source": []
  }
 ],
 "metadata": {
  "colab": {
   "collapsed_sections": [
    "UGHnjqrMOyqH",
    "esZufUnTOyqH",
    "oD4c76ikOyqI",
    "k-JrHMOKOyqL",
    "8DbpfVvGOyqL"
   ],
   "provenance": []
  },
  "kernelspec": {
   "display_name": "base",
   "language": "python",
   "name": "python3"
  },
  "language_info": {
   "codemirror_mode": {
    "name": "ipython",
    "version": 3
   },
   "file_extension": ".py",
   "mimetype": "text/x-python",
   "name": "python",
   "nbconvert_exporter": "python",
   "pygments_lexer": "ipython3",
   "version": "3.12.4"
  }
 },
 "nbformat": 4,
 "nbformat_minor": 0
}
